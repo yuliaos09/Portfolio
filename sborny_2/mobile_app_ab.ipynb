{
 "cells": [
  {
   "cell_type": "code",
   "execution_count": 1,
   "metadata": {},
   "outputs": [],
   "source": [
    "import pandas as pd\n",
    "import datetime\n",
    "import numpy as np\n",
    "import seaborn as sns\n",
    "import matplotlib\n",
    "import matplotlib.pyplot as plt\n",
    "import warnings\n",
    "from pandas.core.common import SettingWithCopyWarning\n",
    "warnings.simplefilter(action=\"ignore\", category=SettingWithCopyWarning)\n",
    "from scipy import stats as st\n",
    "import scipy.stats as stats\n",
    "import math as mth"
   ]
  },
  {
   "cell_type": "markdown",
   "metadata": {},
   "source": [
    "# Сборный проект 2. Анализ  воронки событий мобильного приложения и исследование результатов A/A/B-эксперимента"
   ]
  },
  {
   "cell_type": "markdown",
   "metadata": {},
   "source": [
    "**Описание:**\n",
    "\n",
    "Cтартап, который продаёт продукты питания, планирует разобраться, как ведут себя пользователи мобильного приложения и внести изменения в интерфейс (поменять шрифт). Для этого нужно проанализировать воронку событий и исследовать результаты A/A/B-эксперимента.\n",
    "\n",
    "**Цель:**\n",
    "\n",
    "- Проанализироовать воронку событий;\n",
    "- исследовать результаты A/A/B-эксперимента;\n",
    "- принять решение о смене шрифта по результатам A/A/B-теста. \n",
    "\n",
    "**Описание данных:**\n",
    "\n",
    "Каждая запись в логе — это действие пользователя, или событие.\n",
    "EventName — название события;\n",
    "DeviceIDHash — уникальный идентификатор пользователя;\n",
    "EventTimestamp — время события;\n",
    "ExpId — номер эксперимента: 246 и 247 — контрольные группы, а 248 — экспериментальная.\n",
    "\n",
    "\n",
    "**Этапы работы:**\n",
    "\n",
    "**Часть 1. Изучение и подготовка данных**\n",
    "\n",
    "1) Изучить данные;\n",
    "2) заменить названия столбцов на удобные;\n",
    "3) проверить пропуски и типы данных;\n",
    "4) добавить столбец даты и времени, а также отдельный столбец дат;\n",
    "5) посчитать, сколько всего событий в логе;\n",
    "6) посчитать, сколько всего пользователей в логе;\n",
    "7) посчитать, сколько в среднем событий приходится на пользователя;\n",
    "8) определить период данных,найти максимальную и минимальную дату;\n",
    "9) изучить, как меняется количество данных: построить столбчатую диаграмму;\n",
    "10) проверить, что есть пользователи из всех трёх экспериментальных групп.\n",
    "\n",
    "**Часть 3. Изучение воронки событий**\n",
    "\n",
    "1) Посмотреть, какие события есть в логах, как часто они встречаются. Отсортировать события по частоте;\n",
    "2) посчитать, сколько пользователей совершали каждое из этих событий. Отсортировать события по числу пользователей;\n",
    "3) посчитать долю пользователей, которые хоть раз совершали событие;\n",
    "4) проанализировать, в каком порядке происходят события;\n",
    "5) по воронке событий посчитать, какая доля пользователей проходит на следующий шаг воронки (от числа пользователей на предыдущем);\n",
    "6) определить, на каком шаге теряется больше всего пользователей;\n",
    "7) определить, какая доля пользователей доходит от первого события до оплаты.\n",
    "\n",
    "**Часть 4. Изучение результатов эксперимента**\n",
    "\n",
    "1) Посчитать, сколько пользователей в каждой экспериментальной группе;\n",
    "2) проверить, находят ли статистические критерии разницу между контрольными группами 246 и 247;\n",
    "3) выбрать самое популярное событие и посчитать число пользователей, совершивших это событие в каждой из контрольных групп. Посчитать долю пользователей, совершивших это событие. Проверить, будет ли отличие между группами статистически достоверным. С помощью функции сделать то же самое для всех других событий;\n",
    "4) сравнить результаты экспериментальной группы 248 с каждой из контрольных групп в отдельности по каждому событию. Сравнить результаты с объединённой контрольной группой. Сделать выводы из эксперимента;\n",
    "5) описать, какой уровень значимости был выбран при проверке статистических гипотез и посчитать, сколько проверок гипотез было сделано."
   ]
  },
  {
   "cell_type": "markdown",
   "metadata": {},
   "source": [
    "### Общая информация"
   ]
  },
  {
   "cell_type": "code",
   "execution_count": 2,
   "metadata": {},
   "outputs": [],
   "source": [
    "data = pd.read_csv('/datasets/logs_exp.csv', sep='\\t')"
   ]
  },
  {
   "cell_type": "code",
   "execution_count": 3,
   "metadata": {},
   "outputs": [
    {
     "name": "stdout",
     "output_type": "stream",
     "text": [
      "<class 'pandas.core.frame.DataFrame'>\n",
      "RangeIndex: 244126 entries, 0 to 244125\n",
      "Data columns (total 4 columns):\n",
      " #   Column          Non-Null Count   Dtype \n",
      "---  ------          --------------   ----- \n",
      " 0   EventName       244126 non-null  object\n",
      " 1   DeviceIDHash    244126 non-null  int64 \n",
      " 2   EventTimestamp  244126 non-null  int64 \n",
      " 3   ExpId           244126 non-null  int64 \n",
      "dtypes: int64(3), object(1)\n",
      "memory usage: 7.5+ MB\n"
     ]
    }
   ],
   "source": [
    "data.info()"
   ]
  },
  {
   "cell_type": "code",
   "execution_count": 4,
   "metadata": {},
   "outputs": [
    {
     "data": {
      "text/html": [
       "<div>\n",
       "<style scoped>\n",
       "    .dataframe tbody tr th:only-of-type {\n",
       "        vertical-align: middle;\n",
       "    }\n",
       "\n",
       "    .dataframe tbody tr th {\n",
       "        vertical-align: top;\n",
       "    }\n",
       "\n",
       "    .dataframe thead th {\n",
       "        text-align: right;\n",
       "    }\n",
       "</style>\n",
       "<table border=\"1\" class=\"dataframe\">\n",
       "  <thead>\n",
       "    <tr style=\"text-align: right;\">\n",
       "      <th></th>\n",
       "      <th>EventName</th>\n",
       "      <th>DeviceIDHash</th>\n",
       "      <th>EventTimestamp</th>\n",
       "      <th>ExpId</th>\n",
       "    </tr>\n",
       "  </thead>\n",
       "  <tbody>\n",
       "    <tr>\n",
       "      <th>0</th>\n",
       "      <td>MainScreenAppear</td>\n",
       "      <td>4575588528974610257</td>\n",
       "      <td>1564029816</td>\n",
       "      <td>246</td>\n",
       "    </tr>\n",
       "    <tr>\n",
       "      <th>1</th>\n",
       "      <td>MainScreenAppear</td>\n",
       "      <td>7416695313311560658</td>\n",
       "      <td>1564053102</td>\n",
       "      <td>246</td>\n",
       "    </tr>\n",
       "    <tr>\n",
       "      <th>2</th>\n",
       "      <td>PaymentScreenSuccessful</td>\n",
       "      <td>3518123091307005509</td>\n",
       "      <td>1564054127</td>\n",
       "      <td>248</td>\n",
       "    </tr>\n",
       "    <tr>\n",
       "      <th>3</th>\n",
       "      <td>CartScreenAppear</td>\n",
       "      <td>3518123091307005509</td>\n",
       "      <td>1564054127</td>\n",
       "      <td>248</td>\n",
       "    </tr>\n",
       "    <tr>\n",
       "      <th>4</th>\n",
       "      <td>PaymentScreenSuccessful</td>\n",
       "      <td>6217807653094995999</td>\n",
       "      <td>1564055322</td>\n",
       "      <td>248</td>\n",
       "    </tr>\n",
       "  </tbody>\n",
       "</table>\n",
       "</div>"
      ],
      "text/plain": [
       "                 EventName         DeviceIDHash  EventTimestamp  ExpId\n",
       "0         MainScreenAppear  4575588528974610257      1564029816    246\n",
       "1         MainScreenAppear  7416695313311560658      1564053102    246\n",
       "2  PaymentScreenSuccessful  3518123091307005509      1564054127    248\n",
       "3         CartScreenAppear  3518123091307005509      1564054127    248\n",
       "4  PaymentScreenSuccessful  6217807653094995999      1564055322    248"
      ]
     },
     "execution_count": 4,
     "metadata": {},
     "output_type": "execute_result"
    }
   ],
   "source": [
    "data.head()"
   ]
  },
  {
   "cell_type": "markdown",
   "metadata": {},
   "source": [
    "В датафрейме нет пропущенных значений. Для удобства работы необходимо переименовать столбцы и добавить столбцы с датой в формате даты."
   ]
  },
  {
   "cell_type": "markdown",
   "metadata": {},
   "source": [
    "### Подготовка данных"
   ]
  },
  {
   "cell_type": "markdown",
   "metadata": {},
   "source": [
    "#### Названия столбцов"
   ]
  },
  {
   "cell_type": "code",
   "execution_count": 5,
   "metadata": {},
   "outputs": [],
   "source": [
    "data = data.rename(\n",
    "    columns = {\n",
    "        'EventName': 'event_name', \n",
    "        'DeviceIDHash': 'device_id_hash',\n",
    "        'EventTimestamp': 'event_timestamp',\n",
    "        'ExpId': 'exp_id'\n",
    "    }\n",
    ")"
   ]
  },
  {
   "cell_type": "code",
   "execution_count": 6,
   "metadata": {},
   "outputs": [
    {
     "data": {
      "text/html": [
       "<div>\n",
       "<style scoped>\n",
       "    .dataframe tbody tr th:only-of-type {\n",
       "        vertical-align: middle;\n",
       "    }\n",
       "\n",
       "    .dataframe tbody tr th {\n",
       "        vertical-align: top;\n",
       "    }\n",
       "\n",
       "    .dataframe thead th {\n",
       "        text-align: right;\n",
       "    }\n",
       "</style>\n",
       "<table border=\"1\" class=\"dataframe\">\n",
       "  <thead>\n",
       "    <tr style=\"text-align: right;\">\n",
       "      <th></th>\n",
       "      <th>event_name</th>\n",
       "      <th>device_id_hash</th>\n",
       "      <th>event_timestamp</th>\n",
       "      <th>exp_id</th>\n",
       "    </tr>\n",
       "  </thead>\n",
       "  <tbody>\n",
       "    <tr>\n",
       "      <th>0</th>\n",
       "      <td>MainScreenAppear</td>\n",
       "      <td>4575588528974610257</td>\n",
       "      <td>1564029816</td>\n",
       "      <td>246</td>\n",
       "    </tr>\n",
       "    <tr>\n",
       "      <th>1</th>\n",
       "      <td>MainScreenAppear</td>\n",
       "      <td>7416695313311560658</td>\n",
       "      <td>1564053102</td>\n",
       "      <td>246</td>\n",
       "    </tr>\n",
       "    <tr>\n",
       "      <th>2</th>\n",
       "      <td>PaymentScreenSuccessful</td>\n",
       "      <td>3518123091307005509</td>\n",
       "      <td>1564054127</td>\n",
       "      <td>248</td>\n",
       "    </tr>\n",
       "    <tr>\n",
       "      <th>3</th>\n",
       "      <td>CartScreenAppear</td>\n",
       "      <td>3518123091307005509</td>\n",
       "      <td>1564054127</td>\n",
       "      <td>248</td>\n",
       "    </tr>\n",
       "    <tr>\n",
       "      <th>4</th>\n",
       "      <td>PaymentScreenSuccessful</td>\n",
       "      <td>6217807653094995999</td>\n",
       "      <td>1564055322</td>\n",
       "      <td>248</td>\n",
       "    </tr>\n",
       "    <tr>\n",
       "      <th>...</th>\n",
       "      <td>...</td>\n",
       "      <td>...</td>\n",
       "      <td>...</td>\n",
       "      <td>...</td>\n",
       "    </tr>\n",
       "    <tr>\n",
       "      <th>244121</th>\n",
       "      <td>MainScreenAppear</td>\n",
       "      <td>4599628364049201812</td>\n",
       "      <td>1565212345</td>\n",
       "      <td>247</td>\n",
       "    </tr>\n",
       "    <tr>\n",
       "      <th>244122</th>\n",
       "      <td>MainScreenAppear</td>\n",
       "      <td>5849806612437486590</td>\n",
       "      <td>1565212439</td>\n",
       "      <td>246</td>\n",
       "    </tr>\n",
       "    <tr>\n",
       "      <th>244123</th>\n",
       "      <td>MainScreenAppear</td>\n",
       "      <td>5746969938801999050</td>\n",
       "      <td>1565212483</td>\n",
       "      <td>246</td>\n",
       "    </tr>\n",
       "    <tr>\n",
       "      <th>244124</th>\n",
       "      <td>MainScreenAppear</td>\n",
       "      <td>5746969938801999050</td>\n",
       "      <td>1565212498</td>\n",
       "      <td>246</td>\n",
       "    </tr>\n",
       "    <tr>\n",
       "      <th>244125</th>\n",
       "      <td>OffersScreenAppear</td>\n",
       "      <td>5746969938801999050</td>\n",
       "      <td>1565212517</td>\n",
       "      <td>246</td>\n",
       "    </tr>\n",
       "  </tbody>\n",
       "</table>\n",
       "<p>244126 rows × 4 columns</p>\n",
       "</div>"
      ],
      "text/plain": [
       "                     event_name       device_id_hash  event_timestamp  exp_id\n",
       "0              MainScreenAppear  4575588528974610257       1564029816     246\n",
       "1              MainScreenAppear  7416695313311560658       1564053102     246\n",
       "2       PaymentScreenSuccessful  3518123091307005509       1564054127     248\n",
       "3              CartScreenAppear  3518123091307005509       1564054127     248\n",
       "4       PaymentScreenSuccessful  6217807653094995999       1564055322     248\n",
       "...                         ...                  ...              ...     ...\n",
       "244121         MainScreenAppear  4599628364049201812       1565212345     247\n",
       "244122         MainScreenAppear  5849806612437486590       1565212439     246\n",
       "244123         MainScreenAppear  5746969938801999050       1565212483     246\n",
       "244124         MainScreenAppear  5746969938801999050       1565212498     246\n",
       "244125       OffersScreenAppear  5746969938801999050       1565212517     246\n",
       "\n",
       "[244126 rows x 4 columns]"
      ]
     },
     "execution_count": 6,
     "metadata": {},
     "output_type": "execute_result"
    }
   ],
   "source": [
    "data"
   ]
  },
  {
   "cell_type": "markdown",
   "metadata": {},
   "source": [
    "Названия столбцов теперь указаны в змеином регистре, который удобнее использовать для работы и чтения."
   ]
  },
  {
   "cell_type": "markdown",
   "metadata": {},
   "source": [
    "#### Проверка пропусков и типов данных"
   ]
  },
  {
   "cell_type": "markdown",
   "metadata": {},
   "source": [
    "Проверим тип данных:"
   ]
  },
  {
   "cell_type": "code",
   "execution_count": 7,
   "metadata": {},
   "outputs": [
    {
     "name": "stdout",
     "output_type": "stream",
     "text": [
      "<class 'pandas.core.frame.DataFrame'>\n",
      "RangeIndex: 244126 entries, 0 to 244125\n",
      "Data columns (total 4 columns):\n",
      " #   Column           Non-Null Count   Dtype \n",
      "---  ------           --------------   ----- \n",
      " 0   event_name       244126 non-null  object\n",
      " 1   device_id_hash   244126 non-null  int64 \n",
      " 2   event_timestamp  244126 non-null  int64 \n",
      " 3   exp_id           244126 non-null  int64 \n",
      "dtypes: int64(3), object(1)\n",
      "memory usage: 7.5+ MB\n"
     ]
    }
   ],
   "source": [
    "data.info()"
   ]
  },
  {
   "cell_type": "code",
   "execution_count": 8,
   "metadata": {},
   "outputs": [
    {
     "data": {
      "text/plain": [
       "413"
      ]
     },
     "execution_count": 8,
     "metadata": {},
     "output_type": "execute_result"
    }
   ],
   "source": [
    "data.duplicated().sum()"
   ]
  },
  {
   "cell_type": "markdown",
   "metadata": {},
   "source": [
    "В данных имеется 413 полных дубликатов. Из 244126 строк это очень малая часть, поэтому мы просто их удалим."
   ]
  },
  {
   "cell_type": "code",
   "execution_count": 9,
   "metadata": {},
   "outputs": [],
   "source": [
    "data = data.drop_duplicates(keep='first')"
   ]
  },
  {
   "cell_type": "code",
   "execution_count": 10,
   "metadata": {},
   "outputs": [
    {
     "data": {
      "text/plain": [
       "0"
      ]
     },
     "execution_count": 10,
     "metadata": {},
     "output_type": "execute_result"
    }
   ],
   "source": [
    "data.duplicated().sum()"
   ]
  },
  {
   "cell_type": "code",
   "execution_count": 11,
   "metadata": {},
   "outputs": [
    {
     "data": {
      "text/plain": [
       "event_name         0\n",
       "device_id_hash     0\n",
       "event_timestamp    0\n",
       "exp_id             0\n",
       "dtype: int64"
      ]
     },
     "execution_count": 11,
     "metadata": {},
     "output_type": "execute_result"
    }
   ],
   "source": [
    "data.isna().sum()"
   ]
  },
  {
   "cell_type": "markdown",
   "metadata": {},
   "source": [
    "#### Добавление столбца даты и времени, а также столбца дат"
   ]
  },
  {
   "cell_type": "code",
   "execution_count": 12,
   "metadata": {},
   "outputs": [
    {
     "name": "stdout",
     "output_type": "stream",
     "text": [
      "<class 'pandas.core.frame.DataFrame'>\n",
      "Int64Index: 243713 entries, 0 to 244125\n",
      "Data columns (total 4 columns):\n",
      " #   Column           Non-Null Count   Dtype \n",
      "---  ------           --------------   ----- \n",
      " 0   event_name       243713 non-null  object\n",
      " 1   device_id_hash   243713 non-null  int64 \n",
      " 2   event_timestamp  243713 non-null  int64 \n",
      " 3   exp_id           243713 non-null  int64 \n",
      "dtypes: int64(3), object(1)\n",
      "memory usage: 9.3+ MB\n"
     ]
    }
   ],
   "source": [
    "data.info()"
   ]
  },
  {
   "cell_type": "markdown",
   "metadata": {},
   "source": [
    "Для удобства анализа данных с учетом времени добавим столбец с датой, а также столбец с датой временем:"
   ]
  },
  {
   "cell_type": "code",
   "execution_count": 13,
   "metadata": {},
   "outputs": [],
   "source": [
    "data['event_datetime'] = pd.to_datetime(data['event_timestamp'], unit='s')"
   ]
  },
  {
   "cell_type": "code",
   "execution_count": 14,
   "metadata": {},
   "outputs": [],
   "source": [
    "data['event_date'] = pd.to_datetime(data['event_datetime']).dt.date"
   ]
  },
  {
   "cell_type": "code",
   "execution_count": 15,
   "metadata": {},
   "outputs": [
    {
     "data": {
      "text/html": [
       "<div>\n",
       "<style scoped>\n",
       "    .dataframe tbody tr th:only-of-type {\n",
       "        vertical-align: middle;\n",
       "    }\n",
       "\n",
       "    .dataframe tbody tr th {\n",
       "        vertical-align: top;\n",
       "    }\n",
       "\n",
       "    .dataframe thead th {\n",
       "        text-align: right;\n",
       "    }\n",
       "</style>\n",
       "<table border=\"1\" class=\"dataframe\">\n",
       "  <thead>\n",
       "    <tr style=\"text-align: right;\">\n",
       "      <th></th>\n",
       "      <th>event_name</th>\n",
       "      <th>device_id_hash</th>\n",
       "      <th>event_timestamp</th>\n",
       "      <th>exp_id</th>\n",
       "      <th>event_datetime</th>\n",
       "      <th>event_date</th>\n",
       "    </tr>\n",
       "  </thead>\n",
       "  <tbody>\n",
       "    <tr>\n",
       "      <th>0</th>\n",
       "      <td>MainScreenAppear</td>\n",
       "      <td>4575588528974610257</td>\n",
       "      <td>1564029816</td>\n",
       "      <td>246</td>\n",
       "      <td>2019-07-25 04:43:36</td>\n",
       "      <td>2019-07-25</td>\n",
       "    </tr>\n",
       "    <tr>\n",
       "      <th>1</th>\n",
       "      <td>MainScreenAppear</td>\n",
       "      <td>7416695313311560658</td>\n",
       "      <td>1564053102</td>\n",
       "      <td>246</td>\n",
       "      <td>2019-07-25 11:11:42</td>\n",
       "      <td>2019-07-25</td>\n",
       "    </tr>\n",
       "    <tr>\n",
       "      <th>2</th>\n",
       "      <td>PaymentScreenSuccessful</td>\n",
       "      <td>3518123091307005509</td>\n",
       "      <td>1564054127</td>\n",
       "      <td>248</td>\n",
       "      <td>2019-07-25 11:28:47</td>\n",
       "      <td>2019-07-25</td>\n",
       "    </tr>\n",
       "    <tr>\n",
       "      <th>3</th>\n",
       "      <td>CartScreenAppear</td>\n",
       "      <td>3518123091307005509</td>\n",
       "      <td>1564054127</td>\n",
       "      <td>248</td>\n",
       "      <td>2019-07-25 11:28:47</td>\n",
       "      <td>2019-07-25</td>\n",
       "    </tr>\n",
       "    <tr>\n",
       "      <th>4</th>\n",
       "      <td>PaymentScreenSuccessful</td>\n",
       "      <td>6217807653094995999</td>\n",
       "      <td>1564055322</td>\n",
       "      <td>248</td>\n",
       "      <td>2019-07-25 11:48:42</td>\n",
       "      <td>2019-07-25</td>\n",
       "    </tr>\n",
       "    <tr>\n",
       "      <th>...</th>\n",
       "      <td>...</td>\n",
       "      <td>...</td>\n",
       "      <td>...</td>\n",
       "      <td>...</td>\n",
       "      <td>...</td>\n",
       "      <td>...</td>\n",
       "    </tr>\n",
       "    <tr>\n",
       "      <th>244121</th>\n",
       "      <td>MainScreenAppear</td>\n",
       "      <td>4599628364049201812</td>\n",
       "      <td>1565212345</td>\n",
       "      <td>247</td>\n",
       "      <td>2019-08-07 21:12:25</td>\n",
       "      <td>2019-08-07</td>\n",
       "    </tr>\n",
       "    <tr>\n",
       "      <th>244122</th>\n",
       "      <td>MainScreenAppear</td>\n",
       "      <td>5849806612437486590</td>\n",
       "      <td>1565212439</td>\n",
       "      <td>246</td>\n",
       "      <td>2019-08-07 21:13:59</td>\n",
       "      <td>2019-08-07</td>\n",
       "    </tr>\n",
       "    <tr>\n",
       "      <th>244123</th>\n",
       "      <td>MainScreenAppear</td>\n",
       "      <td>5746969938801999050</td>\n",
       "      <td>1565212483</td>\n",
       "      <td>246</td>\n",
       "      <td>2019-08-07 21:14:43</td>\n",
       "      <td>2019-08-07</td>\n",
       "    </tr>\n",
       "    <tr>\n",
       "      <th>244124</th>\n",
       "      <td>MainScreenAppear</td>\n",
       "      <td>5746969938801999050</td>\n",
       "      <td>1565212498</td>\n",
       "      <td>246</td>\n",
       "      <td>2019-08-07 21:14:58</td>\n",
       "      <td>2019-08-07</td>\n",
       "    </tr>\n",
       "    <tr>\n",
       "      <th>244125</th>\n",
       "      <td>OffersScreenAppear</td>\n",
       "      <td>5746969938801999050</td>\n",
       "      <td>1565212517</td>\n",
       "      <td>246</td>\n",
       "      <td>2019-08-07 21:15:17</td>\n",
       "      <td>2019-08-07</td>\n",
       "    </tr>\n",
       "  </tbody>\n",
       "</table>\n",
       "<p>243713 rows × 6 columns</p>\n",
       "</div>"
      ],
      "text/plain": [
       "                     event_name       device_id_hash  event_timestamp  exp_id  \\\n",
       "0              MainScreenAppear  4575588528974610257       1564029816     246   \n",
       "1              MainScreenAppear  7416695313311560658       1564053102     246   \n",
       "2       PaymentScreenSuccessful  3518123091307005509       1564054127     248   \n",
       "3              CartScreenAppear  3518123091307005509       1564054127     248   \n",
       "4       PaymentScreenSuccessful  6217807653094995999       1564055322     248   \n",
       "...                         ...                  ...              ...     ...   \n",
       "244121         MainScreenAppear  4599628364049201812       1565212345     247   \n",
       "244122         MainScreenAppear  5849806612437486590       1565212439     246   \n",
       "244123         MainScreenAppear  5746969938801999050       1565212483     246   \n",
       "244124         MainScreenAppear  5746969938801999050       1565212498     246   \n",
       "244125       OffersScreenAppear  5746969938801999050       1565212517     246   \n",
       "\n",
       "            event_datetime  event_date  \n",
       "0      2019-07-25 04:43:36  2019-07-25  \n",
       "1      2019-07-25 11:11:42  2019-07-25  \n",
       "2      2019-07-25 11:28:47  2019-07-25  \n",
       "3      2019-07-25 11:28:47  2019-07-25  \n",
       "4      2019-07-25 11:48:42  2019-07-25  \n",
       "...                    ...         ...  \n",
       "244121 2019-08-07 21:12:25  2019-08-07  \n",
       "244122 2019-08-07 21:13:59  2019-08-07  \n",
       "244123 2019-08-07 21:14:43  2019-08-07  \n",
       "244124 2019-08-07 21:14:58  2019-08-07  \n",
       "244125 2019-08-07 21:15:17  2019-08-07  \n",
       "\n",
       "[243713 rows x 6 columns]"
      ]
     },
     "execution_count": 15,
     "metadata": {},
     "output_type": "execute_result"
    }
   ],
   "source": [
    "data"
   ]
  },
  {
   "cell_type": "markdown",
   "metadata": {},
   "source": [
    "**Результаты подготовки данных о логах:**\n",
    "\n",
    "- установлено, что в датафрейме нет пропусков;\n",
    "- выявлены и удалены полные дубликаты - 413 строчек;\n",
    "- добавлены столбцы с датой и датой и временем в формате datetime64;\n",
    "- названия столбцов приведены к змеиному регистру."
   ]
  },
  {
   "cell_type": "markdown",
   "metadata": {},
   "source": [
    "### Изучение и проверка данных"
   ]
  },
  {
   "cell_type": "markdown",
   "metadata": {},
   "source": [
    "#### Количество событий в логе"
   ]
  },
  {
   "cell_type": "code",
   "execution_count": 16,
   "metadata": {},
   "outputs": [
    {
     "data": {
      "text/plain": [
       "243713"
      ]
     },
     "execution_count": 16,
     "metadata": {},
     "output_type": "execute_result"
    }
   ],
   "source": [
    "data['event_name'].count()"
   ]
  },
  {
   "cell_type": "code",
   "execution_count": 17,
   "metadata": {},
   "outputs": [
    {
     "data": {
      "text/plain": [
       "array(['MainScreenAppear', 'PaymentScreenSuccessful', 'CartScreenAppear',\n",
       "       'OffersScreenAppear', 'Tutorial'], dtype=object)"
      ]
     },
     "execution_count": 17,
     "metadata": {},
     "output_type": "execute_result"
    }
   ],
   "source": [
    "data['event_name'].unique()"
   ]
  },
  {
   "cell_type": "markdown",
   "metadata": {},
   "source": [
    "Данные содержат 243713 событий и 5 видов событий:\n",
    "\n",
    "- MainScreenAppear\n",
    "- PaymentScreenSuccessful\n",
    "- CartScreenAppear\n",
    "- OffersScreenAppear\n",
    "- Tutorial"
   ]
  },
  {
   "cell_type": "markdown",
   "metadata": {},
   "source": [
    "#### Количество пользователей в логе"
   ]
  },
  {
   "cell_type": "markdown",
   "metadata": {},
   "source": [
    "Количество уникальных пользователей в логе:"
   ]
  },
  {
   "cell_type": "code",
   "execution_count": 18,
   "metadata": {},
   "outputs": [
    {
     "data": {
      "text/plain": [
       "7551"
      ]
     },
     "execution_count": 18,
     "metadata": {},
     "output_type": "execute_result"
    }
   ],
   "source": [
    "data['device_id_hash'].nunique()"
   ]
  },
  {
   "cell_type": "markdown",
   "metadata": {},
   "source": [
    "#### Среднее количество событий на пользователя"
   ]
  },
  {
   "cell_type": "code",
   "execution_count": 19,
   "metadata": {},
   "outputs": [
    {
     "data": {
      "text/plain": [
       "event_name  count    32.275593\n",
       "dtype: float64"
      ]
     },
     "execution_count": 19,
     "metadata": {},
     "output_type": "execute_result"
    }
   ],
   "source": [
    "data.groupby('device_id_hash').agg({'event_name': ['count']}).mean()"
   ]
  },
  {
   "cell_type": "markdown",
   "metadata": {},
   "source": [
    "В среднем каждый пользователь совершил 32 события."
   ]
  },
  {
   "cell_type": "markdown",
   "metadata": {},
   "source": [
    "#### Период данных"
   ]
  },
  {
   "cell_type": "markdown",
   "metadata": {},
   "source": [
    "1) Максимальная и минимальная дата лога"
   ]
  },
  {
   "cell_type": "code",
   "execution_count": 20,
   "metadata": {},
   "outputs": [
    {
     "data": {
      "text/plain": [
       "datetime.date(2019, 8, 7)"
      ]
     },
     "execution_count": 20,
     "metadata": {},
     "output_type": "execute_result"
    }
   ],
   "source": [
    "data['event_date'].max()"
   ]
  },
  {
   "cell_type": "code",
   "execution_count": 21,
   "metadata": {},
   "outputs": [
    {
     "data": {
      "text/plain": [
       "datetime.date(2019, 7, 25)"
      ]
     },
     "execution_count": 21,
     "metadata": {},
     "output_type": "execute_result"
    }
   ],
   "source": [
    "data['event_date'].min()"
   ]
  },
  {
   "cell_type": "markdown",
   "metadata": {},
   "source": [
    "Перед нами логи за период с 25 июля 2019 по 7 августа 2019."
   ]
  },
  {
   "cell_type": "markdown",
   "metadata": {},
   "source": [
    "2) Столбчатая диаграмма зависимости количества событий от времени в разрезе групп"
   ]
  },
  {
   "cell_type": "code",
   "execution_count": 22,
   "metadata": {},
   "outputs": [
    {
     "data": {
      "text/html": [
       "<div>\n",
       "<style scoped>\n",
       "    .dataframe tbody tr th:only-of-type {\n",
       "        vertical-align: middle;\n",
       "    }\n",
       "\n",
       "    .dataframe tbody tr th {\n",
       "        vertical-align: top;\n",
       "    }\n",
       "\n",
       "    .dataframe thead tr th {\n",
       "        text-align: left;\n",
       "    }\n",
       "\n",
       "    .dataframe thead tr:last-of-type th {\n",
       "        text-align: right;\n",
       "    }\n",
       "</style>\n",
       "<table border=\"1\" class=\"dataframe\">\n",
       "  <thead>\n",
       "    <tr>\n",
       "      <th></th>\n",
       "      <th colspan=\"3\" halign=\"left\">event_name</th>\n",
       "    </tr>\n",
       "    <tr>\n",
       "      <th>exp_id</th>\n",
       "      <th>246</th>\n",
       "      <th>247</th>\n",
       "      <th>248</th>\n",
       "    </tr>\n",
       "    <tr>\n",
       "      <th>event_date</th>\n",
       "      <th></th>\n",
       "      <th></th>\n",
       "      <th></th>\n",
       "    </tr>\n",
       "  </thead>\n",
       "  <tbody>\n",
       "    <tr>\n",
       "      <th>2019-07-25</th>\n",
       "      <td>4</td>\n",
       "      <td>1</td>\n",
       "      <td>4</td>\n",
       "    </tr>\n",
       "    <tr>\n",
       "      <th>2019-07-26</th>\n",
       "      <td>14</td>\n",
       "      <td>8</td>\n",
       "      <td>9</td>\n",
       "    </tr>\n",
       "    <tr>\n",
       "      <th>2019-07-27</th>\n",
       "      <td>24</td>\n",
       "      <td>23</td>\n",
       "      <td>8</td>\n",
       "    </tr>\n",
       "    <tr>\n",
       "      <th>2019-07-28</th>\n",
       "      <td>33</td>\n",
       "      <td>36</td>\n",
       "      <td>36</td>\n",
       "    </tr>\n",
       "    <tr>\n",
       "      <th>2019-07-29</th>\n",
       "      <td>55</td>\n",
       "      <td>58</td>\n",
       "      <td>71</td>\n",
       "    </tr>\n",
       "    <tr>\n",
       "      <th>2019-07-30</th>\n",
       "      <td>129</td>\n",
       "      <td>138</td>\n",
       "      <td>145</td>\n",
       "    </tr>\n",
       "    <tr>\n",
       "      <th>2019-07-31</th>\n",
       "      <td>620</td>\n",
       "      <td>664</td>\n",
       "      <td>746</td>\n",
       "    </tr>\n",
       "    <tr>\n",
       "      <th>2019-08-01</th>\n",
       "      <td>11561</td>\n",
       "      <td>12306</td>\n",
       "      <td>12274</td>\n",
       "    </tr>\n",
       "    <tr>\n",
       "      <th>2019-08-02</th>\n",
       "      <td>10946</td>\n",
       "      <td>10990</td>\n",
       "      <td>13618</td>\n",
       "    </tr>\n",
       "    <tr>\n",
       "      <th>2019-08-03</th>\n",
       "      <td>10575</td>\n",
       "      <td>11024</td>\n",
       "      <td>11683</td>\n",
       "    </tr>\n",
       "    <tr>\n",
       "      <th>2019-08-04</th>\n",
       "      <td>11514</td>\n",
       "      <td>9942</td>\n",
       "      <td>11512</td>\n",
       "    </tr>\n",
       "    <tr>\n",
       "      <th>2019-08-05</th>\n",
       "      <td>12368</td>\n",
       "      <td>10949</td>\n",
       "      <td>12741</td>\n",
       "    </tr>\n",
       "    <tr>\n",
       "      <th>2019-08-06</th>\n",
       "      <td>11726</td>\n",
       "      <td>11720</td>\n",
       "      <td>12342</td>\n",
       "    </tr>\n",
       "    <tr>\n",
       "      <th>2019-08-07</th>\n",
       "      <td>10612</td>\n",
       "      <td>10091</td>\n",
       "      <td>10393</td>\n",
       "    </tr>\n",
       "  </tbody>\n",
       "</table>\n",
       "</div>"
      ],
      "text/plain": [
       "           event_name              \n",
       "exp_id            246    247    248\n",
       "event_date                         \n",
       "2019-07-25          4      1      4\n",
       "2019-07-26         14      8      9\n",
       "2019-07-27         24     23      8\n",
       "2019-07-28         33     36     36\n",
       "2019-07-29         55     58     71\n",
       "2019-07-30        129    138    145\n",
       "2019-07-31        620    664    746\n",
       "2019-08-01      11561  12306  12274\n",
       "2019-08-02      10946  10990  13618\n",
       "2019-08-03      10575  11024  11683\n",
       "2019-08-04      11514   9942  11512\n",
       "2019-08-05      12368  10949  12741\n",
       "2019-08-06      11726  11720  12342\n",
       "2019-08-07      10612  10091  10393"
      ]
     },
     "execution_count": 22,
     "metadata": {},
     "output_type": "execute_result"
    }
   ],
   "source": [
    "events_per_group = data.pivot_table(\n",
    "    index=['event_date'], \n",
    "    columns = 'exp_id',\n",
    "    values=['event_name'],\n",
    "    aggfunc='count'\n",
    ")\n",
    "\n",
    "events_per_group"
   ]
  },
  {
   "cell_type": "markdown",
   "metadata": {},
   "source": [
    "Как мы видим, с увеличением даты количество событий растет."
   ]
  },
  {
   "cell_type": "code",
   "execution_count": 23,
   "metadata": {},
   "outputs": [
    {
     "data": {
      "image/png": "[encoded data removed]",
      "text/plain": [
       "<Figure size 432x288 with 1 Axes>"
      ]
     },
     "metadata": {
      "needs_background": "light"
     },
     "output_type": "display_data"
    }
   ],
   "source": [
    "events_per_group.plot.bar()\n",
    "plt.grid(True)\n",
    "plt.title('Диаграмма зависимости количества событий от времени в разрезе групп')\n",
    "plt.xlabel('Дата события')\n",
    "plt.ylabel('Количество событий');"
   ]
  },
  {
   "cell_type": "markdown",
   "metadata": {},
   "source": [
    "Данные становятся полными с 1 августа 2019 года."
   ]
  },
  {
   "cell_type": "markdown",
   "metadata": {},
   "source": [
    "3) Отбросим неполные данные"
   ]
  },
  {
   "cell_type": "code",
   "execution_count": 24,
   "metadata": {},
   "outputs": [],
   "source": [
    "data_full = data.query('event_date >= datetime.date(2019,8,1)')"
   ]
  },
  {
   "cell_type": "code",
   "execution_count": 25,
   "metadata": {},
   "outputs": [
    {
     "data": {
      "text/html": [
       "<div>\n",
       "<style scoped>\n",
       "    .dataframe tbody tr th:only-of-type {\n",
       "        vertical-align: middle;\n",
       "    }\n",
       "\n",
       "    .dataframe tbody tr th {\n",
       "        vertical-align: top;\n",
       "    }\n",
       "\n",
       "    .dataframe thead th {\n",
       "        text-align: right;\n",
       "    }\n",
       "</style>\n",
       "<table border=\"1\" class=\"dataframe\">\n",
       "  <thead>\n",
       "    <tr style=\"text-align: right;\">\n",
       "      <th></th>\n",
       "      <th>event_name</th>\n",
       "      <th>device_id_hash</th>\n",
       "      <th>event_timestamp</th>\n",
       "      <th>exp_id</th>\n",
       "      <th>event_datetime</th>\n",
       "      <th>event_date</th>\n",
       "    </tr>\n",
       "  </thead>\n",
       "  <tbody>\n",
       "    <tr>\n",
       "      <th>2828</th>\n",
       "      <td>Tutorial</td>\n",
       "      <td>3737462046622621720</td>\n",
       "      <td>1564618048</td>\n",
       "      <td>246</td>\n",
       "      <td>2019-08-01 00:07:28</td>\n",
       "      <td>2019-08-01</td>\n",
       "    </tr>\n",
       "    <tr>\n",
       "      <th>2829</th>\n",
       "      <td>MainScreenAppear</td>\n",
       "      <td>3737462046622621720</td>\n",
       "      <td>1564618080</td>\n",
       "      <td>246</td>\n",
       "      <td>2019-08-01 00:08:00</td>\n",
       "      <td>2019-08-01</td>\n",
       "    </tr>\n",
       "    <tr>\n",
       "      <th>2830</th>\n",
       "      <td>MainScreenAppear</td>\n",
       "      <td>3737462046622621720</td>\n",
       "      <td>1564618135</td>\n",
       "      <td>246</td>\n",
       "      <td>2019-08-01 00:08:55</td>\n",
       "      <td>2019-08-01</td>\n",
       "    </tr>\n",
       "    <tr>\n",
       "      <th>2831</th>\n",
       "      <td>OffersScreenAppear</td>\n",
       "      <td>3737462046622621720</td>\n",
       "      <td>1564618138</td>\n",
       "      <td>246</td>\n",
       "      <td>2019-08-01 00:08:58</td>\n",
       "      <td>2019-08-01</td>\n",
       "    </tr>\n",
       "    <tr>\n",
       "      <th>2832</th>\n",
       "      <td>MainScreenAppear</td>\n",
       "      <td>1433840883824088890</td>\n",
       "      <td>1564618139</td>\n",
       "      <td>247</td>\n",
       "      <td>2019-08-01 00:08:59</td>\n",
       "      <td>2019-08-01</td>\n",
       "    </tr>\n",
       "    <tr>\n",
       "      <th>...</th>\n",
       "      <td>...</td>\n",
       "      <td>...</td>\n",
       "      <td>...</td>\n",
       "      <td>...</td>\n",
       "      <td>...</td>\n",
       "      <td>...</td>\n",
       "    </tr>\n",
       "    <tr>\n",
       "      <th>244121</th>\n",
       "      <td>MainScreenAppear</td>\n",
       "      <td>4599628364049201812</td>\n",
       "      <td>1565212345</td>\n",
       "      <td>247</td>\n",
       "      <td>2019-08-07 21:12:25</td>\n",
       "      <td>2019-08-07</td>\n",
       "    </tr>\n",
       "    <tr>\n",
       "      <th>244122</th>\n",
       "      <td>MainScreenAppear</td>\n",
       "      <td>5849806612437486590</td>\n",
       "      <td>1565212439</td>\n",
       "      <td>246</td>\n",
       "      <td>2019-08-07 21:13:59</td>\n",
       "      <td>2019-08-07</td>\n",
       "    </tr>\n",
       "    <tr>\n",
       "      <th>244123</th>\n",
       "      <td>MainScreenAppear</td>\n",
       "      <td>5746969938801999050</td>\n",
       "      <td>1565212483</td>\n",
       "      <td>246</td>\n",
       "      <td>2019-08-07 21:14:43</td>\n",
       "      <td>2019-08-07</td>\n",
       "    </tr>\n",
       "    <tr>\n",
       "      <th>244124</th>\n",
       "      <td>MainScreenAppear</td>\n",
       "      <td>5746969938801999050</td>\n",
       "      <td>1565212498</td>\n",
       "      <td>246</td>\n",
       "      <td>2019-08-07 21:14:58</td>\n",
       "      <td>2019-08-07</td>\n",
       "    </tr>\n",
       "    <tr>\n",
       "      <th>244125</th>\n",
       "      <td>OffersScreenAppear</td>\n",
       "      <td>5746969938801999050</td>\n",
       "      <td>1565212517</td>\n",
       "      <td>246</td>\n",
       "      <td>2019-08-07 21:15:17</td>\n",
       "      <td>2019-08-07</td>\n",
       "    </tr>\n",
       "  </tbody>\n",
       "</table>\n",
       "<p>240887 rows × 6 columns</p>\n",
       "</div>"
      ],
      "text/plain": [
       "                event_name       device_id_hash  event_timestamp  exp_id  \\\n",
       "2828              Tutorial  3737462046622621720       1564618048     246   \n",
       "2829      MainScreenAppear  3737462046622621720       1564618080     246   \n",
       "2830      MainScreenAppear  3737462046622621720       1564618135     246   \n",
       "2831    OffersScreenAppear  3737462046622621720       1564618138     246   \n",
       "2832      MainScreenAppear  1433840883824088890       1564618139     247   \n",
       "...                    ...                  ...              ...     ...   \n",
       "244121    MainScreenAppear  4599628364049201812       1565212345     247   \n",
       "244122    MainScreenAppear  5849806612437486590       1565212439     246   \n",
       "244123    MainScreenAppear  5746969938801999050       1565212483     246   \n",
       "244124    MainScreenAppear  5746969938801999050       1565212498     246   \n",
       "244125  OffersScreenAppear  5746969938801999050       1565212517     246   \n",
       "\n",
       "            event_datetime  event_date  \n",
       "2828   2019-08-01 00:07:28  2019-08-01  \n",
       "2829   2019-08-01 00:08:00  2019-08-01  \n",
       "2830   2019-08-01 00:08:55  2019-08-01  \n",
       "2831   2019-08-01 00:08:58  2019-08-01  \n",
       "2832   2019-08-01 00:08:59  2019-08-01  \n",
       "...                    ...         ...  \n",
       "244121 2019-08-07 21:12:25  2019-08-07  \n",
       "244122 2019-08-07 21:13:59  2019-08-07  \n",
       "244123 2019-08-07 21:14:43  2019-08-07  \n",
       "244124 2019-08-07 21:14:58  2019-08-07  \n",
       "244125 2019-08-07 21:15:17  2019-08-07  \n",
       "\n",
       "[240887 rows x 6 columns]"
      ]
     },
     "execution_count": 25,
     "metadata": {},
     "output_type": "execute_result"
    }
   ],
   "source": [
    "data_full"
   ]
  },
  {
   "cell_type": "markdown",
   "metadata": {},
   "source": [
    "#### Количество отброшенных записей и пользователей"
   ]
  },
  {
   "cell_type": "code",
   "execution_count": 26,
   "metadata": {},
   "outputs": [
    {
     "data": {
      "text/html": [
       "<div>\n",
       "<style scoped>\n",
       "    .dataframe tbody tr th:only-of-type {\n",
       "        vertical-align: middle;\n",
       "    }\n",
       "\n",
       "    .dataframe tbody tr th {\n",
       "        vertical-align: top;\n",
       "    }\n",
       "\n",
       "    .dataframe thead th {\n",
       "        text-align: right;\n",
       "    }\n",
       "</style>\n",
       "<table border=\"1\" class=\"dataframe\">\n",
       "  <thead>\n",
       "    <tr style=\"text-align: right;\">\n",
       "      <th></th>\n",
       "      <th>event_name</th>\n",
       "      <th>device_id_hash</th>\n",
       "      <th>event_timestamp</th>\n",
       "      <th>exp_id</th>\n",
       "      <th>event_datetime</th>\n",
       "      <th>event_date</th>\n",
       "    </tr>\n",
       "  </thead>\n",
       "  <tbody>\n",
       "    <tr>\n",
       "      <th>0</th>\n",
       "      <td>MainScreenAppear</td>\n",
       "      <td>4575588528974610257</td>\n",
       "      <td>1564029816</td>\n",
       "      <td>246</td>\n",
       "      <td>2019-07-25 04:43:36</td>\n",
       "      <td>2019-07-25</td>\n",
       "    </tr>\n",
       "    <tr>\n",
       "      <th>1</th>\n",
       "      <td>MainScreenAppear</td>\n",
       "      <td>7416695313311560658</td>\n",
       "      <td>1564053102</td>\n",
       "      <td>246</td>\n",
       "      <td>2019-07-25 11:11:42</td>\n",
       "      <td>2019-07-25</td>\n",
       "    </tr>\n",
       "    <tr>\n",
       "      <th>2</th>\n",
       "      <td>PaymentScreenSuccessful</td>\n",
       "      <td>3518123091307005509</td>\n",
       "      <td>1564054127</td>\n",
       "      <td>248</td>\n",
       "      <td>2019-07-25 11:28:47</td>\n",
       "      <td>2019-07-25</td>\n",
       "    </tr>\n",
       "    <tr>\n",
       "      <th>3</th>\n",
       "      <td>CartScreenAppear</td>\n",
       "      <td>3518123091307005509</td>\n",
       "      <td>1564054127</td>\n",
       "      <td>248</td>\n",
       "      <td>2019-07-25 11:28:47</td>\n",
       "      <td>2019-07-25</td>\n",
       "    </tr>\n",
       "    <tr>\n",
       "      <th>4</th>\n",
       "      <td>PaymentScreenSuccessful</td>\n",
       "      <td>6217807653094995999</td>\n",
       "      <td>1564055322</td>\n",
       "      <td>248</td>\n",
       "      <td>2019-07-25 11:48:42</td>\n",
       "      <td>2019-07-25</td>\n",
       "    </tr>\n",
       "    <tr>\n",
       "      <th>...</th>\n",
       "      <td>...</td>\n",
       "      <td>...</td>\n",
       "      <td>...</td>\n",
       "      <td>...</td>\n",
       "      <td>...</td>\n",
       "      <td>...</td>\n",
       "    </tr>\n",
       "    <tr>\n",
       "      <th>2823</th>\n",
       "      <td>OffersScreenAppear</td>\n",
       "      <td>2413191300976302222</td>\n",
       "      <td>1564617295</td>\n",
       "      <td>247</td>\n",
       "      <td>2019-07-31 23:54:55</td>\n",
       "      <td>2019-07-31</td>\n",
       "    </tr>\n",
       "    <tr>\n",
       "      <th>2824</th>\n",
       "      <td>MainScreenAppear</td>\n",
       "      <td>5505110279185484837</td>\n",
       "      <td>1564617450</td>\n",
       "      <td>247</td>\n",
       "      <td>2019-07-31 23:57:30</td>\n",
       "      <td>2019-07-31</td>\n",
       "    </tr>\n",
       "    <tr>\n",
       "      <th>2825</th>\n",
       "      <td>MainScreenAppear</td>\n",
       "      <td>5505110279185484837</td>\n",
       "      <td>1564617462</td>\n",
       "      <td>247</td>\n",
       "      <td>2019-07-31 23:57:42</td>\n",
       "      <td>2019-07-31</td>\n",
       "    </tr>\n",
       "    <tr>\n",
       "      <th>2826</th>\n",
       "      <td>MainScreenAppear</td>\n",
       "      <td>5505110279185484837</td>\n",
       "      <td>1564617472</td>\n",
       "      <td>247</td>\n",
       "      <td>2019-07-31 23:57:52</td>\n",
       "      <td>2019-07-31</td>\n",
       "    </tr>\n",
       "    <tr>\n",
       "      <th>2827</th>\n",
       "      <td>MainScreenAppear</td>\n",
       "      <td>2413191300976302222</td>\n",
       "      <td>1564617599</td>\n",
       "      <td>247</td>\n",
       "      <td>2019-07-31 23:59:59</td>\n",
       "      <td>2019-07-31</td>\n",
       "    </tr>\n",
       "  </tbody>\n",
       "</table>\n",
       "<p>2826 rows × 6 columns</p>\n",
       "</div>"
      ],
      "text/plain": [
       "                   event_name       device_id_hash  event_timestamp  exp_id  \\\n",
       "0            MainScreenAppear  4575588528974610257       1564029816     246   \n",
       "1            MainScreenAppear  7416695313311560658       1564053102     246   \n",
       "2     PaymentScreenSuccessful  3518123091307005509       1564054127     248   \n",
       "3            CartScreenAppear  3518123091307005509       1564054127     248   \n",
       "4     PaymentScreenSuccessful  6217807653094995999       1564055322     248   \n",
       "...                       ...                  ...              ...     ...   \n",
       "2823       OffersScreenAppear  2413191300976302222       1564617295     247   \n",
       "2824         MainScreenAppear  5505110279185484837       1564617450     247   \n",
       "2825         MainScreenAppear  5505110279185484837       1564617462     247   \n",
       "2826         MainScreenAppear  5505110279185484837       1564617472     247   \n",
       "2827         MainScreenAppear  2413191300976302222       1564617599     247   \n",
       "\n",
       "          event_datetime  event_date  \n",
       "0    2019-07-25 04:43:36  2019-07-25  \n",
       "1    2019-07-25 11:11:42  2019-07-25  \n",
       "2    2019-07-25 11:28:47  2019-07-25  \n",
       "3    2019-07-25 11:28:47  2019-07-25  \n",
       "4    2019-07-25 11:48:42  2019-07-25  \n",
       "...                  ...         ...  \n",
       "2823 2019-07-31 23:54:55  2019-07-31  \n",
       "2824 2019-07-31 23:57:30  2019-07-31  \n",
       "2825 2019-07-31 23:57:42  2019-07-31  \n",
       "2826 2019-07-31 23:57:52  2019-07-31  \n",
       "2827 2019-07-31 23:59:59  2019-07-31  \n",
       "\n",
       "[2826 rows x 6 columns]"
      ]
     },
     "execution_count": 26,
     "metadata": {},
     "output_type": "execute_result"
    }
   ],
   "source": [
    "data.query('event_date < datetime.date(2019,8,1)')"
   ]
  },
  {
   "cell_type": "code",
   "execution_count": 27,
   "metadata": {},
   "outputs": [
    {
     "name": "stdout",
     "output_type": "stream",
     "text": [
      "Количество событий до фильтрации: 243713\n",
      "Количество событий после фильтрации: 240887\n",
      "Изменение количества событий после фильтрации: -2826\n",
      "Доля изменения количества событий после фильтрации: -1.2\n"
     ]
    }
   ],
   "source": [
    "events_change_rate = (data_full['event_datetime'].count() / data['event_datetime'].count() - 1) * 100\n",
    "events_change = data_full['event_datetime'].count() - data['event_datetime'].count()\n",
    "print('Количество событий до фильтрации:', data['event_datetime'].count())\n",
    "print('Количество событий после фильтрации:', data_full['event_datetime'].count())\n",
    "print(f'Изменение количества событий после фильтрации: {events_change}')\n",
    "print(f'Доля изменения количества событий после фильтрации: {round(events_change_rate, 1)}')"
   ]
  },
  {
   "cell_type": "code",
   "execution_count": 28,
   "metadata": {},
   "outputs": [
    {
     "name": "stdout",
     "output_type": "stream",
     "text": [
      "Количество пользователей до фильтрации: 7551\n",
      "Количество пользователей после фильтрации: 7534\n",
      "Изменение количества пользователейй после фильтрации: -17\n",
      "Доля изменения количества пользователей после фильтрации: -0.2\n"
     ]
    }
   ],
   "source": [
    "users_change_rate = (data_full['device_id_hash'].nunique() / data['device_id_hash'].nunique() - 1) * 100\n",
    "users_change = data_full['device_id_hash'].nunique() - data['device_id_hash'].nunique()\n",
    "print('Количество пользователей до фильтрации:', data['device_id_hash'].nunique())\n",
    "print('Количество пользователей после фильтрации:', data_full['device_id_hash'].nunique())\n",
    "print(f'Изменение количества пользователейй после фильтрации: {users_change}')\n",
    "print(f'Доля изменения количества пользователей после фильтрации: {round(users_change_rate, 1)}')"
   ]
  },
  {
   "cell_type": "markdown",
   "metadata": {},
   "source": [
    "Отсеяв период, за который имеются неполные данные, было потеряно 2826 событий и 17 уникальных пользователей, что составляет 1.2% и 0.2% от общего объема данных соответственно."
   ]
  },
  {
   "cell_type": "markdown",
   "metadata": {},
   "source": [
    "#### Проверка наличия трёх экспериментальных групп"
   ]
  },
  {
   "cell_type": "code",
   "execution_count": 29,
   "metadata": {},
   "outputs": [
    {
     "data": {
      "text/html": [
       "<div>\n",
       "<style scoped>\n",
       "    .dataframe tbody tr th:only-of-type {\n",
       "        vertical-align: middle;\n",
       "    }\n",
       "\n",
       "    .dataframe tbody tr th {\n",
       "        vertical-align: top;\n",
       "    }\n",
       "\n",
       "    .dataframe thead tr th {\n",
       "        text-align: left;\n",
       "    }\n",
       "\n",
       "    .dataframe thead tr:last-of-type th {\n",
       "        text-align: right;\n",
       "    }\n",
       "</style>\n",
       "<table border=\"1\" class=\"dataframe\">\n",
       "  <thead>\n",
       "    <tr>\n",
       "      <th></th>\n",
       "      <th colspan=\"3\" halign=\"left\">event_name</th>\n",
       "    </tr>\n",
       "    <tr>\n",
       "      <th>exp_id</th>\n",
       "      <th>246</th>\n",
       "      <th>247</th>\n",
       "      <th>248</th>\n",
       "    </tr>\n",
       "    <tr>\n",
       "      <th>event_date</th>\n",
       "      <th></th>\n",
       "      <th></th>\n",
       "      <th></th>\n",
       "    </tr>\n",
       "  </thead>\n",
       "  <tbody>\n",
       "    <tr>\n",
       "      <th>2019-08-01</th>\n",
       "      <td>11561</td>\n",
       "      <td>12306</td>\n",
       "      <td>12274</td>\n",
       "    </tr>\n",
       "    <tr>\n",
       "      <th>2019-08-02</th>\n",
       "      <td>10946</td>\n",
       "      <td>10990</td>\n",
       "      <td>13618</td>\n",
       "    </tr>\n",
       "    <tr>\n",
       "      <th>2019-08-03</th>\n",
       "      <td>10575</td>\n",
       "      <td>11024</td>\n",
       "      <td>11683</td>\n",
       "    </tr>\n",
       "    <tr>\n",
       "      <th>2019-08-04</th>\n",
       "      <td>11514</td>\n",
       "      <td>9942</td>\n",
       "      <td>11512</td>\n",
       "    </tr>\n",
       "    <tr>\n",
       "      <th>2019-08-05</th>\n",
       "      <td>12368</td>\n",
       "      <td>10949</td>\n",
       "      <td>12741</td>\n",
       "    </tr>\n",
       "    <tr>\n",
       "      <th>2019-08-06</th>\n",
       "      <td>11726</td>\n",
       "      <td>11720</td>\n",
       "      <td>12342</td>\n",
       "    </tr>\n",
       "    <tr>\n",
       "      <th>2019-08-07</th>\n",
       "      <td>10612</td>\n",
       "      <td>10091</td>\n",
       "      <td>10393</td>\n",
       "    </tr>\n",
       "  </tbody>\n",
       "</table>\n",
       "</div>"
      ],
      "text/plain": [
       "           event_name              \n",
       "exp_id            246    247    248\n",
       "event_date                         \n",
       "2019-08-01      11561  12306  12274\n",
       "2019-08-02      10946  10990  13618\n",
       "2019-08-03      10575  11024  11683\n",
       "2019-08-04      11514   9942  11512\n",
       "2019-08-05      12368  10949  12741\n",
       "2019-08-06      11726  11720  12342\n",
       "2019-08-07      10612  10091  10393"
      ]
     },
     "execution_count": 29,
     "metadata": {},
     "output_type": "execute_result"
    }
   ],
   "source": [
    "events_per_group_full = data_full.pivot_table(\n",
    "    index=['event_date'], \n",
    "    columns = 'exp_id',\n",
    "    values=['event_name'],\n",
    "    aggfunc='count'\n",
    ")\n",
    "\n",
    "events_per_group_full"
   ]
  },
  {
   "cell_type": "markdown",
   "metadata": {},
   "source": [
    "После фильтрации данных остались все три экспериментальные группы. Таким образом, можно перейти к следующему шагу нашего исследования."
   ]
  },
  {
   "cell_type": "markdown",
   "metadata": {},
   "source": [
    "**Результаты проверки данных о логах:**\n",
    "\n",
    "- данные содержат 243713 событий и 5 видов событий: MainScreenAppear, PaymentScreenSuccessful, CartScreenAppear, OffersScreenAppear, Tutorial;\n",
    "- количество уникальных пользователей в логе: 7551. В среднем каждый пользователь совершил 32 события;\n",
    "- данные представлены за период с 25 июля 2019 по 7 августа 2019;\n",
    "- данные становятся полными с 1 августа 2019 года;\n",
    "- отсеяв период, за который имеются неполные данные, было потеряно 2826 событий и 17 уникальных пользователей, что составляет 1.2% и 0.2% от общего объема данных соответсвенно."
   ]
  },
  {
   "cell_type": "markdown",
   "metadata": {},
   "source": [
    "### Исследование воронки событий"
   ]
  },
  {
   "cell_type": "markdown",
   "metadata": {},
   "source": [
    "#### Типы событий в логе и их частота"
   ]
  },
  {
   "cell_type": "code",
   "execution_count": 30,
   "metadata": {},
   "outputs": [
    {
     "data": {
      "text/html": [
       "<div>\n",
       "<style scoped>\n",
       "    .dataframe tbody tr th:only-of-type {\n",
       "        vertical-align: middle;\n",
       "    }\n",
       "\n",
       "    .dataframe tbody tr th {\n",
       "        vertical-align: top;\n",
       "    }\n",
       "\n",
       "    .dataframe thead th {\n",
       "        text-align: right;\n",
       "    }\n",
       "</style>\n",
       "<table border=\"1\" class=\"dataframe\">\n",
       "  <thead>\n",
       "    <tr style=\"text-align: right;\">\n",
       "      <th></th>\n",
       "      <th>device_id_hash</th>\n",
       "    </tr>\n",
       "    <tr>\n",
       "      <th>event_name</th>\n",
       "      <th></th>\n",
       "    </tr>\n",
       "  </thead>\n",
       "  <tbody>\n",
       "    <tr>\n",
       "      <th>MainScreenAppear</th>\n",
       "      <td>117328</td>\n",
       "    </tr>\n",
       "    <tr>\n",
       "      <th>OffersScreenAppear</th>\n",
       "      <td>46333</td>\n",
       "    </tr>\n",
       "    <tr>\n",
       "      <th>CartScreenAppear</th>\n",
       "      <td>42303</td>\n",
       "    </tr>\n",
       "    <tr>\n",
       "      <th>PaymentScreenSuccessful</th>\n",
       "      <td>33918</td>\n",
       "    </tr>\n",
       "    <tr>\n",
       "      <th>Tutorial</th>\n",
       "      <td>1005</td>\n",
       "    </tr>\n",
       "  </tbody>\n",
       "</table>\n",
       "</div>"
      ],
      "text/plain": [
       "                         device_id_hash\n",
       "event_name                             \n",
       "MainScreenAppear                 117328\n",
       "OffersScreenAppear                46333\n",
       "CartScreenAppear                  42303\n",
       "PaymentScreenSuccessful           33918\n",
       "Tutorial                           1005"
      ]
     },
     "execution_count": 30,
     "metadata": {},
     "output_type": "execute_result"
    }
   ],
   "source": [
    "events_count = data_full.groupby('event_name').agg(\n",
    "    {'device_id_hash': 'count'}\n",
    ").sort_values(by=(['device_id_hash']), ascending = False)\n",
    "\n",
    "events_count"
   ]
  },
  {
   "cell_type": "code",
   "execution_count": 31,
   "metadata": {},
   "outputs": [
    {
     "data": {
      "image/png": "[encoded data removed]",
      "text/plain": [
       "<Figure size 432x288 with 1 Axes>"
      ]
     },
     "metadata": {
      "needs_background": "light"
     },
     "output_type": "display_data"
    }
   ],
   "source": [
    "events_count.sort_values(by=(['device_id_hash']), ascending = True).plot.barh()\n",
    "plt.grid(True)\n",
    "plt.title('Диаграмма типов событий в логе и их частота')\n",
    "plt.xlabel('Количество')\n",
    "plt.ylabel('Событие');"
   ]
  },
  {
   "cell_type": "markdown",
   "metadata": {},
   "source": [
    "Чаще всего встречалось событие MainScreenAppear (главный экран) - 117328 раз. Реже всего 1005 раз пользователи оставались на экране Tutorial (обучение)."
   ]
  },
  {
   "cell_type": "markdown",
   "metadata": {},
   "source": [
    "#### Количество пользователей, совершавших каждое из событий"
   ]
  },
  {
   "cell_type": "markdown",
   "metadata": {},
   "source": [
    "Сгруппируем количество уникальных пользователей по видам событий:"
   ]
  },
  {
   "cell_type": "code",
   "execution_count": 32,
   "metadata": {},
   "outputs": [
    {
     "data": {
      "text/html": [
       "<div>\n",
       "<style scoped>\n",
       "    .dataframe tbody tr th:only-of-type {\n",
       "        vertical-align: middle;\n",
       "    }\n",
       "\n",
       "    .dataframe tbody tr th {\n",
       "        vertical-align: top;\n",
       "    }\n",
       "\n",
       "    .dataframe thead th {\n",
       "        text-align: right;\n",
       "    }\n",
       "</style>\n",
       "<table border=\"1\" class=\"dataframe\">\n",
       "  <thead>\n",
       "    <tr style=\"text-align: right;\">\n",
       "      <th></th>\n",
       "      <th>device_id_hash</th>\n",
       "    </tr>\n",
       "    <tr>\n",
       "      <th>event_name</th>\n",
       "      <th></th>\n",
       "    </tr>\n",
       "  </thead>\n",
       "  <tbody>\n",
       "    <tr>\n",
       "      <th>MainScreenAppear</th>\n",
       "      <td>7419</td>\n",
       "    </tr>\n",
       "    <tr>\n",
       "      <th>OffersScreenAppear</th>\n",
       "      <td>4593</td>\n",
       "    </tr>\n",
       "    <tr>\n",
       "      <th>CartScreenAppear</th>\n",
       "      <td>3734</td>\n",
       "    </tr>\n",
       "    <tr>\n",
       "      <th>PaymentScreenSuccessful</th>\n",
       "      <td>3539</td>\n",
       "    </tr>\n",
       "    <tr>\n",
       "      <th>Tutorial</th>\n",
       "      <td>840</td>\n",
       "    </tr>\n",
       "  </tbody>\n",
       "</table>\n",
       "</div>"
      ],
      "text/plain": [
       "                         device_id_hash\n",
       "event_name                             \n",
       "MainScreenAppear                   7419\n",
       "OffersScreenAppear                 4593\n",
       "CartScreenAppear                   3734\n",
       "PaymentScreenSuccessful            3539\n",
       "Tutorial                            840"
      ]
     },
     "execution_count": 32,
     "metadata": {},
     "output_type": "execute_result"
    }
   ],
   "source": [
    "users_count = data_full.groupby('event_name').agg(\n",
    "    {'device_id_hash': 'nunique'}\n",
    ").sort_values(by='device_id_hash', ascending=False)\n",
    "users_count"
   ]
  },
  {
   "cell_type": "code",
   "execution_count": 33,
   "metadata": {},
   "outputs": [
    {
     "data": {
      "image/png": "[encoded data removed]",
      "text/plain": [
       "<Figure size 432x288 with 1 Axes>"
      ]
     },
     "metadata": {
      "needs_background": "light"
     },
     "output_type": "display_data"
    }
   ],
   "source": [
    "users_count.sort_values(by=(['device_id_hash']), ascending = True).plot.barh()\n",
    "plt.grid(True)\n",
    "plt.title('Диаграмма типов событий в логе и их частота')\n",
    "plt.xlabel('Количество пользователей')\n",
    "plt.ylabel('Событие');"
   ]
  },
  {
   "cell_type": "code",
   "execution_count": 34,
   "metadata": {},
   "outputs": [],
   "source": [
    "users_count['rate'] = round(users_count['device_id_hash'] / data_full['device_id_hash'].nunique() * 100, 2)"
   ]
  },
  {
   "cell_type": "code",
   "execution_count": 35,
   "metadata": {},
   "outputs": [
    {
     "data": {
      "text/html": [
       "<div>\n",
       "<style scoped>\n",
       "    .dataframe tbody tr th:only-of-type {\n",
       "        vertical-align: middle;\n",
       "    }\n",
       "\n",
       "    .dataframe tbody tr th {\n",
       "        vertical-align: top;\n",
       "    }\n",
       "\n",
       "    .dataframe thead th {\n",
       "        text-align: right;\n",
       "    }\n",
       "</style>\n",
       "<table border=\"1\" class=\"dataframe\">\n",
       "  <thead>\n",
       "    <tr style=\"text-align: right;\">\n",
       "      <th></th>\n",
       "      <th>device_id_hash</th>\n",
       "      <th>rate</th>\n",
       "    </tr>\n",
       "    <tr>\n",
       "      <th>event_name</th>\n",
       "      <th></th>\n",
       "      <th></th>\n",
       "    </tr>\n",
       "  </thead>\n",
       "  <tbody>\n",
       "    <tr>\n",
       "      <th>MainScreenAppear</th>\n",
       "      <td>7419</td>\n",
       "      <td>98.47</td>\n",
       "    </tr>\n",
       "    <tr>\n",
       "      <th>OffersScreenAppear</th>\n",
       "      <td>4593</td>\n",
       "      <td>60.96</td>\n",
       "    </tr>\n",
       "    <tr>\n",
       "      <th>CartScreenAppear</th>\n",
       "      <td>3734</td>\n",
       "      <td>49.56</td>\n",
       "    </tr>\n",
       "    <tr>\n",
       "      <th>PaymentScreenSuccessful</th>\n",
       "      <td>3539</td>\n",
       "      <td>46.97</td>\n",
       "    </tr>\n",
       "    <tr>\n",
       "      <th>Tutorial</th>\n",
       "      <td>840</td>\n",
       "      <td>11.15</td>\n",
       "    </tr>\n",
       "  </tbody>\n",
       "</table>\n",
       "</div>"
      ],
      "text/plain": [
       "                         device_id_hash   rate\n",
       "event_name                                    \n",
       "MainScreenAppear                   7419  98.47\n",
       "OffersScreenAppear                 4593  60.96\n",
       "CartScreenAppear                   3734  49.56\n",
       "PaymentScreenSuccessful            3539  46.97\n",
       "Tutorial                            840  11.15"
      ]
     },
     "execution_count": 35,
     "metadata": {},
     "output_type": "execute_result"
    }
   ],
   "source": [
    "users_count"
   ]
  },
  {
   "cell_type": "markdown",
   "metadata": {},
   "source": [
    "Соотношение количества пользователей на каждом экране к общему числу уникальных пользователей показало:\n",
    "\n",
    "**98.47%** всех пользователей заходит на главный экран\\\n",
    "**60.96%** всех пользователей заходит на экран товара/предложения\\\n",
    "**49.56%** всех пользователей заходит на экран корзины\\\n",
    "**46.97%** всех пользователей заходит на экран оплаты\\\n",
    "**11.15%** всех пользователей заходит на экран обучения"
   ]
  },
  {
   "cell_type": "markdown",
   "metadata": {},
   "source": [
    "#### Порядок событий"
   ]
  },
  {
   "cell_type": "markdown",
   "metadata": {},
   "source": [
    " Судя по числу просмотров, события выстраиваются по следующей цепочке:\n",
    " \n",
    " 1) MainScreenAppear - главный экран\n",
    " 2) OffersScreenAppear\t- экран товара/предложения\n",
    " 3) CartScreenAppear - экран коризины\n",
    " 4) PaymentScreenSuccessful - экран оплаты\n",
    " \n",
    "Экран обучения/онбординг, который просматривает всего **11.15% пользователей**, а большая часть пользователей пропускает не попадает в логическую последовательность, поэтому этот этап мы исключим из воронки."
   ]
  },
  {
   "cell_type": "markdown",
   "metadata": {},
   "source": [
    "#### Расчет доли пользователей, которые проходят на следующий шаг воронки"
   ]
  },
  {
   "cell_type": "code",
   "execution_count": 36,
   "metadata": {},
   "outputs": [
    {
     "data": {
      "text/html": [
       "<div>\n",
       "<style scoped>\n",
       "    .dataframe tbody tr th:only-of-type {\n",
       "        vertical-align: middle;\n",
       "    }\n",
       "\n",
       "    .dataframe tbody tr th {\n",
       "        vertical-align: top;\n",
       "    }\n",
       "\n",
       "    .dataframe thead th {\n",
       "        text-align: right;\n",
       "    }\n",
       "</style>\n",
       "<table border=\"1\" class=\"dataframe\">\n",
       "  <thead>\n",
       "    <tr style=\"text-align: right;\">\n",
       "      <th></th>\n",
       "      <th>device_id_hash</th>\n",
       "      <th>rate</th>\n",
       "    </tr>\n",
       "    <tr>\n",
       "      <th>event_name</th>\n",
       "      <th></th>\n",
       "      <th></th>\n",
       "    </tr>\n",
       "  </thead>\n",
       "  <tbody>\n",
       "    <tr>\n",
       "      <th>MainScreenAppear</th>\n",
       "      <td>7419</td>\n",
       "      <td>98.47</td>\n",
       "    </tr>\n",
       "    <tr>\n",
       "      <th>OffersScreenAppear</th>\n",
       "      <td>4593</td>\n",
       "      <td>60.96</td>\n",
       "    </tr>\n",
       "    <tr>\n",
       "      <th>CartScreenAppear</th>\n",
       "      <td>3734</td>\n",
       "      <td>49.56</td>\n",
       "    </tr>\n",
       "    <tr>\n",
       "      <th>PaymentScreenSuccessful</th>\n",
       "      <td>3539</td>\n",
       "      <td>46.97</td>\n",
       "    </tr>\n",
       "  </tbody>\n",
       "</table>\n",
       "</div>"
      ],
      "text/plain": [
       "                         device_id_hash   rate\n",
       "event_name                                    \n",
       "MainScreenAppear                   7419  98.47\n",
       "OffersScreenAppear                 4593  60.96\n",
       "CartScreenAppear                   3734  49.56\n",
       "PaymentScreenSuccessful            3539  46.97"
      ]
     },
     "execution_count": 36,
     "metadata": {},
     "output_type": "execute_result"
    }
   ],
   "source": [
    "users_count_final = users_count.query('event_name != \"Tutorial\"')\n",
    "users_count_final"
   ]
  },
  {
   "cell_type": "code",
   "execution_count": 37,
   "metadata": {},
   "outputs": [],
   "source": [
    "users_count_final['funnel_rate'] = round(users_count_final['device_id_hash'].pct_change(1), 2)"
   ]
  },
  {
   "cell_type": "code",
   "execution_count": 38,
   "metadata": {},
   "outputs": [
    {
     "data": {
      "text/html": [
       "<div>\n",
       "<style scoped>\n",
       "    .dataframe tbody tr th:only-of-type {\n",
       "        vertical-align: middle;\n",
       "    }\n",
       "\n",
       "    .dataframe tbody tr th {\n",
       "        vertical-align: top;\n",
       "    }\n",
       "\n",
       "    .dataframe thead th {\n",
       "        text-align: right;\n",
       "    }\n",
       "</style>\n",
       "<table border=\"1\" class=\"dataframe\">\n",
       "  <thead>\n",
       "    <tr style=\"text-align: right;\">\n",
       "      <th></th>\n",
       "      <th>device_id_hash</th>\n",
       "      <th>rate</th>\n",
       "      <th>funnel_rate</th>\n",
       "      <th>difference</th>\n",
       "    </tr>\n",
       "    <tr>\n",
       "      <th>event_name</th>\n",
       "      <th></th>\n",
       "      <th></th>\n",
       "      <th></th>\n",
       "      <th></th>\n",
       "    </tr>\n",
       "  </thead>\n",
       "  <tbody>\n",
       "    <tr>\n",
       "      <th>MainScreenAppear</th>\n",
       "      <td>7419</td>\n",
       "      <td>98.47</td>\n",
       "      <td>NaN</td>\n",
       "      <td>NaN</td>\n",
       "    </tr>\n",
       "    <tr>\n",
       "      <th>OffersScreenAppear</th>\n",
       "      <td>4593</td>\n",
       "      <td>60.96</td>\n",
       "      <td>-0.38</td>\n",
       "      <td>62.0</td>\n",
       "    </tr>\n",
       "    <tr>\n",
       "      <th>CartScreenAppear</th>\n",
       "      <td>3734</td>\n",
       "      <td>49.56</td>\n",
       "      <td>-0.19</td>\n",
       "      <td>81.0</td>\n",
       "    </tr>\n",
       "    <tr>\n",
       "      <th>PaymentScreenSuccessful</th>\n",
       "      <td>3539</td>\n",
       "      <td>46.97</td>\n",
       "      <td>-0.05</td>\n",
       "      <td>95.0</td>\n",
       "    </tr>\n",
       "  </tbody>\n",
       "</table>\n",
       "</div>"
      ],
      "text/plain": [
       "                         device_id_hash   rate  funnel_rate  difference\n",
       "event_name                                                             \n",
       "MainScreenAppear                   7419  98.47          NaN         NaN\n",
       "OffersScreenAppear                 4593  60.96        -0.38        62.0\n",
       "CartScreenAppear                   3734  49.56        -0.19        81.0\n",
       "PaymentScreenSuccessful            3539  46.97        -0.05        95.0"
      ]
     },
     "execution_count": 38,
     "metadata": {},
     "output_type": "execute_result"
    }
   ],
   "source": [
    "users_count_final['difference'] = (1 + users_count_final['funnel_rate']) * 100\n",
    "users_count_final"
   ]
  },
  {
   "cell_type": "code",
   "execution_count": 39,
   "metadata": {},
   "outputs": [],
   "source": [
    "users_final = users_count_final.iloc[:, 3:]"
   ]
  },
  {
   "cell_type": "code",
   "execution_count": 40,
   "metadata": {},
   "outputs": [
    {
     "data": {
      "image/png": "[encoded data removed]",
      "text/plain": [
       "<Figure size 864x576 with 1 Axes>"
      ]
     },
     "metadata": {
      "needs_background": "light"
     },
     "output_type": "display_data"
    }
   ],
   "source": [
    "users_final.plot(kind='bar', ylabel='Процент пользователей', \n",
    "    xlabel='Событие', \n",
    "    figsize = (12, 8), \n",
    "    title='График воронки событий', \n",
    "    color='orange', \n",
    "    grid=True, \n",
    "    legend=False)\n",
    "\n",
    "plt.xticks(rotation=360)\n",
    "plt.show;"
   ]
  },
  {
   "cell_type": "markdown",
   "metadata": {},
   "source": [
    "По воронке событий **62.0%** пользователей с главного экрана (MainScreenAppear) переходят к следующему экрану - экрану товара (OffersScreenAppear). После экрана товара **81%** пользователей переходит к корзине (CartScreenAppear). Далее **95 %** пользователей переходит к оплате (PaymentScreenSuccessful).\n",
    "\n",
    "**Больше всего пользователей - 38%** - сервис теряет после главного экрана (MainScreenAppear)."
   ]
  },
  {
   "cell_type": "markdown",
   "metadata": {},
   "source": [
    "**Результаты исследования воронки событий:**\n",
    "\n",
    "- чаще всего посещался экран **MainScreenAppear (главный экран) - 117328 раз**. Реже всего **1005 раз** пользователи оставались на экране **Tutorial (обучение)**;\n",
    "- **98.47% всех пользователей** заходит на главный экран и только **11.15% всех пользователей** заходит на экран обучения;\n",
    "-  Судя по числу просмотров, события выстраиваются по следующей цепочке:\n",
    " 1) MainScreenAppear - главный экран\n",
    " 2) OffersScreenAppear\t- экран товара/предложения\n",
    " 3) CartScreenAppear - экран коризины\n",
    " 4) PaymentScreenSuccessful - экран оплаты\n",
    "- Экран обучения/онбординг большая часть пользователей пропускает, поэтому этот этап мы исключим из воронки.\n",
    "- По воронке событий **62.0% пользователей** с главного экрана (MainScreenAppear) переходят к следующему экрану - экрану товара (OffersScreenAppear). После экрана товара **81% пользователей** переходит к корзине (CartScreenAppear). Далее **95 % пользователей** переходит к оплате (PaymentScreenSuccessful).\n",
    "- **Больше всего пользователей - 38%** - сервис теряет после главного экрана (MainScreenAppear)."
   ]
  },
  {
   "cell_type": "markdown",
   "metadata": {},
   "source": [
    "### Изучение результатов экспериментов"
   ]
  },
  {
   "cell_type": "markdown",
   "metadata": {},
   "source": [
    "#### Количество пользователей в каждой экспериментальной группе"
   ]
  },
  {
   "cell_type": "markdown",
   "metadata": {},
   "source": [
    "Исключим из исследования событие \"Tutorial\", поскольку, как мы выяснили, почти все пользователи его пропускают."
   ]
  },
  {
   "cell_type": "code",
   "execution_count": 41,
   "metadata": {},
   "outputs": [],
   "source": [
    "data_full = data_full.query('event_name != \"Tutorial\"')"
   ]
  },
  {
   "cell_type": "code",
   "execution_count": 42,
   "metadata": {},
   "outputs": [
    {
     "data": {
      "text/html": [
       "<div>\n",
       "<style scoped>\n",
       "    .dataframe tbody tr th:only-of-type {\n",
       "        vertical-align: middle;\n",
       "    }\n",
       "\n",
       "    .dataframe tbody tr th {\n",
       "        vertical-align: top;\n",
       "    }\n",
       "\n",
       "    .dataframe thead th {\n",
       "        text-align: right;\n",
       "    }\n",
       "</style>\n",
       "<table border=\"1\" class=\"dataframe\">\n",
       "  <thead>\n",
       "    <tr style=\"text-align: right;\">\n",
       "      <th></th>\n",
       "      <th>device_id_hash</th>\n",
       "    </tr>\n",
       "    <tr>\n",
       "      <th>exp_id</th>\n",
       "      <th></th>\n",
       "    </tr>\n",
       "  </thead>\n",
       "  <tbody>\n",
       "    <tr>\n",
       "      <th>246</th>\n",
       "      <td>2483</td>\n",
       "    </tr>\n",
       "    <tr>\n",
       "      <th>247</th>\n",
       "      <td>2512</td>\n",
       "    </tr>\n",
       "    <tr>\n",
       "      <th>248</th>\n",
       "      <td>2535</td>\n",
       "    </tr>\n",
       "  </tbody>\n",
       "</table>\n",
       "</div>"
      ],
      "text/plain": [
       "        device_id_hash\n",
       "exp_id                \n",
       "246               2483\n",
       "247               2512\n",
       "248               2535"
      ]
     },
     "execution_count": 42,
     "metadata": {},
     "output_type": "execute_result"
    }
   ],
   "source": [
    "data_full.groupby('exp_id').agg({'device_id_hash': 'nunique'})"
   ]
  },
  {
   "cell_type": "markdown",
   "metadata": {},
   "source": [
    "- В 246 контрольной группе 2483 уникальных пользователя;\n",
    "- в 247 контрольной группе 2512 уникальных пользователей;\n",
    "- в 248 экспериментальной группе 2535 уникальных пользователей;"
   ]
  },
  {
   "cell_type": "code",
   "execution_count": 43,
   "metadata": {},
   "outputs": [
    {
     "data": {
      "text/plain": [
       "0"
      ]
     },
     "execution_count": 43,
     "metadata": {},
     "output_type": "execute_result"
    }
   ],
   "source": [
    "users_a = data_full[data_full['exp_id']=='246']\n",
    "users_b = data_full[data_full['exp_id']=='247']\n",
    "users_c = data_full[data_full['exp_id']=='247']\n",
    "users_dublicate = users_a.merge(users_b, on='device_id_hash', how='inner')\n",
    "users_dublicate['device_id_hash'].nunique()"
   ]
  },
  {
   "cell_type": "code",
   "execution_count": 44,
   "metadata": {},
   "outputs": [
    {
     "data": {
      "text/plain": [
       "0"
      ]
     },
     "execution_count": 44,
     "metadata": {},
     "output_type": "execute_result"
    }
   ],
   "source": [
    "users_dublicate = users_a.merge(users_c, on='device_id_hash', how='inner')\n",
    "users_dublicate['device_id_hash'].nunique()"
   ]
  },
  {
   "cell_type": "code",
   "execution_count": 45,
   "metadata": {},
   "outputs": [
    {
     "data": {
      "text/plain": [
       "0"
      ]
     },
     "execution_count": 45,
     "metadata": {},
     "output_type": "execute_result"
    }
   ],
   "source": [
    "users_dublicate = users_b.merge(users_c, on='device_id_hash', how='inner')\n",
    "users_dublicate['device_id_hash'].nunique()"
   ]
  },
  {
   "cell_type": "markdown",
   "metadata": {},
   "source": [
    "#### А/А-эксперимент. Проверка статистической разности разницы между выборками 246 и 247"
   ]
  },
  {
   "cell_type": "code",
   "execution_count": 46,
   "metadata": {},
   "outputs": [
    {
     "data": {
      "text/html": [
       "<div>\n",
       "<style scoped>\n",
       "    .dataframe tbody tr th:only-of-type {\n",
       "        vertical-align: middle;\n",
       "    }\n",
       "\n",
       "    .dataframe tbody tr th {\n",
       "        vertical-align: top;\n",
       "    }\n",
       "\n",
       "    .dataframe thead th {\n",
       "        text-align: right;\n",
       "    }\n",
       "</style>\n",
       "<table border=\"1\" class=\"dataframe\">\n",
       "  <thead>\n",
       "    <tr style=\"text-align: right;\">\n",
       "      <th></th>\n",
       "      <th>device_id_hash</th>\n",
       "    </tr>\n",
       "    <tr>\n",
       "      <th>exp_id</th>\n",
       "      <th></th>\n",
       "    </tr>\n",
       "  </thead>\n",
       "  <tbody>\n",
       "    <tr>\n",
       "      <th>246</th>\n",
       "      <td>NaN</td>\n",
       "    </tr>\n",
       "    <tr>\n",
       "      <th>247</th>\n",
       "      <td>1.167942</td>\n",
       "    </tr>\n",
       "    <tr>\n",
       "      <th>248</th>\n",
       "      <td>0.915605</td>\n",
       "    </tr>\n",
       "  </tbody>\n",
       "</table>\n",
       "</div>"
      ],
      "text/plain": [
       "        device_id_hash\n",
       "exp_id                \n",
       "246                NaN\n",
       "247           1.167942\n",
       "248           0.915605"
      ]
     },
     "execution_count": 46,
     "metadata": {},
     "output_type": "execute_result"
    }
   ],
   "source": [
    "data_full.groupby('exp_id').agg({'device_id_hash': 'nunique'}).pct_change()*100"
   ]
  },
  {
   "cell_type": "markdown",
   "metadata": {},
   "source": [
    "Количество пользователей в контрольных группах различается не более, чем на 1 п.п. Можно проводить А/А тест."
   ]
  },
  {
   "cell_type": "markdown",
   "metadata": {},
   "source": [
    "Чтобы проверить корректность всех механизмов и расчётов, проверим, находят ли статистические критерии разницу между выборками 246 и 247.\n",
    "\n",
    "Если две контрольные группы окажутся равны, мы можем быть уверены в точности проведенного тестирования. Если же между значениями A и A будут существенные различия, это поможет обнаружить факторы, которые привели к искажению результатов."
   ]
  },
  {
   "cell_type": "markdown",
   "metadata": {},
   "source": [
    "**Посчитаем долю пользователей, совершивших событие \"PaymentScreenSuccessful\". Проверим, будет ли отличие между группами 246 и 247 статистически достоверным.**"
   ]
  },
  {
   "cell_type": "code",
   "execution_count": 47,
   "metadata": {},
   "outputs": [],
   "source": [
    "events_per_group = data_full.query(\n",
    "    'event_name == \"PaymentScreenSuccessful\"').groupby('exp_id').agg({'device_id_hash': 'nunique'}).reset_index()"
   ]
  },
  {
   "cell_type": "code",
   "execution_count": 48,
   "metadata": {},
   "outputs": [],
   "source": [
    "events_per_group_pss = data_full.groupby('exp_id').agg({'device_id_hash': 'nunique'}).reset_index()"
   ]
  },
  {
   "cell_type": "code",
   "execution_count": 49,
   "metadata": {},
   "outputs": [
    {
     "data": {
      "text/html": [
       "<div>\n",
       "<style scoped>\n",
       "    .dataframe tbody tr th:only-of-type {\n",
       "        vertical-align: middle;\n",
       "    }\n",
       "\n",
       "    .dataframe tbody tr th {\n",
       "        vertical-align: top;\n",
       "    }\n",
       "\n",
       "    .dataframe thead th {\n",
       "        text-align: right;\n",
       "    }\n",
       "</style>\n",
       "<table border=\"1\" class=\"dataframe\">\n",
       "  <thead>\n",
       "    <tr style=\"text-align: right;\">\n",
       "      <th></th>\n",
       "      <th>exp_id</th>\n",
       "      <th>device_id_hash</th>\n",
       "    </tr>\n",
       "  </thead>\n",
       "  <tbody>\n",
       "    <tr>\n",
       "      <th>0</th>\n",
       "      <td>246</td>\n",
       "      <td>1200</td>\n",
       "    </tr>\n",
       "    <tr>\n",
       "      <th>1</th>\n",
       "      <td>247</td>\n",
       "      <td>1158</td>\n",
       "    </tr>\n",
       "    <tr>\n",
       "      <th>2</th>\n",
       "      <td>248</td>\n",
       "      <td>1181</td>\n",
       "    </tr>\n",
       "  </tbody>\n",
       "</table>\n",
       "</div>"
      ],
      "text/plain": [
       "   exp_id  device_id_hash\n",
       "0     246            1200\n",
       "1     247            1158\n",
       "2     248            1181"
      ]
     },
     "execution_count": 49,
     "metadata": {},
     "output_type": "execute_result"
    }
   ],
   "source": [
    "events_per_group"
   ]
  },
  {
   "cell_type": "code",
   "execution_count": 50,
   "metadata": {},
   "outputs": [
    {
     "data": {
      "text/html": [
       "<div>\n",
       "<style scoped>\n",
       "    .dataframe tbody tr th:only-of-type {\n",
       "        vertical-align: middle;\n",
       "    }\n",
       "\n",
       "    .dataframe tbody tr th {\n",
       "        vertical-align: top;\n",
       "    }\n",
       "\n",
       "    .dataframe thead th {\n",
       "        text-align: right;\n",
       "    }\n",
       "</style>\n",
       "<table border=\"1\" class=\"dataframe\">\n",
       "  <thead>\n",
       "    <tr style=\"text-align: right;\">\n",
       "      <th></th>\n",
       "      <th>exp_id</th>\n",
       "      <th>device_id_hash</th>\n",
       "    </tr>\n",
       "  </thead>\n",
       "  <tbody>\n",
       "    <tr>\n",
       "      <th>0</th>\n",
       "      <td>246</td>\n",
       "      <td>2483</td>\n",
       "    </tr>\n",
       "    <tr>\n",
       "      <th>1</th>\n",
       "      <td>247</td>\n",
       "      <td>2512</td>\n",
       "    </tr>\n",
       "    <tr>\n",
       "      <th>2</th>\n",
       "      <td>248</td>\n",
       "      <td>2535</td>\n",
       "    </tr>\n",
       "  </tbody>\n",
       "</table>\n",
       "</div>"
      ],
      "text/plain": [
       "   exp_id  device_id_hash\n",
       "0     246            2483\n",
       "1     247            2512\n",
       "2     248            2535"
      ]
     },
     "execution_count": 50,
     "metadata": {},
     "output_type": "execute_result"
    }
   ],
   "source": [
    "events_per_group_pss"
   ]
  },
  {
   "cell_type": "markdown",
   "metadata": {},
   "source": [
    "**Для проверки гипотезы о равенстве долей применем Z-критерий:**"
   ]
  },
  {
   "cell_type": "markdown",
   "metadata": {},
   "source": [
    "Н0: Статистически значимых отличий в доле пользователей, совершивших событие между группами нет.\\\n",
    "Н1: Статистически значимые отличия в доле пользователей, совершивших событие между группами есть"
   ]
  },
  {
   "cell_type": "markdown",
   "metadata": {},
   "source": [
    "При малом объеме выборки более вероятно получить случайный  результат, например, получить различие в двух в выборках при их однородности.  Следовательно, можно взять большую вероятность ошибки первого рода. При увеличении объема выборки случайные отклонения компенсируют друг друга, и получить значимое различие в выборках при их однородности менее вероятно. Следовательно, надо брать меньший уровень значимости. Стандартными уровнями значимости являются 0,1; 0,05; 0,01"
   ]
  },
  {
   "cell_type": "markdown",
   "metadata": {},
   "source": [
    "Поскольку наша выборка довольно большая в качестве **уровня значимости возьмем 0,05.**"
   ]
  },
  {
   "cell_type": "code",
   "execution_count": 51,
   "metadata": {},
   "outputs": [
    {
     "name": "stdout",
     "output_type": "stream",
     "text": [
      "p-значение:  0.11446627829276612\n",
      "Не получилось отвергнуть нулевую гипотезу, нет оснований считать доли разными\n"
     ]
    }
   ],
   "source": [
    "alpha = 0.05\n",
    "\n",
    "views = events_per_group['device_id_hash']\n",
    "visitors = events_per_group_pss['device_id_hash']\n",
    "\n",
    "p1 = views[0]/visitors[0]\n",
    "\n",
    "p2 = views[1]/visitors[1]\n",
    "\n",
    "p_combined = (views[0] + views[1]) / (visitors[0] + visitors[1])\n",
    "\n",
    "difference = p1-p2\n",
    "\n",
    "z_value = difference / mth.sqrt(p_combined * (1 - p_combined) * (1/visitors[0] + 1/visitors[1]))\n",
    "\n",
    "distr = st.norm(0, 1) \n",
    "\n",
    "p_value = (1 - distr.cdf(abs(z_value))) * 2\n",
    "\n",
    "print('p-значение: ', p_value)\n",
    "\n",
    "if p_value < alpha:\n",
    "    print('Отвергаем нулевую гипотезу: между долями есть значимая разница')\n",
    "else:\n",
    "    print(\n",
    "        'Не получилось отвергнуть нулевую гипотезу, нет оснований считать доли разными'\n",
    "    )"
   ]
  },
  {
   "cell_type": "markdown",
   "metadata": {},
   "source": [
    "**Результат тестирования:**\n",
    "\n",
    "Две контрольные группы оказались равны - мы можем быть уверены в точности проведенного тестирования."
   ]
  },
  {
   "cell_type": "markdown",
   "metadata": {},
   "source": [
    "#### A/B-тест. Проверка статистической разности разницы между выборками 246 и 247"
   ]
  },
  {
   "cell_type": "markdown",
   "metadata": {},
   "source": [
    "В 4 пункте мы выяснили, что самое популярное событие - это **MainScreenAppear**, его пользователи посмотрели 117328 раз."
   ]
  },
  {
   "cell_type": "code",
   "execution_count": 52,
   "metadata": {},
   "outputs": [
    {
     "data": {
      "text/html": [
       "<div>\n",
       "<style scoped>\n",
       "    .dataframe tbody tr th:only-of-type {\n",
       "        vertical-align: middle;\n",
       "    }\n",
       "\n",
       "    .dataframe tbody tr th {\n",
       "        vertical-align: top;\n",
       "    }\n",
       "\n",
       "    .dataframe thead th {\n",
       "        text-align: right;\n",
       "    }\n",
       "</style>\n",
       "<table border=\"1\" class=\"dataframe\">\n",
       "  <thead>\n",
       "    <tr style=\"text-align: right;\">\n",
       "      <th></th>\n",
       "      <th>device_id_hash</th>\n",
       "    </tr>\n",
       "    <tr>\n",
       "      <th>event_name</th>\n",
       "      <th></th>\n",
       "    </tr>\n",
       "  </thead>\n",
       "  <tbody>\n",
       "    <tr>\n",
       "      <th>MainScreenAppear</th>\n",
       "      <td>7419</td>\n",
       "    </tr>\n",
       "    <tr>\n",
       "      <th>OffersScreenAppear</th>\n",
       "      <td>4593</td>\n",
       "    </tr>\n",
       "    <tr>\n",
       "      <th>CartScreenAppear</th>\n",
       "      <td>3734</td>\n",
       "    </tr>\n",
       "    <tr>\n",
       "      <th>PaymentScreenSuccessful</th>\n",
       "      <td>3539</td>\n",
       "    </tr>\n",
       "  </tbody>\n",
       "</table>\n",
       "</div>"
      ],
      "text/plain": [
       "                         device_id_hash\n",
       "event_name                             \n",
       "MainScreenAppear                   7419\n",
       "OffersScreenAppear                 4593\n",
       "CartScreenAppear                   3734\n",
       "PaymentScreenSuccessful            3539"
      ]
     },
     "execution_count": 52,
     "metadata": {},
     "output_type": "execute_result"
    }
   ],
   "source": [
    "total_events_per_group = data_full.groupby('event_name').agg(\n",
    "    {'device_id_hash': 'nunique'}\n",
    ").sort_values(\n",
    "    by=(['device_id_hash']), ascending = False)\n",
    "\n",
    "total_events_per_group"
   ]
  },
  {
   "cell_type": "code",
   "execution_count": 53,
   "metadata": {},
   "outputs": [],
   "source": [
    "popular_events_per_group = data_full.query(\n",
    "    'event_name == \"MainScreenAppear\"').groupby('exp_id').agg({'device_id_hash': 'nunique'}).reset_index()"
   ]
  },
  {
   "cell_type": "code",
   "execution_count": 54,
   "metadata": {},
   "outputs": [
    {
     "data": {
      "text/html": [
       "<div>\n",
       "<style scoped>\n",
       "    .dataframe tbody tr th:only-of-type {\n",
       "        vertical-align: middle;\n",
       "    }\n",
       "\n",
       "    .dataframe tbody tr th {\n",
       "        vertical-align: top;\n",
       "    }\n",
       "\n",
       "    .dataframe thead th {\n",
       "        text-align: right;\n",
       "    }\n",
       "</style>\n",
       "<table border=\"1\" class=\"dataframe\">\n",
       "  <thead>\n",
       "    <tr style=\"text-align: right;\">\n",
       "      <th></th>\n",
       "      <th>exp_id</th>\n",
       "      <th>device_id_hash</th>\n",
       "    </tr>\n",
       "  </thead>\n",
       "  <tbody>\n",
       "    <tr>\n",
       "      <th>0</th>\n",
       "      <td>246</td>\n",
       "      <td>2450</td>\n",
       "    </tr>\n",
       "    <tr>\n",
       "      <th>1</th>\n",
       "      <td>247</td>\n",
       "      <td>2476</td>\n",
       "    </tr>\n",
       "    <tr>\n",
       "      <th>2</th>\n",
       "      <td>248</td>\n",
       "      <td>2493</td>\n",
       "    </tr>\n",
       "  </tbody>\n",
       "</table>\n",
       "</div>"
      ],
      "text/plain": [
       "   exp_id  device_id_hash\n",
       "0     246            2450\n",
       "1     247            2476\n",
       "2     248            2493"
      ]
     },
     "execution_count": 54,
     "metadata": {},
     "output_type": "execute_result"
    }
   ],
   "source": [
    "popular_events_per_group"
   ]
  },
  {
   "cell_type": "code",
   "execution_count": 55,
   "metadata": {},
   "outputs": [
    {
     "data": {
      "text/html": [
       "<div>\n",
       "<style scoped>\n",
       "    .dataframe tbody tr th:only-of-type {\n",
       "        vertical-align: middle;\n",
       "    }\n",
       "\n",
       "    .dataframe tbody tr th {\n",
       "        vertical-align: top;\n",
       "    }\n",
       "\n",
       "    .dataframe thead th {\n",
       "        text-align: right;\n",
       "    }\n",
       "</style>\n",
       "<table border=\"1\" class=\"dataframe\">\n",
       "  <thead>\n",
       "    <tr style=\"text-align: right;\">\n",
       "      <th></th>\n",
       "      <th></th>\n",
       "      <th>device_id_hash</th>\n",
       "    </tr>\n",
       "    <tr>\n",
       "      <th>event_name</th>\n",
       "      <th>exp_id</th>\n",
       "      <th></th>\n",
       "    </tr>\n",
       "  </thead>\n",
       "  <tbody>\n",
       "    <tr>\n",
       "      <th rowspan=\"3\" valign=\"top\">MainScreenAppear</th>\n",
       "      <th>248</th>\n",
       "      <td>2493</td>\n",
       "    </tr>\n",
       "    <tr>\n",
       "      <th>247</th>\n",
       "      <td>2476</td>\n",
       "    </tr>\n",
       "    <tr>\n",
       "      <th>246</th>\n",
       "      <td>2450</td>\n",
       "    </tr>\n",
       "    <tr>\n",
       "      <th rowspan=\"3\" valign=\"top\">OffersScreenAppear</th>\n",
       "      <th>246</th>\n",
       "      <td>1542</td>\n",
       "    </tr>\n",
       "    <tr>\n",
       "      <th>248</th>\n",
       "      <td>1531</td>\n",
       "    </tr>\n",
       "    <tr>\n",
       "      <th>247</th>\n",
       "      <td>1520</td>\n",
       "    </tr>\n",
       "    <tr>\n",
       "      <th rowspan=\"3\" valign=\"top\">CartScreenAppear</th>\n",
       "      <th>246</th>\n",
       "      <td>1266</td>\n",
       "    </tr>\n",
       "    <tr>\n",
       "      <th>247</th>\n",
       "      <td>1238</td>\n",
       "    </tr>\n",
       "    <tr>\n",
       "      <th>248</th>\n",
       "      <td>1230</td>\n",
       "    </tr>\n",
       "    <tr>\n",
       "      <th rowspan=\"3\" valign=\"top\">PaymentScreenSuccessful</th>\n",
       "      <th>246</th>\n",
       "      <td>1200</td>\n",
       "    </tr>\n",
       "    <tr>\n",
       "      <th>248</th>\n",
       "      <td>1181</td>\n",
       "    </tr>\n",
       "    <tr>\n",
       "      <th>247</th>\n",
       "      <td>1158</td>\n",
       "    </tr>\n",
       "  </tbody>\n",
       "</table>\n",
       "</div>"
      ],
      "text/plain": [
       "                                device_id_hash\n",
       "event_name              exp_id                \n",
       "MainScreenAppear        248               2493\n",
       "                        247               2476\n",
       "                        246               2450\n",
       "OffersScreenAppear      246               1542\n",
       "                        248               1531\n",
       "                        247               1520\n",
       "CartScreenAppear        246               1266\n",
       "                        247               1238\n",
       "                        248               1230\n",
       "PaymentScreenSuccessful 246               1200\n",
       "                        248               1181\n",
       "                        247               1158"
      ]
     },
     "execution_count": 55,
     "metadata": {},
     "output_type": "execute_result"
    }
   ],
   "source": [
    "data_full.groupby(\n",
    "    ['event_name', 'exp_id']).agg({'device_id_hash': 'nunique'}).sort_values(by='device_id_hash', ascending=False)"
   ]
  },
  {
   "cell_type": "markdown",
   "metadata": {},
   "source": [
    "Главный экран посетели:\n",
    "- 2450 уникальных пользователей из группы 246;\n",
    "- 2476 уникальных пользователей из группы 247;\n",
    "- 2493 уникальных пользователя из группы 248"
   ]
  },
  {
   "cell_type": "markdown",
   "metadata": {},
   "source": [
    "Чтобы посчитать долю пользователей посетивших каждый экран по каждой группе напишем функцию:"
   ]
  },
  {
   "cell_type": "code",
   "execution_count": 56,
   "metadata": {},
   "outputs": [],
   "source": [
    "def rate (df1, event, exp):\n",
    "    total_per_group = np.array(df1[df1['exp_id'] == exp]['device_id_hash'].nunique())\n",
    "    group_users = np.array(df1[(df1['event_name'] == event) & (df1['exp_id'] == exp)]['device_id_hash'].nunique())\n",
    "    rate = group_users / total_per_group\n",
    "    print('Событие:', event)\n",
    "    print(f'Доля пользователей для группы {exp}: {round(rate, 2)}')"
   ]
  },
  {
   "cell_type": "code",
   "execution_count": 57,
   "metadata": {},
   "outputs": [
    {
     "name": "stdout",
     "output_type": "stream",
     "text": [
      "Событие: MainScreenAppear\n",
      "Доля пользователей для группы 246: 0.99\n",
      "\n",
      "Событие: OffersScreenAppear\n",
      "Доля пользователей для группы 246: 0.62\n",
      "\n",
      "Событие: CartScreenAppear\n",
      "Доля пользователей для группы 246: 0.51\n",
      "\n",
      "Событие: PaymentScreenSuccessful\n",
      "Доля пользователей для группы 246: 0.48\n",
      "\n",
      "Событие: MainScreenAppear\n",
      "Доля пользователей для группы 247: 0.99\n",
      "\n",
      "Событие: OffersScreenAppear\n",
      "Доля пользователей для группы 247: 0.61\n",
      "\n",
      "Событие: CartScreenAppear\n",
      "Доля пользователей для группы 247: 0.49\n",
      "\n",
      "Событие: PaymentScreenSuccessful\n",
      "Доля пользователей для группы 247: 0.46\n",
      "\n",
      "Событие: MainScreenAppear\n",
      "Доля пользователей для группы 248: 0.98\n",
      "\n",
      "Событие: OffersScreenAppear\n",
      "Доля пользователей для группы 248: 0.6\n",
      "\n",
      "Событие: CartScreenAppear\n",
      "Доля пользователей для группы 248: 0.49\n",
      "\n",
      "Событие: PaymentScreenSuccessful\n",
      "Доля пользователей для группы 248: 0.47\n",
      "\n"
     ]
    }
   ],
   "source": [
    "for event in data_full['event_name'].unique():\n",
    "    rate(data_full, event, 246)\n",
    "    print()\n",
    "    \n",
    "for event in data_full['event_name'].unique():\n",
    "    rate(data_full, event, 247)\n",
    "    print()\n",
    "\n",
    "for event in data_full['event_name'].unique():\n",
    "    rate(data_full, event, 248)\n",
    "    print()"
   ]
  },
  {
   "cell_type": "markdown",
   "metadata": {},
   "source": [
    "На первый взгляд, значительных отличий в поведении групп нет. Проверим, будет ли отличие между группами статистически достоверным. "
   ]
  },
  {
   "cell_type": "markdown",
   "metadata": {},
   "source": [
    "**Для проверки гипотезы о равенстве долей применем Z-критерий:**"
   ]
  },
  {
   "cell_type": "markdown",
   "metadata": {},
   "source": [
    "Н0: Статистически значимых отличий в доле пользователей, совершивших событие между контрольными группами нет.\\\n",
    "Н1: Статистически значимые отличия в доле пользователей, совершивших событие между контрольными группами есть"
   ]
  },
  {
   "cell_type": "markdown",
   "metadata": {},
   "source": [
    "Чтобы избежать ошибок первого рода, откорректируем уровень значимости (a) с помощью поправки Бонферрони.\n",
    "\n",
    "Формула поправки Бонферрони выглядит следующим образом:\n",
    "α новый = α исходный / n, где n - количество тестов\n",
    "\n",
    "Поскольку мы будем проводить 16 тестов подряд α новый = 0.05 / 16"
   ]
  },
  {
   "cell_type": "code",
   "execution_count": 58,
   "metadata": {},
   "outputs": [],
   "source": [
    "def z_test (data_1, data_2, event, alpha, n):\n",
    "    bonferroni_alpha = alpha / n\n",
    "    visitors = np.array([data_1['device_id_hash'].nunique(), data_2['device_id_hash'].nunique()])\n",
    "    views = np.array([data_1[data_1['event_name'] == event]['device_id_hash'].nunique(), data_2[data_2['event_name'] == event]['device_id_hash'].nunique()])\n",
    "    p1 = views[0]/visitors[0]\n",
    "    p2 = views[1]/visitors[1]\n",
    "    p_combined = (views[0] + views[1]) / (visitors[0] + visitors[1])\n",
    "    difference = p1-p2\n",
    "    z_value = difference / mth.sqrt(p_combined * (1 - p_combined) * (1/visitors[0] + 1/visitors[1]))\n",
    "    distr = st.norm(0, 1) \n",
    "    p_value = (1 - distr.cdf(abs(z_value))) * 2\n",
    "    \n",
    "    print('Событие:', event)\n",
    "    print('p-значение: ', p_value)\n",
    "    \n",
    "    if p_value < bonferroni_alpha:\n",
    "        print('Отвергаем нулевую гипотезу: между долями есть значимая разница')\n",
    "    else:\n",
    "        print(\n",
    "        'Не получилось отвергнуть нулевую гипотезу, нет оснований считать доли разными'\n",
    "    )"
   ]
  },
  {
   "cell_type": "code",
   "execution_count": 59,
   "metadata": {},
   "outputs": [
    {
     "name": "stdout",
     "output_type": "stream",
     "text": [
      "Событие: MainScreenAppear\n",
      "p-значение:  0.7526703436483038\n",
      "Не получилось отвергнуть нулевую гипотезу, нет оснований считать доли разными\n",
      "\n",
      "Событие: OffersScreenAppear\n",
      "p-значение:  0.24786096925282264\n",
      "Не получилось отвергнуть нулевую гипотезу, нет оснований считать доли разными\n",
      "\n",
      "Событие: CartScreenAppear\n",
      "p-значение:  0.22867643757335676\n",
      "Не получилось отвергнуть нулевую гипотезу, нет оснований считать доли разными\n",
      "\n",
      "Событие: PaymentScreenSuccessful\n",
      "p-значение:  0.11446627829276612\n",
      "Не получилось отвергнуть нулевую гипотезу, нет оснований считать доли разными\n",
      "\n"
     ]
    }
   ],
   "source": [
    "for event in data_full['event_name'].unique():\n",
    "    z_test(data_full[data_full['exp_id'] == 246], data_full[data_full['exp_id'] == 247], event, 0.05, 16)\n",
    "    print()"
   ]
  },
  {
   "cell_type": "markdown",
   "metadata": {},
   "source": [
    "**Результат тестирования контрольных групп:**\n",
    "\n",
    "Во всех результатх значение p оказалось выше критического уровня значимости с поправкой Бонферрони.\n",
    "Между двумя контрольными группами нет статистически значимого отличия. Таким образом, можем перейти к A/B-тестированию."
   ]
  },
  {
   "cell_type": "markdown",
   "metadata": {},
   "source": [
    "#### A/B-тест. Проверка статистической разности разницы между экспериментальной группой 248 и контрольными группами 246, 247. Сравнение с объединенной контрольной группой"
   ]
  },
  {
   "cell_type": "markdown",
   "metadata": {},
   "source": [
    "1) Тестирование контрольнй группы 246 и экспериментальной группы 248:"
   ]
  },
  {
   "cell_type": "markdown",
   "metadata": {},
   "source": [
    "**Для проверки гипотезы о равенстве долей применем Z-критерий:**"
   ]
  },
  {
   "cell_type": "markdown",
   "metadata": {},
   "source": [
    "Н0: Статистически значимых отличий в доле пользователей, совершивших событие между контрольной 246 и экспериментальной группой нет.\\\n",
    "Н1: Статистически значимые отличия в доле пользователей, совершивших событие между контрольной и экспериментальной группой есть"
   ]
  },
  {
   "cell_type": "code",
   "execution_count": 60,
   "metadata": {},
   "outputs": [
    {
     "name": "stdout",
     "output_type": "stream",
     "text": [
      "Событие: MainScreenAppear\n",
      "p-значение:  0.3387114076159288\n",
      "Не получилось отвергнуть нулевую гипотезу, нет оснований считать доли разными\n",
      "\n",
      "Событие: OffersScreenAppear\n",
      "p-значение:  0.21442476639710506\n",
      "Не получилось отвергнуть нулевую гипотезу, нет оснований считать доли разными\n",
      "\n",
      "Событие: CartScreenAppear\n",
      "p-значение:  0.08067367598823139\n",
      "Не получилось отвергнуть нулевую гипотезу, нет оснований считать доли разными\n",
      "\n",
      "Событие: PaymentScreenSuccessful\n",
      "p-значение:  0.21693033984516674\n",
      "Не получилось отвергнуть нулевую гипотезу, нет оснований считать доли разными\n",
      "\n"
     ]
    }
   ],
   "source": [
    "for event in data_full['event_name'].unique():\n",
    "    z_test(data_full[data_full['exp_id'] == 246], data_full[data_full['exp_id'] == 248], event, 0.05, 16)\n",
    "    print()"
   ]
  },
  {
   "cell_type": "markdown",
   "metadata": {},
   "source": [
    "**Результат тестирования контрольной группы 246 и экспериментальной группы 248:**\n",
    "\n",
    "Во всех результатах значение p оказалось выше критического уровня значимости с поправкой Бонферрони.\n",
    "Между двумя группами нет статистически значимого отличия."
   ]
  },
  {
   "cell_type": "markdown",
   "metadata": {},
   "source": [
    "2) Тестирование контрольнй группы 247 и экспериментальной группы 248:"
   ]
  },
  {
   "cell_type": "markdown",
   "metadata": {},
   "source": [
    "Н0: Статистически значимых отличий в доле пользователей, совершивших событие между контрольной 247 и экспериментальной группой нет.\\\n",
    "Н1: Статистически значимые отличия в доле пользователей, совершивших событие между контрольной и экспериментальной группой есть"
   ]
  },
  {
   "cell_type": "code",
   "execution_count": 61,
   "metadata": {},
   "outputs": [
    {
     "name": "stdout",
     "output_type": "stream",
     "text": [
      "Событие: MainScreenAppear\n",
      "p-значение:  0.5194964354051703\n",
      "Не получилось отвергнуть нулевую гипотезу, нет оснований считать доли разными\n",
      "\n",
      "Событие: OffersScreenAppear\n",
      "p-значение:  0.9333751305879443\n",
      "Не получилось отвергнуть нулевую гипотезу, нет оснований считать доли разными\n",
      "\n",
      "Событие: CartScreenAppear\n",
      "p-значение:  0.5878284605111943\n",
      "Не получилось отвергнуть нулевую гипотезу, нет оснований считать доли разными\n",
      "\n",
      "Событие: PaymentScreenSuccessful\n",
      "p-значение:  0.7275718682261119\n",
      "Не получилось отвергнуть нулевую гипотезу, нет оснований считать доли разными\n",
      "\n"
     ]
    }
   ],
   "source": [
    "for event in data_full['event_name'].unique():\n",
    "    z_test(data_full[data_full['exp_id'] == 247], data_full[data_full['exp_id'] == 248], event, 0.05, 16)\n",
    "    print()"
   ]
  },
  {
   "cell_type": "markdown",
   "metadata": {},
   "source": [
    "**Результат тестирования контрольной группы 247 и экспериментальной группы 248:**\n",
    "\n",
    "Во всех результатах значение p оказалось выше критического уровня значимости с поправкой Бонферрони.\n",
    "Между двумя группами нет статистически значимого отличия."
   ]
  },
  {
   "cell_type": "markdown",
   "metadata": {},
   "source": [
    "3) Тестирование объединенной контрольнй группы и экспериментальной группы 248:"
   ]
  },
  {
   "cell_type": "markdown",
   "metadata": {},
   "source": [
    "Н0: Статистически значимых отличий в доле пользователей, совершивших событие между объединенной контрольной и экспериментальной группой нет.\\\n",
    "Н1: Статистически значимые отличия в доле пользователей, совершивших событие между контрольной и экспериментальной группой есть"
   ]
  },
  {
   "cell_type": "code",
   "execution_count": 62,
   "metadata": {},
   "outputs": [
    {
     "name": "stdout",
     "output_type": "stream",
     "text": [
      "Событие: MainScreenAppear\n",
      "p-значение:  0.3486684291093256\n",
      "Не получилось отвергнуть нулевую гипотезу, нет оснований считать доли разными\n",
      "\n",
      "Событие: OffersScreenAppear\n",
      "p-значение:  0.44582745409482394\n",
      "Не получилось отвергнуть нулевую гипотезу, нет оснований считать доли разными\n",
      "\n",
      "Событие: CartScreenAppear\n",
      "p-значение:  0.18683558686831558\n",
      "Не получилось отвергнуть нулевую гипотезу, нет оснований считать доли разными\n",
      "\n",
      "Событие: PaymentScreenSuccessful\n",
      "p-значение:  0.6107918742187335\n",
      "Не получилось отвергнуть нулевую гипотезу, нет оснований считать доли разными\n",
      "\n"
     ]
    }
   ],
   "source": [
    "for event in data_full['event_name'].unique():\n",
    "    z_test(data_full[(data_full['exp_id'] == 246) | (data_full['exp_id'] == 247)], \n",
    "           data_full[data_full['exp_id'] == 248], event, 0.05, 16)\n",
    "    print()"
   ]
  },
  {
   "cell_type": "markdown",
   "metadata": {},
   "source": [
    "**Результат тестирования объединенной контрольной группы и экспериментальной группы 248:**\n",
    "\n",
    "Значение p оказалось выше критического уровня значимости с поправкой Бонферрони.\n",
    "Между двумя группами нет статистически значимого отличия."
   ]
  },
  {
   "cell_type": "markdown",
   "metadata": {},
   "source": [
    "**Таким образом, изменение шрифта в приложении никак не повлияло на поведение пользователей.**"
   ]
  },
  {
   "cell_type": "markdown",
   "metadata": {},
   "source": [
    "### Общий вывод"
   ]
  },
  {
   "cell_type": "markdown",
   "metadata": {},
   "source": [
    "**Результаты работы:**\n",
    "\n",
    "- Изучена общая информация об имеющихся данных, проведена проверка;\n",
    "- исследована воронка событий; \n",
    "- проведена проверка статистической значимости разности контрольных и экспериментальной гуппы;\n",
    "- изучены результаты экспериментов;\n",
    "- составлен общий вывод.\n",
    "\n",
    "**Исследование воронки событий показало:**\n",
    "\n",
    "- чаще всего посещался экран **MainScreenAppear (главный экран) - 117328 раз**. Реже всего **1005 раз** пользователи оставались на экране **Tutorial (обучение)**;\n",
    "- отсеяв период, за который имеются неполные данные (период до 1 августа 2019 года), было потеряно 2826 событий и 17 уникальных пользователей, что составляет 1.2% и 0.2% от общего объема данных соответственно;\n",
    "- **98.47% всех пользователей или 7419 пользователей** заходит на главный экран и только **11.15% всех пользователей** заходит на экран обучения. На экран карточки товара OffersScreenAppear зашло **4593 пользователя**, на экран корзины CartScreenAppear - **3734**, а до экрана оплаты PaymentScreenSuccessful\tдошло **3539 пользователей**;\n",
    "- по воронке событий **62.0% пользователей** с главного экрана (MainScreenAppear) переходит к следующему экрану - экрану товара (OffersScreenAppear). После экрана товара **81% пользователей** переходит к корзине (CartScreenAppear). Далее **95 % пользователей** переходит к оплате (PaymentScreenSuccessful).\n",
    "- **больше всего пользователей - 38%** - сервис теряет после главного экрана (MainScreenAppear).\n",
    "\n",
    "**Анализ A/A/B-теста позволил нам сделать следующие выводы:**\n",
    "\n",
    "- в 246 контрольной группе **2483** уникальных пользователя, в 247 контрольной группе **2512** уникальных пользователей, в 248 экспериментальной группе **2535** уникальных пользователей. Пользователей, которые числятся сразу в нескольких группах не обнаружено;\n",
    "- в результате тестирования двух контрольных групп, **статистически зачимых отличий в доле пользователей, совершивших событие не выявлено**, что дало нам уверенность в точности проведенного тестирования;\n",
    "- статистически значимых отличий в доле пользователей, совершивших событие между контрольными 246, 247 и экспериментальной группой не установлено. **Также значимых отличий не обнаружено между объединенной контрольной и экспериментальной группой.**\n",
    "\n",
    "**Таким образом, внесенные дизайнерами изменения в интерфейс приложения никаким образом не повлияли на поведение пользователей. Стоит проверить целесообразность наличия экрана Tutorial, который просматривают лишь 11.15% пользователей, а также выяснить, почему 38% пользователей не переходит дальше главного экрана.**"
   ]
  }
 ],
 "metadata": {
  "ExecuteTimeLog": [
   {
    "duration": 1410,
    "start_time": "2023-12-07T18:24:11.525Z"
   },
   {
    "duration": 605,
    "start_time": "2023-12-07T18:26:23.683Z"
   },
   {
    "duration": 21,
    "start_time": "2023-12-07T18:26:32.604Z"
   },
   {
    "duration": 11,
    "start_time": "2023-12-07T18:27:02.866Z"
   },
   {
    "duration": 316,
    "start_time": "2023-12-07T18:40:28.383Z"
   },
   {
    "duration": 6,
    "start_time": "2023-12-07T18:40:29.956Z"
   },
   {
    "duration": 7,
    "start_time": "2023-12-07T18:40:33.910Z"
   },
   {
    "duration": 3,
    "start_time": "2023-12-07T18:40:37.911Z"
   },
   {
    "duration": 301,
    "start_time": "2023-12-07T18:40:38.382Z"
   },
   {
    "duration": 7,
    "start_time": "2023-12-07T18:40:38.993Z"
   },
   {
    "duration": 1082,
    "start_time": "2023-12-07T18:40:45.179Z"
   },
   {
    "duration": 267,
    "start_time": "2023-12-07T18:40:46.263Z"
   },
   {
    "duration": 12,
    "start_time": "2023-12-07T18:40:46.531Z"
   },
   {
    "duration": 19,
    "start_time": "2023-12-07T18:41:00.065Z"
   },
   {
    "duration": 299,
    "start_time": "2023-12-07T18:41:25.876Z"
   },
   {
    "duration": 21,
    "start_time": "2023-12-07T18:41:26.621Z"
   },
   {
    "duration": 6,
    "start_time": "2023-12-07T18:41:33.751Z"
   },
   {
    "duration": 68,
    "start_time": "2023-12-07T18:41:39.238Z"
   },
   {
    "duration": 168,
    "start_time": "2023-12-07T18:41:54.520Z"
   },
   {
    "duration": 7,
    "start_time": "2023-12-07T18:41:55.401Z"
   },
   {
    "duration": 22,
    "start_time": "2023-12-07T18:42:14.175Z"
   },
   {
    "duration": 2,
    "start_time": "2023-12-07T18:44:34.289Z"
   },
   {
    "duration": 116,
    "start_time": "2023-12-07T18:52:44.011Z"
   },
   {
    "duration": 10,
    "start_time": "2023-12-07T18:52:48.644Z"
   },
   {
    "duration": 1128,
    "start_time": "2023-12-07T18:53:04.666Z"
   },
   {
    "duration": 177,
    "start_time": "2023-12-07T18:53:05.796Z"
   },
   {
    "duration": 25,
    "start_time": "2023-12-07T18:53:05.975Z"
   },
   {
    "duration": 28,
    "start_time": "2023-12-07T18:53:06.002Z"
   },
   {
    "duration": 166,
    "start_time": "2023-12-07T18:53:06.031Z"
   },
   {
    "duration": 9,
    "start_time": "2023-12-07T18:53:06.199Z"
   },
   {
    "duration": 7,
    "start_time": "2023-12-07T18:53:24.417Z"
   },
   {
    "duration": 9,
    "start_time": "2023-12-07T18:53:26.347Z"
   },
   {
    "duration": 10,
    "start_time": "2023-12-07T18:54:04.118Z"
   },
   {
    "duration": 10,
    "start_time": "2023-12-07T18:54:04.621Z"
   },
   {
    "duration": 8,
    "start_time": "2023-12-07T18:55:20.194Z"
   },
   {
    "duration": 10,
    "start_time": "2023-12-07T18:55:22.828Z"
   },
   {
    "duration": 101,
    "start_time": "2023-12-07T19:10:47.202Z"
   },
   {
    "duration": 44,
    "start_time": "2023-12-07T19:13:39.719Z"
   },
   {
    "duration": 5,
    "start_time": "2023-12-07T19:13:48.785Z"
   },
   {
    "duration": 935,
    "start_time": "2023-12-07T19:14:20.925Z"
   },
   {
    "duration": 9,
    "start_time": "2023-12-07T19:14:38.259Z"
   },
   {
    "duration": 851,
    "start_time": "2023-12-07T19:14:50.395Z"
   },
   {
    "duration": 1091,
    "start_time": "2023-12-07T19:36:46.295Z"
   },
   {
    "duration": 177,
    "start_time": "2023-12-07T19:36:47.388Z"
   },
   {
    "duration": 21,
    "start_time": "2023-12-07T19:36:47.566Z"
   },
   {
    "duration": 10,
    "start_time": "2023-12-07T19:36:47.589Z"
   },
   {
    "duration": 8,
    "start_time": "2023-12-07T19:36:47.600Z"
   },
   {
    "duration": 9,
    "start_time": "2023-12-07T19:36:47.610Z"
   },
   {
    "duration": 46,
    "start_time": "2023-12-07T19:36:47.642Z"
   },
   {
    "duration": 9,
    "start_time": "2023-12-07T19:36:47.689Z"
   },
   {
    "duration": 15,
    "start_time": "2023-12-07T19:37:57.771Z"
   },
   {
    "duration": 100,
    "start_time": "2023-12-07T19:38:11.083Z"
   },
   {
    "duration": 9,
    "start_time": "2023-12-07T19:38:15.303Z"
   },
   {
    "duration": 9,
    "start_time": "2023-12-07T19:38:22.272Z"
   },
   {
    "duration": 9,
    "start_time": "2023-12-07T19:38:27.670Z"
   },
   {
    "duration": 22,
    "start_time": "2023-12-07T19:41:10.039Z"
   },
   {
    "duration": 13,
    "start_time": "2023-12-07T19:42:49.631Z"
   },
   {
    "duration": 9,
    "start_time": "2023-12-07T19:42:51.299Z"
   },
   {
    "duration": 20,
    "start_time": "2023-12-07T19:42:59.931Z"
   },
   {
    "duration": 1082,
    "start_time": "2023-12-07T19:43:06.381Z"
   },
   {
    "duration": 167,
    "start_time": "2023-12-07T19:43:07.465Z"
   },
   {
    "duration": 22,
    "start_time": "2023-12-07T19:43:07.634Z"
   },
   {
    "duration": 10,
    "start_time": "2023-12-07T19:43:07.657Z"
   },
   {
    "duration": 10,
    "start_time": "2023-12-07T19:43:07.669Z"
   },
   {
    "duration": 9,
    "start_time": "2023-12-07T19:43:07.680Z"
   },
   {
    "duration": 30,
    "start_time": "2023-12-07T19:43:07.690Z"
   },
   {
    "duration": 15,
    "start_time": "2023-12-07T19:43:07.722Z"
   },
   {
    "duration": 35,
    "start_time": "2023-12-07T19:43:07.742Z"
   },
   {
    "duration": 8,
    "start_time": "2023-12-07T19:43:21.152Z"
   },
   {
    "duration": 12,
    "start_time": "2023-12-07T19:43:50.487Z"
   },
   {
    "duration": 9,
    "start_time": "2023-12-07T19:43:51.305Z"
   },
   {
    "duration": 1186,
    "start_time": "2023-12-07T19:44:01.371Z"
   },
   {
    "duration": 169,
    "start_time": "2023-12-07T19:44:02.559Z"
   },
   {
    "duration": 22,
    "start_time": "2023-12-07T19:44:02.729Z"
   },
   {
    "duration": 15,
    "start_time": "2023-12-07T19:44:02.752Z"
   },
   {
    "duration": 13,
    "start_time": "2023-12-07T19:44:02.769Z"
   },
   {
    "duration": 24,
    "start_time": "2023-12-07T19:44:02.783Z"
   },
   {
    "duration": 428,
    "start_time": "2023-12-07T19:44:02.809Z"
   },
   {
    "duration": 0,
    "start_time": "2023-12-07T19:44:03.239Z"
   },
   {
    "duration": 0,
    "start_time": "2023-12-07T19:44:03.240Z"
   },
   {
    "duration": 1157,
    "start_time": "2023-12-07T19:44:16.524Z"
   },
   {
    "duration": 176,
    "start_time": "2023-12-07T19:44:17.683Z"
   },
   {
    "duration": 22,
    "start_time": "2023-12-07T19:44:17.861Z"
   },
   {
    "duration": 21,
    "start_time": "2023-12-07T19:44:17.885Z"
   },
   {
    "duration": 12,
    "start_time": "2023-12-07T19:44:17.908Z"
   },
   {
    "duration": 10,
    "start_time": "2023-12-07T19:44:17.922Z"
   },
   {
    "duration": 16,
    "start_time": "2023-12-07T19:44:17.933Z"
   },
   {
    "duration": 7,
    "start_time": "2023-12-07T19:44:17.951Z"
   },
   {
    "duration": 24,
    "start_time": "2023-12-07T19:44:17.960Z"
   },
   {
    "duration": 13,
    "start_time": "2023-12-07T19:47:01.977Z"
   },
   {
    "duration": 13,
    "start_time": "2023-12-07T19:47:03.743Z"
   },
   {
    "duration": 23,
    "start_time": "2023-12-07T19:47:13.765Z"
   },
   {
    "duration": 1163,
    "start_time": "2023-12-07T19:47:22.140Z"
   },
   {
    "duration": 173,
    "start_time": "2023-12-07T19:47:23.306Z"
   },
   {
    "duration": 23,
    "start_time": "2023-12-07T19:47:23.480Z"
   },
   {
    "duration": 11,
    "start_time": "2023-12-07T19:47:23.505Z"
   },
   {
    "duration": 25,
    "start_time": "2023-12-07T19:47:23.518Z"
   },
   {
    "duration": 10,
    "start_time": "2023-12-07T19:47:23.545Z"
   },
   {
    "duration": 21,
    "start_time": "2023-12-07T19:47:23.557Z"
   },
   {
    "duration": 10,
    "start_time": "2023-12-07T19:47:23.579Z"
   },
   {
    "duration": 27,
    "start_time": "2023-12-07T19:47:23.591Z"
   },
   {
    "duration": 372,
    "start_time": "2023-12-07T19:48:35.756Z"
   },
   {
    "duration": 959,
    "start_time": "2023-12-07T19:52:44.799Z"
   },
   {
    "duration": 917,
    "start_time": "2023-12-07T19:53:00.134Z"
   },
   {
    "duration": 14,
    "start_time": "2023-12-07T19:55:20.584Z"
   },
   {
    "duration": 14,
    "start_time": "2023-12-07T19:55:27.567Z"
   },
   {
    "duration": 1189,
    "start_time": "2023-12-07T19:56:24.915Z"
   },
   {
    "duration": 177,
    "start_time": "2023-12-07T19:56:26.106Z"
   },
   {
    "duration": 20,
    "start_time": "2023-12-07T19:56:26.285Z"
   },
   {
    "duration": 9,
    "start_time": "2023-12-07T19:56:26.307Z"
   },
   {
    "duration": 27,
    "start_time": "2023-12-07T19:56:26.318Z"
   },
   {
    "duration": 10,
    "start_time": "2023-12-07T19:56:26.347Z"
   },
   {
    "duration": 13,
    "start_time": "2023-12-07T19:56:26.358Z"
   },
   {
    "duration": 8,
    "start_time": "2023-12-07T19:56:26.373Z"
   },
   {
    "duration": 15,
    "start_time": "2023-12-07T19:56:26.382Z"
   },
   {
    "duration": 17,
    "start_time": "2023-12-07T19:56:26.398Z"
   },
   {
    "duration": 89,
    "start_time": "2023-12-07T19:56:38.940Z"
   },
   {
    "duration": 13,
    "start_time": "2023-12-07T19:57:48.152Z"
   },
   {
    "duration": 12,
    "start_time": "2023-12-07T19:57:50.188Z"
   },
   {
    "duration": 1150,
    "start_time": "2023-12-07T19:57:59.430Z"
   },
   {
    "duration": 172,
    "start_time": "2023-12-07T19:58:00.582Z"
   },
   {
    "duration": 23,
    "start_time": "2023-12-07T19:58:00.756Z"
   },
   {
    "duration": 43,
    "start_time": "2023-12-07T19:58:00.780Z"
   },
   {
    "duration": 28,
    "start_time": "2023-12-07T19:58:00.825Z"
   },
   {
    "duration": 43,
    "start_time": "2023-12-07T19:58:00.855Z"
   },
   {
    "duration": 68,
    "start_time": "2023-12-07T19:58:00.900Z"
   },
   {
    "duration": 35,
    "start_time": "2023-12-07T19:58:00.969Z"
   },
   {
    "duration": 48,
    "start_time": "2023-12-07T19:58:01.005Z"
   },
   {
    "duration": 38,
    "start_time": "2023-12-07T19:58:01.054Z"
   },
   {
    "duration": 377,
    "start_time": "2023-12-07T19:58:29.470Z"
   },
   {
    "duration": 13,
    "start_time": "2023-12-07T19:58:30.238Z"
   },
   {
    "duration": 1171,
    "start_time": "2023-12-07T19:58:39.353Z"
   },
   {
    "duration": 173,
    "start_time": "2023-12-07T19:58:40.526Z"
   },
   {
    "duration": 22,
    "start_time": "2023-12-07T19:58:40.701Z"
   },
   {
    "duration": 10,
    "start_time": "2023-12-07T19:58:40.724Z"
   },
   {
    "duration": 6,
    "start_time": "2023-12-07T19:58:40.743Z"
   },
   {
    "duration": 8,
    "start_time": "2023-12-07T19:58:40.751Z"
   },
   {
    "duration": 11,
    "start_time": "2023-12-07T19:58:40.761Z"
   },
   {
    "duration": 9,
    "start_time": "2023-12-07T19:58:40.773Z"
   },
   {
    "duration": 400,
    "start_time": "2023-12-07T19:58:40.783Z"
   },
   {
    "duration": 0,
    "start_time": "2023-12-07T19:58:41.185Z"
   },
   {
    "duration": 12,
    "start_time": "2023-12-07T20:03:39.337Z"
   },
   {
    "duration": 14,
    "start_time": "2023-12-07T20:03:42.956Z"
   },
   {
    "duration": 1151,
    "start_time": "2023-12-07T20:04:06.212Z"
   },
   {
    "duration": 170,
    "start_time": "2023-12-07T20:04:07.364Z"
   },
   {
    "duration": 25,
    "start_time": "2023-12-07T20:04:07.536Z"
   },
   {
    "duration": 11,
    "start_time": "2023-12-07T20:04:07.563Z"
   },
   {
    "duration": 16,
    "start_time": "2023-12-07T20:04:07.575Z"
   },
   {
    "duration": 8,
    "start_time": "2023-12-07T20:04:07.592Z"
   },
   {
    "duration": 12,
    "start_time": "2023-12-07T20:04:07.601Z"
   },
   {
    "duration": 9,
    "start_time": "2023-12-07T20:04:07.614Z"
   },
   {
    "duration": 29,
    "start_time": "2023-12-07T20:04:07.624Z"
   },
   {
    "duration": 13,
    "start_time": "2023-12-07T20:04:07.655Z"
   },
   {
    "duration": 1066,
    "start_time": "2023-12-07T20:08:30.588Z"
   },
   {
    "duration": 187,
    "start_time": "2023-12-07T20:08:31.656Z"
   },
   {
    "duration": 24,
    "start_time": "2023-12-07T20:08:31.844Z"
   },
   {
    "duration": 11,
    "start_time": "2023-12-07T20:08:31.870Z"
   },
   {
    "duration": 29,
    "start_time": "2023-12-07T20:08:31.883Z"
   },
   {
    "duration": 20,
    "start_time": "2023-12-07T20:08:31.914Z"
   },
   {
    "duration": 35,
    "start_time": "2023-12-07T20:08:31.936Z"
   },
   {
    "duration": 8,
    "start_time": "2023-12-07T20:08:31.972Z"
   },
   {
    "duration": 17,
    "start_time": "2023-12-07T20:08:31.981Z"
   },
   {
    "duration": 73,
    "start_time": "2023-12-07T20:08:31.999Z"
   },
   {
    "duration": 22,
    "start_time": "2023-12-07T20:08:39.056Z"
   },
   {
    "duration": 97,
    "start_time": "2023-12-07T20:21:15.808Z"
   },
   {
    "duration": 85,
    "start_time": "2023-12-07T20:22:02.294Z"
   },
   {
    "duration": 15,
    "start_time": "2023-12-07T20:22:08.393Z"
   },
   {
    "duration": 32,
    "start_time": "2023-12-07T20:23:10.987Z"
   },
   {
    "duration": 113,
    "start_time": "2023-12-07T20:23:23.943Z"
   },
   {
    "duration": 79,
    "start_time": "2023-12-07T20:23:31.536Z"
   },
   {
    "duration": 384,
    "start_time": "2023-12-07T20:38:59.124Z"
   },
   {
    "duration": 118,
    "start_time": "2023-12-07T20:39:38.411Z"
   },
   {
    "duration": 101,
    "start_time": "2023-12-07T20:39:49.462Z"
   },
   {
    "duration": 1105,
    "start_time": "2023-12-07T20:41:53.377Z"
   },
   {
    "duration": 175,
    "start_time": "2023-12-07T20:41:54.484Z"
   },
   {
    "duration": 25,
    "start_time": "2023-12-07T20:41:54.660Z"
   },
   {
    "duration": 15,
    "start_time": "2023-12-07T20:41:54.686Z"
   },
   {
    "duration": 18,
    "start_time": "2023-12-07T20:41:54.702Z"
   },
   {
    "duration": 35,
    "start_time": "2023-12-07T20:41:54.722Z"
   },
   {
    "duration": 30,
    "start_time": "2023-12-07T20:41:54.758Z"
   },
   {
    "duration": 65,
    "start_time": "2023-12-07T20:41:54.789Z"
   },
   {
    "duration": 71,
    "start_time": "2023-12-07T20:41:54.856Z"
   },
   {
    "duration": 69,
    "start_time": "2023-12-07T20:41:54.929Z"
   },
   {
    "duration": 21,
    "start_time": "2023-12-07T20:41:54.999Z"
   },
   {
    "duration": 1323,
    "start_time": "2023-12-07T20:41:55.021Z"
   },
   {
    "duration": 0,
    "start_time": "2023-12-07T20:41:56.345Z"
   },
   {
    "duration": 22,
    "start_time": "2023-12-07T20:43:39.738Z"
   },
   {
    "duration": 38,
    "start_time": "2023-12-07T20:43:40.337Z"
   },
   {
    "duration": 1120,
    "start_time": "2023-12-07T20:43:47.267Z"
   },
   {
    "duration": 184,
    "start_time": "2023-12-07T20:43:48.389Z"
   },
   {
    "duration": 23,
    "start_time": "2023-12-07T20:43:48.574Z"
   },
   {
    "duration": 13,
    "start_time": "2023-12-07T20:43:48.599Z"
   },
   {
    "duration": 28,
    "start_time": "2023-12-07T20:43:48.615Z"
   },
   {
    "duration": 11,
    "start_time": "2023-12-07T20:43:48.644Z"
   },
   {
    "duration": 26,
    "start_time": "2023-12-07T20:43:48.656Z"
   },
   {
    "duration": 81,
    "start_time": "2023-12-07T20:43:48.683Z"
   },
   {
    "duration": 82,
    "start_time": "2023-12-07T20:43:48.766Z"
   },
   {
    "duration": 61,
    "start_time": "2023-12-07T20:43:48.849Z"
   },
   {
    "duration": 33,
    "start_time": "2023-12-07T20:43:48.911Z"
   },
   {
    "duration": 36,
    "start_time": "2023-12-07T20:43:48.945Z"
   },
   {
    "duration": 114,
    "start_time": "2023-12-07T20:43:48.983Z"
   },
   {
    "duration": 13,
    "start_time": "2023-12-07T20:43:49.099Z"
   },
   {
    "duration": 10,
    "start_time": "2023-12-07T20:44:52.847Z"
   },
   {
    "duration": 89,
    "start_time": "2023-12-07T20:44:54.313Z"
   },
   {
    "duration": 1269,
    "start_time": "2023-12-07T20:45:01.564Z"
   },
   {
    "duration": 182,
    "start_time": "2023-12-07T20:45:02.835Z"
   },
   {
    "duration": 22,
    "start_time": "2023-12-07T20:45:03.018Z"
   },
   {
    "duration": 15,
    "start_time": "2023-12-07T20:45:03.044Z"
   },
   {
    "duration": 6,
    "start_time": "2023-12-07T20:45:03.060Z"
   },
   {
    "duration": 12,
    "start_time": "2023-12-07T20:45:03.068Z"
   },
   {
    "duration": 22,
    "start_time": "2023-12-07T20:45:03.082Z"
   },
   {
    "duration": 89,
    "start_time": "2023-12-07T20:45:03.105Z"
   },
   {
    "duration": 82,
    "start_time": "2023-12-07T20:45:03.196Z"
   },
   {
    "duration": 69,
    "start_time": "2023-12-07T20:45:03.280Z"
   },
   {
    "duration": 20,
    "start_time": "2023-12-07T20:45:03.350Z"
   },
   {
    "duration": 7,
    "start_time": "2023-12-07T20:45:03.371Z"
   },
   {
    "duration": 105,
    "start_time": "2023-12-07T20:45:03.380Z"
   },
   {
    "duration": 13,
    "start_time": "2023-12-07T20:45:03.487Z"
   },
   {
    "duration": 8,
    "start_time": "2023-12-07T20:49:53.543Z"
   },
   {
    "duration": 85,
    "start_time": "2023-12-07T20:49:54.317Z"
   },
   {
    "duration": 1143,
    "start_time": "2023-12-07T20:50:26.581Z"
   },
   {
    "duration": 174,
    "start_time": "2023-12-07T20:50:27.726Z"
   },
   {
    "duration": 21,
    "start_time": "2023-12-07T20:50:27.901Z"
   },
   {
    "duration": 9,
    "start_time": "2023-12-07T20:50:27.924Z"
   },
   {
    "duration": 6,
    "start_time": "2023-12-07T20:50:27.942Z"
   },
   {
    "duration": 10,
    "start_time": "2023-12-07T20:50:27.949Z"
   },
   {
    "duration": 21,
    "start_time": "2023-12-07T20:50:27.960Z"
   },
   {
    "duration": 83,
    "start_time": "2023-12-07T20:50:27.982Z"
   },
   {
    "duration": 78,
    "start_time": "2023-12-07T20:50:28.066Z"
   },
   {
    "duration": 60,
    "start_time": "2023-12-07T20:50:28.146Z"
   },
   {
    "duration": 34,
    "start_time": "2023-12-07T20:50:28.208Z"
   },
   {
    "duration": 7,
    "start_time": "2023-12-07T20:50:28.244Z"
   },
   {
    "duration": 90,
    "start_time": "2023-12-07T20:50:28.252Z"
   },
   {
    "duration": 24,
    "start_time": "2023-12-07T20:50:28.345Z"
   },
   {
    "duration": 3,
    "start_time": "2023-12-07T20:51:29.155Z"
   },
   {
    "duration": 171,
    "start_time": "2023-12-07T20:51:29.159Z"
   },
   {
    "duration": 19,
    "start_time": "2023-12-07T20:51:29.331Z"
   },
   {
    "duration": 6,
    "start_time": "2023-12-07T20:51:29.352Z"
   },
   {
    "duration": 7,
    "start_time": "2023-12-07T20:51:29.360Z"
   },
   {
    "duration": 10,
    "start_time": "2023-12-07T20:51:29.369Z"
   },
   {
    "duration": 21,
    "start_time": "2023-12-07T20:51:29.381Z"
   },
   {
    "duration": 84,
    "start_time": "2023-12-07T20:51:29.403Z"
   },
   {
    "duration": 76,
    "start_time": "2023-12-07T20:51:29.488Z"
   },
   {
    "duration": 59,
    "start_time": "2023-12-07T20:51:29.566Z"
   },
   {
    "duration": 29,
    "start_time": "2023-12-07T20:51:29.627Z"
   },
   {
    "duration": 7,
    "start_time": "2023-12-07T20:51:29.657Z"
   },
   {
    "duration": 101,
    "start_time": "2023-12-07T20:51:29.666Z"
   },
   {
    "duration": 14,
    "start_time": "2023-12-07T20:51:29.769Z"
   },
   {
    "duration": 31,
    "start_time": "2023-12-07T21:01:24.482Z"
   },
   {
    "duration": 29,
    "start_time": "2023-12-07T21:01:36.405Z"
   },
   {
    "duration": 26,
    "start_time": "2023-12-07T21:01:49.209Z"
   },
   {
    "duration": 31,
    "start_time": "2023-12-07T21:02:00.007Z"
   },
   {
    "duration": 27,
    "start_time": "2023-12-07T21:02:59.965Z"
   },
   {
    "duration": 19,
    "start_time": "2023-12-07T21:03:25.348Z"
   },
   {
    "duration": 18,
    "start_time": "2023-12-07T21:03:43.720Z"
   },
   {
    "duration": 1273,
    "start_time": "2023-12-08T18:19:36.465Z"
   },
   {
    "duration": 734,
    "start_time": "2023-12-08T18:19:37.740Z"
   },
   {
    "duration": 22,
    "start_time": "2023-12-08T18:19:38.475Z"
   },
   {
    "duration": 11,
    "start_time": "2023-12-08T18:19:38.499Z"
   },
   {
    "duration": 11,
    "start_time": "2023-12-08T18:19:38.511Z"
   },
   {
    "duration": 12,
    "start_time": "2023-12-08T18:19:38.524Z"
   },
   {
    "duration": 33,
    "start_time": "2023-12-08T18:19:38.537Z"
   },
   {
    "duration": 81,
    "start_time": "2023-12-08T18:19:38.572Z"
   },
   {
    "duration": 79,
    "start_time": "2023-12-08T18:19:38.654Z"
   },
   {
    "duration": 62,
    "start_time": "2023-12-08T18:19:38.735Z"
   },
   {
    "duration": 25,
    "start_time": "2023-12-08T18:19:38.798Z"
   },
   {
    "duration": 24,
    "start_time": "2023-12-08T18:19:38.825Z"
   },
   {
    "duration": 7,
    "start_time": "2023-12-08T18:19:38.851Z"
   },
   {
    "duration": 115,
    "start_time": "2023-12-08T18:19:38.860Z"
   },
   {
    "duration": 14,
    "start_time": "2023-12-08T18:19:38.976Z"
   },
   {
    "duration": 30,
    "start_time": "2023-12-08T18:19:38.991Z"
   },
   {
    "duration": 19,
    "start_time": "2023-12-08T18:19:39.023Z"
   },
   {
    "duration": 39,
    "start_time": "2023-12-08T18:23:59.590Z"
   },
   {
    "duration": 7,
    "start_time": "2023-12-08T18:25:08.198Z"
   },
   {
    "duration": 106,
    "start_time": "2023-12-08T18:25:14.832Z"
   },
   {
    "duration": 11,
    "start_time": "2023-12-08T18:25:25.565Z"
   },
   {
    "duration": 10,
    "start_time": "2023-12-08T18:25:35.916Z"
   },
   {
    "duration": 11,
    "start_time": "2023-12-08T18:25:43.318Z"
   },
   {
    "duration": 10,
    "start_time": "2023-12-08T18:25:50.168Z"
   },
   {
    "duration": 9,
    "start_time": "2023-12-08T18:25:54.520Z"
   },
   {
    "duration": 7,
    "start_time": "2023-12-08T18:26:07.205Z"
   },
   {
    "duration": 11,
    "start_time": "2023-12-08T18:26:14.271Z"
   },
   {
    "duration": 13,
    "start_time": "2023-12-08T18:27:48.899Z"
   },
   {
    "duration": 7,
    "start_time": "2023-12-08T18:27:53.700Z"
   },
   {
    "duration": 14,
    "start_time": "2023-12-08T18:29:41.128Z"
   },
   {
    "duration": 3,
    "start_time": "2023-12-08T18:30:07.364Z"
   },
   {
    "duration": 9,
    "start_time": "2023-12-08T18:31:46.476Z"
   },
   {
    "duration": 8,
    "start_time": "2023-12-08T18:31:54.826Z"
   },
   {
    "duration": 7,
    "start_time": "2023-12-08T18:31:58.728Z"
   },
   {
    "duration": 4,
    "start_time": "2023-12-08T18:32:05.110Z"
   },
   {
    "duration": 32,
    "start_time": "2023-12-08T18:37:59.936Z"
   },
   {
    "duration": 10,
    "start_time": "2023-12-08T18:38:09.067Z"
   },
   {
    "duration": 9,
    "start_time": "2023-12-08T18:38:13.490Z"
   },
   {
    "duration": 10,
    "start_time": "2023-12-08T18:40:01.884Z"
   },
   {
    "duration": 19,
    "start_time": "2023-12-08T18:40:10.359Z"
   },
   {
    "duration": 40,
    "start_time": "2023-12-08T19:09:39.647Z"
   },
   {
    "duration": 42,
    "start_time": "2023-12-08T19:10:30.349Z"
   },
   {
    "duration": 19,
    "start_time": "2023-12-08T19:16:18.724Z"
   },
   {
    "duration": 19,
    "start_time": "2023-12-08T19:16:26.937Z"
   },
   {
    "duration": 10,
    "start_time": "2023-12-08T19:26:16.039Z"
   },
   {
    "duration": 11,
    "start_time": "2023-12-08T19:26:22.072Z"
   },
   {
    "duration": 10,
    "start_time": "2023-12-08T19:26:40.473Z"
   },
   {
    "duration": 63,
    "start_time": "2023-12-08T19:27:05.543Z"
   },
   {
    "duration": 12,
    "start_time": "2023-12-08T19:27:16.612Z"
   },
   {
    "duration": 55,
    "start_time": "2023-12-08T19:27:30.030Z"
   },
   {
    "duration": 11,
    "start_time": "2023-12-08T19:27:31.729Z"
   },
   {
    "duration": 55,
    "start_time": "2023-12-08T19:28:56.886Z"
   },
   {
    "duration": 13,
    "start_time": "2023-12-08T19:28:58.324Z"
   },
   {
    "duration": 67,
    "start_time": "2023-12-08T19:29:29.210Z"
   },
   {
    "duration": 18,
    "start_time": "2023-12-08T19:29:30.573Z"
   },
   {
    "duration": 58,
    "start_time": "2023-12-08T19:29:51.593Z"
   },
   {
    "duration": 18,
    "start_time": "2023-12-08T19:29:52.027Z"
   },
   {
    "duration": 1865,
    "start_time": "2023-12-08T19:29:54.443Z"
   },
   {
    "duration": 1910,
    "start_time": "2023-12-08T19:30:26.381Z"
   },
   {
    "duration": 67,
    "start_time": "2023-12-08T19:31:05.505Z"
   },
   {
    "duration": 16,
    "start_time": "2023-12-08T19:31:06.303Z"
   },
   {
    "duration": 617,
    "start_time": "2023-12-08T19:31:28.121Z"
   },
   {
    "duration": 23,
    "start_time": "2023-12-08T19:33:03.716Z"
   },
   {
    "duration": 12,
    "start_time": "2023-12-08T19:33:50.276Z"
   },
   {
    "duration": 44,
    "start_time": "2023-12-08T19:34:02.740Z"
   },
   {
    "duration": 612,
    "start_time": "2023-12-08T19:34:47.362Z"
   },
   {
    "duration": 629,
    "start_time": "2023-12-08T19:34:56.116Z"
   },
   {
    "duration": 61,
    "start_time": "2023-12-08T19:52:53.286Z"
   },
   {
    "duration": 42,
    "start_time": "2023-12-08T19:52:55.322Z"
   },
   {
    "duration": 58,
    "start_time": "2023-12-08T19:53:21.372Z"
   },
   {
    "duration": 42,
    "start_time": "2023-12-08T19:53:24.373Z"
   },
   {
    "duration": 64,
    "start_time": "2023-12-08T19:53:53.408Z"
   },
   {
    "duration": 52,
    "start_time": "2023-12-08T19:53:54.124Z"
   },
   {
    "duration": 54,
    "start_time": "2023-12-08T19:54:28.627Z"
   },
   {
    "duration": 14,
    "start_time": "2023-12-08T19:54:29.328Z"
   },
   {
    "duration": 690,
    "start_time": "2023-12-08T19:55:05.600Z"
   },
   {
    "duration": 53,
    "start_time": "2023-12-08T19:56:08.745Z"
   },
   {
    "duration": 591,
    "start_time": "2023-12-08T19:56:09.990Z"
   },
   {
    "duration": 45,
    "start_time": "2023-12-08T19:56:27.258Z"
   },
   {
    "duration": 42,
    "start_time": "2023-12-08T19:58:13.720Z"
   },
   {
    "duration": 26,
    "start_time": "2023-12-08T19:58:18.202Z"
   },
   {
    "duration": 79,
    "start_time": "2023-12-08T19:58:43.026Z"
   },
   {
    "duration": 68,
    "start_time": "2023-12-08T19:58:51.191Z"
   },
   {
    "duration": 54,
    "start_time": "2023-12-08T19:59:34.488Z"
   },
   {
    "duration": 70,
    "start_time": "2023-12-08T19:59:48.935Z"
   },
   {
    "duration": 46,
    "start_time": "2023-12-08T20:02:14.533Z"
   },
   {
    "duration": 31,
    "start_time": "2023-12-08T20:02:18.001Z"
   },
   {
    "duration": 27,
    "start_time": "2023-12-08T20:02:40.234Z"
   },
   {
    "duration": 58,
    "start_time": "2023-12-08T20:02:56.035Z"
   },
   {
    "duration": 559,
    "start_time": "2023-12-08T20:18:11.040Z"
   },
   {
    "duration": 55,
    "start_time": "2023-12-08T20:20:15.265Z"
   },
   {
    "duration": 255,
    "start_time": "2023-12-08T20:20:21.635Z"
   },
   {
    "duration": 44,
    "start_time": "2023-12-08T20:21:37.076Z"
   },
   {
    "duration": 263,
    "start_time": "2023-12-08T20:21:43.511Z"
   },
   {
    "duration": 215,
    "start_time": "2023-12-08T20:34:50.849Z"
   },
   {
    "duration": 29,
    "start_time": "2023-12-08T20:35:49.491Z"
   },
   {
    "duration": 218,
    "start_time": "2023-12-08T20:36:17.394Z"
   },
   {
    "duration": 217,
    "start_time": "2023-12-08T20:36:25.346Z"
   },
   {
    "duration": 12,
    "start_time": "2023-12-08T20:44:10.512Z"
   },
   {
    "duration": 61,
    "start_time": "2023-12-08T20:44:40.067Z"
   },
   {
    "duration": 238,
    "start_time": "2023-12-08T20:51:04.224Z"
   },
   {
    "duration": 193,
    "start_time": "2023-12-08T20:51:20.330Z"
   },
   {
    "duration": 214,
    "start_time": "2023-12-08T20:51:48.849Z"
   },
   {
    "duration": 254,
    "start_time": "2023-12-08T20:52:09.269Z"
   },
   {
    "duration": 27,
    "start_time": "2023-12-08T20:52:18.818Z"
   },
   {
    "duration": 31,
    "start_time": "2023-12-08T20:52:44.886Z"
   },
   {
    "duration": 32,
    "start_time": "2023-12-08T20:53:27.408Z"
   },
   {
    "duration": 38,
    "start_time": "2023-12-08T20:53:55.228Z"
   },
   {
    "duration": 205,
    "start_time": "2023-12-08T20:54:15.010Z"
   },
   {
    "duration": 40,
    "start_time": "2023-12-08T20:54:23.971Z"
   },
   {
    "duration": 258,
    "start_time": "2023-12-08T20:55:16.471Z"
   },
   {
    "duration": 231,
    "start_time": "2023-12-08T20:55:29.792Z"
   },
   {
    "duration": 38,
    "start_time": "2023-12-08T20:55:40.922Z"
   },
   {
    "duration": 228,
    "start_time": "2023-12-08T20:55:57.961Z"
   },
   {
    "duration": 229,
    "start_time": "2023-12-08T20:56:07.511Z"
   },
   {
    "duration": 1078,
    "start_time": "2023-12-08T20:57:05.473Z"
   },
   {
    "duration": 194,
    "start_time": "2023-12-08T20:57:06.553Z"
   },
   {
    "duration": 23,
    "start_time": "2023-12-08T20:57:06.748Z"
   },
   {
    "duration": 12,
    "start_time": "2023-12-08T20:57:06.773Z"
   },
   {
    "duration": 6,
    "start_time": "2023-12-08T20:57:06.786Z"
   },
   {
    "duration": 10,
    "start_time": "2023-12-08T20:57:06.814Z"
   },
   {
    "duration": 23,
    "start_time": "2023-12-08T20:57:06.825Z"
   },
   {
    "duration": 84,
    "start_time": "2023-12-08T20:57:06.849Z"
   },
   {
    "duration": 71,
    "start_time": "2023-12-08T20:57:06.934Z"
   },
   {
    "duration": 66,
    "start_time": "2023-12-08T20:57:07.014Z"
   },
   {
    "duration": 17,
    "start_time": "2023-12-08T20:57:07.082Z"
   },
   {
    "duration": 21,
    "start_time": "2023-12-08T20:57:07.114Z"
   },
   {
    "duration": 6,
    "start_time": "2023-12-08T20:57:07.137Z"
   },
   {
    "duration": 97,
    "start_time": "2023-12-08T20:57:07.145Z"
   },
   {
    "duration": 14,
    "start_time": "2023-12-08T20:57:07.244Z"
   },
   {
    "duration": 16,
    "start_time": "2023-12-08T20:57:07.260Z"
   },
   {
    "duration": 38,
    "start_time": "2023-12-08T20:57:07.278Z"
   },
   {
    "duration": 8,
    "start_time": "2023-12-08T20:57:07.318Z"
   },
   {
    "duration": 36,
    "start_time": "2023-12-08T20:57:07.328Z"
   },
   {
    "duration": 19,
    "start_time": "2023-12-08T20:57:07.366Z"
   },
   {
    "duration": 44,
    "start_time": "2023-12-08T20:57:07.387Z"
   },
   {
    "duration": 87,
    "start_time": "2023-12-08T20:57:07.433Z"
   },
   {
    "duration": 290,
    "start_time": "2023-12-08T20:57:07.521Z"
   },
   {
    "duration": 65,
    "start_time": "2023-12-08T20:57:07.814Z"
   },
   {
    "duration": 0,
    "start_time": "2023-12-08T20:57:07.881Z"
   },
   {
    "duration": 0,
    "start_time": "2023-12-08T20:57:07.882Z"
   },
   {
    "duration": 0,
    "start_time": "2023-12-08T20:57:07.884Z"
   },
   {
    "duration": 45,
    "start_time": "2023-12-08T20:57:17.148Z"
   },
   {
    "duration": 115,
    "start_time": "2023-12-08T20:57:24.069Z"
   },
   {
    "duration": 83,
    "start_time": "2023-12-08T20:57:47.588Z"
   },
   {
    "duration": 75,
    "start_time": "2023-12-08T20:58:04.590Z"
   },
   {
    "duration": 10,
    "start_time": "2023-12-08T20:58:17.709Z"
   },
   {
    "duration": 81,
    "start_time": "2023-12-08T20:58:30.359Z"
   },
   {
    "duration": 11,
    "start_time": "2023-12-08T20:58:31.191Z"
   },
   {
    "duration": 82,
    "start_time": "2023-12-08T20:58:55.513Z"
   },
   {
    "duration": 40,
    "start_time": "2023-12-08T20:59:00.247Z"
   },
   {
    "duration": 114,
    "start_time": "2023-12-08T20:59:18.563Z"
   },
   {
    "duration": 44,
    "start_time": "2023-12-08T20:59:19.380Z"
   },
   {
    "duration": 1199,
    "start_time": "2023-12-08T20:59:31.710Z"
   },
   {
    "duration": 191,
    "start_time": "2023-12-08T20:59:32.911Z"
   },
   {
    "duration": 22,
    "start_time": "2023-12-08T20:59:33.105Z"
   },
   {
    "duration": 11,
    "start_time": "2023-12-08T20:59:33.129Z"
   },
   {
    "duration": 8,
    "start_time": "2023-12-08T20:59:33.142Z"
   },
   {
    "duration": 10,
    "start_time": "2023-12-08T20:59:33.152Z"
   },
   {
    "duration": 23,
    "start_time": "2023-12-08T20:59:33.163Z"
   },
   {
    "duration": 63,
    "start_time": "2023-12-08T20:59:33.215Z"
   },
   {
    "duration": 84,
    "start_time": "2023-12-08T20:59:33.280Z"
   },
   {
    "duration": 71,
    "start_time": "2023-12-08T20:59:33.368Z"
   },
   {
    "duration": 18,
    "start_time": "2023-12-08T20:59:33.441Z"
   },
   {
    "duration": 34,
    "start_time": "2023-12-08T20:59:33.461Z"
   },
   {
    "duration": 20,
    "start_time": "2023-12-08T20:59:33.499Z"
   },
   {
    "duration": 94,
    "start_time": "2023-12-08T20:59:33.521Z"
   },
   {
    "duration": 17,
    "start_time": "2023-12-08T20:59:33.617Z"
   },
   {
    "duration": 32,
    "start_time": "2023-12-08T20:59:33.636Z"
   },
   {
    "duration": 46,
    "start_time": "2023-12-08T20:59:33.671Z"
   },
   {
    "duration": 10,
    "start_time": "2023-12-08T20:59:33.719Z"
   },
   {
    "duration": 38,
    "start_time": "2023-12-08T20:59:33.731Z"
   },
   {
    "duration": 44,
    "start_time": "2023-12-08T20:59:33.771Z"
   },
   {
    "duration": 30,
    "start_time": "2023-12-08T20:59:33.817Z"
   },
   {
    "duration": 97,
    "start_time": "2023-12-08T20:59:33.848Z"
   },
   {
    "duration": 404,
    "start_time": "2023-12-08T20:59:33.946Z"
   },
   {
    "duration": 114,
    "start_time": "2023-12-08T20:59:34.352Z"
   },
   {
    "duration": 0,
    "start_time": "2023-12-08T20:59:34.468Z"
   },
   {
    "duration": 0,
    "start_time": "2023-12-08T20:59:34.470Z"
   },
   {
    "duration": 0,
    "start_time": "2023-12-08T20:59:34.471Z"
   },
   {
    "duration": 0,
    "start_time": "2023-12-08T20:59:34.472Z"
   },
   {
    "duration": 29,
    "start_time": "2023-12-08T20:59:41.799Z"
   },
   {
    "duration": 89,
    "start_time": "2023-12-08T20:59:42.987Z"
   },
   {
    "duration": 30,
    "start_time": "2023-12-08T20:59:45.218Z"
   },
   {
    "duration": 339,
    "start_time": "2023-12-08T21:00:20.320Z"
   },
   {
    "duration": 199,
    "start_time": "2023-12-08T21:01:06.112Z"
   },
   {
    "duration": 63,
    "start_time": "2023-12-08T21:10:33.628Z"
   },
   {
    "duration": 48,
    "start_time": "2023-12-08T21:10:41.958Z"
   },
   {
    "duration": 9,
    "start_time": "2023-12-08T21:10:52.445Z"
   },
   {
    "duration": 239,
    "start_time": "2023-12-08T21:11:03.529Z"
   },
   {
    "duration": 196,
    "start_time": "2023-12-08T21:11:39.330Z"
   },
   {
    "duration": 212,
    "start_time": "2023-12-08T21:12:21.150Z"
   },
   {
    "duration": 220,
    "start_time": "2023-12-08T21:12:29.373Z"
   },
   {
    "duration": 255,
    "start_time": "2023-12-08T21:12:34.989Z"
   },
   {
    "duration": 17,
    "start_time": "2023-12-08T21:12:45.188Z"
   },
   {
    "duration": 16,
    "start_time": "2023-12-08T21:12:58.457Z"
   },
   {
    "duration": 38,
    "start_time": "2023-12-08T21:13:11.256Z"
   },
   {
    "duration": 63,
    "start_time": "2023-12-08T21:13:18.574Z"
   },
   {
    "duration": 235,
    "start_time": "2023-12-08T21:13:27.996Z"
   },
   {
    "duration": 9,
    "start_time": "2023-12-08T21:13:58.629Z"
   },
   {
    "duration": 261,
    "start_time": "2023-12-08T21:14:17.041Z"
   },
   {
    "duration": 238,
    "start_time": "2023-12-08T21:15:56.048Z"
   },
   {
    "duration": 4,
    "start_time": "2023-12-08T21:16:39.994Z"
   },
   {
    "duration": 218,
    "start_time": "2023-12-08T21:16:40.000Z"
   },
   {
    "duration": 21,
    "start_time": "2023-12-08T21:16:40.219Z"
   },
   {
    "duration": 9,
    "start_time": "2023-12-08T21:16:40.242Z"
   },
   {
    "duration": 7,
    "start_time": "2023-12-08T21:16:40.253Z"
   },
   {
    "duration": 15,
    "start_time": "2023-12-08T21:16:40.262Z"
   },
   {
    "duration": 64,
    "start_time": "2023-12-08T21:16:40.279Z"
   },
   {
    "duration": 98,
    "start_time": "2023-12-08T21:16:40.345Z"
   },
   {
    "duration": 90,
    "start_time": "2023-12-08T21:16:40.444Z"
   },
   {
    "duration": 62,
    "start_time": "2023-12-08T21:16:40.537Z"
   },
   {
    "duration": 30,
    "start_time": "2023-12-08T21:16:40.600Z"
   },
   {
    "duration": 25,
    "start_time": "2023-12-08T21:16:40.632Z"
   },
   {
    "duration": 9,
    "start_time": "2023-12-08T21:16:40.658Z"
   },
   {
    "duration": 109,
    "start_time": "2023-12-08T21:16:40.669Z"
   },
   {
    "duration": 15,
    "start_time": "2023-12-08T21:16:40.780Z"
   },
   {
    "duration": 30,
    "start_time": "2023-12-08T21:16:40.796Z"
   },
   {
    "duration": 32,
    "start_time": "2023-12-08T21:16:40.827Z"
   },
   {
    "duration": 9,
    "start_time": "2023-12-08T21:16:40.860Z"
   },
   {
    "duration": 56,
    "start_time": "2023-12-08T21:16:40.872Z"
   },
   {
    "duration": 19,
    "start_time": "2023-12-08T21:16:40.929Z"
   },
   {
    "duration": 42,
    "start_time": "2023-12-08T21:16:40.950Z"
   },
   {
    "duration": 124,
    "start_time": "2023-12-08T21:16:40.994Z"
   },
   {
    "duration": 348,
    "start_time": "2023-12-08T21:16:41.119Z"
   },
   {
    "duration": 210,
    "start_time": "2023-12-08T21:16:41.469Z"
   },
   {
    "duration": 0,
    "start_time": "2023-12-08T21:16:41.681Z"
   },
   {
    "duration": 308,
    "start_time": "2023-12-08T21:17:06.282Z"
   },
   {
    "duration": 190,
    "start_time": "2023-12-08T21:18:28.526Z"
   },
   {
    "duration": 32,
    "start_time": "2023-12-08T21:19:36.736Z"
   },
   {
    "duration": 40,
    "start_time": "2023-12-08T21:19:59.954Z"
   },
   {
    "duration": 27,
    "start_time": "2023-12-08T21:20:33.175Z"
   },
   {
    "duration": 12,
    "start_time": "2023-12-08T21:20:41.992Z"
   },
   {
    "duration": 27,
    "start_time": "2023-12-08T21:26:21.246Z"
   },
   {
    "duration": 12,
    "start_time": "2023-12-08T21:26:22.169Z"
   },
   {
    "duration": 26,
    "start_time": "2023-12-08T21:30:19.673Z"
   },
   {
    "duration": 17,
    "start_time": "2023-12-08T21:31:52.066Z"
   },
   {
    "duration": 20,
    "start_time": "2023-12-08T21:32:18.486Z"
   },
   {
    "duration": 30,
    "start_time": "2023-12-08T21:32:36.905Z"
   },
   {
    "duration": 61,
    "start_time": "2023-12-08T21:37:12.989Z"
   },
   {
    "duration": 56,
    "start_time": "2023-12-08T21:39:54.421Z"
   },
   {
    "duration": 1130,
    "start_time": "2023-12-08T21:40:04.426Z"
   },
   {
    "duration": 176,
    "start_time": "2023-12-08T21:40:05.557Z"
   },
   {
    "duration": 22,
    "start_time": "2023-12-08T21:40:05.735Z"
   },
   {
    "duration": 15,
    "start_time": "2023-12-08T21:40:05.758Z"
   },
   {
    "duration": 37,
    "start_time": "2023-12-08T21:40:05.775Z"
   },
   {
    "duration": 16,
    "start_time": "2023-12-08T21:40:05.814Z"
   },
   {
    "duration": 30,
    "start_time": "2023-12-08T21:40:05.832Z"
   },
   {
    "duration": 73,
    "start_time": "2023-12-08T21:40:05.864Z"
   },
   {
    "duration": 85,
    "start_time": "2023-12-08T21:40:05.938Z"
   },
   {
    "duration": 60,
    "start_time": "2023-12-08T21:40:06.025Z"
   },
   {
    "duration": 28,
    "start_time": "2023-12-08T21:40:06.087Z"
   },
   {
    "duration": 22,
    "start_time": "2023-12-08T21:40:06.116Z"
   },
   {
    "duration": 7,
    "start_time": "2023-12-08T21:40:06.139Z"
   },
   {
    "duration": 108,
    "start_time": "2023-12-08T21:40:06.148Z"
   },
   {
    "duration": 15,
    "start_time": "2023-12-08T21:40:06.258Z"
   },
   {
    "duration": 15,
    "start_time": "2023-12-08T21:40:06.274Z"
   },
   {
    "duration": 38,
    "start_time": "2023-12-08T21:40:06.291Z"
   },
   {
    "duration": 7,
    "start_time": "2023-12-08T21:40:06.330Z"
   },
   {
    "duration": 51,
    "start_time": "2023-12-08T21:40:06.338Z"
   },
   {
    "duration": 32,
    "start_time": "2023-12-08T21:40:06.390Z"
   },
   {
    "duration": 23,
    "start_time": "2023-12-08T21:40:06.423Z"
   },
   {
    "duration": 91,
    "start_time": "2023-12-08T21:40:06.447Z"
   },
   {
    "duration": 105,
    "start_time": "2023-12-08T21:40:06.540Z"
   },
   {
    "duration": 0,
    "start_time": "2023-12-08T21:40:06.646Z"
   },
   {
    "duration": 0,
    "start_time": "2023-12-08T21:40:06.648Z"
   },
   {
    "duration": 0,
    "start_time": "2023-12-08T21:40:06.649Z"
   },
   {
    "duration": 0,
    "start_time": "2023-12-08T21:40:06.650Z"
   },
   {
    "duration": 0,
    "start_time": "2023-12-08T21:40:06.651Z"
   },
   {
    "duration": 280,
    "start_time": "2023-12-08T21:41:07.662Z"
   },
   {
    "duration": 29,
    "start_time": "2023-12-08T21:41:14.910Z"
   },
   {
    "duration": 12,
    "start_time": "2023-12-08T21:41:15.961Z"
   },
   {
    "duration": 30,
    "start_time": "2023-12-08T21:41:19.112Z"
   },
   {
    "duration": 20,
    "start_time": "2023-12-08T21:41:20.011Z"
   },
   {
    "duration": 60,
    "start_time": "2023-12-08T21:41:23.745Z"
   },
   {
    "duration": 332,
    "start_time": "2023-12-08T21:42:28.621Z"
   },
   {
    "duration": 310,
    "start_time": "2023-12-08T21:44:03.897Z"
   },
   {
    "duration": 3,
    "start_time": "2023-12-09T14:55:15.818Z"
   },
   {
    "duration": 191,
    "start_time": "2023-12-09T14:55:15.823Z"
   },
   {
    "duration": 20,
    "start_time": "2023-12-09T14:55:16.015Z"
   },
   {
    "duration": 20,
    "start_time": "2023-12-09T14:55:16.036Z"
   },
   {
    "duration": 20,
    "start_time": "2023-12-09T14:55:16.057Z"
   },
   {
    "duration": 26,
    "start_time": "2023-12-09T14:55:16.078Z"
   },
   {
    "duration": 31,
    "start_time": "2023-12-09T14:55:16.106Z"
   },
   {
    "duration": 64,
    "start_time": "2023-12-09T14:55:16.139Z"
   },
   {
    "duration": 79,
    "start_time": "2023-12-09T14:55:16.204Z"
   },
   {
    "duration": 69,
    "start_time": "2023-12-09T14:55:16.284Z"
   },
   {
    "duration": 17,
    "start_time": "2023-12-09T14:55:16.354Z"
   },
   {
    "duration": 35,
    "start_time": "2023-12-09T14:55:16.372Z"
   },
   {
    "duration": 12,
    "start_time": "2023-12-09T14:55:16.410Z"
   },
   {
    "duration": 82,
    "start_time": "2023-12-09T14:55:16.423Z"
   },
   {
    "duration": 25,
    "start_time": "2023-12-09T14:55:16.507Z"
   },
   {
    "duration": 25,
    "start_time": "2023-12-09T14:55:16.534Z"
   },
   {
    "duration": 24,
    "start_time": "2023-12-09T14:55:16.560Z"
   },
   {
    "duration": 9,
    "start_time": "2023-12-09T14:55:16.586Z"
   },
   {
    "duration": 39,
    "start_time": "2023-12-09T14:55:16.597Z"
   },
   {
    "duration": 31,
    "start_time": "2023-12-09T14:55:16.637Z"
   },
   {
    "duration": 22,
    "start_time": "2023-12-09T14:55:16.669Z"
   },
   {
    "duration": 89,
    "start_time": "2023-12-09T14:55:16.693Z"
   },
   {
    "duration": 292,
    "start_time": "2023-12-09T14:55:16.784Z"
   },
   {
    "duration": 23,
    "start_time": "2023-12-09T14:55:17.077Z"
   },
   {
    "duration": 12,
    "start_time": "2023-12-09T14:55:17.102Z"
   },
   {
    "duration": 52,
    "start_time": "2023-12-09T14:55:17.115Z"
   },
   {
    "duration": 19,
    "start_time": "2023-12-09T14:55:17.169Z"
   },
   {
    "duration": 74,
    "start_time": "2023-12-09T14:55:17.190Z"
   },
   {
    "duration": 3,
    "start_time": "2023-12-09T14:55:17.308Z"
   },
   {
    "duration": 176,
    "start_time": "2023-12-09T14:55:17.312Z"
   },
   {
    "duration": 19,
    "start_time": "2023-12-09T14:55:17.490Z"
   },
   {
    "duration": 6,
    "start_time": "2023-12-09T14:55:17.511Z"
   },
   {
    "duration": 8,
    "start_time": "2023-12-09T14:55:17.519Z"
   },
   {
    "duration": 25,
    "start_time": "2023-12-09T14:55:17.528Z"
   },
   {
    "duration": 20,
    "start_time": "2023-12-09T14:55:17.554Z"
   },
   {
    "duration": 64,
    "start_time": "2023-12-09T14:55:17.576Z"
   },
   {
    "duration": 65,
    "start_time": "2023-12-09T14:55:17.653Z"
   },
   {
    "duration": 70,
    "start_time": "2023-12-09T14:55:17.720Z"
   },
   {
    "duration": 15,
    "start_time": "2023-12-09T14:55:17.791Z"
   },
   {
    "duration": 26,
    "start_time": "2023-12-09T14:55:17.808Z"
   },
   {
    "duration": 17,
    "start_time": "2023-12-09T14:55:17.836Z"
   },
   {
    "duration": 77,
    "start_time": "2023-12-09T14:55:17.855Z"
   },
   {
    "duration": 26,
    "start_time": "2023-12-09T14:55:17.934Z"
   },
   {
    "duration": 33,
    "start_time": "2023-12-09T14:55:17.961Z"
   },
   {
    "duration": 29,
    "start_time": "2023-12-09T14:55:17.995Z"
   },
   {
    "duration": 12,
    "start_time": "2023-12-09T14:55:18.026Z"
   },
   {
    "duration": 34,
    "start_time": "2023-12-09T14:55:18.040Z"
   },
   {
    "duration": 19,
    "start_time": "2023-12-09T14:55:18.076Z"
   },
   {
    "duration": 31,
    "start_time": "2023-12-09T14:55:18.096Z"
   },
   {
    "duration": 101,
    "start_time": "2023-12-09T14:55:18.128Z"
   },
   {
    "duration": 281,
    "start_time": "2023-12-09T14:55:18.230Z"
   },
   {
    "duration": 22,
    "start_time": "2023-12-09T14:55:18.514Z"
   },
   {
    "duration": 24,
    "start_time": "2023-12-09T14:55:18.538Z"
   },
   {
    "duration": 27,
    "start_time": "2023-12-09T14:55:18.563Z"
   },
   {
    "duration": 16,
    "start_time": "2023-12-09T14:55:18.592Z"
   },
   {
    "duration": 79,
    "start_time": "2023-12-09T14:55:18.610Z"
   },
   {
    "duration": 118,
    "start_time": "2023-12-09T15:46:27.778Z"
   },
   {
    "duration": 38,
    "start_time": "2023-12-09T15:47:12.155Z"
   },
   {
    "duration": 20,
    "start_time": "2023-12-09T15:47:44.753Z"
   },
   {
    "duration": 32,
    "start_time": "2023-12-09T15:47:53.719Z"
   },
   {
    "duration": 32,
    "start_time": "2023-12-09T15:48:02.321Z"
   },
   {
    "duration": 37,
    "start_time": "2023-12-09T15:48:21.806Z"
   },
   {
    "duration": 46,
    "start_time": "2023-12-09T15:49:17.745Z"
   },
   {
    "duration": 32,
    "start_time": "2023-12-09T15:49:45.432Z"
   },
   {
    "duration": 37,
    "start_time": "2023-12-09T15:50:15.570Z"
   },
   {
    "duration": 105,
    "start_time": "2023-12-09T15:50:35.920Z"
   },
   {
    "duration": 38,
    "start_time": "2023-12-09T15:50:59.340Z"
   },
   {
    "duration": 36,
    "start_time": "2023-12-09T15:52:03.214Z"
   },
   {
    "duration": 34,
    "start_time": "2023-12-09T15:52:08.916Z"
   },
   {
    "duration": 54,
    "start_time": "2023-12-09T16:24:06.442Z"
   },
   {
    "duration": 176,
    "start_time": "2023-12-09T16:26:05.024Z"
   },
   {
    "duration": 132,
    "start_time": "2023-12-09T16:27:11.281Z"
   },
   {
    "duration": 140,
    "start_time": "2023-12-09T16:27:53.752Z"
   },
   {
    "duration": 7,
    "start_time": "2023-12-09T16:29:11.962Z"
   },
   {
    "duration": 25,
    "start_time": "2023-12-09T16:29:20.162Z"
   },
   {
    "duration": 25,
    "start_time": "2023-12-09T16:29:38.281Z"
   },
   {
    "duration": 54,
    "start_time": "2023-12-09T16:29:42.165Z"
   },
   {
    "duration": 141,
    "start_time": "2023-12-09T16:30:00.433Z"
   },
   {
    "duration": 146,
    "start_time": "2023-12-09T16:30:24.604Z"
   },
   {
    "duration": 137,
    "start_time": "2023-12-09T16:30:32.038Z"
   },
   {
    "duration": 27,
    "start_time": "2023-12-09T16:43:10.908Z"
   },
   {
    "duration": 36,
    "start_time": "2023-12-09T16:43:21.611Z"
   },
   {
    "duration": 124,
    "start_time": "2023-12-09T16:43:24.758Z"
   },
   {
    "duration": 11,
    "start_time": "2023-12-09T16:48:45.479Z"
   },
   {
    "duration": 7,
    "start_time": "2023-12-09T16:48:54.544Z"
   },
   {
    "duration": 7,
    "start_time": "2023-12-09T16:49:02.860Z"
   },
   {
    "duration": 7,
    "start_time": "2023-12-09T16:49:10.997Z"
   },
   {
    "duration": 6,
    "start_time": "2023-12-09T16:49:12.596Z"
   },
   {
    "duration": 7,
    "start_time": "2023-12-09T16:49:35.732Z"
   },
   {
    "duration": 7,
    "start_time": "2023-12-09T16:49:37.266Z"
   },
   {
    "duration": 66,
    "start_time": "2023-12-09T16:50:34.039Z"
   },
   {
    "duration": 5,
    "start_time": "2023-12-09T17:40:18.741Z"
   },
   {
    "duration": 10,
    "start_time": "2023-12-09T17:40:31.790Z"
   },
   {
    "duration": 8,
    "start_time": "2023-12-09T17:40:50.376Z"
   },
   {
    "duration": 11,
    "start_time": "2023-12-09T17:41:03.777Z"
   },
   {
    "duration": 4,
    "start_time": "2023-12-09T18:09:45.537Z"
   },
   {
    "duration": 7,
    "start_time": "2023-12-09T18:09:52.735Z"
   },
   {
    "duration": 4,
    "start_time": "2023-12-09T18:10:11.638Z"
   },
   {
    "duration": 7,
    "start_time": "2023-12-09T18:10:13.338Z"
   },
   {
    "duration": 5,
    "start_time": "2023-12-09T18:10:37.259Z"
   },
   {
    "duration": 7,
    "start_time": "2023-12-09T18:10:37.961Z"
   },
   {
    "duration": 4,
    "start_time": "2023-12-09T18:17:06.699Z"
   },
   {
    "duration": 7,
    "start_time": "2023-12-09T18:17:08.323Z"
   },
   {
    "duration": 5,
    "start_time": "2023-12-09T18:17:13.988Z"
   },
   {
    "duration": 7,
    "start_time": "2023-12-09T18:17:16.085Z"
   },
   {
    "duration": 4,
    "start_time": "2023-12-09T18:17:27.231Z"
   },
   {
    "duration": 7,
    "start_time": "2023-12-09T18:17:41.040Z"
   },
   {
    "duration": 72,
    "start_time": "2023-12-09T20:22:01.007Z"
   },
   {
    "duration": 71,
    "start_time": "2023-12-09T20:22:33.727Z"
   },
   {
    "duration": 3,
    "start_time": "2023-12-09T20:23:11.894Z"
   },
   {
    "duration": 181,
    "start_time": "2023-12-09T20:23:11.899Z"
   },
   {
    "duration": 19,
    "start_time": "2023-12-09T20:23:12.081Z"
   },
   {
    "duration": 11,
    "start_time": "2023-12-09T20:23:12.101Z"
   },
   {
    "duration": 10,
    "start_time": "2023-12-09T20:23:12.114Z"
   },
   {
    "duration": 9,
    "start_time": "2023-12-09T20:23:12.126Z"
   },
   {
    "duration": 35,
    "start_time": "2023-12-09T20:23:12.136Z"
   },
   {
    "duration": 55,
    "start_time": "2023-12-09T20:23:12.173Z"
   },
   {
    "duration": 75,
    "start_time": "2023-12-09T20:23:12.230Z"
   },
   {
    "duration": 67,
    "start_time": "2023-12-09T20:23:12.307Z"
   },
   {
    "duration": 15,
    "start_time": "2023-12-09T20:23:12.377Z"
   },
   {
    "duration": 19,
    "start_time": "2023-12-09T20:23:12.393Z"
   },
   {
    "duration": 9,
    "start_time": "2023-12-09T20:23:12.413Z"
   },
   {
    "duration": 98,
    "start_time": "2023-12-09T20:23:12.423Z"
   },
   {
    "duration": 12,
    "start_time": "2023-12-09T20:23:12.523Z"
   },
   {
    "duration": 27,
    "start_time": "2023-12-09T20:23:12.537Z"
   },
   {
    "duration": 19,
    "start_time": "2023-12-09T20:23:12.565Z"
   },
   {
    "duration": 9,
    "start_time": "2023-12-09T20:23:12.586Z"
   },
   {
    "duration": 35,
    "start_time": "2023-12-09T20:23:12.596Z"
   },
   {
    "duration": 19,
    "start_time": "2023-12-09T20:23:12.652Z"
   },
   {
    "duration": 19,
    "start_time": "2023-12-09T20:23:12.672Z"
   },
   {
    "duration": 92,
    "start_time": "2023-12-09T20:23:12.693Z"
   },
   {
    "duration": 285,
    "start_time": "2023-12-09T20:23:12.787Z"
   },
   {
    "duration": 23,
    "start_time": "2023-12-09T20:23:13.074Z"
   },
   {
    "duration": 13,
    "start_time": "2023-12-09T20:23:13.098Z"
   },
   {
    "duration": 44,
    "start_time": "2023-12-09T20:23:13.112Z"
   },
   {
    "duration": 16,
    "start_time": "2023-12-09T20:23:13.157Z"
   },
   {
    "duration": 55,
    "start_time": "2023-12-09T20:23:13.174Z"
   },
   {
    "duration": 25,
    "start_time": "2023-12-09T20:23:13.251Z"
   },
   {
    "duration": 146,
    "start_time": "2023-12-09T20:23:13.278Z"
   },
   {
    "duration": 58,
    "start_time": "2023-12-09T20:23:13.425Z"
   },
   {
    "duration": 208,
    "start_time": "2023-12-09T20:23:13.485Z"
   },
   {
    "duration": 6,
    "start_time": "2023-12-09T20:23:13.694Z"
   },
   {
    "duration": 7,
    "start_time": "2023-12-09T20:23:13.702Z"
   },
   {
    "duration": 8,
    "start_time": "2023-12-09T20:23:13.710Z"
   },
   {
    "duration": 14,
    "start_time": "2023-12-09T20:23:13.719Z"
   },
   {
    "duration": 26,
    "start_time": "2023-12-09T20:23:13.734Z"
   },
   {
    "duration": 12,
    "start_time": "2023-12-09T20:23:13.761Z"
   },
   {
    "duration": 126,
    "start_time": "2023-12-09T20:23:13.774Z"
   },
   {
    "duration": 292,
    "start_time": "2023-12-09T20:23:34.145Z"
   },
   {
    "duration": 289,
    "start_time": "2023-12-09T20:23:52.399Z"
   },
   {
    "duration": 287,
    "start_time": "2023-12-09T20:24:47.737Z"
   },
   {
    "duration": 316,
    "start_time": "2023-12-09T20:26:05.364Z"
   },
   {
    "duration": 311,
    "start_time": "2023-12-09T20:26:35.431Z"
   },
   {
    "duration": 290,
    "start_time": "2023-12-09T20:26:54.252Z"
   },
   {
    "duration": 311,
    "start_time": "2023-12-09T20:27:01.521Z"
   },
   {
    "duration": 306,
    "start_time": "2023-12-09T20:27:07.420Z"
   },
   {
    "duration": 10,
    "start_time": "2023-12-09T20:32:35.825Z"
   },
   {
    "duration": 286,
    "start_time": "2023-12-09T20:33:38.899Z"
   },
   {
    "duration": 5,
    "start_time": "2023-12-09T20:33:52.182Z"
   },
   {
    "duration": 6,
    "start_time": "2023-12-09T20:34:41.370Z"
   },
   {
    "duration": 6,
    "start_time": "2023-12-09T20:35:55.830Z"
   },
   {
    "duration": 6,
    "start_time": "2023-12-09T20:37:59.627Z"
   },
   {
    "duration": 17,
    "start_time": "2023-12-09T20:38:35.127Z"
   },
   {
    "duration": 6,
    "start_time": "2023-12-09T20:38:59.432Z"
   },
   {
    "duration": 322,
    "start_time": "2023-12-09T20:40:11.792Z"
   },
   {
    "duration": 272,
    "start_time": "2023-12-09T20:40:18.796Z"
   },
   {
    "duration": 1233,
    "start_time": "2023-12-09T20:40:38.095Z"
   },
   {
    "duration": 11,
    "start_time": "2023-12-09T20:42:58.411Z"
   },
   {
    "duration": 11,
    "start_time": "2023-12-09T20:43:26.580Z"
   },
   {
    "duration": 11,
    "start_time": "2023-12-09T20:43:56.734Z"
   },
   {
    "duration": 68,
    "start_time": "2023-12-09T20:44:40.072Z"
   },
   {
    "duration": 11,
    "start_time": "2023-12-09T20:44:47.940Z"
   },
   {
    "duration": 6,
    "start_time": "2023-12-09T20:49:44.797Z"
   },
   {
    "duration": 95,
    "start_time": "2023-12-09T21:04:12.537Z"
   },
   {
    "duration": 78,
    "start_time": "2023-12-09T21:05:30.379Z"
   },
   {
    "duration": 83,
    "start_time": "2023-12-09T21:05:39.682Z"
   },
   {
    "duration": 12,
    "start_time": "2023-12-09T21:05:50.096Z"
   },
   {
    "duration": 4,
    "start_time": "2023-12-09T21:06:22.937Z"
   },
   {
    "duration": 336,
    "start_time": "2023-12-09T21:07:09.807Z"
   },
   {
    "duration": 326,
    "start_time": "2023-12-09T21:07:18.490Z"
   },
   {
    "duration": 3,
    "start_time": "2023-12-09T21:07:32.842Z"
   },
   {
    "duration": 347,
    "start_time": "2023-12-09T21:07:46.059Z"
   },
   {
    "duration": 3,
    "start_time": "2023-12-09T21:08:13.763Z"
   },
   {
    "duration": 3,
    "start_time": "2023-12-09T21:08:19.130Z"
   },
   {
    "duration": 3,
    "start_time": "2023-12-09T21:08:41.932Z"
   },
   {
    "duration": 4,
    "start_time": "2023-12-09T21:08:50.885Z"
   },
   {
    "duration": 3,
    "start_time": "2023-12-09T21:08:53.851Z"
   },
   {
    "duration": 4,
    "start_time": "2023-12-09T21:08:54.350Z"
   },
   {
    "duration": 3,
    "start_time": "2023-12-09T21:09:05.718Z"
   },
   {
    "duration": 4,
    "start_time": "2023-12-09T21:09:33.624Z"
   },
   {
    "duration": 3,
    "start_time": "2023-12-09T21:09:44.791Z"
   },
   {
    "duration": 4,
    "start_time": "2023-12-09T21:10:00.126Z"
   },
   {
    "duration": 4,
    "start_time": "2023-12-09T21:10:02.094Z"
   },
   {
    "duration": 8,
    "start_time": "2023-12-09T21:10:09.794Z"
   },
   {
    "duration": 11,
    "start_time": "2023-12-09T21:10:34.078Z"
   },
   {
    "duration": 12,
    "start_time": "2023-12-09T21:10:48.514Z"
   },
   {
    "duration": 9,
    "start_time": "2023-12-09T21:11:59.322Z"
   },
   {
    "duration": 6,
    "start_time": "2023-12-09T21:12:06.703Z"
   },
   {
    "duration": 7,
    "start_time": "2023-12-09T21:12:12.675Z"
   },
   {
    "duration": 7,
    "start_time": "2023-12-09T21:12:16.657Z"
   },
   {
    "duration": 8,
    "start_time": "2023-12-09T21:12:40.627Z"
   },
   {
    "duration": 14,
    "start_time": "2023-12-09T21:15:15.057Z"
   },
   {
    "duration": 7,
    "start_time": "2023-12-09T21:15:23.245Z"
   },
   {
    "duration": 16,
    "start_time": "2023-12-09T21:15:32.170Z"
   },
   {
    "duration": 9,
    "start_time": "2023-12-09T21:16:24.522Z"
   },
   {
    "duration": 11,
    "start_time": "2023-12-09T21:16:46.137Z"
   },
   {
    "duration": 9,
    "start_time": "2023-12-09T21:16:54.938Z"
   },
   {
    "duration": 8,
    "start_time": "2023-12-09T21:17:17.006Z"
   },
   {
    "duration": 8,
    "start_time": "2023-12-09T21:17:31.293Z"
   },
   {
    "duration": 309,
    "start_time": "2023-12-09T21:18:01.978Z"
   },
   {
    "duration": 9,
    "start_time": "2023-12-09T21:18:16.497Z"
   },
   {
    "duration": 8,
    "start_time": "2023-12-09T21:18:21.963Z"
   },
   {
    "duration": 8,
    "start_time": "2023-12-09T21:18:43.718Z"
   },
   {
    "duration": 7,
    "start_time": "2023-12-09T21:18:45.850Z"
   },
   {
    "duration": 6,
    "start_time": "2023-12-09T21:19:51.072Z"
   },
   {
    "duration": 6,
    "start_time": "2023-12-09T21:20:09.777Z"
   },
   {
    "duration": 8,
    "start_time": "2023-12-09T21:20:30.579Z"
   },
   {
    "duration": 8,
    "start_time": "2023-12-09T21:20:55.881Z"
   },
   {
    "duration": 9,
    "start_time": "2023-12-09T21:22:42.861Z"
   },
   {
    "duration": 8,
    "start_time": "2023-12-09T21:23:30.282Z"
   },
   {
    "duration": 6,
    "start_time": "2023-12-09T21:23:34.298Z"
   },
   {
    "duration": 71,
    "start_time": "2023-12-09T21:23:40.750Z"
   },
   {
    "duration": 7,
    "start_time": "2023-12-09T21:23:45.169Z"
   },
   {
    "duration": 5,
    "start_time": "2023-12-09T21:24:02.321Z"
   },
   {
    "duration": 6,
    "start_time": "2023-12-09T21:33:02.199Z"
   },
   {
    "duration": 5,
    "start_time": "2023-12-09T21:33:21.084Z"
   },
   {
    "duration": 380,
    "start_time": "2023-12-09T21:33:35.500Z"
   },
   {
    "duration": 316,
    "start_time": "2023-12-09T21:33:44.769Z"
   },
   {
    "duration": 7,
    "start_time": "2023-12-09T21:33:53.926Z"
   },
   {
    "duration": 4,
    "start_time": "2023-12-09T21:33:56.252Z"
   },
   {
    "duration": 3,
    "start_time": "2023-12-09T21:34:20.605Z"
   },
   {
    "duration": 7,
    "start_time": "2023-12-09T21:34:26.456Z"
   },
   {
    "duration": 128,
    "start_time": "2023-12-09T21:35:01.043Z"
   },
   {
    "duration": 86,
    "start_time": "2023-12-09T21:35:06.763Z"
   },
   {
    "duration": 7,
    "start_time": "2023-12-09T21:35:13.229Z"
   },
   {
    "duration": 6,
    "start_time": "2023-12-09T21:35:33.034Z"
   },
   {
    "duration": 7,
    "start_time": "2023-12-09T21:36:13.385Z"
   },
   {
    "duration": 7,
    "start_time": "2023-12-09T21:36:23.602Z"
   },
   {
    "duration": 18,
    "start_time": "2023-12-09T21:36:54.656Z"
   },
   {
    "duration": 8,
    "start_time": "2023-12-09T21:37:28.645Z"
   },
   {
    "duration": 12,
    "start_time": "2023-12-09T21:37:52.829Z"
   },
   {
    "duration": 6,
    "start_time": "2023-12-09T21:37:59.480Z"
   },
   {
    "duration": 14,
    "start_time": "2023-12-09T21:38:32.588Z"
   },
   {
    "duration": 1178,
    "start_time": "2023-12-09T21:38:39.917Z"
   },
   {
    "duration": 6,
    "start_time": "2023-12-09T21:39:38.243Z"
   },
   {
    "duration": 1160,
    "start_time": "2023-12-09T21:40:27.650Z"
   },
   {
    "duration": 1356,
    "start_time": "2023-12-09T21:43:59.773Z"
   },
   {
    "duration": 1154,
    "start_time": "2023-12-09T21:44:13.990Z"
   },
   {
    "duration": 4,
    "start_time": "2023-12-09T21:49:09.404Z"
   },
   {
    "duration": 9,
    "start_time": "2023-12-09T21:49:18.456Z"
   },
   {
    "duration": 2,
    "start_time": "2023-12-09T21:55:06.229Z"
   },
   {
    "duration": 338,
    "start_time": "2023-12-09T22:04:40.974Z"
   },
   {
    "duration": 5,
    "start_time": "2023-12-09T22:10:07.194Z"
   },
   {
    "duration": 10,
    "start_time": "2023-12-09T22:11:34.021Z"
   },
   {
    "duration": 9,
    "start_time": "2023-12-09T22:12:23.609Z"
   },
   {
    "duration": 9,
    "start_time": "2023-12-09T22:12:34.195Z"
   },
   {
    "duration": 9,
    "start_time": "2023-12-09T22:12:42.013Z"
   },
   {
    "duration": 15,
    "start_time": "2023-12-09T22:15:54.233Z"
   },
   {
    "duration": 4,
    "start_time": "2023-12-09T22:17:39.697Z"
   },
   {
    "duration": 9,
    "start_time": "2023-12-09T22:17:42.513Z"
   },
   {
    "duration": 11,
    "start_time": "2023-12-09T22:17:50.880Z"
   },
   {
    "duration": 4,
    "start_time": "2023-12-09T22:17:56.266Z"
   },
   {
    "duration": 4,
    "start_time": "2023-12-09T22:18:50.802Z"
   },
   {
    "duration": 9,
    "start_time": "2023-12-09T22:18:52.371Z"
   },
   {
    "duration": 4,
    "start_time": "2023-12-09T22:19:18.489Z"
   },
   {
    "duration": 8,
    "start_time": "2023-12-09T22:19:19.672Z"
   },
   {
    "duration": 115,
    "start_time": "2023-12-09T22:20:14.280Z"
   },
   {
    "duration": 115,
    "start_time": "2023-12-09T22:20:29.814Z"
   },
   {
    "duration": 1166,
    "start_time": "2023-12-09T22:20:56.900Z"
   },
   {
    "duration": 1115,
    "start_time": "2023-12-09T22:21:11.670Z"
   },
   {
    "duration": 175,
    "start_time": "2023-12-09T22:21:12.786Z"
   },
   {
    "duration": 22,
    "start_time": "2023-12-09T22:21:12.963Z"
   },
   {
    "duration": 9,
    "start_time": "2023-12-09T22:21:12.987Z"
   },
   {
    "duration": 6,
    "start_time": "2023-12-09T22:21:12.999Z"
   },
   {
    "duration": 11,
    "start_time": "2023-12-09T22:21:13.007Z"
   },
   {
    "duration": 53,
    "start_time": "2023-12-09T22:21:13.020Z"
   },
   {
    "duration": 79,
    "start_time": "2023-12-09T22:21:13.074Z"
   },
   {
    "duration": 68,
    "start_time": "2023-12-09T22:21:13.154Z"
   },
   {
    "duration": 68,
    "start_time": "2023-12-09T22:21:13.224Z"
   },
   {
    "duration": 15,
    "start_time": "2023-12-09T22:21:13.293Z"
   },
   {
    "duration": 38,
    "start_time": "2023-12-09T22:21:13.310Z"
   },
   {
    "duration": 6,
    "start_time": "2023-12-09T22:21:13.350Z"
   },
   {
    "duration": 95,
    "start_time": "2023-12-09T22:21:13.359Z"
   },
   {
    "duration": 13,
    "start_time": "2023-12-09T22:21:13.455Z"
   },
   {
    "duration": 16,
    "start_time": "2023-12-09T22:21:13.470Z"
   },
   {
    "duration": 20,
    "start_time": "2023-12-09T22:21:13.488Z"
   },
   {
    "duration": 8,
    "start_time": "2023-12-09T22:21:13.510Z"
   },
   {
    "duration": 59,
    "start_time": "2023-12-09T22:21:13.519Z"
   },
   {
    "duration": 17,
    "start_time": "2023-12-09T22:21:13.580Z"
   },
   {
    "duration": 37,
    "start_time": "2023-12-09T22:21:13.599Z"
   },
   {
    "duration": 69,
    "start_time": "2023-12-09T22:21:13.638Z"
   },
   {
    "duration": 272,
    "start_time": "2023-12-09T22:21:13.708Z"
   },
   {
    "duration": 25,
    "start_time": "2023-12-09T22:21:13.981Z"
   },
   {
    "duration": 12,
    "start_time": "2023-12-09T22:21:14.007Z"
   },
   {
    "duration": 41,
    "start_time": "2023-12-09T22:21:14.020Z"
   },
   {
    "duration": 16,
    "start_time": "2023-12-09T22:21:14.063Z"
   },
   {
    "duration": 56,
    "start_time": "2023-12-09T22:21:14.080Z"
   },
   {
    "duration": 26,
    "start_time": "2023-12-09T22:21:14.152Z"
   },
   {
    "duration": 139,
    "start_time": "2023-12-09T22:21:14.179Z"
   },
   {
    "duration": 58,
    "start_time": "2023-12-09T22:21:14.320Z"
   },
   {
    "duration": 138,
    "start_time": "2023-12-09T22:21:14.380Z"
   },
   {
    "duration": 7,
    "start_time": "2023-12-09T22:21:14.520Z"
   },
   {
    "duration": 8,
    "start_time": "2023-12-09T22:21:14.529Z"
   },
   {
    "duration": 20,
    "start_time": "2023-12-09T22:21:14.539Z"
   },
   {
    "duration": 8,
    "start_time": "2023-12-09T22:21:14.560Z"
   },
   {
    "duration": 17,
    "start_time": "2023-12-09T22:21:14.569Z"
   },
   {
    "duration": 1374,
    "start_time": "2023-12-09T22:21:14.588Z"
   },
   {
    "duration": 139,
    "start_time": "2023-12-09T22:23:39.469Z"
   },
   {
    "duration": 8,
    "start_time": "2023-12-09T22:24:41.279Z"
   },
   {
    "duration": 109,
    "start_time": "2023-12-09T22:24:43.609Z"
   },
   {
    "duration": 174,
    "start_time": "2023-12-09T22:25:23.034Z"
   },
   {
    "duration": 118,
    "start_time": "2023-12-09T22:25:36.922Z"
   },
   {
    "duration": 574,
    "start_time": "2023-12-09T22:26:34.022Z"
   },
   {
    "duration": 1143,
    "start_time": "2023-12-09T22:27:19.410Z"
   },
   {
    "duration": 1355,
    "start_time": "2023-12-09T22:27:48.079Z"
   },
   {
    "duration": 1131,
    "start_time": "2023-12-09T22:28:10.983Z"
   },
   {
    "duration": 1097,
    "start_time": "2023-12-09T22:29:12.755Z"
   },
   {
    "duration": 1202,
    "start_time": "2023-12-09T22:29:31.008Z"
   },
   {
    "duration": 11,
    "start_time": "2023-12-09T22:29:52.207Z"
   },
   {
    "duration": 11,
    "start_time": "2023-12-09T22:30:06.314Z"
   },
   {
    "duration": 10,
    "start_time": "2023-12-09T22:31:17.038Z"
   },
   {
    "duration": 7,
    "start_time": "2023-12-09T22:32:15.959Z"
   },
   {
    "duration": 7,
    "start_time": "2023-12-09T22:32:59.869Z"
   },
   {
    "duration": 197,
    "start_time": "2023-12-09T22:33:19.118Z"
   },
   {
    "duration": 127,
    "start_time": "2023-12-09T22:33:33.818Z"
   },
   {
    "duration": 135,
    "start_time": "2023-12-09T22:33:37.954Z"
   },
   {
    "duration": 1204,
    "start_time": "2023-12-09T22:35:34.746Z"
   },
   {
    "duration": 1178,
    "start_time": "2023-12-09T22:35:46.117Z"
   },
   {
    "duration": 10,
    "start_time": "2023-12-09T22:36:00.169Z"
   },
   {
    "duration": 1109,
    "start_time": "2023-12-09T22:36:18.387Z"
   },
   {
    "duration": 118,
    "start_time": "2023-12-09T22:36:27.204Z"
   },
   {
    "duration": 120,
    "start_time": "2023-12-09T22:36:51.704Z"
   },
   {
    "duration": 91,
    "start_time": "2023-12-09T22:37:10.393Z"
   },
   {
    "duration": 112,
    "start_time": "2023-12-09T22:37:30.075Z"
   },
   {
    "duration": 115,
    "start_time": "2023-12-09T22:37:47.983Z"
   },
   {
    "duration": 167,
    "start_time": "2023-12-09T22:37:59.289Z"
   },
   {
    "duration": 1334,
    "start_time": "2023-12-09T22:38:21.802Z"
   },
   {
    "duration": 154,
    "start_time": "2023-12-09T22:40:12.864Z"
   },
   {
    "duration": 3,
    "start_time": "2023-12-09T22:40:27.985Z"
   },
   {
    "duration": 209,
    "start_time": "2023-12-09T22:40:33.448Z"
   },
   {
    "duration": 122,
    "start_time": "2023-12-09T22:40:55.503Z"
   },
   {
    "duration": 6,
    "start_time": "2023-12-09T22:41:06.519Z"
   },
   {
    "duration": 9,
    "start_time": "2023-12-09T22:41:25.104Z"
   },
   {
    "duration": 121,
    "start_time": "2023-12-09T22:41:29.421Z"
   },
   {
    "duration": 125,
    "start_time": "2023-12-09T22:41:42.140Z"
   },
   {
    "duration": 114,
    "start_time": "2023-12-09T22:42:23.727Z"
   },
   {
    "duration": 110,
    "start_time": "2023-12-09T22:44:13.356Z"
   },
   {
    "duration": 13,
    "start_time": "2023-12-09T22:46:26.455Z"
   },
   {
    "duration": 9,
    "start_time": "2023-12-09T22:46:42.069Z"
   },
   {
    "duration": 8,
    "start_time": "2023-12-09T22:46:51.859Z"
   },
   {
    "duration": 9,
    "start_time": "2023-12-09T22:46:57.875Z"
   },
   {
    "duration": 7,
    "start_time": "2023-12-09T22:47:03.692Z"
   },
   {
    "duration": 8,
    "start_time": "2023-12-09T22:47:09.894Z"
   },
   {
    "duration": 12,
    "start_time": "2023-12-09T22:47:49.714Z"
   },
   {
    "duration": 11,
    "start_time": "2023-12-09T22:48:00.417Z"
   },
   {
    "duration": 9,
    "start_time": "2023-12-09T22:48:06.880Z"
   },
   {
    "duration": 4,
    "start_time": "2023-12-09T22:48:21.350Z"
   },
   {
    "duration": 3,
    "start_time": "2023-12-09T22:48:31.987Z"
   },
   {
    "duration": 3,
    "start_time": "2023-12-09T22:48:45.554Z"
   },
   {
    "duration": 12,
    "start_time": "2023-12-09T22:48:51.629Z"
   },
   {
    "duration": 8,
    "start_time": "2023-12-09T22:49:08.323Z"
   },
   {
    "duration": 8,
    "start_time": "2023-12-09T22:49:13.806Z"
   },
   {
    "duration": 11,
    "start_time": "2023-12-09T22:49:46.962Z"
   },
   {
    "duration": 3,
    "start_time": "2023-12-09T22:49:50.811Z"
   },
   {
    "duration": 1279,
    "start_time": "2023-12-11T09:33:34.707Z"
   },
   {
    "duration": 694,
    "start_time": "2023-12-11T09:33:35.987Z"
   },
   {
    "duration": 22,
    "start_time": "2023-12-11T09:33:36.682Z"
   },
   {
    "duration": 20,
    "start_time": "2023-12-11T09:33:36.705Z"
   },
   {
    "duration": 40,
    "start_time": "2023-12-11T09:33:36.727Z"
   },
   {
    "duration": 16,
    "start_time": "2023-12-11T09:33:36.768Z"
   },
   {
    "duration": 41,
    "start_time": "2023-12-11T09:33:36.786Z"
   },
   {
    "duration": 59,
    "start_time": "2023-12-11T09:33:36.829Z"
   },
   {
    "duration": 68,
    "start_time": "2023-12-11T09:33:36.890Z"
   },
   {
    "duration": 63,
    "start_time": "2023-12-11T09:33:36.960Z"
   },
   {
    "duration": 15,
    "start_time": "2023-12-11T09:33:37.024Z"
   },
   {
    "duration": 35,
    "start_time": "2023-12-11T09:33:37.041Z"
   },
   {
    "duration": 10,
    "start_time": "2023-12-11T09:33:37.078Z"
   },
   {
    "duration": 84,
    "start_time": "2023-12-11T09:33:37.089Z"
   },
   {
    "duration": 13,
    "start_time": "2023-12-11T09:33:37.174Z"
   },
   {
    "duration": 16,
    "start_time": "2023-12-11T09:33:37.199Z"
   },
   {
    "duration": 42,
    "start_time": "2023-12-11T09:33:37.217Z"
   },
   {
    "duration": 8,
    "start_time": "2023-12-11T09:33:37.261Z"
   },
   {
    "duration": 45,
    "start_time": "2023-12-11T09:33:37.270Z"
   },
   {
    "duration": 18,
    "start_time": "2023-12-11T09:33:37.317Z"
   },
   {
    "duration": 24,
    "start_time": "2023-12-11T09:33:37.337Z"
   },
   {
    "duration": 81,
    "start_time": "2023-12-11T09:33:37.362Z"
   },
   {
    "duration": 295,
    "start_time": "2023-12-11T09:33:37.444Z"
   },
   {
    "duration": 25,
    "start_time": "2023-12-11T09:33:37.741Z"
   },
   {
    "duration": 13,
    "start_time": "2023-12-11T09:33:37.767Z"
   },
   {
    "duration": 41,
    "start_time": "2023-12-11T09:33:37.781Z"
   },
   {
    "duration": 16,
    "start_time": "2023-12-11T09:33:37.823Z"
   },
   {
    "duration": 73,
    "start_time": "2023-12-11T09:33:37.841Z"
   },
   {
    "duration": 24,
    "start_time": "2023-12-11T09:33:37.915Z"
   },
   {
    "duration": 144,
    "start_time": "2023-12-11T09:33:37.941Z"
   },
   {
    "duration": 56,
    "start_time": "2023-12-11T09:33:38.086Z"
   },
   {
    "duration": 146,
    "start_time": "2023-12-11T09:33:38.144Z"
   },
   {
    "duration": 13,
    "start_time": "2023-12-11T09:33:38.291Z"
   },
   {
    "duration": 59,
    "start_time": "2023-12-11T09:33:38.305Z"
   },
   {
    "duration": 30,
    "start_time": "2023-12-11T09:33:38.365Z"
   },
   {
    "duration": 12,
    "start_time": "2023-12-11T09:33:38.396Z"
   },
   {
    "duration": 20,
    "start_time": "2023-12-11T09:33:38.409Z"
   },
   {
    "duration": 9,
    "start_time": "2023-12-11T09:33:38.430Z"
   },
   {
    "duration": 137,
    "start_time": "2023-12-11T09:33:38.441Z"
   },
   {
    "duration": 189,
    "start_time": "2023-12-11T09:35:50.162Z"
   },
   {
    "duration": 168,
    "start_time": "2023-12-11T09:37:16.555Z"
   },
   {
    "duration": 158,
    "start_time": "2023-12-11T09:37:56.110Z"
   },
   {
    "duration": 227,
    "start_time": "2023-12-11T09:38:09.776Z"
   },
   {
    "duration": 146,
    "start_time": "2023-12-11T09:38:17.030Z"
   },
   {
    "duration": 141,
    "start_time": "2023-12-11T09:38:22.579Z"
   },
   {
    "duration": 137,
    "start_time": "2023-12-11T09:39:36.466Z"
   },
   {
    "duration": 163,
    "start_time": "2023-12-11T09:39:42.605Z"
   },
   {
    "duration": 134,
    "start_time": "2023-12-11T09:39:48.472Z"
   },
   {
    "duration": 148,
    "start_time": "2023-12-11T09:40:01.353Z"
   },
   {
    "duration": 140,
    "start_time": "2023-12-11T09:40:08.356Z"
   },
   {
    "duration": 134,
    "start_time": "2023-12-11T09:40:22.691Z"
   },
   {
    "duration": 134,
    "start_time": "2023-12-11T09:40:28.745Z"
   },
   {
    "duration": 133,
    "start_time": "2023-12-11T09:40:38.026Z"
   },
   {
    "duration": 140,
    "start_time": "2023-12-11T09:40:53.312Z"
   },
   {
    "duration": 222,
    "start_time": "2023-12-11T09:41:19.171Z"
   },
   {
    "duration": 3,
    "start_time": "2023-12-11T10:07:21.812Z"
   },
   {
    "duration": 101,
    "start_time": "2023-12-11T10:11:17.641Z"
   },
   {
    "duration": 7,
    "start_time": "2023-12-11T10:11:21.658Z"
   },
   {
    "duration": 4,
    "start_time": "2023-12-11T10:11:25.975Z"
   },
   {
    "duration": 42,
    "start_time": "2023-12-11T10:12:08.914Z"
   },
   {
    "duration": 39,
    "start_time": "2023-12-11T10:33:31.656Z"
   },
   {
    "duration": 32,
    "start_time": "2023-12-11T10:33:44.006Z"
   },
   {
    "duration": 30,
    "start_time": "2023-12-11T10:54:54.777Z"
   },
   {
    "duration": 50,
    "start_time": "2023-12-11T12:39:49.431Z"
   },
   {
    "duration": 44,
    "start_time": "2023-12-11T12:39:57.467Z"
   },
   {
    "duration": 12,
    "start_time": "2023-12-11T12:42:05.895Z"
   },
   {
    "duration": 3,
    "start_time": "2023-12-11T12:42:28.415Z"
   },
   {
    "duration": 5,
    "start_time": "2023-12-11T12:42:33.481Z"
   },
   {
    "duration": 720,
    "start_time": "2023-12-11T12:42:42.746Z"
   },
   {
    "duration": 1055,
    "start_time": "2023-12-11T12:43:04.253Z"
   },
   {
    "duration": 183,
    "start_time": "2023-12-11T12:43:05.310Z"
   },
   {
    "duration": 22,
    "start_time": "2023-12-11T12:43:05.495Z"
   },
   {
    "duration": 37,
    "start_time": "2023-12-11T12:43:05.519Z"
   },
   {
    "duration": 26,
    "start_time": "2023-12-11T12:43:05.558Z"
   },
   {
    "duration": 35,
    "start_time": "2023-12-11T12:43:05.586Z"
   },
   {
    "duration": 72,
    "start_time": "2023-12-11T12:43:05.622Z"
   },
   {
    "duration": 88,
    "start_time": "2023-12-11T12:43:05.695Z"
   },
   {
    "duration": 76,
    "start_time": "2023-12-11T12:43:05.785Z"
   },
   {
    "duration": 71,
    "start_time": "2023-12-11T12:43:05.864Z"
   },
   {
    "duration": 16,
    "start_time": "2023-12-11T12:43:05.937Z"
   },
   {
    "duration": 46,
    "start_time": "2023-12-11T12:43:05.954Z"
   },
   {
    "duration": 7,
    "start_time": "2023-12-11T12:43:06.002Z"
   },
   {
    "duration": 87,
    "start_time": "2023-12-11T12:43:06.011Z"
   },
   {
    "duration": 13,
    "start_time": "2023-12-11T12:43:06.100Z"
   },
   {
    "duration": 41,
    "start_time": "2023-12-11T12:43:06.115Z"
   },
   {
    "duration": 32,
    "start_time": "2023-12-11T12:43:06.157Z"
   },
   {
    "duration": 16,
    "start_time": "2023-12-11T12:43:06.191Z"
   },
   {
    "duration": 76,
    "start_time": "2023-12-11T12:43:06.208Z"
   },
   {
    "duration": 17,
    "start_time": "2023-12-11T12:43:06.286Z"
   },
   {
    "duration": 32,
    "start_time": "2023-12-11T12:43:06.304Z"
   },
   {
    "duration": 90,
    "start_time": "2023-12-11T12:43:06.337Z"
   },
   {
    "duration": 270,
    "start_time": "2023-12-11T12:43:06.429Z"
   },
   {
    "duration": 25,
    "start_time": "2023-12-11T12:43:06.700Z"
   },
   {
    "duration": 25,
    "start_time": "2023-12-11T12:43:06.726Z"
   },
   {
    "duration": 52,
    "start_time": "2023-12-11T12:43:06.752Z"
   },
   {
    "duration": 15,
    "start_time": "2023-12-11T12:43:06.805Z"
   },
   {
    "duration": 66,
    "start_time": "2023-12-11T12:43:06.823Z"
   },
   {
    "duration": 28,
    "start_time": "2023-12-11T12:43:06.891Z"
   },
   {
    "duration": 151,
    "start_time": "2023-12-11T12:43:06.921Z"
   },
   {
    "duration": 64,
    "start_time": "2023-12-11T12:43:07.075Z"
   },
   {
    "duration": 135,
    "start_time": "2023-12-11T12:43:07.140Z"
   },
   {
    "duration": 8,
    "start_time": "2023-12-11T12:43:07.277Z"
   },
   {
    "duration": 47,
    "start_time": "2023-12-11T12:43:07.286Z"
   },
   {
    "duration": 25,
    "start_time": "2023-12-11T12:43:07.335Z"
   },
   {
    "duration": 21,
    "start_time": "2023-12-11T12:43:07.362Z"
   },
   {
    "duration": 39,
    "start_time": "2023-12-11T12:43:07.384Z"
   },
   {
    "duration": 32,
    "start_time": "2023-12-11T12:43:07.425Z"
   },
   {
    "duration": 159,
    "start_time": "2023-12-11T12:43:07.459Z"
   },
   {
    "duration": 34,
    "start_time": "2023-12-11T12:43:07.620Z"
   },
   {
    "duration": 59,
    "start_time": "2023-12-11T12:43:07.656Z"
   },
   {
    "duration": 49,
    "start_time": "2023-12-11T12:43:07.717Z"
   },
   {
    "duration": 830,
    "start_time": "2023-12-11T12:43:07.767Z"
   },
   {
    "duration": 0,
    "start_time": "2023-12-11T12:43:08.599Z"
   },
   {
    "duration": 4,
    "start_time": "2023-12-11T12:43:48.106Z"
   },
   {
    "duration": 4,
    "start_time": "2023-12-11T12:43:51.324Z"
   },
   {
    "duration": 790,
    "start_time": "2023-12-11T12:44:18.308Z"
   },
   {
    "duration": 727,
    "start_time": "2023-12-11T12:44:44.496Z"
   },
   {
    "duration": 50,
    "start_time": "2023-12-11T12:45:54.105Z"
   },
   {
    "duration": 11,
    "start_time": "2023-12-11T12:45:56.938Z"
   },
   {
    "duration": 4,
    "start_time": "2023-12-11T12:46:25.736Z"
   },
   {
    "duration": 12,
    "start_time": "2023-12-11T12:46:30.156Z"
   },
   {
    "duration": 1103,
    "start_time": "2023-12-11T12:46:35.918Z"
   },
   {
    "duration": 169,
    "start_time": "2023-12-11T12:46:37.022Z"
   },
   {
    "duration": 23,
    "start_time": "2023-12-11T12:46:37.192Z"
   },
   {
    "duration": 10,
    "start_time": "2023-12-11T12:46:37.217Z"
   },
   {
    "duration": 22,
    "start_time": "2023-12-11T12:46:37.229Z"
   },
   {
    "duration": 22,
    "start_time": "2023-12-11T12:46:37.253Z"
   },
   {
    "duration": 33,
    "start_time": "2023-12-11T12:46:37.277Z"
   },
   {
    "duration": 62,
    "start_time": "2023-12-11T12:46:37.311Z"
   },
   {
    "duration": 81,
    "start_time": "2023-12-11T12:46:37.375Z"
   },
   {
    "duration": 71,
    "start_time": "2023-12-11T12:46:37.457Z"
   },
   {
    "duration": 15,
    "start_time": "2023-12-11T12:46:37.529Z"
   },
   {
    "duration": 20,
    "start_time": "2023-12-11T12:46:37.545Z"
   },
   {
    "duration": 6,
    "start_time": "2023-12-11T12:46:37.567Z"
   },
   {
    "duration": 88,
    "start_time": "2023-12-11T12:46:37.576Z"
   },
   {
    "duration": 12,
    "start_time": "2023-12-11T12:46:37.666Z"
   },
   {
    "duration": 36,
    "start_time": "2023-12-11T12:46:37.679Z"
   },
   {
    "duration": 38,
    "start_time": "2023-12-11T12:46:37.716Z"
   },
   {
    "duration": 11,
    "start_time": "2023-12-11T12:46:37.755Z"
   },
   {
    "duration": 37,
    "start_time": "2023-12-11T12:46:37.768Z"
   },
   {
    "duration": 17,
    "start_time": "2023-12-11T12:46:37.806Z"
   },
   {
    "duration": 20,
    "start_time": "2023-12-11T12:46:37.824Z"
   },
   {
    "duration": 87,
    "start_time": "2023-12-11T12:46:37.845Z"
   },
   {
    "duration": 289,
    "start_time": "2023-12-11T12:46:37.934Z"
   },
   {
    "duration": 25,
    "start_time": "2023-12-11T12:46:38.225Z"
   },
   {
    "duration": 13,
    "start_time": "2023-12-11T12:46:38.252Z"
   },
   {
    "duration": 40,
    "start_time": "2023-12-11T12:46:38.267Z"
   },
   {
    "duration": 17,
    "start_time": "2023-12-11T12:46:38.309Z"
   },
   {
    "duration": 72,
    "start_time": "2023-12-11T12:46:38.328Z"
   },
   {
    "duration": 26,
    "start_time": "2023-12-11T12:46:38.402Z"
   },
   {
    "duration": 143,
    "start_time": "2023-12-11T12:46:38.430Z"
   },
   {
    "duration": 65,
    "start_time": "2023-12-11T12:46:38.575Z"
   },
   {
    "duration": 136,
    "start_time": "2023-12-11T12:46:38.642Z"
   },
   {
    "duration": 8,
    "start_time": "2023-12-11T12:46:38.780Z"
   },
   {
    "duration": 10,
    "start_time": "2023-12-11T12:46:38.799Z"
   },
   {
    "duration": 12,
    "start_time": "2023-12-11T12:46:38.811Z"
   },
   {
    "duration": 12,
    "start_time": "2023-12-11T12:46:38.825Z"
   },
   {
    "duration": 33,
    "start_time": "2023-12-11T12:46:38.839Z"
   },
   {
    "duration": 25,
    "start_time": "2023-12-11T12:46:38.874Z"
   },
   {
    "duration": 138,
    "start_time": "2023-12-11T12:46:38.900Z"
   },
   {
    "duration": 34,
    "start_time": "2023-12-11T12:46:39.040Z"
   },
   {
    "duration": 49,
    "start_time": "2023-12-11T12:46:39.077Z"
   },
   {
    "duration": 49,
    "start_time": "2023-12-11T12:46:39.127Z"
   },
   {
    "duration": 116,
    "start_time": "2023-12-11T12:46:39.177Z"
   },
   {
    "duration": 0,
    "start_time": "2023-12-11T12:46:39.294Z"
   },
   {
    "duration": 0,
    "start_time": "2023-12-11T12:46:39.299Z"
   },
   {
    "duration": 0,
    "start_time": "2023-12-11T12:46:39.300Z"
   },
   {
    "duration": 4,
    "start_time": "2023-12-11T12:47:27.777Z"
   },
   {
    "duration": 5,
    "start_time": "2023-12-11T12:47:28.462Z"
   },
   {
    "duration": 4,
    "start_time": "2023-12-11T12:47:28.981Z"
   },
   {
    "duration": 1066,
    "start_time": "2023-12-11T12:47:46.936Z"
   },
   {
    "duration": 168,
    "start_time": "2023-12-11T12:47:48.004Z"
   },
   {
    "duration": 25,
    "start_time": "2023-12-11T12:47:48.174Z"
   },
   {
    "duration": 10,
    "start_time": "2023-12-11T12:47:48.201Z"
   },
   {
    "duration": 9,
    "start_time": "2023-12-11T12:47:48.212Z"
   },
   {
    "duration": 9,
    "start_time": "2023-12-11T12:47:48.222Z"
   },
   {
    "duration": 23,
    "start_time": "2023-12-11T12:47:48.233Z"
   },
   {
    "duration": 83,
    "start_time": "2023-12-11T12:47:48.258Z"
   },
   {
    "duration": 82,
    "start_time": "2023-12-11T12:47:48.342Z"
   },
   {
    "duration": 58,
    "start_time": "2023-12-11T12:47:48.426Z"
   },
   {
    "duration": 27,
    "start_time": "2023-12-11T12:47:48.485Z"
   },
   {
    "duration": 54,
    "start_time": "2023-12-11T12:47:48.513Z"
   },
   {
    "duration": 6,
    "start_time": "2023-12-11T12:47:48.569Z"
   },
   {
    "duration": 77,
    "start_time": "2023-12-11T12:47:48.577Z"
   },
   {
    "duration": 13,
    "start_time": "2023-12-11T12:47:48.656Z"
   },
   {
    "duration": 13,
    "start_time": "2023-12-11T12:47:48.670Z"
   },
   {
    "duration": 16,
    "start_time": "2023-12-11T12:47:48.699Z"
   },
   {
    "duration": 6,
    "start_time": "2023-12-11T12:47:48.717Z"
   },
   {
    "duration": 35,
    "start_time": "2023-12-11T12:47:48.725Z"
   },
   {
    "duration": 16,
    "start_time": "2023-12-11T12:47:48.761Z"
   },
   {
    "duration": 26,
    "start_time": "2023-12-11T12:47:48.800Z"
   },
   {
    "duration": 95,
    "start_time": "2023-12-11T12:47:48.828Z"
   },
   {
    "duration": 273,
    "start_time": "2023-12-11T12:47:48.924Z"
   },
   {
    "duration": 24,
    "start_time": "2023-12-11T12:47:49.199Z"
   },
   {
    "duration": 12,
    "start_time": "2023-12-11T12:47:49.225Z"
   },
   {
    "duration": 24,
    "start_time": "2023-12-11T12:47:49.238Z"
   },
   {
    "duration": 39,
    "start_time": "2023-12-11T12:47:49.264Z"
   },
   {
    "duration": 55,
    "start_time": "2023-12-11T12:47:49.306Z"
   },
   {
    "duration": 38,
    "start_time": "2023-12-11T12:47:49.363Z"
   },
   {
    "duration": 136,
    "start_time": "2023-12-11T12:47:49.402Z"
   },
   {
    "duration": 64,
    "start_time": "2023-12-11T12:47:49.539Z"
   },
   {
    "duration": 153,
    "start_time": "2023-12-11T12:47:49.605Z"
   },
   {
    "duration": 7,
    "start_time": "2023-12-11T12:47:49.760Z"
   },
   {
    "duration": 7,
    "start_time": "2023-12-11T12:47:49.768Z"
   },
   {
    "duration": 23,
    "start_time": "2023-12-11T12:47:49.777Z"
   },
   {
    "duration": 5,
    "start_time": "2023-12-11T12:47:49.802Z"
   },
   {
    "duration": 12,
    "start_time": "2023-12-11T12:47:49.808Z"
   },
   {
    "duration": 5,
    "start_time": "2023-12-11T12:47:49.822Z"
   },
   {
    "duration": 147,
    "start_time": "2023-12-11T12:47:49.829Z"
   },
   {
    "duration": 44,
    "start_time": "2023-12-11T12:47:49.978Z"
   },
   {
    "duration": 39,
    "start_time": "2023-12-11T12:47:50.024Z"
   },
   {
    "duration": 64,
    "start_time": "2023-12-11T12:47:50.064Z"
   },
   {
    "duration": 101,
    "start_time": "2023-12-11T12:47:50.130Z"
   },
   {
    "duration": 0,
    "start_time": "2023-12-11T12:47:50.232Z"
   },
   {
    "duration": 0,
    "start_time": "2023-12-11T12:47:50.234Z"
   },
   {
    "duration": 0,
    "start_time": "2023-12-11T12:47:50.235Z"
   },
   {
    "duration": 11,
    "start_time": "2023-12-11T12:49:10.531Z"
   },
   {
    "duration": 10,
    "start_time": "2023-12-11T12:49:23.857Z"
   },
   {
    "duration": 10,
    "start_time": "2023-12-11T12:55:05.181Z"
   },
   {
    "duration": 7,
    "start_time": "2023-12-11T12:56:49.541Z"
   },
   {
    "duration": 10,
    "start_time": "2023-12-11T12:59:12.310Z"
   },
   {
    "duration": 30,
    "start_time": "2023-12-11T13:52:45.118Z"
   },
   {
    "duration": 51,
    "start_time": "2023-12-11T13:52:54.399Z"
   },
   {
    "duration": 56,
    "start_time": "2023-12-11T13:56:58.594Z"
   },
   {
    "duration": 64,
    "start_time": "2023-12-11T13:57:03.247Z"
   },
   {
    "duration": 41,
    "start_time": "2023-12-11T13:57:09.910Z"
   },
   {
    "duration": 56,
    "start_time": "2023-12-11T14:04:52.579Z"
   },
   {
    "duration": 9,
    "start_time": "2023-12-11T14:04:58.231Z"
   },
   {
    "duration": 19,
    "start_time": "2023-12-11T14:05:09.019Z"
   },
   {
    "duration": 18,
    "start_time": "2023-12-11T14:06:17.656Z"
   },
   {
    "duration": 16,
    "start_time": "2023-12-11T14:06:27.557Z"
   },
   {
    "duration": 29,
    "start_time": "2023-12-11T14:06:41.874Z"
   },
   {
    "duration": 29,
    "start_time": "2023-12-11T14:06:51.612Z"
   },
   {
    "duration": 20,
    "start_time": "2023-12-11T14:07:25.178Z"
   },
   {
    "duration": 12,
    "start_time": "2023-12-11T14:07:28.532Z"
   },
   {
    "duration": 5,
    "start_time": "2023-12-11T14:07:39.665Z"
   },
   {
    "duration": 12,
    "start_time": "2023-12-11T14:22:51.049Z"
   },
   {
    "duration": 5,
    "start_time": "2023-12-11T14:26:19.054Z"
   },
   {
    "duration": 8,
    "start_time": "2023-12-11T14:26:29.656Z"
   },
   {
    "duration": 8,
    "start_time": "2023-12-11T14:26:45.810Z"
   },
   {
    "duration": 12,
    "start_time": "2023-12-11T14:27:10.694Z"
   },
   {
    "duration": 5,
    "start_time": "2023-12-11T14:27:31.397Z"
   },
   {
    "duration": 6,
    "start_time": "2023-12-11T14:27:43.236Z"
   },
   {
    "duration": 11,
    "start_time": "2023-12-11T14:28:36.971Z"
   },
   {
    "duration": 11,
    "start_time": "2023-12-11T14:28:40.704Z"
   },
   {
    "duration": 25,
    "start_time": "2023-12-11T14:45:06.714Z"
   },
   {
    "duration": 17,
    "start_time": "2023-12-11T14:50:43.552Z"
   },
   {
    "duration": 6,
    "start_time": "2023-12-11T14:50:45.634Z"
   },
   {
    "duration": 744,
    "start_time": "2023-12-11T14:51:31.840Z"
   },
   {
    "duration": 28,
    "start_time": "2023-12-11T14:51:54.976Z"
   },
   {
    "duration": 7,
    "start_time": "2023-12-11T14:51:59.208Z"
   },
   {
    "duration": 28,
    "start_time": "2023-12-11T14:52:32.479Z"
   },
   {
    "duration": 6,
    "start_time": "2023-12-11T14:52:41.196Z"
   },
   {
    "duration": 6,
    "start_time": "2023-12-11T14:52:46.348Z"
   },
   {
    "duration": 849,
    "start_time": "2023-12-11T14:53:24.736Z"
   },
   {
    "duration": 11,
    "start_time": "2023-12-11T14:53:33.122Z"
   },
   {
    "duration": 7,
    "start_time": "2023-12-11T14:54:08.387Z"
   },
   {
    "duration": 1170,
    "start_time": "2023-12-11T14:56:12.474Z"
   },
   {
    "duration": 176,
    "start_time": "2023-12-11T14:56:13.645Z"
   },
   {
    "duration": 20,
    "start_time": "2023-12-11T14:56:13.823Z"
   },
   {
    "duration": 14,
    "start_time": "2023-12-11T14:56:13.845Z"
   },
   {
    "duration": 17,
    "start_time": "2023-12-11T14:56:13.861Z"
   },
   {
    "duration": 20,
    "start_time": "2023-12-11T14:56:13.880Z"
   },
   {
    "duration": 29,
    "start_time": "2023-12-11T14:56:13.901Z"
   },
   {
    "duration": 69,
    "start_time": "2023-12-11T14:56:13.932Z"
   },
   {
    "duration": 70,
    "start_time": "2023-12-11T14:56:14.003Z"
   },
   {
    "duration": 67,
    "start_time": "2023-12-11T14:56:14.076Z"
   },
   {
    "duration": 15,
    "start_time": "2023-12-11T14:56:14.144Z"
   },
   {
    "duration": 19,
    "start_time": "2023-12-11T14:56:14.161Z"
   },
   {
    "duration": 22,
    "start_time": "2023-12-11T14:56:14.181Z"
   },
   {
    "duration": 84,
    "start_time": "2023-12-11T14:56:14.205Z"
   },
   {
    "duration": 18,
    "start_time": "2023-12-11T14:56:14.291Z"
   },
   {
    "duration": 14,
    "start_time": "2023-12-11T14:56:14.310Z"
   },
   {
    "duration": 20,
    "start_time": "2023-12-11T14:56:14.325Z"
   },
   {
    "duration": 10,
    "start_time": "2023-12-11T14:56:14.346Z"
   },
   {
    "duration": 52,
    "start_time": "2023-12-11T14:56:14.357Z"
   },
   {
    "duration": 18,
    "start_time": "2023-12-11T14:56:14.411Z"
   },
   {
    "duration": 23,
    "start_time": "2023-12-11T14:56:14.431Z"
   },
   {
    "duration": 87,
    "start_time": "2023-12-11T14:56:14.455Z"
   },
   {
    "duration": 270,
    "start_time": "2023-12-11T14:56:14.544Z"
   },
   {
    "duration": 23,
    "start_time": "2023-12-11T14:56:14.816Z"
   },
   {
    "duration": 11,
    "start_time": "2023-12-11T14:56:14.841Z"
   },
   {
    "duration": 33,
    "start_time": "2023-12-11T14:56:14.854Z"
   },
   {
    "duration": 16,
    "start_time": "2023-12-11T14:56:14.899Z"
   },
   {
    "duration": 56,
    "start_time": "2023-12-11T14:56:14.919Z"
   },
   {
    "duration": 40,
    "start_time": "2023-12-11T14:56:14.976Z"
   },
   {
    "duration": 171,
    "start_time": "2023-12-11T14:56:15.018Z"
   },
   {
    "duration": 56,
    "start_time": "2023-12-11T14:56:15.191Z"
   },
   {
    "duration": 151,
    "start_time": "2023-12-11T14:56:15.248Z"
   },
   {
    "duration": 8,
    "start_time": "2023-12-11T14:56:15.400Z"
   },
   {
    "duration": 8,
    "start_time": "2023-12-11T14:56:15.409Z"
   },
   {
    "duration": 13,
    "start_time": "2023-12-11T14:56:15.419Z"
   },
   {
    "duration": 5,
    "start_time": "2023-12-11T14:56:15.434Z"
   },
   {
    "duration": 10,
    "start_time": "2023-12-11T14:56:15.441Z"
   },
   {
    "duration": 8,
    "start_time": "2023-12-11T14:56:15.453Z"
   },
   {
    "duration": 154,
    "start_time": "2023-12-11T14:56:15.462Z"
   },
   {
    "duration": 34,
    "start_time": "2023-12-11T14:56:15.618Z"
   },
   {
    "duration": 60,
    "start_time": "2023-12-11T14:56:15.654Z"
   },
   {
    "duration": 20,
    "start_time": "2023-12-11T14:56:15.716Z"
   },
   {
    "duration": 37,
    "start_time": "2023-12-11T14:56:15.737Z"
   },
   {
    "duration": 5,
    "start_time": "2023-12-11T14:56:15.776Z"
   },
   {
    "duration": 19,
    "start_time": "2023-12-11T14:56:15.782Z"
   },
   {
    "duration": 7,
    "start_time": "2023-12-11T14:56:15.803Z"
   },
   {
    "duration": 8,
    "start_time": "2023-12-11T14:56:15.811Z"
   },
   {
    "duration": 843,
    "start_time": "2023-12-11T14:56:15.821Z"
   },
   {
    "duration": 0,
    "start_time": "2023-12-11T14:56:16.666Z"
   },
   {
    "duration": 29,
    "start_time": "2023-12-11T15:03:10.950Z"
   },
   {
    "duration": 38,
    "start_time": "2023-12-11T15:03:49.078Z"
   },
   {
    "duration": 9,
    "start_time": "2023-12-11T15:04:10.108Z"
   },
   {
    "duration": 36,
    "start_time": "2023-12-11T15:04:13.840Z"
   },
   {
    "duration": 8,
    "start_time": "2023-12-11T15:04:14.575Z"
   },
   {
    "duration": 7,
    "start_time": "2023-12-11T15:04:19.107Z"
   },
   {
    "duration": 53,
    "start_time": "2023-12-11T15:04:54.814Z"
   },
   {
    "duration": 57,
    "start_time": "2023-12-11T15:05:05.001Z"
   },
   {
    "duration": 37,
    "start_time": "2023-12-11T15:05:07.998Z"
   },
   {
    "duration": 6,
    "start_time": "2023-12-11T15:05:08.548Z"
   },
   {
    "duration": 63,
    "start_time": "2023-12-11T15:12:29.664Z"
   },
   {
    "duration": 53,
    "start_time": "2023-12-11T15:12:48.583Z"
   },
   {
    "duration": 82,
    "start_time": "2023-12-11T15:12:51.700Z"
   },
   {
    "duration": 56,
    "start_time": "2023-12-11T15:12:59.002Z"
   },
   {
    "duration": 58,
    "start_time": "2023-12-11T15:13:11.902Z"
   },
   {
    "duration": 7,
    "start_time": "2023-12-11T15:26:21.709Z"
   },
   {
    "duration": 6,
    "start_time": "2023-12-11T15:26:38.554Z"
   },
   {
    "duration": 7,
    "start_time": "2023-12-11T15:26:40.509Z"
   },
   {
    "duration": 48,
    "start_time": "2023-12-11T15:36:20.608Z"
   },
   {
    "duration": 49,
    "start_time": "2023-12-11T15:36:39.610Z"
   },
   {
    "duration": 54,
    "start_time": "2023-12-11T15:37:06.095Z"
   },
   {
    "duration": 48,
    "start_time": "2023-12-11T15:49:49.348Z"
   },
   {
    "duration": 61,
    "start_time": "2023-12-11T16:26:18.800Z"
   },
   {
    "duration": 1093,
    "start_time": "2023-12-11T16:26:25.432Z"
   },
   {
    "duration": 172,
    "start_time": "2023-12-11T16:26:26.526Z"
   },
   {
    "duration": 22,
    "start_time": "2023-12-11T16:26:26.699Z"
   },
   {
    "duration": 10,
    "start_time": "2023-12-11T16:26:26.722Z"
   },
   {
    "duration": 6,
    "start_time": "2023-12-11T16:26:26.735Z"
   },
   {
    "duration": 9,
    "start_time": "2023-12-11T16:26:26.743Z"
   },
   {
    "duration": 46,
    "start_time": "2023-12-11T16:26:26.753Z"
   },
   {
    "duration": 62,
    "start_time": "2023-12-11T16:26:26.801Z"
   },
   {
    "duration": 86,
    "start_time": "2023-12-11T16:26:26.864Z"
   },
   {
    "duration": 60,
    "start_time": "2023-12-11T16:26:26.952Z"
   },
   {
    "duration": 15,
    "start_time": "2023-12-11T16:26:27.014Z"
   },
   {
    "duration": 42,
    "start_time": "2023-12-11T16:26:27.030Z"
   },
   {
    "duration": 12,
    "start_time": "2023-12-11T16:26:27.074Z"
   },
   {
    "duration": 73,
    "start_time": "2023-12-11T16:26:27.089Z"
   },
   {
    "duration": 15,
    "start_time": "2023-12-11T16:26:27.164Z"
   },
   {
    "duration": 20,
    "start_time": "2023-12-11T16:26:27.180Z"
   },
   {
    "duration": 24,
    "start_time": "2023-12-11T16:26:27.201Z"
   },
   {
    "duration": 7,
    "start_time": "2023-12-11T16:26:27.226Z"
   },
   {
    "duration": 39,
    "start_time": "2023-12-11T16:26:27.234Z"
   },
   {
    "duration": 24,
    "start_time": "2023-12-11T16:26:27.275Z"
   },
   {
    "duration": 16,
    "start_time": "2023-12-11T16:26:27.301Z"
   },
   {
    "duration": 84,
    "start_time": "2023-12-11T16:26:27.318Z"
   },
   {
    "duration": 269,
    "start_time": "2023-12-11T16:26:27.404Z"
   },
   {
    "duration": 34,
    "start_time": "2023-12-11T16:26:27.675Z"
   },
   {
    "duration": 20,
    "start_time": "2023-12-11T16:26:27.710Z"
   },
   {
    "duration": 23,
    "start_time": "2023-12-11T16:26:27.731Z"
   },
   {
    "duration": 15,
    "start_time": "2023-12-11T16:26:27.756Z"
   },
   {
    "duration": 77,
    "start_time": "2023-12-11T16:26:27.772Z"
   },
   {
    "duration": 49,
    "start_time": "2023-12-11T16:26:27.851Z"
   },
   {
    "duration": 141,
    "start_time": "2023-12-11T16:26:27.901Z"
   },
   {
    "duration": 59,
    "start_time": "2023-12-11T16:26:28.044Z"
   },
   {
    "duration": 132,
    "start_time": "2023-12-11T16:26:28.104Z"
   },
   {
    "duration": 7,
    "start_time": "2023-12-11T16:26:28.237Z"
   },
   {
    "duration": 8,
    "start_time": "2023-12-11T16:26:28.246Z"
   },
   {
    "duration": 9,
    "start_time": "2023-12-11T16:26:28.255Z"
   },
   {
    "duration": 9,
    "start_time": "2023-12-11T16:26:28.266Z"
   },
   {
    "duration": 25,
    "start_time": "2023-12-11T16:26:28.277Z"
   },
   {
    "duration": 5,
    "start_time": "2023-12-11T16:26:28.304Z"
   },
   {
    "duration": 143,
    "start_time": "2023-12-11T16:26:28.311Z"
   },
   {
    "duration": 34,
    "start_time": "2023-12-11T16:26:28.456Z"
   },
   {
    "duration": 37,
    "start_time": "2023-12-11T16:26:28.502Z"
   },
   {
    "duration": 21,
    "start_time": "2023-12-11T16:26:28.541Z"
   },
   {
    "duration": 55,
    "start_time": "2023-12-11T16:26:28.563Z"
   },
   {
    "duration": 6,
    "start_time": "2023-12-11T16:26:28.619Z"
   },
   {
    "duration": 11,
    "start_time": "2023-12-11T16:26:28.626Z"
   },
   {
    "duration": 8,
    "start_time": "2023-12-11T16:26:28.638Z"
   },
   {
    "duration": 72,
    "start_time": "2023-12-11T16:26:28.647Z"
   },
   {
    "duration": 37,
    "start_time": "2023-12-11T16:26:28.721Z"
   },
   {
    "duration": 5,
    "start_time": "2023-12-11T16:26:28.760Z"
   },
   {
    "duration": 51,
    "start_time": "2023-12-11T16:26:28.766Z"
   },
   {
    "duration": 0,
    "start_time": "2023-12-11T16:26:28.818Z"
   },
   {
    "duration": 45,
    "start_time": "2023-12-11T16:27:19.719Z"
   },
   {
    "duration": 53,
    "start_time": "2023-12-11T16:27:29.118Z"
   },
   {
    "duration": 55,
    "start_time": "2023-12-11T16:29:37.220Z"
   },
   {
    "duration": 47,
    "start_time": "2023-12-11T16:33:42.429Z"
   },
   {
    "duration": 61,
    "start_time": "2023-12-11T16:34:38.667Z"
   },
   {
    "duration": 51,
    "start_time": "2023-12-11T16:35:27.873Z"
   },
   {
    "duration": 52,
    "start_time": "2023-12-11T16:36:42.598Z"
   },
   {
    "duration": 55,
    "start_time": "2023-12-11T16:36:44.431Z"
   },
   {
    "duration": 93,
    "start_time": "2023-12-11T16:37:38.205Z"
   },
   {
    "duration": 46,
    "start_time": "2023-12-11T16:37:59.212Z"
   },
   {
    "duration": 7,
    "start_time": "2023-12-11T16:38:08.545Z"
   },
   {
    "duration": 52,
    "start_time": "2023-12-11T16:38:10.774Z"
   },
   {
    "duration": 787,
    "start_time": "2023-12-11T16:38:19.692Z"
   },
   {
    "duration": 718,
    "start_time": "2023-12-11T16:39:41.565Z"
   },
   {
    "duration": 710,
    "start_time": "2023-12-11T16:40:25.839Z"
   },
   {
    "duration": 825,
    "start_time": "2023-12-11T16:40:40.490Z"
   },
   {
    "duration": 7,
    "start_time": "2023-12-11T16:40:47.493Z"
   },
   {
    "duration": 19,
    "start_time": "2023-12-11T16:41:35.015Z"
   },
   {
    "duration": 53,
    "start_time": "2023-12-11T16:41:40.194Z"
   },
   {
    "duration": 55,
    "start_time": "2023-12-11T17:04:36.271Z"
   },
   {
    "duration": 1056,
    "start_time": "2023-12-11T17:04:43.761Z"
   },
   {
    "duration": 177,
    "start_time": "2023-12-11T17:04:44.818Z"
   },
   {
    "duration": 22,
    "start_time": "2023-12-11T17:04:44.997Z"
   },
   {
    "duration": 54,
    "start_time": "2023-12-11T17:04:45.021Z"
   },
   {
    "duration": 45,
    "start_time": "2023-12-11T17:04:45.077Z"
   },
   {
    "duration": 17,
    "start_time": "2023-12-11T17:04:45.124Z"
   },
   {
    "duration": 34,
    "start_time": "2023-12-11T17:04:45.143Z"
   },
   {
    "duration": 63,
    "start_time": "2023-12-11T17:04:45.178Z"
   },
   {
    "duration": 79,
    "start_time": "2023-12-11T17:04:45.242Z"
   },
   {
    "duration": 68,
    "start_time": "2023-12-11T17:04:45.324Z"
   },
   {
    "duration": 16,
    "start_time": "2023-12-11T17:04:45.399Z"
   },
   {
    "duration": 32,
    "start_time": "2023-12-11T17:04:45.417Z"
   },
   {
    "duration": 17,
    "start_time": "2023-12-11T17:04:45.451Z"
   },
   {
    "duration": 80,
    "start_time": "2023-12-11T17:04:45.470Z"
   },
   {
    "duration": 13,
    "start_time": "2023-12-11T17:04:45.552Z"
   },
   {
    "duration": 38,
    "start_time": "2023-12-11T17:04:45.566Z"
   },
   {
    "duration": 34,
    "start_time": "2023-12-11T17:04:45.605Z"
   },
   {
    "duration": 20,
    "start_time": "2023-12-11T17:04:45.640Z"
   },
   {
    "duration": 47,
    "start_time": "2023-12-11T17:04:45.661Z"
   },
   {
    "duration": 17,
    "start_time": "2023-12-11T17:04:45.710Z"
   },
   {
    "duration": 35,
    "start_time": "2023-12-11T17:04:45.729Z"
   },
   {
    "duration": 92,
    "start_time": "2023-12-11T17:04:45.765Z"
   },
   {
    "duration": 293,
    "start_time": "2023-12-11T17:04:45.858Z"
   },
   {
    "duration": 24,
    "start_time": "2023-12-11T17:04:46.152Z"
   },
   {
    "duration": 21,
    "start_time": "2023-12-11T17:04:46.178Z"
   },
   {
    "duration": 31,
    "start_time": "2023-12-11T17:04:46.201Z"
   },
   {
    "duration": 16,
    "start_time": "2023-12-11T17:04:46.233Z"
   },
   {
    "duration": 65,
    "start_time": "2023-12-11T17:04:46.252Z"
   },
   {
    "duration": 24,
    "start_time": "2023-12-11T17:04:46.319Z"
   },
   {
    "duration": 133,
    "start_time": "2023-12-11T17:04:46.344Z"
   },
   {
    "duration": 53,
    "start_time": "2023-12-11T17:04:46.479Z"
   },
   {
    "duration": 132,
    "start_time": "2023-12-11T17:04:46.533Z"
   },
   {
    "duration": 7,
    "start_time": "2023-12-11T17:04:46.667Z"
   },
   {
    "duration": 31,
    "start_time": "2023-12-11T17:04:46.675Z"
   },
   {
    "duration": 28,
    "start_time": "2023-12-11T17:04:46.707Z"
   },
   {
    "duration": 29,
    "start_time": "2023-12-11T17:04:46.736Z"
   },
   {
    "duration": 15,
    "start_time": "2023-12-11T17:04:46.767Z"
   },
   {
    "duration": 22,
    "start_time": "2023-12-11T17:04:46.783Z"
   },
   {
    "duration": 141,
    "start_time": "2023-12-11T17:04:46.807Z"
   },
   {
    "duration": 33,
    "start_time": "2023-12-11T17:04:46.950Z"
   },
   {
    "duration": 46,
    "start_time": "2023-12-11T17:04:46.984Z"
   },
   {
    "duration": 20,
    "start_time": "2023-12-11T17:04:47.032Z"
   },
   {
    "duration": 45,
    "start_time": "2023-12-11T17:04:47.054Z"
   },
   {
    "duration": 6,
    "start_time": "2023-12-11T17:04:47.100Z"
   },
   {
    "duration": 25,
    "start_time": "2023-12-11T17:04:47.107Z"
   },
   {
    "duration": 34,
    "start_time": "2023-12-11T17:04:47.133Z"
   },
   {
    "duration": 89,
    "start_time": "2023-12-11T17:04:47.169Z"
   },
   {
    "duration": 44,
    "start_time": "2023-12-11T17:04:47.260Z"
   },
   {
    "duration": 6,
    "start_time": "2023-12-11T17:04:47.306Z"
   },
   {
    "duration": 15,
    "start_time": "2023-12-11T17:04:47.313Z"
   },
   {
    "duration": 151,
    "start_time": "2023-12-11T17:04:47.329Z"
   },
   {
    "duration": 0,
    "start_time": "2023-12-11T17:04:47.481Z"
   },
   {
    "duration": 0,
    "start_time": "2023-12-11T17:04:47.482Z"
   },
   {
    "duration": 55,
    "start_time": "2023-12-11T17:07:00.436Z"
   },
   {
    "duration": 20,
    "start_time": "2023-12-11T17:11:46.035Z"
   },
   {
    "duration": 38,
    "start_time": "2023-12-11T17:12:18.037Z"
   },
   {
    "duration": 14,
    "start_time": "2023-12-11T17:13:01.092Z"
   },
   {
    "duration": 6,
    "start_time": "2023-12-11T17:13:10.859Z"
   },
   {
    "duration": 676,
    "start_time": "2023-12-11T17:13:12.378Z"
   },
   {
    "duration": 8,
    "start_time": "2023-12-11T17:14:08.201Z"
   },
   {
    "duration": 6,
    "start_time": "2023-12-11T17:14:14.717Z"
   },
   {
    "duration": 46,
    "start_time": "2023-12-11T17:14:20.968Z"
   },
   {
    "duration": 11,
    "start_time": "2023-12-11T17:15:00.690Z"
   },
   {
    "duration": 17,
    "start_time": "2023-12-11T17:20:43.212Z"
   },
   {
    "duration": 8,
    "start_time": "2023-12-11T17:21:27.584Z"
   },
   {
    "duration": 26,
    "start_time": "2023-12-11T17:21:35.666Z"
   },
   {
    "duration": 27,
    "start_time": "2023-12-11T17:24:01.690Z"
   },
   {
    "duration": 42,
    "start_time": "2023-12-11T17:24:07.867Z"
   },
   {
    "duration": 188,
    "start_time": "2023-12-11T17:24:14.353Z"
   },
   {
    "duration": 8,
    "start_time": "2023-12-11T17:24:34.204Z"
   },
   {
    "duration": 189,
    "start_time": "2023-12-11T17:24:55.905Z"
   },
   {
    "duration": 13,
    "start_time": "2023-12-11T17:25:48.660Z"
   },
   {
    "duration": 18,
    "start_time": "2023-12-11T17:26:01.263Z"
   },
   {
    "duration": 222,
    "start_time": "2023-12-11T17:26:18.681Z"
   },
   {
    "duration": 703,
    "start_time": "2023-12-11T17:26:39.430Z"
   },
   {
    "duration": 760,
    "start_time": "2023-12-11T17:26:51.301Z"
   },
   {
    "duration": 46,
    "start_time": "2023-12-11T17:27:54.278Z"
   },
   {
    "duration": 20,
    "start_time": "2023-12-11T17:28:02.442Z"
   },
   {
    "duration": 797,
    "start_time": "2023-12-11T17:32:21.071Z"
   },
   {
    "duration": 729,
    "start_time": "2023-12-11T17:32:58.043Z"
   },
   {
    "duration": 45,
    "start_time": "2023-12-11T17:33:23.511Z"
   },
   {
    "duration": 26,
    "start_time": "2023-12-11T17:33:33.513Z"
   },
   {
    "duration": 20,
    "start_time": "2023-12-11T17:34:37.288Z"
   },
   {
    "duration": 13,
    "start_time": "2023-12-11T17:40:05.122Z"
   },
   {
    "duration": 19,
    "start_time": "2023-12-11T17:43:02.039Z"
   },
   {
    "duration": 11,
    "start_time": "2023-12-11T17:43:02.839Z"
   },
   {
    "duration": 43,
    "start_time": "2023-12-11T17:44:23.848Z"
   },
   {
    "duration": 24,
    "start_time": "2023-12-11T17:44:31.155Z"
   },
   {
    "duration": 46,
    "start_time": "2023-12-11T17:44:40.106Z"
   },
   {
    "duration": 21,
    "start_time": "2023-12-11T17:45:20.008Z"
   },
   {
    "duration": 20,
    "start_time": "2023-12-11T17:45:31.743Z"
   },
   {
    "duration": 19,
    "start_time": "2023-12-11T17:45:37.460Z"
   },
   {
    "duration": 29,
    "start_time": "2023-12-11T17:46:55.019Z"
   },
   {
    "duration": 5,
    "start_time": "2023-12-11T17:47:14.821Z"
   },
   {
    "duration": 6,
    "start_time": "2023-12-11T17:47:32.972Z"
   },
   {
    "duration": 9,
    "start_time": "2023-12-11T17:49:06.167Z"
   },
   {
    "duration": 35,
    "start_time": "2023-12-11T17:49:06.951Z"
   },
   {
    "duration": 157,
    "start_time": "2023-12-11T17:50:06.341Z"
   },
   {
    "duration": 144,
    "start_time": "2023-12-11T17:50:21.893Z"
   },
   {
    "duration": 19,
    "start_time": "2023-12-11T17:50:39.359Z"
   },
   {
    "duration": 1133,
    "start_time": "2023-12-11T17:50:49.692Z"
   },
   {
    "duration": 172,
    "start_time": "2023-12-11T17:50:50.827Z"
   },
   {
    "duration": 21,
    "start_time": "2023-12-11T17:50:51.001Z"
   },
   {
    "duration": 8,
    "start_time": "2023-12-11T17:50:51.024Z"
   },
   {
    "duration": 18,
    "start_time": "2023-12-11T17:50:51.034Z"
   },
   {
    "duration": 8,
    "start_time": "2023-12-11T17:50:51.054Z"
   },
   {
    "duration": 33,
    "start_time": "2023-12-11T17:50:51.064Z"
   },
   {
    "duration": 59,
    "start_time": "2023-12-11T17:50:51.098Z"
   },
   {
    "duration": 74,
    "start_time": "2023-12-11T17:50:51.158Z"
   },
   {
    "duration": 65,
    "start_time": "2023-12-11T17:50:51.234Z"
   },
   {
    "duration": 15,
    "start_time": "2023-12-11T17:50:51.301Z"
   },
   {
    "duration": 24,
    "start_time": "2023-12-11T17:50:51.317Z"
   },
   {
    "duration": 5,
    "start_time": "2023-12-11T17:50:51.343Z"
   },
   {
    "duration": 83,
    "start_time": "2023-12-11T17:50:51.349Z"
   },
   {
    "duration": 12,
    "start_time": "2023-12-11T17:50:51.434Z"
   },
   {
    "duration": 13,
    "start_time": "2023-12-11T17:50:51.447Z"
   },
   {
    "duration": 19,
    "start_time": "2023-12-11T17:50:51.461Z"
   },
   {
    "duration": 22,
    "start_time": "2023-12-11T17:50:51.482Z"
   },
   {
    "duration": 36,
    "start_time": "2023-12-11T17:50:51.505Z"
   },
   {
    "duration": 16,
    "start_time": "2023-12-11T17:50:51.543Z"
   },
   {
    "duration": 31,
    "start_time": "2023-12-11T17:50:51.561Z"
   },
   {
    "duration": 71,
    "start_time": "2023-12-11T17:50:51.598Z"
   },
   {
    "duration": 290,
    "start_time": "2023-12-11T17:50:51.671Z"
   },
   {
    "duration": 24,
    "start_time": "2023-12-11T17:50:51.962Z"
   },
   {
    "duration": 21,
    "start_time": "2023-12-11T17:50:51.988Z"
   },
   {
    "duration": 26,
    "start_time": "2023-12-11T17:50:52.010Z"
   },
   {
    "duration": 22,
    "start_time": "2023-12-11T17:50:52.038Z"
   },
   {
    "duration": 72,
    "start_time": "2023-12-11T17:50:52.063Z"
   },
   {
    "duration": 24,
    "start_time": "2023-12-11T17:50:52.136Z"
   },
   {
    "duration": 143,
    "start_time": "2023-12-11T17:50:52.162Z"
   },
   {
    "duration": 52,
    "start_time": "2023-12-11T17:50:52.307Z"
   },
   {
    "duration": 142,
    "start_time": "2023-12-11T17:50:52.361Z"
   },
   {
    "duration": 7,
    "start_time": "2023-12-11T17:50:52.504Z"
   },
   {
    "duration": 21,
    "start_time": "2023-12-11T17:50:52.512Z"
   },
   {
    "duration": 20,
    "start_time": "2023-12-11T17:50:52.535Z"
   },
   {
    "duration": 5,
    "start_time": "2023-12-11T17:50:52.556Z"
   },
   {
    "duration": 17,
    "start_time": "2023-12-11T17:50:52.562Z"
   },
   {
    "duration": 9,
    "start_time": "2023-12-11T17:50:52.581Z"
   },
   {
    "duration": 148,
    "start_time": "2023-12-11T17:50:52.591Z"
   },
   {
    "duration": 40,
    "start_time": "2023-12-11T17:50:52.741Z"
   },
   {
    "duration": 46,
    "start_time": "2023-12-11T17:50:52.783Z"
   },
   {
    "duration": 20,
    "start_time": "2023-12-11T17:50:52.831Z"
   },
   {
    "duration": 46,
    "start_time": "2023-12-11T17:50:52.853Z"
   },
   {
    "duration": 6,
    "start_time": "2023-12-11T17:50:52.901Z"
   },
   {
    "duration": 9,
    "start_time": "2023-12-11T17:50:52.909Z"
   },
   {
    "duration": 32,
    "start_time": "2023-12-11T17:50:52.919Z"
   },
   {
    "duration": 78,
    "start_time": "2023-12-11T17:50:52.953Z"
   },
   {
    "duration": 37,
    "start_time": "2023-12-11T17:50:53.033Z"
   },
   {
    "duration": 7,
    "start_time": "2023-12-11T17:50:53.071Z"
   },
   {
    "duration": 20,
    "start_time": "2023-12-11T17:50:53.080Z"
   },
   {
    "duration": 183,
    "start_time": "2023-12-11T17:50:53.102Z"
   },
   {
    "duration": 22,
    "start_time": "2023-12-11T17:50:53.287Z"
   },
   {
    "duration": 21,
    "start_time": "2023-12-11T17:50:53.311Z"
   },
   {
    "duration": 6,
    "start_time": "2023-12-11T17:50:53.334Z"
   },
   {
    "duration": 19,
    "start_time": "2023-12-11T17:50:53.341Z"
   },
   {
    "duration": 39,
    "start_time": "2023-12-11T17:50:53.361Z"
   },
   {
    "duration": 24,
    "start_time": "2023-12-11T17:59:11.440Z"
   },
   {
    "duration": 37,
    "start_time": "2023-12-11T17:59:13.100Z"
   },
   {
    "duration": 32,
    "start_time": "2023-12-11T17:59:16.618Z"
   },
   {
    "duration": 19,
    "start_time": "2023-12-11T17:59:22.451Z"
   },
   {
    "duration": 29,
    "start_time": "2023-12-11T17:59:22.703Z"
   },
   {
    "duration": 6,
    "start_time": "2023-12-11T17:59:23.586Z"
   },
   {
    "duration": 5,
    "start_time": "2023-12-11T17:59:24.036Z"
   },
   {
    "duration": 8,
    "start_time": "2023-12-11T17:59:24.718Z"
   },
   {
    "duration": 50,
    "start_time": "2023-12-11T17:59:29.569Z"
   },
   {
    "duration": 32,
    "start_time": "2023-12-11T17:59:34.953Z"
   },
   {
    "duration": 6,
    "start_time": "2023-12-11T17:59:35.487Z"
   },
   {
    "duration": 5,
    "start_time": "2023-12-11T17:59:36.004Z"
   },
   {
    "duration": 160,
    "start_time": "2023-12-11T17:59:37.987Z"
   },
   {
    "duration": 1117,
    "start_time": "2023-12-11T17:59:44.325Z"
   },
   {
    "duration": 170,
    "start_time": "2023-12-11T17:59:45.444Z"
   },
   {
    "duration": 21,
    "start_time": "2023-12-11T17:59:45.616Z"
   },
   {
    "duration": 28,
    "start_time": "2023-12-11T17:59:45.639Z"
   },
   {
    "duration": 33,
    "start_time": "2023-12-11T17:59:45.669Z"
   },
   {
    "duration": 30,
    "start_time": "2023-12-11T17:59:45.704Z"
   },
   {
    "duration": 43,
    "start_time": "2023-12-11T17:59:45.736Z"
   },
   {
    "duration": 62,
    "start_time": "2023-12-11T17:59:45.781Z"
   },
   {
    "duration": 74,
    "start_time": "2023-12-11T17:59:45.845Z"
   },
   {
    "duration": 59,
    "start_time": "2023-12-11T17:59:45.922Z"
   },
   {
    "duration": 26,
    "start_time": "2023-12-11T17:59:45.982Z"
   },
   {
    "duration": 30,
    "start_time": "2023-12-11T17:59:46.010Z"
   },
   {
    "duration": 7,
    "start_time": "2023-12-11T17:59:46.041Z"
   },
   {
    "duration": 83,
    "start_time": "2023-12-11T17:59:46.050Z"
   },
   {
    "duration": 13,
    "start_time": "2023-12-11T17:59:46.134Z"
   },
   {
    "duration": 26,
    "start_time": "2023-12-11T17:59:46.148Z"
   },
   {
    "duration": 24,
    "start_time": "2023-12-11T17:59:46.175Z"
   },
   {
    "duration": 6,
    "start_time": "2023-12-11T17:59:46.201Z"
   },
   {
    "duration": 58,
    "start_time": "2023-12-11T17:59:46.208Z"
   },
   {
    "duration": 19,
    "start_time": "2023-12-11T17:59:46.268Z"
   },
   {
    "duration": 30,
    "start_time": "2023-12-11T17:59:46.288Z"
   },
   {
    "duration": 83,
    "start_time": "2023-12-11T17:59:46.320Z"
   },
   {
    "duration": 282,
    "start_time": "2023-12-11T17:59:46.405Z"
   },
   {
    "duration": 28,
    "start_time": "2023-12-11T17:59:46.688Z"
   },
   {
    "duration": 11,
    "start_time": "2023-12-11T17:59:46.718Z"
   },
   {
    "duration": 28,
    "start_time": "2023-12-11T17:59:46.731Z"
   },
   {
    "duration": 16,
    "start_time": "2023-12-11T17:59:46.761Z"
   },
   {
    "duration": 56,
    "start_time": "2023-12-11T17:59:46.800Z"
   },
   {
    "duration": 23,
    "start_time": "2023-12-11T17:59:46.857Z"
   },
   {
    "duration": 146,
    "start_time": "2023-12-11T17:59:46.882Z"
   },
   {
    "duration": 55,
    "start_time": "2023-12-11T17:59:47.030Z"
   },
   {
    "duration": 153,
    "start_time": "2023-12-11T17:59:47.086Z"
   },
   {
    "duration": 7,
    "start_time": "2023-12-11T17:59:47.240Z"
   },
   {
    "duration": 6,
    "start_time": "2023-12-11T17:59:47.249Z"
   },
   {
    "duration": 17,
    "start_time": "2023-12-11T17:59:47.256Z"
   },
   {
    "duration": 5,
    "start_time": "2023-12-11T17:59:47.274Z"
   },
   {
    "duration": 24,
    "start_time": "2023-12-11T17:59:47.281Z"
   },
   {
    "duration": 5,
    "start_time": "2023-12-11T17:59:47.306Z"
   },
   {
    "duration": 135,
    "start_time": "2023-12-11T17:59:47.312Z"
   },
   {
    "duration": 16,
    "start_time": "2023-12-11T17:59:47.448Z"
   },
   {
    "duration": 49,
    "start_time": "2023-12-11T17:59:47.465Z"
   },
   {
    "duration": 31,
    "start_time": "2023-12-11T17:59:47.515Z"
   },
   {
    "duration": 17,
    "start_time": "2023-12-11T17:59:47.547Z"
   },
   {
    "duration": 45,
    "start_time": "2023-12-11T17:59:47.566Z"
   },
   {
    "duration": 5,
    "start_time": "2023-12-11T17:59:47.613Z"
   },
   {
    "duration": 24,
    "start_time": "2023-12-11T17:59:47.619Z"
   },
   {
    "duration": 12,
    "start_time": "2023-12-11T17:59:47.644Z"
   },
   {
    "duration": 76,
    "start_time": "2023-12-11T17:59:47.657Z"
   },
   {
    "duration": 31,
    "start_time": "2023-12-11T17:59:47.735Z"
   },
   {
    "duration": 5,
    "start_time": "2023-12-11T17:59:47.767Z"
   },
   {
    "duration": 8,
    "start_time": "2023-12-11T17:59:47.774Z"
   },
   {
    "duration": 157,
    "start_time": "2023-12-11T17:59:47.783Z"
   },
   {
    "duration": 17,
    "start_time": "2023-12-11T17:59:47.941Z"
   },
   {
    "duration": 32,
    "start_time": "2023-12-11T17:59:47.960Z"
   },
   {
    "duration": 9,
    "start_time": "2023-12-11T17:59:47.993Z"
   },
   {
    "duration": 35,
    "start_time": "2023-12-11T17:59:48.003Z"
   },
   {
    "duration": 6,
    "start_time": "2023-12-11T17:59:48.039Z"
   },
   {
    "duration": 19,
    "start_time": "2023-12-11T18:00:20.911Z"
   },
   {
    "duration": 142,
    "start_time": "2023-12-11T18:00:32.162Z"
   },
   {
    "duration": 148,
    "start_time": "2023-12-11T18:02:02.757Z"
   },
   {
    "duration": 35,
    "start_time": "2023-12-11T18:02:11.103Z"
   },
   {
    "duration": 37,
    "start_time": "2023-12-11T18:02:21.922Z"
   },
   {
    "duration": 19,
    "start_time": "2023-12-11T18:03:41.397Z"
   },
   {
    "duration": 129,
    "start_time": "2023-12-11T18:04:40.972Z"
   },
   {
    "duration": 121,
    "start_time": "2023-12-11T18:04:56.907Z"
   },
   {
    "duration": 121,
    "start_time": "2023-12-11T18:05:07.223Z"
   },
   {
    "duration": 1148,
    "start_time": "2023-12-11T18:05:15.371Z"
   },
   {
    "duration": 172,
    "start_time": "2023-12-11T18:05:16.521Z"
   },
   {
    "duration": 24,
    "start_time": "2023-12-11T18:05:16.695Z"
   },
   {
    "duration": 9,
    "start_time": "2023-12-11T18:05:16.721Z"
   },
   {
    "duration": 20,
    "start_time": "2023-12-11T18:05:16.732Z"
   },
   {
    "duration": 12,
    "start_time": "2023-12-11T18:05:16.754Z"
   },
   {
    "duration": 22,
    "start_time": "2023-12-11T18:05:16.767Z"
   },
   {
    "duration": 69,
    "start_time": "2023-12-11T18:05:16.790Z"
   },
   {
    "duration": 83,
    "start_time": "2023-12-11T18:05:16.860Z"
   },
   {
    "duration": 66,
    "start_time": "2023-12-11T18:05:16.944Z"
   },
   {
    "duration": 15,
    "start_time": "2023-12-11T18:05:17.012Z"
   },
   {
    "duration": 18,
    "start_time": "2023-12-11T18:05:17.029Z"
   },
   {
    "duration": 8,
    "start_time": "2023-12-11T18:05:17.049Z"
   },
   {
    "duration": 98,
    "start_time": "2023-12-11T18:05:17.059Z"
   },
   {
    "duration": 13,
    "start_time": "2023-12-11T18:05:17.159Z"
   },
   {
    "duration": 28,
    "start_time": "2023-12-11T18:05:17.174Z"
   },
   {
    "duration": 18,
    "start_time": "2023-12-11T18:05:17.204Z"
   },
   {
    "duration": 7,
    "start_time": "2023-12-11T18:05:17.223Z"
   },
   {
    "duration": 32,
    "start_time": "2023-12-11T18:05:17.232Z"
   },
   {
    "duration": 46,
    "start_time": "2023-12-11T18:05:17.266Z"
   },
   {
    "duration": 17,
    "start_time": "2023-12-11T18:05:17.313Z"
   },
   {
    "duration": 87,
    "start_time": "2023-12-11T18:05:17.331Z"
   },
   {
    "duration": 286,
    "start_time": "2023-12-11T18:05:17.419Z"
   },
   {
    "duration": 25,
    "start_time": "2023-12-11T18:05:17.707Z"
   },
   {
    "duration": 13,
    "start_time": "2023-12-11T18:05:17.733Z"
   },
   {
    "duration": 30,
    "start_time": "2023-12-11T18:05:17.747Z"
   },
   {
    "duration": 35,
    "start_time": "2023-12-11T18:05:17.778Z"
   },
   {
    "duration": 56,
    "start_time": "2023-12-11T18:05:17.814Z"
   },
   {
    "duration": 40,
    "start_time": "2023-12-11T18:05:17.872Z"
   },
   {
    "duration": 133,
    "start_time": "2023-12-11T18:05:17.914Z"
   },
   {
    "duration": 62,
    "start_time": "2023-12-11T18:05:18.049Z"
   },
   {
    "duration": 149,
    "start_time": "2023-12-11T18:05:18.112Z"
   },
   {
    "duration": 7,
    "start_time": "2023-12-11T18:05:18.262Z"
   },
   {
    "duration": 9,
    "start_time": "2023-12-11T18:05:18.270Z"
   },
   {
    "duration": 20,
    "start_time": "2023-12-11T18:05:18.280Z"
   },
   {
    "duration": 13,
    "start_time": "2023-12-11T18:05:18.302Z"
   },
   {
    "duration": 27,
    "start_time": "2023-12-11T18:05:18.316Z"
   },
   {
    "duration": 11,
    "start_time": "2023-12-11T18:05:18.344Z"
   },
   {
    "duration": 137,
    "start_time": "2023-12-11T18:05:18.357Z"
   },
   {
    "duration": 16,
    "start_time": "2023-12-11T18:05:18.495Z"
   },
   {
    "duration": 34,
    "start_time": "2023-12-11T18:05:18.515Z"
   },
   {
    "duration": 50,
    "start_time": "2023-12-11T18:05:18.551Z"
   },
   {
    "duration": 16,
    "start_time": "2023-12-11T18:05:18.603Z"
   },
   {
    "duration": 34,
    "start_time": "2023-12-11T18:05:18.621Z"
   },
   {
    "duration": 6,
    "start_time": "2023-12-11T18:05:18.656Z"
   },
   {
    "duration": 12,
    "start_time": "2023-12-11T18:05:18.664Z"
   },
   {
    "duration": 23,
    "start_time": "2023-12-11T18:05:18.677Z"
   },
   {
    "duration": 57,
    "start_time": "2023-12-11T18:05:18.702Z"
   },
   {
    "duration": 56,
    "start_time": "2023-12-11T18:05:18.760Z"
   },
   {
    "duration": 6,
    "start_time": "2023-12-11T18:05:18.818Z"
   },
   {
    "duration": 5,
    "start_time": "2023-12-11T18:05:18.825Z"
   },
   {
    "duration": 160,
    "start_time": "2023-12-11T18:05:18.831Z"
   },
   {
    "duration": 22,
    "start_time": "2023-12-11T18:05:18.992Z"
   },
   {
    "duration": 18,
    "start_time": "2023-12-11T18:05:19.015Z"
   },
   {
    "duration": 5,
    "start_time": "2023-12-11T18:05:19.034Z"
   },
   {
    "duration": 17,
    "start_time": "2023-12-11T18:05:19.041Z"
   },
   {
    "duration": 4,
    "start_time": "2023-12-11T18:05:19.060Z"
   },
   {
    "duration": 5,
    "start_time": "2023-12-11T18:09:52.489Z"
   },
   {
    "duration": 151,
    "start_time": "2023-12-11T18:09:53.706Z"
   },
   {
    "duration": 5,
    "start_time": "2023-12-11T18:11:30.416Z"
   },
   {
    "duration": 152,
    "start_time": "2023-12-11T18:11:31.600Z"
   },
   {
    "duration": 5,
    "start_time": "2023-12-11T18:11:53.222Z"
   },
   {
    "duration": 146,
    "start_time": "2023-12-11T18:11:54.350Z"
   },
   {
    "duration": 1104,
    "start_time": "2023-12-11T19:45:08.244Z"
   },
   {
    "duration": 173,
    "start_time": "2023-12-11T19:45:09.349Z"
   },
   {
    "duration": 20,
    "start_time": "2023-12-11T19:45:09.524Z"
   },
   {
    "duration": 17,
    "start_time": "2023-12-11T19:45:09.546Z"
   },
   {
    "duration": 7,
    "start_time": "2023-12-11T19:45:09.565Z"
   },
   {
    "duration": 10,
    "start_time": "2023-12-11T19:45:09.573Z"
   },
   {
    "duration": 32,
    "start_time": "2023-12-11T19:45:09.585Z"
   },
   {
    "duration": 61,
    "start_time": "2023-12-11T19:45:09.618Z"
   },
   {
    "duration": 87,
    "start_time": "2023-12-11T19:45:09.680Z"
   },
   {
    "duration": 68,
    "start_time": "2023-12-11T19:45:09.769Z"
   },
   {
    "duration": 16,
    "start_time": "2023-12-11T19:45:09.838Z"
   },
   {
    "duration": 18,
    "start_time": "2023-12-11T19:45:09.855Z"
   },
   {
    "duration": 24,
    "start_time": "2023-12-11T19:45:09.875Z"
   },
   {
    "duration": 74,
    "start_time": "2023-12-11T19:45:09.902Z"
   },
   {
    "duration": 30,
    "start_time": "2023-12-11T19:45:09.978Z"
   },
   {
    "duration": 21,
    "start_time": "2023-12-11T19:45:10.010Z"
   },
   {
    "duration": 45,
    "start_time": "2023-12-11T19:45:10.032Z"
   },
   {
    "duration": 32,
    "start_time": "2023-12-11T19:45:10.079Z"
   },
   {
    "duration": 37,
    "start_time": "2023-12-11T19:45:10.113Z"
   },
   {
    "duration": 18,
    "start_time": "2023-12-11T19:45:10.151Z"
   },
   {
    "duration": 51,
    "start_time": "2023-12-11T19:45:10.170Z"
   },
   {
    "duration": 85,
    "start_time": "2023-12-11T19:45:10.223Z"
   },
   {
    "duration": 271,
    "start_time": "2023-12-11T19:45:10.310Z"
   },
   {
    "duration": 27,
    "start_time": "2023-12-11T19:45:10.582Z"
   },
   {
    "duration": 20,
    "start_time": "2023-12-11T19:45:10.611Z"
   },
   {
    "duration": 38,
    "start_time": "2023-12-11T19:45:10.632Z"
   },
   {
    "duration": 15,
    "start_time": "2023-12-11T19:45:10.672Z"
   },
   {
    "duration": 66,
    "start_time": "2023-12-11T19:45:10.689Z"
   },
   {
    "duration": 24,
    "start_time": "2023-12-11T19:45:10.756Z"
   },
   {
    "duration": 130,
    "start_time": "2023-12-11T19:45:10.781Z"
   },
   {
    "duration": 53,
    "start_time": "2023-12-11T19:45:10.913Z"
   },
   {
    "duration": 140,
    "start_time": "2023-12-11T19:45:10.967Z"
   },
   {
    "duration": 7,
    "start_time": "2023-12-11T19:45:11.109Z"
   },
   {
    "duration": 32,
    "start_time": "2023-12-11T19:45:11.117Z"
   },
   {
    "duration": 45,
    "start_time": "2023-12-11T19:45:11.151Z"
   },
   {
    "duration": 43,
    "start_time": "2023-12-11T19:45:11.198Z"
   },
   {
    "duration": 27,
    "start_time": "2023-12-11T19:45:11.242Z"
   },
   {
    "duration": 7,
    "start_time": "2023-12-11T19:45:11.271Z"
   },
   {
    "duration": 153,
    "start_time": "2023-12-11T19:45:11.280Z"
   },
   {
    "duration": 16,
    "start_time": "2023-12-11T19:45:11.435Z"
   },
   {
    "duration": 48,
    "start_time": "2023-12-11T19:45:11.455Z"
   },
   {
    "duration": 32,
    "start_time": "2023-12-11T19:45:11.505Z"
   },
   {
    "duration": 15,
    "start_time": "2023-12-11T19:45:11.539Z"
   },
   {
    "duration": 28,
    "start_time": "2023-12-11T19:45:11.556Z"
   },
   {
    "duration": 6,
    "start_time": "2023-12-11T19:45:11.599Z"
   },
   {
    "duration": 13,
    "start_time": "2023-12-11T19:45:11.606Z"
   },
   {
    "duration": 28,
    "start_time": "2023-12-11T19:45:11.620Z"
   },
   {
    "duration": 58,
    "start_time": "2023-12-11T19:45:11.649Z"
   },
   {
    "duration": 33,
    "start_time": "2023-12-11T19:45:11.709Z"
   },
   {
    "duration": 5,
    "start_time": "2023-12-11T19:45:11.744Z"
   },
   {
    "duration": 20,
    "start_time": "2023-12-11T19:45:11.750Z"
   },
   {
    "duration": 168,
    "start_time": "2023-12-11T19:45:11.771Z"
   },
   {
    "duration": 18,
    "start_time": "2023-12-11T19:45:11.941Z"
   },
   {
    "duration": 46,
    "start_time": "2023-12-11T19:45:11.960Z"
   },
   {
    "duration": 25,
    "start_time": "2023-12-11T19:45:12.008Z"
   },
   {
    "duration": 31,
    "start_time": "2023-12-11T19:45:12.034Z"
   },
   {
    "duration": 10,
    "start_time": "2023-12-11T19:45:12.066Z"
   },
   {
    "duration": 1349,
    "start_time": "2023-12-12T18:26:46.026Z"
   },
   {
    "duration": 500,
    "start_time": "2023-12-12T18:26:47.377Z"
   },
   {
    "duration": 20,
    "start_time": "2023-12-12T18:26:47.879Z"
   },
   {
    "duration": 21,
    "start_time": "2023-12-12T18:26:47.900Z"
   },
   {
    "duration": 7,
    "start_time": "2023-12-12T18:26:47.922Z"
   },
   {
    "duration": 18,
    "start_time": "2023-12-12T18:26:47.930Z"
   },
   {
    "duration": 22,
    "start_time": "2023-12-12T18:26:47.950Z"
   },
   {
    "duration": 67,
    "start_time": "2023-12-12T18:26:47.974Z"
   },
   {
    "duration": 79,
    "start_time": "2023-12-12T18:26:48.043Z"
   },
   {
    "duration": 65,
    "start_time": "2023-12-12T18:26:48.124Z"
   },
   {
    "duration": 12,
    "start_time": "2023-12-12T18:26:48.191Z"
   },
   {
    "duration": 35,
    "start_time": "2023-12-12T18:26:48.204Z"
   },
   {
    "duration": 8,
    "start_time": "2023-12-12T18:26:48.240Z"
   },
   {
    "duration": 62,
    "start_time": "2023-12-12T18:26:48.249Z"
   },
   {
    "duration": 38,
    "start_time": "2023-12-12T18:26:48.312Z"
   },
   {
    "duration": 24,
    "start_time": "2023-12-12T18:26:48.352Z"
   },
   {
    "duration": 29,
    "start_time": "2023-12-12T18:26:48.377Z"
   },
   {
    "duration": 9,
    "start_time": "2023-12-12T18:26:48.407Z"
   },
   {
    "duration": 47,
    "start_time": "2023-12-12T18:26:48.417Z"
   },
   {
    "duration": 13,
    "start_time": "2023-12-12T18:26:48.465Z"
   },
   {
    "duration": 54,
    "start_time": "2023-12-12T18:26:48.480Z"
   },
   {
    "duration": 126,
    "start_time": "2023-12-12T18:26:48.535Z"
   },
   {
    "duration": 260,
    "start_time": "2023-12-12T18:26:48.662Z"
   },
   {
    "duration": 36,
    "start_time": "2023-12-12T18:26:48.923Z"
   },
   {
    "duration": 108,
    "start_time": "2023-12-12T18:26:48.969Z"
   },
   {
    "duration": 80,
    "start_time": "2023-12-12T18:26:49.079Z"
   },
   {
    "duration": 14,
    "start_time": "2023-12-12T18:26:49.161Z"
   },
   {
    "duration": 79,
    "start_time": "2023-12-12T18:26:49.179Z"
   },
   {
    "duration": 119,
    "start_time": "2023-12-12T18:26:49.260Z"
   },
   {
    "duration": 130,
    "start_time": "2023-12-12T18:26:49.381Z"
   },
   {
    "duration": 55,
    "start_time": "2023-12-12T18:26:49.512Z"
   },
   {
    "duration": 131,
    "start_time": "2023-12-12T18:26:49.572Z"
   },
   {
    "duration": 7,
    "start_time": "2023-12-12T18:26:49.704Z"
   },
   {
    "duration": 57,
    "start_time": "2023-12-12T18:26:49.712Z"
   },
   {
    "duration": 20,
    "start_time": "2023-12-12T18:26:49.770Z"
   },
   {
    "duration": 9,
    "start_time": "2023-12-12T18:26:49.792Z"
   },
   {
    "duration": 23,
    "start_time": "2023-12-12T18:26:49.803Z"
   },
   {
    "duration": 12,
    "start_time": "2023-12-12T18:26:49.827Z"
   },
   {
    "duration": 145,
    "start_time": "2023-12-12T18:26:49.841Z"
   },
   {
    "duration": 19,
    "start_time": "2023-12-12T18:26:49.988Z"
   },
   {
    "duration": 61,
    "start_time": "2023-12-12T18:26:50.008Z"
   },
   {
    "duration": 29,
    "start_time": "2023-12-12T18:26:50.070Z"
   },
   {
    "duration": 16,
    "start_time": "2023-12-12T18:26:50.101Z"
   },
   {
    "duration": 25,
    "start_time": "2023-12-12T18:26:50.119Z"
   },
   {
    "duration": 25,
    "start_time": "2023-12-12T18:26:50.146Z"
   },
   {
    "duration": 13,
    "start_time": "2023-12-12T18:26:50.172Z"
   },
   {
    "duration": 15,
    "start_time": "2023-12-12T18:26:50.187Z"
   },
   {
    "duration": 62,
    "start_time": "2023-12-12T18:26:50.204Z"
   },
   {
    "duration": 31,
    "start_time": "2023-12-12T18:26:50.267Z"
   },
   {
    "duration": 5,
    "start_time": "2023-12-12T18:26:50.300Z"
   },
   {
    "duration": 15,
    "start_time": "2023-12-12T18:26:50.306Z"
   },
   {
    "duration": 156,
    "start_time": "2023-12-12T18:26:50.322Z"
   },
   {
    "duration": 17,
    "start_time": "2023-12-12T18:26:50.480Z"
   },
   {
    "duration": 16,
    "start_time": "2023-12-12T18:26:50.499Z"
   },
   {
    "duration": 5,
    "start_time": "2023-12-12T18:26:50.516Z"
   },
   {
    "duration": 22,
    "start_time": "2023-12-12T18:26:50.522Z"
   },
   {
    "duration": 5,
    "start_time": "2023-12-12T18:26:50.570Z"
   },
   {
    "duration": 140,
    "start_time": "2023-12-12T18:48:13.793Z"
   },
   {
    "duration": 140,
    "start_time": "2023-12-12T18:51:09.178Z"
   },
   {
    "duration": 141,
    "start_time": "2023-12-12T18:51:27.798Z"
   },
   {
    "duration": 103,
    "start_time": "2023-12-12T19:03:06.942Z"
   },
   {
    "duration": 17,
    "start_time": "2023-12-12T19:04:05.067Z"
   },
   {
    "duration": 20,
    "start_time": "2023-12-12T19:04:17.719Z"
   },
   {
    "duration": 18,
    "start_time": "2023-12-12T19:04:29.684Z"
   },
   {
    "duration": 20,
    "start_time": "2023-12-12T19:04:43.086Z"
   },
   {
    "duration": 11,
    "start_time": "2023-12-12T19:08:21.930Z"
   },
   {
    "duration": 9,
    "start_time": "2023-12-12T19:08:33.747Z"
   },
   {
    "duration": 595,
    "start_time": "2023-12-12T19:17:47.075Z"
   },
   {
    "duration": 11,
    "start_time": "2023-12-12T19:18:39.538Z"
   },
   {
    "duration": 4,
    "start_time": "2023-12-12T19:18:57.283Z"
   },
   {
    "duration": 6,
    "start_time": "2023-12-12T19:19:01.398Z"
   },
   {
    "duration": 791,
    "start_time": "2023-12-12T19:19:12.031Z"
   },
   {
    "duration": 9,
    "start_time": "2023-12-12T19:19:26.502Z"
   },
   {
    "duration": 16,
    "start_time": "2023-12-12T19:21:14.065Z"
   },
   {
    "duration": 12,
    "start_time": "2023-12-12T19:21:17.432Z"
   },
   {
    "duration": 202,
    "start_time": "2023-12-12T19:23:15.194Z"
   },
   {
    "duration": 1354,
    "start_time": "2023-12-13T11:00:36.438Z"
   },
   {
    "duration": 465,
    "start_time": "2023-12-13T11:00:37.794Z"
   },
   {
    "duration": 20,
    "start_time": "2023-12-13T11:00:38.260Z"
   },
   {
    "duration": 10,
    "start_time": "2023-12-13T11:00:38.283Z"
   },
   {
    "duration": 6,
    "start_time": "2023-12-13T11:00:38.295Z"
   },
   {
    "duration": 10,
    "start_time": "2023-12-13T11:00:38.302Z"
   },
   {
    "duration": 35,
    "start_time": "2023-12-13T11:00:38.314Z"
   },
   {
    "duration": 61,
    "start_time": "2023-12-13T11:00:38.351Z"
   },
   {
    "duration": 82,
    "start_time": "2023-12-13T11:00:38.414Z"
   },
   {
    "duration": 63,
    "start_time": "2023-12-13T11:00:38.499Z"
   },
   {
    "duration": 13,
    "start_time": "2023-12-13T11:00:38.563Z"
   },
   {
    "duration": 15,
    "start_time": "2023-12-13T11:00:38.577Z"
   },
   {
    "duration": 5,
    "start_time": "2023-12-13T11:00:38.593Z"
   },
   {
    "duration": 79,
    "start_time": "2023-12-13T11:00:38.599Z"
   },
   {
    "duration": 12,
    "start_time": "2023-12-13T11:00:38.679Z"
   },
   {
    "duration": 10,
    "start_time": "2023-12-13T11:00:38.693Z"
   },
   {
    "duration": 52,
    "start_time": "2023-12-13T11:00:38.704Z"
   },
   {
    "duration": 5,
    "start_time": "2023-12-13T11:00:38.758Z"
   },
   {
    "duration": 37,
    "start_time": "2023-12-13T11:00:38.765Z"
   },
   {
    "duration": 15,
    "start_time": "2023-12-13T11:00:38.803Z"
   },
   {
    "duration": 29,
    "start_time": "2023-12-13T11:00:38.819Z"
   },
   {
    "duration": 76,
    "start_time": "2023-12-13T11:00:38.849Z"
   },
   {
    "duration": 282,
    "start_time": "2023-12-13T11:00:38.926Z"
   },
   {
    "duration": 22,
    "start_time": "2023-12-13T11:00:39.209Z"
   },
   {
    "duration": 23,
    "start_time": "2023-12-13T11:00:39.232Z"
   },
   {
    "duration": 23,
    "start_time": "2023-12-13T11:00:39.257Z"
   },
   {
    "duration": 17,
    "start_time": "2023-12-13T11:00:39.282Z"
   },
   {
    "duration": 68,
    "start_time": "2023-12-13T11:00:39.302Z"
   },
   {
    "duration": 24,
    "start_time": "2023-12-13T11:00:39.372Z"
   },
   {
    "duration": 127,
    "start_time": "2023-12-13T11:00:39.398Z"
   },
   {
    "duration": 63,
    "start_time": "2023-12-13T11:00:39.527Z"
   },
   {
    "duration": 130,
    "start_time": "2023-12-13T11:00:39.591Z"
   },
   {
    "duration": 8,
    "start_time": "2023-12-13T11:00:39.722Z"
   },
   {
    "duration": 17,
    "start_time": "2023-12-13T11:00:39.732Z"
   },
   {
    "duration": 10,
    "start_time": "2023-12-13T11:00:39.751Z"
   },
   {
    "duration": 13,
    "start_time": "2023-12-13T11:00:39.763Z"
   },
   {
    "duration": 12,
    "start_time": "2023-12-13T11:00:39.777Z"
   },
   {
    "duration": 8,
    "start_time": "2023-12-13T11:00:39.790Z"
   },
   {
    "duration": 140,
    "start_time": "2023-12-13T11:00:39.799Z"
   },
   {
    "duration": 19,
    "start_time": "2023-12-13T11:00:39.940Z"
   },
   {
    "duration": 42,
    "start_time": "2023-12-13T11:00:39.960Z"
   },
   {
    "duration": 30,
    "start_time": "2023-12-13T11:00:40.003Z"
   },
   {
    "duration": 26,
    "start_time": "2023-12-13T11:00:40.035Z"
   },
   {
    "duration": 29,
    "start_time": "2023-12-13T11:00:40.062Z"
   },
   {
    "duration": 5,
    "start_time": "2023-12-13T11:00:40.093Z"
   },
   {
    "duration": 9,
    "start_time": "2023-12-13T11:00:40.099Z"
   },
   {
    "duration": 8,
    "start_time": "2023-12-13T11:00:40.110Z"
   },
   {
    "duration": 67,
    "start_time": "2023-12-13T11:00:40.119Z"
   },
   {
    "duration": 32,
    "start_time": "2023-12-13T11:00:40.188Z"
   },
   {
    "duration": 6,
    "start_time": "2023-12-13T11:00:40.221Z"
   },
   {
    "duration": 23,
    "start_time": "2023-12-13T11:00:40.228Z"
   },
   {
    "duration": 138,
    "start_time": "2023-12-13T11:00:40.252Z"
   },
   {
    "duration": 156,
    "start_time": "2023-12-13T11:00:40.392Z"
   },
   {
    "duration": 144,
    "start_time": "2023-12-13T11:00:40.549Z"
   },
   {
    "duration": 207,
    "start_time": "2023-12-13T11:00:40.694Z"
   },
   {
    "duration": 1111,
    "start_time": "2023-12-13T12:13:57.509Z"
   },
   {
    "duration": 145,
    "start_time": "2023-12-13T12:13:58.622Z"
   },
   {
    "duration": 18,
    "start_time": "2023-12-13T12:13:58.769Z"
   },
   {
    "duration": 10,
    "start_time": "2023-12-13T12:13:58.789Z"
   },
   {
    "duration": 6,
    "start_time": "2023-12-13T12:13:58.800Z"
   },
   {
    "duration": 10,
    "start_time": "2023-12-13T12:13:58.807Z"
   },
   {
    "duration": 86,
    "start_time": "2023-12-13T12:13:58.818Z"
   },
   {
    "duration": 79,
    "start_time": "2023-12-13T12:13:58.905Z"
   },
   {
    "duration": 69,
    "start_time": "2023-12-13T12:13:58.986Z"
   },
   {
    "duration": 56,
    "start_time": "2023-12-13T12:13:59.057Z"
   },
   {
    "duration": 13,
    "start_time": "2023-12-13T12:13:59.114Z"
   },
   {
    "duration": 32,
    "start_time": "2023-12-13T12:13:59.128Z"
   },
   {
    "duration": 7,
    "start_time": "2023-12-13T12:13:59.161Z"
   },
   {
    "duration": 76,
    "start_time": "2023-12-13T12:13:59.169Z"
   },
   {
    "duration": 12,
    "start_time": "2023-12-13T12:13:59.247Z"
   },
   {
    "duration": 19,
    "start_time": "2023-12-13T12:13:59.260Z"
   },
   {
    "duration": 35,
    "start_time": "2023-12-13T12:13:59.281Z"
   },
   {
    "duration": 38,
    "start_time": "2023-12-13T12:13:59.318Z"
   },
   {
    "duration": 47,
    "start_time": "2023-12-13T12:13:59.358Z"
   },
   {
    "duration": 14,
    "start_time": "2023-12-13T12:13:59.406Z"
   },
   {
    "duration": 27,
    "start_time": "2023-12-13T12:13:59.421Z"
   },
   {
    "duration": 86,
    "start_time": "2023-12-13T12:13:59.449Z"
   },
   {
    "duration": 251,
    "start_time": "2023-12-13T12:13:59.537Z"
   },
   {
    "duration": 23,
    "start_time": "2023-12-13T12:13:59.789Z"
   },
   {
    "duration": 11,
    "start_time": "2023-12-13T12:13:59.813Z"
   },
   {
    "duration": 37,
    "start_time": "2023-12-13T12:13:59.826Z"
   },
   {
    "duration": 14,
    "start_time": "2023-12-13T12:13:59.864Z"
   },
   {
    "duration": 48,
    "start_time": "2023-12-13T12:13:59.881Z"
   },
   {
    "duration": 30,
    "start_time": "2023-12-13T12:13:59.947Z"
   },
   {
    "duration": 133,
    "start_time": "2023-12-13T12:13:59.978Z"
   },
   {
    "duration": 64,
    "start_time": "2023-12-13T12:14:00.113Z"
   },
   {
    "duration": 151,
    "start_time": "2023-12-13T12:14:00.179Z"
   },
   {
    "duration": 6,
    "start_time": "2023-12-13T12:14:00.332Z"
   },
   {
    "duration": 91,
    "start_time": "2023-12-13T12:14:00.340Z"
   },
   {
    "duration": 124,
    "start_time": "2023-12-13T12:14:00.432Z"
   },
   {
    "duration": 121,
    "start_time": "2023-12-13T12:14:00.558Z"
   },
   {
    "duration": 119,
    "start_time": "2023-12-13T12:14:00.681Z"
   },
   {
    "duration": 40,
    "start_time": "2023-12-13T12:14:00.802Z"
   },
   {
    "duration": 192,
    "start_time": "2023-12-13T12:14:00.844Z"
   },
   {
    "duration": 22,
    "start_time": "2023-12-13T12:14:01.038Z"
   },
   {
    "duration": 158,
    "start_time": "2023-12-13T12:14:01.061Z"
   },
   {
    "duration": 578,
    "start_time": "2023-12-13T12:14:01.221Z"
   },
   {
    "duration": 623,
    "start_time": "2023-12-13T12:14:01.801Z"
   },
   {
    "duration": 37,
    "start_time": "2023-12-13T12:14:02.426Z"
   },
   {
    "duration": 5,
    "start_time": "2023-12-13T12:14:02.465Z"
   },
   {
    "duration": 22,
    "start_time": "2023-12-13T12:14:02.472Z"
   },
   {
    "duration": 37,
    "start_time": "2023-12-13T12:14:02.495Z"
   },
   {
    "duration": 74,
    "start_time": "2023-12-13T12:14:02.534Z"
   },
   {
    "duration": 33,
    "start_time": "2023-12-13T12:14:02.610Z"
   },
   {
    "duration": 6,
    "start_time": "2023-12-13T12:14:02.645Z"
   },
   {
    "duration": 39,
    "start_time": "2023-12-13T12:14:02.653Z"
   },
   {
    "duration": 208,
    "start_time": "2023-12-13T12:14:02.693Z"
   },
   {
    "duration": 148,
    "start_time": "2023-12-13T12:14:02.903Z"
   },
   {
    "duration": 149,
    "start_time": "2023-12-13T12:14:03.053Z"
   },
   {
    "duration": 200,
    "start_time": "2023-12-13T12:14:03.203Z"
   },
   {
    "duration": 93,
    "start_time": "2023-12-13T13:58:29.533Z"
   },
   {
    "duration": 80,
    "start_time": "2023-12-13T13:58:30.319Z"
   },
   {
    "duration": 21,
    "start_time": "2023-12-13T13:59:25.357Z"
   },
   {
    "duration": 28,
    "start_time": "2023-12-13T13:59:26.669Z"
   },
   {
    "duration": 7,
    "start_time": "2023-12-13T13:59:27.608Z"
   },
   {
    "duration": 150,
    "start_time": "2023-12-13T14:48:04.024Z"
   },
   {
    "duration": 140,
    "start_time": "2023-12-13T14:48:17.075Z"
   },
   {
    "duration": 1097,
    "start_time": "2023-12-13T14:48:32.336Z"
   },
   {
    "duration": 141,
    "start_time": "2023-12-13T14:48:33.434Z"
   },
   {
    "duration": 17,
    "start_time": "2023-12-13T14:48:33.576Z"
   },
   {
    "duration": 14,
    "start_time": "2023-12-13T14:48:33.595Z"
   },
   {
    "duration": 16,
    "start_time": "2023-12-13T14:48:33.610Z"
   },
   {
    "duration": 8,
    "start_time": "2023-12-13T14:48:33.627Z"
   },
   {
    "duration": 20,
    "start_time": "2023-12-13T14:48:33.636Z"
   },
   {
    "duration": 58,
    "start_time": "2023-12-13T14:48:33.657Z"
   },
   {
    "duration": 72,
    "start_time": "2023-12-13T14:48:33.716Z"
   },
   {
    "duration": 61,
    "start_time": "2023-12-13T14:48:33.790Z"
   },
   {
    "duration": 12,
    "start_time": "2023-12-13T14:48:33.853Z"
   },
   {
    "duration": 16,
    "start_time": "2023-12-13T14:48:33.867Z"
   },
   {
    "duration": 6,
    "start_time": "2023-12-13T14:48:33.884Z"
   },
   {
    "duration": 82,
    "start_time": "2023-12-13T14:48:33.891Z"
   },
   {
    "duration": 11,
    "start_time": "2023-12-13T14:48:33.974Z"
   },
   {
    "duration": 18,
    "start_time": "2023-12-13T14:48:33.987Z"
   },
   {
    "duration": 55,
    "start_time": "2023-12-13T14:48:34.006Z"
   },
   {
    "duration": 75,
    "start_time": "2023-12-13T14:48:34.063Z"
   },
   {
    "duration": 47,
    "start_time": "2023-12-13T14:48:34.140Z"
   },
   {
    "duration": 13,
    "start_time": "2023-12-13T14:48:34.189Z"
   },
   {
    "duration": 25,
    "start_time": "2023-12-13T14:48:34.203Z"
   },
   {
    "duration": 71,
    "start_time": "2023-12-13T14:48:34.230Z"
   },
   {
    "duration": 254,
    "start_time": "2023-12-13T14:48:34.302Z"
   },
   {
    "duration": 22,
    "start_time": "2023-12-13T14:48:34.558Z"
   },
   {
    "duration": 11,
    "start_time": "2023-12-13T14:48:34.581Z"
   },
   {
    "duration": 46,
    "start_time": "2023-12-13T14:48:34.594Z"
   },
   {
    "duration": 14,
    "start_time": "2023-12-13T14:48:34.642Z"
   },
   {
    "duration": 50,
    "start_time": "2023-12-13T14:48:34.659Z"
   },
   {
    "duration": 41,
    "start_time": "2023-12-13T14:48:34.710Z"
   },
   {
    "duration": 124,
    "start_time": "2023-12-13T14:48:34.753Z"
   },
   {
    "duration": 52,
    "start_time": "2023-12-13T14:48:34.879Z"
   },
   {
    "duration": 134,
    "start_time": "2023-12-13T14:48:34.933Z"
   },
   {
    "duration": 7,
    "start_time": "2023-12-13T14:48:35.069Z"
   },
   {
    "duration": 25,
    "start_time": "2023-12-13T14:48:35.077Z"
   },
   {
    "duration": 22,
    "start_time": "2023-12-13T14:48:35.103Z"
   },
   {
    "duration": 9,
    "start_time": "2023-12-13T14:48:35.126Z"
   },
   {
    "duration": 10,
    "start_time": "2023-12-13T14:48:35.136Z"
   },
   {
    "duration": 6,
    "start_time": "2023-12-13T14:48:35.147Z"
   },
   {
    "duration": 150,
    "start_time": "2023-12-13T14:48:35.155Z"
   },
   {
    "duration": 19,
    "start_time": "2023-12-13T14:48:35.307Z"
   },
   {
    "duration": 45,
    "start_time": "2023-12-13T14:48:35.327Z"
   },
   {
    "duration": 29,
    "start_time": "2023-12-13T14:48:35.374Z"
   },
   {
    "duration": 15,
    "start_time": "2023-12-13T14:48:35.404Z"
   },
   {
    "duration": 47,
    "start_time": "2023-12-13T14:48:35.421Z"
   },
   {
    "duration": 5,
    "start_time": "2023-12-13T14:48:35.469Z"
   },
   {
    "duration": 18,
    "start_time": "2023-12-13T14:48:35.476Z"
   },
   {
    "duration": 17,
    "start_time": "2023-12-13T14:48:35.496Z"
   },
   {
    "duration": 48,
    "start_time": "2023-12-13T14:48:35.515Z"
   },
   {
    "duration": 33,
    "start_time": "2023-12-13T14:48:35.564Z"
   },
   {
    "duration": 17,
    "start_time": "2023-12-13T14:48:35.599Z"
   },
   {
    "duration": 65,
    "start_time": "2023-12-13T14:48:35.618Z"
   },
   {
    "duration": 150,
    "start_time": "2023-12-13T14:48:35.685Z"
   },
   {
    "duration": 142,
    "start_time": "2023-12-13T14:48:35.837Z"
   },
   {
    "duration": 149,
    "start_time": "2023-12-13T14:48:35.981Z"
   },
   {
    "duration": 343,
    "start_time": "2023-12-13T14:48:36.131Z"
   },
   {
    "duration": 144,
    "start_time": "2023-12-13T14:55:20.669Z"
   },
   {
    "duration": 135,
    "start_time": "2023-12-13T14:56:16.316Z"
   },
   {
    "duration": 156,
    "start_time": "2023-12-13T14:59:40.393Z"
   },
   {
    "duration": 1072,
    "start_time": "2023-12-13T15:00:00.280Z"
   },
   {
    "duration": 143,
    "start_time": "2023-12-13T15:00:01.354Z"
   },
   {
    "duration": 55,
    "start_time": "2023-12-13T15:00:01.498Z"
   },
   {
    "duration": 372,
    "start_time": "2023-12-13T15:00:01.555Z"
   },
   {
    "duration": 416,
    "start_time": "2023-12-13T15:00:01.928Z"
   },
   {
    "duration": 236,
    "start_time": "2023-12-13T15:00:02.346Z"
   },
   {
    "duration": 50,
    "start_time": "2023-12-13T15:00:02.584Z"
   },
   {
    "duration": 174,
    "start_time": "2023-12-13T15:00:02.636Z"
   },
   {
    "duration": 90,
    "start_time": "2023-12-13T15:00:02.811Z"
   },
   {
    "duration": 146,
    "start_time": "2023-12-13T15:00:02.904Z"
   },
   {
    "duration": 12,
    "start_time": "2023-12-13T15:00:03.052Z"
   },
   {
    "duration": 21,
    "start_time": "2023-12-13T15:00:03.065Z"
   },
   {
    "duration": 21,
    "start_time": "2023-12-13T15:00:03.087Z"
   },
   {
    "duration": 70,
    "start_time": "2023-12-13T15:00:03.109Z"
   },
   {
    "duration": 20,
    "start_time": "2023-12-13T15:00:03.181Z"
   },
   {
    "duration": 38,
    "start_time": "2023-12-13T15:00:03.202Z"
   },
   {
    "duration": 95,
    "start_time": "2023-12-13T15:00:03.242Z"
   },
   {
    "duration": 86,
    "start_time": "2023-12-13T15:00:03.339Z"
   },
   {
    "duration": 73,
    "start_time": "2023-12-13T15:00:03.426Z"
   },
   {
    "duration": 109,
    "start_time": "2023-12-13T15:00:03.500Z"
   },
   {
    "duration": 150,
    "start_time": "2023-12-13T15:00:03.611Z"
   },
   {
    "duration": 102,
    "start_time": "2023-12-13T15:00:03.763Z"
   },
   {
    "duration": 256,
    "start_time": "2023-12-13T15:00:03.867Z"
   },
   {
    "duration": 28,
    "start_time": "2023-12-13T15:00:04.125Z"
   },
   {
    "duration": 52,
    "start_time": "2023-12-13T15:00:04.155Z"
   },
   {
    "duration": 44,
    "start_time": "2023-12-13T15:00:04.208Z"
   },
   {
    "duration": 14,
    "start_time": "2023-12-13T15:00:04.254Z"
   },
   {
    "duration": 52,
    "start_time": "2023-12-13T15:00:04.271Z"
   },
   {
    "duration": 39,
    "start_time": "2023-12-13T15:00:04.324Z"
   },
   {
    "duration": 150,
    "start_time": "2023-12-13T15:00:04.364Z"
   },
   {
    "duration": 63,
    "start_time": "2023-12-13T15:00:04.516Z"
   },
   {
    "duration": 152,
    "start_time": "2023-12-13T15:00:04.581Z"
   },
   {
    "duration": 12,
    "start_time": "2023-12-13T15:00:04.735Z"
   },
   {
    "duration": 49,
    "start_time": "2023-12-13T15:00:04.749Z"
   },
   {
    "duration": 12,
    "start_time": "2023-12-13T15:00:04.799Z"
   },
   {
    "duration": 25,
    "start_time": "2023-12-13T15:00:04.812Z"
   },
   {
    "duration": 37,
    "start_time": "2023-12-13T15:00:04.839Z"
   },
   {
    "duration": 13,
    "start_time": "2023-12-13T15:00:04.878Z"
   },
   {
    "duration": 163,
    "start_time": "2023-12-13T15:00:04.893Z"
   },
   {
    "duration": 17,
    "start_time": "2023-12-13T15:00:05.058Z"
   },
   {
    "duration": 34,
    "start_time": "2023-12-13T15:00:05.077Z"
   },
   {
    "duration": 75,
    "start_time": "2023-12-13T15:00:05.113Z"
   },
   {
    "duration": 59,
    "start_time": "2023-12-13T15:00:05.189Z"
   },
   {
    "duration": 90,
    "start_time": "2023-12-13T15:00:05.249Z"
   },
   {
    "duration": 6,
    "start_time": "2023-12-13T15:00:05.340Z"
   },
   {
    "duration": 55,
    "start_time": "2023-12-13T15:00:05.347Z"
   },
   {
    "duration": 35,
    "start_time": "2023-12-13T15:00:05.403Z"
   },
   {
    "duration": 65,
    "start_time": "2023-12-13T15:00:05.439Z"
   },
   {
    "duration": 30,
    "start_time": "2023-12-13T15:00:05.506Z"
   },
   {
    "duration": 14,
    "start_time": "2023-12-13T15:00:05.537Z"
   },
   {
    "duration": 20,
    "start_time": "2023-12-13T15:00:05.552Z"
   },
   {
    "duration": 144,
    "start_time": "2023-12-13T15:00:05.574Z"
   },
   {
    "duration": 155,
    "start_time": "2023-12-13T15:00:05.719Z"
   },
   {
    "duration": 303,
    "start_time": "2023-12-13T15:00:05.876Z"
   },
   {
    "duration": 407,
    "start_time": "2023-12-13T15:00:06.180Z"
   },
   {
    "duration": 5,
    "start_time": "2023-12-13T15:08:26.153Z"
   },
   {
    "duration": 6,
    "start_time": "2023-12-13T15:08:43.541Z"
   },
   {
    "duration": 55,
    "start_time": "2023-12-13T15:57:12.781Z"
   },
   {
    "duration": 4,
    "start_time": "2023-12-13T15:58:10.444Z"
   },
   {
    "duration": 111,
    "start_time": "2023-12-13T16:26:04.311Z"
   },
   {
    "duration": 19,
    "start_time": "2023-12-13T16:33:00.968Z"
   },
   {
    "duration": 39,
    "start_time": "2023-12-13T16:33:02.004Z"
   },
   {
    "duration": 37,
    "start_time": "2023-12-13T16:46:51.547Z"
   },
   {
    "duration": 7,
    "start_time": "2023-12-13T16:46:52.069Z"
   },
   {
    "duration": 5,
    "start_time": "2023-12-13T16:46:52.875Z"
   },
   {
    "duration": 6,
    "start_time": "2023-12-13T16:47:09.727Z"
   },
   {
    "duration": 6,
    "start_time": "2023-12-13T16:56:50.697Z"
   },
   {
    "duration": 5,
    "start_time": "2023-12-13T16:59:39.190Z"
   },
   {
    "duration": 132,
    "start_time": "2023-12-13T16:59:40.811Z"
   },
   {
    "duration": 10,
    "start_time": "2023-12-13T17:06:39.281Z"
   },
   {
    "duration": 6,
    "start_time": "2023-12-13T17:06:50.265Z"
   },
   {
    "duration": 7,
    "start_time": "2023-12-13T17:07:18.287Z"
   },
   {
    "duration": 7,
    "start_time": "2023-12-13T17:07:19.454Z"
   },
   {
    "duration": 23,
    "start_time": "2023-12-13T17:09:44.864Z"
   },
   {
    "duration": 6,
    "start_time": "2023-12-13T17:09:46.544Z"
   },
   {
    "duration": 25,
    "start_time": "2023-12-13T17:13:45.111Z"
   },
   {
    "duration": 7,
    "start_time": "2023-12-13T17:14:26.355Z"
   },
   {
    "duration": 112,
    "start_time": "2023-12-13T17:26:09.723Z"
   },
   {
    "duration": 10,
    "start_time": "2023-12-13T17:26:16.433Z"
   },
   {
    "duration": 60,
    "start_time": "2023-12-13T17:26:47.477Z"
   },
   {
    "duration": 68,
    "start_time": "2023-12-13T17:27:22.601Z"
   },
   {
    "duration": 4,
    "start_time": "2023-12-13T17:40:11.117Z"
   },
   {
    "duration": 3,
    "start_time": "2023-12-13T17:41:50.440Z"
   },
   {
    "duration": 4,
    "start_time": "2023-12-13T17:41:59.712Z"
   },
   {
    "duration": 4,
    "start_time": "2023-12-13T17:42:20.141Z"
   },
   {
    "duration": 4,
    "start_time": "2023-12-13T17:42:25.145Z"
   },
   {
    "duration": 5,
    "start_time": "2023-12-13T17:42:44.704Z"
   },
   {
    "duration": 14,
    "start_time": "2023-12-13T17:42:59.462Z"
   },
   {
    "duration": 8,
    "start_time": "2023-12-13T17:43:05.664Z"
   },
   {
    "duration": 6,
    "start_time": "2023-12-13T17:45:46.810Z"
   },
   {
    "duration": 7,
    "start_time": "2023-12-13T17:46:02.783Z"
   },
   {
    "duration": 3,
    "start_time": "2023-12-13T17:47:30.418Z"
   },
   {
    "duration": 5,
    "start_time": "2023-12-13T17:47:37.717Z"
   },
   {
    "duration": 5,
    "start_time": "2023-12-13T17:49:21.325Z"
   },
   {
    "duration": 6,
    "start_time": "2023-12-13T17:49:28.940Z"
   },
   {
    "duration": 6,
    "start_time": "2023-12-13T17:49:59.424Z"
   },
   {
    "duration": 6,
    "start_time": "2023-12-13T17:50:12.059Z"
   },
   {
    "duration": 31,
    "start_time": "2023-12-13T17:50:51.900Z"
   },
   {
    "duration": 10,
    "start_time": "2023-12-13T17:51:30.724Z"
   },
   {
    "duration": 7,
    "start_time": "2023-12-13T18:11:09.379Z"
   },
   {
    "duration": 6,
    "start_time": "2023-12-13T18:11:13.635Z"
   },
   {
    "duration": 1053,
    "start_time": "2023-12-13T18:11:19.097Z"
   },
   {
    "duration": 149,
    "start_time": "2023-12-13T18:11:20.152Z"
   },
   {
    "duration": 18,
    "start_time": "2023-12-13T18:11:20.302Z"
   },
   {
    "duration": 10,
    "start_time": "2023-12-13T18:11:20.322Z"
   },
   {
    "duration": 6,
    "start_time": "2023-12-13T18:11:20.347Z"
   },
   {
    "duration": 9,
    "start_time": "2023-12-13T18:11:20.355Z"
   },
   {
    "duration": 25,
    "start_time": "2023-12-13T18:11:20.366Z"
   },
   {
    "duration": 75,
    "start_time": "2023-12-13T18:11:20.393Z"
   },
   {
    "duration": 79,
    "start_time": "2023-12-13T18:11:20.470Z"
   },
   {
    "duration": 62,
    "start_time": "2023-12-13T18:11:20.551Z"
   },
   {
    "duration": 12,
    "start_time": "2023-12-13T18:11:20.614Z"
   },
   {
    "duration": 58,
    "start_time": "2023-12-13T18:11:20.628Z"
   },
   {
    "duration": 42,
    "start_time": "2023-12-13T18:11:20.688Z"
   },
   {
    "duration": 71,
    "start_time": "2023-12-13T18:11:20.731Z"
   },
   {
    "duration": 12,
    "start_time": "2023-12-13T18:11:20.804Z"
   },
   {
    "duration": 20,
    "start_time": "2023-12-13T18:11:20.817Z"
   },
   {
    "duration": 29,
    "start_time": "2023-12-13T18:11:20.838Z"
   },
   {
    "duration": 6,
    "start_time": "2023-12-13T18:11:20.868Z"
   },
   {
    "duration": 28,
    "start_time": "2023-12-13T18:11:20.875Z"
   },
   {
    "duration": 14,
    "start_time": "2023-12-13T18:11:20.904Z"
   },
   {
    "duration": 18,
    "start_time": "2023-12-13T18:11:20.919Z"
   },
   {
    "duration": 66,
    "start_time": "2023-12-13T18:11:20.948Z"
   },
   {
    "duration": 256,
    "start_time": "2023-12-13T18:11:21.016Z"
   },
   {
    "duration": 22,
    "start_time": "2023-12-13T18:11:21.273Z"
   },
   {
    "duration": 19,
    "start_time": "2023-12-13T18:11:21.297Z"
   },
   {
    "duration": 29,
    "start_time": "2023-12-13T18:11:21.318Z"
   },
   {
    "duration": 13,
    "start_time": "2023-12-13T18:11:21.349Z"
   },
   {
    "duration": 52,
    "start_time": "2023-12-13T18:11:21.366Z"
   },
   {
    "duration": 36,
    "start_time": "2023-12-13T18:11:21.419Z"
   },
   {
    "duration": 140,
    "start_time": "2023-12-13T18:11:21.457Z"
   },
   {
    "duration": 57,
    "start_time": "2023-12-13T18:11:21.599Z"
   },
   {
    "duration": 152,
    "start_time": "2023-12-13T18:11:21.657Z"
   },
   {
    "duration": 7,
    "start_time": "2023-12-13T18:11:21.811Z"
   },
   {
    "duration": 12,
    "start_time": "2023-12-13T18:11:21.819Z"
   },
   {
    "duration": 16,
    "start_time": "2023-12-13T18:11:21.832Z"
   },
   {
    "duration": 4,
    "start_time": "2023-12-13T18:11:21.850Z"
   },
   {
    "duration": 34,
    "start_time": "2023-12-13T18:11:21.855Z"
   },
   {
    "duration": 11,
    "start_time": "2023-12-13T18:11:21.891Z"
   },
   {
    "duration": 146,
    "start_time": "2023-12-13T18:11:21.903Z"
   },
   {
    "duration": 19,
    "start_time": "2023-12-13T18:11:22.051Z"
   },
   {
    "duration": 38,
    "start_time": "2023-12-13T18:11:22.071Z"
   },
   {
    "duration": 38,
    "start_time": "2023-12-13T18:11:22.110Z"
   },
   {
    "duration": 15,
    "start_time": "2023-12-13T18:11:22.149Z"
   },
   {
    "duration": 51,
    "start_time": "2023-12-13T18:11:22.165Z"
   },
   {
    "duration": 5,
    "start_time": "2023-12-13T18:11:22.217Z"
   },
   {
    "duration": 25,
    "start_time": "2023-12-13T18:11:22.224Z"
   },
   {
    "duration": 12,
    "start_time": "2023-12-13T18:11:22.250Z"
   },
   {
    "duration": 66,
    "start_time": "2023-12-13T18:11:22.263Z"
   },
   {
    "duration": 35,
    "start_time": "2023-12-13T18:11:22.331Z"
   },
   {
    "duration": 5,
    "start_time": "2023-12-13T18:11:22.368Z"
   },
   {
    "duration": 34,
    "start_time": "2023-12-13T18:11:22.374Z"
   },
   {
    "duration": 7,
    "start_time": "2023-12-13T18:11:22.409Z"
   },
   {
    "duration": 66,
    "start_time": "2023-12-13T18:11:22.417Z"
   },
   {
    "duration": 10,
    "start_time": "2023-12-13T18:11:22.484Z"
   },
   {
    "duration": 9,
    "start_time": "2023-12-13T18:11:22.496Z"
   },
   {
    "duration": 16,
    "start_time": "2023-12-13T18:11:22.507Z"
   },
   {
    "duration": 24,
    "start_time": "2023-12-13T18:11:22.525Z"
   },
   {
    "duration": 7,
    "start_time": "2023-12-13T18:11:22.551Z"
   },
   {
    "duration": 8,
    "start_time": "2023-12-13T18:11:22.559Z"
   },
   {
    "duration": 35,
    "start_time": "2023-12-13T18:11:22.568Z"
   },
   {
    "duration": 9,
    "start_time": "2023-12-13T18:11:22.605Z"
   },
   {
    "duration": 5,
    "start_time": "2023-12-13T18:11:22.615Z"
   },
   {
    "duration": 145,
    "start_time": "2023-12-13T18:11:22.622Z"
   },
   {
    "duration": 158,
    "start_time": "2023-12-13T18:11:22.769Z"
   },
   {
    "duration": 164,
    "start_time": "2023-12-13T18:11:22.928Z"
   },
   {
    "duration": 199,
    "start_time": "2023-12-13T18:11:23.094Z"
   },
   {
    "duration": 5,
    "start_time": "2023-12-13T18:12:03.105Z"
   },
   {
    "duration": 14,
    "start_time": "2023-12-13T18:12:13.832Z"
   },
   {
    "duration": 6,
    "start_time": "2023-12-13T18:12:25.725Z"
   },
   {
    "duration": 3,
    "start_time": "2023-12-13T18:12:52.551Z"
   },
   {
    "duration": 6,
    "start_time": "2023-12-13T18:12:58.399Z"
   },
   {
    "duration": 6,
    "start_time": "2023-12-13T18:13:01.827Z"
   },
   {
    "duration": 7,
    "start_time": "2023-12-13T18:13:12.780Z"
   },
   {
    "duration": 1101,
    "start_time": "2023-12-13T18:13:23.828Z"
   },
   {
    "duration": 148,
    "start_time": "2023-12-13T18:13:24.931Z"
   },
   {
    "duration": 20,
    "start_time": "2023-12-13T18:13:25.080Z"
   },
   {
    "duration": 9,
    "start_time": "2023-12-13T18:13:25.101Z"
   },
   {
    "duration": 7,
    "start_time": "2023-12-13T18:13:25.111Z"
   },
   {
    "duration": 9,
    "start_time": "2023-12-13T18:13:25.119Z"
   },
   {
    "duration": 15,
    "start_time": "2023-12-13T18:13:25.148Z"
   },
   {
    "duration": 62,
    "start_time": "2023-12-13T18:13:25.165Z"
   },
   {
    "duration": 82,
    "start_time": "2023-12-13T18:13:25.229Z"
   },
   {
    "duration": 66,
    "start_time": "2023-12-13T18:13:25.313Z"
   },
   {
    "duration": 11,
    "start_time": "2023-12-13T18:13:25.381Z"
   },
   {
    "duration": 20,
    "start_time": "2023-12-13T18:13:25.394Z"
   },
   {
    "duration": 5,
    "start_time": "2023-12-13T18:13:25.415Z"
   },
   {
    "duration": 79,
    "start_time": "2023-12-13T18:13:25.422Z"
   },
   {
    "duration": 12,
    "start_time": "2023-12-13T18:13:25.502Z"
   },
   {
    "duration": 11,
    "start_time": "2023-12-13T18:13:25.515Z"
   },
   {
    "duration": 28,
    "start_time": "2023-12-13T18:13:25.527Z"
   },
   {
    "duration": 7,
    "start_time": "2023-12-13T18:13:25.557Z"
   },
   {
    "duration": 37,
    "start_time": "2023-12-13T18:13:25.566Z"
   },
   {
    "duration": 12,
    "start_time": "2023-12-13T18:13:25.605Z"
   },
   {
    "duration": 15,
    "start_time": "2023-12-13T18:13:25.618Z"
   },
   {
    "duration": 62,
    "start_time": "2023-12-13T18:13:25.648Z"
   },
   {
    "duration": 258,
    "start_time": "2023-12-13T18:13:25.711Z"
   },
   {
    "duration": 22,
    "start_time": "2023-12-13T18:13:25.970Z"
   },
   {
    "duration": 26,
    "start_time": "2023-12-13T18:13:25.994Z"
   },
   {
    "duration": 31,
    "start_time": "2023-12-13T18:13:26.021Z"
   },
   {
    "duration": 13,
    "start_time": "2023-12-13T18:13:26.053Z"
   },
   {
    "duration": 63,
    "start_time": "2023-12-13T18:13:26.070Z"
   },
   {
    "duration": 25,
    "start_time": "2023-12-13T18:13:26.135Z"
   },
   {
    "duration": 143,
    "start_time": "2023-12-13T18:13:26.162Z"
   },
   {
    "duration": 61,
    "start_time": "2023-12-13T18:13:26.307Z"
   },
   {
    "duration": 147,
    "start_time": "2023-12-13T18:13:26.369Z"
   },
   {
    "duration": 6,
    "start_time": "2023-12-13T18:13:26.517Z"
   },
   {
    "duration": 46,
    "start_time": "2023-12-13T18:13:26.524Z"
   },
   {
    "duration": 18,
    "start_time": "2023-12-13T18:13:26.571Z"
   },
   {
    "duration": 19,
    "start_time": "2023-12-13T18:13:26.590Z"
   },
   {
    "duration": 11,
    "start_time": "2023-12-13T18:13:26.610Z"
   },
   {
    "duration": 18,
    "start_time": "2023-12-13T18:13:26.622Z"
   },
   {
    "duration": 155,
    "start_time": "2023-12-13T18:13:26.641Z"
   },
   {
    "duration": 18,
    "start_time": "2023-12-13T18:13:26.797Z"
   },
   {
    "duration": 41,
    "start_time": "2023-12-13T18:13:26.817Z"
   },
   {
    "duration": 29,
    "start_time": "2023-12-13T18:13:26.859Z"
   },
   {
    "duration": 15,
    "start_time": "2023-12-13T18:13:26.890Z"
   },
   {
    "duration": 42,
    "start_time": "2023-12-13T18:13:26.906Z"
   },
   {
    "duration": 34,
    "start_time": "2023-12-13T18:13:26.949Z"
   },
   {
    "duration": 15,
    "start_time": "2023-12-13T18:13:26.985Z"
   },
   {
    "duration": 28,
    "start_time": "2023-12-13T18:13:27.001Z"
   },
   {
    "duration": 57,
    "start_time": "2023-12-13T18:13:27.030Z"
   },
   {
    "duration": 30,
    "start_time": "2023-12-13T18:13:27.089Z"
   },
   {
    "duration": 5,
    "start_time": "2023-12-13T18:13:27.121Z"
   },
   {
    "duration": 55,
    "start_time": "2023-12-13T18:13:27.128Z"
   },
   {
    "duration": 6,
    "start_time": "2023-12-13T18:13:27.185Z"
   },
   {
    "duration": 60,
    "start_time": "2023-12-13T18:13:27.192Z"
   },
   {
    "duration": 10,
    "start_time": "2023-12-13T18:13:27.253Z"
   },
   {
    "duration": 9,
    "start_time": "2023-12-13T18:13:27.264Z"
   },
   {
    "duration": 12,
    "start_time": "2023-12-13T18:13:27.275Z"
   },
   {
    "duration": 12,
    "start_time": "2023-12-13T18:13:27.288Z"
   },
   {
    "duration": 23,
    "start_time": "2023-12-13T18:13:27.302Z"
   },
   {
    "duration": 107,
    "start_time": "2023-12-13T18:13:27.327Z"
   },
   {
    "duration": 0,
    "start_time": "2023-12-13T18:13:27.436Z"
   },
   {
    "duration": 0,
    "start_time": "2023-12-13T18:13:27.437Z"
   },
   {
    "duration": 0,
    "start_time": "2023-12-13T18:13:27.447Z"
   },
   {
    "duration": 0,
    "start_time": "2023-12-13T18:13:27.448Z"
   },
   {
    "duration": 0,
    "start_time": "2023-12-13T18:13:27.449Z"
   },
   {
    "duration": 0,
    "start_time": "2023-12-13T18:13:27.451Z"
   },
   {
    "duration": 0,
    "start_time": "2023-12-13T18:13:27.452Z"
   },
   {
    "duration": 0,
    "start_time": "2023-12-13T18:13:27.454Z"
   },
   {
    "duration": 8,
    "start_time": "2023-12-13T18:13:51.859Z"
   },
   {
    "duration": 6,
    "start_time": "2023-12-13T18:14:01.829Z"
   },
   {
    "duration": 6,
    "start_time": "2023-12-13T18:14:34.039Z"
   },
   {
    "duration": 3,
    "start_time": "2023-12-13T18:15:51.262Z"
   },
   {
    "duration": 2,
    "start_time": "2023-12-13T18:16:05.644Z"
   },
   {
    "duration": 4,
    "start_time": "2023-12-13T18:16:17.126Z"
   },
   {
    "duration": 4,
    "start_time": "2023-12-13T18:16:18.674Z"
   },
   {
    "duration": 4,
    "start_time": "2023-12-13T18:32:04.316Z"
   },
   {
    "duration": 4,
    "start_time": "2023-12-13T18:32:19.517Z"
   },
   {
    "duration": 13,
    "start_time": "2023-12-13T18:33:03.632Z"
   },
   {
    "duration": 10,
    "start_time": "2023-12-13T18:34:04.565Z"
   },
   {
    "duration": 14,
    "start_time": "2023-12-13T18:34:09.297Z"
   },
   {
    "duration": 4,
    "start_time": "2023-12-13T18:34:37.020Z"
   },
   {
    "duration": 12,
    "start_time": "2023-12-13T18:34:41.155Z"
   },
   {
    "duration": 4,
    "start_time": "2023-12-13T18:34:58.597Z"
   },
   {
    "duration": 4,
    "start_time": "2023-12-13T18:35:07.666Z"
   },
   {
    "duration": 108,
    "start_time": "2023-12-13T18:35:30.106Z"
   },
   {
    "duration": 3,
    "start_time": "2023-12-13T18:35:39.047Z"
   },
   {
    "duration": 4,
    "start_time": "2023-12-13T18:35:52.006Z"
   },
   {
    "duration": 4,
    "start_time": "2023-12-13T18:35:52.493Z"
   },
   {
    "duration": 4,
    "start_time": "2023-12-13T18:35:53.395Z"
   },
   {
    "duration": 3,
    "start_time": "2023-12-13T18:36:46.049Z"
   },
   {
    "duration": 3,
    "start_time": "2023-12-13T19:08:12.251Z"
   },
   {
    "duration": 9,
    "start_time": "2023-12-13T19:08:51.933Z"
   },
   {
    "duration": 73,
    "start_time": "2023-12-13T19:09:35.366Z"
   },
   {
    "duration": 3,
    "start_time": "2023-12-13T19:09:40.884Z"
   },
   {
    "duration": 3,
    "start_time": "2023-12-13T19:09:52.355Z"
   },
   {
    "duration": 2,
    "start_time": "2023-12-13T19:10:01.783Z"
   },
   {
    "duration": 3,
    "start_time": "2023-12-13T19:10:08.348Z"
   },
   {
    "duration": 24,
    "start_time": "2023-12-13T19:14:14.793Z"
   },
   {
    "duration": 11,
    "start_time": "2023-12-13T19:14:15.280Z"
   },
   {
    "duration": 6,
    "start_time": "2023-12-13T19:14:16.016Z"
   },
   {
    "duration": 135,
    "start_time": "2023-12-13T19:14:16.767Z"
   },
   {
    "duration": 3,
    "start_time": "2023-12-13T19:21:52.549Z"
   },
   {
    "duration": 3,
    "start_time": "2023-12-13T19:22:04.888Z"
   },
   {
    "duration": 29,
    "start_time": "2023-12-13T19:23:37.277Z"
   },
   {
    "duration": 3,
    "start_time": "2023-12-13T19:24:02.974Z"
   },
   {
    "duration": 95,
    "start_time": "2023-12-13T19:24:17.221Z"
   },
   {
    "duration": 3,
    "start_time": "2023-12-13T19:25:25.106Z"
   },
   {
    "duration": 98,
    "start_time": "2023-12-13T19:25:32.901Z"
   },
   {
    "duration": 3,
    "start_time": "2023-12-13T19:25:40.204Z"
   },
   {
    "duration": 99,
    "start_time": "2023-12-13T19:25:40.773Z"
   },
   {
    "duration": 101,
    "start_time": "2023-12-13T19:26:03.754Z"
   },
   {
    "duration": 3,
    "start_time": "2023-12-13T19:26:13.394Z"
   },
   {
    "duration": 98,
    "start_time": "2023-12-13T19:26:13.885Z"
   },
   {
    "duration": 100,
    "start_time": "2023-12-13T19:27:44.290Z"
   },
   {
    "duration": 3,
    "start_time": "2023-12-13T19:31:53.788Z"
   },
   {
    "duration": 5,
    "start_time": "2023-12-13T19:32:57.847Z"
   },
   {
    "duration": 4,
    "start_time": "2023-12-13T19:34:01.313Z"
   },
   {
    "duration": 4,
    "start_time": "2023-12-13T19:35:01.076Z"
   },
   {
    "duration": 93,
    "start_time": "2023-12-13T19:35:03.736Z"
   },
   {
    "duration": 264,
    "start_time": "2023-12-13T19:35:41.409Z"
   },
   {
    "duration": 287,
    "start_time": "2023-12-13T19:36:50.437Z"
   },
   {
    "duration": 273,
    "start_time": "2023-12-13T19:37:20.951Z"
   },
   {
    "duration": 270,
    "start_time": "2023-12-13T19:37:55.292Z"
   },
   {
    "duration": 271,
    "start_time": "2023-12-13T19:38:05.521Z"
   },
   {
    "duration": 70,
    "start_time": "2023-12-13T19:39:25.575Z"
   },
   {
    "duration": 3,
    "start_time": "2023-12-13T19:39:48.263Z"
   },
   {
    "duration": 274,
    "start_time": "2023-12-13T19:39:49.283Z"
   },
   {
    "duration": 279,
    "start_time": "2023-12-13T19:40:06.986Z"
   },
   {
    "duration": 4,
    "start_time": "2023-12-13T19:40:45.268Z"
   },
   {
    "duration": 282,
    "start_time": "2023-12-13T19:40:46.009Z"
   },
   {
    "duration": 5,
    "start_time": "2023-12-13T19:41:04.009Z"
   },
   {
    "duration": 273,
    "start_time": "2023-12-13T19:41:04.937Z"
   },
   {
    "duration": 274,
    "start_time": "2023-12-13T19:41:34.047Z"
   },
   {
    "duration": 271,
    "start_time": "2023-12-13T19:41:46.134Z"
   },
   {
    "duration": 4,
    "start_time": "2023-12-13T19:43:02.677Z"
   },
   {
    "duration": 281,
    "start_time": "2023-12-13T19:43:03.476Z"
   },
   {
    "duration": 59,
    "start_time": "2023-12-13T19:44:01.822Z"
   },
   {
    "duration": 7,
    "start_time": "2023-12-13T19:44:02.389Z"
   },
   {
    "duration": 4,
    "start_time": "2023-12-13T19:44:30.154Z"
   },
   {
    "duration": 309,
    "start_time": "2023-12-13T19:44:30.979Z"
   },
   {
    "duration": 4,
    "start_time": "2023-12-13T19:47:21.255Z"
   },
   {
    "duration": 343,
    "start_time": "2023-12-13T19:47:22.167Z"
   },
   {
    "duration": 3,
    "start_time": "2023-12-13T19:47:42.223Z"
   },
   {
    "duration": 283,
    "start_time": "2023-12-13T19:47:42.867Z"
   },
   {
    "duration": 35,
    "start_time": "2023-12-13T19:48:39.157Z"
   },
   {
    "duration": 6,
    "start_time": "2023-12-13T19:48:42.121Z"
   },
   {
    "duration": 26,
    "start_time": "2023-12-13T19:48:53.006Z"
   },
   {
    "duration": 57,
    "start_time": "2023-12-13T19:48:54.731Z"
   },
   {
    "duration": 67,
    "start_time": "2023-12-13T19:49:10.479Z"
   },
   {
    "duration": 69,
    "start_time": "2023-12-13T19:49:37.177Z"
   },
   {
    "duration": 75,
    "start_time": "2023-12-13T20:04:05.498Z"
   },
   {
    "duration": 74,
    "start_time": "2023-12-13T20:15:28.569Z"
   },
   {
    "duration": 137,
    "start_time": "2023-12-13T20:28:49.756Z"
   },
   {
    "duration": 142,
    "start_time": "2023-12-13T20:28:57.810Z"
   },
   {
    "duration": 180,
    "start_time": "2023-12-13T20:29:00.358Z"
   },
   {
    "duration": 76,
    "start_time": "2023-12-13T20:30:50.623Z"
   },
   {
    "duration": 92,
    "start_time": "2023-12-13T20:46:45.230Z"
   },
   {
    "duration": 3,
    "start_time": "2023-12-13T20:50:24.631Z"
   },
   {
    "duration": 3,
    "start_time": "2023-12-13T20:51:00.439Z"
   },
   {
    "duration": 1063,
    "start_time": "2023-12-13T21:54:33.260Z"
   },
   {
    "duration": 142,
    "start_time": "2023-12-13T21:54:34.324Z"
   },
   {
    "duration": 16,
    "start_time": "2023-12-13T21:54:34.468Z"
   },
   {
    "duration": 25,
    "start_time": "2023-12-13T21:54:34.486Z"
   },
   {
    "duration": 21,
    "start_time": "2023-12-13T21:54:34.512Z"
   },
   {
    "duration": 12,
    "start_time": "2023-12-13T21:54:34.534Z"
   },
   {
    "duration": 34,
    "start_time": "2023-12-13T21:54:34.547Z"
   },
   {
    "duration": 59,
    "start_time": "2023-12-13T21:54:34.583Z"
   },
   {
    "duration": 65,
    "start_time": "2023-12-13T21:54:34.644Z"
   },
   {
    "duration": 55,
    "start_time": "2023-12-13T21:54:34.712Z"
   },
   {
    "duration": 12,
    "start_time": "2023-12-13T21:54:34.768Z"
   },
   {
    "duration": 43,
    "start_time": "2023-12-13T21:54:34.781Z"
   },
   {
    "duration": 15,
    "start_time": "2023-12-13T21:54:34.825Z"
   },
   {
    "duration": 87,
    "start_time": "2023-12-13T21:54:34.842Z"
   },
   {
    "duration": 12,
    "start_time": "2023-12-13T21:54:34.930Z"
   },
   {
    "duration": 23,
    "start_time": "2023-12-13T21:54:34.943Z"
   },
   {
    "duration": 36,
    "start_time": "2023-12-13T21:54:34.968Z"
   },
   {
    "duration": 15,
    "start_time": "2023-12-13T21:54:35.005Z"
   },
   {
    "duration": 46,
    "start_time": "2023-12-13T21:54:35.022Z"
   },
   {
    "duration": 12,
    "start_time": "2023-12-13T21:54:35.070Z"
   },
   {
    "duration": 31,
    "start_time": "2023-12-13T21:54:35.084Z"
   },
   {
    "duration": 85,
    "start_time": "2023-12-13T21:54:35.116Z"
   },
   {
    "duration": 252,
    "start_time": "2023-12-13T21:54:35.202Z"
   },
   {
    "duration": 21,
    "start_time": "2023-12-13T21:54:35.455Z"
   },
   {
    "duration": 11,
    "start_time": "2023-12-13T21:54:35.477Z"
   },
   {
    "duration": 37,
    "start_time": "2023-12-13T21:54:35.490Z"
   },
   {
    "duration": 29,
    "start_time": "2023-12-13T21:54:35.528Z"
   },
   {
    "duration": 61,
    "start_time": "2023-12-13T21:54:35.560Z"
   },
   {
    "duration": 26,
    "start_time": "2023-12-13T21:54:35.622Z"
   },
   {
    "duration": 128,
    "start_time": "2023-12-13T21:54:35.650Z"
   },
   {
    "duration": 50,
    "start_time": "2023-12-13T21:54:35.779Z"
   },
   {
    "duration": 158,
    "start_time": "2023-12-13T21:54:35.831Z"
   },
   {
    "duration": 6,
    "start_time": "2023-12-13T21:54:35.991Z"
   },
   {
    "duration": 47,
    "start_time": "2023-12-13T21:54:35.998Z"
   },
   {
    "duration": 40,
    "start_time": "2023-12-13T21:54:36.047Z"
   },
   {
    "duration": 30,
    "start_time": "2023-12-13T21:54:36.088Z"
   },
   {
    "duration": 51,
    "start_time": "2023-12-13T21:54:36.119Z"
   },
   {
    "duration": 21,
    "start_time": "2023-12-13T21:54:36.171Z"
   },
   {
    "duration": 140,
    "start_time": "2023-12-13T21:54:36.193Z"
   },
   {
    "duration": 17,
    "start_time": "2023-12-13T21:54:36.335Z"
   },
   {
    "duration": 33,
    "start_time": "2023-12-13T21:54:36.354Z"
   },
   {
    "duration": 29,
    "start_time": "2023-12-13T21:54:36.389Z"
   },
   {
    "duration": 30,
    "start_time": "2023-12-13T21:54:36.420Z"
   },
   {
    "duration": 28,
    "start_time": "2023-12-13T21:54:36.452Z"
   },
   {
    "duration": 5,
    "start_time": "2023-12-13T21:54:36.481Z"
   },
   {
    "duration": 30,
    "start_time": "2023-12-13T21:54:36.487Z"
   },
   {
    "duration": 32,
    "start_time": "2023-12-13T21:54:36.518Z"
   },
   {
    "duration": 94,
    "start_time": "2023-12-13T21:54:36.552Z"
   },
   {
    "duration": 33,
    "start_time": "2023-12-13T21:54:36.648Z"
   },
   {
    "duration": 5,
    "start_time": "2023-12-13T21:54:36.683Z"
   },
   {
    "duration": 84,
    "start_time": "2023-12-13T21:54:36.690Z"
   },
   {
    "duration": 15,
    "start_time": "2023-12-13T21:54:36.776Z"
   },
   {
    "duration": 295,
    "start_time": "2023-12-13T21:54:36.792Z"
   },
   {
    "duration": 5,
    "start_time": "2023-12-13T21:54:37.089Z"
   },
   {
    "duration": 162,
    "start_time": "2023-12-13T21:54:37.095Z"
   },
   {
    "duration": 136,
    "start_time": "2023-12-13T21:54:37.258Z"
   },
   {
    "duration": 156,
    "start_time": "2023-12-13T21:54:37.395Z"
   },
   {
    "duration": 215,
    "start_time": "2023-12-13T21:54:37.553Z"
   },
   {
    "duration": 31,
    "start_time": "2023-12-13T21:59:07.025Z"
   },
   {
    "duration": 57,
    "start_time": "2023-12-13T21:59:24.193Z"
   },
   {
    "duration": 22,
    "start_time": "2023-12-13T21:59:57.136Z"
   },
   {
    "duration": 32,
    "start_time": "2023-12-13T21:59:57.738Z"
   },
   {
    "duration": 37,
    "start_time": "2023-12-13T22:00:08.302Z"
   },
   {
    "duration": 5,
    "start_time": "2023-12-13T22:00:08.918Z"
   },
   {
    "duration": 66,
    "start_time": "2023-12-13T22:00:21.779Z"
   },
   {
    "duration": 192,
    "start_time": "2023-12-13T22:00:46.768Z"
   },
   {
    "duration": 1046,
    "start_time": "2023-12-13T22:01:03.091Z"
   },
   {
    "duration": 148,
    "start_time": "2023-12-13T22:01:04.139Z"
   },
   {
    "duration": 18,
    "start_time": "2023-12-13T22:01:04.288Z"
   },
   {
    "duration": 58,
    "start_time": "2023-12-13T22:01:04.308Z"
   },
   {
    "duration": 113,
    "start_time": "2023-12-13T22:01:04.368Z"
   },
   {
    "duration": 49,
    "start_time": "2023-12-13T22:01:04.483Z"
   },
   {
    "duration": 24,
    "start_time": "2023-12-13T22:01:04.534Z"
   },
   {
    "duration": 61,
    "start_time": "2023-12-13T22:01:04.559Z"
   },
   {
    "duration": 74,
    "start_time": "2023-12-13T22:01:04.621Z"
   },
   {
    "duration": 60,
    "start_time": "2023-12-13T22:01:04.697Z"
   },
   {
    "duration": 11,
    "start_time": "2023-12-13T22:01:04.759Z"
   },
   {
    "duration": 32,
    "start_time": "2023-12-13T22:01:04.772Z"
   },
   {
    "duration": 14,
    "start_time": "2023-12-13T22:01:04.805Z"
   },
   {
    "duration": 71,
    "start_time": "2023-12-13T22:01:04.820Z"
   },
   {
    "duration": 11,
    "start_time": "2023-12-13T22:01:04.892Z"
   },
   {
    "duration": 20,
    "start_time": "2023-12-13T22:01:04.904Z"
   },
   {
    "duration": 18,
    "start_time": "2023-12-13T22:01:04.925Z"
   },
   {
    "duration": 12,
    "start_time": "2023-12-13T22:01:04.944Z"
   },
   {
    "duration": 31,
    "start_time": "2023-12-13T22:01:04.957Z"
   },
   {
    "duration": 12,
    "start_time": "2023-12-13T22:01:04.989Z"
   },
   {
    "duration": 20,
    "start_time": "2023-12-13T22:01:05.002Z"
   },
   {
    "duration": 77,
    "start_time": "2023-12-13T22:01:05.023Z"
   },
   {
    "duration": 258,
    "start_time": "2023-12-13T22:01:05.101Z"
   },
   {
    "duration": 22,
    "start_time": "2023-12-13T22:01:05.361Z"
   },
   {
    "duration": 12,
    "start_time": "2023-12-13T22:01:05.385Z"
   },
   {
    "duration": 28,
    "start_time": "2023-12-13T22:01:05.399Z"
   },
   {
    "duration": 31,
    "start_time": "2023-12-13T22:01:05.428Z"
   },
   {
    "duration": 55,
    "start_time": "2023-12-13T22:01:05.463Z"
   },
   {
    "duration": 34,
    "start_time": "2023-12-13T22:01:05.519Z"
   },
   {
    "duration": 145,
    "start_time": "2023-12-13T22:01:05.555Z"
   },
   {
    "duration": 62,
    "start_time": "2023-12-13T22:01:05.702Z"
   },
   {
    "duration": 143,
    "start_time": "2023-12-13T22:01:05.766Z"
   },
   {
    "duration": 7,
    "start_time": "2023-12-13T22:01:05.911Z"
   },
   {
    "duration": 12,
    "start_time": "2023-12-13T22:01:05.919Z"
   },
   {
    "duration": 19,
    "start_time": "2023-12-13T22:01:05.932Z"
   },
   {
    "duration": 66,
    "start_time": "2023-12-13T22:01:05.952Z"
   },
   {
    "duration": 21,
    "start_time": "2023-12-13T22:01:06.019Z"
   },
   {
    "duration": 9,
    "start_time": "2023-12-13T22:01:06.041Z"
   },
   {
    "duration": 134,
    "start_time": "2023-12-13T22:01:06.051Z"
   },
   {
    "duration": 19,
    "start_time": "2023-12-13T22:01:06.187Z"
   },
   {
    "duration": 55,
    "start_time": "2023-12-13T22:01:06.207Z"
   },
   {
    "duration": 30,
    "start_time": "2023-12-13T22:01:06.264Z"
   },
   {
    "duration": 15,
    "start_time": "2023-12-13T22:01:06.296Z"
   },
   {
    "duration": 41,
    "start_time": "2023-12-13T22:01:06.313Z"
   },
   {
    "duration": 5,
    "start_time": "2023-12-13T22:01:06.356Z"
   },
   {
    "duration": 13,
    "start_time": "2023-12-13T22:01:06.362Z"
   },
   {
    "duration": 12,
    "start_time": "2023-12-13T22:01:06.376Z"
   },
   {
    "duration": 65,
    "start_time": "2023-12-13T22:01:06.389Z"
   },
   {
    "duration": 35,
    "start_time": "2023-12-13T22:01:06.455Z"
   },
   {
    "duration": 5,
    "start_time": "2023-12-13T22:01:06.492Z"
   },
   {
    "duration": 80,
    "start_time": "2023-12-13T22:01:06.499Z"
   },
   {
    "duration": 3,
    "start_time": "2023-12-13T22:01:06.581Z"
   },
   {
    "duration": 309,
    "start_time": "2023-12-13T22:01:06.585Z"
   },
   {
    "duration": 5,
    "start_time": "2023-12-13T22:01:06.896Z"
   },
   {
    "duration": 160,
    "start_time": "2023-12-13T22:01:06.902Z"
   },
   {
    "duration": 150,
    "start_time": "2023-12-13T22:01:07.064Z"
   },
   {
    "duration": 154,
    "start_time": "2023-12-13T22:01:07.216Z"
   },
   {
    "duration": 209,
    "start_time": "2023-12-13T22:01:07.371Z"
   },
   {
    "duration": 1723,
    "start_time": "2023-12-13T22:15:04.765Z"
   },
   {
    "duration": 517,
    "start_time": "2023-12-13T22:15:06.490Z"
   },
   {
    "duration": 21,
    "start_time": "2023-12-13T22:15:07.009Z"
   },
   {
    "duration": 10,
    "start_time": "2023-12-13T22:15:07.032Z"
   },
   {
    "duration": 11,
    "start_time": "2023-12-13T22:15:07.043Z"
   },
   {
    "duration": 9,
    "start_time": "2023-12-13T22:15:07.055Z"
   },
   {
    "duration": 21,
    "start_time": "2023-12-13T22:15:07.065Z"
   },
   {
    "duration": 58,
    "start_time": "2023-12-13T22:15:07.111Z"
   },
   {
    "duration": 86,
    "start_time": "2023-12-13T22:15:07.171Z"
   },
   {
    "duration": 60,
    "start_time": "2023-12-13T22:15:07.260Z"
   },
   {
    "duration": 16,
    "start_time": "2023-12-13T22:15:07.322Z"
   },
   {
    "duration": 20,
    "start_time": "2023-12-13T22:15:07.339Z"
   },
   {
    "duration": 7,
    "start_time": "2023-12-13T22:15:07.361Z"
   },
   {
    "duration": 102,
    "start_time": "2023-12-13T22:15:07.369Z"
   },
   {
    "duration": 12,
    "start_time": "2023-12-13T22:15:07.473Z"
   },
   {
    "duration": 30,
    "start_time": "2023-12-13T22:15:07.487Z"
   },
   {
    "duration": 18,
    "start_time": "2023-12-13T22:15:07.518Z"
   },
   {
    "duration": 7,
    "start_time": "2023-12-13T22:15:07.537Z"
   },
   {
    "duration": 33,
    "start_time": "2023-12-13T22:15:07.545Z"
   },
   {
    "duration": 40,
    "start_time": "2023-12-13T22:15:07.580Z"
   },
   {
    "duration": 18,
    "start_time": "2023-12-13T22:15:07.622Z"
   },
   {
    "duration": 83,
    "start_time": "2023-12-13T22:15:07.642Z"
   },
   {
    "duration": 279,
    "start_time": "2023-12-13T22:15:07.726Z"
   },
   {
    "duration": 24,
    "start_time": "2023-12-13T22:15:08.010Z"
   },
   {
    "duration": 11,
    "start_time": "2023-12-13T22:15:08.036Z"
   },
   {
    "duration": 24,
    "start_time": "2023-12-13T22:15:08.049Z"
   },
   {
    "duration": 37,
    "start_time": "2023-12-13T22:15:08.074Z"
   },
   {
    "duration": 53,
    "start_time": "2023-12-13T22:15:08.115Z"
   },
   {
    "duration": 23,
    "start_time": "2023-12-13T22:15:08.169Z"
   },
   {
    "duration": 152,
    "start_time": "2023-12-13T22:15:08.211Z"
   },
   {
    "duration": 59,
    "start_time": "2023-12-13T22:15:08.365Z"
   },
   {
    "duration": 170,
    "start_time": "2023-12-13T22:15:08.425Z"
   },
   {
    "duration": 16,
    "start_time": "2023-12-13T22:15:08.596Z"
   },
   {
    "duration": 21,
    "start_time": "2023-12-13T22:15:08.613Z"
   },
   {
    "duration": 35,
    "start_time": "2023-12-13T22:15:08.635Z"
   },
   {
    "duration": 9,
    "start_time": "2023-12-13T22:15:08.671Z"
   },
   {
    "duration": 13,
    "start_time": "2023-12-13T22:15:08.682Z"
   },
   {
    "duration": 3,
    "start_time": "2023-12-13T22:15:08.697Z"
   },
   {
    "duration": 156,
    "start_time": "2023-12-13T22:15:08.701Z"
   },
   {
    "duration": 20,
    "start_time": "2023-12-13T22:15:08.859Z"
   },
   {
    "duration": 48,
    "start_time": "2023-12-13T22:15:08.880Z"
   },
   {
    "duration": 34,
    "start_time": "2023-12-13T22:15:08.930Z"
   },
   {
    "duration": 17,
    "start_time": "2023-12-13T22:15:08.965Z"
   },
   {
    "duration": 44,
    "start_time": "2023-12-13T22:15:08.984Z"
   },
   {
    "duration": 5,
    "start_time": "2023-12-13T22:15:09.030Z"
   },
   {
    "duration": 12,
    "start_time": "2023-12-13T22:15:09.036Z"
   },
   {
    "duration": 12,
    "start_time": "2023-12-13T22:15:09.049Z"
   },
   {
    "duration": 67,
    "start_time": "2023-12-13T22:15:09.062Z"
   },
   {
    "duration": 30,
    "start_time": "2023-12-13T22:15:09.131Z"
   },
   {
    "duration": 5,
    "start_time": "2023-12-13T22:15:09.163Z"
   },
   {
    "duration": 86,
    "start_time": "2023-12-13T22:15:09.169Z"
   },
   {
    "duration": 3,
    "start_time": "2023-12-13T22:15:09.257Z"
   },
   {
    "duration": 349,
    "start_time": "2023-12-13T22:15:09.262Z"
   },
   {
    "duration": 6,
    "start_time": "2023-12-13T22:15:09.612Z"
   },
   {
    "duration": 148,
    "start_time": "2023-12-13T22:15:09.619Z"
   },
   {
    "duration": 176,
    "start_time": "2023-12-13T22:15:09.768Z"
   },
   {
    "duration": 154,
    "start_time": "2023-12-13T22:15:09.946Z"
   },
   {
    "duration": 217,
    "start_time": "2023-12-13T22:15:10.101Z"
   },
   {
    "duration": 1259,
    "start_time": "2023-12-13T22:39:29.012Z"
   },
   {
    "duration": 482,
    "start_time": "2023-12-13T22:39:30.273Z"
   },
   {
    "duration": 21,
    "start_time": "2023-12-13T22:39:30.757Z"
   },
   {
    "duration": 14,
    "start_time": "2023-12-13T22:39:30.780Z"
   },
   {
    "duration": 25,
    "start_time": "2023-12-13T22:39:30.796Z"
   },
   {
    "duration": 36,
    "start_time": "2023-12-13T22:39:30.822Z"
   },
   {
    "duration": 51,
    "start_time": "2023-12-13T22:39:30.859Z"
   },
   {
    "duration": 96,
    "start_time": "2023-12-13T22:39:30.912Z"
   },
   {
    "duration": 83,
    "start_time": "2023-12-13T22:39:31.010Z"
   },
   {
    "duration": 57,
    "start_time": "2023-12-13T22:39:31.096Z"
   },
   {
    "duration": 29,
    "start_time": "2023-12-13T22:39:31.154Z"
   },
   {
    "duration": 49,
    "start_time": "2023-12-13T22:39:31.184Z"
   },
   {
    "duration": 63,
    "start_time": "2023-12-13T22:39:31.235Z"
   },
   {
    "duration": 108,
    "start_time": "2023-12-13T22:39:31.300Z"
   },
   {
    "duration": 13,
    "start_time": "2023-12-13T22:39:31.409Z"
   },
   {
    "duration": 52,
    "start_time": "2023-12-13T22:39:31.424Z"
   },
   {
    "duration": 40,
    "start_time": "2023-12-13T22:39:31.478Z"
   },
   {
    "duration": 41,
    "start_time": "2023-12-13T22:39:31.520Z"
   },
   {
    "duration": 75,
    "start_time": "2023-12-13T22:39:31.562Z"
   },
   {
    "duration": 17,
    "start_time": "2023-12-13T22:39:31.639Z"
   },
   {
    "duration": 27,
    "start_time": "2023-12-13T22:39:31.657Z"
   },
   {
    "duration": 94,
    "start_time": "2023-12-13T22:39:31.686Z"
   },
   {
    "duration": 279,
    "start_time": "2023-12-13T22:39:31.781Z"
   },
   {
    "duration": 31,
    "start_time": "2023-12-13T22:39:32.062Z"
   },
   {
    "duration": 13,
    "start_time": "2023-12-13T22:39:32.094Z"
   },
   {
    "duration": 25,
    "start_time": "2023-12-13T22:39:32.108Z"
   },
   {
    "duration": 16,
    "start_time": "2023-12-13T22:39:32.134Z"
   },
   {
    "duration": 73,
    "start_time": "2023-12-13T22:39:32.153Z"
   },
   {
    "duration": 27,
    "start_time": "2023-12-13T22:39:32.227Z"
   },
   {
    "duration": 155,
    "start_time": "2023-12-13T22:39:32.256Z"
   },
   {
    "duration": 53,
    "start_time": "2023-12-13T22:39:32.412Z"
   },
   {
    "duration": 180,
    "start_time": "2023-12-13T22:39:32.467Z"
   },
   {
    "duration": 6,
    "start_time": "2023-12-13T22:39:32.648Z"
   },
   {
    "duration": 6,
    "start_time": "2023-12-13T22:39:32.656Z"
   },
   {
    "duration": 18,
    "start_time": "2023-12-13T22:39:32.664Z"
   },
   {
    "duration": 15,
    "start_time": "2023-12-13T22:39:32.684Z"
   },
   {
    "duration": 10,
    "start_time": "2023-12-13T22:39:32.700Z"
   },
   {
    "duration": 11,
    "start_time": "2023-12-13T22:39:32.711Z"
   },
   {
    "duration": 130,
    "start_time": "2023-12-13T22:39:32.723Z"
   },
   {
    "duration": 27,
    "start_time": "2023-12-13T22:39:32.855Z"
   },
   {
    "duration": 36,
    "start_time": "2023-12-13T22:39:32.883Z"
   },
   {
    "duration": 31,
    "start_time": "2023-12-13T22:39:32.920Z"
   },
   {
    "duration": 35,
    "start_time": "2023-12-13T22:39:32.952Z"
   },
   {
    "duration": 30,
    "start_time": "2023-12-13T22:39:32.988Z"
   },
   {
    "duration": 8,
    "start_time": "2023-12-13T22:39:33.019Z"
   },
   {
    "duration": 7,
    "start_time": "2023-12-13T22:39:33.028Z"
   },
   {
    "duration": 9,
    "start_time": "2023-12-13T22:39:33.036Z"
   },
   {
    "duration": 78,
    "start_time": "2023-12-13T22:39:33.047Z"
   },
   {
    "duration": 34,
    "start_time": "2023-12-13T22:39:33.127Z"
   },
   {
    "duration": 21,
    "start_time": "2023-12-13T22:39:33.163Z"
   },
   {
    "duration": 67,
    "start_time": "2023-12-13T22:39:33.185Z"
   },
   {
    "duration": 3,
    "start_time": "2023-12-13T22:39:33.254Z"
   },
   {
    "duration": 342,
    "start_time": "2023-12-13T22:39:33.259Z"
   },
   {
    "duration": 5,
    "start_time": "2023-12-13T22:39:33.603Z"
   },
   {
    "duration": 191,
    "start_time": "2023-12-13T22:39:33.610Z"
   },
   {
    "duration": 182,
    "start_time": "2023-12-13T22:39:33.804Z"
   },
   {
    "duration": 165,
    "start_time": "2023-12-13T22:39:33.987Z"
   },
   {
    "duration": 209,
    "start_time": "2023-12-13T22:39:34.153Z"
   },
   {
    "duration": 1427,
    "start_time": "2023-12-14T17:27:47.179Z"
   },
   {
    "duration": 1190,
    "start_time": "2023-12-14T17:27:52.920Z"
   },
   {
    "duration": 739,
    "start_time": "2023-12-14T17:27:54.116Z"
   },
   {
    "duration": 25,
    "start_time": "2023-12-14T17:27:54.857Z"
   },
   {
    "duration": 10,
    "start_time": "2023-12-14T17:27:54.884Z"
   },
   {
    "duration": 15,
    "start_time": "2023-12-14T17:27:54.896Z"
   },
   {
    "duration": 17,
    "start_time": "2023-12-14T17:27:54.914Z"
   },
   {
    "duration": 22,
    "start_time": "2023-12-14T17:27:54.933Z"
   },
   {
    "duration": 74,
    "start_time": "2023-12-14T17:27:54.956Z"
   },
   {
    "duration": 86,
    "start_time": "2023-12-14T17:27:55.032Z"
   },
   {
    "duration": 61,
    "start_time": "2023-12-14T17:27:55.121Z"
   },
   {
    "duration": 34,
    "start_time": "2023-12-14T17:27:55.184Z"
   },
   {
    "duration": 27,
    "start_time": "2023-12-14T17:27:55.220Z"
   },
   {
    "duration": 9,
    "start_time": "2023-12-14T17:27:55.249Z"
   },
   {
    "duration": 100,
    "start_time": "2023-12-14T17:27:55.260Z"
   },
   {
    "duration": 18,
    "start_time": "2023-12-14T17:27:55.362Z"
   },
   {
    "duration": 25,
    "start_time": "2023-12-14T17:27:55.381Z"
   },
   {
    "duration": 26,
    "start_time": "2023-12-14T17:27:55.408Z"
   },
   {
    "duration": 15,
    "start_time": "2023-12-14T17:27:55.436Z"
   },
   {
    "duration": 59,
    "start_time": "2023-12-14T17:27:55.453Z"
   },
   {
    "duration": 18,
    "start_time": "2023-12-14T17:27:55.514Z"
   },
   {
    "duration": 35,
    "start_time": "2023-12-14T17:27:55.534Z"
   },
   {
    "duration": 89,
    "start_time": "2023-12-14T17:27:55.570Z"
   },
   {
    "duration": 320,
    "start_time": "2023-12-14T17:27:55.661Z"
   },
   {
    "duration": 43,
    "start_time": "2023-12-14T17:27:55.983Z"
   },
   {
    "duration": 14,
    "start_time": "2023-12-14T17:27:56.028Z"
   },
   {
    "duration": 26,
    "start_time": "2023-12-14T17:27:56.044Z"
   },
   {
    "duration": 42,
    "start_time": "2023-12-14T17:27:56.072Z"
   },
   {
    "duration": 59,
    "start_time": "2023-12-14T17:27:56.118Z"
   },
   {
    "duration": 46,
    "start_time": "2023-12-14T17:27:56.178Z"
   },
   {
    "duration": 165,
    "start_time": "2023-12-14T17:27:56.225Z"
   },
   {
    "duration": 59,
    "start_time": "2023-12-14T17:27:56.407Z"
   },
   {
    "duration": 162,
    "start_time": "2023-12-14T17:27:56.467Z"
   },
   {
    "duration": 7,
    "start_time": "2023-12-14T17:27:56.631Z"
   },
   {
    "duration": 11,
    "start_time": "2023-12-14T17:27:56.639Z"
   },
   {
    "duration": 11,
    "start_time": "2023-12-14T17:27:56.652Z"
   },
   {
    "duration": 10,
    "start_time": "2023-12-14T17:27:56.664Z"
   },
   {
    "duration": 31,
    "start_time": "2023-12-14T17:27:56.675Z"
   },
   {
    "duration": 6,
    "start_time": "2023-12-14T17:27:56.708Z"
   },
   {
    "duration": 164,
    "start_time": "2023-12-14T17:27:56.716Z"
   },
   {
    "duration": 24,
    "start_time": "2023-12-14T17:27:56.882Z"
   },
   {
    "duration": 41,
    "start_time": "2023-12-14T17:27:56.908Z"
   },
   {
    "duration": 34,
    "start_time": "2023-12-14T17:27:56.951Z"
   },
   {
    "duration": 37,
    "start_time": "2023-12-14T17:27:56.986Z"
   },
   {
    "duration": 31,
    "start_time": "2023-12-14T17:27:57.024Z"
   },
   {
    "duration": 5,
    "start_time": "2023-12-14T17:27:57.057Z"
   },
   {
    "duration": 10,
    "start_time": "2023-12-14T17:27:57.064Z"
   },
   {
    "duration": 37,
    "start_time": "2023-12-14T17:27:57.075Z"
   },
   {
    "duration": 55,
    "start_time": "2023-12-14T17:27:57.114Z"
   },
   {
    "duration": 42,
    "start_time": "2023-12-14T17:27:57.170Z"
   },
   {
    "duration": 7,
    "start_time": "2023-12-14T17:27:57.213Z"
   },
   {
    "duration": 91,
    "start_time": "2023-12-14T17:27:57.221Z"
   },
   {
    "duration": 4,
    "start_time": "2023-12-14T17:27:57.314Z"
   },
   {
    "duration": 362,
    "start_time": "2023-12-14T17:27:57.319Z"
   },
   {
    "duration": 6,
    "start_time": "2023-12-14T17:27:57.682Z"
   },
   {
    "duration": 173,
    "start_time": "2023-12-14T17:27:57.689Z"
   },
   {
    "duration": 188,
    "start_time": "2023-12-14T17:27:57.864Z"
   },
   {
    "duration": 182,
    "start_time": "2023-12-14T17:27:58.054Z"
   },
   {
    "duration": 240,
    "start_time": "2023-12-14T17:27:58.238Z"
   },
   {
    "duration": 56,
    "start_time": "2023-12-14T17:31:28.912Z"
   },
   {
    "duration": 30,
    "start_time": "2023-12-14T17:36:24.766Z"
   },
   {
    "duration": 60,
    "start_time": "2023-12-14T17:36:48.793Z"
   },
   {
    "duration": 29,
    "start_time": "2023-12-14T17:38:01.913Z"
   },
   {
    "duration": 114,
    "start_time": "2023-12-14T17:38:56.078Z"
   },
   {
    "duration": 13,
    "start_time": "2023-12-14T17:39:06.484Z"
   },
   {
    "duration": 51,
    "start_time": "2023-12-14T17:40:13.448Z"
   },
   {
    "duration": 58,
    "start_time": "2023-12-14T17:40:29.597Z"
   },
   {
    "duration": 126,
    "start_time": "2023-12-14T17:42:36.382Z"
   },
   {
    "duration": 12,
    "start_time": "2023-12-14T17:44:20.015Z"
   },
   {
    "duration": 62,
    "start_time": "2023-12-14T17:45:30.749Z"
   },
   {
    "duration": 11,
    "start_time": "2023-12-14T17:45:31.318Z"
   },
   {
    "duration": 9,
    "start_time": "2023-12-14T17:47:48.999Z"
   },
   {
    "duration": 12,
    "start_time": "2023-12-14T17:47:57.124Z"
   },
   {
    "duration": 7,
    "start_time": "2023-12-14T17:48:37.661Z"
   },
   {
    "duration": 6,
    "start_time": "2023-12-14T17:48:47.965Z"
   },
   {
    "duration": 51,
    "start_time": "2023-12-14T17:48:55.522Z"
   },
   {
    "duration": 6,
    "start_time": "2023-12-14T17:48:55.966Z"
   },
   {
    "duration": 5,
    "start_time": "2023-12-14T17:48:56.838Z"
   },
   {
    "duration": 11,
    "start_time": "2023-12-14T17:49:31.717Z"
   },
   {
    "duration": 13,
    "start_time": "2023-12-14T17:49:44.685Z"
   },
   {
    "duration": 11,
    "start_time": "2023-12-14T17:49:58.753Z"
   },
   {
    "duration": 58,
    "start_time": "2023-12-14T17:51:59.759Z"
   },
   {
    "duration": 16,
    "start_time": "2023-12-14T17:52:00.407Z"
   },
   {
    "duration": 119,
    "start_time": "2023-12-14T17:55:12.938Z"
   },
   {
    "duration": 12,
    "start_time": "2023-12-14T17:55:16.874Z"
   },
   {
    "duration": 21,
    "start_time": "2023-12-14T17:55:31.851Z"
   },
   {
    "duration": 111,
    "start_time": "2023-12-14T17:55:32.371Z"
   },
   {
    "duration": 13,
    "start_time": "2023-12-14T17:55:32.972Z"
   },
   {
    "duration": 53,
    "start_time": "2023-12-14T17:55:35.247Z"
   },
   {
    "duration": 12,
    "start_time": "2023-12-14T17:55:47.659Z"
   },
   {
    "duration": 114,
    "start_time": "2023-12-14T17:57:32.332Z"
   },
   {
    "duration": 13,
    "start_time": "2023-12-14T17:57:35.789Z"
   },
   {
    "duration": 13,
    "start_time": "2023-12-14T17:57:50.308Z"
   },
   {
    "duration": 15,
    "start_time": "2023-12-14T17:59:29.617Z"
   },
   {
    "duration": 75,
    "start_time": "2023-12-14T18:15:08.053Z"
   },
   {
    "duration": 62,
    "start_time": "2023-12-14T18:15:48.621Z"
   },
   {
    "duration": 64,
    "start_time": "2023-12-14T18:19:56.557Z"
   },
   {
    "duration": 62,
    "start_time": "2023-12-14T18:20:27.247Z"
   },
   {
    "duration": 52,
    "start_time": "2023-12-14T18:21:11.042Z"
   },
   {
    "duration": 52,
    "start_time": "2023-12-14T18:21:40.218Z"
   },
   {
    "duration": 771,
    "start_time": "2023-12-14T18:21:47.474Z"
   },
   {
    "duration": 25,
    "start_time": "2023-12-14T18:22:16.115Z"
   },
   {
    "duration": 24,
    "start_time": "2023-12-14T18:23:03.189Z"
   },
   {
    "duration": 3,
    "start_time": "2023-12-14T18:23:07.245Z"
   },
   {
    "duration": 140,
    "start_time": "2023-12-14T18:23:07.836Z"
   },
   {
    "duration": 4,
    "start_time": "2023-12-14T18:24:02.069Z"
   },
   {
    "duration": 134,
    "start_time": "2023-12-14T18:24:02.867Z"
   },
   {
    "duration": 64,
    "start_time": "2023-12-14T18:24:30.576Z"
   },
   {
    "duration": 120,
    "start_time": "2023-12-14T18:24:49.614Z"
   },
   {
    "duration": 3,
    "start_time": "2023-12-14T18:25:32.080Z"
   },
   {
    "duration": 136,
    "start_time": "2023-12-14T18:25:34.404Z"
   },
   {
    "duration": 3,
    "start_time": "2023-12-14T18:26:00.066Z"
   },
   {
    "duration": 1213,
    "start_time": "2023-12-14T18:26:41.861Z"
   },
   {
    "duration": 182,
    "start_time": "2023-12-14T18:26:43.076Z"
   },
   {
    "duration": 24,
    "start_time": "2023-12-14T18:26:43.260Z"
   },
   {
    "duration": 19,
    "start_time": "2023-12-14T18:26:43.286Z"
   },
   {
    "duration": 19,
    "start_time": "2023-12-14T18:26:43.307Z"
   },
   {
    "duration": 35,
    "start_time": "2023-12-14T18:26:43.328Z"
   },
   {
    "duration": 40,
    "start_time": "2023-12-14T18:26:43.365Z"
   },
   {
    "duration": 68,
    "start_time": "2023-12-14T18:26:43.407Z"
   },
   {
    "duration": 85,
    "start_time": "2023-12-14T18:26:43.477Z"
   },
   {
    "duration": 71,
    "start_time": "2023-12-14T18:26:43.565Z"
   },
   {
    "duration": 17,
    "start_time": "2023-12-14T18:26:43.637Z"
   },
   {
    "duration": 20,
    "start_time": "2023-12-14T18:26:43.655Z"
   },
   {
    "duration": 27,
    "start_time": "2023-12-14T18:26:43.677Z"
   },
   {
    "duration": 81,
    "start_time": "2023-12-14T18:26:43.706Z"
   },
   {
    "duration": 23,
    "start_time": "2023-12-14T18:26:43.788Z"
   },
   {
    "duration": 34,
    "start_time": "2023-12-14T18:26:43.813Z"
   },
   {
    "duration": 22,
    "start_time": "2023-12-14T18:26:43.849Z"
   },
   {
    "duration": 28,
    "start_time": "2023-12-14T18:26:43.872Z"
   },
   {
    "duration": 49,
    "start_time": "2023-12-14T18:26:43.902Z"
   },
   {
    "duration": 31,
    "start_time": "2023-12-14T18:26:43.953Z"
   },
   {
    "duration": 31,
    "start_time": "2023-12-14T18:26:43.986Z"
   },
   {
    "duration": 89,
    "start_time": "2023-12-14T18:26:44.018Z"
   },
   {
    "duration": 316,
    "start_time": "2023-12-14T18:26:44.108Z"
   },
   {
    "duration": 26,
    "start_time": "2023-12-14T18:26:44.426Z"
   },
   {
    "duration": 13,
    "start_time": "2023-12-14T18:26:44.454Z"
   },
   {
    "duration": 42,
    "start_time": "2023-12-14T18:26:44.468Z"
   },
   {
    "duration": 29,
    "start_time": "2023-12-14T18:26:44.512Z"
   },
   {
    "duration": 49,
    "start_time": "2023-12-14T18:26:44.545Z"
   },
   {
    "duration": 17,
    "start_time": "2023-12-14T18:26:44.595Z"
   },
   {
    "duration": 110,
    "start_time": "2023-12-14T18:26:44.614Z"
   },
   {
    "duration": 15,
    "start_time": "2023-12-14T18:26:44.725Z"
   },
   {
    "duration": 9,
    "start_time": "2023-12-14T18:26:44.742Z"
   },
   {
    "duration": 227,
    "start_time": "2023-12-14T18:26:44.753Z"
   },
   {
    "duration": 0,
    "start_time": "2023-12-14T18:26:44.982Z"
   },
   {
    "duration": 0,
    "start_time": "2023-12-14T18:26:44.984Z"
   },
   {
    "duration": 0,
    "start_time": "2023-12-14T18:26:44.985Z"
   },
   {
    "duration": 0,
    "start_time": "2023-12-14T18:26:44.986Z"
   },
   {
    "duration": 0,
    "start_time": "2023-12-14T18:26:44.987Z"
   },
   {
    "duration": 0,
    "start_time": "2023-12-14T18:26:45.001Z"
   },
   {
    "duration": 0,
    "start_time": "2023-12-14T18:26:45.002Z"
   },
   {
    "duration": 0,
    "start_time": "2023-12-14T18:26:45.003Z"
   },
   {
    "duration": 0,
    "start_time": "2023-12-14T18:26:45.004Z"
   },
   {
    "duration": 0,
    "start_time": "2023-12-14T18:26:45.005Z"
   },
   {
    "duration": 0,
    "start_time": "2023-12-14T18:26:45.006Z"
   },
   {
    "duration": 0,
    "start_time": "2023-12-14T18:26:45.007Z"
   },
   {
    "duration": 0,
    "start_time": "2023-12-14T18:26:45.008Z"
   },
   {
    "duration": 0,
    "start_time": "2023-12-14T18:26:45.010Z"
   },
   {
    "duration": 0,
    "start_time": "2023-12-14T18:26:45.011Z"
   },
   {
    "duration": 0,
    "start_time": "2023-12-14T18:26:45.012Z"
   },
   {
    "duration": 0,
    "start_time": "2023-12-14T18:26:45.013Z"
   },
   {
    "duration": 0,
    "start_time": "2023-12-14T18:26:45.014Z"
   },
   {
    "duration": 0,
    "start_time": "2023-12-14T18:26:45.016Z"
   },
   {
    "duration": 0,
    "start_time": "2023-12-14T18:26:45.018Z"
   },
   {
    "duration": 0,
    "start_time": "2023-12-14T18:26:45.019Z"
   },
   {
    "duration": 0,
    "start_time": "2023-12-14T18:26:45.020Z"
   },
   {
    "duration": 0,
    "start_time": "2023-12-14T18:26:45.021Z"
   },
   {
    "duration": 0,
    "start_time": "2023-12-14T18:26:45.022Z"
   },
   {
    "duration": 0,
    "start_time": "2023-12-14T18:26:45.024Z"
   },
   {
    "duration": 0,
    "start_time": "2023-12-14T18:26:45.025Z"
   },
   {
    "duration": 0,
    "start_time": "2023-12-14T18:26:45.026Z"
   },
   {
    "duration": 0,
    "start_time": "2023-12-14T18:26:45.027Z"
   },
   {
    "duration": 0,
    "start_time": "2023-12-14T18:26:45.028Z"
   },
   {
    "duration": 0,
    "start_time": "2023-12-14T18:26:45.029Z"
   },
   {
    "duration": 0,
    "start_time": "2023-12-14T18:26:45.030Z"
   },
   {
    "duration": 0,
    "start_time": "2023-12-14T18:26:45.031Z"
   },
   {
    "duration": 0,
    "start_time": "2023-12-14T18:26:45.032Z"
   },
   {
    "duration": 107,
    "start_time": "2023-12-14T18:29:16.693Z"
   },
   {
    "duration": 6,
    "start_time": "2023-12-14T18:30:34.651Z"
   },
   {
    "duration": 5,
    "start_time": "2023-12-14T18:31:14.515Z"
   },
   {
    "duration": 4,
    "start_time": "2023-12-14T18:32:46.296Z"
   },
   {
    "duration": 4,
    "start_time": "2023-12-14T18:33:04.415Z"
   },
   {
    "duration": 6,
    "start_time": "2023-12-14T18:33:51.182Z"
   },
   {
    "duration": 4,
    "start_time": "2023-12-14T18:34:21.788Z"
   },
   {
    "duration": 5,
    "start_time": "2023-12-14T18:34:51.281Z"
   },
   {
    "duration": 5,
    "start_time": "2023-12-14T18:35:29.347Z"
   },
   {
    "duration": 5,
    "start_time": "2023-12-14T18:35:51.371Z"
   },
   {
    "duration": 6,
    "start_time": "2023-12-14T18:36:20.853Z"
   },
   {
    "duration": 4,
    "start_time": "2023-12-14T18:38:11.826Z"
   },
   {
    "duration": 4,
    "start_time": "2023-12-14T18:41:33.473Z"
   },
   {
    "duration": 9,
    "start_time": "2023-12-14T18:42:58.727Z"
   },
   {
    "duration": 106,
    "start_time": "2023-12-14T18:43:02.922Z"
   },
   {
    "duration": 9,
    "start_time": "2023-12-14T18:43:03.368Z"
   },
   {
    "duration": 14,
    "start_time": "2023-12-14T18:43:04.854Z"
   },
   {
    "duration": 5,
    "start_time": "2023-12-14T18:43:49.602Z"
   },
   {
    "duration": 5,
    "start_time": "2023-12-14T18:45:13.891Z"
   },
   {
    "duration": 1180,
    "start_time": "2023-12-14T18:46:17.286Z"
   },
   {
    "duration": 183,
    "start_time": "2023-12-14T18:46:18.468Z"
   },
   {
    "duration": 23,
    "start_time": "2023-12-14T18:46:18.652Z"
   },
   {
    "duration": 10,
    "start_time": "2023-12-14T18:46:18.677Z"
   },
   {
    "duration": 9,
    "start_time": "2023-12-14T18:46:18.700Z"
   },
   {
    "duration": 10,
    "start_time": "2023-12-14T18:46:18.711Z"
   },
   {
    "duration": 39,
    "start_time": "2023-12-14T18:46:18.722Z"
   },
   {
    "duration": 71,
    "start_time": "2023-12-14T18:46:18.763Z"
   },
   {
    "duration": 82,
    "start_time": "2023-12-14T18:46:18.836Z"
   },
   {
    "duration": 61,
    "start_time": "2023-12-14T18:46:18.920Z"
   },
   {
    "duration": 25,
    "start_time": "2023-12-14T18:46:18.982Z"
   },
   {
    "duration": 32,
    "start_time": "2023-12-14T18:46:19.008Z"
   },
   {
    "duration": 7,
    "start_time": "2023-12-14T18:46:19.041Z"
   },
   {
    "duration": 95,
    "start_time": "2023-12-14T18:46:19.049Z"
   },
   {
    "duration": 14,
    "start_time": "2023-12-14T18:46:19.145Z"
   },
   {
    "duration": 16,
    "start_time": "2023-12-14T18:46:19.161Z"
   },
   {
    "duration": 36,
    "start_time": "2023-12-14T18:46:19.179Z"
   },
   {
    "duration": 20,
    "start_time": "2023-12-14T18:46:19.216Z"
   },
   {
    "duration": 40,
    "start_time": "2023-12-14T18:46:19.238Z"
   },
   {
    "duration": 22,
    "start_time": "2023-12-14T18:46:19.280Z"
   },
   {
    "duration": 36,
    "start_time": "2023-12-14T18:46:19.303Z"
   },
   {
    "duration": 93,
    "start_time": "2023-12-14T18:46:19.341Z"
   },
   {
    "duration": 290,
    "start_time": "2023-12-14T18:46:19.435Z"
   },
   {
    "duration": 26,
    "start_time": "2023-12-14T18:46:19.727Z"
   },
   {
    "duration": 37,
    "start_time": "2023-12-14T18:46:19.755Z"
   },
   {
    "duration": 42,
    "start_time": "2023-12-14T18:46:19.793Z"
   },
   {
    "duration": 27,
    "start_time": "2023-12-14T18:46:19.837Z"
   },
   {
    "duration": 36,
    "start_time": "2023-12-14T18:46:19.868Z"
   },
   {
    "duration": 17,
    "start_time": "2023-12-14T18:46:19.906Z"
   },
   {
    "duration": 125,
    "start_time": "2023-12-14T18:46:19.924Z"
   },
   {
    "duration": 6,
    "start_time": "2023-12-14T18:46:20.051Z"
   },
   {
    "duration": 45,
    "start_time": "2023-12-14T18:46:20.058Z"
   },
   {
    "duration": 34,
    "start_time": "2023-12-14T18:46:20.104Z"
   },
   {
    "duration": 68,
    "start_time": "2023-12-14T18:46:20.139Z"
   },
   {
    "duration": 55,
    "start_time": "2023-12-14T18:46:20.208Z"
   },
   {
    "duration": 39,
    "start_time": "2023-12-14T18:46:20.265Z"
   },
   {
    "duration": 173,
    "start_time": "2023-12-14T18:46:20.306Z"
   },
   {
    "duration": 65,
    "start_time": "2023-12-14T18:46:20.480Z"
   },
   {
    "duration": 166,
    "start_time": "2023-12-14T18:46:20.547Z"
   },
   {
    "duration": 7,
    "start_time": "2023-12-14T18:46:20.715Z"
   },
   {
    "duration": 22,
    "start_time": "2023-12-14T18:46:20.724Z"
   },
   {
    "duration": 18,
    "start_time": "2023-12-14T18:46:20.747Z"
   },
   {
    "duration": 33,
    "start_time": "2023-12-14T18:46:20.767Z"
   },
   {
    "duration": 25,
    "start_time": "2023-12-14T18:46:20.801Z"
   },
   {
    "duration": 39,
    "start_time": "2023-12-14T18:46:20.827Z"
   },
   {
    "duration": 163,
    "start_time": "2023-12-14T18:46:20.868Z"
   },
   {
    "duration": 20,
    "start_time": "2023-12-14T18:46:21.032Z"
   },
   {
    "duration": 76,
    "start_time": "2023-12-14T18:46:21.053Z"
   },
   {
    "duration": 39,
    "start_time": "2023-12-14T18:46:21.130Z"
   },
   {
    "duration": 17,
    "start_time": "2023-12-14T18:46:21.171Z"
   },
   {
    "duration": 40,
    "start_time": "2023-12-14T18:46:21.200Z"
   },
   {
    "duration": 7,
    "start_time": "2023-12-14T18:46:21.242Z"
   },
   {
    "duration": 16,
    "start_time": "2023-12-14T18:46:21.250Z"
   },
   {
    "duration": 13,
    "start_time": "2023-12-14T18:46:21.268Z"
   },
   {
    "duration": 68,
    "start_time": "2023-12-14T18:46:21.282Z"
   },
   {
    "duration": 34,
    "start_time": "2023-12-14T18:46:21.351Z"
   },
   {
    "duration": 19,
    "start_time": "2023-12-14T18:46:21.386Z"
   },
   {
    "duration": 82,
    "start_time": "2023-12-14T18:46:21.407Z"
   },
   {
    "duration": 10,
    "start_time": "2023-12-14T18:46:21.490Z"
   },
   {
    "duration": 356,
    "start_time": "2023-12-14T18:46:21.501Z"
   },
   {
    "duration": 6,
    "start_time": "2023-12-14T18:46:21.858Z"
   },
   {
    "duration": 344,
    "start_time": "2023-12-14T18:46:21.866Z"
   },
   {
    "duration": 319,
    "start_time": "2023-12-14T18:46:22.211Z"
   },
   {
    "duration": 375,
    "start_time": "2023-12-14T18:46:22.532Z"
   },
   {
    "duration": 422,
    "start_time": "2023-12-14T18:46:22.909Z"
   },
   {
    "duration": 11,
    "start_time": "2023-12-14T18:46:44.755Z"
   },
   {
    "duration": 7,
    "start_time": "2023-12-14T18:46:53.594Z"
   },
   {
    "duration": 19,
    "start_time": "2023-12-14T18:47:16.282Z"
   },
   {
    "duration": 109,
    "start_time": "2023-12-14T18:47:16.771Z"
   },
   {
    "duration": 7,
    "start_time": "2023-12-14T18:47:17.267Z"
   },
   {
    "duration": 5,
    "start_time": "2023-12-14T18:47:18.065Z"
   },
   {
    "duration": 4,
    "start_time": "2023-12-14T18:47:19.064Z"
   },
   {
    "duration": 1197,
    "start_time": "2023-12-14T18:48:45.588Z"
   },
   {
    "duration": 186,
    "start_time": "2023-12-14T18:48:46.788Z"
   },
   {
    "duration": 26,
    "start_time": "2023-12-14T18:48:46.976Z"
   },
   {
    "duration": 10,
    "start_time": "2023-12-14T18:48:47.004Z"
   },
   {
    "duration": 6,
    "start_time": "2023-12-14T18:48:47.016Z"
   },
   {
    "duration": 9,
    "start_time": "2023-12-14T18:48:47.024Z"
   },
   {
    "duration": 28,
    "start_time": "2023-12-14T18:48:47.035Z"
   },
   {
    "duration": 88,
    "start_time": "2023-12-14T18:48:47.065Z"
   },
   {
    "duration": 83,
    "start_time": "2023-12-14T18:48:47.154Z"
   },
   {
    "duration": 69,
    "start_time": "2023-12-14T18:48:47.240Z"
   },
   {
    "duration": 16,
    "start_time": "2023-12-14T18:48:47.310Z"
   },
   {
    "duration": 19,
    "start_time": "2023-12-14T18:48:47.328Z"
   },
   {
    "duration": 7,
    "start_time": "2023-12-14T18:48:47.349Z"
   },
   {
    "duration": 101,
    "start_time": "2023-12-14T18:48:47.357Z"
   },
   {
    "duration": 14,
    "start_time": "2023-12-14T18:48:47.460Z"
   },
   {
    "duration": 28,
    "start_time": "2023-12-14T18:48:47.476Z"
   },
   {
    "duration": 19,
    "start_time": "2023-12-14T18:48:47.506Z"
   },
   {
    "duration": 19,
    "start_time": "2023-12-14T18:48:47.527Z"
   },
   {
    "duration": 42,
    "start_time": "2023-12-14T18:48:47.548Z"
   },
   {
    "duration": 25,
    "start_time": "2023-12-14T18:48:47.608Z"
   },
   {
    "duration": 45,
    "start_time": "2023-12-14T18:48:47.635Z"
   },
   {
    "duration": 79,
    "start_time": "2023-12-14T18:48:47.682Z"
   },
   {
    "duration": 299,
    "start_time": "2023-12-14T18:48:47.763Z"
   },
   {
    "duration": 39,
    "start_time": "2023-12-14T18:48:48.064Z"
   },
   {
    "duration": 14,
    "start_time": "2023-12-14T18:48:48.104Z"
   },
   {
    "duration": 26,
    "start_time": "2023-12-14T18:48:48.120Z"
   },
   {
    "duration": 25,
    "start_time": "2023-12-14T18:48:48.148Z"
   },
   {
    "duration": 29,
    "start_time": "2023-12-14T18:48:48.177Z"
   },
   {
    "duration": 7,
    "start_time": "2023-12-14T18:48:48.207Z"
   },
   {
    "duration": 26,
    "start_time": "2023-12-14T18:48:48.216Z"
   },
   {
    "duration": 114,
    "start_time": "2023-12-14T18:48:48.243Z"
   },
   {
    "duration": 6,
    "start_time": "2023-12-14T18:48:48.358Z"
   },
   {
    "duration": 20,
    "start_time": "2023-12-14T18:48:48.365Z"
   },
   {
    "duration": 32,
    "start_time": "2023-12-14T18:48:48.387Z"
   },
   {
    "duration": 65,
    "start_time": "2023-12-14T18:48:48.420Z"
   },
   {
    "duration": 57,
    "start_time": "2023-12-14T18:48:48.486Z"
   },
   {
    "duration": 26,
    "start_time": "2023-12-14T18:48:48.544Z"
   },
   {
    "duration": 163,
    "start_time": "2023-12-14T18:48:48.572Z"
   },
   {
    "duration": 58,
    "start_time": "2023-12-14T18:48:48.736Z"
   },
   {
    "duration": 174,
    "start_time": "2023-12-14T18:48:48.800Z"
   },
   {
    "duration": 7,
    "start_time": "2023-12-14T18:48:48.976Z"
   },
   {
    "duration": 24,
    "start_time": "2023-12-14T18:48:48.985Z"
   },
   {
    "duration": 19,
    "start_time": "2023-12-14T18:48:49.011Z"
   },
   {
    "duration": 25,
    "start_time": "2023-12-14T18:48:49.031Z"
   },
   {
    "duration": 23,
    "start_time": "2023-12-14T18:48:49.058Z"
   },
   {
    "duration": 30,
    "start_time": "2023-12-14T18:48:49.082Z"
   },
   {
    "duration": 170,
    "start_time": "2023-12-14T18:48:49.113Z"
   },
   {
    "duration": 22,
    "start_time": "2023-12-14T18:48:49.285Z"
   },
   {
    "duration": 53,
    "start_time": "2023-12-14T18:48:49.308Z"
   },
   {
    "duration": 34,
    "start_time": "2023-12-14T18:48:49.363Z"
   },
   {
    "duration": 23,
    "start_time": "2023-12-14T18:48:49.399Z"
   },
   {
    "duration": 44,
    "start_time": "2023-12-14T18:48:49.423Z"
   },
   {
    "duration": 11,
    "start_time": "2023-12-14T18:48:49.469Z"
   },
   {
    "duration": 36,
    "start_time": "2023-12-14T18:48:49.482Z"
   },
   {
    "duration": 27,
    "start_time": "2023-12-14T18:48:49.520Z"
   },
   {
    "duration": 114,
    "start_time": "2023-12-14T18:48:49.549Z"
   },
   {
    "duration": 33,
    "start_time": "2023-12-14T18:48:49.664Z"
   },
   {
    "duration": 26,
    "start_time": "2023-12-14T18:48:49.699Z"
   },
   {
    "duration": 103,
    "start_time": "2023-12-14T18:48:49.727Z"
   },
   {
    "duration": 6,
    "start_time": "2023-12-14T18:48:49.832Z"
   },
   {
    "duration": 397,
    "start_time": "2023-12-14T18:48:49.839Z"
   },
   {
    "duration": 6,
    "start_time": "2023-12-14T18:48:50.237Z"
   },
   {
    "duration": 199,
    "start_time": "2023-12-14T18:48:50.245Z"
   },
   {
    "duration": 289,
    "start_time": "2023-12-14T18:48:50.446Z"
   },
   {
    "duration": 374,
    "start_time": "2023-12-14T18:48:50.736Z"
   },
   {
    "duration": 517,
    "start_time": "2023-12-14T18:48:51.112Z"
   },
   {
    "duration": 5,
    "start_time": "2023-12-14T18:54:06.059Z"
   },
   {
    "duration": 6,
    "start_time": "2023-12-14T18:54:31.007Z"
   },
   {
    "duration": 1182,
    "start_time": "2023-12-14T18:54:37.994Z"
   },
   {
    "duration": 175,
    "start_time": "2023-12-14T18:54:39.178Z"
   },
   {
    "duration": 23,
    "start_time": "2023-12-14T18:54:39.357Z"
   },
   {
    "duration": 22,
    "start_time": "2023-12-14T18:54:39.382Z"
   },
   {
    "duration": 9,
    "start_time": "2023-12-14T18:54:39.406Z"
   },
   {
    "duration": 18,
    "start_time": "2023-12-14T18:54:39.417Z"
   },
   {
    "duration": 24,
    "start_time": "2023-12-14T18:54:39.436Z"
   },
   {
    "duration": 80,
    "start_time": "2023-12-14T18:54:39.461Z"
   },
   {
    "duration": 89,
    "start_time": "2023-12-14T18:54:39.544Z"
   },
   {
    "duration": 73,
    "start_time": "2023-12-14T18:54:39.635Z"
   },
   {
    "duration": 26,
    "start_time": "2023-12-14T18:54:39.710Z"
   },
   {
    "duration": 24,
    "start_time": "2023-12-14T18:54:39.737Z"
   },
   {
    "duration": 8,
    "start_time": "2023-12-14T18:54:39.763Z"
   },
   {
    "duration": 116,
    "start_time": "2023-12-14T18:54:39.773Z"
   },
   {
    "duration": 17,
    "start_time": "2023-12-14T18:54:39.891Z"
   },
   {
    "duration": 17,
    "start_time": "2023-12-14T18:54:39.910Z"
   },
   {
    "duration": 26,
    "start_time": "2023-12-14T18:54:39.928Z"
   },
   {
    "duration": 7,
    "start_time": "2023-12-14T18:54:39.956Z"
   },
   {
    "duration": 53,
    "start_time": "2023-12-14T18:54:39.964Z"
   },
   {
    "duration": 20,
    "start_time": "2023-12-14T18:54:40.019Z"
   },
   {
    "duration": 30,
    "start_time": "2023-12-14T18:54:40.042Z"
   },
   {
    "duration": 93,
    "start_time": "2023-12-14T18:54:40.074Z"
   },
   {
    "duration": 320,
    "start_time": "2023-12-14T18:54:40.168Z"
   },
   {
    "duration": 30,
    "start_time": "2023-12-14T18:54:40.490Z"
   },
   {
    "duration": 14,
    "start_time": "2023-12-14T18:54:40.522Z"
   },
   {
    "duration": 27,
    "start_time": "2023-12-14T18:54:40.538Z"
   },
   {
    "duration": 43,
    "start_time": "2023-12-14T18:54:40.569Z"
   },
   {
    "duration": 9,
    "start_time": "2023-12-14T18:54:40.614Z"
   },
   {
    "duration": 7,
    "start_time": "2023-12-14T18:54:40.625Z"
   },
   {
    "duration": 17,
    "start_time": "2023-12-14T18:54:40.634Z"
   },
   {
    "duration": 133,
    "start_time": "2023-12-14T18:54:40.653Z"
   },
   {
    "duration": 7,
    "start_time": "2023-12-14T18:54:40.788Z"
   },
   {
    "duration": 10,
    "start_time": "2023-12-14T18:54:40.800Z"
   },
   {
    "duration": 5,
    "start_time": "2023-12-14T18:54:40.811Z"
   },
   {
    "duration": 58,
    "start_time": "2023-12-14T18:54:40.818Z"
   },
   {
    "duration": 80,
    "start_time": "2023-12-14T18:54:40.878Z"
   },
   {
    "duration": 41,
    "start_time": "2023-12-14T18:54:40.960Z"
   },
   {
    "duration": 185,
    "start_time": "2023-12-14T18:54:41.003Z"
   },
   {
    "duration": 77,
    "start_time": "2023-12-14T18:54:41.190Z"
   },
   {
    "duration": 169,
    "start_time": "2023-12-14T18:54:41.268Z"
   },
   {
    "duration": 8,
    "start_time": "2023-12-14T18:54:41.439Z"
   },
   {
    "duration": 7,
    "start_time": "2023-12-14T18:54:41.448Z"
   },
   {
    "duration": 12,
    "start_time": "2023-12-14T18:54:41.456Z"
   },
   {
    "duration": 16,
    "start_time": "2023-12-14T18:54:41.470Z"
   },
   {
    "duration": 21,
    "start_time": "2023-12-14T18:54:41.499Z"
   },
   {
    "duration": 7,
    "start_time": "2023-12-14T18:54:41.521Z"
   },
   {
    "duration": 143,
    "start_time": "2023-12-14T18:54:41.529Z"
   },
   {
    "duration": 17,
    "start_time": "2023-12-14T18:54:41.673Z"
   },
   {
    "duration": 37,
    "start_time": "2023-12-14T18:54:41.699Z"
   },
   {
    "duration": 33,
    "start_time": "2023-12-14T18:54:41.738Z"
   },
   {
    "duration": 35,
    "start_time": "2023-12-14T18:54:41.772Z"
   },
   {
    "duration": 31,
    "start_time": "2023-12-14T18:54:41.808Z"
   },
   {
    "duration": 6,
    "start_time": "2023-12-14T18:54:41.840Z"
   },
   {
    "duration": 8,
    "start_time": "2023-12-14T18:54:41.847Z"
   },
   {
    "duration": 7,
    "start_time": "2023-12-14T18:54:41.857Z"
   },
   {
    "duration": 76,
    "start_time": "2023-12-14T18:54:41.865Z"
   },
   {
    "duration": 33,
    "start_time": "2023-12-14T18:54:41.943Z"
   },
   {
    "duration": 6,
    "start_time": "2023-12-14T18:54:41.978Z"
   },
   {
    "duration": 93,
    "start_time": "2023-12-14T18:54:41.985Z"
   },
   {
    "duration": 4,
    "start_time": "2023-12-14T18:54:42.079Z"
   },
   {
    "duration": 368,
    "start_time": "2023-12-14T18:54:42.085Z"
   },
   {
    "duration": 6,
    "start_time": "2023-12-14T18:54:42.454Z"
   },
   {
    "duration": 169,
    "start_time": "2023-12-14T18:54:42.462Z"
   },
   {
    "duration": 274,
    "start_time": "2023-12-14T18:54:42.633Z"
   },
   {
    "duration": 320,
    "start_time": "2023-12-14T18:54:42.909Z"
   },
   {
    "duration": 484,
    "start_time": "2023-12-14T18:54:43.230Z"
   },
   {
    "duration": 18,
    "start_time": "2023-12-14T18:56:40.064Z"
   },
   {
    "duration": 17,
    "start_time": "2023-12-14T18:56:51.277Z"
   },
   {
    "duration": 54,
    "start_time": "2023-12-14T19:06:34.427Z"
   },
   {
    "duration": 43,
    "start_time": "2023-12-14T19:07:37.149Z"
   },
   {
    "duration": 48,
    "start_time": "2023-12-14T19:07:44.016Z"
   },
   {
    "duration": 7,
    "start_time": "2023-12-14T19:07:59.481Z"
   },
   {
    "duration": 9,
    "start_time": "2023-12-14T19:08:27.864Z"
   },
   {
    "duration": 20,
    "start_time": "2023-12-14T19:09:19.681Z"
   },
   {
    "duration": 18,
    "start_time": "2023-12-14T19:09:48.629Z"
   },
   {
    "duration": 19,
    "start_time": "2023-12-14T19:10:08.867Z"
   },
   {
    "duration": 1158,
    "start_time": "2023-12-14T19:10:14.804Z"
   },
   {
    "duration": 188,
    "start_time": "2023-12-14T19:10:15.964Z"
   },
   {
    "duration": 24,
    "start_time": "2023-12-14T19:10:16.154Z"
   },
   {
    "duration": 20,
    "start_time": "2023-12-14T19:10:16.181Z"
   },
   {
    "duration": 6,
    "start_time": "2023-12-14T19:10:16.203Z"
   },
   {
    "duration": 23,
    "start_time": "2023-12-14T19:10:16.211Z"
   },
   {
    "duration": 45,
    "start_time": "2023-12-14T19:10:16.236Z"
   },
   {
    "duration": 65,
    "start_time": "2023-12-14T19:10:16.283Z"
   },
   {
    "duration": 75,
    "start_time": "2023-12-14T19:10:16.349Z"
   },
   {
    "duration": 61,
    "start_time": "2023-12-14T19:10:16.427Z"
   },
   {
    "duration": 18,
    "start_time": "2023-12-14T19:10:16.499Z"
   },
   {
    "duration": 21,
    "start_time": "2023-12-14T19:10:16.519Z"
   },
   {
    "duration": 7,
    "start_time": "2023-12-14T19:10:16.541Z"
   },
   {
    "duration": 108,
    "start_time": "2023-12-14T19:10:16.549Z"
   },
   {
    "duration": 14,
    "start_time": "2023-12-14T19:10:16.658Z"
   },
   {
    "duration": 27,
    "start_time": "2023-12-14T19:10:16.673Z"
   },
   {
    "duration": 18,
    "start_time": "2023-12-14T19:10:16.702Z"
   },
   {
    "duration": 7,
    "start_time": "2023-12-14T19:10:16.722Z"
   },
   {
    "duration": 34,
    "start_time": "2023-12-14T19:10:16.730Z"
   },
   {
    "duration": 39,
    "start_time": "2023-12-14T19:10:16.766Z"
   },
   {
    "duration": 22,
    "start_time": "2023-12-14T19:10:16.806Z"
   },
   {
    "duration": 89,
    "start_time": "2023-12-14T19:10:16.830Z"
   },
   {
    "duration": 314,
    "start_time": "2023-12-14T19:10:16.921Z"
   },
   {
    "duration": 27,
    "start_time": "2023-12-14T19:10:17.237Z"
   },
   {
    "duration": 13,
    "start_time": "2023-12-14T19:10:17.266Z"
   },
   {
    "duration": 43,
    "start_time": "2023-12-14T19:10:17.280Z"
   },
   {
    "duration": 8,
    "start_time": "2023-12-14T19:10:17.325Z"
   },
   {
    "duration": 20,
    "start_time": "2023-12-14T19:10:17.336Z"
   },
   {
    "duration": 78,
    "start_time": "2023-12-14T19:10:17.357Z"
   },
   {
    "duration": 27,
    "start_time": "2023-12-14T19:10:17.436Z"
   },
   {
    "duration": 179,
    "start_time": "2023-12-14T19:10:17.465Z"
   },
   {
    "duration": 72,
    "start_time": "2023-12-14T19:10:17.645Z"
   },
   {
    "duration": 180,
    "start_time": "2023-12-14T19:10:17.719Z"
   },
   {
    "duration": 9,
    "start_time": "2023-12-14T19:10:17.901Z"
   },
   {
    "duration": 27,
    "start_time": "2023-12-14T19:10:17.912Z"
   },
   {
    "duration": 43,
    "start_time": "2023-12-14T19:10:17.941Z"
   },
   {
    "duration": 9,
    "start_time": "2023-12-14T19:10:17.986Z"
   },
   {
    "duration": 25,
    "start_time": "2023-12-14T19:10:17.997Z"
   },
   {
    "duration": 39,
    "start_time": "2023-12-14T19:10:18.023Z"
   },
   {
    "duration": 190,
    "start_time": "2023-12-14T19:10:18.063Z"
   },
   {
    "duration": 18,
    "start_time": "2023-12-14T19:10:18.255Z"
   },
   {
    "duration": 51,
    "start_time": "2023-12-14T19:10:18.274Z"
   },
   {
    "duration": 34,
    "start_time": "2023-12-14T19:10:18.326Z"
   },
   {
    "duration": 38,
    "start_time": "2023-12-14T19:10:18.362Z"
   },
   {
    "duration": 32,
    "start_time": "2023-12-14T19:10:18.401Z"
   },
   {
    "duration": 6,
    "start_time": "2023-12-14T19:10:18.435Z"
   },
   {
    "duration": 19,
    "start_time": "2023-12-14T19:10:18.443Z"
   },
   {
    "duration": 10,
    "start_time": "2023-12-14T19:10:18.464Z"
   },
   {
    "duration": 72,
    "start_time": "2023-12-14T19:10:18.476Z"
   },
   {
    "duration": 37,
    "start_time": "2023-12-14T19:10:18.549Z"
   },
   {
    "duration": 14,
    "start_time": "2023-12-14T19:10:18.588Z"
   },
   {
    "duration": 77,
    "start_time": "2023-12-14T19:10:18.603Z"
   },
   {
    "duration": 4,
    "start_time": "2023-12-14T19:10:18.681Z"
   },
   {
    "duration": 371,
    "start_time": "2023-12-14T19:10:18.686Z"
   },
   {
    "duration": 6,
    "start_time": "2023-12-14T19:10:19.059Z"
   },
   {
    "duration": 162,
    "start_time": "2023-12-14T19:10:19.067Z"
   },
   {
    "duration": 195,
    "start_time": "2023-12-14T19:10:19.230Z"
   },
   {
    "duration": 374,
    "start_time": "2023-12-14T19:10:19.426Z"
   },
   {
    "duration": 441,
    "start_time": "2023-12-14T19:10:19.802Z"
   },
   {
    "duration": 30,
    "start_time": "2023-12-14T19:10:45.443Z"
   },
   {
    "duration": 1253,
    "start_time": "2023-12-14T19:11:04.862Z"
   },
   {
    "duration": 188,
    "start_time": "2023-12-14T19:11:06.116Z"
   },
   {
    "duration": 24,
    "start_time": "2023-12-14T19:11:06.305Z"
   },
   {
    "duration": 11,
    "start_time": "2023-12-14T19:11:06.331Z"
   },
   {
    "duration": 49,
    "start_time": "2023-12-14T19:11:06.344Z"
   },
   {
    "duration": 45,
    "start_time": "2023-12-14T19:11:06.395Z"
   },
   {
    "duration": 53,
    "start_time": "2023-12-14T19:11:06.441Z"
   },
   {
    "duration": 93,
    "start_time": "2023-12-14T19:11:06.496Z"
   },
   {
    "duration": 91,
    "start_time": "2023-12-14T19:11:06.591Z"
   },
   {
    "duration": 208,
    "start_time": "2023-12-14T19:11:06.684Z"
   },
   {
    "duration": 18,
    "start_time": "2023-12-14T19:11:06.894Z"
   },
   {
    "duration": 37,
    "start_time": "2023-12-14T19:11:06.913Z"
   },
   {
    "duration": 7,
    "start_time": "2023-12-14T19:11:06.952Z"
   },
   {
    "duration": 87,
    "start_time": "2023-12-14T19:11:06.960Z"
   },
   {
    "duration": 15,
    "start_time": "2023-12-14T19:11:07.048Z"
   },
   {
    "duration": 14,
    "start_time": "2023-12-14T19:11:07.065Z"
   },
   {
    "duration": 45,
    "start_time": "2023-12-14T19:11:07.080Z"
   },
   {
    "duration": 8,
    "start_time": "2023-12-14T19:11:07.126Z"
   },
   {
    "duration": 36,
    "start_time": "2023-12-14T19:11:07.135Z"
   },
   {
    "duration": 31,
    "start_time": "2023-12-14T19:11:07.172Z"
   },
   {
    "duration": 29,
    "start_time": "2023-12-14T19:11:07.205Z"
   },
   {
    "duration": 83,
    "start_time": "2023-12-14T19:11:07.236Z"
   },
   {
    "duration": 328,
    "start_time": "2023-12-14T19:11:07.321Z"
   },
   {
    "duration": 27,
    "start_time": "2023-12-14T19:11:07.651Z"
   },
   {
    "duration": 26,
    "start_time": "2023-12-14T19:11:07.680Z"
   },
   {
    "duration": 47,
    "start_time": "2023-12-14T19:11:07.708Z"
   },
   {
    "duration": 8,
    "start_time": "2023-12-14T19:11:07.756Z"
   },
   {
    "duration": 45,
    "start_time": "2023-12-14T19:11:07.768Z"
   },
   {
    "duration": 62,
    "start_time": "2023-12-14T19:11:07.815Z"
   },
   {
    "duration": 37,
    "start_time": "2023-12-14T19:11:07.879Z"
   },
   {
    "duration": 198,
    "start_time": "2023-12-14T19:11:07.917Z"
   },
   {
    "duration": 62,
    "start_time": "2023-12-14T19:11:08.117Z"
   },
   {
    "duration": 186,
    "start_time": "2023-12-14T19:11:08.181Z"
   },
   {
    "duration": 7,
    "start_time": "2023-12-14T19:11:08.369Z"
   },
   {
    "duration": 12,
    "start_time": "2023-12-14T19:11:08.378Z"
   },
   {
    "duration": 9,
    "start_time": "2023-12-14T19:11:08.399Z"
   },
   {
    "duration": 69,
    "start_time": "2023-12-14T19:11:08.410Z"
   },
   {
    "duration": 65,
    "start_time": "2023-12-14T19:11:08.480Z"
   },
   {
    "duration": 20,
    "start_time": "2023-12-14T19:11:08.547Z"
   },
   {
    "duration": 174,
    "start_time": "2023-12-14T19:11:08.568Z"
   },
   {
    "duration": 21,
    "start_time": "2023-12-14T19:11:08.744Z"
   },
   {
    "duration": 51,
    "start_time": "2023-12-14T19:11:08.766Z"
   },
   {
    "duration": 36,
    "start_time": "2023-12-14T19:11:08.818Z"
   },
   {
    "duration": 21,
    "start_time": "2023-12-14T19:11:08.856Z"
   },
   {
    "duration": 90,
    "start_time": "2023-12-14T19:11:08.879Z"
   },
   {
    "duration": 6,
    "start_time": "2023-12-14T19:11:08.970Z"
   },
   {
    "duration": 30,
    "start_time": "2023-12-14T19:11:08.978Z"
   },
   {
    "duration": 26,
    "start_time": "2023-12-14T19:11:09.010Z"
   },
   {
    "duration": 78,
    "start_time": "2023-12-14T19:11:09.038Z"
   },
   {
    "duration": 39,
    "start_time": "2023-12-14T19:11:09.118Z"
   },
   {
    "duration": 6,
    "start_time": "2023-12-14T19:11:09.159Z"
   },
   {
    "duration": 93,
    "start_time": "2023-12-14T19:11:09.167Z"
   },
   {
    "duration": 4,
    "start_time": "2023-12-14T19:11:09.261Z"
   },
   {
    "duration": 384,
    "start_time": "2023-12-14T19:11:09.267Z"
   },
   {
    "duration": 7,
    "start_time": "2023-12-14T19:11:09.652Z"
   },
   {
    "duration": 285,
    "start_time": "2023-12-14T19:11:09.661Z"
   },
   {
    "duration": 329,
    "start_time": "2023-12-14T19:11:10.000Z"
   },
   {
    "duration": 369,
    "start_time": "2023-12-14T19:11:10.331Z"
   },
   {
    "duration": 438,
    "start_time": "2023-12-14T19:11:10.702Z"
   },
   {
    "duration": 50,
    "start_time": "2023-12-14T19:14:21.582Z"
   },
   {
    "duration": 28,
    "start_time": "2023-12-14T19:14:51.476Z"
   },
   {
    "duration": 8,
    "start_time": "2023-12-14T19:14:58.808Z"
   },
   {
    "duration": 1222,
    "start_time": "2023-12-14T19:15:13.003Z"
   },
   {
    "duration": 184,
    "start_time": "2023-12-14T19:15:14.227Z"
   },
   {
    "duration": 22,
    "start_time": "2023-12-14T19:15:14.413Z"
   },
   {
    "duration": 22,
    "start_time": "2023-12-14T19:15:14.438Z"
   },
   {
    "duration": 7,
    "start_time": "2023-12-14T19:15:14.462Z"
   },
   {
    "duration": 10,
    "start_time": "2023-12-14T19:15:14.470Z"
   },
   {
    "duration": 34,
    "start_time": "2023-12-14T19:15:14.482Z"
   },
   {
    "duration": 70,
    "start_time": "2023-12-14T19:15:14.517Z"
   },
   {
    "duration": 78,
    "start_time": "2023-12-14T19:15:14.599Z"
   },
   {
    "duration": 70,
    "start_time": "2023-12-14T19:15:14.680Z"
   },
   {
    "duration": 17,
    "start_time": "2023-12-14T19:15:14.751Z"
   },
   {
    "duration": 37,
    "start_time": "2023-12-14T19:15:14.769Z"
   },
   {
    "duration": 18,
    "start_time": "2023-12-14T19:15:14.807Z"
   },
   {
    "duration": 102,
    "start_time": "2023-12-14T19:15:14.827Z"
   },
   {
    "duration": 14,
    "start_time": "2023-12-14T19:15:14.931Z"
   },
   {
    "duration": 21,
    "start_time": "2023-12-14T19:15:14.947Z"
   },
   {
    "duration": 32,
    "start_time": "2023-12-14T19:15:14.969Z"
   },
   {
    "duration": 48,
    "start_time": "2023-12-14T19:15:15.003Z"
   },
   {
    "duration": 84,
    "start_time": "2023-12-14T19:15:15.053Z"
   },
   {
    "duration": 19,
    "start_time": "2023-12-14T19:15:15.138Z"
   },
   {
    "duration": 45,
    "start_time": "2023-12-14T19:15:15.159Z"
   },
   {
    "duration": 115,
    "start_time": "2023-12-14T19:15:15.206Z"
   },
   {
    "duration": 314,
    "start_time": "2023-12-14T19:15:15.323Z"
   },
   {
    "duration": 26,
    "start_time": "2023-12-14T19:15:15.638Z"
   },
   {
    "duration": 12,
    "start_time": "2023-12-14T19:15:15.666Z"
   },
   {
    "duration": 44,
    "start_time": "2023-12-14T19:15:15.679Z"
   },
   {
    "duration": 7,
    "start_time": "2023-12-14T19:15:15.725Z"
   },
   {
    "duration": 24,
    "start_time": "2023-12-14T19:15:15.736Z"
   },
   {
    "duration": 84,
    "start_time": "2023-12-14T19:15:15.761Z"
   },
   {
    "duration": 28,
    "start_time": "2023-12-14T19:15:15.847Z"
   },
   {
    "duration": 182,
    "start_time": "2023-12-14T19:15:15.877Z"
   },
   {
    "duration": 67,
    "start_time": "2023-12-14T19:15:16.061Z"
   },
   {
    "duration": 175,
    "start_time": "2023-12-14T19:15:16.129Z"
   },
   {
    "duration": 8,
    "start_time": "2023-12-14T19:15:16.306Z"
   },
   {
    "duration": 8,
    "start_time": "2023-12-14T19:15:16.315Z"
   },
   {
    "duration": 18,
    "start_time": "2023-12-14T19:15:16.325Z"
   },
   {
    "duration": 10,
    "start_time": "2023-12-14T19:15:16.344Z"
   },
   {
    "duration": 22,
    "start_time": "2023-12-14T19:15:16.355Z"
   },
   {
    "duration": 13,
    "start_time": "2023-12-14T19:15:16.379Z"
   },
   {
    "duration": 153,
    "start_time": "2023-12-14T19:15:16.393Z"
   },
   {
    "duration": 17,
    "start_time": "2023-12-14T19:15:16.548Z"
   },
   {
    "duration": 54,
    "start_time": "2023-12-14T19:15:16.567Z"
   },
   {
    "duration": 34,
    "start_time": "2023-12-14T19:15:16.623Z"
   },
   {
    "duration": 21,
    "start_time": "2023-12-14T19:15:16.659Z"
   },
   {
    "duration": 52,
    "start_time": "2023-12-14T19:15:16.681Z"
   },
   {
    "duration": 7,
    "start_time": "2023-12-14T19:15:16.734Z"
   },
   {
    "duration": 14,
    "start_time": "2023-12-14T19:15:16.742Z"
   },
   {
    "duration": 7,
    "start_time": "2023-12-14T19:15:16.758Z"
   },
   {
    "duration": 80,
    "start_time": "2023-12-14T19:15:16.767Z"
   },
   {
    "duration": 38,
    "start_time": "2023-12-14T19:15:16.849Z"
   },
   {
    "duration": 15,
    "start_time": "2023-12-14T19:15:16.889Z"
   },
   {
    "duration": 94,
    "start_time": "2023-12-14T19:15:16.906Z"
   },
   {
    "duration": 4,
    "start_time": "2023-12-14T19:15:17.002Z"
   },
   {
    "duration": 426,
    "start_time": "2023-12-14T19:15:17.008Z"
   },
   {
    "duration": 6,
    "start_time": "2023-12-14T19:15:17.435Z"
   },
   {
    "duration": 175,
    "start_time": "2023-12-14T19:15:17.443Z"
   },
   {
    "duration": 181,
    "start_time": "2023-12-14T19:15:17.619Z"
   },
   {
    "duration": 176,
    "start_time": "2023-12-14T19:15:17.801Z"
   },
   {
    "duration": 245,
    "start_time": "2023-12-14T19:15:17.978Z"
   },
   {
    "duration": 809,
    "start_time": "2023-12-14T19:37:55.987Z"
   },
   {
    "duration": 12,
    "start_time": "2023-12-14T19:38:06.071Z"
   },
   {
    "duration": 12,
    "start_time": "2023-12-14T19:39:20.767Z"
   },
   {
    "duration": 9,
    "start_time": "2023-12-14T19:39:24.835Z"
   },
   {
    "duration": 8,
    "start_time": "2023-12-14T19:39:34.376Z"
   },
   {
    "duration": 7,
    "start_time": "2023-12-14T19:39:51.488Z"
   },
   {
    "duration": 8,
    "start_time": "2023-12-14T19:39:56.716Z"
   },
   {
    "duration": 10,
    "start_time": "2023-12-14T19:41:30.077Z"
   },
   {
    "duration": 29,
    "start_time": "2023-12-14T19:41:53.890Z"
   },
   {
    "duration": 11,
    "start_time": "2023-12-14T19:42:58.418Z"
   },
   {
    "duration": 10,
    "start_time": "2023-12-14T19:43:19.911Z"
   },
   {
    "duration": 9,
    "start_time": "2023-12-14T19:44:50.509Z"
   },
   {
    "duration": 8,
    "start_time": "2023-12-14T19:45:12.888Z"
   },
   {
    "duration": 1210,
    "start_time": "2023-12-14T19:45:18.163Z"
   },
   {
    "duration": 182,
    "start_time": "2023-12-14T19:45:19.375Z"
   },
   {
    "duration": 22,
    "start_time": "2023-12-14T19:45:19.559Z"
   },
   {
    "duration": 19,
    "start_time": "2023-12-14T19:45:19.583Z"
   },
   {
    "duration": 12,
    "start_time": "2023-12-14T19:45:19.603Z"
   },
   {
    "duration": 10,
    "start_time": "2023-12-14T19:45:19.616Z"
   },
   {
    "duration": 22,
    "start_time": "2023-12-14T19:45:19.628Z"
   },
   {
    "duration": 88,
    "start_time": "2023-12-14T19:45:19.651Z"
   },
   {
    "duration": 92,
    "start_time": "2023-12-14T19:45:19.741Z"
   },
   {
    "duration": 74,
    "start_time": "2023-12-14T19:45:19.836Z"
   },
   {
    "duration": 17,
    "start_time": "2023-12-14T19:45:19.911Z"
   },
   {
    "duration": 21,
    "start_time": "2023-12-14T19:45:19.930Z"
   },
   {
    "duration": 8,
    "start_time": "2023-12-14T19:45:19.953Z"
   },
   {
    "duration": 119,
    "start_time": "2023-12-14T19:45:19.962Z"
   },
   {
    "duration": 18,
    "start_time": "2023-12-14T19:45:20.083Z"
   },
   {
    "duration": 25,
    "start_time": "2023-12-14T19:45:20.102Z"
   },
   {
    "duration": 33,
    "start_time": "2023-12-14T19:45:20.129Z"
   },
   {
    "duration": 7,
    "start_time": "2023-12-14T19:45:20.164Z"
   },
   {
    "duration": 46,
    "start_time": "2023-12-14T19:45:20.173Z"
   },
   {
    "duration": 19,
    "start_time": "2023-12-14T19:45:20.220Z"
   },
   {
    "duration": 21,
    "start_time": "2023-12-14T19:45:20.240Z"
   },
   {
    "duration": 90,
    "start_time": "2023-12-14T19:45:20.262Z"
   },
   {
    "duration": 321,
    "start_time": "2023-12-14T19:45:20.353Z"
   },
   {
    "duration": 30,
    "start_time": "2023-12-14T19:45:20.676Z"
   },
   {
    "duration": 14,
    "start_time": "2023-12-14T19:45:20.708Z"
   },
   {
    "duration": 28,
    "start_time": "2023-12-14T19:45:20.723Z"
   },
   {
    "duration": 8,
    "start_time": "2023-12-14T19:45:20.753Z"
   },
   {
    "duration": 50,
    "start_time": "2023-12-14T19:45:20.765Z"
   },
   {
    "duration": 60,
    "start_time": "2023-12-14T19:45:20.817Z"
   },
   {
    "duration": 40,
    "start_time": "2023-12-14T19:45:20.879Z"
   },
   {
    "duration": 168,
    "start_time": "2023-12-14T19:45:20.922Z"
   },
   {
    "duration": 66,
    "start_time": "2023-12-14T19:45:21.091Z"
   },
   {
    "duration": 208,
    "start_time": "2023-12-14T19:45:21.158Z"
   },
   {
    "duration": 8,
    "start_time": "2023-12-14T19:45:21.368Z"
   },
   {
    "duration": 21,
    "start_time": "2023-12-14T19:45:21.377Z"
   },
   {
    "duration": 10,
    "start_time": "2023-12-14T19:45:21.400Z"
   },
   {
    "duration": 6,
    "start_time": "2023-12-14T19:45:21.411Z"
   },
   {
    "duration": 15,
    "start_time": "2023-12-14T19:45:21.419Z"
   },
   {
    "duration": 21,
    "start_time": "2023-12-14T19:45:21.435Z"
   },
   {
    "duration": 172,
    "start_time": "2023-12-14T19:45:21.457Z"
   },
   {
    "duration": 16,
    "start_time": "2023-12-14T19:45:21.631Z"
   },
   {
    "duration": 51,
    "start_time": "2023-12-14T19:45:21.649Z"
   },
   {
    "duration": 11,
    "start_time": "2023-12-14T19:45:21.701Z"
   },
   {
    "duration": 8,
    "start_time": "2023-12-14T19:45:21.714Z"
   },
   {
    "duration": 16,
    "start_time": "2023-12-14T19:45:21.723Z"
   },
   {
    "duration": 36,
    "start_time": "2023-12-14T19:45:21.741Z"
   },
   {
    "duration": 39,
    "start_time": "2023-12-14T19:45:21.779Z"
   },
   {
    "duration": 32,
    "start_time": "2023-12-14T19:45:21.820Z"
   },
   {
    "duration": 6,
    "start_time": "2023-12-14T19:45:21.854Z"
   },
   {
    "duration": 15,
    "start_time": "2023-12-14T19:45:21.862Z"
   },
   {
    "duration": 25,
    "start_time": "2023-12-14T19:45:21.879Z"
   },
   {
    "duration": 64,
    "start_time": "2023-12-14T19:45:21.906Z"
   },
   {
    "duration": 59,
    "start_time": "2023-12-14T19:45:21.972Z"
   },
   {
    "duration": 6,
    "start_time": "2023-12-14T19:45:22.033Z"
   },
   {
    "duration": 87,
    "start_time": "2023-12-14T19:45:22.041Z"
   },
   {
    "duration": 4,
    "start_time": "2023-12-14T19:45:22.129Z"
   },
   {
    "duration": 381,
    "start_time": "2023-12-14T19:45:22.135Z"
   },
   {
    "duration": 5,
    "start_time": "2023-12-14T19:45:22.518Z"
   },
   {
    "duration": 186,
    "start_time": "2023-12-14T19:45:22.525Z"
   },
   {
    "duration": 179,
    "start_time": "2023-12-14T19:45:22.712Z"
   },
   {
    "duration": 175,
    "start_time": "2023-12-14T19:45:22.899Z"
   },
   {
    "duration": 241,
    "start_time": "2023-12-14T19:45:23.075Z"
   },
   {
    "duration": 1246,
    "start_time": "2023-12-14T19:57:40.724Z"
   },
   {
    "duration": 183,
    "start_time": "2023-12-14T19:57:41.972Z"
   },
   {
    "duration": 22,
    "start_time": "2023-12-14T19:57:42.157Z"
   },
   {
    "duration": 20,
    "start_time": "2023-12-14T19:57:42.181Z"
   },
   {
    "duration": 8,
    "start_time": "2023-12-14T19:57:42.202Z"
   },
   {
    "duration": 22,
    "start_time": "2023-12-14T19:57:42.212Z"
   },
   {
    "duration": 25,
    "start_time": "2023-12-14T19:57:42.235Z"
   },
   {
    "duration": 75,
    "start_time": "2023-12-14T19:57:42.261Z"
   },
   {
    "duration": 80,
    "start_time": "2023-12-14T19:57:42.337Z"
   },
   {
    "duration": 65,
    "start_time": "2023-12-14T19:57:42.419Z"
   },
   {
    "duration": 25,
    "start_time": "2023-12-14T19:57:42.486Z"
   },
   {
    "duration": 27,
    "start_time": "2023-12-14T19:57:42.512Z"
   },
   {
    "duration": 9,
    "start_time": "2023-12-14T19:57:42.541Z"
   },
   {
    "duration": 97,
    "start_time": "2023-12-14T19:57:42.551Z"
   },
   {
    "duration": 14,
    "start_time": "2023-12-14T19:57:42.650Z"
   },
   {
    "duration": 16,
    "start_time": "2023-12-14T19:57:42.666Z"
   },
   {
    "duration": 32,
    "start_time": "2023-12-14T19:57:42.683Z"
   },
   {
    "duration": 7,
    "start_time": "2023-12-14T19:57:42.717Z"
   },
   {
    "duration": 37,
    "start_time": "2023-12-14T19:57:42.725Z"
   },
   {
    "duration": 38,
    "start_time": "2023-12-14T19:57:42.764Z"
   },
   {
    "duration": 24,
    "start_time": "2023-12-14T19:57:42.803Z"
   },
   {
    "duration": 89,
    "start_time": "2023-12-14T19:57:42.828Z"
   },
   {
    "duration": 317,
    "start_time": "2023-12-14T19:57:42.919Z"
   },
   {
    "duration": 27,
    "start_time": "2023-12-14T19:57:43.237Z"
   },
   {
    "duration": 13,
    "start_time": "2023-12-14T19:57:43.266Z"
   },
   {
    "duration": 40,
    "start_time": "2023-12-14T19:57:43.280Z"
   },
   {
    "duration": 9,
    "start_time": "2023-12-14T19:57:43.321Z"
   },
   {
    "duration": 25,
    "start_time": "2023-12-14T19:57:43.333Z"
   },
   {
    "duration": 88,
    "start_time": "2023-12-14T19:57:43.360Z"
   },
   {
    "duration": 28,
    "start_time": "2023-12-14T19:57:43.449Z"
   },
   {
    "duration": 184,
    "start_time": "2023-12-14T19:57:43.478Z"
   },
   {
    "duration": 66,
    "start_time": "2023-12-14T19:57:43.663Z"
   },
   {
    "duration": 166,
    "start_time": "2023-12-14T19:57:43.731Z"
   },
   {
    "duration": 7,
    "start_time": "2023-12-14T19:57:43.899Z"
   },
   {
    "duration": 7,
    "start_time": "2023-12-14T19:57:43.908Z"
   },
   {
    "duration": 10,
    "start_time": "2023-12-14T19:57:43.916Z"
   },
   {
    "duration": 9,
    "start_time": "2023-12-14T19:57:43.928Z"
   },
   {
    "duration": 14,
    "start_time": "2023-12-14T19:57:43.938Z"
   },
   {
    "duration": 5,
    "start_time": "2023-12-14T19:57:43.954Z"
   },
   {
    "duration": 172,
    "start_time": "2023-12-14T19:57:43.961Z"
   },
   {
    "duration": 20,
    "start_time": "2023-12-14T19:57:44.134Z"
   },
   {
    "duration": 55,
    "start_time": "2023-12-14T19:57:44.156Z"
   },
   {
    "duration": 10,
    "start_time": "2023-12-14T19:57:44.212Z"
   },
   {
    "duration": 7,
    "start_time": "2023-12-14T19:57:44.223Z"
   },
   {
    "duration": 8,
    "start_time": "2023-12-14T19:57:44.232Z"
   },
   {
    "duration": 34,
    "start_time": "2023-12-14T19:57:44.241Z"
   },
   {
    "duration": 40,
    "start_time": "2023-12-14T19:57:44.277Z"
   },
   {
    "duration": 32,
    "start_time": "2023-12-14T19:57:44.319Z"
   },
   {
    "duration": 6,
    "start_time": "2023-12-14T19:57:44.352Z"
   },
   {
    "duration": 8,
    "start_time": "2023-12-14T19:57:44.359Z"
   },
   {
    "duration": 33,
    "start_time": "2023-12-14T19:57:44.368Z"
   },
   {
    "duration": 72,
    "start_time": "2023-12-14T19:57:44.403Z"
   },
   {
    "duration": 40,
    "start_time": "2023-12-14T19:57:44.477Z"
   },
   {
    "duration": 6,
    "start_time": "2023-12-14T19:57:44.518Z"
   },
   {
    "duration": 84,
    "start_time": "2023-12-14T19:57:44.526Z"
   },
   {
    "duration": 4,
    "start_time": "2023-12-14T19:57:44.612Z"
   },
   {
    "duration": 357,
    "start_time": "2023-12-14T19:57:44.617Z"
   },
   {
    "duration": 5,
    "start_time": "2023-12-14T19:57:44.976Z"
   },
   {
    "duration": 170,
    "start_time": "2023-12-14T19:57:44.983Z"
   },
   {
    "duration": 188,
    "start_time": "2023-12-14T19:57:45.154Z"
   },
   {
    "duration": 265,
    "start_time": "2023-12-14T19:57:45.343Z"
   },
   {
    "duration": 499,
    "start_time": "2023-12-14T19:57:45.609Z"
   },
   {
    "duration": 8,
    "start_time": "2023-12-14T19:58:30.664Z"
   },
   {
    "duration": 47,
    "start_time": "2023-12-14T20:01:53.677Z"
   },
   {
    "duration": 6,
    "start_time": "2023-12-14T20:05:28.175Z"
   },
   {
    "duration": 162,
    "start_time": "2023-12-14T20:05:28.614Z"
   },
   {
    "duration": 167,
    "start_time": "2023-12-14T20:05:47.660Z"
   },
   {
    "duration": 180,
    "start_time": "2023-12-14T20:05:58.757Z"
   },
   {
    "duration": 225,
    "start_time": "2023-12-14T20:06:14.452Z"
   },
   {
    "duration": 1221,
    "start_time": "2023-12-14T20:12:13.377Z"
   },
   {
    "duration": 189,
    "start_time": "2023-12-14T20:12:14.600Z"
   },
   {
    "duration": 23,
    "start_time": "2023-12-14T20:12:14.791Z"
   },
   {
    "duration": 11,
    "start_time": "2023-12-14T20:12:14.816Z"
   },
   {
    "duration": 6,
    "start_time": "2023-12-14T20:12:14.829Z"
   },
   {
    "duration": 10,
    "start_time": "2023-12-14T20:12:14.837Z"
   },
   {
    "duration": 23,
    "start_time": "2023-12-14T20:12:14.848Z"
   },
   {
    "duration": 91,
    "start_time": "2023-12-14T20:12:14.873Z"
   },
   {
    "duration": 96,
    "start_time": "2023-12-14T20:12:14.966Z"
   },
   {
    "duration": 76,
    "start_time": "2023-12-14T20:12:15.065Z"
   },
   {
    "duration": 19,
    "start_time": "2023-12-14T20:12:15.143Z"
   },
   {
    "duration": 48,
    "start_time": "2023-12-14T20:12:15.164Z"
   },
   {
    "duration": 8,
    "start_time": "2023-12-14T20:12:15.214Z"
   },
   {
    "duration": 97,
    "start_time": "2023-12-14T20:12:15.224Z"
   },
   {
    "duration": 14,
    "start_time": "2023-12-14T20:12:15.323Z"
   },
   {
    "duration": 40,
    "start_time": "2023-12-14T20:12:15.338Z"
   },
   {
    "duration": 50,
    "start_time": "2023-12-14T20:12:15.380Z"
   },
   {
    "duration": 7,
    "start_time": "2023-12-14T20:12:15.432Z"
   },
   {
    "duration": 50,
    "start_time": "2023-12-14T20:12:15.440Z"
   },
   {
    "duration": 21,
    "start_time": "2023-12-14T20:12:15.492Z"
   },
   {
    "duration": 37,
    "start_time": "2023-12-14T20:12:15.515Z"
   },
   {
    "duration": 82,
    "start_time": "2023-12-14T20:12:15.555Z"
   },
   {
    "duration": 347,
    "start_time": "2023-12-14T20:12:15.638Z"
   },
   {
    "duration": 34,
    "start_time": "2023-12-14T20:12:15.987Z"
   },
   {
    "duration": 14,
    "start_time": "2023-12-14T20:12:16.023Z"
   },
   {
    "duration": 40,
    "start_time": "2023-12-14T20:12:16.039Z"
   },
   {
    "duration": 21,
    "start_time": "2023-12-14T20:12:16.081Z"
   },
   {
    "duration": 29,
    "start_time": "2023-12-14T20:12:16.105Z"
   },
   {
    "duration": 69,
    "start_time": "2023-12-14T20:12:16.135Z"
   },
   {
    "duration": 26,
    "start_time": "2023-12-14T20:12:16.205Z"
   },
   {
    "duration": 176,
    "start_time": "2023-12-14T20:12:16.233Z"
   },
   {
    "duration": 58,
    "start_time": "2023-12-14T20:12:16.411Z"
   },
   {
    "duration": 181,
    "start_time": "2023-12-14T20:12:16.471Z"
   },
   {
    "duration": 8,
    "start_time": "2023-12-14T20:12:16.654Z"
   },
   {
    "duration": 17,
    "start_time": "2023-12-14T20:12:16.663Z"
   },
   {
    "duration": 20,
    "start_time": "2023-12-14T20:12:16.682Z"
   },
   {
    "duration": 10,
    "start_time": "2023-12-14T20:12:16.704Z"
   },
   {
    "duration": 13,
    "start_time": "2023-12-14T20:12:16.716Z"
   },
   {
    "duration": 21,
    "start_time": "2023-12-14T20:12:16.731Z"
   },
   {
    "duration": 156,
    "start_time": "2023-12-14T20:12:16.753Z"
   },
   {
    "duration": 19,
    "start_time": "2023-12-14T20:12:16.911Z"
   },
   {
    "duration": 41,
    "start_time": "2023-12-14T20:12:16.932Z"
   },
   {
    "duration": 33,
    "start_time": "2023-12-14T20:12:16.975Z"
   },
   {
    "duration": 8,
    "start_time": "2023-12-14T20:12:17.010Z"
   },
   {
    "duration": 10,
    "start_time": "2023-12-14T20:12:17.019Z"
   },
   {
    "duration": 49,
    "start_time": "2023-12-14T20:12:17.031Z"
   },
   {
    "duration": 37,
    "start_time": "2023-12-14T20:12:17.082Z"
   },
   {
    "duration": 35,
    "start_time": "2023-12-14T20:12:17.121Z"
   },
   {
    "duration": 7,
    "start_time": "2023-12-14T20:12:17.158Z"
   },
   {
    "duration": 34,
    "start_time": "2023-12-14T20:12:17.167Z"
   },
   {
    "duration": 12,
    "start_time": "2023-12-14T20:12:17.203Z"
   },
   {
    "duration": 78,
    "start_time": "2023-12-14T20:12:17.216Z"
   },
   {
    "duration": 43,
    "start_time": "2023-12-14T20:12:17.295Z"
   },
   {
    "duration": 6,
    "start_time": "2023-12-14T20:12:17.339Z"
   },
   {
    "duration": 119,
    "start_time": "2023-12-14T20:12:17.347Z"
   },
   {
    "duration": 3,
    "start_time": "2023-12-14T20:12:17.468Z"
   },
   {
    "duration": 379,
    "start_time": "2023-12-14T20:12:17.473Z"
   },
   {
    "duration": 5,
    "start_time": "2023-12-14T20:12:17.854Z"
   },
   {
    "duration": 174,
    "start_time": "2023-12-14T20:12:17.861Z"
   },
   {
    "duration": 174,
    "start_time": "2023-12-14T20:12:18.037Z"
   },
   {
    "duration": 187,
    "start_time": "2023-12-14T20:12:18.213Z"
   },
   {
    "duration": 233,
    "start_time": "2023-12-14T20:12:18.401Z"
   },
   {
    "duration": 1169,
    "start_time": "2023-12-14T20:15:21.792Z"
   },
   {
    "duration": 178,
    "start_time": "2023-12-14T20:15:22.963Z"
   },
   {
    "duration": 22,
    "start_time": "2023-12-14T20:15:23.142Z"
   },
   {
    "duration": 10,
    "start_time": "2023-12-14T20:15:23.166Z"
   },
   {
    "duration": 25,
    "start_time": "2023-12-14T20:15:23.177Z"
   },
   {
    "duration": 15,
    "start_time": "2023-12-14T20:15:23.204Z"
   },
   {
    "duration": 45,
    "start_time": "2023-12-14T20:15:23.221Z"
   },
   {
    "duration": 67,
    "start_time": "2023-12-14T20:15:23.268Z"
   },
   {
    "duration": 84,
    "start_time": "2023-12-14T20:15:23.337Z"
   },
   {
    "duration": 63,
    "start_time": "2023-12-14T20:15:23.424Z"
   },
   {
    "duration": 26,
    "start_time": "2023-12-14T20:15:23.488Z"
   },
   {
    "duration": 21,
    "start_time": "2023-12-14T20:15:23.516Z"
   },
   {
    "duration": 7,
    "start_time": "2023-12-14T20:15:23.540Z"
   },
   {
    "duration": 116,
    "start_time": "2023-12-14T20:15:23.549Z"
   },
   {
    "duration": 13,
    "start_time": "2023-12-14T20:15:23.667Z"
   },
   {
    "duration": 55,
    "start_time": "2023-12-14T20:15:23.682Z"
   },
   {
    "duration": 39,
    "start_time": "2023-12-14T20:15:23.739Z"
   },
   {
    "duration": 10,
    "start_time": "2023-12-14T20:15:23.780Z"
   },
   {
    "duration": 78,
    "start_time": "2023-12-14T20:15:23.791Z"
   },
   {
    "duration": 19,
    "start_time": "2023-12-14T20:15:23.870Z"
   },
   {
    "duration": 31,
    "start_time": "2023-12-14T20:15:23.890Z"
   },
   {
    "duration": 93,
    "start_time": "2023-12-14T20:15:23.922Z"
   },
   {
    "duration": 298,
    "start_time": "2023-12-14T20:15:24.017Z"
   },
   {
    "duration": 26,
    "start_time": "2023-12-14T20:15:24.316Z"
   },
   {
    "duration": 13,
    "start_time": "2023-12-14T20:15:24.343Z"
   },
   {
    "duration": 44,
    "start_time": "2023-12-14T20:15:24.357Z"
   },
   {
    "duration": 8,
    "start_time": "2023-12-14T20:15:24.402Z"
   },
   {
    "duration": 25,
    "start_time": "2023-12-14T20:15:24.414Z"
   },
   {
    "duration": 78,
    "start_time": "2023-12-14T20:15:24.441Z"
   },
   {
    "duration": 28,
    "start_time": "2023-12-14T20:15:24.521Z"
   },
   {
    "duration": 173,
    "start_time": "2023-12-14T20:15:24.551Z"
   },
   {
    "duration": 58,
    "start_time": "2023-12-14T20:15:24.726Z"
   },
   {
    "duration": 176,
    "start_time": "2023-12-14T20:15:24.786Z"
   },
   {
    "duration": 7,
    "start_time": "2023-12-14T20:15:24.963Z"
   },
   {
    "duration": 13,
    "start_time": "2023-12-14T20:15:24.972Z"
   },
   {
    "duration": 19,
    "start_time": "2023-12-14T20:15:24.986Z"
   },
   {
    "duration": 7,
    "start_time": "2023-12-14T20:15:25.007Z"
   },
   {
    "duration": 19,
    "start_time": "2023-12-14T20:15:25.016Z"
   },
   {
    "duration": 7,
    "start_time": "2023-12-14T20:15:25.037Z"
   },
   {
    "duration": 146,
    "start_time": "2023-12-14T20:15:25.046Z"
   },
   {
    "duration": 19,
    "start_time": "2023-12-14T20:15:25.199Z"
   },
   {
    "duration": 46,
    "start_time": "2023-12-14T20:15:25.220Z"
   },
   {
    "duration": 10,
    "start_time": "2023-12-14T20:15:25.268Z"
   },
   {
    "duration": 21,
    "start_time": "2023-12-14T20:15:25.279Z"
   },
   {
    "duration": 59,
    "start_time": "2023-12-14T20:15:25.302Z"
   },
   {
    "duration": 50,
    "start_time": "2023-12-14T20:15:25.362Z"
   },
   {
    "duration": 19,
    "start_time": "2023-12-14T20:15:25.413Z"
   },
   {
    "duration": 40,
    "start_time": "2023-12-14T20:15:25.433Z"
   },
   {
    "duration": 5,
    "start_time": "2023-12-14T20:15:25.475Z"
   },
   {
    "duration": 10,
    "start_time": "2023-12-14T20:15:25.481Z"
   },
   {
    "duration": 10,
    "start_time": "2023-12-14T20:15:25.500Z"
   },
   {
    "duration": 68,
    "start_time": "2023-12-14T20:15:25.511Z"
   },
   {
    "duration": 43,
    "start_time": "2023-12-14T20:15:25.580Z"
   },
   {
    "duration": 5,
    "start_time": "2023-12-14T20:15:25.625Z"
   },
   {
    "duration": 122,
    "start_time": "2023-12-14T20:15:25.632Z"
   },
   {
    "duration": 4,
    "start_time": "2023-12-14T20:15:25.755Z"
   },
   {
    "duration": 415,
    "start_time": "2023-12-14T20:15:25.761Z"
   },
   {
    "duration": 6,
    "start_time": "2023-12-14T20:15:26.177Z"
   },
   {
    "duration": 184,
    "start_time": "2023-12-14T20:15:26.184Z"
   },
   {
    "duration": 170,
    "start_time": "2023-12-14T20:15:26.370Z"
   },
   {
    "duration": 181,
    "start_time": "2023-12-14T20:15:26.542Z"
   },
   {
    "duration": 246,
    "start_time": "2023-12-14T20:15:26.725Z"
   }
  ],
  "kernelspec": {
   "display_name": "Python 3 (ipykernel)",
   "language": "python",
   "name": "python3"
  },
  "language_info": {
   "codemirror_mode": {
    "name": "ipython",
    "version": 3
   },
   "file_extension": ".py",
   "mimetype": "text/x-python",
   "name": "python",
   "nbconvert_exporter": "python",
   "pygments_lexer": "ipython3",
   "version": "3.11.5"
  },
  "toc": {
   "base_numbering": 1,
   "nav_menu": {},
   "number_sections": true,
   "sideBar": true,
   "skip_h1_title": true,
   "title_cell": "Table of Contents",
   "title_sidebar": "Contents",
   "toc_cell": false,
   "toc_position": {},
   "toc_section_display": true,
   "toc_window_display": true
  }
 },
 "nbformat": 4,
 "nbformat_minor": 4
}
