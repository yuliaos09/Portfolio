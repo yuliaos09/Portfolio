{
 "cells": [
  {
   "cell_type": "markdown",
   "metadata": {},
   "source": [
    "# Анализ гипотез для увеличения выручки интернет-магазина, проведение A/B-теста и оценка его результатов"
   ]
  },
  {
   "cell_type": "markdown",
   "metadata": {},
   "source": [
    "**Описание:**\n",
    "\n",
    "Крупный интернет-магазин планирует повысить выручку. Для этого нужно приотезировать гипотезы, которые имеются у магазина, а также запустить и анализировать A/B-тест.\n",
    "\n",
    "**Цель:**\n",
    "\n",
    "- Приоритизировать гипотезы;\n",
    "- запустить A/B-тест;\n",
    "- проанализировать результаты. \n",
    "\n",
    "**Этапы работы:**\n",
    "\n",
    "**Часть 1**\n",
    "\n",
    "1) Изучить и подготовить данные.\n",
    "2) Применить фреймворк ICE для приоритизации гипотез. Отсортировать их по убыванию приоритета.\n",
    "3) Применить фреймворк RICE для приоритизации гипотез. Отсортировать их по убыванию приоритета.\n",
    "4) Указать, как изменилась приоритизация гипотез при применении RICE вместо ICE. Объяснить, причины.\n",
    "\n",
    "**Часть 2**\n",
    "\n",
    "1) Изучить и подготовить данные.\n",
    "2) Проанализировать A/B-тест.\n",
    "3) Построить график кумулятивной выручки по группам. Сделать выводы и предположения.\n",
    "4) Построить график кумулятивного среднего чека по группам. Сделать выводы и предположения.\n",
    "5) Построить график относительного изменения кумулятивного среднего чека группы B к группе A. Сделать выводы и предположения.\n",
    "6) Построить график кумулятивного среднего количества заказов на посетителя по группам. Сделать выводы и предположения.\n",
    "7) Построить график относительного изменения кумулятивного среднего количества заказов на посетителя группы B к группе A. Сделать выводы и предположения.\n",
    "8) Построить точечный график количества заказов по пользователям. Сделать выводы и предположения.\n",
    "9) Посчитать 95-й и 99-й перцентили количества заказов на пользователя. Выбрать границу для определения аномальных пользователей.\n",
    "10) Построить точечный график стоимостей заказов. Сделать выводы и предположения.\n",
    "11) Посчитать 95-й и 99-й перцентили стоимости заказов. Выбрать границу для определения аномальных заказов.\n",
    "12) Посчитать статистическую значимость различий в среднем количестве заказов на посетителя между группами по «сырым» данным. Сделать выводы и предположения.\n",
    "13) Посчитать статистическую значимость различий в среднем чеке заказа между группами по «сырым» данным. Сделать выводы и предположения.\n",
    "14) Посчитать статистическую значимость различий в среднем количестве заказов на посетителя между группами по «очищенным» данным. Сделать выводы и предположения.\n",
    "15) Посчитать статистическую значимость различий в среднем чеке заказа между группами по «очищенным» данным. Сделать выводы и предположения.\n",
    "16) Принять решение по результатам теста и объяснить его."
   ]
  },
  {
   "cell_type": "code",
   "execution_count": 1,
   "metadata": {},
   "outputs": [],
   "source": [
    "import pandas as pd\n",
    "from scipy import stats as st\n",
    "import scipy.stats as stats\n",
    "import math as mth\n",
    "import datetime as dt\n",
    "import numpy as np\n",
    "import matplotlib.pyplot as plt\n",
    "import seaborn as sns"
   ]
  },
  {
   "cell_type": "markdown",
   "metadata": {
    "tags": []
   },
   "source": [
    "# Часть 1"
   ]
  },
  {
   "cell_type": "markdown",
   "metadata": {},
   "source": [
    "**Изучим и подготовим данные:**"
   ]
  },
  {
   "cell_type": "code",
   "execution_count": 2,
   "metadata": {},
   "outputs": [],
   "source": [
    "data = pd.read_csv('/datasets/hypothesis.csv')"
   ]
  },
  {
   "cell_type": "code",
   "execution_count": 3,
   "metadata": {},
   "outputs": [
    {
     "name": "stdout",
     "output_type": "stream",
     "text": [
      "<class 'pandas.core.frame.DataFrame'>\n",
      "RangeIndex: 9 entries, 0 to 8\n",
      "Data columns (total 5 columns):\n",
      " #   Column      Non-Null Count  Dtype \n",
      "---  ------      --------------  ----- \n",
      " 0   Hypothesis  9 non-null      object\n",
      " 1   Reach       9 non-null      int64 \n",
      " 2   Impact      9 non-null      int64 \n",
      " 3   Confidence  9 non-null      int64 \n",
      " 4   Efforts     9 non-null      int64 \n",
      "dtypes: int64(4), object(1)\n",
      "memory usage: 488.0+ bytes\n"
     ]
    }
   ],
   "source": [
    "data.info()"
   ]
  },
  {
   "cell_type": "markdown",
   "metadata": {},
   "source": [
    "В датасете с гипотезами Data не обнаружено нулевых значений. Содержимое колонок имеет корректный формат данных."
   ]
  },
  {
   "cell_type": "markdown",
   "metadata": {},
   "source": [
    "Ниже для удобства переименуем названия столбцов:"
   ]
  },
  {
   "cell_type": "code",
   "execution_count": 4,
   "metadata": {},
   "outputs": [],
   "source": [
    "data = data.rename(\n",
    "    columns={\n",
    "        \"Hypothesis\": \"hypothesis\", \n",
    "        \"Reach\": \"reach\", \n",
    "        \"Impact\": \"impact\", \n",
    "        \"Confidence\": \"confidence\",\n",
    "        \"Efforts\": \"efforts\"\n",
    "    }\n",
    ")"
   ]
  },
  {
   "cell_type": "markdown",
   "metadata": {},
   "source": [
    "Далее приступим к приоретизации гипотез."
   ]
  },
  {
   "cell_type": "markdown",
   "metadata": {},
   "source": [
    "## Фреймворк ICE для приоритизации гипотез"
   ]
  },
  {
   "cell_type": "markdown",
   "metadata": {},
   "source": [
    "ICE (от англ. impact, confidence, effort/ ease «влияние, уверенность, усилия / простота») — один из самых популярных способов приоритизации задач."
   ]
  },
  {
   "cell_type": "markdown",
   "metadata": {},
   "source": [
    "Фреймворк ICE состоит из 3 компонент:\n",
    "- Impact — насколько сильно изменение повлияет на пользователей, их опыт и удовлетворение от продукта;\n",
    "- Confidence — насколько вы уверены, что это изменение повлияет на пользователей именно так; \n",
    "- Efforts — сколько стоит протестировать эту гипотезу. "
   ]
  },
  {
   "cell_type": "code",
   "execution_count": 5,
   "metadata": {},
   "outputs": [
    {
     "data": {
      "text/html": [
       "<div>\n",
       "<style scoped>\n",
       "    .dataframe tbody tr th:only-of-type {\n",
       "        vertical-align: middle;\n",
       "    }\n",
       "\n",
       "    .dataframe tbody tr th {\n",
       "        vertical-align: top;\n",
       "    }\n",
       "\n",
       "    .dataframe thead th {\n",
       "        text-align: right;\n",
       "    }\n",
       "</style>\n",
       "<table border=\"1\" class=\"dataframe\">\n",
       "  <thead>\n",
       "    <tr style=\"text-align: right;\">\n",
       "      <th></th>\n",
       "      <th>hypothesis</th>\n",
       "      <th>ICE</th>\n",
       "    </tr>\n",
       "  </thead>\n",
       "  <tbody>\n",
       "    <tr>\n",
       "      <th>8</th>\n",
       "      <td>Запустить акцию, дающую скидку на товар в день рождения</td>\n",
       "      <td>16.20</td>\n",
       "    </tr>\n",
       "    <tr>\n",
       "      <th>0</th>\n",
       "      <td>Добавить два новых канала привлечения трафика, что позволит привлекать на 30% больше пользователей</td>\n",
       "      <td>13.33</td>\n",
       "    </tr>\n",
       "    <tr>\n",
       "      <th>7</th>\n",
       "      <td>Добавить форму подписки на все основные страницы, чтобы собрать базу клиентов для email-рассылок</td>\n",
       "      <td>11.20</td>\n",
       "    </tr>\n",
       "    <tr>\n",
       "      <th>6</th>\n",
       "      <td>Показать на главной странице баннеры с актуальными акциями и распродажами, чтобы увеличить конверсию</td>\n",
       "      <td>8.00</td>\n",
       "    </tr>\n",
       "    <tr>\n",
       "      <th>2</th>\n",
       "      <td>Добавить блоки рекомендаций товаров на сайт интернет магазина, чтобы повысить конверсию и средний чек заказа</td>\n",
       "      <td>7.00</td>\n",
       "    </tr>\n",
       "    <tr>\n",
       "      <th>1</th>\n",
       "      <td>Запустить собственную службу доставки, что сократит срок доставки заказов</td>\n",
       "      <td>2.00</td>\n",
       "    </tr>\n",
       "    <tr>\n",
       "      <th>5</th>\n",
       "      <td>Добавить страницу отзывов клиентов о магазине, что позволит увеличить количество заказов</td>\n",
       "      <td>1.33</td>\n",
       "    </tr>\n",
       "    <tr>\n",
       "      <th>3</th>\n",
       "      <td>Изменить структура категорий, что увеличит конверсию, т.к. пользователи быстрее найдут нужный товар</td>\n",
       "      <td>1.12</td>\n",
       "    </tr>\n",
       "    <tr>\n",
       "      <th>4</th>\n",
       "      <td>Изменить цвет фона главной страницы, чтобы увеличить вовлеченность пользователей</td>\n",
       "      <td>1.00</td>\n",
       "    </tr>\n",
       "  </tbody>\n",
       "</table>\n",
       "</div>"
      ],
      "text/plain": [
       "                                                                                                     hypothesis  \\\n",
       "8                                                       Запустить акцию, дающую скидку на товар в день рождения   \n",
       "0            Добавить два новых канала привлечения трафика, что позволит привлекать на 30% больше пользователей   \n",
       "7              Добавить форму подписки на все основные страницы, чтобы собрать базу клиентов для email-рассылок   \n",
       "6          Показать на главной странице баннеры с актуальными акциями и распродажами, чтобы увеличить конверсию   \n",
       "2  Добавить блоки рекомендаций товаров на сайт интернет магазина, чтобы повысить конверсию и средний чек заказа   \n",
       "1                                     Запустить собственную службу доставки, что сократит срок доставки заказов   \n",
       "5                      Добавить страницу отзывов клиентов о магазине, что позволит увеличить количество заказов   \n",
       "3           Изменить структура категорий, что увеличит конверсию, т.к. пользователи быстрее найдут нужный товар   \n",
       "4                              Изменить цвет фона главной страницы, чтобы увеличить вовлеченность пользователей   \n",
       "\n",
       "     ICE  \n",
       "8  16.20  \n",
       "0  13.33  \n",
       "7  11.20  \n",
       "6   8.00  \n",
       "2   7.00  \n",
       "1   2.00  \n",
       "5   1.33  \n",
       "3   1.12  \n",
       "4   1.00  "
      ]
     },
     "metadata": {},
     "output_type": "display_data"
    }
   ],
   "source": [
    "pd.options.display.max_colwidth = 150\n",
    "\n",
    "data['ICE'] = round((data['impact'] * data['confidence'])/data['efforts'], 2)\n",
    "\n",
    "display(data[['hypothesis','ICE']].sort_values(by='ICE', ascending=False))"
   ]
  },
  {
   "cell_type": "markdown",
   "metadata": {},
   "source": [
    "По методу ICE наиболее перспективными гипотезами являются следующие гипотезы: \n",
    "\n",
    "- **8** - Запустить акцию, дающую скидку на товар в день рождения;\n",
    "- **0** - Добавить два новых канала привлечения трафика, что позволит привлекать на 30% больше пользователей;\n",
    "- **7** - Добавить форму подписки на все основные страницы, чтобы собрать базу клиентов для email-рассылок"
   ]
  },
  {
   "cell_type": "markdown",
   "metadata": {},
   "source": [
    "## Фреймворк RICE для приоритизации гипотез"
   ]
  },
  {
   "cell_type": "markdown",
   "metadata": {},
   "source": [
    "Фреймворк RICE состоит из четырёх компонент: impact, confidence, effort/ ease, reach."
   ]
  },
  {
   "cell_type": "markdown",
   "metadata": {},
   "source": [
    "Фреймворк RICE состоит из четырёх компонент:\n",
    "- Reach — скольких пользователей затронет изменение, которое вы хотите внести;\n",
    "- Impact — насколько сильно изменение повлияет на пользователей, их опыт и удовлетворение от продукта;\n",
    "- Confidence — насколько вы уверены, что это изменение повлияет на пользователей именно так; \n",
    "- Efforts — сколько стоит протестировать эту гипотезу. "
   ]
  },
  {
   "cell_type": "code",
   "execution_count": 6,
   "metadata": {},
   "outputs": [
    {
     "data": {
      "text/html": [
       "<div>\n",
       "<style scoped>\n",
       "    .dataframe tbody tr th:only-of-type {\n",
       "        vertical-align: middle;\n",
       "    }\n",
       "\n",
       "    .dataframe tbody tr th {\n",
       "        vertical-align: top;\n",
       "    }\n",
       "\n",
       "    .dataframe thead th {\n",
       "        text-align: right;\n",
       "    }\n",
       "</style>\n",
       "<table border=\"1\" class=\"dataframe\">\n",
       "  <thead>\n",
       "    <tr style=\"text-align: right;\">\n",
       "      <th></th>\n",
       "      <th>hypothesis</th>\n",
       "      <th>RICE</th>\n",
       "    </tr>\n",
       "  </thead>\n",
       "  <tbody>\n",
       "    <tr>\n",
       "      <th>7</th>\n",
       "      <td>Добавить форму подписки на все основные страницы, чтобы собрать базу клиентов для email-рассылок</td>\n",
       "      <td>112.0</td>\n",
       "    </tr>\n",
       "    <tr>\n",
       "      <th>2</th>\n",
       "      <td>Добавить блоки рекомендаций товаров на сайт интернет магазина, чтобы повысить конверсию и средний чек заказа</td>\n",
       "      <td>56.0</td>\n",
       "    </tr>\n",
       "    <tr>\n",
       "      <th>0</th>\n",
       "      <td>Добавить два новых канала привлечения трафика, что позволит привлекать на 30% больше пользователей</td>\n",
       "      <td>40.0</td>\n",
       "    </tr>\n",
       "    <tr>\n",
       "      <th>6</th>\n",
       "      <td>Показать на главной странице баннеры с актуальными акциями и распродажами, чтобы увеличить конверсию</td>\n",
       "      <td>40.0</td>\n",
       "    </tr>\n",
       "    <tr>\n",
       "      <th>8</th>\n",
       "      <td>Запустить акцию, дающую скидку на товар в день рождения</td>\n",
       "      <td>16.2</td>\n",
       "    </tr>\n",
       "    <tr>\n",
       "      <th>3</th>\n",
       "      <td>Изменить структура категорий, что увеличит конверсию, т.к. пользователи быстрее найдут нужный товар</td>\n",
       "      <td>9.0</td>\n",
       "    </tr>\n",
       "    <tr>\n",
       "      <th>1</th>\n",
       "      <td>Запустить собственную службу доставки, что сократит срок доставки заказов</td>\n",
       "      <td>4.0</td>\n",
       "    </tr>\n",
       "    <tr>\n",
       "      <th>5</th>\n",
       "      <td>Добавить страницу отзывов клиентов о магазине, что позволит увеличить количество заказов</td>\n",
       "      <td>4.0</td>\n",
       "    </tr>\n",
       "    <tr>\n",
       "      <th>4</th>\n",
       "      <td>Изменить цвет фона главной страницы, чтобы увеличить вовлеченность пользователей</td>\n",
       "      <td>3.0</td>\n",
       "    </tr>\n",
       "  </tbody>\n",
       "</table>\n",
       "</div>"
      ],
      "text/plain": [
       "                                                                                                     hypothesis  \\\n",
       "7              Добавить форму подписки на все основные страницы, чтобы собрать базу клиентов для email-рассылок   \n",
       "2  Добавить блоки рекомендаций товаров на сайт интернет магазина, чтобы повысить конверсию и средний чек заказа   \n",
       "0            Добавить два новых канала привлечения трафика, что позволит привлекать на 30% больше пользователей   \n",
       "6          Показать на главной странице баннеры с актуальными акциями и распродажами, чтобы увеличить конверсию   \n",
       "8                                                       Запустить акцию, дающую скидку на товар в день рождения   \n",
       "3           Изменить структура категорий, что увеличит конверсию, т.к. пользователи быстрее найдут нужный товар   \n",
       "1                                     Запустить собственную службу доставки, что сократит срок доставки заказов   \n",
       "5                      Добавить страницу отзывов клиентов о магазине, что позволит увеличить количество заказов   \n",
       "4                              Изменить цвет фона главной страницы, чтобы увеличить вовлеченность пользователей   \n",
       "\n",
       "    RICE  \n",
       "7  112.0  \n",
       "2   56.0  \n",
       "0   40.0  \n",
       "6   40.0  \n",
       "8   16.2  \n",
       "3    9.0  \n",
       "1    4.0  \n",
       "5    4.0  \n",
       "4    3.0  "
      ]
     },
     "metadata": {},
     "output_type": "display_data"
    }
   ],
   "source": [
    "pd.options.display.max_colwidth = 150\n",
    "\n",
    "data['RICE'] = round((data['reach'] * data['impact'] * data['confidence'])/data['efforts'], 2)\n",
    "\n",
    "display(data[['hypothesis','RICE']].sort_values(by='RICE', ascending=False))"
   ]
  },
  {
   "cell_type": "markdown",
   "metadata": {},
   "source": [
    "По методу RICE наиболее перспективными гипотезами являются: гипотеза 7, 2, 0."
   ]
  },
  {
   "cell_type": "markdown",
   "metadata": {},
   "source": [
    "По методу ICE наиболее перспективными гипотезами являются следующие гипотезы: \n",
    "\n",
    "- **7** - Добавить форму подписки на все основные страницы, чтобы собрать базу клиентов для email-рассылок;\n",
    "- **2** - Добавить блоки рекомендаций товаров на сайт интернет магазина, чтобы повысить конверсию и средний чек заказа;\n",
    "- **0** - Добавить два новых канала привлечения трафика, что позволит привлекать на 30% больше пользователей"
   ]
  },
  {
   "cell_type": "markdown",
   "metadata": {},
   "source": [
    "## Изменение приоритизации гипотез при применении RICE вместо ICE"
   ]
  },
  {
   "cell_type": "markdown",
   "metadata": {},
   "source": [
    "При применении RICE в топе-3 гипотез по-прежнему остались гипотеза 7 и гипотеза 0.  \n",
    "\n",
    "- **7** - Добавить форму подписки на все основные страницы, чтобы собрать базу клиентов для email-рассылок;\n",
    "- **0** - Добавить два новых канала привлечения трафика, что позволит привлекать на 30% больше пользователей\n",
    "\n",
    "Однако лидирующая при ICE гипотеза 8 при RICE набрала всего 16.2 балла из-за низкого параметра Reach."
   ]
  },
  {
   "cell_type": "code",
   "execution_count": 7,
   "metadata": {},
   "outputs": [
    {
     "data": {
      "text/html": [
       "<div>\n",
       "<style scoped>\n",
       "    .dataframe tbody tr th:only-of-type {\n",
       "        vertical-align: middle;\n",
       "    }\n",
       "\n",
       "    .dataframe tbody tr th {\n",
       "        vertical-align: top;\n",
       "    }\n",
       "\n",
       "    .dataframe thead th {\n",
       "        text-align: right;\n",
       "    }\n",
       "</style>\n",
       "<table border=\"1\" class=\"dataframe\">\n",
       "  <thead>\n",
       "    <tr style=\"text-align: right;\">\n",
       "      <th></th>\n",
       "      <th>hypothesis</th>\n",
       "      <th>reach</th>\n",
       "      <th>impact</th>\n",
       "      <th>confidence</th>\n",
       "      <th>efforts</th>\n",
       "      <th>ICE</th>\n",
       "      <th>RICE</th>\n",
       "    </tr>\n",
       "  </thead>\n",
       "  <tbody>\n",
       "    <tr>\n",
       "      <th>0</th>\n",
       "      <td>Добавить два новых канала привлечения трафика, что позволит привлекать на 30% больше пользователей</td>\n",
       "      <td>3</td>\n",
       "      <td>10</td>\n",
       "      <td>8</td>\n",
       "      <td>6</td>\n",
       "      <td>13.33</td>\n",
       "      <td>40.0</td>\n",
       "    </tr>\n",
       "    <tr>\n",
       "      <th>1</th>\n",
       "      <td>Запустить собственную службу доставки, что сократит срок доставки заказов</td>\n",
       "      <td>2</td>\n",
       "      <td>5</td>\n",
       "      <td>4</td>\n",
       "      <td>10</td>\n",
       "      <td>2.00</td>\n",
       "      <td>4.0</td>\n",
       "    </tr>\n",
       "    <tr>\n",
       "      <th>2</th>\n",
       "      <td>Добавить блоки рекомендаций товаров на сайт интернет магазина, чтобы повысить конверсию и средний чек заказа</td>\n",
       "      <td>8</td>\n",
       "      <td>3</td>\n",
       "      <td>7</td>\n",
       "      <td>3</td>\n",
       "      <td>7.00</td>\n",
       "      <td>56.0</td>\n",
       "    </tr>\n",
       "    <tr>\n",
       "      <th>3</th>\n",
       "      <td>Изменить структура категорий, что увеличит конверсию, т.к. пользователи быстрее найдут нужный товар</td>\n",
       "      <td>8</td>\n",
       "      <td>3</td>\n",
       "      <td>3</td>\n",
       "      <td>8</td>\n",
       "      <td>1.12</td>\n",
       "      <td>9.0</td>\n",
       "    </tr>\n",
       "    <tr>\n",
       "      <th>4</th>\n",
       "      <td>Изменить цвет фона главной страницы, чтобы увеличить вовлеченность пользователей</td>\n",
       "      <td>3</td>\n",
       "      <td>1</td>\n",
       "      <td>1</td>\n",
       "      <td>1</td>\n",
       "      <td>1.00</td>\n",
       "      <td>3.0</td>\n",
       "    </tr>\n",
       "    <tr>\n",
       "      <th>5</th>\n",
       "      <td>Добавить страницу отзывов клиентов о магазине, что позволит увеличить количество заказов</td>\n",
       "      <td>3</td>\n",
       "      <td>2</td>\n",
       "      <td>2</td>\n",
       "      <td>3</td>\n",
       "      <td>1.33</td>\n",
       "      <td>4.0</td>\n",
       "    </tr>\n",
       "    <tr>\n",
       "      <th>6</th>\n",
       "      <td>Показать на главной странице баннеры с актуальными акциями и распродажами, чтобы увеличить конверсию</td>\n",
       "      <td>5</td>\n",
       "      <td>3</td>\n",
       "      <td>8</td>\n",
       "      <td>3</td>\n",
       "      <td>8.00</td>\n",
       "      <td>40.0</td>\n",
       "    </tr>\n",
       "    <tr>\n",
       "      <th>7</th>\n",
       "      <td>Добавить форму подписки на все основные страницы, чтобы собрать базу клиентов для email-рассылок</td>\n",
       "      <td>10</td>\n",
       "      <td>7</td>\n",
       "      <td>8</td>\n",
       "      <td>5</td>\n",
       "      <td>11.20</td>\n",
       "      <td>112.0</td>\n",
       "    </tr>\n",
       "    <tr>\n",
       "      <th>8</th>\n",
       "      <td>Запустить акцию, дающую скидку на товар в день рождения</td>\n",
       "      <td>1</td>\n",
       "      <td>9</td>\n",
       "      <td>9</td>\n",
       "      <td>5</td>\n",
       "      <td>16.20</td>\n",
       "      <td>16.2</td>\n",
       "    </tr>\n",
       "  </tbody>\n",
       "</table>\n",
       "</div>"
      ],
      "text/plain": [
       "                                                                                                     hypothesis  \\\n",
       "0            Добавить два новых канала привлечения трафика, что позволит привлекать на 30% больше пользователей   \n",
       "1                                     Запустить собственную службу доставки, что сократит срок доставки заказов   \n",
       "2  Добавить блоки рекомендаций товаров на сайт интернет магазина, чтобы повысить конверсию и средний чек заказа   \n",
       "3           Изменить структура категорий, что увеличит конверсию, т.к. пользователи быстрее найдут нужный товар   \n",
       "4                              Изменить цвет фона главной страницы, чтобы увеличить вовлеченность пользователей   \n",
       "5                      Добавить страницу отзывов клиентов о магазине, что позволит увеличить количество заказов   \n",
       "6          Показать на главной странице баннеры с актуальными акциями и распродажами, чтобы увеличить конверсию   \n",
       "7              Добавить форму подписки на все основные страницы, чтобы собрать базу клиентов для email-рассылок   \n",
       "8                                                       Запустить акцию, дающую скидку на товар в день рождения   \n",
       "\n",
       "   reach  impact  confidence  efforts    ICE   RICE  \n",
       "0      3      10           8        6  13.33   40.0  \n",
       "1      2       5           4       10   2.00    4.0  \n",
       "2      8       3           7        3   7.00   56.0  \n",
       "3      8       3           3        8   1.12    9.0  \n",
       "4      3       1           1        1   1.00    3.0  \n",
       "5      3       2           2        3   1.33    4.0  \n",
       "6      5       3           8        3   8.00   40.0  \n",
       "7     10       7           8        5  11.20  112.0  \n",
       "8      1       9           9        5  16.20   16.2  "
      ]
     },
     "execution_count": 7,
     "metadata": {},
     "output_type": "execute_result"
    }
   ],
   "source": [
    "pd.options.display.max_colwidth = 150\n",
    "\n",
    "data"
   ]
  },
  {
   "cell_type": "markdown",
   "metadata": {},
   "source": [
    "# Часть 2. Анализ A/B-теста"
   ]
  },
  {
   "cell_type": "markdown",
   "metadata": {},
   "source": [
    "## Предобработка данных"
   ]
  },
  {
   "cell_type": "markdown",
   "metadata": {},
   "source": [
    "Изучим и подготовим данные о заказах orders и данные о пользователях visitors."
   ]
  },
  {
   "cell_type": "code",
   "execution_count": 8,
   "metadata": {},
   "outputs": [],
   "source": [
    "orders = pd.read_csv('/datasets/orders.csv')\n",
    "visitors = pd.read_csv('/datasets/visitors.csv')"
   ]
  },
  {
   "cell_type": "code",
   "execution_count": 9,
   "metadata": {},
   "outputs": [
    {
     "name": "stdout",
     "output_type": "stream",
     "text": [
      "<class 'pandas.core.frame.DataFrame'>\n",
      "RangeIndex: 1197 entries, 0 to 1196\n",
      "Data columns (total 5 columns):\n",
      " #   Column         Non-Null Count  Dtype \n",
      "---  ------         --------------  ----- \n",
      " 0   transactionId  1197 non-null   int64 \n",
      " 1   visitorId      1197 non-null   int64 \n",
      " 2   date           1197 non-null   object\n",
      " 3   revenue        1197 non-null   int64 \n",
      " 4   group          1197 non-null   object\n",
      "dtypes: int64(3), object(2)\n",
      "memory usage: 46.9+ KB\n"
     ]
    }
   ],
   "source": [
    "orders.info()"
   ]
  },
  {
   "cell_type": "code",
   "execution_count": 10,
   "metadata": {},
   "outputs": [
    {
     "name": "stdout",
     "output_type": "stream",
     "text": [
      "<class 'pandas.core.frame.DataFrame'>\n",
      "RangeIndex: 62 entries, 0 to 61\n",
      "Data columns (total 3 columns):\n",
      " #   Column    Non-Null Count  Dtype \n",
      "---  ------    --------------  ----- \n",
      " 0   date      62 non-null     object\n",
      " 1   group     62 non-null     object\n",
      " 2   visitors  62 non-null     int64 \n",
      "dtypes: int64(1), object(2)\n",
      "memory usage: 1.6+ KB\n"
     ]
    }
   ],
   "source": [
    "visitors.info()"
   ]
  },
  {
   "cell_type": "code",
   "execution_count": 11,
   "metadata": {},
   "outputs": [
    {
     "data": {
      "text/plain": [
       "transactionId    1197\n",
       "visitorId        1197\n",
       "date             1197\n",
       "revenue          1197\n",
       "group            1197\n",
       "dtype: int64"
      ]
     },
     "execution_count": 11,
     "metadata": {},
     "output_type": "execute_result"
    }
   ],
   "source": [
    "orders.isna().count()"
   ]
  },
  {
   "cell_type": "code",
   "execution_count": 12,
   "metadata": {},
   "outputs": [
    {
     "data": {
      "text/plain": [
       "date        62\n",
       "group       62\n",
       "visitors    62\n",
       "dtype: int64"
      ]
     },
     "execution_count": 12,
     "metadata": {},
     "output_type": "execute_result"
    }
   ],
   "source": [
    "visitors.isna().count()"
   ]
  },
  {
   "cell_type": "markdown",
   "metadata": {},
   "source": [
    "В датасетах не обнаружено нулевых значений. Содержимое колонок date имеет некорректный формат данных."
   ]
  },
  {
   "cell_type": "code",
   "execution_count": 13,
   "metadata": {},
   "outputs": [
    {
     "data": {
      "text/html": [
       "<div>\n",
       "<style scoped>\n",
       "    .dataframe tbody tr th:only-of-type {\n",
       "        vertical-align: middle;\n",
       "    }\n",
       "\n",
       "    .dataframe tbody tr th {\n",
       "        vertical-align: top;\n",
       "    }\n",
       "\n",
       "    .dataframe thead th {\n",
       "        text-align: right;\n",
       "    }\n",
       "</style>\n",
       "<table border=\"1\" class=\"dataframe\">\n",
       "  <thead>\n",
       "    <tr style=\"text-align: right;\">\n",
       "      <th></th>\n",
       "      <th>transactionId</th>\n",
       "      <th>visitorId</th>\n",
       "      <th>date</th>\n",
       "      <th>revenue</th>\n",
       "      <th>group</th>\n",
       "    </tr>\n",
       "  </thead>\n",
       "  <tbody>\n",
       "    <tr>\n",
       "      <th>0</th>\n",
       "      <td>3667963787</td>\n",
       "      <td>3312258926</td>\n",
       "      <td>2019-08-15</td>\n",
       "      <td>1650</td>\n",
       "      <td>B</td>\n",
       "    </tr>\n",
       "    <tr>\n",
       "      <th>1</th>\n",
       "      <td>2804400009</td>\n",
       "      <td>3642806036</td>\n",
       "      <td>2019-08-15</td>\n",
       "      <td>730</td>\n",
       "      <td>B</td>\n",
       "    </tr>\n",
       "    <tr>\n",
       "      <th>2</th>\n",
       "      <td>2961555356</td>\n",
       "      <td>4069496402</td>\n",
       "      <td>2019-08-15</td>\n",
       "      <td>400</td>\n",
       "      <td>A</td>\n",
       "    </tr>\n",
       "    <tr>\n",
       "      <th>3</th>\n",
       "      <td>3797467345</td>\n",
       "      <td>1196621759</td>\n",
       "      <td>2019-08-15</td>\n",
       "      <td>9759</td>\n",
       "      <td>B</td>\n",
       "    </tr>\n",
       "    <tr>\n",
       "      <th>4</th>\n",
       "      <td>2282983706</td>\n",
       "      <td>2322279887</td>\n",
       "      <td>2019-08-15</td>\n",
       "      <td>2308</td>\n",
       "      <td>B</td>\n",
       "    </tr>\n",
       "    <tr>\n",
       "      <th>5</th>\n",
       "      <td>182168103</td>\n",
       "      <td>935554773</td>\n",
       "      <td>2019-08-15</td>\n",
       "      <td>2210</td>\n",
       "      <td>B</td>\n",
       "    </tr>\n",
       "    <tr>\n",
       "      <th>6</th>\n",
       "      <td>398296753</td>\n",
       "      <td>2900797465</td>\n",
       "      <td>2019-08-15</td>\n",
       "      <td>1860</td>\n",
       "      <td>B</td>\n",
       "    </tr>\n",
       "    <tr>\n",
       "      <th>7</th>\n",
       "      <td>2626614568</td>\n",
       "      <td>78758296</td>\n",
       "      <td>2019-08-15</td>\n",
       "      <td>1044</td>\n",
       "      <td>A</td>\n",
       "    </tr>\n",
       "    <tr>\n",
       "      <th>8</th>\n",
       "      <td>1576988021</td>\n",
       "      <td>295230930</td>\n",
       "      <td>2019-08-15</td>\n",
       "      <td>13710</td>\n",
       "      <td>A</td>\n",
       "    </tr>\n",
       "    <tr>\n",
       "      <th>9</th>\n",
       "      <td>1506739906</td>\n",
       "      <td>1882260405</td>\n",
       "      <td>2019-08-15</td>\n",
       "      <td>1855</td>\n",
       "      <td>B</td>\n",
       "    </tr>\n",
       "  </tbody>\n",
       "</table>\n",
       "</div>"
      ],
      "text/plain": [
       "   transactionId   visitorId        date  revenue group\n",
       "0     3667963787  3312258926  2019-08-15     1650     B\n",
       "1     2804400009  3642806036  2019-08-15      730     B\n",
       "2     2961555356  4069496402  2019-08-15      400     A\n",
       "3     3797467345  1196621759  2019-08-15     9759     B\n",
       "4     2282983706  2322279887  2019-08-15     2308     B\n",
       "5      182168103   935554773  2019-08-15     2210     B\n",
       "6      398296753  2900797465  2019-08-15     1860     B\n",
       "7     2626614568    78758296  2019-08-15     1044     A\n",
       "8     1576988021   295230930  2019-08-15    13710     A\n",
       "9     1506739906  1882260405  2019-08-15     1855     B"
      ]
     },
     "execution_count": 13,
     "metadata": {},
     "output_type": "execute_result"
    }
   ],
   "source": [
    "orders.head(10)"
   ]
  },
  {
   "cell_type": "code",
   "execution_count": 14,
   "metadata": {},
   "outputs": [
    {
     "data": {
      "text/html": [
       "<div>\n",
       "<style scoped>\n",
       "    .dataframe tbody tr th:only-of-type {\n",
       "        vertical-align: middle;\n",
       "    }\n",
       "\n",
       "    .dataframe tbody tr th {\n",
       "        vertical-align: top;\n",
       "    }\n",
       "\n",
       "    .dataframe thead th {\n",
       "        text-align: right;\n",
       "    }\n",
       "</style>\n",
       "<table border=\"1\" class=\"dataframe\">\n",
       "  <thead>\n",
       "    <tr style=\"text-align: right;\">\n",
       "      <th></th>\n",
       "      <th>date</th>\n",
       "      <th>group</th>\n",
       "      <th>visitors</th>\n",
       "    </tr>\n",
       "  </thead>\n",
       "  <tbody>\n",
       "    <tr>\n",
       "      <th>0</th>\n",
       "      <td>2019-08-01</td>\n",
       "      <td>A</td>\n",
       "      <td>719</td>\n",
       "    </tr>\n",
       "    <tr>\n",
       "      <th>1</th>\n",
       "      <td>2019-08-02</td>\n",
       "      <td>A</td>\n",
       "      <td>619</td>\n",
       "    </tr>\n",
       "    <tr>\n",
       "      <th>2</th>\n",
       "      <td>2019-08-03</td>\n",
       "      <td>A</td>\n",
       "      <td>507</td>\n",
       "    </tr>\n",
       "    <tr>\n",
       "      <th>3</th>\n",
       "      <td>2019-08-04</td>\n",
       "      <td>A</td>\n",
       "      <td>717</td>\n",
       "    </tr>\n",
       "    <tr>\n",
       "      <th>4</th>\n",
       "      <td>2019-08-05</td>\n",
       "      <td>A</td>\n",
       "      <td>756</td>\n",
       "    </tr>\n",
       "    <tr>\n",
       "      <th>5</th>\n",
       "      <td>2019-08-06</td>\n",
       "      <td>A</td>\n",
       "      <td>667</td>\n",
       "    </tr>\n",
       "    <tr>\n",
       "      <th>6</th>\n",
       "      <td>2019-08-07</td>\n",
       "      <td>A</td>\n",
       "      <td>644</td>\n",
       "    </tr>\n",
       "    <tr>\n",
       "      <th>7</th>\n",
       "      <td>2019-08-08</td>\n",
       "      <td>A</td>\n",
       "      <td>610</td>\n",
       "    </tr>\n",
       "    <tr>\n",
       "      <th>8</th>\n",
       "      <td>2019-08-09</td>\n",
       "      <td>A</td>\n",
       "      <td>617</td>\n",
       "    </tr>\n",
       "    <tr>\n",
       "      <th>9</th>\n",
       "      <td>2019-08-10</td>\n",
       "      <td>A</td>\n",
       "      <td>406</td>\n",
       "    </tr>\n",
       "  </tbody>\n",
       "</table>\n",
       "</div>"
      ],
      "text/plain": [
       "         date group  visitors\n",
       "0  2019-08-01     A       719\n",
       "1  2019-08-02     A       619\n",
       "2  2019-08-03     A       507\n",
       "3  2019-08-04     A       717\n",
       "4  2019-08-05     A       756\n",
       "5  2019-08-06     A       667\n",
       "6  2019-08-07     A       644\n",
       "7  2019-08-08     A       610\n",
       "8  2019-08-09     A       617\n",
       "9  2019-08-10     A       406"
      ]
     },
     "execution_count": 14,
     "metadata": {},
     "output_type": "execute_result"
    }
   ],
   "source": [
    "visitors.head(10)"
   ]
  },
  {
   "cell_type": "markdown",
   "metadata": {},
   "source": [
    "Приведем данные с датой к соответствующему типу:"
   ]
  },
  {
   "cell_type": "code",
   "execution_count": 15,
   "metadata": {},
   "outputs": [],
   "source": [
    "orders['date'] = orders['date'].astype(\"datetime64[ns]\")"
   ]
  },
  {
   "cell_type": "code",
   "execution_count": 16,
   "metadata": {},
   "outputs": [],
   "source": [
    "visitors['date'] = visitors['date'].astype(\"datetime64[ns]\")"
   ]
  },
  {
   "cell_type": "code",
   "execution_count": 17,
   "metadata": {},
   "outputs": [
    {
     "name": "stdout",
     "output_type": "stream",
     "text": [
      "<class 'pandas.core.frame.DataFrame'>\n",
      "RangeIndex: 1197 entries, 0 to 1196\n",
      "Data columns (total 5 columns):\n",
      " #   Column         Non-Null Count  Dtype         \n",
      "---  ------         --------------  -----         \n",
      " 0   transactionId  1197 non-null   int64         \n",
      " 1   visitorId      1197 non-null   int64         \n",
      " 2   date           1197 non-null   datetime64[ns]\n",
      " 3   revenue        1197 non-null   int64         \n",
      " 4   group          1197 non-null   object        \n",
      "dtypes: datetime64[ns](1), int64(3), object(1)\n",
      "memory usage: 46.9+ KB\n"
     ]
    }
   ],
   "source": [
    "orders.info()"
   ]
  },
  {
   "cell_type": "code",
   "execution_count": 18,
   "metadata": {},
   "outputs": [
    {
     "name": "stdout",
     "output_type": "stream",
     "text": [
      "<class 'pandas.core.frame.DataFrame'>\n",
      "RangeIndex: 62 entries, 0 to 61\n",
      "Data columns (total 3 columns):\n",
      " #   Column    Non-Null Count  Dtype         \n",
      "---  ------    --------------  -----         \n",
      " 0   date      62 non-null     datetime64[ns]\n",
      " 1   group     62 non-null     object        \n",
      " 2   visitors  62 non-null     int64         \n",
      "dtypes: datetime64[ns](1), int64(1), object(1)\n",
      "memory usage: 1.6+ KB\n"
     ]
    }
   ],
   "source": [
    "visitors.info()"
   ]
  },
  {
   "cell_type": "markdown",
   "metadata": {},
   "source": [
    "Теперь данные имеют корректный формат.\n",
    "\n",
    "Далее удостоверимся, что в датафреймах нет дубликатов:"
   ]
  },
  {
   "cell_type": "code",
   "execution_count": 19,
   "metadata": {},
   "outputs": [
    {
     "data": {
      "text/plain": [
       "1197"
      ]
     },
     "execution_count": 19,
     "metadata": {},
     "output_type": "execute_result"
    }
   ],
   "source": [
    "orders.duplicated(keep=False).count()"
   ]
  },
  {
   "cell_type": "code",
   "execution_count": 20,
   "metadata": {},
   "outputs": [
    {
     "data": {
      "text/plain": [
       "62"
      ]
     },
     "execution_count": 20,
     "metadata": {},
     "output_type": "execute_result"
    }
   ],
   "source": [
    "visitors.duplicated(keep=False).count()"
   ]
  },
  {
   "cell_type": "markdown",
   "metadata": {},
   "source": [
    "Приведем названия столбцов к нижнему регистру:"
   ]
  },
  {
   "cell_type": "code",
   "execution_count": 21,
   "metadata": {},
   "outputs": [],
   "source": [
    "orders = orders.rename(\n",
    "    columns={\n",
    "        \"transactionId\": \"transaction_id\", \n",
    "        \"visitorId\": \"visitor_id\"\n",
    "    }\n",
    ")"
   ]
  },
  {
   "cell_type": "code",
   "execution_count": 22,
   "metadata": {},
   "outputs": [
    {
     "data": {
      "text/html": [
       "<div>\n",
       "<style scoped>\n",
       "    .dataframe tbody tr th:only-of-type {\n",
       "        vertical-align: middle;\n",
       "    }\n",
       "\n",
       "    .dataframe tbody tr th {\n",
       "        vertical-align: top;\n",
       "    }\n",
       "\n",
       "    .dataframe thead th {\n",
       "        text-align: right;\n",
       "    }\n",
       "</style>\n",
       "<table border=\"1\" class=\"dataframe\">\n",
       "  <thead>\n",
       "    <tr style=\"text-align: right;\">\n",
       "      <th></th>\n",
       "      <th>transaction_id</th>\n",
       "      <th>visitor_id</th>\n",
       "      <th>date</th>\n",
       "      <th>revenue</th>\n",
       "      <th>group</th>\n",
       "    </tr>\n",
       "  </thead>\n",
       "  <tbody>\n",
       "    <tr>\n",
       "      <th>0</th>\n",
       "      <td>3667963787</td>\n",
       "      <td>3312258926</td>\n",
       "      <td>2019-08-15</td>\n",
       "      <td>1650</td>\n",
       "      <td>B</td>\n",
       "    </tr>\n",
       "    <tr>\n",
       "      <th>1</th>\n",
       "      <td>2804400009</td>\n",
       "      <td>3642806036</td>\n",
       "      <td>2019-08-15</td>\n",
       "      <td>730</td>\n",
       "      <td>B</td>\n",
       "    </tr>\n",
       "    <tr>\n",
       "      <th>2</th>\n",
       "      <td>2961555356</td>\n",
       "      <td>4069496402</td>\n",
       "      <td>2019-08-15</td>\n",
       "      <td>400</td>\n",
       "      <td>A</td>\n",
       "    </tr>\n",
       "    <tr>\n",
       "      <th>3</th>\n",
       "      <td>3797467345</td>\n",
       "      <td>1196621759</td>\n",
       "      <td>2019-08-15</td>\n",
       "      <td>9759</td>\n",
       "      <td>B</td>\n",
       "    </tr>\n",
       "    <tr>\n",
       "      <th>4</th>\n",
       "      <td>2282983706</td>\n",
       "      <td>2322279887</td>\n",
       "      <td>2019-08-15</td>\n",
       "      <td>2308</td>\n",
       "      <td>B</td>\n",
       "    </tr>\n",
       "    <tr>\n",
       "      <th>...</th>\n",
       "      <td>...</td>\n",
       "      <td>...</td>\n",
       "      <td>...</td>\n",
       "      <td>...</td>\n",
       "      <td>...</td>\n",
       "    </tr>\n",
       "    <tr>\n",
       "      <th>1192</th>\n",
       "      <td>2662137336</td>\n",
       "      <td>3733762160</td>\n",
       "      <td>2019-08-14</td>\n",
       "      <td>6490</td>\n",
       "      <td>B</td>\n",
       "    </tr>\n",
       "    <tr>\n",
       "      <th>1193</th>\n",
       "      <td>2203539145</td>\n",
       "      <td>370388673</td>\n",
       "      <td>2019-08-14</td>\n",
       "      <td>3190</td>\n",
       "      <td>A</td>\n",
       "    </tr>\n",
       "    <tr>\n",
       "      <th>1194</th>\n",
       "      <td>1807773912</td>\n",
       "      <td>573423106</td>\n",
       "      <td>2019-08-14</td>\n",
       "      <td>10550</td>\n",
       "      <td>A</td>\n",
       "    </tr>\n",
       "    <tr>\n",
       "      <th>1195</th>\n",
       "      <td>1947021204</td>\n",
       "      <td>1614305549</td>\n",
       "      <td>2019-08-14</td>\n",
       "      <td>100</td>\n",
       "      <td>A</td>\n",
       "    </tr>\n",
       "    <tr>\n",
       "      <th>1196</th>\n",
       "      <td>3936777065</td>\n",
       "      <td>2108080724</td>\n",
       "      <td>2019-08-15</td>\n",
       "      <td>202740</td>\n",
       "      <td>B</td>\n",
       "    </tr>\n",
       "  </tbody>\n",
       "</table>\n",
       "<p>1197 rows × 5 columns</p>\n",
       "</div>"
      ],
      "text/plain": [
       "      transaction_id  visitor_id       date  revenue group\n",
       "0         3667963787  3312258926 2019-08-15     1650     B\n",
       "1         2804400009  3642806036 2019-08-15      730     B\n",
       "2         2961555356  4069496402 2019-08-15      400     A\n",
       "3         3797467345  1196621759 2019-08-15     9759     B\n",
       "4         2282983706  2322279887 2019-08-15     2308     B\n",
       "...              ...         ...        ...      ...   ...\n",
       "1192      2662137336  3733762160 2019-08-14     6490     B\n",
       "1193      2203539145   370388673 2019-08-14     3190     A\n",
       "1194      1807773912   573423106 2019-08-14    10550     A\n",
       "1195      1947021204  1614305549 2019-08-14      100     A\n",
       "1196      3936777065  2108080724 2019-08-15   202740     B\n",
       "\n",
       "[1197 rows x 5 columns]"
      ]
     },
     "execution_count": 22,
     "metadata": {},
     "output_type": "execute_result"
    }
   ],
   "source": [
    "orders"
   ]
  },
  {
   "cell_type": "markdown",
   "metadata": {},
   "source": [
    "Изучим числовые данные столбцы revenue на наличие аномалий:"
   ]
  },
  {
   "cell_type": "code",
   "execution_count": 23,
   "metadata": {},
   "outputs": [
    {
     "data": {
      "text/plain": [
       "<Figure size 1080x720 with 0 Axes>"
      ]
     },
     "metadata": {},
     "output_type": "display_data"
    },
    {
     "data": {
      "image/png": "[encoded data removed]",
      "text/plain": [
       "<Figure size 432x288 with 1 Axes>"
      ]
     },
     "metadata": {
      "needs_background": "light"
     },
     "output_type": "display_data"
    }
   ],
   "source": [
    "plt.figure(figsize=(15,10))\n",
    "orders.plot.scatter(x = 'date', y = 'revenue', c='green')\n",
    "plt.xticks(rotation=45)\n",
    "plt.show();"
   ]
  },
  {
   "cell_type": "code",
   "execution_count": 24,
   "metadata": {},
   "outputs": [
    {
     "data": {
      "text/plain": [
       "1294500"
      ]
     },
     "execution_count": 24,
     "metadata": {},
     "output_type": "execute_result"
    }
   ],
   "source": [
    "orders['revenue'].max()"
   ]
  },
  {
   "cell_type": "code",
   "execution_count": 25,
   "metadata": {},
   "outputs": [
    {
     "data": {
      "text/plain": [
       "50"
      ]
     },
     "execution_count": 25,
     "metadata": {},
     "output_type": "execute_result"
    }
   ],
   "source": [
    "orders['revenue'].min()"
   ]
  },
  {
   "cell_type": "code",
   "execution_count": 26,
   "metadata": {},
   "outputs": [
    {
     "data": {
      "text/plain": [
       "Timestamp('2019-08-31 00:00:00')"
      ]
     },
     "execution_count": 26,
     "metadata": {},
     "output_type": "execute_result"
    }
   ],
   "source": [
    "orders['date'].max()"
   ]
  },
  {
   "cell_type": "code",
   "execution_count": 27,
   "metadata": {},
   "outputs": [
    {
     "data": {
      "text/plain": [
       "Timestamp('2019-08-01 00:00:00')"
      ]
     },
     "execution_count": 27,
     "metadata": {},
     "output_type": "execute_result"
    }
   ],
   "source": [
    "orders['date'].min()"
   ]
  },
  {
   "cell_type": "code",
   "execution_count": 28,
   "metadata": {},
   "outputs": [
    {
     "data": {
      "text/plain": [
       "Timestamp('2019-08-31 00:00:00')"
      ]
     },
     "execution_count": 28,
     "metadata": {},
     "output_type": "execute_result"
    }
   ],
   "source": [
    "visitors['date'].max()"
   ]
  },
  {
   "cell_type": "code",
   "execution_count": 29,
   "metadata": {},
   "outputs": [
    {
     "data": {
      "text/plain": [
       "Timestamp('2019-08-01 00:00:00')"
      ]
     },
     "execution_count": 29,
     "metadata": {},
     "output_type": "execute_result"
    }
   ],
   "source": [
    "visitors['date'].min()"
   ]
  },
  {
   "cell_type": "markdown",
   "metadata": {},
   "source": [
    "Перед нами данные за период с 1 по 31 августа 2019 года.\n",
    "\n",
    "В данных столбца revenue из датафрейма orders имеются некоторые аномалии - это мы изучим чуть позднее."
   ]
  },
  {
   "cell_type": "code",
   "execution_count": 30,
   "metadata": {},
   "outputs": [
    {
     "data": {
      "text/plain": [
       "58"
      ]
     },
     "execution_count": 30,
     "metadata": {},
     "output_type": "execute_result"
    }
   ],
   "source": [
    "users_a = orders[orders['group']=='A']\n",
    "users_b = orders[orders['group']=='B']\n",
    "users_dublicate = users_a.merge(users_b, on='visitor_id', how='inner')\n",
    "users_dublicate['visitor_id'].nunique()"
   ]
  },
  {
   "cell_type": "code",
   "execution_count": 31,
   "metadata": {},
   "outputs": [
    {
     "data": {
      "text/plain": [
       "visitor_id\n",
       "8300375       1\n",
       "11685486      1\n",
       "54447517      1\n",
       "66685450      1\n",
       "78758296      1\n",
       "             ..\n",
       "4243832526    1\n",
       "4256040402    7\n",
       "4259830713    1\n",
       "4266935830    1\n",
       "4278982564    1\n",
       "Name: visitor_id, Length: 503, dtype: int64"
      ]
     },
     "execution_count": 31,
     "metadata": {},
     "output_type": "execute_result"
    }
   ],
   "source": [
    "users_a.groupby('visitor_id')['visitor_id'].count()"
   ]
  },
  {
   "cell_type": "code",
   "execution_count": 32,
   "metadata": {},
   "outputs": [
    {
     "data": {
      "text/plain": [
       "visitor_id\n",
       "5114589       1\n",
       "6958315       1\n",
       "8300375       1\n",
       "39475350      1\n",
       "47206413      1\n",
       "             ..\n",
       "4258103007    1\n",
       "4266935830    1\n",
       "4279090005    1\n",
       "4281247801    1\n",
       "4283872382    1\n",
       "Name: visitor_id, Length: 586, dtype: int64"
      ]
     },
     "execution_count": 32,
     "metadata": {},
     "output_type": "execute_result"
    }
   ],
   "source": [
    "users_b.groupby('visitor_id')['visitor_id'].count()"
   ]
  },
  {
   "cell_type": "code",
   "execution_count": 33,
   "metadata": {},
   "outputs": [
    {
     "data": {
      "text/html": [
       "<div>\n",
       "<style scoped>\n",
       "    .dataframe tbody tr th:only-of-type {\n",
       "        vertical-align: middle;\n",
       "    }\n",
       "\n",
       "    .dataframe tbody tr th {\n",
       "        vertical-align: top;\n",
       "    }\n",
       "\n",
       "    .dataframe thead th {\n",
       "        text-align: right;\n",
       "    }\n",
       "</style>\n",
       "<table border=\"1\" class=\"dataframe\">\n",
       "  <thead>\n",
       "    <tr style=\"text-align: right;\">\n",
       "      <th></th>\n",
       "      <th>transaction_id_x</th>\n",
       "      <th>visitor_id</th>\n",
       "      <th>date_x</th>\n",
       "      <th>revenue_x</th>\n",
       "      <th>group_x</th>\n",
       "      <th>transaction_id_y</th>\n",
       "      <th>date_y</th>\n",
       "      <th>revenue_y</th>\n",
       "      <th>group_y</th>\n",
       "    </tr>\n",
       "  </thead>\n",
       "  <tbody>\n",
       "    <tr>\n",
       "      <th>0</th>\n",
       "      <td>2961555356</td>\n",
       "      <td>4069496402</td>\n",
       "      <td>2019-08-15</td>\n",
       "      <td>400</td>\n",
       "      <td>A</td>\n",
       "      <td>1473132782</td>\n",
       "      <td>2019-08-12</td>\n",
       "      <td>640</td>\n",
       "      <td>B</td>\n",
       "    </tr>\n",
       "    <tr>\n",
       "      <th>1</th>\n",
       "      <td>2223239646</td>\n",
       "      <td>199603092</td>\n",
       "      <td>2019-08-15</td>\n",
       "      <td>3488</td>\n",
       "      <td>A</td>\n",
       "      <td>437656952</td>\n",
       "      <td>2019-08-02</td>\n",
       "      <td>3488</td>\n",
       "      <td>B</td>\n",
       "    </tr>\n",
       "    <tr>\n",
       "      <th>2</th>\n",
       "      <td>62794304</td>\n",
       "      <td>199603092</td>\n",
       "      <td>2019-08-22</td>\n",
       "      <td>6976</td>\n",
       "      <td>A</td>\n",
       "      <td>437656952</td>\n",
       "      <td>2019-08-02</td>\n",
       "      <td>3488</td>\n",
       "      <td>B</td>\n",
       "    </tr>\n",
       "    <tr>\n",
       "      <th>3</th>\n",
       "      <td>2971973105</td>\n",
       "      <td>199603092</td>\n",
       "      <td>2019-08-27</td>\n",
       "      <td>2790</td>\n",
       "      <td>A</td>\n",
       "      <td>437656952</td>\n",
       "      <td>2019-08-02</td>\n",
       "      <td>3488</td>\n",
       "      <td>B</td>\n",
       "    </tr>\n",
       "    <tr>\n",
       "      <th>4</th>\n",
       "      <td>1941707234</td>\n",
       "      <td>199603092</td>\n",
       "      <td>2019-08-12</td>\n",
       "      <td>6438</td>\n",
       "      <td>A</td>\n",
       "      <td>437656952</td>\n",
       "      <td>2019-08-02</td>\n",
       "      <td>3488</td>\n",
       "      <td>B</td>\n",
       "    </tr>\n",
       "    <tr>\n",
       "      <th>...</th>\n",
       "      <td>...</td>\n",
       "      <td>...</td>\n",
       "      <td>...</td>\n",
       "      <td>...</td>\n",
       "      <td>...</td>\n",
       "      <td>...</td>\n",
       "      <td>...</td>\n",
       "      <td>...</td>\n",
       "      <td>...</td>\n",
       "    </tr>\n",
       "    <tr>\n",
       "      <th>178</th>\n",
       "      <td>3757656646</td>\n",
       "      <td>4186807279</td>\n",
       "      <td>2019-08-14</td>\n",
       "      <td>4990</td>\n",
       "      <td>A</td>\n",
       "      <td>1759418862</td>\n",
       "      <td>2019-08-21</td>\n",
       "      <td>18560</td>\n",
       "      <td>B</td>\n",
       "    </tr>\n",
       "    <tr>\n",
       "      <th>179</th>\n",
       "      <td>3757656646</td>\n",
       "      <td>4186807279</td>\n",
       "      <td>2019-08-14</td>\n",
       "      <td>4990</td>\n",
       "      <td>A</td>\n",
       "      <td>380064637</td>\n",
       "      <td>2019-08-27</td>\n",
       "      <td>13740</td>\n",
       "      <td>B</td>\n",
       "    </tr>\n",
       "    <tr>\n",
       "      <th>180</th>\n",
       "      <td>3612788481</td>\n",
       "      <td>2712142231</td>\n",
       "      <td>2019-08-14</td>\n",
       "      <td>2490</td>\n",
       "      <td>A</td>\n",
       "      <td>1251767592</td>\n",
       "      <td>2019-08-16</td>\n",
       "      <td>790</td>\n",
       "      <td>B</td>\n",
       "    </tr>\n",
       "    <tr>\n",
       "      <th>181</th>\n",
       "      <td>4052155355</td>\n",
       "      <td>2949041841</td>\n",
       "      <td>2019-08-14</td>\n",
       "      <td>190</td>\n",
       "      <td>A</td>\n",
       "      <td>1329499668</td>\n",
       "      <td>2019-08-14</td>\n",
       "      <td>10380</td>\n",
       "      <td>B</td>\n",
       "    </tr>\n",
       "    <tr>\n",
       "      <th>182</th>\n",
       "      <td>1458356232</td>\n",
       "      <td>963407295</td>\n",
       "      <td>2019-08-14</td>\n",
       "      <td>4940</td>\n",
       "      <td>A</td>\n",
       "      <td>2904772834</td>\n",
       "      <td>2019-08-15</td>\n",
       "      <td>300</td>\n",
       "      <td>B</td>\n",
       "    </tr>\n",
       "  </tbody>\n",
       "</table>\n",
       "<p>183 rows × 9 columns</p>\n",
       "</div>"
      ],
      "text/plain": [
       "     transaction_id_x  visitor_id     date_x  revenue_x group_x  \\\n",
       "0          2961555356  4069496402 2019-08-15        400       A   \n",
       "1          2223239646   199603092 2019-08-15       3488       A   \n",
       "2            62794304   199603092 2019-08-22       6976       A   \n",
       "3          2971973105   199603092 2019-08-27       2790       A   \n",
       "4          1941707234   199603092 2019-08-12       6438       A   \n",
       "..                ...         ...        ...        ...     ...   \n",
       "178        3757656646  4186807279 2019-08-14       4990       A   \n",
       "179        3757656646  4186807279 2019-08-14       4990       A   \n",
       "180        3612788481  2712142231 2019-08-14       2490       A   \n",
       "181        4052155355  2949041841 2019-08-14        190       A   \n",
       "182        1458356232   963407295 2019-08-14       4940       A   \n",
       "\n",
       "     transaction_id_y     date_y  revenue_y group_y  \n",
       "0          1473132782 2019-08-12        640       B  \n",
       "1           437656952 2019-08-02       3488       B  \n",
       "2           437656952 2019-08-02       3488       B  \n",
       "3           437656952 2019-08-02       3488       B  \n",
       "4           437656952 2019-08-02       3488       B  \n",
       "..                ...        ...        ...     ...  \n",
       "178        1759418862 2019-08-21      18560       B  \n",
       "179         380064637 2019-08-27      13740       B  \n",
       "180        1251767592 2019-08-16        790       B  \n",
       "181        1329499668 2019-08-14      10380       B  \n",
       "182        2904772834 2019-08-15        300       B  \n",
       "\n",
       "[183 rows x 9 columns]"
      ]
     },
     "execution_count": 33,
     "metadata": {},
     "output_type": "execute_result"
    }
   ],
   "source": [
    "users_dublicate"
   ]
  },
  {
   "cell_type": "markdown",
   "metadata": {},
   "source": [
    "**Проверим есть ли дубликаты в заказах:**"
   ]
  },
  {
   "cell_type": "code",
   "execution_count": 34,
   "metadata": {},
   "outputs": [
    {
     "data": {
      "text/plain": [
       "transaction_id\n",
       "1062393       1\n",
       "7210578       1\n",
       "8131427       1\n",
       "26423654      1\n",
       "35929812      1\n",
       "             ..\n",
       "4276811111    1\n",
       "4279408906    1\n",
       "4281129020    1\n",
       "4288552432    1\n",
       "4293855558    1\n",
       "Name: visitor_id, Length: 557, dtype: int64"
      ]
     },
     "execution_count": 34,
     "metadata": {},
     "output_type": "execute_result"
    }
   ],
   "source": [
    "users_a.groupby('transaction_id')['visitor_id'].count()"
   ]
  },
  {
   "cell_type": "code",
   "execution_count": 35,
   "metadata": {},
   "outputs": [
    {
     "data": {
      "text/plain": [
       "transaction_id\n",
       "4919758       1\n",
       "11068804      1\n",
       "19446369      1\n",
       "19467429      1\n",
       "29438557      1\n",
       "             ..\n",
       "4230875336    1\n",
       "4238948438    1\n",
       "4244481880    1\n",
       "4252514150    1\n",
       "4261512099    1\n",
       "Name: visitor_id, Length: 640, dtype: int64"
      ]
     },
     "execution_count": 35,
     "metadata": {},
     "output_type": "execute_result"
    }
   ],
   "source": [
    "users_b.groupby('transaction_id')['visitor_id'].count()"
   ]
  },
  {
   "cell_type": "code",
   "execution_count": 36,
   "metadata": {},
   "outputs": [
    {
     "data": {
      "text/plain": [
       "0"
      ]
     },
     "execution_count": 36,
     "metadata": {},
     "output_type": "execute_result"
    }
   ],
   "source": [
    "orders_dublicate = users_a.merge(users_b, on='transaction_id', how='inner')\n",
    "orders_dublicate['transaction_id'].nunique()"
   ]
  },
  {
   "cell_type": "markdown",
   "metadata": {},
   "source": [
    "Заказов-дубликатов по двум группам не обнаружено."
   ]
  },
  {
   "cell_type": "markdown",
   "metadata": {},
   "source": [
    "**Проверка показала:**\n",
    "\n",
    "- В группе A - 503 уникальных пользователя;\n",
    "- В группе B - 586 уникальных пользователей;\n",
    "- 183 записи с дублирующимися пользователями, из которых 58 пользователей - уникальные пользователи, которые по каким-то критериям попали в обе группы;\n",
    "- Заказов-дубликатов, попапавших в обе группы, не найдено."
   ]
  },
  {
   "cell_type": "markdown",
   "metadata": {},
   "source": [
    "**Результаты подготовки данных orders и visitors:**"
   ]
  },
  {
   "cell_type": "markdown",
   "metadata": {},
   "source": [
    "- установлено, что в датафреймах нет пропусков и дубликатов;\n",
    "- данные представлены за август 2019 года;\n",
    "- данные с датой приведены к соответствующему типу;\n",
    "- названия столбцов приведены к нижнему регистру;\n",
    "- в поле revenue имеются аномальные значения;\n",
    "- 58 пользователей - уникальные пользователи, которые по каким-то критериям попали в обе группы."
   ]
  },
  {
   "cell_type": "markdown",
   "metadata": {},
   "source": [
    "## График кумулятивной выручки по группам. Выводы и предположения"
   ]
  },
  {
   "cell_type": "markdown",
   "metadata": {},
   "source": [
    "Найдем и посчитаем записи-дубликаты по дате и группе::"
   ]
  },
  {
   "cell_type": "code",
   "execution_count": 37,
   "metadata": {},
   "outputs": [
    {
     "data": {
      "text/plain": [
       "1135"
      ]
     },
     "execution_count": 37,
     "metadata": {},
     "output_type": "execute_result"
    }
   ],
   "source": [
    "orders[['date','group']].duplicated().sum()"
   ]
  },
  {
   "cell_type": "markdown",
   "metadata": {},
   "source": [
    "Теперь создадим массив уникальных пар значений дат и групп теста:"
   ]
  },
  {
   "cell_type": "code",
   "execution_count": 38,
   "metadata": {},
   "outputs": [],
   "source": [
    "dates_groups = orders[['date','group']].drop_duplicates()"
   ]
  },
  {
   "cell_type": "code",
   "execution_count": 39,
   "metadata": {},
   "outputs": [
    {
     "data": {
      "text/plain": [
       "0       False\n",
       "2       False\n",
       "45      False\n",
       "47      False\n",
       "55      False\n",
       "        ...  \n",
       "1068    False\n",
       "1114    False\n",
       "1116    False\n",
       "1149    False\n",
       "1150    False\n",
       "Length: 62, dtype: bool"
      ]
     },
     "execution_count": 39,
     "metadata": {},
     "output_type": "execute_result"
    }
   ],
   "source": [
    "dates_groups[['date','group']].duplicated()"
   ]
  },
  {
   "cell_type": "markdown",
   "metadata": {},
   "source": [
    "Получим агрегированные кумулятивные по дням данные о заказах:"
   ]
  },
  {
   "cell_type": "code",
   "execution_count": 40,
   "metadata": {},
   "outputs": [],
   "source": [
    "orders_aggregated = dates_groups.apply(\n",
    "    lambda x: orders[np.logical_and(\n",
    "        orders['date'] <= x['date'], \n",
    "        orders['group'] == x['group']\n",
    "    )\n",
    "                    ].agg(\n",
    "        {'date' : 'max', \n",
    "         'group' : 'max', \n",
    "         'transaction_id' : 'nunique', \n",
    "         'visitor_id' : 'nunique', \n",
    "         'revenue' : 'sum'}\n",
    "    ), axis=1).sort_values(by=['date','group'])"
   ]
  },
  {
   "cell_type": "markdown",
   "metadata": {},
   "source": [
    "Получим агрегированные кумулятивные по дням данные о посетителях интернет-магазина:"
   ]
  },
  {
   "cell_type": "code",
   "execution_count": 41,
   "metadata": {},
   "outputs": [],
   "source": [
    "visitors_aggregated = dates_groups.apply(\n",
    "    lambda x: visitors[np.logical_and(\n",
    "        visitors['date'] <= x['date'], \n",
    "        visitors['group'] == x['group']\n",
    "    )\n",
    "                      ].agg(\n",
    "        {'date' : 'max', \n",
    "         'group' : 'max', \n",
    "         'visitors' : 'sum'}\n",
    "    ), axis=1).sort_values(by=['date','group'])"
   ]
  },
  {
   "cell_type": "markdown",
   "metadata": {},
   "source": [
    "Объединим кумулятивные данные в одной таблице и переименуем столбцы: "
   ]
  },
  {
   "cell_type": "code",
   "execution_count": 42,
   "metadata": {},
   "outputs": [
    {
     "data": {
      "text/html": [
       "<div>\n",
       "<style scoped>\n",
       "    .dataframe tbody tr th:only-of-type {\n",
       "        vertical-align: middle;\n",
       "    }\n",
       "\n",
       "    .dataframe tbody tr th {\n",
       "        vertical-align: top;\n",
       "    }\n",
       "\n",
       "    .dataframe thead th {\n",
       "        text-align: right;\n",
       "    }\n",
       "</style>\n",
       "<table border=\"1\" class=\"dataframe\">\n",
       "  <thead>\n",
       "    <tr style=\"text-align: right;\">\n",
       "      <th></th>\n",
       "      <th>date</th>\n",
       "      <th>group</th>\n",
       "      <th>orders</th>\n",
       "      <th>buyers</th>\n",
       "      <th>revenue</th>\n",
       "      <th>visitors</th>\n",
       "    </tr>\n",
       "  </thead>\n",
       "  <tbody>\n",
       "    <tr>\n",
       "      <th>0</th>\n",
       "      <td>2019-08-01</td>\n",
       "      <td>A</td>\n",
       "      <td>24</td>\n",
       "      <td>20</td>\n",
       "      <td>148579</td>\n",
       "      <td>719</td>\n",
       "    </tr>\n",
       "    <tr>\n",
       "      <th>1</th>\n",
       "      <td>2019-08-01</td>\n",
       "      <td>B</td>\n",
       "      <td>21</td>\n",
       "      <td>20</td>\n",
       "      <td>101217</td>\n",
       "      <td>713</td>\n",
       "    </tr>\n",
       "    <tr>\n",
       "      <th>2</th>\n",
       "      <td>2019-08-02</td>\n",
       "      <td>A</td>\n",
       "      <td>44</td>\n",
       "      <td>38</td>\n",
       "      <td>242401</td>\n",
       "      <td>1338</td>\n",
       "    </tr>\n",
       "    <tr>\n",
       "      <th>3</th>\n",
       "      <td>2019-08-02</td>\n",
       "      <td>B</td>\n",
       "      <td>45</td>\n",
       "      <td>43</td>\n",
       "      <td>266748</td>\n",
       "      <td>1294</td>\n",
       "    </tr>\n",
       "    <tr>\n",
       "      <th>4</th>\n",
       "      <td>2019-08-03</td>\n",
       "      <td>A</td>\n",
       "      <td>68</td>\n",
       "      <td>62</td>\n",
       "      <td>354874</td>\n",
       "      <td>1845</td>\n",
       "    </tr>\n",
       "  </tbody>\n",
       "</table>\n",
       "</div>"
      ],
      "text/plain": [
       "        date group  orders  buyers  revenue  visitors\n",
       "0 2019-08-01     A      24      20   148579       719\n",
       "1 2019-08-01     B      21      20   101217       713\n",
       "2 2019-08-02     A      44      38   242401      1338\n",
       "3 2019-08-02     B      45      43   266748      1294\n",
       "4 2019-08-03     A      68      62   354874      1845"
      ]
     },
     "metadata": {},
     "output_type": "display_data"
    }
   ],
   "source": [
    "cumulative_data = orders_aggregated.merge(visitors_aggregated, left_on=['date', 'group'], right_on=['date', 'group'])\n",
    "cumulative_data.columns = ['date', 'group', 'orders', 'buyers', 'revenue', 'visitors']\n",
    "\n",
    "display(cumulative_data.head(5))"
   ]
  },
  {
   "cell_type": "markdown",
   "metadata": {},
   "source": [
    "Создадим датафреймы с кумулятивным количеством заказов и кумулятивной выручкой по дням в группе А и в группе B:"
   ]
  },
  {
   "cell_type": "code",
   "execution_count": 43,
   "metadata": {},
   "outputs": [],
   "source": [
    "cumulative_revenue_a = cumulative_data[cumulative_data['group']=='A'][['date','revenue', 'orders']]\n",
    "\n",
    "cumulative_revenue_b = cumulative_data[cumulative_data['group']=='B'][['date','revenue', 'orders']]"
   ]
  },
  {
   "cell_type": "markdown",
   "metadata": {},
   "source": [
    "Построим график кумулятивной выручки по группам:"
   ]
  },
  {
   "cell_type": "code",
   "execution_count": 44,
   "metadata": {},
   "outputs": [
    {
     "data": {
      "image/png": "[encoded data removed]",
      "text/plain": [
       "<Figure size 432x288 with 1 Axes>"
      ]
     },
     "metadata": {
      "needs_background": "light"
     },
     "output_type": "display_data"
    }
   ],
   "source": [
    "plt.plot(cumulative_revenue_a['date'], cumulative_revenue_a['revenue'], label='A')\n",
    "plt.plot(cumulative_revenue_b['date'], cumulative_revenue_b['revenue'], label='B')\n",
    "plt.ylabel(\"Выручка\")\n",
    "plt.title(\"График кумулятивной выручки по группам\")\n",
    "plt.legend()\n",
    "plt.xticks(rotation=45)\n",
    "plt.show();"
   ]
  },
  {
   "cell_type": "markdown",
   "metadata": {},
   "source": [
    "**Вывод:**\n",
    "\n",
    "Выручка по группе A равномерно увеличивается в течение всего теста. \n",
    "Однако график выручки группы B в нескольких точках резко возрастает. Это может сигнализировать о всплесках числа заказов, либо о появлении очень дорогих заказов в выборке. "
   ]
  },
  {
   "cell_type": "markdown",
   "metadata": {},
   "source": [
    "## График кумулятивного среднего чека по группам. Выводы и предположения"
   ]
  },
  {
   "cell_type": "markdown",
   "metadata": {},
   "source": [
    "Построим график кумулятивного среднего чека по группам:"
   ]
  },
  {
   "cell_type": "code",
   "execution_count": 45,
   "metadata": {},
   "outputs": [
    {
     "data": {
      "image/png": "[encoded data removed]",
      "text/plain": [
       "<Figure size 432x288 with 1 Axes>"
      ]
     },
     "metadata": {
      "needs_background": "light"
     },
     "output_type": "display_data"
    }
   ],
   "source": [
    "plt.plot(cumulative_revenue_a['date'], cumulative_revenue_a['revenue']/cumulative_revenue_a['orders'], label='A')\n",
    "plt.plot(cumulative_revenue_b['date'], cumulative_revenue_b['revenue']/cumulative_revenue_b['orders'], label='B')\n",
    "plt.ylabel(\"Средний чек\")\n",
    "plt.title(\"График кумулятивного среднего чека по группам\")\n",
    "plt.legend()\n",
    "plt.xticks(rotation=45)\n",
    "plt.show();"
   ]
  },
  {
   "cell_type": "markdown",
   "metadata": {},
   "source": [
    "**Вывод:**\n",
    "\n",
    "Для группы A средний чек становится равномерным ближе к концу теста. Для группы B к концу теста наблюдется резкий всплеск на графике - возможно, в группу B во второй половине теста попали крупные заказы. Тогда, чтобы прийти к реальному среднему чеку и установиться на его уровне - для этой группы нужно больше данных."
   ]
  },
  {
   "cell_type": "markdown",
   "metadata": {},
   "source": [
    "## График относительного изменения кумулятивного среднего чека группы B к группе A. Выводы и предположения"
   ]
  },
  {
   "cell_type": "markdown",
   "metadata": {},
   "source": [
    "Собираем данные по кумулятивной выручке по группам в один датафрейм:"
   ]
  },
  {
   "cell_type": "code",
   "execution_count": 46,
   "metadata": {},
   "outputs": [],
   "source": [
    "merged_cumulative_revenue = cumulative_revenue_a.merge(\n",
    "    cumulative_revenue_b, \n",
    "    left_on='date', \n",
    "    right_on='date', \n",
    "    how='left', \n",
    "    suffixes=['A', 'B']\n",
    ")"
   ]
  },
  {
   "cell_type": "markdown",
   "metadata": {},
   "source": [
    "Строим график относительного изменения кумулятивного среднего чека группы B к группе A:"
   ]
  },
  {
   "cell_type": "code",
   "execution_count": 47,
   "metadata": {},
   "outputs": [
    {
     "data": {
      "image/png": "[encoded data removed]",
      "text/plain": [
       "<Figure size 432x288 with 1 Axes>"
      ]
     },
     "metadata": {
      "needs_background": "light"
     },
     "output_type": "display_data"
    }
   ],
   "source": [
    "plt.plot(merged_cumulative_revenue['date'], (merged_cumulative_revenue['revenueB']/merged_cumulative_revenue['ordersB'])/(merged_cumulative_revenue['revenueA']/merged_cumulative_revenue['ordersA'])-1)\n",
    "plt.axhline(y=0, color='black', linestyle='--')\n",
    "plt.title(\"График относительного изменения кумулятивного среднего чека группы B к группе A\")\n",
    "plt.xticks(rotation=45)\n",
    "plt.show();"
   ]
  },
  {
   "cell_type": "markdown",
   "metadata": {},
   "source": [
    "**Вывод:**\n",
    "\n",
    "Как мы видим, в нескольких точках график различия между двумя группами резко «скачет». Это свидетельствует о том, что в данных могут быть аномально крупные заказы и выбросы. "
   ]
  },
  {
   "cell_type": "markdown",
   "metadata": {},
   "source": [
    "## График кумулятивного среднего количества заказов на посетителя по группам.  Выводы и предположения"
   ]
  },
  {
   "cell_type": "markdown",
   "metadata": {},
   "source": [
    "Посчитаем кумулятивную конверсию:"
   ]
  },
  {
   "cell_type": "code",
   "execution_count": 48,
   "metadata": {},
   "outputs": [],
   "source": [
    "cumulative_data['conversion'] = cumulative_data['orders']/cumulative_data['visitors']"
   ]
  },
  {
   "cell_type": "markdown",
   "metadata": {},
   "source": [
    "Разделим данные о кумулятивной конверсии по группам:"
   ]
  },
  {
   "cell_type": "code",
   "execution_count": 49,
   "metadata": {},
   "outputs": [],
   "source": [
    "cumulative_data_a = cumulative_data[cumulative_data['group']=='A']\n",
    "\n",
    "cumulative_data_b = cumulative_data[cumulative_data['group']=='B']"
   ]
  },
  {
   "cell_type": "markdown",
   "metadata": {},
   "source": [
    "Построим графики кумулятивного количества заказов на посетителя по группам:"
   ]
  },
  {
   "cell_type": "code",
   "execution_count": 50,
   "metadata": {},
   "outputs": [
    {
     "data": {
      "image/png": "[encoded data removed]",
      "text/plain": [
       "<Figure size 432x288 with 1 Axes>"
      ]
     },
     "metadata": {
      "needs_background": "light"
     },
     "output_type": "display_data"
    }
   ],
   "source": [
    "plt.plot(cumulative_data_a['date'], cumulative_data_a['conversion'], label='A')\n",
    "plt.plot(cumulative_data_b['date'], cumulative_data_b['conversion'], label='B')\n",
    "plt.ylabel(\"Количество заказов\")\n",
    "plt.title(\"График кумулятивного количества заказов на посетителя по группам\")\n",
    "plt.legend()\n",
    "plt.xticks(rotation=45)\n",
    "plt.show();"
   ]
  },
  {
   "cell_type": "markdown",
   "metadata": {},
   "source": [
    "**Вывод:**\n",
    "\n",
    "По группе А кумулятивное количество заказов к концу теста стабилизируется на уровне 0.030. По группе B этот показатель лучше - здесь количество заказов на посетителя стабилизируется на уровне 0.034."
   ]
  },
  {
   "cell_type": "markdown",
   "metadata": {},
   "source": [
    "## График относительного изменения кумулятивного среднего количества заказов на посетителя группы B к группе A. Выводы и предположения"
   ]
  },
  {
   "cell_type": "markdown",
   "metadata": {},
   "source": [
    "Собираем данные по кумулятивной конверсии по группам в один датафрейм:"
   ]
  },
  {
   "cell_type": "code",
   "execution_count": 51,
   "metadata": {},
   "outputs": [],
   "source": [
    "merged_cumulative_conversions = cumulative_data_a[['date','conversion']].merge(\n",
    "    cumulative_data_b[['date','conversion']], \n",
    "    left_on='date', \n",
    "    right_on='date', \n",
    "    how='left', \n",
    "    suffixes=['A', 'B']\n",
    ")"
   ]
  },
  {
   "cell_type": "markdown",
   "metadata": {},
   "source": [
    "График относительного изменения кумулятивного среднего количества заказов на посетителя группы B к группе A:"
   ]
  },
  {
   "cell_type": "code",
   "execution_count": 52,
   "metadata": {},
   "outputs": [
    {
     "data": {
      "image/png": "[encoded data removed]",
      "text/plain": [
       "<Figure size 432x288 with 1 Axes>"
      ]
     },
     "metadata": {
      "needs_background": "light"
     },
     "output_type": "display_data"
    }
   ],
   "source": [
    "plt.plot(\n",
    "    merged_cumulative_conversions['date'], \n",
    "    merged_cumulative_conversions['conversionB']/merged_cumulative_conversions['conversionA']-1, \n",
    "    label=\"Относительный прирост конверсии группы B относительно группы A\"\n",
    ")\n",
    "plt.axhline(y=0, color='black', linestyle='--')\n",
    "plt.axhline(y=-0.1, color='grey', linestyle='--')\n",
    "plt.title(\"График относительного изменения кумулятивного среднего количества заказов на посетителя группы B к группе A\")\n",
    "plt.xticks(rotation=45)\n",
    "plt.show();"
   ]
  },
  {
   "cell_type": "markdown",
   "metadata": {},
   "source": [
    "**Вывод:**\n",
    "\n",
    "Сначала группа B уступала группе A по количеству заказов на посетителя, а потом резко вырвалась вперед и продолжает сохранять лидерство до конца теста."
   ]
  },
  {
   "cell_type": "markdown",
   "metadata": {},
   "source": [
    "## Точечный график количества заказов по пользователям. Выводы и предположения"
   ]
  },
  {
   "cell_type": "markdown",
   "metadata": {},
   "source": [
    "Сгрупируем данные по пользователям и посчитаем заказы, размещенные каждым пользователем:"
   ]
  },
  {
   "cell_type": "code",
   "execution_count": 53,
   "metadata": {},
   "outputs": [
    {
     "data": {
      "text/html": [
       "<div>\n",
       "<style scoped>\n",
       "    .dataframe tbody tr th:only-of-type {\n",
       "        vertical-align: middle;\n",
       "    }\n",
       "\n",
       "    .dataframe tbody tr th {\n",
       "        vertical-align: top;\n",
       "    }\n",
       "\n",
       "    .dataframe thead th {\n",
       "        text-align: right;\n",
       "    }\n",
       "</style>\n",
       "<table border=\"1\" class=\"dataframe\">\n",
       "  <thead>\n",
       "    <tr style=\"text-align: right;\">\n",
       "      <th></th>\n",
       "      <th>visitor_id</th>\n",
       "      <th>orders</th>\n",
       "    </tr>\n",
       "  </thead>\n",
       "  <tbody>\n",
       "    <tr>\n",
       "      <th>1023</th>\n",
       "      <td>4256040402</td>\n",
       "      <td>11</td>\n",
       "    </tr>\n",
       "    <tr>\n",
       "      <th>591</th>\n",
       "      <td>2458001652</td>\n",
       "      <td>11</td>\n",
       "    </tr>\n",
       "    <tr>\n",
       "      <th>569</th>\n",
       "      <td>2378935119</td>\n",
       "      <td>9</td>\n",
       "    </tr>\n",
       "    <tr>\n",
       "      <th>487</th>\n",
       "      <td>2038680547</td>\n",
       "      <td>8</td>\n",
       "    </tr>\n",
       "    <tr>\n",
       "      <th>44</th>\n",
       "      <td>199603092</td>\n",
       "      <td>5</td>\n",
       "    </tr>\n",
       "    <tr>\n",
       "      <th>744</th>\n",
       "      <td>3062433592</td>\n",
       "      <td>5</td>\n",
       "    </tr>\n",
       "    <tr>\n",
       "      <th>55</th>\n",
       "      <td>237748145</td>\n",
       "      <td>5</td>\n",
       "    </tr>\n",
       "    <tr>\n",
       "      <th>917</th>\n",
       "      <td>3803269165</td>\n",
       "      <td>5</td>\n",
       "    </tr>\n",
       "    <tr>\n",
       "      <th>299</th>\n",
       "      <td>1230306981</td>\n",
       "      <td>5</td>\n",
       "    </tr>\n",
       "    <tr>\n",
       "      <th>897</th>\n",
       "      <td>3717692402</td>\n",
       "      <td>5</td>\n",
       "    </tr>\n",
       "  </tbody>\n",
       "</table>\n",
       "</div>"
      ],
      "text/plain": [
       "      visitor_id  orders\n",
       "1023  4256040402      11\n",
       "591   2458001652      11\n",
       "569   2378935119       9\n",
       "487   2038680547       8\n",
       "44     199603092       5\n",
       "744   3062433592       5\n",
       "55     237748145       5\n",
       "917   3803269165       5\n",
       "299   1230306981       5\n",
       "897   3717692402       5"
      ]
     },
     "execution_count": 53,
     "metadata": {},
     "output_type": "execute_result"
    }
   ],
   "source": [
    "orders_by_user = (\n",
    "    orders.groupby('visitor_id', as_index=False)\n",
    "    .agg({'transaction_id': 'nunique'})\n",
    ")\n",
    "\n",
    "orders_by_user.columns = ['visitor_id', 'orders']\n",
    "\n",
    "orders_by_user.sort_values(by='orders', ascending=False).head(10)"
   ]
  },
  {
   "cell_type": "code",
   "execution_count": 54,
   "metadata": {},
   "outputs": [
    {
     "data": {
      "image/png": "[encoded data removed]",
      "text/plain": [
       "<Figure size 432x288 with 1 Axes>"
      ]
     },
     "metadata": {
      "needs_background": "light"
     },
     "output_type": "display_data"
    }
   ],
   "source": [
    "x_values = pd.Series(range(0,len(orders_by_user)))\n",
    "\n",
    "plt.scatter(x_values, orders_by_user['orders']) \n",
    "plt.ylabel(\"Количество заказов\")\n",
    "plt.title(\"Точечный график количества заказов по пользователям\")\n",
    "plt.xticks(rotation=45)\n",
    "plt.show();"
   ]
  },
  {
   "cell_type": "markdown",
   "metadata": {},
   "source": [
    "**Выводы:**\n",
    "\n",
    "Судя по графику, большинство пользователей делают 1-2 заказа. Однако на графике есть пользователи, которые сделали больше 8 заказов - пока непонятно, являются ли они аномалиями или нет."
   ]
  },
  {
   "cell_type": "markdown",
   "metadata": {},
   "source": [
    "## 95-й и 99-й перцентили количества заказов на пользователя. Граница для определения аномальных пользователей"
   ]
  },
  {
   "cell_type": "code",
   "execution_count": 55,
   "metadata": {},
   "outputs": [
    {
     "data": {
      "text/plain": [
       "'95-ый перцентиль: 2.00'"
      ]
     },
     "metadata": {},
     "output_type": "display_data"
    },
    {
     "data": {
      "text/plain": [
       "'99-ый перцентиль: 4.00'"
      ]
     },
     "metadata": {},
     "output_type": "display_data"
    }
   ],
   "source": [
    "display('95-ый перцентиль: %.2f' % (np.percentile(orders_by_user['orders'], [95])))\n",
    "display('99-ый перцентиль: %.2f' % (np.percentile(orders_by_user['orders'], [99])))"
   ]
  },
  {
   "cell_type": "markdown",
   "metadata": {},
   "source": [
    "Не более 5% пользователей оформляли больше чем 2 заказа. И 1% пользователей сделали 4 и более заказов.\n",
    "\n",
    "Разумно выбрать 4 заказа на одного пользователя за верхнюю границу числа заказов, и избавиться от аномальных пользователей по ней."
   ]
  },
  {
   "cell_type": "code",
   "execution_count": 56,
   "metadata": {},
   "outputs": [
    {
     "data": {
      "text/plain": [
       "[199603092,\n",
       " 237748145,\n",
       " 457167155,\n",
       " 1230306981,\n",
       " 1614305549,\n",
       " 2038680547,\n",
       " 2378935119,\n",
       " 2458001652,\n",
       " 2587333274,\n",
       " 3062433592,\n",
       " 3717692402,\n",
       " 3803269165,\n",
       " 4256040402]"
      ]
     },
     "execution_count": 56,
     "metadata": {},
     "output_type": "execute_result"
    }
   ],
   "source": [
    "abnormal_quantity = orders_by_user.query('orders >= 4')['visitor_id'].to_list()\n",
    "abnormal_quantity"
   ]
  },
  {
   "cell_type": "markdown",
   "metadata": {},
   "source": [
    "## Точечный график стоимостей заказов. Выводы и предположения"
   ]
  },
  {
   "cell_type": "markdown",
   "metadata": {},
   "source": [
    "Построим точечный график стоимостей заказов:"
   ]
  },
  {
   "cell_type": "code",
   "execution_count": 57,
   "metadata": {},
   "outputs": [
    {
     "data": {
      "image/png": "[encoded data removed]",
      "text/plain": [
       "<Figure size 432x288 with 1 Axes>"
      ]
     },
     "metadata": {
      "needs_background": "light"
     },
     "output_type": "display_data"
    }
   ],
   "source": [
    "x_values = pd.Series(range(0,len(orders['revenue'])))\n",
    "plt.scatter(x_values, orders['revenue']) \n",
    "plt.ylabel(\"Стоимость заказа\")\n",
    "plt.title(\"Точечный график стоимостей заказов\")\n",
    "plt.xticks(rotation=45)\n",
    "plt.show();"
   ]
  },
  {
   "cell_type": "markdown",
   "metadata": {},
   "source": [
    "**Выводы:**\n",
    "\n",
    "На графике имеются два выброса - позднее определим их точно и избавимся от них."
   ]
  },
  {
   "cell_type": "markdown",
   "metadata": {},
   "source": [
    "##  95-й и 99-й перцентили стоимости заказов. Граница для определения аномальных заказов"
   ]
  },
  {
   "cell_type": "code",
   "execution_count": 58,
   "metadata": {},
   "outputs": [
    {
     "data": {
      "text/plain": [
       "'95-ый перцентиль: 28000.00'"
      ]
     },
     "metadata": {},
     "output_type": "display_data"
    },
    {
     "data": {
      "text/plain": [
       "'99-ый перцентиль: 58233.20'"
      ]
     },
     "metadata": {},
     "output_type": "display_data"
    }
   ],
   "source": [
    "display('95-ый перцентиль: %.2f' % (np.percentile(orders['revenue'], [95])))\n",
    "display('99-ый перцентиль: %.2f' % (np.percentile(orders['revenue'], [99])))"
   ]
  },
  {
   "cell_type": "markdown",
   "metadata": {},
   "source": [
    "Не более 5% заказов дороже 28000.00 рублей и не более 1% дороже 58233.20 рублей. Все, что дороже 58233.20 рублей - аномалия."
   ]
  },
  {
   "cell_type": "markdown",
   "metadata": {},
   "source": [
    "## Статистическую значимость различий в среднем количестве заказов на посетителя между группами по «сырым» данным. Выводы и предположения"
   ]
  },
  {
   "cell_type": "markdown",
   "metadata": {},
   "source": [
    "Подготовим данные для проведения статистического теста:"
   ]
  },
  {
   "cell_type": "code",
   "execution_count": 59,
   "metadata": {},
   "outputs": [
    {
     "data": {
      "text/html": [
       "<div>\n",
       "<style scoped>\n",
       "    .dataframe tbody tr th:only-of-type {\n",
       "        vertical-align: middle;\n",
       "    }\n",
       "\n",
       "    .dataframe tbody tr th {\n",
       "        vertical-align: top;\n",
       "    }\n",
       "\n",
       "    .dataframe thead th {\n",
       "        text-align: right;\n",
       "    }\n",
       "</style>\n",
       "<table border=\"1\" class=\"dataframe\">\n",
       "  <thead>\n",
       "    <tr style=\"text-align: right;\">\n",
       "      <th></th>\n",
       "      <th>date</th>\n",
       "      <th>group</th>\n",
       "      <th>visitors</th>\n",
       "    </tr>\n",
       "  </thead>\n",
       "  <tbody>\n",
       "    <tr>\n",
       "      <th>0</th>\n",
       "      <td>2019-08-01</td>\n",
       "      <td>A</td>\n",
       "      <td>719</td>\n",
       "    </tr>\n",
       "    <tr>\n",
       "      <th>1</th>\n",
       "      <td>2019-08-02</td>\n",
       "      <td>A</td>\n",
       "      <td>619</td>\n",
       "    </tr>\n",
       "    <tr>\n",
       "      <th>2</th>\n",
       "      <td>2019-08-03</td>\n",
       "      <td>A</td>\n",
       "      <td>507</td>\n",
       "    </tr>\n",
       "    <tr>\n",
       "      <th>3</th>\n",
       "      <td>2019-08-04</td>\n",
       "      <td>A</td>\n",
       "      <td>717</td>\n",
       "    </tr>\n",
       "    <tr>\n",
       "      <th>4</th>\n",
       "      <td>2019-08-05</td>\n",
       "      <td>A</td>\n",
       "      <td>756</td>\n",
       "    </tr>\n",
       "    <tr>\n",
       "      <th>...</th>\n",
       "      <td>...</td>\n",
       "      <td>...</td>\n",
       "      <td>...</td>\n",
       "    </tr>\n",
       "    <tr>\n",
       "      <th>57</th>\n",
       "      <td>2019-08-27</td>\n",
       "      <td>B</td>\n",
       "      <td>720</td>\n",
       "    </tr>\n",
       "    <tr>\n",
       "      <th>58</th>\n",
       "      <td>2019-08-28</td>\n",
       "      <td>B</td>\n",
       "      <td>654</td>\n",
       "    </tr>\n",
       "    <tr>\n",
       "      <th>59</th>\n",
       "      <td>2019-08-29</td>\n",
       "      <td>B</td>\n",
       "      <td>531</td>\n",
       "    </tr>\n",
       "    <tr>\n",
       "      <th>60</th>\n",
       "      <td>2019-08-30</td>\n",
       "      <td>B</td>\n",
       "      <td>490</td>\n",
       "    </tr>\n",
       "    <tr>\n",
       "      <th>61</th>\n",
       "      <td>2019-08-31</td>\n",
       "      <td>B</td>\n",
       "      <td>718</td>\n",
       "    </tr>\n",
       "  </tbody>\n",
       "</table>\n",
       "<p>62 rows × 3 columns</p>\n",
       "</div>"
      ],
      "text/plain": [
       "         date group  visitors\n",
       "0  2019-08-01     A       719\n",
       "1  2019-08-02     A       619\n",
       "2  2019-08-03     A       507\n",
       "3  2019-08-04     A       717\n",
       "4  2019-08-05     A       756\n",
       "..        ...   ...       ...\n",
       "57 2019-08-27     B       720\n",
       "58 2019-08-28     B       654\n",
       "59 2019-08-29     B       531\n",
       "60 2019-08-30     B       490\n",
       "61 2019-08-31     B       718\n",
       "\n",
       "[62 rows x 3 columns]"
      ]
     },
     "execution_count": 59,
     "metadata": {},
     "output_type": "execute_result"
    }
   ],
   "source": [
    "visitors"
   ]
  },
  {
   "cell_type": "code",
   "execution_count": 60,
   "metadata": {},
   "outputs": [
    {
     "data": {
      "text/html": [
       "<div>\n",
       "<style scoped>\n",
       "    .dataframe tbody tr th:only-of-type {\n",
       "        vertical-align: middle;\n",
       "    }\n",
       "\n",
       "    .dataframe tbody tr th {\n",
       "        vertical-align: top;\n",
       "    }\n",
       "\n",
       "    .dataframe thead th {\n",
       "        text-align: right;\n",
       "    }\n",
       "</style>\n",
       "<table border=\"1\" class=\"dataframe\">\n",
       "  <thead>\n",
       "    <tr style=\"text-align: right;\">\n",
       "      <th></th>\n",
       "      <th>transaction_id</th>\n",
       "    </tr>\n",
       "    <tr>\n",
       "      <th>group</th>\n",
       "      <th></th>\n",
       "    </tr>\n",
       "  </thead>\n",
       "  <tbody>\n",
       "    <tr>\n",
       "      <th>A</th>\n",
       "      <td>557</td>\n",
       "    </tr>\n",
       "    <tr>\n",
       "      <th>B</th>\n",
       "      <td>640</td>\n",
       "    </tr>\n",
       "  </tbody>\n",
       "</table>\n",
       "</div>"
      ],
      "text/plain": [
       "       transaction_id\n",
       "group                \n",
       "A                 557\n",
       "B                 640"
      ]
     },
     "execution_count": 60,
     "metadata": {},
     "output_type": "execute_result"
    }
   ],
   "source": [
    "orders_per_group = orders.groupby('group').agg({'transaction_id': 'count'})\n",
    "orders_per_group"
   ]
  },
  {
   "cell_type": "code",
   "execution_count": 61,
   "metadata": {},
   "outputs": [
    {
     "data": {
      "text/html": [
       "<div>\n",
       "<style scoped>\n",
       "    .dataframe tbody tr th:only-of-type {\n",
       "        vertical-align: middle;\n",
       "    }\n",
       "\n",
       "    .dataframe tbody tr th {\n",
       "        vertical-align: top;\n",
       "    }\n",
       "\n",
       "    .dataframe thead th {\n",
       "        text-align: right;\n",
       "    }\n",
       "</style>\n",
       "<table border=\"1\" class=\"dataframe\">\n",
       "  <thead>\n",
       "    <tr style=\"text-align: right;\">\n",
       "      <th></th>\n",
       "      <th>visitors</th>\n",
       "    </tr>\n",
       "    <tr>\n",
       "      <th>group</th>\n",
       "      <th></th>\n",
       "    </tr>\n",
       "  </thead>\n",
       "  <tbody>\n",
       "    <tr>\n",
       "      <th>A</th>\n",
       "      <td>18736</td>\n",
       "    </tr>\n",
       "    <tr>\n",
       "      <th>B</th>\n",
       "      <td>18916</td>\n",
       "    </tr>\n",
       "  </tbody>\n",
       "</table>\n",
       "</div>"
      ],
      "text/plain": [
       "       visitors\n",
       "group          \n",
       "A         18736\n",
       "B         18916"
      ]
     },
     "execution_count": 61,
     "metadata": {},
     "output_type": "execute_result"
    }
   ],
   "source": [
    "total_visitors = visitors.groupby('group').agg({'visitors': 'sum'})\n",
    "total_visitors"
   ]
  },
  {
   "cell_type": "code",
   "execution_count": 62,
   "metadata": {},
   "outputs": [
    {
     "data": {
      "text/html": [
       "<div>\n",
       "<style scoped>\n",
       "    .dataframe tbody tr th:only-of-type {\n",
       "        vertical-align: middle;\n",
       "    }\n",
       "\n",
       "    .dataframe tbody tr th {\n",
       "        vertical-align: top;\n",
       "    }\n",
       "\n",
       "    .dataframe thead th {\n",
       "        text-align: right;\n",
       "    }\n",
       "</style>\n",
       "<table border=\"1\" class=\"dataframe\">\n",
       "  <thead>\n",
       "    <tr style=\"text-align: right;\">\n",
       "      <th></th>\n",
       "      <th>group</th>\n",
       "      <th>transaction_id</th>\n",
       "      <th>visitors</th>\n",
       "    </tr>\n",
       "  </thead>\n",
       "  <tbody>\n",
       "    <tr>\n",
       "      <th>0</th>\n",
       "      <td>A</td>\n",
       "      <td>557</td>\n",
       "      <td>18736</td>\n",
       "    </tr>\n",
       "    <tr>\n",
       "      <th>1</th>\n",
       "      <td>B</td>\n",
       "      <td>640</td>\n",
       "      <td>18916</td>\n",
       "    </tr>\n",
       "  </tbody>\n",
       "</table>\n",
       "</div>"
      ],
      "text/plain": [
       "  group  transaction_id  visitors\n",
       "0     A             557     18736\n",
       "1     B             640     18916"
      ]
     },
     "execution_count": 62,
     "metadata": {},
     "output_type": "execute_result"
    }
   ],
   "source": [
    "orders_per_group = orders_per_group.merge(total_visitors, on='group', how='left').reset_index()\n",
    "orders_per_group"
   ]
  },
  {
   "cell_type": "code",
   "execution_count": 63,
   "metadata": {},
   "outputs": [
    {
     "data": {
      "text/html": [
       "<div>\n",
       "<style scoped>\n",
       "    .dataframe tbody tr th:only-of-type {\n",
       "        vertical-align: middle;\n",
       "    }\n",
       "\n",
       "    .dataframe tbody tr th {\n",
       "        vertical-align: top;\n",
       "    }\n",
       "\n",
       "    .dataframe thead th {\n",
       "        text-align: right;\n",
       "    }\n",
       "</style>\n",
       "<table border=\"1\" class=\"dataframe\">\n",
       "  <thead>\n",
       "    <tr style=\"text-align: right;\">\n",
       "      <th></th>\n",
       "      <th>group</th>\n",
       "      <th>transaction_id</th>\n",
       "      <th>visitors</th>\n",
       "      <th>conversion</th>\n",
       "    </tr>\n",
       "  </thead>\n",
       "  <tbody>\n",
       "    <tr>\n",
       "      <th>0</th>\n",
       "      <td>A</td>\n",
       "      <td>557</td>\n",
       "      <td>18736</td>\n",
       "      <td>0.030</td>\n",
       "    </tr>\n",
       "    <tr>\n",
       "      <th>1</th>\n",
       "      <td>B</td>\n",
       "      <td>640</td>\n",
       "      <td>18916</td>\n",
       "      <td>0.034</td>\n",
       "    </tr>\n",
       "  </tbody>\n",
       "</table>\n",
       "</div>"
      ],
      "text/plain": [
       "  group  transaction_id  visitors  conversion\n",
       "0     A             557     18736       0.030\n",
       "1     B             640     18916       0.034"
      ]
     },
     "execution_count": 63,
     "metadata": {},
     "output_type": "execute_result"
    }
   ],
   "source": [
    "orders_per_group['conversion'] = round(orders_per_group['transaction_id']/orders_per_group['visitors'], 3)\n",
    "orders_per_group"
   ]
  },
  {
   "cell_type": "markdown",
   "metadata": {},
   "source": [
    "**Для проверки гипотезы о равенстве долей применем Z-критерий:**"
   ]
  },
  {
   "cell_type": "markdown",
   "metadata": {},
   "source": [
    "**H0:** Статистически значимых отличий в среднем количестве заказов между группами нет.\\\n",
    "**H1:** Статистически знаяимые отличия между средним количеством заказов между группами есть."
   ]
  },
  {
   "cell_type": "code",
   "execution_count": 64,
   "metadata": {},
   "outputs": [
    {
     "name": "stdout",
     "output_type": "stream",
     "text": [
      "p-значение:  0.02320723394441848\n",
      "Отвергаем нулевую гипотезу: между долями есть значимая разница\n"
     ]
    }
   ],
   "source": [
    "alpha = 0.05\n",
    "\n",
    "transactions = orders_per_group['transaction_id']\n",
    "visitors = orders_per_group['visitors']\n",
    "\n",
    "p1 = transactions[0]/visitors[0]\n",
    "\n",
    "p2 = transactions[1]/visitors[1]\n",
    "\n",
    "p_combined = (transactions[0] + transactions[1]) / (visitors[0] + visitors[1])\n",
    "\n",
    "difference = p1 - p2 \n",
    "\n",
    "z_value = difference / mth.sqrt(p_combined * (1 - p_combined) * (1/visitors[0] + 1/visitors[1]))\n",
    "\n",
    "distr = st.norm(0, 1) \n",
    "\n",
    "p_value = (1 - distr.cdf(abs(z_value))) * 2\n",
    "\n",
    "print('p-значение: ', p_value)\n",
    "\n",
    "if p_value < alpha:\n",
    "    print('Отвергаем нулевую гипотезу: между долями есть значимая разница')\n",
    "else:\n",
    "    print(\n",
    "        'Не получилось отвергнуть нулевую гипотезу, нет оснований считать доли разными'\n",
    "    )"
   ]
  },
  {
   "cell_type": "markdown",
   "metadata": {},
   "source": [
    "**Вывод:**\n",
    "\n",
    "Значение pvalue гораздо меньше 0.05, поэтому мы отвергаем нулевую гипотезу. Анализ «сырых данных» показывает, что среднее количество заказов на постетителя в группе A значимо отличается от среднего количества заказов на постетителя в группе B. \n",
    "Далее необходимо сравнить средние чеки по «сырым данным», а затем обе метрики ещё раз после удаления выбросов."
   ]
  },
  {
   "cell_type": "markdown",
   "metadata": {},
   "source": [
    "## Статистическая значимость различий в среднем чеке заказа между группами по «сырым» данным. Выводы и предположения"
   ]
  },
  {
   "cell_type": "markdown",
   "metadata": {},
   "source": [
    "Поскольку в данных по выручке есть большие выбросы воспользуемся непараметрическим тестом Уилкоксона-Манна-Уитни."
   ]
  },
  {
   "cell_type": "markdown",
   "metadata": {},
   "source": [
    "**Для проверки гипотезы о равенстве долей Непараметрический тест Уилкоксона-Манна-Уитни:**"
   ]
  },
  {
   "cell_type": "markdown",
   "metadata": {},
   "source": [
    "**H0:** Средний чек заказа в группе A равен среднему чеку заказа в группе B\\\n",
    "**H1:** Средний чек заказа в группе A не равен среднему чеку заказа в группе B"
   ]
  },
  {
   "cell_type": "code",
   "execution_count": 65,
   "metadata": {},
   "outputs": [
    {
     "name": "stdout",
     "output_type": "stream",
     "text": [
      "p-значение:  0.7292909855432458\n",
      "Не получилось отвергнуть нулевую гипотезу, вывод о различии сделать нельзя\n"
     ]
    }
   ],
   "source": [
    "alpha = 0.05\n",
    "orders_group_a = orders[orders['group']=='A']['revenue']\n",
    "orders_group_b = orders[orders['group']=='B']['revenue']\n",
    "\n",
    "results = st.mannwhitneyu(orders_group_a, orders_group_b)\n",
    "\n",
    "pvalue = results.pvalue\n",
    "\n",
    "print('p-значение: ', pvalue)\n",
    "\n",
    "if pvalue < alpha:\n",
    "    print('Отвергаем нулевую гипотезу: разница статистически значима')\n",
    "else:\n",
    "    print(\n",
    "        'Не получилось отвергнуть нулевую гипотезу, вывод о различии сделать нельзя'\n",
    "    ) "
   ]
  },
  {
   "cell_type": "markdown",
   "metadata": {},
   "source": [
    "**Вывод:**\n",
    "\n",
    "P-value больше 0.05 — статистически значимых отличий в среднем чеке между группами нет."
   ]
  },
  {
   "cell_type": "code",
   "execution_count": 66,
   "metadata": {},
   "outputs": [
    {
     "data": {
      "text/plain": [
       "7333.578096947936"
      ]
     },
     "execution_count": 66,
     "metadata": {},
     "output_type": "execute_result"
    }
   ],
   "source": [
    "orders[orders['group']=='A']['revenue'].mean()"
   ]
  },
  {
   "cell_type": "code",
   "execution_count": 67,
   "metadata": {},
   "outputs": [
    {
     "data": {
      "text/plain": [
       "9230.875"
      ]
     },
     "execution_count": 67,
     "metadata": {},
     "output_type": "execute_result"
    }
   ],
   "source": [
    "orders[orders['group']=='B']['revenue'].mean()"
   ]
  },
  {
   "cell_type": "markdown",
   "metadata": {},
   "source": [
    "## Статистическая значимость различий в среднем количестве заказов на посетителя между группами по «очищенным» данным. Выводы и предположения"
   ]
  },
  {
   "cell_type": "markdown",
   "metadata": {},
   "source": [
    "Подготовим очищенные данные по количеству заказов на пользователя:"
   ]
  },
  {
   "cell_type": "code",
   "execution_count": 68,
   "metadata": {},
   "outputs": [
    {
     "data": {
      "text/html": [
       "<div>\n",
       "<style scoped>\n",
       "    .dataframe tbody tr th:only-of-type {\n",
       "        vertical-align: middle;\n",
       "    }\n",
       "\n",
       "    .dataframe tbody tr th {\n",
       "        vertical-align: top;\n",
       "    }\n",
       "\n",
       "    .dataframe thead th {\n",
       "        text-align: right;\n",
       "    }\n",
       "</style>\n",
       "<table border=\"1\" class=\"dataframe\">\n",
       "  <thead>\n",
       "    <tr style=\"text-align: right;\">\n",
       "      <th></th>\n",
       "      <th>transaction_id</th>\n",
       "      <th>visitor_id</th>\n",
       "      <th>date</th>\n",
       "      <th>revenue</th>\n",
       "      <th>group</th>\n",
       "    </tr>\n",
       "  </thead>\n",
       "  <tbody>\n",
       "    <tr>\n",
       "      <th>0</th>\n",
       "      <td>3667963787</td>\n",
       "      <td>3312258926</td>\n",
       "      <td>2019-08-15</td>\n",
       "      <td>1650</td>\n",
       "      <td>B</td>\n",
       "    </tr>\n",
       "    <tr>\n",
       "      <th>1</th>\n",
       "      <td>2804400009</td>\n",
       "      <td>3642806036</td>\n",
       "      <td>2019-08-15</td>\n",
       "      <td>730</td>\n",
       "      <td>B</td>\n",
       "    </tr>\n",
       "    <tr>\n",
       "      <th>2</th>\n",
       "      <td>2961555356</td>\n",
       "      <td>4069496402</td>\n",
       "      <td>2019-08-15</td>\n",
       "      <td>400</td>\n",
       "      <td>A</td>\n",
       "    </tr>\n",
       "    <tr>\n",
       "      <th>3</th>\n",
       "      <td>3797467345</td>\n",
       "      <td>1196621759</td>\n",
       "      <td>2019-08-15</td>\n",
       "      <td>9759</td>\n",
       "      <td>B</td>\n",
       "    </tr>\n",
       "    <tr>\n",
       "      <th>4</th>\n",
       "      <td>2282983706</td>\n",
       "      <td>2322279887</td>\n",
       "      <td>2019-08-15</td>\n",
       "      <td>2308</td>\n",
       "      <td>B</td>\n",
       "    </tr>\n",
       "    <tr>\n",
       "      <th>...</th>\n",
       "      <td>...</td>\n",
       "      <td>...</td>\n",
       "      <td>...</td>\n",
       "      <td>...</td>\n",
       "      <td>...</td>\n",
       "    </tr>\n",
       "    <tr>\n",
       "      <th>1191</th>\n",
       "      <td>3592955527</td>\n",
       "      <td>608641596</td>\n",
       "      <td>2019-08-14</td>\n",
       "      <td>16490</td>\n",
       "      <td>B</td>\n",
       "    </tr>\n",
       "    <tr>\n",
       "      <th>1192</th>\n",
       "      <td>2662137336</td>\n",
       "      <td>3733762160</td>\n",
       "      <td>2019-08-14</td>\n",
       "      <td>6490</td>\n",
       "      <td>B</td>\n",
       "    </tr>\n",
       "    <tr>\n",
       "      <th>1193</th>\n",
       "      <td>2203539145</td>\n",
       "      <td>370388673</td>\n",
       "      <td>2019-08-14</td>\n",
       "      <td>3190</td>\n",
       "      <td>A</td>\n",
       "    </tr>\n",
       "    <tr>\n",
       "      <th>1194</th>\n",
       "      <td>1807773912</td>\n",
       "      <td>573423106</td>\n",
       "      <td>2019-08-14</td>\n",
       "      <td>10550</td>\n",
       "      <td>A</td>\n",
       "    </tr>\n",
       "    <tr>\n",
       "      <th>1196</th>\n",
       "      <td>3936777065</td>\n",
       "      <td>2108080724</td>\n",
       "      <td>2019-08-15</td>\n",
       "      <td>202740</td>\n",
       "      <td>B</td>\n",
       "    </tr>\n",
       "  </tbody>\n",
       "</table>\n",
       "<p>1116 rows × 5 columns</p>\n",
       "</div>"
      ],
      "text/plain": [
       "      transaction_id  visitor_id       date  revenue group\n",
       "0         3667963787  3312258926 2019-08-15     1650     B\n",
       "1         2804400009  3642806036 2019-08-15      730     B\n",
       "2         2961555356  4069496402 2019-08-15      400     A\n",
       "3         3797467345  1196621759 2019-08-15     9759     B\n",
       "4         2282983706  2322279887 2019-08-15     2308     B\n",
       "...              ...         ...        ...      ...   ...\n",
       "1191      3592955527   608641596 2019-08-14    16490     B\n",
       "1192      2662137336  3733762160 2019-08-14     6490     B\n",
       "1193      2203539145   370388673 2019-08-14     3190     A\n",
       "1194      1807773912   573423106 2019-08-14    10550     A\n",
       "1196      3936777065  2108080724 2019-08-15   202740     B\n",
       "\n",
       "[1116 rows x 5 columns]"
      ]
     },
     "execution_count": 68,
     "metadata": {},
     "output_type": "execute_result"
    }
   ],
   "source": [
    "orders_filtered = orders[~orders['visitor_id'].isin(abnormal_quantity)]\n",
    "orders_filtered"
   ]
  },
  {
   "cell_type": "code",
   "execution_count": 69,
   "metadata": {},
   "outputs": [
    {
     "data": {
      "text/html": [
       "<div>\n",
       "<style scoped>\n",
       "    .dataframe tbody tr th:only-of-type {\n",
       "        vertical-align: middle;\n",
       "    }\n",
       "\n",
       "    .dataframe tbody tr th {\n",
       "        vertical-align: top;\n",
       "    }\n",
       "\n",
       "    .dataframe thead th {\n",
       "        text-align: right;\n",
       "    }\n",
       "</style>\n",
       "<table border=\"1\" class=\"dataframe\">\n",
       "  <thead>\n",
       "    <tr style=\"text-align: right;\">\n",
       "      <th></th>\n",
       "      <th>transaction_id</th>\n",
       "    </tr>\n",
       "    <tr>\n",
       "      <th>group</th>\n",
       "      <th></th>\n",
       "    </tr>\n",
       "  </thead>\n",
       "  <tbody>\n",
       "    <tr>\n",
       "      <th>A</th>\n",
       "      <td>517</td>\n",
       "    </tr>\n",
       "    <tr>\n",
       "      <th>B</th>\n",
       "      <td>599</td>\n",
       "    </tr>\n",
       "  </tbody>\n",
       "</table>\n",
       "</div>"
      ],
      "text/plain": [
       "       transaction_id\n",
       "group                \n",
       "A                 517\n",
       "B                 599"
      ]
     },
     "execution_count": 69,
     "metadata": {},
     "output_type": "execute_result"
    }
   ],
   "source": [
    "orders_per_group_filtered = orders_filtered.groupby('group').agg({'transaction_id': 'count'})\n",
    "orders_per_group_filtered"
   ]
  },
  {
   "cell_type": "code",
   "execution_count": 70,
   "metadata": {},
   "outputs": [
    {
     "data": {
      "text/html": [
       "<div>\n",
       "<style scoped>\n",
       "    .dataframe tbody tr th:only-of-type {\n",
       "        vertical-align: middle;\n",
       "    }\n",
       "\n",
       "    .dataframe tbody tr th {\n",
       "        vertical-align: top;\n",
       "    }\n",
       "\n",
       "    .dataframe thead th {\n",
       "        text-align: right;\n",
       "    }\n",
       "</style>\n",
       "<table border=\"1\" class=\"dataframe\">\n",
       "  <thead>\n",
       "    <tr style=\"text-align: right;\">\n",
       "      <th></th>\n",
       "      <th>group</th>\n",
       "      <th>transaction_id</th>\n",
       "      <th>visitors</th>\n",
       "    </tr>\n",
       "  </thead>\n",
       "  <tbody>\n",
       "    <tr>\n",
       "      <th>0</th>\n",
       "      <td>A</td>\n",
       "      <td>517</td>\n",
       "      <td>18736</td>\n",
       "    </tr>\n",
       "    <tr>\n",
       "      <th>1</th>\n",
       "      <td>B</td>\n",
       "      <td>599</td>\n",
       "      <td>18916</td>\n",
       "    </tr>\n",
       "  </tbody>\n",
       "</table>\n",
       "</div>"
      ],
      "text/plain": [
       "  group  transaction_id  visitors\n",
       "0     A             517     18736\n",
       "1     B             599     18916"
      ]
     },
     "execution_count": 70,
     "metadata": {},
     "output_type": "execute_result"
    }
   ],
   "source": [
    "orders_per_group_filtered = orders_per_group_filtered.merge(total_visitors, on='group', how='left').reset_index()\n",
    "orders_per_group_filtered"
   ]
  },
  {
   "cell_type": "code",
   "execution_count": 71,
   "metadata": {},
   "outputs": [],
   "source": [
    "orders_per_group_filtered['conversion'] = orders_per_group_filtered['transaction_id'] / orders_per_group_filtered['visitors']"
   ]
  },
  {
   "cell_type": "code",
   "execution_count": 72,
   "metadata": {},
   "outputs": [
    {
     "data": {
      "text/html": [
       "<div>\n",
       "<style scoped>\n",
       "    .dataframe tbody tr th:only-of-type {\n",
       "        vertical-align: middle;\n",
       "    }\n",
       "\n",
       "    .dataframe tbody tr th {\n",
       "        vertical-align: top;\n",
       "    }\n",
       "\n",
       "    .dataframe thead th {\n",
       "        text-align: right;\n",
       "    }\n",
       "</style>\n",
       "<table border=\"1\" class=\"dataframe\">\n",
       "  <thead>\n",
       "    <tr style=\"text-align: right;\">\n",
       "      <th></th>\n",
       "      <th>group</th>\n",
       "      <th>transaction_id</th>\n",
       "      <th>visitors</th>\n",
       "      <th>conversion</th>\n",
       "    </tr>\n",
       "  </thead>\n",
       "  <tbody>\n",
       "    <tr>\n",
       "      <th>0</th>\n",
       "      <td>A</td>\n",
       "      <td>517</td>\n",
       "      <td>18736</td>\n",
       "      <td>0.027594</td>\n",
       "    </tr>\n",
       "    <tr>\n",
       "      <th>1</th>\n",
       "      <td>B</td>\n",
       "      <td>599</td>\n",
       "      <td>18916</td>\n",
       "      <td>0.031666</td>\n",
       "    </tr>\n",
       "  </tbody>\n",
       "</table>\n",
       "</div>"
      ],
      "text/plain": [
       "  group  transaction_id  visitors  conversion\n",
       "0     A             517     18736    0.027594\n",
       "1     B             599     18916    0.031666"
      ]
     },
     "execution_count": 72,
     "metadata": {},
     "output_type": "execute_result"
    }
   ],
   "source": [
    "orders_per_group_filtered"
   ]
  },
  {
   "cell_type": "markdown",
   "metadata": {},
   "source": [
    "**Для проверки гипотезы о равенстве долей применем Z-критерий:**"
   ]
  },
  {
   "cell_type": "markdown",
   "metadata": {},
   "source": [
    "**H0:** Среднее количество заказов на постетителя в группе A равно среднему количеству заказов на постетителя в группе B\\\n",
    "**H1:** Среднее количество заказов на постетителя в группе A не равно среднему количеству заказов на постетителя в группе B"
   ]
  },
  {
   "cell_type": "code",
   "execution_count": 73,
   "metadata": {},
   "outputs": [
    {
     "name": "stdout",
     "output_type": "stream",
     "text": [
      "p-значение:  0.019821291468021807\n",
      "Отвергаем нулевую гипотезу: между долями есть значимая разница\n"
     ]
    }
   ],
   "source": [
    "alpha = 0.05\n",
    "\n",
    "transactions = orders_per_group_filtered['transaction_id']\n",
    "visitors = orders_per_group_filtered['visitors']\n",
    "\n",
    "p1 = transactions[0]/visitors[0]\n",
    "\n",
    "p2 = transactions[1]/visitors[1]\n",
    "\n",
    "p_combined = (transactions[0] + transactions[1]) / (visitors[0] + visitors[1])\n",
    "\n",
    "difference = p1 - p2 \n",
    "\n",
    "z_value = difference / mth.sqrt(p_combined * (1 - p_combined) * (1/visitors[0] + 1/visitors[1]))\n",
    "\n",
    "distr = st.norm(0, 1) \n",
    "\n",
    "p_value = (1 - distr.cdf(abs(z_value))) * 2\n",
    "\n",
    "print('p-значение: ', p_value)\n",
    "\n",
    "if p_value < alpha:\n",
    "    print('Отвергаем нулевую гипотезу: между долями есть значимая разница')\n",
    "else:\n",
    "    print(\n",
    "        'Не получилось отвергнуть нулевую гипотезу, нет оснований считать доли разными'\n",
    "    )"
   ]
  },
  {
   "cell_type": "markdown",
   "metadata": {},
   "source": [
    "**Вывод:**\n",
    "\n",
    "Значение pvalue гораздо меньше 0.05, поэтому мы отвергаем нулевую гипотезу. Анализ «очищенных данных» также показывает, что среднее количество заказов на постетителя в группе A значимо отличается от среднего количества заказов на постетителя в группе B. \n",
    "\n",
    "Таким образом конверсия в группе B значимо выше конверсии в группе A."
   ]
  },
  {
   "cell_type": "markdown",
   "metadata": {},
   "source": [
    "## Cтатистическая значимость различий в среднем чеке заказа между группами по «очищенным» данным. Выводы и предположения"
   ]
  },
  {
   "cell_type": "markdown",
   "metadata": {},
   "source": [
    "Очистим данные от аномально крупных по сумме заказов:"
   ]
  },
  {
   "cell_type": "code",
   "execution_count": 74,
   "metadata": {},
   "outputs": [],
   "source": [
    "filtered_revenue =orders.query('revenue <= 58233')"
   ]
  },
  {
   "cell_type": "markdown",
   "metadata": {},
   "source": [
    "**Для проверки гипотезы о равенстве долей Непараметрический тест Уилкоксона-Манна-Уитни:**"
   ]
  },
  {
   "cell_type": "markdown",
   "metadata": {},
   "source": [
    "**H0:** Средний чек заказа в группе A равен среднему чеку заказа в группе B\\\n",
    "**H1:** Средний чек заказа в группе A не равен среднему чеку заказа в группе B"
   ]
  },
  {
   "cell_type": "code",
   "execution_count": 75,
   "metadata": {},
   "outputs": [
    {
     "name": "stdout",
     "output_type": "stream",
     "text": [
      "p-значение:  0.6208626966847455\n",
      "Не получилось отвергнуть нулевую гипотезу, вывод о различии сделать нельзя\n"
     ]
    }
   ],
   "source": [
    "alpha = 0.05\n",
    "\n",
    "orders_group_a = filtered_revenue[filtered_revenue['group']=='A']['revenue']\n",
    "orders_group_b = filtered_revenue[filtered_revenue['group']=='B']['revenue']\n",
    "\n",
    "results = st.mannwhitneyu(orders_group_a, orders_group_b, use_continuity=True)\n",
    "\n",
    "pvalue = results.pvalue\n",
    "\n",
    "print('p-значение: ', pvalue)\n",
    "\n",
    "if pvalue < alpha:\n",
    "    print('Отвергаем нулевую гипотезу: разница статистически значима')\n",
    "else:\n",
    "    print(\n",
    "        'Не получилось отвергнуть нулевую гипотезу, вывод о различии сделать нельзя'\n",
    "    ) "
   ]
  },
  {
   "cell_type": "markdown",
   "metadata": {},
   "source": [
    "**Вывод:**\n",
    "\n",
    "P-value больше 0.05 — статистически значимых отличий в среднем чеке между группами снова нет."
   ]
  },
  {
   "cell_type": "code",
   "execution_count": 76,
   "metadata": {},
   "outputs": [
    {
     "data": {
      "text/plain": [
       "6470.587272727273"
      ]
     },
     "execution_count": 76,
     "metadata": {},
     "output_type": "execute_result"
    }
   ],
   "source": [
    "filtered_revenue[filtered_revenue['group']=='A']['revenue'].mean()"
   ]
  },
  {
   "cell_type": "code",
   "execution_count": 77,
   "metadata": {},
   "outputs": [
    {
     "data": {
      "text/plain": [
       "6592.692913385827"
      ]
     },
     "execution_count": 77,
     "metadata": {},
     "output_type": "execute_result"
    }
   ],
   "source": [
    "filtered_revenue[filtered_revenue['group']=='B']['revenue'].mean()"
   ]
  },
  {
   "cell_type": "markdown",
   "metadata": {},
   "source": [
    "## Общий вывод по A/B тесту"
   ]
  },
  {
   "cell_type": "markdown",
   "metadata": {},
   "source": [
    "Анализ «очищенных данных» показал:\n",
    "- P-value гораздо меньше 0.05, что означает среднее количество заказов на постетителя в группе A значимо отличается от среднего количества заказов на постетителя в группе B. Таким обазом, конверсия в группе B значимо выше конверсии в группе A.\n",
    "- P-value больше 0.05 — статистически значимых отличий в среднем чеке между группами снова нет.\n",
    "\n",
    "Как и по \"сырым данным\" конверсия в группе B значительно лучше, чем в группе A.\n",
    "\n",
    "**Исходя из достигнутых результатов, тест следовало бы остановить и признать его успешным, поскольку при имеющихся данных сегмент B статистически значимо лучше сегмента A.**"
   ]
  },
  {
   "cell_type": "markdown",
   "metadata": {},
   "source": [
    "## Вывод"
   ]
  },
  {
   "cell_type": "markdown",
   "metadata": {},
   "source": [
    "**Результаты работы:**\n",
    "\n",
    "- Изучена общая информация об имеющихся данных, проведена предобработка;\n",
    "- проведена приоретизация гипотез по фреймворку ICE и RICE; \n",
    "- запущен и проанализирован A/B-тест;\n",
    "- составлен общий вывод по A/B-тесту.\n",
    "\n",
    "**Приоретизация гипотез показала:**\n",
    "\n",
    "- По методу ICE наиболее перспективными гипотезами по увеличению выручки являются: гипотеза 8, 0, 7. По методу RICE наиболее перспективными гипотезами являются: гипотеза 7, 2, 0.\n",
    "\n",
    "**Анализ A/B-теста позволил нам сделать следующие выводы:**\n",
    "- Выручка по группе A равномерно увеличивается в течение всего теста. Однако график выручки группы B в нескольких точках резко возрастает. Для группы A средний чек становится равномерным ближе к концу теста. Для группы B к концу теста наблюдается резкий всплеск на графике. График относительного изменения кумулятивного среднего чека группы B к группе A а конце теста стабилизруется на положительному значении.\n",
    "- По группе А кумулятивное количество заказов к концу теста стабилизируется на уровне 0.030. По группе B этот показатель лучше - здесь количество заказов на посетителя стабилизируется на уровне 0.034. Сначала группа B уступала группе A по количеству заказов на посетителя, а потом резко вырвалась вперед и продолжает сохранять лидерство до конца теста. Большинство пользователей делают 1-2 заказа.\n",
    "- Не более 5% пользователей оформляли больше чем 2 заказа. И 1% пользователей сделали 4 и более заказов. Не более 5% заказов дороже 28000.00 рублей и не более 1% дороже 58233.20 рублей. Все, что дороже 58233.20 рублей - аномалия.\n",
    "- Статистический анализ (непараметрический тест Уилкоксона-Манна-Уитни), как по сырым, так и по очищенным данным показал, что статистически значимых отличий в среднем чеке между группами нет.\n",
    "- Статистический анализ (z-критерий), как по сырым, так и по очищенным данным показал, что конверсия в группе B статистически значимо лучше конверсии в группе A, что позволяет признать тест состоятельным и зафиксировать победу группы B."
   ]
  }
 ],
 "metadata": {
  "ExecuteTimeLog": [
   {
    "duration": 341,
    "start_time": "2023-11-30T19:54:54.421Z"
   },
   {
    "duration": 73,
    "start_time": "2023-11-30T19:55:15.307Z"
   },
   {
    "duration": 13,
    "start_time": "2023-11-30T19:55:21.973Z"
   },
   {
    "duration": 10,
    "start_time": "2023-11-30T19:55:35.321Z"
   },
   {
    "duration": 464,
    "start_time": "2023-11-30T19:58:16.657Z"
   },
   {
    "duration": 363,
    "start_time": "2023-11-30T19:58:51.962Z"
   },
   {
    "duration": 28,
    "start_time": "2023-11-30T19:58:53.813Z"
   },
   {
    "duration": 11,
    "start_time": "2023-11-30T19:58:54.780Z"
   },
   {
    "duration": 63,
    "start_time": "2023-11-30T20:05:57.629Z"
   },
   {
    "duration": 4,
    "start_time": "2023-11-30T20:06:18.176Z"
   },
   {
    "duration": 8,
    "start_time": "2023-11-30T20:06:26.397Z"
   },
   {
    "duration": 19,
    "start_time": "2023-11-30T20:06:37.870Z"
   },
   {
    "duration": 8,
    "start_time": "2023-11-30T20:08:02.695Z"
   },
   {
    "duration": 1587,
    "start_time": "2023-11-30T20:09:07.249Z"
   },
   {
    "duration": 3,
    "start_time": "2023-11-30T20:09:18.918Z"
   },
   {
    "duration": 7,
    "start_time": "2023-11-30T20:09:20.684Z"
   },
   {
    "duration": 3,
    "start_time": "2023-11-30T20:09:38.914Z"
   },
   {
    "duration": 34,
    "start_time": "2023-11-30T20:09:38.918Z"
   },
   {
    "duration": 11,
    "start_time": "2023-11-30T20:09:38.954Z"
   },
   {
    "duration": 5,
    "start_time": "2023-11-30T20:09:38.966Z"
   },
   {
    "duration": 15,
    "start_time": "2023-11-30T20:09:38.973Z"
   },
   {
    "duration": 13,
    "start_time": "2023-11-30T20:09:38.990Z"
   },
   {
    "duration": 8,
    "start_time": "2023-11-30T20:09:57.239Z"
   },
   {
    "duration": 7,
    "start_time": "2023-11-30T20:10:02.424Z"
   },
   {
    "duration": 7,
    "start_time": "2023-11-30T20:10:06.475Z"
   },
   {
    "duration": 15,
    "start_time": "2023-11-30T20:14:14.134Z"
   },
   {
    "duration": 11,
    "start_time": "2023-11-30T20:14:21.222Z"
   },
   {
    "duration": 140,
    "start_time": "2023-11-30T20:36:18.463Z"
   },
   {
    "duration": 11,
    "start_time": "2023-11-30T20:36:26.980Z"
   },
   {
    "duration": 8,
    "start_time": "2023-11-30T20:36:41.266Z"
   },
   {
    "duration": 10,
    "start_time": "2023-11-30T20:37:03.488Z"
   },
   {
    "duration": 8,
    "start_time": "2023-11-30T20:37:28.104Z"
   },
   {
    "duration": 11,
    "start_time": "2023-11-30T20:41:42.315Z"
   },
   {
    "duration": 3,
    "start_time": "2023-11-30T20:42:05.852Z"
   },
   {
    "duration": 29,
    "start_time": "2023-11-30T20:42:05.857Z"
   },
   {
    "duration": 11,
    "start_time": "2023-11-30T20:42:05.887Z"
   },
   {
    "duration": 15,
    "start_time": "2023-11-30T20:42:05.900Z"
   },
   {
    "duration": 15,
    "start_time": "2023-11-30T20:42:05.917Z"
   },
   {
    "duration": 27,
    "start_time": "2023-11-30T20:42:05.934Z"
   },
   {
    "duration": 54,
    "start_time": "2023-11-30T20:42:05.963Z"
   },
   {
    "duration": 9,
    "start_time": "2023-11-30T20:42:06.019Z"
   },
   {
    "duration": 22,
    "start_time": "2023-11-30T20:42:06.030Z"
   },
   {
    "duration": 27,
    "start_time": "2023-11-30T20:42:06.053Z"
   },
   {
    "duration": 23,
    "start_time": "2023-11-30T20:42:06.081Z"
   },
   {
    "duration": 12,
    "start_time": "2023-11-30T20:42:06.105Z"
   },
   {
    "duration": 8,
    "start_time": "2023-11-30T20:42:41.073Z"
   },
   {
    "duration": 5,
    "start_time": "2023-11-30T20:51:31.597Z"
   },
   {
    "duration": 10,
    "start_time": "2023-11-30T20:51:40.834Z"
   },
   {
    "duration": 9,
    "start_time": "2023-11-30T20:52:10.623Z"
   },
   {
    "duration": 2,
    "start_time": "2023-11-30T20:52:24.225Z"
   },
   {
    "duration": 28,
    "start_time": "2023-11-30T20:52:24.229Z"
   },
   {
    "duration": 8,
    "start_time": "2023-11-30T20:52:24.259Z"
   },
   {
    "duration": 5,
    "start_time": "2023-11-30T20:52:24.269Z"
   },
   {
    "duration": 10,
    "start_time": "2023-11-30T20:52:24.276Z"
   },
   {
    "duration": 11,
    "start_time": "2023-11-30T20:52:24.287Z"
   },
   {
    "duration": 59,
    "start_time": "2023-11-30T20:52:24.300Z"
   },
   {
    "duration": 9,
    "start_time": "2023-11-30T20:52:24.361Z"
   },
   {
    "duration": 12,
    "start_time": "2023-11-30T20:52:24.371Z"
   },
   {
    "duration": 8,
    "start_time": "2023-11-30T20:52:24.385Z"
   },
   {
    "duration": 12,
    "start_time": "2023-11-30T20:52:24.395Z"
   },
   {
    "duration": 9,
    "start_time": "2023-11-30T20:52:24.409Z"
   },
   {
    "duration": 15,
    "start_time": "2023-11-30T20:52:24.419Z"
   },
   {
    "duration": 9,
    "start_time": "2023-11-30T20:52:33.543Z"
   },
   {
    "duration": 4,
    "start_time": "2023-11-30T20:52:50.023Z"
   },
   {
    "duration": 9,
    "start_time": "2023-11-30T20:52:55.009Z"
   },
   {
    "duration": 7,
    "start_time": "2023-11-30T20:54:41.720Z"
   },
   {
    "duration": 6,
    "start_time": "2023-11-30T20:54:48.171Z"
   },
   {
    "duration": 10,
    "start_time": "2023-11-30T20:54:55.455Z"
   },
   {
    "duration": 5,
    "start_time": "2023-11-30T20:56:20.731Z"
   },
   {
    "duration": 9,
    "start_time": "2023-11-30T20:56:32.732Z"
   },
   {
    "duration": 9,
    "start_time": "2023-11-30T20:56:40.487Z"
   },
   {
    "duration": 9,
    "start_time": "2023-11-30T20:56:44.817Z"
   },
   {
    "duration": 346,
    "start_time": "2023-11-30T20:57:04.988Z"
   },
   {
    "duration": 7,
    "start_time": "2023-11-30T20:57:20.156Z"
   },
   {
    "duration": 6,
    "start_time": "2023-11-30T20:57:29.457Z"
   },
   {
    "duration": 4,
    "start_time": "2023-11-30T20:57:40.990Z"
   },
   {
    "duration": 4,
    "start_time": "2023-11-30T21:06:02.797Z"
   },
   {
    "duration": 12,
    "start_time": "2023-11-30T21:06:06.350Z"
   },
   {
    "duration": 1767,
    "start_time": "2023-11-30T21:10:00.840Z"
   },
   {
    "duration": 240,
    "start_time": "2023-11-30T21:10:33.944Z"
   },
   {
    "duration": 9,
    "start_time": "2023-11-30T21:11:36.285Z"
   },
   {
    "duration": 55,
    "start_time": "2023-11-30T21:11:55.985Z"
   },
   {
    "duration": 543,
    "start_time": "2023-11-30T21:11:59.235Z"
   },
   {
    "duration": 597,
    "start_time": "2023-11-30T21:12:32.256Z"
   },
   {
    "duration": 125,
    "start_time": "2023-11-30T21:13:35.811Z"
   },
   {
    "duration": 161,
    "start_time": "2023-11-30T21:14:42.189Z"
   },
   {
    "duration": 152,
    "start_time": "2023-11-30T21:14:50.027Z"
   },
   {
    "duration": 161,
    "start_time": "2023-11-30T21:14:55.405Z"
   },
   {
    "duration": 161,
    "start_time": "2023-11-30T21:15:09.160Z"
   },
   {
    "duration": 155,
    "start_time": "2023-11-30T21:15:24.679Z"
   },
   {
    "duration": 174,
    "start_time": "2023-11-30T21:15:34.278Z"
   },
   {
    "duration": 181,
    "start_time": "2023-11-30T21:15:47.348Z"
   },
   {
    "duration": 160,
    "start_time": "2023-11-30T21:16:04.298Z"
   },
   {
    "duration": 166,
    "start_time": "2023-11-30T21:16:10.432Z"
   },
   {
    "duration": 169,
    "start_time": "2023-11-30T21:16:53.553Z"
   },
   {
    "duration": 166,
    "start_time": "2023-11-30T21:17:07.072Z"
   },
   {
    "duration": 5,
    "start_time": "2023-11-30T21:28:17.396Z"
   },
   {
    "duration": 4,
    "start_time": "2023-11-30T21:28:38.869Z"
   },
   {
    "duration": 1416,
    "start_time": "2023-12-01T18:47:17.421Z"
   },
   {
    "duration": 71,
    "start_time": "2023-12-01T18:47:18.839Z"
   },
   {
    "duration": 13,
    "start_time": "2023-12-01T18:47:18.912Z"
   },
   {
    "duration": 11,
    "start_time": "2023-12-01T18:47:18.927Z"
   },
   {
    "duration": 25,
    "start_time": "2023-12-01T18:47:18.941Z"
   },
   {
    "duration": 12,
    "start_time": "2023-12-01T18:47:18.967Z"
   },
   {
    "duration": 133,
    "start_time": "2023-12-01T18:47:18.981Z"
   },
   {
    "duration": 11,
    "start_time": "2023-12-01T18:47:19.115Z"
   },
   {
    "duration": 11,
    "start_time": "2023-12-01T18:47:19.127Z"
   },
   {
    "duration": 14,
    "start_time": "2023-12-01T18:47:19.139Z"
   },
   {
    "duration": 8,
    "start_time": "2023-12-01T18:47:19.154Z"
   },
   {
    "duration": 5,
    "start_time": "2023-12-01T18:47:19.164Z"
   },
   {
    "duration": 7,
    "start_time": "2023-12-01T18:47:19.171Z"
   },
   {
    "duration": 12,
    "start_time": "2023-12-01T18:47:19.180Z"
   },
   {
    "duration": 29,
    "start_time": "2023-12-01T18:47:19.194Z"
   },
   {
    "duration": 5,
    "start_time": "2023-12-01T18:47:19.225Z"
   },
   {
    "duration": 7,
    "start_time": "2023-12-01T18:47:19.231Z"
   },
   {
    "duration": 23,
    "start_time": "2023-12-01T18:47:19.239Z"
   },
   {
    "duration": 270,
    "start_time": "2023-12-01T18:47:19.264Z"
   },
   {
    "duration": 4,
    "start_time": "2023-12-01T18:47:19.536Z"
   },
   {
    "duration": 10,
    "start_time": "2023-12-01T18:47:19.541Z"
   },
   {
    "duration": 112,
    "start_time": "2023-12-01T19:00:07.443Z"
   },
   {
    "duration": 85,
    "start_time": "2023-12-01T19:01:55.555Z"
   },
   {
    "duration": 95,
    "start_time": "2023-12-01T19:02:03.420Z"
   },
   {
    "duration": 31,
    "start_time": "2023-12-01T19:02:22.040Z"
   },
   {
    "duration": 27,
    "start_time": "2023-12-01T19:03:46.505Z"
   },
   {
    "duration": 26,
    "start_time": "2023-12-01T19:04:15.373Z"
   },
   {
    "duration": 26,
    "start_time": "2023-12-01T19:06:29.556Z"
   },
   {
    "duration": 272,
    "start_time": "2023-12-01T19:06:38.545Z"
   },
   {
    "duration": 182,
    "start_time": "2023-12-01T19:06:45.205Z"
   },
   {
    "duration": 296,
    "start_time": "2023-12-01T19:07:09.025Z"
   },
   {
    "duration": 180,
    "start_time": "2023-12-01T19:07:15.963Z"
   },
   {
    "duration": 172,
    "start_time": "2023-12-01T19:14:27.942Z"
   },
   {
    "duration": 343,
    "start_time": "2023-12-01T19:51:35.511Z"
   },
   {
    "duration": 197,
    "start_time": "2023-12-01T20:08:43.530Z"
   },
   {
    "duration": 308,
    "start_time": "2023-12-01T20:15:11.740Z"
   },
   {
    "duration": 373,
    "start_time": "2023-12-01T20:15:37.860Z"
   },
   {
    "duration": 80,
    "start_time": "2023-12-01T20:19:32.000Z"
   },
   {
    "duration": 166,
    "start_time": "2023-12-01T20:19:37.439Z"
   },
   {
    "duration": 5,
    "start_time": "2023-12-01T20:22:25.854Z"
   },
   {
    "duration": 134,
    "start_time": "2023-12-01T20:27:41.107Z"
   },
   {
    "duration": 4,
    "start_time": "2023-12-01T20:31:22.063Z"
   },
   {
    "duration": 21,
    "start_time": "2023-12-01T20:42:07.605Z"
   },
   {
    "duration": 12,
    "start_time": "2023-12-01T20:44:04.134Z"
   },
   {
    "duration": 13,
    "start_time": "2023-12-01T20:45:57.897Z"
   },
   {
    "duration": 12,
    "start_time": "2023-12-01T20:46:12.233Z"
   },
   {
    "duration": 9,
    "start_time": "2023-12-01T20:46:47.386Z"
   },
   {
    "duration": 106,
    "start_time": "2023-12-01T20:46:54.350Z"
   },
   {
    "duration": 5,
    "start_time": "2023-12-01T20:47:00.687Z"
   },
   {
    "duration": 6,
    "start_time": "2023-12-01T20:47:11.472Z"
   },
   {
    "duration": 4,
    "start_time": "2023-12-01T20:47:23.874Z"
   },
   {
    "duration": 5,
    "start_time": "2023-12-01T20:47:31.178Z"
   },
   {
    "duration": 134,
    "start_time": "2023-12-01T20:47:46.693Z"
   },
   {
    "duration": 108,
    "start_time": "2023-12-01T20:49:15.954Z"
   },
   {
    "duration": 135,
    "start_time": "2023-12-01T20:49:33.820Z"
   },
   {
    "duration": 4,
    "start_time": "2023-12-01T20:50:01.691Z"
   },
   {
    "duration": 20,
    "start_time": "2023-12-01T20:50:11.025Z"
   },
   {
    "duration": 1275,
    "start_time": "2023-12-01T20:51:58.559Z"
   },
   {
    "duration": 106,
    "start_time": "2023-12-01T20:55:24.793Z"
   },
   {
    "duration": 102,
    "start_time": "2023-12-01T20:57:02.291Z"
   },
   {
    "duration": 209,
    "start_time": "2023-12-01T20:57:43.629Z"
   },
   {
    "duration": 296,
    "start_time": "2023-12-01T20:57:50.094Z"
   },
   {
    "duration": 11,
    "start_time": "2023-12-01T21:02:57.411Z"
   },
   {
    "duration": 51,
    "start_time": "2023-12-02T16:13:28.742Z"
   },
   {
    "duration": 1273,
    "start_time": "2023-12-02T16:13:53.155Z"
   },
   {
    "duration": 71,
    "start_time": "2023-12-02T16:13:54.430Z"
   },
   {
    "duration": 12,
    "start_time": "2023-12-02T16:13:54.503Z"
   },
   {
    "duration": 7,
    "start_time": "2023-12-02T16:13:54.516Z"
   },
   {
    "duration": 15,
    "start_time": "2023-12-02T16:13:54.525Z"
   },
   {
    "duration": 10,
    "start_time": "2023-12-02T16:13:54.541Z"
   },
   {
    "duration": 127,
    "start_time": "2023-12-02T16:13:54.553Z"
   },
   {
    "duration": 11,
    "start_time": "2023-12-02T16:13:54.681Z"
   },
   {
    "duration": 11,
    "start_time": "2023-12-02T16:13:54.693Z"
   },
   {
    "duration": 9,
    "start_time": "2023-12-02T16:13:54.705Z"
   },
   {
    "duration": 8,
    "start_time": "2023-12-02T16:13:54.715Z"
   },
   {
    "duration": 5,
    "start_time": "2023-12-02T16:13:54.724Z"
   },
   {
    "duration": 4,
    "start_time": "2023-12-02T16:13:54.731Z"
   },
   {
    "duration": 9,
    "start_time": "2023-12-02T16:13:54.738Z"
   },
   {
    "duration": 10,
    "start_time": "2023-12-02T16:13:54.748Z"
   },
   {
    "duration": 6,
    "start_time": "2023-12-02T16:13:54.759Z"
   },
   {
    "duration": 3,
    "start_time": "2023-12-02T16:13:54.766Z"
   },
   {
    "duration": 12,
    "start_time": "2023-12-02T16:13:54.770Z"
   },
   {
    "duration": 301,
    "start_time": "2023-12-02T16:13:54.783Z"
   },
   {
    "duration": 5,
    "start_time": "2023-12-02T16:13:55.086Z"
   },
   {
    "duration": 5,
    "start_time": "2023-12-02T16:13:55.092Z"
   },
   {
    "duration": 283,
    "start_time": "2023-12-02T16:13:55.099Z"
   },
   {
    "duration": 176,
    "start_time": "2023-12-02T16:13:55.383Z"
   },
   {
    "duration": 175,
    "start_time": "2023-12-02T16:13:55.560Z"
   },
   {
    "duration": 301,
    "start_time": "2023-12-02T16:13:55.737Z"
   },
   {
    "duration": 187,
    "start_time": "2023-12-02T16:13:56.040Z"
   },
   {
    "duration": 287,
    "start_time": "2023-12-02T16:13:56.229Z"
   },
   {
    "duration": 9,
    "start_time": "2023-12-02T16:13:56.517Z"
   },
   {
    "duration": 115,
    "start_time": "2023-12-02T16:13:56.527Z"
   },
   {
    "duration": 5,
    "start_time": "2023-12-02T16:13:56.644Z"
   },
   {
    "duration": 193,
    "start_time": "2023-12-02T16:13:56.650Z"
   },
   {
    "duration": 4,
    "start_time": "2023-12-02T16:13:56.844Z"
   },
   {
    "duration": 73,
    "start_time": "2023-12-02T16:13:56.850Z"
   },
   {
    "duration": 0,
    "start_time": "2023-12-02T16:13:56.925Z"
   },
   {
    "duration": 0,
    "start_time": "2023-12-02T16:13:56.926Z"
   },
   {
    "duration": 0,
    "start_time": "2023-12-02T16:13:56.927Z"
   },
   {
    "duration": 0,
    "start_time": "2023-12-02T16:13:56.928Z"
   },
   {
    "duration": 11,
    "start_time": "2023-12-02T16:14:11.873Z"
   },
   {
    "duration": 20,
    "start_time": "2023-12-02T16:15:28.733Z"
   },
   {
    "duration": 40,
    "start_time": "2023-12-02T16:15:39.100Z"
   },
   {
    "duration": 11,
    "start_time": "2023-12-02T16:15:57.435Z"
   },
   {
    "duration": 76,
    "start_time": "2023-12-02T16:16:38.674Z"
   },
   {
    "duration": 9,
    "start_time": "2023-12-02T16:16:49.557Z"
   },
   {
    "duration": 82,
    "start_time": "2023-12-02T16:17:18.146Z"
   },
   {
    "duration": 11,
    "start_time": "2023-12-02T16:17:31.531Z"
   },
   {
    "duration": 12,
    "start_time": "2023-12-02T16:18:19.402Z"
   },
   {
    "duration": 11,
    "start_time": "2023-12-02T16:18:54.127Z"
   },
   {
    "duration": 26,
    "start_time": "2023-12-02T16:19:01.891Z"
   },
   {
    "duration": 12,
    "start_time": "2023-12-02T16:19:11.491Z"
   },
   {
    "duration": 11,
    "start_time": "2023-12-02T16:20:04.306Z"
   },
   {
    "duration": 15,
    "start_time": "2023-12-02T16:21:08.787Z"
   },
   {
    "duration": 9,
    "start_time": "2023-12-02T16:21:25.740Z"
   },
   {
    "duration": 13,
    "start_time": "2023-12-02T16:21:34.027Z"
   },
   {
    "duration": 8,
    "start_time": "2023-12-02T16:21:58.443Z"
   },
   {
    "duration": 13,
    "start_time": "2023-12-02T16:22:19.812Z"
   },
   {
    "duration": 15,
    "start_time": "2023-12-02T16:24:37.460Z"
   },
   {
    "duration": 15,
    "start_time": "2023-12-02T16:25:03.676Z"
   },
   {
    "duration": 18,
    "start_time": "2023-12-02T16:25:31.135Z"
   },
   {
    "duration": 15,
    "start_time": "2023-12-02T16:25:46.951Z"
   },
   {
    "duration": 15,
    "start_time": "2023-12-02T16:26:04.169Z"
   },
   {
    "duration": 10,
    "start_time": "2023-12-02T16:26:51.294Z"
   },
   {
    "duration": 17,
    "start_time": "2023-12-02T16:27:02.445Z"
   },
   {
    "duration": 14,
    "start_time": "2023-12-02T16:27:50.034Z"
   },
   {
    "duration": 18,
    "start_time": "2023-12-02T16:27:56.224Z"
   },
   {
    "duration": 1135,
    "start_time": "2023-12-02T16:28:11.714Z"
   },
   {
    "duration": 28,
    "start_time": "2023-12-02T16:28:12.851Z"
   },
   {
    "duration": 12,
    "start_time": "2023-12-02T16:28:12.880Z"
   },
   {
    "duration": 4,
    "start_time": "2023-12-02T16:28:12.894Z"
   },
   {
    "duration": 19,
    "start_time": "2023-12-02T16:28:12.900Z"
   },
   {
    "duration": 10,
    "start_time": "2023-12-02T16:28:12.921Z"
   },
   {
    "duration": 54,
    "start_time": "2023-12-02T16:28:12.932Z"
   },
   {
    "duration": 10,
    "start_time": "2023-12-02T16:28:12.987Z"
   },
   {
    "duration": 9,
    "start_time": "2023-12-02T16:28:12.999Z"
   },
   {
    "duration": 10,
    "start_time": "2023-12-02T16:28:13.010Z"
   },
   {
    "duration": 8,
    "start_time": "2023-12-02T16:28:13.021Z"
   },
   {
    "duration": 5,
    "start_time": "2023-12-02T16:28:13.031Z"
   },
   {
    "duration": 17,
    "start_time": "2023-12-02T16:28:13.037Z"
   },
   {
    "duration": 11,
    "start_time": "2023-12-02T16:28:13.056Z"
   },
   {
    "duration": 7,
    "start_time": "2023-12-02T16:28:13.068Z"
   },
   {
    "duration": 5,
    "start_time": "2023-12-02T16:28:13.076Z"
   },
   {
    "duration": 8,
    "start_time": "2023-12-02T16:28:13.083Z"
   },
   {
    "duration": 31,
    "start_time": "2023-12-02T16:28:13.092Z"
   },
   {
    "duration": 260,
    "start_time": "2023-12-02T16:28:13.125Z"
   },
   {
    "duration": 4,
    "start_time": "2023-12-02T16:28:13.386Z"
   },
   {
    "duration": 9,
    "start_time": "2023-12-02T16:28:13.391Z"
   },
   {
    "duration": 280,
    "start_time": "2023-12-02T16:28:13.401Z"
   },
   {
    "duration": 181,
    "start_time": "2023-12-02T16:28:13.683Z"
   },
   {
    "duration": 174,
    "start_time": "2023-12-02T16:28:13.866Z"
   },
   {
    "duration": 249,
    "start_time": "2023-12-02T16:28:14.042Z"
   },
   {
    "duration": 189,
    "start_time": "2023-12-02T16:28:14.293Z"
   },
   {
    "duration": 334,
    "start_time": "2023-12-02T16:28:14.484Z"
   },
   {
    "duration": 9,
    "start_time": "2023-12-02T16:28:14.822Z"
   },
   {
    "duration": 131,
    "start_time": "2023-12-02T16:28:14.833Z"
   },
   {
    "duration": 6,
    "start_time": "2023-12-02T16:28:14.965Z"
   },
   {
    "duration": 209,
    "start_time": "2023-12-02T16:28:14.973Z"
   },
   {
    "duration": 4,
    "start_time": "2023-12-02T16:28:15.184Z"
   },
   {
    "duration": 21,
    "start_time": "2023-12-02T16:28:15.189Z"
   },
   {
    "duration": 11,
    "start_time": "2023-12-02T16:28:15.215Z"
   },
   {
    "duration": 13,
    "start_time": "2023-12-02T16:28:15.227Z"
   },
   {
    "duration": 18,
    "start_time": "2023-12-02T16:28:15.241Z"
   },
   {
    "duration": 1557,
    "start_time": "2023-12-02T16:28:15.260Z"
   },
   {
    "duration": 0,
    "start_time": "2023-12-02T16:28:16.818Z"
   },
   {
    "duration": 0,
    "start_time": "2023-12-02T16:28:16.820Z"
   },
   {
    "duration": 0,
    "start_time": "2023-12-02T16:28:16.821Z"
   },
   {
    "duration": 0,
    "start_time": "2023-12-02T16:28:16.822Z"
   },
   {
    "duration": 12,
    "start_time": "2023-12-02T16:28:49.689Z"
   },
   {
    "duration": 12,
    "start_time": "2023-12-02T16:28:51.671Z"
   },
   {
    "duration": 14,
    "start_time": "2023-12-02T16:28:52.255Z"
   },
   {
    "duration": 1457,
    "start_time": "2023-12-02T16:29:12.359Z"
   },
   {
    "duration": 1455,
    "start_time": "2023-12-02T16:29:39.048Z"
   },
   {
    "duration": 1568,
    "start_time": "2023-12-02T16:30:34.439Z"
   },
   {
    "duration": 1441,
    "start_time": "2023-12-02T16:31:03.524Z"
   },
   {
    "duration": 1482,
    "start_time": "2023-12-02T16:31:48.058Z"
   },
   {
    "duration": 1394,
    "start_time": "2023-12-02T16:32:51.982Z"
   },
   {
    "duration": 41,
    "start_time": "2023-12-02T16:38:01.665Z"
   },
   {
    "duration": 12,
    "start_time": "2023-12-02T16:38:14.431Z"
   },
   {
    "duration": 8,
    "start_time": "2023-12-02T16:40:34.048Z"
   },
   {
    "duration": 7,
    "start_time": "2023-12-02T16:40:39.964Z"
   },
   {
    "duration": 7,
    "start_time": "2023-12-02T16:41:01.718Z"
   },
   {
    "duration": 10,
    "start_time": "2023-12-02T16:41:12.186Z"
   },
   {
    "duration": 9,
    "start_time": "2023-12-02T16:42:13.626Z"
   },
   {
    "duration": 12,
    "start_time": "2023-12-02T16:43:44.333Z"
   },
   {
    "duration": 16,
    "start_time": "2023-12-02T16:43:55.020Z"
   },
   {
    "duration": 22,
    "start_time": "2023-12-02T16:43:56.053Z"
   },
   {
    "duration": 1117,
    "start_time": "2023-12-02T16:44:20.119Z"
   },
   {
    "duration": 27,
    "start_time": "2023-12-02T16:44:21.238Z"
   },
   {
    "duration": 10,
    "start_time": "2023-12-02T16:44:21.267Z"
   },
   {
    "duration": 11,
    "start_time": "2023-12-02T16:44:21.278Z"
   },
   {
    "duration": 19,
    "start_time": "2023-12-02T16:44:21.291Z"
   },
   {
    "duration": 9,
    "start_time": "2023-12-02T16:44:21.312Z"
   },
   {
    "duration": 53,
    "start_time": "2023-12-02T16:44:21.323Z"
   },
   {
    "duration": 9,
    "start_time": "2023-12-02T16:44:21.378Z"
   },
   {
    "duration": 31,
    "start_time": "2023-12-02T16:44:21.388Z"
   },
   {
    "duration": 13,
    "start_time": "2023-12-02T16:44:21.420Z"
   },
   {
    "duration": 15,
    "start_time": "2023-12-02T16:44:21.434Z"
   },
   {
    "duration": 24,
    "start_time": "2023-12-02T16:44:21.450Z"
   },
   {
    "duration": 4,
    "start_time": "2023-12-02T16:44:21.476Z"
   },
   {
    "duration": 11,
    "start_time": "2023-12-02T16:44:21.482Z"
   },
   {
    "duration": 9,
    "start_time": "2023-12-02T16:44:21.495Z"
   },
   {
    "duration": 8,
    "start_time": "2023-12-02T16:44:21.505Z"
   },
   {
    "duration": 3,
    "start_time": "2023-12-02T16:44:21.515Z"
   },
   {
    "duration": 10,
    "start_time": "2023-12-02T16:44:21.520Z"
   },
   {
    "duration": 253,
    "start_time": "2023-12-02T16:44:21.532Z"
   },
   {
    "duration": 4,
    "start_time": "2023-12-02T16:44:21.786Z"
   },
   {
    "duration": 8,
    "start_time": "2023-12-02T16:44:21.792Z"
   },
   {
    "duration": 281,
    "start_time": "2023-12-02T16:44:21.801Z"
   },
   {
    "duration": 181,
    "start_time": "2023-12-02T16:44:22.083Z"
   },
   {
    "duration": 172,
    "start_time": "2023-12-02T16:44:22.265Z"
   },
   {
    "duration": 258,
    "start_time": "2023-12-02T16:44:22.439Z"
   },
   {
    "duration": 198,
    "start_time": "2023-12-02T16:44:22.699Z"
   },
   {
    "duration": 310,
    "start_time": "2023-12-02T16:44:22.899Z"
   },
   {
    "duration": 10,
    "start_time": "2023-12-02T16:44:23.215Z"
   },
   {
    "duration": 139,
    "start_time": "2023-12-02T16:44:23.227Z"
   },
   {
    "duration": 9,
    "start_time": "2023-12-02T16:44:23.368Z"
   },
   {
    "duration": 207,
    "start_time": "2023-12-02T16:44:23.378Z"
   },
   {
    "duration": 4,
    "start_time": "2023-12-02T16:44:23.588Z"
   },
   {
    "duration": 25,
    "start_time": "2023-12-02T16:44:23.593Z"
   },
   {
    "duration": 13,
    "start_time": "2023-12-02T16:44:23.619Z"
   },
   {
    "duration": 12,
    "start_time": "2023-12-02T16:44:23.633Z"
   },
   {
    "duration": 14,
    "start_time": "2023-12-02T16:44:23.647Z"
   },
   {
    "duration": 141,
    "start_time": "2023-12-02T16:44:23.663Z"
   },
   {
    "duration": 0,
    "start_time": "2023-12-02T16:44:23.806Z"
   },
   {
    "duration": 0,
    "start_time": "2023-12-02T16:44:23.814Z"
   },
   {
    "duration": 0,
    "start_time": "2023-12-02T16:44:23.815Z"
   },
   {
    "duration": 0,
    "start_time": "2023-12-02T16:44:23.817Z"
   },
   {
    "duration": 22,
    "start_time": "2023-12-02T16:46:26.125Z"
   },
   {
    "duration": 79,
    "start_time": "2023-12-02T17:11:02.734Z"
   },
   {
    "duration": 84,
    "start_time": "2023-12-02T17:11:11.401Z"
   },
   {
    "duration": 13,
    "start_time": "2023-12-02T17:11:31.069Z"
   },
   {
    "duration": 9,
    "start_time": "2023-12-02T17:11:40.269Z"
   },
   {
    "duration": 9,
    "start_time": "2023-12-02T17:12:19.892Z"
   },
   {
    "duration": 11,
    "start_time": "2023-12-02T17:12:34.626Z"
   },
   {
    "duration": 13,
    "start_time": "2023-12-02T17:12:48.863Z"
   },
   {
    "duration": 1091,
    "start_time": "2023-12-02T17:13:04.847Z"
   },
   {
    "duration": 28,
    "start_time": "2023-12-02T17:13:05.940Z"
   },
   {
    "duration": 16,
    "start_time": "2023-12-02T17:13:05.969Z"
   },
   {
    "duration": 10,
    "start_time": "2023-12-02T17:13:05.987Z"
   },
   {
    "duration": 24,
    "start_time": "2023-12-02T17:13:06.000Z"
   },
   {
    "duration": 15,
    "start_time": "2023-12-02T17:13:06.026Z"
   },
   {
    "duration": 66,
    "start_time": "2023-12-02T17:13:06.043Z"
   },
   {
    "duration": 10,
    "start_time": "2023-12-02T17:13:06.111Z"
   },
   {
    "duration": 21,
    "start_time": "2023-12-02T17:13:06.123Z"
   },
   {
    "duration": 18,
    "start_time": "2023-12-02T17:13:06.145Z"
   },
   {
    "duration": 19,
    "start_time": "2023-12-02T17:13:06.164Z"
   },
   {
    "duration": 19,
    "start_time": "2023-12-02T17:13:06.185Z"
   },
   {
    "duration": 20,
    "start_time": "2023-12-02T17:13:06.205Z"
   },
   {
    "duration": 11,
    "start_time": "2023-12-02T17:13:06.228Z"
   },
   {
    "duration": 21,
    "start_time": "2023-12-02T17:13:06.240Z"
   },
   {
    "duration": 6,
    "start_time": "2023-12-02T17:13:06.262Z"
   },
   {
    "duration": 8,
    "start_time": "2023-12-02T17:13:06.270Z"
   },
   {
    "duration": 13,
    "start_time": "2023-12-02T17:13:06.280Z"
   },
   {
    "duration": 243,
    "start_time": "2023-12-02T17:13:06.294Z"
   },
   {
    "duration": 4,
    "start_time": "2023-12-02T17:13:06.538Z"
   },
   {
    "duration": 6,
    "start_time": "2023-12-02T17:13:06.544Z"
   },
   {
    "duration": 280,
    "start_time": "2023-12-02T17:13:06.552Z"
   },
   {
    "duration": 172,
    "start_time": "2023-12-02T17:13:06.834Z"
   },
   {
    "duration": 188,
    "start_time": "2023-12-02T17:13:07.014Z"
   },
   {
    "duration": 287,
    "start_time": "2023-12-02T17:13:07.204Z"
   },
   {
    "duration": 213,
    "start_time": "2023-12-02T17:13:07.493Z"
   },
   {
    "duration": 303,
    "start_time": "2023-12-02T17:13:07.714Z"
   },
   {
    "duration": 9,
    "start_time": "2023-12-02T17:13:08.018Z"
   },
   {
    "duration": 117,
    "start_time": "2023-12-02T17:13:08.028Z"
   },
   {
    "duration": 5,
    "start_time": "2023-12-02T17:13:08.147Z"
   },
   {
    "duration": 204,
    "start_time": "2023-12-02T17:13:08.153Z"
   },
   {
    "duration": 4,
    "start_time": "2023-12-02T17:13:08.358Z"
   },
   {
    "duration": 11,
    "start_time": "2023-12-02T17:13:08.363Z"
   },
   {
    "duration": 12,
    "start_time": "2023-12-02T17:13:08.376Z"
   },
   {
    "duration": 26,
    "start_time": "2023-12-02T17:13:08.389Z"
   },
   {
    "duration": 19,
    "start_time": "2023-12-02T17:13:08.417Z"
   },
   {
    "duration": 114,
    "start_time": "2023-12-02T17:13:08.437Z"
   },
   {
    "duration": 0,
    "start_time": "2023-12-02T17:13:08.552Z"
   },
   {
    "duration": 0,
    "start_time": "2023-12-02T17:13:08.553Z"
   },
   {
    "duration": 0,
    "start_time": "2023-12-02T17:13:08.554Z"
   },
   {
    "duration": 0,
    "start_time": "2023-12-02T17:13:08.555Z"
   },
   {
    "duration": 9,
    "start_time": "2023-12-02T17:13:51.538Z"
   },
   {
    "duration": 9,
    "start_time": "2023-12-02T17:14:07.303Z"
   },
   {
    "duration": 8,
    "start_time": "2023-12-02T17:14:13.552Z"
   },
   {
    "duration": 10,
    "start_time": "2023-12-02T17:16:25.328Z"
   },
   {
    "duration": 3,
    "start_time": "2023-12-02T17:16:45.736Z"
   },
   {
    "duration": 4,
    "start_time": "2023-12-02T17:16:58.296Z"
   },
   {
    "duration": 11,
    "start_time": "2023-12-02T17:18:24.051Z"
   },
   {
    "duration": 3,
    "start_time": "2023-12-02T17:18:52.317Z"
   },
   {
    "duration": 11,
    "start_time": "2023-12-02T17:19:01.954Z"
   },
   {
    "duration": 11,
    "start_time": "2023-12-02T17:19:55.942Z"
   },
   {
    "duration": 3,
    "start_time": "2023-12-02T17:20:24.294Z"
   },
   {
    "duration": 7,
    "start_time": "2023-12-02T17:20:29.650Z"
   },
   {
    "duration": 1068,
    "start_time": "2023-12-02T17:22:33.775Z"
   },
   {
    "duration": 27,
    "start_time": "2023-12-02T17:22:34.845Z"
   },
   {
    "duration": 10,
    "start_time": "2023-12-02T17:22:34.874Z"
   },
   {
    "duration": 4,
    "start_time": "2023-12-02T17:22:34.886Z"
   },
   {
    "duration": 23,
    "start_time": "2023-12-02T17:22:34.893Z"
   },
   {
    "duration": 11,
    "start_time": "2023-12-02T17:22:34.918Z"
   },
   {
    "duration": 51,
    "start_time": "2023-12-02T17:22:34.930Z"
   },
   {
    "duration": 12,
    "start_time": "2023-12-02T17:22:34.983Z"
   },
   {
    "duration": 12,
    "start_time": "2023-12-02T17:22:34.997Z"
   },
   {
    "duration": 9,
    "start_time": "2023-12-02T17:22:35.011Z"
   },
   {
    "duration": 11,
    "start_time": "2023-12-02T17:22:35.021Z"
   },
   {
    "duration": 7,
    "start_time": "2023-12-02T17:22:35.033Z"
   },
   {
    "duration": 4,
    "start_time": "2023-12-02T17:22:35.042Z"
   },
   {
    "duration": 11,
    "start_time": "2023-12-02T17:22:35.049Z"
   },
   {
    "duration": 6,
    "start_time": "2023-12-02T17:22:35.062Z"
   },
   {
    "duration": 6,
    "start_time": "2023-12-02T17:22:35.069Z"
   },
   {
    "duration": 39,
    "start_time": "2023-12-02T17:22:35.077Z"
   },
   {
    "duration": 12,
    "start_time": "2023-12-02T17:22:35.118Z"
   },
   {
    "duration": 262,
    "start_time": "2023-12-02T17:22:35.132Z"
   },
   {
    "duration": 5,
    "start_time": "2023-12-02T17:22:35.396Z"
   },
   {
    "duration": 14,
    "start_time": "2023-12-02T17:22:35.403Z"
   },
   {
    "duration": 273,
    "start_time": "2023-12-02T17:22:35.419Z"
   },
   {
    "duration": 166,
    "start_time": "2023-12-02T17:22:35.694Z"
   },
   {
    "duration": 175,
    "start_time": "2023-12-02T17:22:35.862Z"
   },
   {
    "duration": 259,
    "start_time": "2023-12-02T17:22:36.039Z"
   },
   {
    "duration": 203,
    "start_time": "2023-12-02T17:22:36.300Z"
   },
   {
    "duration": 311,
    "start_time": "2023-12-02T17:22:36.504Z"
   },
   {
    "duration": 8,
    "start_time": "2023-12-02T17:22:36.816Z"
   },
   {
    "duration": 119,
    "start_time": "2023-12-02T17:22:36.826Z"
   },
   {
    "duration": 4,
    "start_time": "2023-12-02T17:22:36.947Z"
   },
   {
    "duration": 205,
    "start_time": "2023-12-02T17:22:36.952Z"
   },
   {
    "duration": 3,
    "start_time": "2023-12-02T17:22:37.159Z"
   },
   {
    "duration": 22,
    "start_time": "2023-12-02T17:22:37.164Z"
   },
   {
    "duration": 8,
    "start_time": "2023-12-02T17:22:37.188Z"
   },
   {
    "duration": 12,
    "start_time": "2023-12-02T17:22:37.197Z"
   },
   {
    "duration": 9,
    "start_time": "2023-12-02T17:22:37.215Z"
   },
   {
    "duration": 7,
    "start_time": "2023-12-02T17:22:37.225Z"
   },
   {
    "duration": 8,
    "start_time": "2023-12-02T17:22:37.233Z"
   },
   {
    "duration": 115,
    "start_time": "2023-12-02T17:22:37.242Z"
   },
   {
    "duration": 14,
    "start_time": "2023-12-02T18:19:37.211Z"
   },
   {
    "duration": 10,
    "start_time": "2023-12-02T18:19:43.562Z"
   },
   {
    "duration": 11,
    "start_time": "2023-12-02T18:27:43.666Z"
   },
   {
    "duration": 8,
    "start_time": "2023-12-02T18:32:26.381Z"
   },
   {
    "duration": 6,
    "start_time": "2023-12-02T18:33:27.284Z"
   },
   {
    "duration": 9,
    "start_time": "2023-12-02T18:35:00.465Z"
   },
   {
    "duration": 9,
    "start_time": "2023-12-02T18:35:09.798Z"
   },
   {
    "duration": 1127,
    "start_time": "2023-12-02T18:35:44.698Z"
   },
   {
    "duration": 27,
    "start_time": "2023-12-02T18:35:45.827Z"
   },
   {
    "duration": 10,
    "start_time": "2023-12-02T18:35:45.856Z"
   },
   {
    "duration": 4,
    "start_time": "2023-12-02T18:35:45.868Z"
   },
   {
    "duration": 14,
    "start_time": "2023-12-02T18:35:45.873Z"
   },
   {
    "duration": 11,
    "start_time": "2023-12-02T18:35:45.889Z"
   },
   {
    "duration": 53,
    "start_time": "2023-12-02T18:35:45.901Z"
   },
   {
    "duration": 10,
    "start_time": "2023-12-02T18:35:45.955Z"
   },
   {
    "duration": 15,
    "start_time": "2023-12-02T18:35:45.966Z"
   },
   {
    "duration": 8,
    "start_time": "2023-12-02T18:35:45.985Z"
   },
   {
    "duration": 11,
    "start_time": "2023-12-02T18:35:45.995Z"
   },
   {
    "duration": 6,
    "start_time": "2023-12-02T18:35:46.007Z"
   },
   {
    "duration": 4,
    "start_time": "2023-12-02T18:35:46.014Z"
   },
   {
    "duration": 9,
    "start_time": "2023-12-02T18:35:46.020Z"
   },
   {
    "duration": 5,
    "start_time": "2023-12-02T18:35:46.030Z"
   },
   {
    "duration": 5,
    "start_time": "2023-12-02T18:35:46.036Z"
   },
   {
    "duration": 4,
    "start_time": "2023-12-02T18:35:46.042Z"
   },
   {
    "duration": 12,
    "start_time": "2023-12-02T18:35:46.047Z"
   },
   {
    "duration": 286,
    "start_time": "2023-12-02T18:35:46.060Z"
   },
   {
    "duration": 4,
    "start_time": "2023-12-02T18:35:46.348Z"
   },
   {
    "duration": 16,
    "start_time": "2023-12-02T18:35:46.353Z"
   },
   {
    "duration": 285,
    "start_time": "2023-12-02T18:35:46.371Z"
   },
   {
    "duration": 184,
    "start_time": "2023-12-02T18:35:46.657Z"
   },
   {
    "duration": 172,
    "start_time": "2023-12-02T18:35:46.842Z"
   },
   {
    "duration": 288,
    "start_time": "2023-12-02T18:35:47.016Z"
   },
   {
    "duration": 193,
    "start_time": "2023-12-02T18:35:47.306Z"
   },
   {
    "duration": 305,
    "start_time": "2023-12-02T18:35:47.500Z"
   },
   {
    "duration": 12,
    "start_time": "2023-12-02T18:35:47.808Z"
   },
   {
    "duration": 117,
    "start_time": "2023-12-02T18:35:47.821Z"
   },
   {
    "duration": 4,
    "start_time": "2023-12-02T18:35:47.940Z"
   },
   {
    "duration": 199,
    "start_time": "2023-12-02T18:35:47.945Z"
   },
   {
    "duration": 4,
    "start_time": "2023-12-02T18:35:48.145Z"
   },
   {
    "duration": 11,
    "start_time": "2023-12-02T18:35:48.150Z"
   },
   {
    "duration": 7,
    "start_time": "2023-12-02T18:35:48.162Z"
   },
   {
    "duration": 6,
    "start_time": "2023-12-02T18:35:48.171Z"
   },
   {
    "duration": 13,
    "start_time": "2023-12-02T18:35:48.178Z"
   },
   {
    "duration": 8,
    "start_time": "2023-12-02T18:35:48.215Z"
   },
   {
    "duration": 105,
    "start_time": "2023-12-02T18:35:48.224Z"
   },
   {
    "duration": 0,
    "start_time": "2023-12-02T18:35:48.331Z"
   },
   {
    "duration": 10,
    "start_time": "2023-12-02T18:36:01.572Z"
   },
   {
    "duration": 10,
    "start_time": "2023-12-02T18:36:05.677Z"
   },
   {
    "duration": 3,
    "start_time": "2023-12-02T18:36:38.674Z"
   },
   {
    "duration": 41,
    "start_time": "2023-12-02T18:36:38.678Z"
   },
   {
    "duration": 19,
    "start_time": "2023-12-02T18:36:38.720Z"
   },
   {
    "duration": 17,
    "start_time": "2023-12-02T18:36:38.740Z"
   },
   {
    "duration": 33,
    "start_time": "2023-12-02T18:36:38.759Z"
   },
   {
    "duration": 16,
    "start_time": "2023-12-02T18:36:38.794Z"
   },
   {
    "duration": 81,
    "start_time": "2023-12-02T18:36:38.812Z"
   },
   {
    "duration": 10,
    "start_time": "2023-12-02T18:36:38.894Z"
   },
   {
    "duration": 61,
    "start_time": "2023-12-02T18:36:38.905Z"
   },
   {
    "duration": 46,
    "start_time": "2023-12-02T18:36:38.967Z"
   },
   {
    "duration": 9,
    "start_time": "2023-12-02T18:36:39.014Z"
   },
   {
    "duration": 6,
    "start_time": "2023-12-02T18:36:39.024Z"
   },
   {
    "duration": 4,
    "start_time": "2023-12-02T18:36:39.033Z"
   },
   {
    "duration": 12,
    "start_time": "2023-12-02T18:36:39.038Z"
   },
   {
    "duration": 40,
    "start_time": "2023-12-02T18:36:39.051Z"
   },
   {
    "duration": 13,
    "start_time": "2023-12-02T18:36:39.092Z"
   },
   {
    "duration": 27,
    "start_time": "2023-12-02T18:36:39.106Z"
   },
   {
    "duration": 27,
    "start_time": "2023-12-02T18:36:39.135Z"
   },
   {
    "duration": 173,
    "start_time": "2023-12-02T18:36:39.164Z"
   },
   {
    "duration": 4,
    "start_time": "2023-12-02T18:36:39.338Z"
   },
   {
    "duration": 22,
    "start_time": "2023-12-02T18:36:39.344Z"
   },
   {
    "duration": 308,
    "start_time": "2023-12-02T18:36:39.368Z"
   },
   {
    "duration": 179,
    "start_time": "2023-12-02T18:36:39.678Z"
   },
   {
    "duration": 177,
    "start_time": "2023-12-02T18:36:39.859Z"
   },
   {
    "duration": 260,
    "start_time": "2023-12-02T18:36:40.038Z"
   },
   {
    "duration": 192,
    "start_time": "2023-12-02T18:36:40.300Z"
   },
   {
    "duration": 306,
    "start_time": "2023-12-02T18:36:40.493Z"
   },
   {
    "duration": 16,
    "start_time": "2023-12-02T18:36:40.801Z"
   },
   {
    "duration": 112,
    "start_time": "2023-12-02T18:36:40.818Z"
   },
   {
    "duration": 5,
    "start_time": "2023-12-02T18:36:40.931Z"
   },
   {
    "duration": 138,
    "start_time": "2023-12-02T18:36:40.937Z"
   },
   {
    "duration": 4,
    "start_time": "2023-12-02T18:36:41.076Z"
   },
   {
    "duration": 10,
    "start_time": "2023-12-02T18:36:41.082Z"
   },
   {
    "duration": 24,
    "start_time": "2023-12-02T18:36:41.093Z"
   },
   {
    "duration": 7,
    "start_time": "2023-12-02T18:36:41.119Z"
   },
   {
    "duration": 9,
    "start_time": "2023-12-02T18:36:41.127Z"
   },
   {
    "duration": 7,
    "start_time": "2023-12-02T18:36:41.139Z"
   },
   {
    "duration": 20,
    "start_time": "2023-12-02T18:36:41.147Z"
   },
   {
    "duration": 0,
    "start_time": "2023-12-02T18:36:41.168Z"
   },
   {
    "duration": 10,
    "start_time": "2023-12-02T18:37:04.711Z"
   },
   {
    "duration": 3,
    "start_time": "2023-12-02T18:39:02.258Z"
   },
   {
    "duration": 1121,
    "start_time": "2023-12-02T18:39:10.624Z"
   },
   {
    "duration": 28,
    "start_time": "2023-12-02T18:39:11.747Z"
   },
   {
    "duration": 10,
    "start_time": "2023-12-02T18:39:11.777Z"
   },
   {
    "duration": 6,
    "start_time": "2023-12-02T18:39:11.789Z"
   },
   {
    "duration": 14,
    "start_time": "2023-12-02T18:39:11.797Z"
   },
   {
    "duration": 10,
    "start_time": "2023-12-02T18:39:11.813Z"
   },
   {
    "duration": 51,
    "start_time": "2023-12-02T18:39:11.825Z"
   },
   {
    "duration": 9,
    "start_time": "2023-12-02T18:39:11.878Z"
   },
   {
    "duration": 9,
    "start_time": "2023-12-02T18:39:11.888Z"
   },
   {
    "duration": 7,
    "start_time": "2023-12-02T18:39:11.900Z"
   },
   {
    "duration": 7,
    "start_time": "2023-12-02T18:39:11.908Z"
   },
   {
    "duration": 6,
    "start_time": "2023-12-02T18:39:11.916Z"
   },
   {
    "duration": 5,
    "start_time": "2023-12-02T18:39:11.923Z"
   },
   {
    "duration": 10,
    "start_time": "2023-12-02T18:39:11.929Z"
   },
   {
    "duration": 6,
    "start_time": "2023-12-02T18:39:11.940Z"
   },
   {
    "duration": 5,
    "start_time": "2023-12-02T18:39:11.948Z"
   },
   {
    "duration": 3,
    "start_time": "2023-12-02T18:39:11.954Z"
   },
   {
    "duration": 12,
    "start_time": "2023-12-02T18:39:11.958Z"
   },
   {
    "duration": 284,
    "start_time": "2023-12-02T18:39:11.971Z"
   },
   {
    "duration": 4,
    "start_time": "2023-12-02T18:39:12.257Z"
   },
   {
    "duration": 9,
    "start_time": "2023-12-02T18:39:12.262Z"
   },
   {
    "duration": 283,
    "start_time": "2023-12-02T18:39:12.273Z"
   },
   {
    "duration": 174,
    "start_time": "2023-12-02T18:39:12.557Z"
   },
   {
    "duration": 186,
    "start_time": "2023-12-02T18:39:12.732Z"
   },
   {
    "duration": 277,
    "start_time": "2023-12-02T18:39:12.919Z"
   },
   {
    "duration": 194,
    "start_time": "2023-12-02T18:39:13.197Z"
   },
   {
    "duration": 315,
    "start_time": "2023-12-02T18:39:13.392Z"
   },
   {
    "duration": 9,
    "start_time": "2023-12-02T18:39:13.715Z"
   },
   {
    "duration": 128,
    "start_time": "2023-12-02T18:39:13.725Z"
   },
   {
    "duration": 4,
    "start_time": "2023-12-02T18:39:13.855Z"
   },
   {
    "duration": 207,
    "start_time": "2023-12-02T18:39:13.861Z"
   },
   {
    "duration": 4,
    "start_time": "2023-12-02T18:39:14.069Z"
   },
   {
    "duration": 12,
    "start_time": "2023-12-02T18:39:14.074Z"
   },
   {
    "duration": 8,
    "start_time": "2023-12-02T18:39:14.087Z"
   },
   {
    "duration": 23,
    "start_time": "2023-12-02T18:39:14.097Z"
   },
   {
    "duration": 16,
    "start_time": "2023-12-02T18:39:14.121Z"
   },
   {
    "duration": 14,
    "start_time": "2023-12-02T18:39:14.138Z"
   },
   {
    "duration": 108,
    "start_time": "2023-12-02T18:39:14.153Z"
   },
   {
    "duration": 0,
    "start_time": "2023-12-02T18:39:14.263Z"
   },
   {
    "duration": 15,
    "start_time": "2023-12-02T18:39:22.375Z"
   },
   {
    "duration": 1168,
    "start_time": "2023-12-02T18:39:48.109Z"
   },
   {
    "duration": 30,
    "start_time": "2023-12-02T18:39:49.279Z"
   },
   {
    "duration": 15,
    "start_time": "2023-12-02T18:39:49.311Z"
   },
   {
    "duration": 3,
    "start_time": "2023-12-02T18:39:49.328Z"
   },
   {
    "duration": 17,
    "start_time": "2023-12-02T18:39:49.333Z"
   },
   {
    "duration": 10,
    "start_time": "2023-12-02T18:39:49.351Z"
   },
   {
    "duration": 51,
    "start_time": "2023-12-02T18:39:49.363Z"
   },
   {
    "duration": 12,
    "start_time": "2023-12-02T18:39:49.416Z"
   },
   {
    "duration": 14,
    "start_time": "2023-12-02T18:39:49.430Z"
   },
   {
    "duration": 13,
    "start_time": "2023-12-02T18:39:49.448Z"
   },
   {
    "duration": 9,
    "start_time": "2023-12-02T18:39:49.462Z"
   },
   {
    "duration": 8,
    "start_time": "2023-12-02T18:39:49.473Z"
   },
   {
    "duration": 10,
    "start_time": "2023-12-02T18:39:49.482Z"
   },
   {
    "duration": 30,
    "start_time": "2023-12-02T18:39:49.493Z"
   },
   {
    "duration": 8,
    "start_time": "2023-12-02T18:39:49.525Z"
   },
   {
    "duration": 5,
    "start_time": "2023-12-02T18:39:49.534Z"
   },
   {
    "duration": 3,
    "start_time": "2023-12-02T18:39:49.540Z"
   },
   {
    "duration": 12,
    "start_time": "2023-12-02T18:39:49.545Z"
   },
   {
    "duration": 301,
    "start_time": "2023-12-02T18:39:49.558Z"
   },
   {
    "duration": 4,
    "start_time": "2023-12-02T18:39:49.860Z"
   },
   {
    "duration": 21,
    "start_time": "2023-12-02T18:39:49.865Z"
   },
   {
    "duration": 280,
    "start_time": "2023-12-02T18:39:49.888Z"
   },
   {
    "duration": 185,
    "start_time": "2023-12-02T18:39:50.169Z"
   },
   {
    "duration": 189,
    "start_time": "2023-12-02T18:39:50.355Z"
   },
   {
    "duration": 262,
    "start_time": "2023-12-02T18:39:50.546Z"
   },
   {
    "duration": 195,
    "start_time": "2023-12-02T18:39:50.815Z"
   },
   {
    "duration": 321,
    "start_time": "2023-12-02T18:39:51.015Z"
   },
   {
    "duration": 9,
    "start_time": "2023-12-02T18:39:51.339Z"
   },
   {
    "duration": 121,
    "start_time": "2023-12-02T18:39:51.349Z"
   },
   {
    "duration": 5,
    "start_time": "2023-12-02T18:39:51.472Z"
   },
   {
    "duration": 203,
    "start_time": "2023-12-02T18:39:51.478Z"
   },
   {
    "duration": 4,
    "start_time": "2023-12-02T18:39:51.682Z"
   },
   {
    "duration": 28,
    "start_time": "2023-12-02T18:39:51.688Z"
   },
   {
    "duration": 27,
    "start_time": "2023-12-02T18:39:51.717Z"
   },
   {
    "duration": 23,
    "start_time": "2023-12-02T18:39:51.745Z"
   },
   {
    "duration": 16,
    "start_time": "2023-12-02T18:39:51.770Z"
   },
   {
    "duration": 13,
    "start_time": "2023-12-02T18:39:51.788Z"
   },
   {
    "duration": 102,
    "start_time": "2023-12-02T18:39:51.803Z"
   },
   {
    "duration": 0,
    "start_time": "2023-12-02T18:39:51.906Z"
   },
   {
    "duration": 9,
    "start_time": "2023-12-02T18:40:12.880Z"
   },
   {
    "duration": 3,
    "start_time": "2023-12-02T18:41:10.309Z"
   },
   {
    "duration": 11,
    "start_time": "2023-12-02T18:41:18.056Z"
   },
   {
    "duration": 10,
    "start_time": "2023-12-02T18:41:34.025Z"
   },
   {
    "duration": 12,
    "start_time": "2023-12-02T18:41:44.710Z"
   },
   {
    "duration": 11,
    "start_time": "2023-12-02T18:42:25.930Z"
   },
   {
    "duration": 1079,
    "start_time": "2023-12-02T18:43:16.960Z"
   },
   {
    "duration": 27,
    "start_time": "2023-12-02T18:43:18.040Z"
   },
   {
    "duration": 10,
    "start_time": "2023-12-02T18:43:18.069Z"
   },
   {
    "duration": 7,
    "start_time": "2023-12-02T18:43:18.081Z"
   },
   {
    "duration": 23,
    "start_time": "2023-12-02T18:43:18.089Z"
   },
   {
    "duration": 11,
    "start_time": "2023-12-02T18:43:18.113Z"
   },
   {
    "duration": 52,
    "start_time": "2023-12-02T18:43:18.125Z"
   },
   {
    "duration": 9,
    "start_time": "2023-12-02T18:43:18.178Z"
   },
   {
    "duration": 14,
    "start_time": "2023-12-02T18:43:18.188Z"
   },
   {
    "duration": 8,
    "start_time": "2023-12-02T18:43:18.204Z"
   },
   {
    "duration": 7,
    "start_time": "2023-12-02T18:43:18.213Z"
   },
   {
    "duration": 4,
    "start_time": "2023-12-02T18:43:18.222Z"
   },
   {
    "duration": 4,
    "start_time": "2023-12-02T18:43:18.228Z"
   },
   {
    "duration": 9,
    "start_time": "2023-12-02T18:43:18.233Z"
   },
   {
    "duration": 6,
    "start_time": "2023-12-02T18:43:18.243Z"
   },
   {
    "duration": 4,
    "start_time": "2023-12-02T18:43:18.250Z"
   },
   {
    "duration": 5,
    "start_time": "2023-12-02T18:43:18.255Z"
   },
   {
    "duration": 12,
    "start_time": "2023-12-02T18:43:18.261Z"
   },
   {
    "duration": 308,
    "start_time": "2023-12-02T18:43:18.274Z"
   },
   {
    "duration": 5,
    "start_time": "2023-12-02T18:43:18.584Z"
   },
   {
    "duration": 5,
    "start_time": "2023-12-02T18:43:18.591Z"
   },
   {
    "duration": 305,
    "start_time": "2023-12-02T18:43:18.616Z"
   },
   {
    "duration": 185,
    "start_time": "2023-12-02T18:43:18.922Z"
   },
   {
    "duration": 171,
    "start_time": "2023-12-02T18:43:19.109Z"
   },
   {
    "duration": 310,
    "start_time": "2023-12-02T18:43:19.281Z"
   },
   {
    "duration": 204,
    "start_time": "2023-12-02T18:43:19.593Z"
   },
   {
    "duration": 346,
    "start_time": "2023-12-02T18:43:19.800Z"
   },
   {
    "duration": 8,
    "start_time": "2023-12-02T18:43:20.149Z"
   },
   {
    "duration": 121,
    "start_time": "2023-12-02T18:43:20.159Z"
   },
   {
    "duration": 4,
    "start_time": "2023-12-02T18:43:20.282Z"
   },
   {
    "duration": 211,
    "start_time": "2023-12-02T18:43:20.288Z"
   },
   {
    "duration": 15,
    "start_time": "2023-12-02T18:43:20.500Z"
   },
   {
    "duration": 10,
    "start_time": "2023-12-02T18:43:20.516Z"
   },
   {
    "duration": 10,
    "start_time": "2023-12-02T18:43:20.527Z"
   },
   {
    "duration": 7,
    "start_time": "2023-12-02T18:43:20.538Z"
   },
   {
    "duration": 10,
    "start_time": "2023-12-02T18:43:20.547Z"
   },
   {
    "duration": 8,
    "start_time": "2023-12-02T18:43:20.558Z"
   },
   {
    "duration": 131,
    "start_time": "2023-12-02T18:43:20.568Z"
   },
   {
    "duration": 0,
    "start_time": "2023-12-02T18:43:20.701Z"
   },
   {
    "duration": 13,
    "start_time": "2023-12-02T18:43:28.869Z"
   },
   {
    "duration": 6,
    "start_time": "2023-12-02T18:45:43.802Z"
   },
   {
    "duration": 6,
    "start_time": "2023-12-02T18:46:10.737Z"
   },
   {
    "duration": 6,
    "start_time": "2023-12-02T18:46:17.772Z"
   },
   {
    "duration": 9,
    "start_time": "2023-12-02T18:47:05.393Z"
   },
   {
    "duration": 10,
    "start_time": "2023-12-02T18:48:14.304Z"
   },
   {
    "duration": 10,
    "start_time": "2023-12-02T18:51:16.439Z"
   },
   {
    "duration": 9,
    "start_time": "2023-12-02T18:51:26.024Z"
   },
   {
    "duration": 10,
    "start_time": "2023-12-02T18:57:50.584Z"
   },
   {
    "duration": 1175,
    "start_time": "2023-12-02T18:58:03.998Z"
   },
   {
    "duration": 28,
    "start_time": "2023-12-02T18:58:05.174Z"
   },
   {
    "duration": 11,
    "start_time": "2023-12-02T18:58:05.203Z"
   },
   {
    "duration": 9,
    "start_time": "2023-12-02T18:58:05.217Z"
   },
   {
    "duration": 13,
    "start_time": "2023-12-02T18:58:05.227Z"
   },
   {
    "duration": 10,
    "start_time": "2023-12-02T18:58:05.242Z"
   },
   {
    "duration": 53,
    "start_time": "2023-12-02T18:58:05.253Z"
   },
   {
    "duration": 10,
    "start_time": "2023-12-02T18:58:05.307Z"
   },
   {
    "duration": 16,
    "start_time": "2023-12-02T18:58:05.319Z"
   },
   {
    "duration": 9,
    "start_time": "2023-12-02T18:58:05.338Z"
   },
   {
    "duration": 13,
    "start_time": "2023-12-02T18:58:05.348Z"
   },
   {
    "duration": 16,
    "start_time": "2023-12-02T18:58:05.363Z"
   },
   {
    "duration": 9,
    "start_time": "2023-12-02T18:58:05.381Z"
   },
   {
    "duration": 15,
    "start_time": "2023-12-02T18:58:05.392Z"
   },
   {
    "duration": 10,
    "start_time": "2023-12-02T18:58:05.409Z"
   },
   {
    "duration": 12,
    "start_time": "2023-12-02T18:58:05.421Z"
   },
   {
    "duration": 3,
    "start_time": "2023-12-02T18:58:05.435Z"
   },
   {
    "duration": 16,
    "start_time": "2023-12-02T18:58:05.440Z"
   },
   {
    "duration": 275,
    "start_time": "2023-12-02T18:58:05.457Z"
   },
   {
    "duration": 4,
    "start_time": "2023-12-02T18:58:05.734Z"
   },
   {
    "duration": 12,
    "start_time": "2023-12-02T18:58:05.739Z"
   },
   {
    "duration": 273,
    "start_time": "2023-12-02T18:58:05.752Z"
   },
   {
    "duration": 181,
    "start_time": "2023-12-02T18:58:06.026Z"
   },
   {
    "duration": 178,
    "start_time": "2023-12-02T18:58:06.209Z"
   },
   {
    "duration": 291,
    "start_time": "2023-12-02T18:58:06.388Z"
   },
   {
    "duration": 187,
    "start_time": "2023-12-02T18:58:06.681Z"
   },
   {
    "duration": 299,
    "start_time": "2023-12-02T18:58:06.870Z"
   },
   {
    "duration": 9,
    "start_time": "2023-12-02T18:58:07.172Z"
   },
   {
    "duration": 121,
    "start_time": "2023-12-02T18:58:07.182Z"
   },
   {
    "duration": 13,
    "start_time": "2023-12-02T18:58:07.305Z"
   },
   {
    "duration": 214,
    "start_time": "2023-12-02T18:58:07.320Z"
   },
   {
    "duration": 4,
    "start_time": "2023-12-02T18:58:07.536Z"
   },
   {
    "duration": 16,
    "start_time": "2023-12-02T18:58:07.541Z"
   },
   {
    "duration": 9,
    "start_time": "2023-12-02T18:58:07.559Z"
   },
   {
    "duration": 13,
    "start_time": "2023-12-02T18:58:07.570Z"
   },
   {
    "duration": 21,
    "start_time": "2023-12-02T18:58:07.585Z"
   },
   {
    "duration": 9,
    "start_time": "2023-12-02T18:58:07.615Z"
   },
   {
    "duration": 111,
    "start_time": "2023-12-02T18:58:07.625Z"
   },
   {
    "duration": 0,
    "start_time": "2023-12-02T18:58:07.737Z"
   },
   {
    "duration": 0,
    "start_time": "2023-12-02T18:58:07.738Z"
   },
   {
    "duration": 0,
    "start_time": "2023-12-02T18:58:07.740Z"
   },
   {
    "duration": 0,
    "start_time": "2023-12-02T18:58:07.741Z"
   },
   {
    "duration": 11,
    "start_time": "2023-12-02T19:00:13.033Z"
   },
   {
    "duration": 1166,
    "start_time": "2023-12-02T19:08:45.223Z"
   },
   {
    "duration": 28,
    "start_time": "2023-12-02T19:08:46.391Z"
   },
   {
    "duration": 11,
    "start_time": "2023-12-02T19:08:46.423Z"
   },
   {
    "duration": 4,
    "start_time": "2023-12-02T19:08:46.437Z"
   },
   {
    "duration": 15,
    "start_time": "2023-12-02T19:08:46.442Z"
   },
   {
    "duration": 10,
    "start_time": "2023-12-02T19:08:46.459Z"
   },
   {
    "duration": 54,
    "start_time": "2023-12-02T19:08:46.471Z"
   },
   {
    "duration": 10,
    "start_time": "2023-12-02T19:08:46.526Z"
   },
   {
    "duration": 10,
    "start_time": "2023-12-02T19:08:46.538Z"
   },
   {
    "duration": 8,
    "start_time": "2023-12-02T19:08:46.549Z"
   },
   {
    "duration": 8,
    "start_time": "2023-12-02T19:08:46.559Z"
   },
   {
    "duration": 6,
    "start_time": "2023-12-02T19:08:46.569Z"
   },
   {
    "duration": 4,
    "start_time": "2023-12-02T19:08:46.578Z"
   },
   {
    "duration": 39,
    "start_time": "2023-12-02T19:08:46.584Z"
   },
   {
    "duration": 13,
    "start_time": "2023-12-02T19:08:46.624Z"
   },
   {
    "duration": 6,
    "start_time": "2023-12-02T19:08:46.639Z"
   },
   {
    "duration": 3,
    "start_time": "2023-12-02T19:08:46.646Z"
   },
   {
    "duration": 13,
    "start_time": "2023-12-02T19:08:46.650Z"
   },
   {
    "duration": 280,
    "start_time": "2023-12-02T19:08:46.664Z"
   },
   {
    "duration": 5,
    "start_time": "2023-12-02T19:08:46.945Z"
   },
   {
    "duration": 5,
    "start_time": "2023-12-02T19:08:46.952Z"
   },
   {
    "duration": 279,
    "start_time": "2023-12-02T19:08:46.958Z"
   },
   {
    "duration": 181,
    "start_time": "2023-12-02T19:08:47.238Z"
   },
   {
    "duration": 169,
    "start_time": "2023-12-02T19:08:47.420Z"
   },
   {
    "duration": 294,
    "start_time": "2023-12-02T19:08:47.590Z"
   },
   {
    "duration": 188,
    "start_time": "2023-12-02T19:08:47.886Z"
   },
   {
    "duration": 322,
    "start_time": "2023-12-02T19:08:48.076Z"
   },
   {
    "duration": 16,
    "start_time": "2023-12-02T19:08:48.400Z"
   },
   {
    "duration": 126,
    "start_time": "2023-12-02T19:08:48.417Z"
   },
   {
    "duration": 4,
    "start_time": "2023-12-02T19:08:48.545Z"
   },
   {
    "duration": 201,
    "start_time": "2023-12-02T19:08:48.551Z"
   },
   {
    "duration": 4,
    "start_time": "2023-12-02T19:08:48.753Z"
   },
   {
    "duration": 17,
    "start_time": "2023-12-02T19:08:48.758Z"
   },
   {
    "duration": 20,
    "start_time": "2023-12-02T19:08:48.777Z"
   },
   {
    "duration": 10,
    "start_time": "2023-12-02T19:08:48.799Z"
   },
   {
    "duration": 15,
    "start_time": "2023-12-02T19:08:48.810Z"
   },
   {
    "duration": 20,
    "start_time": "2023-12-02T19:08:48.827Z"
   },
   {
    "duration": 111,
    "start_time": "2023-12-02T19:08:48.849Z"
   },
   {
    "duration": 0,
    "start_time": "2023-12-02T19:08:48.961Z"
   },
   {
    "duration": 0,
    "start_time": "2023-12-02T19:08:48.962Z"
   },
   {
    "duration": 0,
    "start_time": "2023-12-02T19:08:48.963Z"
   },
   {
    "duration": 0,
    "start_time": "2023-12-02T19:08:48.964Z"
   },
   {
    "duration": 9,
    "start_time": "2023-12-02T19:09:02.715Z"
   },
   {
    "duration": 3,
    "start_time": "2023-12-02T19:09:55.655Z"
   },
   {
    "duration": 32,
    "start_time": "2023-12-02T19:09:55.660Z"
   },
   {
    "duration": 11,
    "start_time": "2023-12-02T19:09:55.694Z"
   },
   {
    "duration": 4,
    "start_time": "2023-12-02T19:09:55.707Z"
   },
   {
    "duration": 11,
    "start_time": "2023-12-02T19:09:55.713Z"
   },
   {
    "duration": 11,
    "start_time": "2023-12-02T19:09:55.726Z"
   },
   {
    "duration": 58,
    "start_time": "2023-12-02T19:09:55.738Z"
   },
   {
    "duration": 9,
    "start_time": "2023-12-02T19:09:55.798Z"
   },
   {
    "duration": 10,
    "start_time": "2023-12-02T19:09:55.809Z"
   },
   {
    "duration": 10,
    "start_time": "2023-12-02T19:09:55.821Z"
   },
   {
    "duration": 10,
    "start_time": "2023-12-02T19:09:55.833Z"
   },
   {
    "duration": 6,
    "start_time": "2023-12-02T19:09:55.844Z"
   },
   {
    "duration": 3,
    "start_time": "2023-12-02T19:09:55.852Z"
   },
   {
    "duration": 22,
    "start_time": "2023-12-02T19:09:55.857Z"
   },
   {
    "duration": 7,
    "start_time": "2023-12-02T19:09:55.881Z"
   },
   {
    "duration": 10,
    "start_time": "2023-12-02T19:09:55.889Z"
   },
   {
    "duration": 3,
    "start_time": "2023-12-02T19:09:55.915Z"
   },
   {
    "duration": 24,
    "start_time": "2023-12-02T19:09:55.919Z"
   },
   {
    "duration": 175,
    "start_time": "2023-12-02T19:09:55.944Z"
   },
   {
    "duration": 3,
    "start_time": "2023-12-02T19:09:56.121Z"
   },
   {
    "duration": 4,
    "start_time": "2023-12-02T19:09:56.126Z"
   },
   {
    "duration": 275,
    "start_time": "2023-12-02T19:09:56.131Z"
   },
   {
    "duration": 172,
    "start_time": "2023-12-02T19:09:56.408Z"
   },
   {
    "duration": 164,
    "start_time": "2023-12-02T19:09:56.583Z"
   },
   {
    "duration": 257,
    "start_time": "2023-12-02T19:09:56.749Z"
   },
   {
    "duration": 189,
    "start_time": "2023-12-02T19:09:57.007Z"
   },
   {
    "duration": 320,
    "start_time": "2023-12-02T19:09:57.197Z"
   },
   {
    "duration": 9,
    "start_time": "2023-12-02T19:09:57.518Z"
   },
   {
    "duration": 123,
    "start_time": "2023-12-02T19:09:57.529Z"
   },
   {
    "duration": 4,
    "start_time": "2023-12-02T19:09:57.654Z"
   },
   {
    "duration": 128,
    "start_time": "2023-12-02T19:09:57.659Z"
   },
   {
    "duration": 5,
    "start_time": "2023-12-02T19:09:57.789Z"
   },
   {
    "duration": 26,
    "start_time": "2023-12-02T19:09:57.795Z"
   },
   {
    "duration": 8,
    "start_time": "2023-12-02T19:09:57.822Z"
   },
   {
    "duration": 8,
    "start_time": "2023-12-02T19:09:57.832Z"
   },
   {
    "duration": 9,
    "start_time": "2023-12-02T19:09:57.841Z"
   },
   {
    "duration": 10,
    "start_time": "2023-12-02T19:09:57.851Z"
   },
   {
    "duration": 10,
    "start_time": "2023-12-02T19:09:57.862Z"
   },
   {
    "duration": 0,
    "start_time": "2023-12-02T19:09:57.873Z"
   },
   {
    "duration": 0,
    "start_time": "2023-12-02T19:09:57.875Z"
   },
   {
    "duration": 0,
    "start_time": "2023-12-02T19:09:57.877Z"
   },
   {
    "duration": 0,
    "start_time": "2023-12-02T19:09:57.914Z"
   },
   {
    "duration": 10,
    "start_time": "2023-12-02T19:10:05.226Z"
   },
   {
    "duration": 9,
    "start_time": "2023-12-02T19:10:37.095Z"
   },
   {
    "duration": 3,
    "start_time": "2023-12-02T19:12:18.538Z"
   },
   {
    "duration": 3,
    "start_time": "2023-12-02T19:12:21.426Z"
   },
   {
    "duration": 30,
    "start_time": "2023-12-02T19:12:21.430Z"
   },
   {
    "duration": 10,
    "start_time": "2023-12-02T19:12:21.462Z"
   },
   {
    "duration": 7,
    "start_time": "2023-12-02T19:12:21.474Z"
   },
   {
    "duration": 20,
    "start_time": "2023-12-02T19:12:21.483Z"
   },
   {
    "duration": 21,
    "start_time": "2023-12-02T19:12:21.505Z"
   },
   {
    "duration": 53,
    "start_time": "2023-12-02T19:12:21.527Z"
   },
   {
    "duration": 10,
    "start_time": "2023-12-02T19:12:21.582Z"
   },
   {
    "duration": 16,
    "start_time": "2023-12-02T19:12:21.594Z"
   },
   {
    "duration": 8,
    "start_time": "2023-12-02T19:12:21.611Z"
   },
   {
    "duration": 7,
    "start_time": "2023-12-02T19:12:21.620Z"
   },
   {
    "duration": 5,
    "start_time": "2023-12-02T19:12:21.629Z"
   },
   {
    "duration": 5,
    "start_time": "2023-12-02T19:12:21.635Z"
   },
   {
    "duration": 13,
    "start_time": "2023-12-02T19:12:21.641Z"
   },
   {
    "duration": 14,
    "start_time": "2023-12-02T19:12:21.655Z"
   },
   {
    "duration": 19,
    "start_time": "2023-12-02T19:12:21.671Z"
   },
   {
    "duration": 7,
    "start_time": "2023-12-02T19:12:21.692Z"
   },
   {
    "duration": 26,
    "start_time": "2023-12-02T19:12:21.700Z"
   },
   {
    "duration": 173,
    "start_time": "2023-12-02T19:12:21.728Z"
   },
   {
    "duration": 4,
    "start_time": "2023-12-02T19:12:21.902Z"
   },
   {
    "duration": 3,
    "start_time": "2023-12-02T19:12:21.915Z"
   },
   {
    "duration": 268,
    "start_time": "2023-12-02T19:12:21.919Z"
   },
   {
    "duration": 176,
    "start_time": "2023-12-02T19:12:22.188Z"
   },
   {
    "duration": 167,
    "start_time": "2023-12-02T19:12:22.367Z"
   },
   {
    "duration": 351,
    "start_time": "2023-12-02T19:12:22.536Z"
   },
   {
    "duration": 207,
    "start_time": "2023-12-02T19:12:22.889Z"
   },
   {
    "duration": 322,
    "start_time": "2023-12-02T19:12:23.098Z"
   },
   {
    "duration": 9,
    "start_time": "2023-12-02T19:12:23.421Z"
   },
   {
    "duration": 116,
    "start_time": "2023-12-02T19:12:23.432Z"
   },
   {
    "duration": 4,
    "start_time": "2023-12-02T19:12:23.550Z"
   },
   {
    "duration": 132,
    "start_time": "2023-12-02T19:12:23.556Z"
   },
   {
    "duration": 4,
    "start_time": "2023-12-02T19:12:23.689Z"
   },
   {
    "duration": 20,
    "start_time": "2023-12-02T19:12:23.695Z"
   },
   {
    "duration": 8,
    "start_time": "2023-12-02T19:12:23.717Z"
   },
   {
    "duration": 12,
    "start_time": "2023-12-02T19:12:23.727Z"
   },
   {
    "duration": 27,
    "start_time": "2023-12-02T19:12:23.741Z"
   },
   {
    "duration": 13,
    "start_time": "2023-12-02T19:12:23.769Z"
   },
   {
    "duration": 12,
    "start_time": "2023-12-02T19:12:23.784Z"
   },
   {
    "duration": 0,
    "start_time": "2023-12-02T19:12:23.798Z"
   },
   {
    "duration": 0,
    "start_time": "2023-12-02T19:12:23.799Z"
   },
   {
    "duration": 0,
    "start_time": "2023-12-02T19:12:23.800Z"
   },
   {
    "duration": 0,
    "start_time": "2023-12-02T19:12:23.801Z"
   },
   {
    "duration": 11,
    "start_time": "2023-12-02T19:12:44.990Z"
   },
   {
    "duration": 9,
    "start_time": "2023-12-02T19:17:17.706Z"
   },
   {
    "duration": 8,
    "start_time": "2023-12-02T19:18:24.514Z"
   },
   {
    "duration": 10,
    "start_time": "2023-12-02T19:33:18.049Z"
   },
   {
    "duration": 11,
    "start_time": "2023-12-02T19:33:20.969Z"
   },
   {
    "duration": 10,
    "start_time": "2023-12-02T19:37:42.850Z"
   },
   {
    "duration": 10,
    "start_time": "2023-12-02T19:38:11.016Z"
   },
   {
    "duration": 1162,
    "start_time": "2023-12-02T19:42:22.924Z"
   },
   {
    "duration": 27,
    "start_time": "2023-12-02T19:42:24.088Z"
   },
   {
    "duration": 12,
    "start_time": "2023-12-02T19:42:24.117Z"
   },
   {
    "duration": 11,
    "start_time": "2023-12-02T19:42:24.131Z"
   },
   {
    "duration": 22,
    "start_time": "2023-12-02T19:42:24.144Z"
   },
   {
    "duration": 10,
    "start_time": "2023-12-02T19:42:24.167Z"
   },
   {
    "duration": 55,
    "start_time": "2023-12-02T19:42:24.179Z"
   },
   {
    "duration": 10,
    "start_time": "2023-12-02T19:42:24.237Z"
   },
   {
    "duration": 25,
    "start_time": "2023-12-02T19:42:24.248Z"
   },
   {
    "duration": 8,
    "start_time": "2023-12-02T19:42:24.276Z"
   },
   {
    "duration": 9,
    "start_time": "2023-12-02T19:42:24.286Z"
   },
   {
    "duration": 5,
    "start_time": "2023-12-02T19:42:24.296Z"
   },
   {
    "duration": 11,
    "start_time": "2023-12-02T19:42:24.303Z"
   },
   {
    "duration": 21,
    "start_time": "2023-12-02T19:42:24.316Z"
   },
   {
    "duration": 13,
    "start_time": "2023-12-02T19:42:24.339Z"
   },
   {
    "duration": 8,
    "start_time": "2023-12-02T19:42:24.353Z"
   },
   {
    "duration": 4,
    "start_time": "2023-12-02T19:42:24.362Z"
   },
   {
    "duration": 16,
    "start_time": "2023-12-02T19:42:24.368Z"
   },
   {
    "duration": 302,
    "start_time": "2023-12-02T19:42:24.385Z"
   },
   {
    "duration": 4,
    "start_time": "2023-12-02T19:42:24.688Z"
   },
   {
    "duration": 5,
    "start_time": "2023-12-02T19:42:24.694Z"
   },
   {
    "duration": 337,
    "start_time": "2023-12-02T19:42:24.700Z"
   },
   {
    "duration": 191,
    "start_time": "2023-12-02T19:42:25.039Z"
   },
   {
    "duration": 195,
    "start_time": "2023-12-02T19:42:25.232Z"
   },
   {
    "duration": 288,
    "start_time": "2023-12-02T19:42:25.429Z"
   },
   {
    "duration": 207,
    "start_time": "2023-12-02T19:42:25.719Z"
   },
   {
    "duration": 294,
    "start_time": "2023-12-02T19:42:25.928Z"
   },
   {
    "duration": 8,
    "start_time": "2023-12-02T19:42:26.225Z"
   },
   {
    "duration": 118,
    "start_time": "2023-12-02T19:42:26.235Z"
   },
   {
    "duration": 4,
    "start_time": "2023-12-02T19:42:26.355Z"
   },
   {
    "duration": 205,
    "start_time": "2023-12-02T19:42:26.360Z"
   },
   {
    "duration": 4,
    "start_time": "2023-12-02T19:42:26.566Z"
   },
   {
    "duration": 11,
    "start_time": "2023-12-02T19:42:26.571Z"
   },
   {
    "duration": 12,
    "start_time": "2023-12-02T19:42:26.584Z"
   },
   {
    "duration": 19,
    "start_time": "2023-12-02T19:42:26.597Z"
   },
   {
    "duration": 17,
    "start_time": "2023-12-02T19:42:26.617Z"
   },
   {
    "duration": 8,
    "start_time": "2023-12-02T19:42:26.635Z"
   },
   {
    "duration": 112,
    "start_time": "2023-12-02T19:42:26.644Z"
   },
   {
    "duration": 0,
    "start_time": "2023-12-02T19:42:26.757Z"
   },
   {
    "duration": 0,
    "start_time": "2023-12-02T19:42:26.758Z"
   },
   {
    "duration": 0,
    "start_time": "2023-12-02T19:42:26.759Z"
   },
   {
    "duration": 0,
    "start_time": "2023-12-02T19:42:26.760Z"
   },
   {
    "duration": 0,
    "start_time": "2023-12-02T19:42:26.761Z"
   },
   {
    "duration": 3,
    "start_time": "2023-12-02T19:55:18.003Z"
   },
   {
    "duration": 30,
    "start_time": "2023-12-02T19:55:18.008Z"
   },
   {
    "duration": 11,
    "start_time": "2023-12-02T19:55:18.040Z"
   },
   {
    "duration": 3,
    "start_time": "2023-12-02T19:55:18.053Z"
   },
   {
    "duration": 11,
    "start_time": "2023-12-02T19:55:18.057Z"
   },
   {
    "duration": 11,
    "start_time": "2023-12-02T19:55:18.069Z"
   },
   {
    "duration": 52,
    "start_time": "2023-12-02T19:55:18.081Z"
   },
   {
    "duration": 10,
    "start_time": "2023-12-02T19:55:18.134Z"
   },
   {
    "duration": 13,
    "start_time": "2023-12-02T19:55:18.146Z"
   },
   {
    "duration": 9,
    "start_time": "2023-12-02T19:55:18.161Z"
   },
   {
    "duration": 15,
    "start_time": "2023-12-02T19:55:18.172Z"
   },
   {
    "duration": 7,
    "start_time": "2023-12-02T19:55:18.188Z"
   },
   {
    "duration": 8,
    "start_time": "2023-12-02T19:55:18.196Z"
   },
   {
    "duration": 13,
    "start_time": "2023-12-02T19:55:18.205Z"
   },
   {
    "duration": 14,
    "start_time": "2023-12-02T19:55:18.219Z"
   },
   {
    "duration": 4,
    "start_time": "2023-12-02T19:55:18.235Z"
   },
   {
    "duration": 4,
    "start_time": "2023-12-02T19:55:18.241Z"
   },
   {
    "duration": 18,
    "start_time": "2023-12-02T19:55:18.246Z"
   },
   {
    "duration": 163,
    "start_time": "2023-12-02T19:55:18.265Z"
   },
   {
    "duration": 4,
    "start_time": "2023-12-02T19:55:18.430Z"
   },
   {
    "duration": 10,
    "start_time": "2023-12-02T19:55:18.435Z"
   },
   {
    "duration": 285,
    "start_time": "2023-12-02T19:55:18.446Z"
   },
   {
    "duration": 194,
    "start_time": "2023-12-02T19:55:18.732Z"
   },
   {
    "duration": 172,
    "start_time": "2023-12-02T19:55:18.930Z"
   },
   {
    "duration": 284,
    "start_time": "2023-12-02T19:55:19.104Z"
   },
   {
    "duration": 186,
    "start_time": "2023-12-02T19:55:19.390Z"
   },
   {
    "duration": 324,
    "start_time": "2023-12-02T19:55:19.578Z"
   },
   {
    "duration": 14,
    "start_time": "2023-12-02T19:55:19.903Z"
   },
   {
    "duration": 118,
    "start_time": "2023-12-02T19:55:19.918Z"
   },
   {
    "duration": 4,
    "start_time": "2023-12-02T19:55:20.038Z"
   },
   {
    "duration": 141,
    "start_time": "2023-12-02T19:55:20.043Z"
   },
   {
    "duration": 4,
    "start_time": "2023-12-02T19:55:20.186Z"
   },
   {
    "duration": 19,
    "start_time": "2023-12-02T19:55:20.191Z"
   },
   {
    "duration": 9,
    "start_time": "2023-12-02T19:55:20.215Z"
   },
   {
    "duration": 13,
    "start_time": "2023-12-02T19:55:20.226Z"
   },
   {
    "duration": 12,
    "start_time": "2023-12-02T19:55:20.240Z"
   },
   {
    "duration": 8,
    "start_time": "2023-12-02T19:55:20.254Z"
   },
   {
    "duration": 11,
    "start_time": "2023-12-02T19:55:20.264Z"
   },
   {
    "duration": 1,
    "start_time": "2023-12-02T19:55:20.276Z"
   },
   {
    "duration": 0,
    "start_time": "2023-12-02T19:55:20.278Z"
   },
   {
    "duration": 0,
    "start_time": "2023-12-02T19:55:20.279Z"
   },
   {
    "duration": 0,
    "start_time": "2023-12-02T19:55:20.280Z"
   },
   {
    "duration": 0,
    "start_time": "2023-12-02T19:55:20.281Z"
   },
   {
    "duration": 77,
    "start_time": "2023-12-02T19:56:11.208Z"
   },
   {
    "duration": 4,
    "start_time": "2023-12-02T19:56:17.823Z"
   },
   {
    "duration": 7,
    "start_time": "2023-12-02T19:56:53.492Z"
   },
   {
    "duration": 12,
    "start_time": "2023-12-02T19:57:05.476Z"
   },
   {
    "duration": 12,
    "start_time": "2023-12-02T19:58:19.652Z"
   },
   {
    "duration": 3,
    "start_time": "2023-12-02T19:58:45.644Z"
   },
   {
    "duration": 29,
    "start_time": "2023-12-02T19:58:45.649Z"
   },
   {
    "duration": 11,
    "start_time": "2023-12-02T19:58:45.679Z"
   },
   {
    "duration": 4,
    "start_time": "2023-12-02T19:58:45.692Z"
   },
   {
    "duration": 10,
    "start_time": "2023-12-02T19:58:45.698Z"
   },
   {
    "duration": 11,
    "start_time": "2023-12-02T19:58:45.710Z"
   },
   {
    "duration": 50,
    "start_time": "2023-12-02T19:58:45.722Z"
   },
   {
    "duration": 9,
    "start_time": "2023-12-02T19:58:45.774Z"
   },
   {
    "duration": 9,
    "start_time": "2023-12-02T19:58:45.785Z"
   },
   {
    "duration": 10,
    "start_time": "2023-12-02T19:58:45.795Z"
   },
   {
    "duration": 6,
    "start_time": "2023-12-02T19:58:45.806Z"
   },
   {
    "duration": 4,
    "start_time": "2023-12-02T19:58:45.814Z"
   },
   {
    "duration": 4,
    "start_time": "2023-12-02T19:58:45.821Z"
   },
   {
    "duration": 9,
    "start_time": "2023-12-02T19:58:45.827Z"
   },
   {
    "duration": 5,
    "start_time": "2023-12-02T19:58:45.837Z"
   },
   {
    "duration": 3,
    "start_time": "2023-12-02T19:58:45.844Z"
   },
   {
    "duration": 5,
    "start_time": "2023-12-02T19:58:45.849Z"
   },
   {
    "duration": 11,
    "start_time": "2023-12-02T19:58:45.855Z"
   },
   {
    "duration": 192,
    "start_time": "2023-12-02T19:58:45.868Z"
   },
   {
    "duration": 4,
    "start_time": "2023-12-02T19:58:46.062Z"
   },
   {
    "duration": 7,
    "start_time": "2023-12-02T19:58:46.067Z"
   },
   {
    "duration": 274,
    "start_time": "2023-12-02T19:58:46.075Z"
   },
   {
    "duration": 174,
    "start_time": "2023-12-02T19:58:46.351Z"
   },
   {
    "duration": 165,
    "start_time": "2023-12-02T19:58:46.527Z"
   },
   {
    "duration": 350,
    "start_time": "2023-12-02T19:58:46.694Z"
   },
   {
    "duration": 197,
    "start_time": "2023-12-02T19:58:47.046Z"
   },
   {
    "duration": 282,
    "start_time": "2023-12-02T19:58:47.244Z"
   },
   {
    "duration": 9,
    "start_time": "2023-12-02T19:58:47.528Z"
   },
   {
    "duration": 124,
    "start_time": "2023-12-02T19:58:47.538Z"
   },
   {
    "duration": 5,
    "start_time": "2023-12-02T19:58:47.664Z"
   },
   {
    "duration": 128,
    "start_time": "2023-12-02T19:58:47.670Z"
   },
   {
    "duration": 4,
    "start_time": "2023-12-02T19:58:47.799Z"
   },
   {
    "duration": 22,
    "start_time": "2023-12-02T19:58:47.805Z"
   },
   {
    "duration": 11,
    "start_time": "2023-12-02T19:58:47.829Z"
   },
   {
    "duration": 8,
    "start_time": "2023-12-02T19:58:47.842Z"
   },
   {
    "duration": 14,
    "start_time": "2023-12-02T19:58:47.852Z"
   },
   {
    "duration": 10,
    "start_time": "2023-12-02T19:58:47.870Z"
   },
   {
    "duration": 38,
    "start_time": "2023-12-02T19:58:47.881Z"
   },
   {
    "duration": 8,
    "start_time": "2023-12-02T19:58:47.920Z"
   },
   {
    "duration": 10,
    "start_time": "2023-12-02T19:58:47.929Z"
   },
   {
    "duration": 9,
    "start_time": "2023-12-02T19:58:47.940Z"
   },
   {
    "duration": 5,
    "start_time": "2023-12-02T19:58:47.950Z"
   },
   {
    "duration": 4,
    "start_time": "2023-12-02T19:58:47.957Z"
   },
   {
    "duration": 8,
    "start_time": "2023-12-02T19:58:47.962Z"
   },
   {
    "duration": 9,
    "start_time": "2023-12-02T19:59:27.376Z"
   },
   {
    "duration": 1067,
    "start_time": "2023-12-02T19:59:47.264Z"
   },
   {
    "duration": 27,
    "start_time": "2023-12-02T19:59:48.333Z"
   },
   {
    "duration": 14,
    "start_time": "2023-12-02T19:59:48.361Z"
   },
   {
    "duration": 16,
    "start_time": "2023-12-02T19:59:48.378Z"
   },
   {
    "duration": 17,
    "start_time": "2023-12-02T19:59:48.396Z"
   },
   {
    "duration": 10,
    "start_time": "2023-12-02T19:59:48.414Z"
   },
   {
    "duration": 63,
    "start_time": "2023-12-02T19:59:48.425Z"
   },
   {
    "duration": 9,
    "start_time": "2023-12-02T19:59:48.490Z"
   },
   {
    "duration": 10,
    "start_time": "2023-12-02T19:59:48.501Z"
   },
   {
    "duration": 10,
    "start_time": "2023-12-02T19:59:48.513Z"
   },
   {
    "duration": 10,
    "start_time": "2023-12-02T19:59:48.524Z"
   },
   {
    "duration": 12,
    "start_time": "2023-12-02T19:59:48.535Z"
   },
   {
    "duration": 10,
    "start_time": "2023-12-02T19:59:48.548Z"
   },
   {
    "duration": 10,
    "start_time": "2023-12-02T19:59:48.560Z"
   },
   {
    "duration": 8,
    "start_time": "2023-12-02T19:59:48.571Z"
   },
   {
    "duration": 4,
    "start_time": "2023-12-02T19:59:48.580Z"
   },
   {
    "duration": 5,
    "start_time": "2023-12-02T19:59:48.585Z"
   },
   {
    "duration": 28,
    "start_time": "2023-12-02T19:59:48.592Z"
   },
   {
    "duration": 260,
    "start_time": "2023-12-02T19:59:48.621Z"
   },
   {
    "duration": 4,
    "start_time": "2023-12-02T19:59:48.882Z"
   },
   {
    "duration": 4,
    "start_time": "2023-12-02T19:59:48.888Z"
   },
   {
    "duration": 287,
    "start_time": "2023-12-02T19:59:48.893Z"
   },
   {
    "duration": 187,
    "start_time": "2023-12-02T19:59:49.181Z"
   },
   {
    "duration": 168,
    "start_time": "2023-12-02T19:59:49.370Z"
   },
   {
    "duration": 255,
    "start_time": "2023-12-02T19:59:49.539Z"
   },
   {
    "duration": 195,
    "start_time": "2023-12-02T19:59:49.796Z"
   },
   {
    "duration": 316,
    "start_time": "2023-12-02T19:59:49.992Z"
   },
   {
    "duration": 9,
    "start_time": "2023-12-02T19:59:50.314Z"
   },
   {
    "duration": 129,
    "start_time": "2023-12-02T19:59:50.324Z"
   },
   {
    "duration": 5,
    "start_time": "2023-12-02T19:59:50.454Z"
   },
   {
    "duration": 200,
    "start_time": "2023-12-02T19:59:50.461Z"
   },
   {
    "duration": 4,
    "start_time": "2023-12-02T19:59:50.662Z"
   },
   {
    "duration": 10,
    "start_time": "2023-12-02T19:59:50.668Z"
   },
   {
    "duration": 11,
    "start_time": "2023-12-02T19:59:50.680Z"
   },
   {
    "duration": 23,
    "start_time": "2023-12-02T19:59:50.693Z"
   },
   {
    "duration": 12,
    "start_time": "2023-12-02T19:59:50.717Z"
   },
   {
    "duration": 9,
    "start_time": "2023-12-02T19:59:50.730Z"
   },
   {
    "duration": 116,
    "start_time": "2023-12-02T19:59:50.740Z"
   },
   {
    "duration": 0,
    "start_time": "2023-12-02T19:59:50.857Z"
   },
   {
    "duration": 0,
    "start_time": "2023-12-02T19:59:50.859Z"
   },
   {
    "duration": 0,
    "start_time": "2023-12-02T19:59:50.860Z"
   },
   {
    "duration": 0,
    "start_time": "2023-12-02T19:59:50.861Z"
   },
   {
    "duration": 0,
    "start_time": "2023-12-02T19:59:50.862Z"
   },
   {
    "duration": 6,
    "start_time": "2023-12-02T20:00:16.803Z"
   },
   {
    "duration": 10,
    "start_time": "2023-12-02T20:00:22.547Z"
   },
   {
    "duration": 11,
    "start_time": "2023-12-02T20:00:36.151Z"
   },
   {
    "duration": 5,
    "start_time": "2023-12-02T20:00:38.585Z"
   },
   {
    "duration": 6,
    "start_time": "2023-12-02T20:00:40.450Z"
   },
   {
    "duration": 11,
    "start_time": "2023-12-02T20:01:20.273Z"
   },
   {
    "duration": 9,
    "start_time": "2023-12-02T20:02:01.613Z"
   },
   {
    "duration": 10,
    "start_time": "2023-12-02T20:02:09.045Z"
   },
   {
    "duration": 9,
    "start_time": "2023-12-02T20:02:28.032Z"
   },
   {
    "duration": 1138,
    "start_time": "2023-12-02T20:08:20.597Z"
   },
   {
    "duration": 27,
    "start_time": "2023-12-02T20:08:21.737Z"
   },
   {
    "duration": 11,
    "start_time": "2023-12-02T20:08:21.765Z"
   },
   {
    "duration": 8,
    "start_time": "2023-12-02T20:08:21.778Z"
   },
   {
    "duration": 16,
    "start_time": "2023-12-02T20:08:21.787Z"
   },
   {
    "duration": 9,
    "start_time": "2023-12-02T20:08:21.804Z"
   },
   {
    "duration": 53,
    "start_time": "2023-12-02T20:08:21.815Z"
   },
   {
    "duration": 10,
    "start_time": "2023-12-02T20:08:21.869Z"
   },
   {
    "duration": 10,
    "start_time": "2023-12-02T20:08:21.880Z"
   },
   {
    "duration": 9,
    "start_time": "2023-12-02T20:08:21.893Z"
   },
   {
    "duration": 7,
    "start_time": "2023-12-02T20:08:21.903Z"
   },
   {
    "duration": 6,
    "start_time": "2023-12-02T20:08:21.911Z"
   },
   {
    "duration": 4,
    "start_time": "2023-12-02T20:08:21.918Z"
   },
   {
    "duration": 9,
    "start_time": "2023-12-02T20:08:21.923Z"
   },
   {
    "duration": 7,
    "start_time": "2023-12-02T20:08:21.933Z"
   },
   {
    "duration": 4,
    "start_time": "2023-12-02T20:08:21.941Z"
   },
   {
    "duration": 15,
    "start_time": "2023-12-02T20:08:21.947Z"
   },
   {
    "duration": 11,
    "start_time": "2023-12-02T20:08:21.964Z"
   },
   {
    "duration": 262,
    "start_time": "2023-12-02T20:08:21.976Z"
   },
   {
    "duration": 4,
    "start_time": "2023-12-02T20:08:22.240Z"
   },
   {
    "duration": 4,
    "start_time": "2023-12-02T20:08:22.245Z"
   },
   {
    "duration": 288,
    "start_time": "2023-12-02T20:08:22.251Z"
   },
   {
    "duration": 177,
    "start_time": "2023-12-02T20:08:22.540Z"
   },
   {
    "duration": 182,
    "start_time": "2023-12-02T20:08:22.718Z"
   },
   {
    "duration": 286,
    "start_time": "2023-12-02T20:08:22.902Z"
   },
   {
    "duration": 190,
    "start_time": "2023-12-02T20:08:23.190Z"
   },
   {
    "duration": 322,
    "start_time": "2023-12-02T20:08:23.381Z"
   },
   {
    "duration": 15,
    "start_time": "2023-12-02T20:08:23.706Z"
   },
   {
    "duration": 116,
    "start_time": "2023-12-02T20:08:23.722Z"
   },
   {
    "duration": 4,
    "start_time": "2023-12-02T20:08:23.840Z"
   },
   {
    "duration": 203,
    "start_time": "2023-12-02T20:08:23.845Z"
   },
   {
    "duration": 4,
    "start_time": "2023-12-02T20:08:24.049Z"
   },
   {
    "duration": 40,
    "start_time": "2023-12-02T20:08:24.054Z"
   },
   {
    "duration": 27,
    "start_time": "2023-12-02T20:08:24.095Z"
   },
   {
    "duration": 31,
    "start_time": "2023-12-02T20:08:24.123Z"
   },
   {
    "duration": 23,
    "start_time": "2023-12-02T20:08:24.156Z"
   },
   {
    "duration": 16,
    "start_time": "2023-12-02T20:08:24.181Z"
   },
   {
    "duration": 36,
    "start_time": "2023-12-02T20:08:24.198Z"
   },
   {
    "duration": 19,
    "start_time": "2023-12-02T20:08:24.236Z"
   },
   {
    "duration": 19,
    "start_time": "2023-12-02T20:08:24.256Z"
   },
   {
    "duration": 35,
    "start_time": "2023-12-02T20:08:24.277Z"
   },
   {
    "duration": 10,
    "start_time": "2023-12-02T20:08:24.313Z"
   },
   {
    "duration": 50,
    "start_time": "2023-12-02T20:08:24.325Z"
   },
   {
    "duration": 7,
    "start_time": "2023-12-02T20:10:32.785Z"
   },
   {
    "duration": 17,
    "start_time": "2023-12-02T20:11:00.174Z"
   },
   {
    "duration": 99,
    "start_time": "2023-12-02T20:25:56.324Z"
   },
   {
    "duration": 11,
    "start_time": "2023-12-02T20:27:04.534Z"
   },
   {
    "duration": 132,
    "start_time": "2023-12-02T20:27:17.831Z"
   },
   {
    "duration": 5,
    "start_time": "2023-12-02T20:27:27.882Z"
   },
   {
    "duration": 8,
    "start_time": "2023-12-02T20:27:44.966Z"
   },
   {
    "duration": 5,
    "start_time": "2023-12-02T20:28:51.240Z"
   },
   {
    "duration": 10,
    "start_time": "2023-12-02T20:28:58.572Z"
   },
   {
    "duration": 11,
    "start_time": "2023-12-02T20:29:13.226Z"
   },
   {
    "duration": 9,
    "start_time": "2023-12-02T20:36:28.143Z"
   },
   {
    "duration": 10,
    "start_time": "2023-12-02T20:41:40.393Z"
   },
   {
    "duration": 9,
    "start_time": "2023-12-02T20:41:53.378Z"
   },
   {
    "duration": 13,
    "start_time": "2023-12-02T20:42:01.694Z"
   },
   {
    "duration": 8,
    "start_time": "2023-12-02T20:42:28.931Z"
   },
   {
    "duration": 6,
    "start_time": "2023-12-02T20:42:37.232Z"
   },
   {
    "duration": 6,
    "start_time": "2023-12-02T20:42:43.584Z"
   },
   {
    "duration": 85,
    "start_time": "2023-12-02T20:47:25.531Z"
   },
   {
    "duration": 8,
    "start_time": "2023-12-02T20:47:53.369Z"
   },
   {
    "duration": 8,
    "start_time": "2023-12-02T20:48:13.607Z"
   },
   {
    "duration": 4,
    "start_time": "2023-12-02T20:48:40.839Z"
   },
   {
    "duration": 15,
    "start_time": "2023-12-02T20:48:51.341Z"
   },
   {
    "duration": 13,
    "start_time": "2023-12-02T20:49:47.000Z"
   },
   {
    "duration": 8,
    "start_time": "2023-12-02T20:50:53.903Z"
   },
   {
    "duration": 1154,
    "start_time": "2023-12-02T20:52:57.584Z"
   },
   {
    "duration": 28,
    "start_time": "2023-12-02T20:52:58.741Z"
   },
   {
    "duration": 12,
    "start_time": "2023-12-02T20:52:58.770Z"
   },
   {
    "duration": 17,
    "start_time": "2023-12-02T20:52:58.784Z"
   },
   {
    "duration": 44,
    "start_time": "2023-12-02T20:52:58.803Z"
   },
   {
    "duration": 10,
    "start_time": "2023-12-02T20:52:58.849Z"
   },
   {
    "duration": 53,
    "start_time": "2023-12-02T20:52:58.861Z"
   },
   {
    "duration": 10,
    "start_time": "2023-12-02T20:52:58.915Z"
   },
   {
    "duration": 26,
    "start_time": "2023-12-02T20:52:58.926Z"
   },
   {
    "duration": 19,
    "start_time": "2023-12-02T20:52:58.954Z"
   },
   {
    "duration": 8,
    "start_time": "2023-12-02T20:52:58.975Z"
   },
   {
    "duration": 14,
    "start_time": "2023-12-02T20:52:58.984Z"
   },
   {
    "duration": 9,
    "start_time": "2023-12-02T20:52:59.000Z"
   },
   {
    "duration": 22,
    "start_time": "2023-12-02T20:52:59.011Z"
   },
   {
    "duration": 12,
    "start_time": "2023-12-02T20:52:59.034Z"
   },
   {
    "duration": 9,
    "start_time": "2023-12-02T20:52:59.048Z"
   },
   {
    "duration": 17,
    "start_time": "2023-12-02T20:52:59.058Z"
   },
   {
    "duration": 19,
    "start_time": "2023-12-02T20:52:59.077Z"
   },
   {
    "duration": 273,
    "start_time": "2023-12-02T20:52:59.097Z"
   },
   {
    "duration": 4,
    "start_time": "2023-12-02T20:52:59.372Z"
   },
   {
    "duration": 10,
    "start_time": "2023-12-02T20:52:59.377Z"
   },
   {
    "duration": 279,
    "start_time": "2023-12-02T20:52:59.388Z"
   },
   {
    "duration": 175,
    "start_time": "2023-12-02T20:52:59.668Z"
   },
   {
    "duration": 164,
    "start_time": "2023-12-02T20:52:59.844Z"
   },
   {
    "duration": 281,
    "start_time": "2023-12-02T20:53:00.015Z"
   },
   {
    "duration": 212,
    "start_time": "2023-12-02T20:53:00.297Z"
   },
   {
    "duration": 294,
    "start_time": "2023-12-02T20:53:00.510Z"
   },
   {
    "duration": 9,
    "start_time": "2023-12-02T20:53:00.814Z"
   },
   {
    "duration": 122,
    "start_time": "2023-12-02T20:53:00.825Z"
   },
   {
    "duration": 0,
    "start_time": "2023-12-02T20:53:00.949Z"
   },
   {
    "duration": 0,
    "start_time": "2023-12-02T20:53:00.950Z"
   },
   {
    "duration": 0,
    "start_time": "2023-12-02T20:53:00.952Z"
   },
   {
    "duration": 0,
    "start_time": "2023-12-02T20:53:00.953Z"
   },
   {
    "duration": 0,
    "start_time": "2023-12-02T20:53:00.954Z"
   },
   {
    "duration": 0,
    "start_time": "2023-12-02T20:53:00.955Z"
   },
   {
    "duration": 0,
    "start_time": "2023-12-02T20:53:00.956Z"
   },
   {
    "duration": 0,
    "start_time": "2023-12-02T20:53:00.957Z"
   },
   {
    "duration": 0,
    "start_time": "2023-12-02T20:53:00.958Z"
   },
   {
    "duration": 0,
    "start_time": "2023-12-02T20:53:00.959Z"
   },
   {
    "duration": 0,
    "start_time": "2023-12-02T20:53:00.960Z"
   },
   {
    "duration": 0,
    "start_time": "2023-12-02T20:53:00.962Z"
   },
   {
    "duration": 0,
    "start_time": "2023-12-02T20:53:00.962Z"
   },
   {
    "duration": 0,
    "start_time": "2023-12-02T20:53:00.964Z"
   },
   {
    "duration": 0,
    "start_time": "2023-12-02T20:53:00.965Z"
   },
   {
    "duration": 0,
    "start_time": "2023-12-02T20:53:00.966Z"
   },
   {
    "duration": 0,
    "start_time": "2023-12-02T20:53:00.967Z"
   },
   {
    "duration": 0,
    "start_time": "2023-12-02T20:53:00.968Z"
   },
   {
    "duration": 0,
    "start_time": "2023-12-02T20:53:00.969Z"
   },
   {
    "duration": 10,
    "start_time": "2023-12-02T20:55:19.051Z"
   },
   {
    "duration": 3,
    "start_time": "2023-12-02T20:55:22.767Z"
   },
   {
    "duration": 43,
    "start_time": "2023-12-02T20:55:22.772Z"
   },
   {
    "duration": 11,
    "start_time": "2023-12-02T20:55:22.817Z"
   },
   {
    "duration": 16,
    "start_time": "2023-12-02T20:55:22.831Z"
   },
   {
    "duration": 28,
    "start_time": "2023-12-02T20:55:22.848Z"
   },
   {
    "duration": 25,
    "start_time": "2023-12-02T20:55:22.878Z"
   },
   {
    "duration": 59,
    "start_time": "2023-12-02T20:55:22.905Z"
   },
   {
    "duration": 9,
    "start_time": "2023-12-02T20:55:22.966Z"
   },
   {
    "duration": 11,
    "start_time": "2023-12-02T20:55:22.977Z"
   },
   {
    "duration": 22,
    "start_time": "2023-12-02T20:55:22.990Z"
   },
   {
    "duration": 27,
    "start_time": "2023-12-02T20:55:23.014Z"
   },
   {
    "duration": 25,
    "start_time": "2023-12-02T20:55:23.043Z"
   },
   {
    "duration": 31,
    "start_time": "2023-12-02T20:55:23.070Z"
   },
   {
    "duration": 14,
    "start_time": "2023-12-02T20:55:23.103Z"
   },
   {
    "duration": 14,
    "start_time": "2023-12-02T20:55:23.118Z"
   },
   {
    "duration": 5,
    "start_time": "2023-12-02T20:55:23.134Z"
   },
   {
    "duration": 15,
    "start_time": "2023-12-02T20:55:23.140Z"
   },
   {
    "duration": 15,
    "start_time": "2023-12-02T20:55:23.156Z"
   },
   {
    "duration": 169,
    "start_time": "2023-12-02T20:55:23.173Z"
   },
   {
    "duration": 4,
    "start_time": "2023-12-02T20:55:23.343Z"
   },
   {
    "duration": 8,
    "start_time": "2023-12-02T20:55:23.349Z"
   },
   {
    "duration": 342,
    "start_time": "2023-12-02T20:55:23.358Z"
   },
   {
    "duration": 171,
    "start_time": "2023-12-02T20:55:23.702Z"
   },
   {
    "duration": 175,
    "start_time": "2023-12-02T20:55:23.874Z"
   },
   {
    "duration": 245,
    "start_time": "2023-12-02T20:55:24.050Z"
   },
   {
    "duration": 193,
    "start_time": "2023-12-02T20:55:24.297Z"
   },
   {
    "duration": 315,
    "start_time": "2023-12-02T20:55:24.492Z"
   },
   {
    "duration": 13,
    "start_time": "2023-12-02T20:55:24.810Z"
   },
   {
    "duration": 16,
    "start_time": "2023-12-02T20:55:24.824Z"
   },
   {
    "duration": 0,
    "start_time": "2023-12-02T20:55:24.841Z"
   },
   {
    "duration": 0,
    "start_time": "2023-12-02T20:55:24.842Z"
   },
   {
    "duration": 0,
    "start_time": "2023-12-02T20:55:24.843Z"
   },
   {
    "duration": 0,
    "start_time": "2023-12-02T20:55:24.844Z"
   },
   {
    "duration": 0,
    "start_time": "2023-12-02T20:55:24.845Z"
   },
   {
    "duration": 0,
    "start_time": "2023-12-02T20:55:24.846Z"
   },
   {
    "duration": 0,
    "start_time": "2023-12-02T20:55:24.847Z"
   },
   {
    "duration": 0,
    "start_time": "2023-12-02T20:55:24.848Z"
   },
   {
    "duration": 0,
    "start_time": "2023-12-02T20:55:24.849Z"
   },
   {
    "duration": 0,
    "start_time": "2023-12-02T20:55:24.850Z"
   },
   {
    "duration": 0,
    "start_time": "2023-12-02T20:55:24.850Z"
   },
   {
    "duration": 0,
    "start_time": "2023-12-02T20:55:24.851Z"
   },
   {
    "duration": 0,
    "start_time": "2023-12-02T20:55:24.852Z"
   },
   {
    "duration": 0,
    "start_time": "2023-12-02T20:55:24.853Z"
   },
   {
    "duration": 0,
    "start_time": "2023-12-02T20:55:24.854Z"
   },
   {
    "duration": 0,
    "start_time": "2023-12-02T20:55:24.854Z"
   },
   {
    "duration": 0,
    "start_time": "2023-12-02T20:55:24.855Z"
   },
   {
    "duration": 0,
    "start_time": "2023-12-02T20:55:24.856Z"
   },
   {
    "duration": 0,
    "start_time": "2023-12-02T20:55:24.857Z"
   },
   {
    "duration": 8,
    "start_time": "2023-12-02T20:55:44.118Z"
   },
   {
    "duration": 9,
    "start_time": "2023-12-02T20:55:47.202Z"
   },
   {
    "duration": 1077,
    "start_time": "2023-12-02T20:55:53.565Z"
   },
   {
    "duration": 29,
    "start_time": "2023-12-02T20:55:54.644Z"
   },
   {
    "duration": 10,
    "start_time": "2023-12-02T20:55:54.675Z"
   },
   {
    "duration": 7,
    "start_time": "2023-12-02T20:55:54.687Z"
   },
   {
    "duration": 24,
    "start_time": "2023-12-02T20:55:54.695Z"
   },
   {
    "duration": 10,
    "start_time": "2023-12-02T20:55:54.720Z"
   },
   {
    "duration": 55,
    "start_time": "2023-12-02T20:55:54.731Z"
   },
   {
    "duration": 10,
    "start_time": "2023-12-02T20:55:54.788Z"
   },
   {
    "duration": 10,
    "start_time": "2023-12-02T20:55:54.799Z"
   },
   {
    "duration": 10,
    "start_time": "2023-12-02T20:55:54.811Z"
   },
   {
    "duration": 9,
    "start_time": "2023-12-02T20:55:54.822Z"
   },
   {
    "duration": 6,
    "start_time": "2023-12-02T20:55:54.832Z"
   },
   {
    "duration": 4,
    "start_time": "2023-12-02T20:55:54.839Z"
   },
   {
    "duration": 11,
    "start_time": "2023-12-02T20:55:54.844Z"
   },
   {
    "duration": 6,
    "start_time": "2023-12-02T20:55:54.857Z"
   },
   {
    "duration": 5,
    "start_time": "2023-12-02T20:55:54.864Z"
   },
   {
    "duration": 3,
    "start_time": "2023-12-02T20:55:54.870Z"
   },
   {
    "duration": 42,
    "start_time": "2023-12-02T20:55:54.874Z"
   },
   {
    "duration": 265,
    "start_time": "2023-12-02T20:55:54.917Z"
   },
   {
    "duration": 4,
    "start_time": "2023-12-02T20:55:55.184Z"
   },
   {
    "duration": 5,
    "start_time": "2023-12-02T20:55:55.189Z"
   },
   {
    "duration": 290,
    "start_time": "2023-12-02T20:55:55.195Z"
   },
   {
    "duration": 175,
    "start_time": "2023-12-02T20:55:55.486Z"
   },
   {
    "duration": 168,
    "start_time": "2023-12-02T20:55:55.662Z"
   },
   {
    "duration": 263,
    "start_time": "2023-12-02T20:55:55.831Z"
   },
   {
    "duration": 194,
    "start_time": "2023-12-02T20:55:56.096Z"
   },
   {
    "duration": 317,
    "start_time": "2023-12-02T20:55:56.291Z"
   },
   {
    "duration": 10,
    "start_time": "2023-12-02T20:55:56.615Z"
   },
   {
    "duration": 107,
    "start_time": "2023-12-02T20:55:56.627Z"
   },
   {
    "duration": 0,
    "start_time": "2023-12-02T20:55:56.736Z"
   },
   {
    "duration": 0,
    "start_time": "2023-12-02T20:55:56.737Z"
   },
   {
    "duration": 0,
    "start_time": "2023-12-02T20:55:56.739Z"
   },
   {
    "duration": 0,
    "start_time": "2023-12-02T20:55:56.741Z"
   },
   {
    "duration": 0,
    "start_time": "2023-12-02T20:55:56.742Z"
   },
   {
    "duration": 0,
    "start_time": "2023-12-02T20:55:56.744Z"
   },
   {
    "duration": 0,
    "start_time": "2023-12-02T20:55:56.745Z"
   },
   {
    "duration": 0,
    "start_time": "2023-12-02T20:55:56.746Z"
   },
   {
    "duration": 0,
    "start_time": "2023-12-02T20:55:56.748Z"
   },
   {
    "duration": 0,
    "start_time": "2023-12-02T20:55:56.749Z"
   },
   {
    "duration": 0,
    "start_time": "2023-12-02T20:55:56.750Z"
   },
   {
    "duration": 0,
    "start_time": "2023-12-02T20:55:56.752Z"
   },
   {
    "duration": 0,
    "start_time": "2023-12-02T20:55:56.753Z"
   },
   {
    "duration": 0,
    "start_time": "2023-12-02T20:55:56.755Z"
   },
   {
    "duration": 0,
    "start_time": "2023-12-02T20:55:56.756Z"
   },
   {
    "duration": 0,
    "start_time": "2023-12-02T20:55:56.758Z"
   },
   {
    "duration": 0,
    "start_time": "2023-12-02T20:55:56.759Z"
   },
   {
    "duration": 0,
    "start_time": "2023-12-02T20:55:56.760Z"
   },
   {
    "duration": 0,
    "start_time": "2023-12-02T20:55:56.762Z"
   },
   {
    "duration": 8,
    "start_time": "2023-12-02T20:57:12.145Z"
   },
   {
    "duration": 3,
    "start_time": "2023-12-02T20:57:18.419Z"
   },
   {
    "duration": 29,
    "start_time": "2023-12-02T20:57:18.425Z"
   },
   {
    "duration": 10,
    "start_time": "2023-12-02T20:57:18.455Z"
   },
   {
    "duration": 6,
    "start_time": "2023-12-02T20:57:18.466Z"
   },
   {
    "duration": 13,
    "start_time": "2023-12-02T20:57:18.474Z"
   },
   {
    "duration": 11,
    "start_time": "2023-12-02T20:57:18.489Z"
   },
   {
    "duration": 63,
    "start_time": "2023-12-02T20:57:18.501Z"
   },
   {
    "duration": 11,
    "start_time": "2023-12-02T20:57:18.566Z"
   },
   {
    "duration": 11,
    "start_time": "2023-12-02T20:57:18.578Z"
   },
   {
    "duration": 10,
    "start_time": "2023-12-02T20:57:18.590Z"
   },
   {
    "duration": 11,
    "start_time": "2023-12-02T20:57:18.601Z"
   },
   {
    "duration": 5,
    "start_time": "2023-12-02T20:57:18.613Z"
   },
   {
    "duration": 4,
    "start_time": "2023-12-02T20:57:18.622Z"
   },
   {
    "duration": 11,
    "start_time": "2023-12-02T20:57:18.627Z"
   },
   {
    "duration": 6,
    "start_time": "2023-12-02T20:57:18.640Z"
   },
   {
    "duration": 14,
    "start_time": "2023-12-02T20:57:18.648Z"
   },
   {
    "duration": 4,
    "start_time": "2023-12-02T20:57:18.663Z"
   },
   {
    "duration": 14,
    "start_time": "2023-12-02T20:57:18.669Z"
   },
   {
    "duration": 201,
    "start_time": "2023-12-02T20:57:18.685Z"
   },
   {
    "duration": 4,
    "start_time": "2023-12-02T20:57:18.888Z"
   },
   {
    "duration": 21,
    "start_time": "2023-12-02T20:57:18.894Z"
   },
   {
    "duration": 332,
    "start_time": "2023-12-02T20:57:18.917Z"
   },
   {
    "duration": 182,
    "start_time": "2023-12-02T20:57:19.251Z"
   },
   {
    "duration": 172,
    "start_time": "2023-12-02T20:57:19.435Z"
   },
   {
    "duration": 281,
    "start_time": "2023-12-02T20:57:19.610Z"
   },
   {
    "duration": 192,
    "start_time": "2023-12-02T20:57:19.893Z"
   },
   {
    "duration": 341,
    "start_time": "2023-12-02T20:57:20.088Z"
   },
   {
    "duration": 9,
    "start_time": "2023-12-02T20:57:20.431Z"
   },
   {
    "duration": 16,
    "start_time": "2023-12-02T20:57:20.441Z"
   },
   {
    "duration": 0,
    "start_time": "2023-12-02T20:57:20.459Z"
   },
   {
    "duration": 0,
    "start_time": "2023-12-02T20:57:20.462Z"
   },
   {
    "duration": 0,
    "start_time": "2023-12-02T20:57:20.466Z"
   },
   {
    "duration": 0,
    "start_time": "2023-12-02T20:57:20.468Z"
   },
   {
    "duration": 0,
    "start_time": "2023-12-02T20:57:20.469Z"
   },
   {
    "duration": 0,
    "start_time": "2023-12-02T20:57:20.470Z"
   },
   {
    "duration": 0,
    "start_time": "2023-12-02T20:57:20.472Z"
   },
   {
    "duration": 0,
    "start_time": "2023-12-02T20:57:20.474Z"
   },
   {
    "duration": 0,
    "start_time": "2023-12-02T20:57:20.475Z"
   },
   {
    "duration": 0,
    "start_time": "2023-12-02T20:57:20.476Z"
   },
   {
    "duration": 0,
    "start_time": "2023-12-02T20:57:20.478Z"
   },
   {
    "duration": 0,
    "start_time": "2023-12-02T20:57:20.479Z"
   },
   {
    "duration": 0,
    "start_time": "2023-12-02T20:57:20.515Z"
   },
   {
    "duration": 0,
    "start_time": "2023-12-02T20:57:20.517Z"
   },
   {
    "duration": 0,
    "start_time": "2023-12-02T20:57:20.518Z"
   },
   {
    "duration": 0,
    "start_time": "2023-12-02T20:57:20.519Z"
   },
   {
    "duration": 0,
    "start_time": "2023-12-02T20:57:20.521Z"
   },
   {
    "duration": 0,
    "start_time": "2023-12-02T20:57:20.522Z"
   },
   {
    "duration": 0,
    "start_time": "2023-12-02T20:57:20.524Z"
   },
   {
    "duration": 103,
    "start_time": "2023-12-02T20:57:44.065Z"
   },
   {
    "duration": 3,
    "start_time": "2023-12-02T20:57:50.440Z"
   },
   {
    "duration": 30,
    "start_time": "2023-12-02T20:57:50.444Z"
   },
   {
    "duration": 9,
    "start_time": "2023-12-02T20:57:50.476Z"
   },
   {
    "duration": 6,
    "start_time": "2023-12-02T20:57:50.486Z"
   },
   {
    "duration": 13,
    "start_time": "2023-12-02T20:57:50.494Z"
   },
   {
    "duration": 16,
    "start_time": "2023-12-02T20:57:50.508Z"
   },
   {
    "duration": 55,
    "start_time": "2023-12-02T20:57:50.525Z"
   },
   {
    "duration": 9,
    "start_time": "2023-12-02T20:57:50.582Z"
   },
   {
    "duration": 27,
    "start_time": "2023-12-02T20:57:50.592Z"
   },
   {
    "duration": 9,
    "start_time": "2023-12-02T20:57:50.620Z"
   },
   {
    "duration": 8,
    "start_time": "2023-12-02T20:57:50.631Z"
   },
   {
    "duration": 6,
    "start_time": "2023-12-02T20:57:50.640Z"
   },
   {
    "duration": 10,
    "start_time": "2023-12-02T20:57:50.648Z"
   },
   {
    "duration": 39,
    "start_time": "2023-12-02T20:57:50.660Z"
   },
   {
    "duration": 7,
    "start_time": "2023-12-02T20:57:50.700Z"
   },
   {
    "duration": 5,
    "start_time": "2023-12-02T20:57:50.708Z"
   },
   {
    "duration": 8,
    "start_time": "2023-12-02T20:57:50.714Z"
   },
   {
    "duration": 15,
    "start_time": "2023-12-02T20:57:50.723Z"
   },
   {
    "duration": 179,
    "start_time": "2023-12-02T20:57:50.739Z"
   },
   {
    "duration": 5,
    "start_time": "2023-12-02T20:57:50.919Z"
   },
   {
    "duration": 5,
    "start_time": "2023-12-02T20:57:50.925Z"
   },
   {
    "duration": 278,
    "start_time": "2023-12-02T20:57:50.931Z"
   },
   {
    "duration": 175,
    "start_time": "2023-12-02T20:57:51.210Z"
   },
   {
    "duration": 167,
    "start_time": "2023-12-02T20:57:51.386Z"
   },
   {
    "duration": 240,
    "start_time": "2023-12-02T20:57:51.555Z"
   },
   {
    "duration": 187,
    "start_time": "2023-12-02T20:57:51.796Z"
   },
   {
    "duration": 320,
    "start_time": "2023-12-02T20:57:51.985Z"
   },
   {
    "duration": 13,
    "start_time": "2023-12-02T20:57:52.306Z"
   },
   {
    "duration": 199,
    "start_time": "2023-12-02T20:57:52.320Z"
   },
   {
    "duration": 5,
    "start_time": "2023-12-02T20:57:52.521Z"
   },
   {
    "duration": 8,
    "start_time": "2023-12-02T20:57:52.528Z"
   },
   {
    "duration": 145,
    "start_time": "2023-12-02T20:57:52.537Z"
   },
   {
    "duration": 4,
    "start_time": "2023-12-02T20:57:52.684Z"
   },
   {
    "duration": 25,
    "start_time": "2023-12-02T20:57:52.690Z"
   },
   {
    "duration": 9,
    "start_time": "2023-12-02T20:57:52.717Z"
   },
   {
    "duration": 9,
    "start_time": "2023-12-02T20:57:52.727Z"
   },
   {
    "duration": 12,
    "start_time": "2023-12-02T20:57:52.739Z"
   },
   {
    "duration": 25,
    "start_time": "2023-12-02T20:57:52.752Z"
   },
   {
    "duration": 11,
    "start_time": "2023-12-02T20:57:52.779Z"
   },
   {
    "duration": 21,
    "start_time": "2023-12-02T20:57:52.792Z"
   },
   {
    "duration": 38,
    "start_time": "2023-12-02T20:57:52.815Z"
   },
   {
    "duration": 19,
    "start_time": "2023-12-02T20:57:52.855Z"
   },
   {
    "duration": 9,
    "start_time": "2023-12-02T20:57:52.875Z"
   },
   {
    "duration": 6,
    "start_time": "2023-12-02T20:57:52.886Z"
   },
   {
    "duration": 10,
    "start_time": "2023-12-02T20:57:52.893Z"
   },
   {
    "duration": 11,
    "start_time": "2023-12-02T20:57:52.905Z"
   },
   {
    "duration": 8,
    "start_time": "2023-12-02T20:57:52.918Z"
   },
   {
    "duration": 9,
    "start_time": "2023-12-02T20:57:52.928Z"
   },
   {
    "duration": 8,
    "start_time": "2023-12-02T20:59:56.065Z"
   },
   {
    "duration": 11,
    "start_time": "2023-12-02T21:01:17.240Z"
   },
   {
    "duration": 12,
    "start_time": "2023-12-02T21:04:42.583Z"
   },
   {
    "duration": 4,
    "start_time": "2023-12-02T21:04:55.798Z"
   },
   {
    "duration": 108,
    "start_time": "2023-12-02T21:09:26.277Z"
   },
   {
    "duration": 4,
    "start_time": "2023-12-02T21:09:43.213Z"
   },
   {
    "duration": 7,
    "start_time": "2023-12-02T21:09:58.181Z"
   },
   {
    "duration": 7,
    "start_time": "2023-12-02T21:11:01.404Z"
   },
   {
    "duration": 5,
    "start_time": "2023-12-02T21:15:38.353Z"
   },
   {
    "duration": 9,
    "start_time": "2023-12-02T21:16:49.414Z"
   },
   {
    "duration": 5,
    "start_time": "2023-12-02T21:17:28.365Z"
   },
   {
    "duration": 5,
    "start_time": "2023-12-02T21:17:41.333Z"
   },
   {
    "duration": 168,
    "start_time": "2023-12-02T21:31:39.928Z"
   },
   {
    "duration": 168,
    "start_time": "2023-12-02T21:32:57.038Z"
   },
   {
    "duration": 172,
    "start_time": "2023-12-02T21:34:27.535Z"
   },
   {
    "duration": 1131,
    "start_time": "2023-12-02T21:34:45.226Z"
   },
   {
    "duration": 28,
    "start_time": "2023-12-02T21:34:46.359Z"
   },
   {
    "duration": 9,
    "start_time": "2023-12-02T21:34:46.389Z"
   },
   {
    "duration": 7,
    "start_time": "2023-12-02T21:34:46.400Z"
   },
   {
    "duration": 22,
    "start_time": "2023-12-02T21:34:46.408Z"
   },
   {
    "duration": 11,
    "start_time": "2023-12-02T21:34:46.432Z"
   },
   {
    "duration": 62,
    "start_time": "2023-12-02T21:34:46.445Z"
   },
   {
    "duration": 11,
    "start_time": "2023-12-02T21:34:46.509Z"
   },
   {
    "duration": 11,
    "start_time": "2023-12-02T21:34:46.522Z"
   },
   {
    "duration": 15,
    "start_time": "2023-12-02T21:34:46.535Z"
   },
   {
    "duration": 15,
    "start_time": "2023-12-02T21:34:46.552Z"
   },
   {
    "duration": 13,
    "start_time": "2023-12-02T21:34:46.569Z"
   },
   {
    "duration": 23,
    "start_time": "2023-12-02T21:34:46.583Z"
   },
   {
    "duration": 11,
    "start_time": "2023-12-02T21:34:46.608Z"
   },
   {
    "duration": 6,
    "start_time": "2023-12-02T21:34:46.620Z"
   },
   {
    "duration": 9,
    "start_time": "2023-12-02T21:34:46.627Z"
   },
   {
    "duration": 4,
    "start_time": "2023-12-02T21:34:46.637Z"
   },
   {
    "duration": 18,
    "start_time": "2023-12-02T21:34:46.642Z"
   },
   {
    "duration": 256,
    "start_time": "2023-12-02T21:34:46.662Z"
   },
   {
    "duration": 4,
    "start_time": "2023-12-02T21:34:46.919Z"
   },
   {
    "duration": 5,
    "start_time": "2023-12-02T21:34:46.925Z"
   },
   {
    "duration": 287,
    "start_time": "2023-12-02T21:34:46.931Z"
   },
   {
    "duration": 172,
    "start_time": "2023-12-02T21:34:47.219Z"
   },
   {
    "duration": 183,
    "start_time": "2023-12-02T21:34:47.393Z"
   },
   {
    "duration": 266,
    "start_time": "2023-12-02T21:34:47.578Z"
   },
   {
    "duration": 185,
    "start_time": "2023-12-02T21:34:47.845Z"
   },
   {
    "duration": 287,
    "start_time": "2023-12-02T21:34:48.031Z"
   },
   {
    "duration": 10,
    "start_time": "2023-12-02T21:34:48.321Z"
   },
   {
    "duration": 124,
    "start_time": "2023-12-02T21:34:48.333Z"
   },
   {
    "duration": 6,
    "start_time": "2023-12-02T21:34:48.459Z"
   },
   {
    "duration": 7,
    "start_time": "2023-12-02T21:34:48.467Z"
   },
   {
    "duration": 218,
    "start_time": "2023-12-02T21:34:48.476Z"
   },
   {
    "duration": 4,
    "start_time": "2023-12-02T21:34:48.696Z"
   },
   {
    "duration": 22,
    "start_time": "2023-12-02T21:34:48.702Z"
   },
   {
    "duration": 8,
    "start_time": "2023-12-02T21:34:48.726Z"
   },
   {
    "duration": 8,
    "start_time": "2023-12-02T21:34:48.736Z"
   },
   {
    "duration": 11,
    "start_time": "2023-12-02T21:34:48.746Z"
   },
   {
    "duration": 11,
    "start_time": "2023-12-02T21:34:48.759Z"
   },
   {
    "duration": 44,
    "start_time": "2023-12-02T21:34:48.772Z"
   },
   {
    "duration": 9,
    "start_time": "2023-12-02T21:34:48.818Z"
   },
   {
    "duration": 6,
    "start_time": "2023-12-02T21:34:48.828Z"
   },
   {
    "duration": 7,
    "start_time": "2023-12-02T21:34:48.836Z"
   },
   {
    "duration": 12,
    "start_time": "2023-12-02T21:34:48.844Z"
   },
   {
    "duration": 65,
    "start_time": "2023-12-02T21:34:48.857Z"
   },
   {
    "duration": 7,
    "start_time": "2023-12-02T21:34:48.923Z"
   },
   {
    "duration": 6,
    "start_time": "2023-12-02T21:34:48.932Z"
   },
   {
    "duration": 10,
    "start_time": "2023-12-02T21:34:48.940Z"
   },
   {
    "duration": 4,
    "start_time": "2023-12-02T21:34:48.951Z"
   },
   {
    "duration": 60,
    "start_time": "2023-12-02T21:34:48.956Z"
   },
   {
    "duration": 10,
    "start_time": "2023-12-02T21:34:49.018Z"
   },
   {
    "duration": 5,
    "start_time": "2023-12-02T21:34:49.029Z"
   },
   {
    "duration": 9,
    "start_time": "2023-12-02T21:34:49.036Z"
   },
   {
    "duration": 6,
    "start_time": "2023-12-02T21:34:49.047Z"
   },
   {
    "duration": 6,
    "start_time": "2023-12-02T21:34:49.055Z"
   },
   {
    "duration": 267,
    "start_time": "2023-12-02T21:36:06.108Z"
   },
   {
    "duration": 1138,
    "start_time": "2023-12-02T21:36:17.730Z"
   },
   {
    "duration": 28,
    "start_time": "2023-12-02T21:36:18.870Z"
   },
   {
    "duration": 11,
    "start_time": "2023-12-02T21:36:18.899Z"
   },
   {
    "duration": 4,
    "start_time": "2023-12-02T21:36:18.912Z"
   },
   {
    "duration": 17,
    "start_time": "2023-12-02T21:36:18.918Z"
   },
   {
    "duration": 10,
    "start_time": "2023-12-02T21:36:18.937Z"
   },
   {
    "duration": 72,
    "start_time": "2023-12-02T21:36:18.948Z"
   },
   {
    "duration": 9,
    "start_time": "2023-12-02T21:36:19.022Z"
   },
   {
    "duration": 38,
    "start_time": "2023-12-02T21:36:19.032Z"
   },
   {
    "duration": 23,
    "start_time": "2023-12-02T21:36:19.073Z"
   },
   {
    "duration": 19,
    "start_time": "2023-12-02T21:36:19.098Z"
   },
   {
    "duration": 19,
    "start_time": "2023-12-02T21:36:19.118Z"
   },
   {
    "duration": 17,
    "start_time": "2023-12-02T21:36:19.138Z"
   },
   {
    "duration": 33,
    "start_time": "2023-12-02T21:36:19.156Z"
   },
   {
    "duration": 8,
    "start_time": "2023-12-02T21:36:19.190Z"
   },
   {
    "duration": 14,
    "start_time": "2023-12-02T21:36:19.199Z"
   },
   {
    "duration": 7,
    "start_time": "2023-12-02T21:36:19.214Z"
   },
   {
    "duration": 11,
    "start_time": "2023-12-02T21:36:19.222Z"
   },
   {
    "duration": 265,
    "start_time": "2023-12-02T21:36:19.234Z"
   },
   {
    "duration": 4,
    "start_time": "2023-12-02T21:36:19.501Z"
   },
   {
    "duration": 11,
    "start_time": "2023-12-02T21:36:19.506Z"
   },
   {
    "duration": 281,
    "start_time": "2023-12-02T21:36:19.518Z"
   },
   {
    "duration": 265,
    "start_time": "2023-12-02T21:36:19.800Z"
   },
   {
    "duration": 169,
    "start_time": "2023-12-02T21:36:20.067Z"
   },
   {
    "duration": 173,
    "start_time": "2023-12-02T21:36:20.238Z"
   },
   {
    "duration": 264,
    "start_time": "2023-12-02T21:36:20.413Z"
   },
   {
    "duration": 203,
    "start_time": "2023-12-02T21:36:20.679Z"
   },
   {
    "duration": 313,
    "start_time": "2023-12-02T21:36:20.886Z"
   },
   {
    "duration": 16,
    "start_time": "2023-12-02T21:36:21.201Z"
   },
   {
    "duration": 112,
    "start_time": "2023-12-02T21:36:21.218Z"
   },
   {
    "duration": 5,
    "start_time": "2023-12-02T21:36:21.332Z"
   },
   {
    "duration": 12,
    "start_time": "2023-12-02T21:36:21.338Z"
   },
   {
    "duration": 204,
    "start_time": "2023-12-02T21:36:21.351Z"
   },
   {
    "duration": 4,
    "start_time": "2023-12-02T21:36:21.556Z"
   },
   {
    "duration": 34,
    "start_time": "2023-12-02T21:36:21.561Z"
   },
   {
    "duration": 23,
    "start_time": "2023-12-02T21:36:21.596Z"
   },
   {
    "duration": 8,
    "start_time": "2023-12-02T21:36:21.621Z"
   },
   {
    "duration": 34,
    "start_time": "2023-12-02T21:36:21.630Z"
   },
   {
    "duration": 10,
    "start_time": "2023-12-02T21:36:21.666Z"
   },
   {
    "duration": 6,
    "start_time": "2023-12-02T21:36:21.678Z"
   },
   {
    "duration": 10,
    "start_time": "2023-12-02T21:36:21.685Z"
   },
   {
    "duration": 5,
    "start_time": "2023-12-02T21:36:21.696Z"
   },
   {
    "duration": 15,
    "start_time": "2023-12-02T21:36:21.702Z"
   },
   {
    "duration": 23,
    "start_time": "2023-12-02T21:36:21.719Z"
   },
   {
    "duration": 22,
    "start_time": "2023-12-02T21:36:21.744Z"
   },
   {
    "duration": 12,
    "start_time": "2023-12-02T21:36:21.767Z"
   },
   {
    "duration": 6,
    "start_time": "2023-12-02T21:36:21.781Z"
   },
   {
    "duration": 11,
    "start_time": "2023-12-02T21:36:21.788Z"
   },
   {
    "duration": 5,
    "start_time": "2023-12-02T21:36:21.800Z"
   },
   {
    "duration": 14,
    "start_time": "2023-12-02T21:36:21.807Z"
   },
   {
    "duration": 8,
    "start_time": "2023-12-02T21:36:21.822Z"
   },
   {
    "duration": 10,
    "start_time": "2023-12-02T21:36:21.832Z"
   },
   {
    "duration": 15,
    "start_time": "2023-12-02T21:36:21.844Z"
   },
   {
    "duration": 11,
    "start_time": "2023-12-02T21:36:21.861Z"
   },
   {
    "duration": 6,
    "start_time": "2023-12-02T21:36:21.873Z"
   },
   {
    "duration": 197,
    "start_time": "2023-12-02T21:38:27.207Z"
   },
   {
    "duration": 201,
    "start_time": "2023-12-02T21:39:14.850Z"
   },
   {
    "duration": 245,
    "start_time": "2023-12-02T21:40:47.643Z"
   },
   {
    "duration": 1696,
    "start_time": "2023-12-02T21:41:03.557Z"
   },
   {
    "duration": 294,
    "start_time": "2023-12-02T21:41:24.093Z"
   },
   {
    "duration": 185,
    "start_time": "2023-12-02T21:42:44.036Z"
   },
   {
    "duration": 295,
    "start_time": "2023-12-02T21:43:52.609Z"
   },
   {
    "duration": 1111,
    "start_time": "2023-12-02T21:44:16.010Z"
   },
   {
    "duration": 27,
    "start_time": "2023-12-02T21:44:17.123Z"
   },
   {
    "duration": 9,
    "start_time": "2023-12-02T21:44:17.152Z"
   },
   {
    "duration": 4,
    "start_time": "2023-12-02T21:44:17.163Z"
   },
   {
    "duration": 21,
    "start_time": "2023-12-02T21:44:17.168Z"
   },
   {
    "duration": 10,
    "start_time": "2023-12-02T21:44:17.190Z"
   },
   {
    "duration": 61,
    "start_time": "2023-12-02T21:44:17.201Z"
   },
   {
    "duration": 10,
    "start_time": "2023-12-02T21:44:17.263Z"
   },
   {
    "duration": 13,
    "start_time": "2023-12-02T21:44:17.274Z"
   },
   {
    "duration": 9,
    "start_time": "2023-12-02T21:44:17.289Z"
   },
   {
    "duration": 12,
    "start_time": "2023-12-02T21:44:17.299Z"
   },
   {
    "duration": 18,
    "start_time": "2023-12-02T21:44:17.312Z"
   },
   {
    "duration": 6,
    "start_time": "2023-12-02T21:44:17.332Z"
   },
   {
    "duration": 25,
    "start_time": "2023-12-02T21:44:17.339Z"
   },
   {
    "duration": 7,
    "start_time": "2023-12-02T21:44:17.365Z"
   },
   {
    "duration": 6,
    "start_time": "2023-12-02T21:44:17.373Z"
   },
   {
    "duration": 6,
    "start_time": "2023-12-02T21:44:17.380Z"
   },
   {
    "duration": 28,
    "start_time": "2023-12-02T21:44:17.388Z"
   },
   {
    "duration": 264,
    "start_time": "2023-12-02T21:44:17.417Z"
   },
   {
    "duration": 4,
    "start_time": "2023-12-02T21:44:17.682Z"
   },
   {
    "duration": 4,
    "start_time": "2023-12-02T21:44:17.688Z"
   },
   {
    "duration": 352,
    "start_time": "2023-12-02T21:44:17.694Z"
   },
   {
    "duration": 0,
    "start_time": "2023-12-02T21:44:18.048Z"
   },
   {
    "duration": 0,
    "start_time": "2023-12-02T21:44:18.049Z"
   },
   {
    "duration": 0,
    "start_time": "2023-12-02T21:44:18.050Z"
   },
   {
    "duration": 0,
    "start_time": "2023-12-02T21:44:18.051Z"
   },
   {
    "duration": 0,
    "start_time": "2023-12-02T21:44:18.052Z"
   },
   {
    "duration": 0,
    "start_time": "2023-12-02T21:44:18.053Z"
   },
   {
    "duration": 0,
    "start_time": "2023-12-02T21:44:18.054Z"
   },
   {
    "duration": 0,
    "start_time": "2023-12-02T21:44:18.055Z"
   },
   {
    "duration": 0,
    "start_time": "2023-12-02T21:44:18.056Z"
   },
   {
    "duration": 0,
    "start_time": "2023-12-02T21:44:18.057Z"
   },
   {
    "duration": 0,
    "start_time": "2023-12-02T21:44:18.058Z"
   },
   {
    "duration": 0,
    "start_time": "2023-12-02T21:44:18.059Z"
   },
   {
    "duration": 0,
    "start_time": "2023-12-02T21:44:18.059Z"
   },
   {
    "duration": 0,
    "start_time": "2023-12-02T21:44:18.060Z"
   },
   {
    "duration": 0,
    "start_time": "2023-12-02T21:44:18.062Z"
   },
   {
    "duration": 0,
    "start_time": "2023-12-02T21:44:18.063Z"
   },
   {
    "duration": 0,
    "start_time": "2023-12-02T21:44:18.064Z"
   },
   {
    "duration": 0,
    "start_time": "2023-12-02T21:44:18.065Z"
   },
   {
    "duration": 0,
    "start_time": "2023-12-02T21:44:18.066Z"
   },
   {
    "duration": 0,
    "start_time": "2023-12-02T21:44:18.067Z"
   },
   {
    "duration": 0,
    "start_time": "2023-12-02T21:44:18.068Z"
   },
   {
    "duration": 0,
    "start_time": "2023-12-02T21:44:18.069Z"
   },
   {
    "duration": 0,
    "start_time": "2023-12-02T21:44:18.070Z"
   },
   {
    "duration": 0,
    "start_time": "2023-12-02T21:44:18.070Z"
   },
   {
    "duration": 0,
    "start_time": "2023-12-02T21:44:18.071Z"
   },
   {
    "duration": 0,
    "start_time": "2023-12-02T21:44:18.072Z"
   },
   {
    "duration": 0,
    "start_time": "2023-12-02T21:44:18.115Z"
   },
   {
    "duration": 0,
    "start_time": "2023-12-02T21:44:18.116Z"
   },
   {
    "duration": 0,
    "start_time": "2023-12-02T21:44:18.117Z"
   },
   {
    "duration": 0,
    "start_time": "2023-12-02T21:44:18.118Z"
   },
   {
    "duration": 0,
    "start_time": "2023-12-02T21:44:18.119Z"
   },
   {
    "duration": 0,
    "start_time": "2023-12-02T21:44:18.120Z"
   },
   {
    "duration": 260,
    "start_time": "2023-12-02T21:44:38.433Z"
   },
   {
    "duration": 172,
    "start_time": "2023-12-02T21:44:39.648Z"
   },
   {
    "duration": 161,
    "start_time": "2023-12-02T21:44:42.096Z"
   },
   {
    "duration": 13,
    "start_time": "2023-12-02T21:44:44.233Z"
   },
   {
    "duration": 13,
    "start_time": "2023-12-02T21:45:20.970Z"
   },
   {
    "duration": 231,
    "start_time": "2023-12-02T21:45:37.955Z"
   },
   {
    "duration": 10,
    "start_time": "2023-12-02T21:45:39.772Z"
   },
   {
    "duration": 175,
    "start_time": "2023-12-02T21:45:52.291Z"
   },
   {
    "duration": 299,
    "start_time": "2023-12-02T21:45:54.336Z"
   },
   {
    "duration": 9,
    "start_time": "2023-12-02T21:45:56.504Z"
   },
   {
    "duration": 109,
    "start_time": "2023-12-02T21:45:57.508Z"
   },
   {
    "duration": 4,
    "start_time": "2023-12-02T21:46:03.125Z"
   },
   {
    "duration": 7,
    "start_time": "2023-12-02T21:46:04.108Z"
   },
   {
    "duration": 220,
    "start_time": "2023-12-02T21:46:05.087Z"
   },
   {
    "duration": 4,
    "start_time": "2023-12-02T21:46:05.706Z"
   },
   {
    "duration": 10,
    "start_time": "2023-12-02T21:46:07.290Z"
   },
   {
    "duration": 8,
    "start_time": "2023-12-02T21:46:08.242Z"
   },
   {
    "duration": 8,
    "start_time": "2023-12-02T21:46:08.905Z"
   },
   {
    "duration": 10,
    "start_time": "2023-12-02T21:46:11.343Z"
   },
   {
    "duration": 8,
    "start_time": "2023-12-02T21:46:12.024Z"
   },
   {
    "duration": 7,
    "start_time": "2023-12-02T21:46:13.658Z"
   },
   {
    "duration": 8,
    "start_time": "2023-12-02T21:46:16.042Z"
   },
   {
    "duration": 6,
    "start_time": "2023-12-02T21:46:17.291Z"
   },
   {
    "duration": 5,
    "start_time": "2023-12-02T21:46:17.875Z"
   },
   {
    "duration": 9,
    "start_time": "2023-12-02T21:46:18.310Z"
   },
   {
    "duration": 13,
    "start_time": "2023-12-02T21:46:21.242Z"
   },
   {
    "duration": 8,
    "start_time": "2023-12-02T21:46:22.058Z"
   },
   {
    "duration": 5,
    "start_time": "2023-12-02T21:46:26.426Z"
   },
   {
    "duration": 15,
    "start_time": "2023-12-02T21:46:27.460Z"
   },
   {
    "duration": 10,
    "start_time": "2023-12-02T21:46:50.980Z"
   },
   {
    "duration": 1388,
    "start_time": "2023-12-02T21:46:51.580Z"
   },
   {
    "duration": 0,
    "start_time": "2023-12-02T21:46:52.969Z"
   },
   {
    "duration": 1533,
    "start_time": "2023-12-02T21:47:03.949Z"
   },
   {
    "duration": 0,
    "start_time": "2023-12-02T21:47:05.483Z"
   },
   {
    "duration": 1379,
    "start_time": "2023-12-02T21:47:05.914Z"
   },
   {
    "duration": 1099,
    "start_time": "2023-12-02T22:00:23.625Z"
   },
   {
    "duration": 28,
    "start_time": "2023-12-02T22:00:24.725Z"
   },
   {
    "duration": 11,
    "start_time": "2023-12-02T22:00:24.754Z"
   },
   {
    "duration": 3,
    "start_time": "2023-12-02T22:00:24.767Z"
   },
   {
    "duration": 14,
    "start_time": "2023-12-02T22:00:24.772Z"
   },
   {
    "duration": 11,
    "start_time": "2023-12-02T22:00:24.787Z"
   },
   {
    "duration": 58,
    "start_time": "2023-12-02T22:00:24.799Z"
   },
   {
    "duration": 10,
    "start_time": "2023-12-02T22:00:24.859Z"
   },
   {
    "duration": 10,
    "start_time": "2023-12-02T22:00:24.871Z"
   },
   {
    "duration": 8,
    "start_time": "2023-12-02T22:00:24.883Z"
   },
   {
    "duration": 8,
    "start_time": "2023-12-02T22:00:24.892Z"
   },
   {
    "duration": 5,
    "start_time": "2023-12-02T22:00:24.902Z"
   },
   {
    "duration": 20,
    "start_time": "2023-12-02T22:00:24.908Z"
   },
   {
    "duration": 11,
    "start_time": "2023-12-02T22:00:24.929Z"
   },
   {
    "duration": 8,
    "start_time": "2023-12-02T22:00:24.941Z"
   },
   {
    "duration": 13,
    "start_time": "2023-12-02T22:00:24.951Z"
   },
   {
    "duration": 7,
    "start_time": "2023-12-02T22:00:24.966Z"
   },
   {
    "duration": 19,
    "start_time": "2023-12-02T22:00:24.974Z"
   },
   {
    "duration": 276,
    "start_time": "2023-12-02T22:00:24.995Z"
   },
   {
    "duration": 4,
    "start_time": "2023-12-02T22:00:25.273Z"
   },
   {
    "duration": 23,
    "start_time": "2023-12-02T22:00:25.278Z"
   },
   {
    "duration": 274,
    "start_time": "2023-12-02T22:00:25.303Z"
   },
   {
    "duration": 184,
    "start_time": "2023-12-02T22:00:25.578Z"
   },
   {
    "duration": 207,
    "start_time": "2023-12-02T22:00:25.763Z"
   },
   {
    "duration": 325,
    "start_time": "2023-12-02T22:00:25.971Z"
   },
   {
    "duration": 197,
    "start_time": "2023-12-02T22:00:26.298Z"
   },
   {
    "duration": 321,
    "start_time": "2023-12-02T22:00:26.496Z"
   },
   {
    "duration": 8,
    "start_time": "2023-12-02T22:00:26.820Z"
   },
   {
    "duration": 119,
    "start_time": "2023-12-02T22:00:26.830Z"
   },
   {
    "duration": 4,
    "start_time": "2023-12-02T22:00:26.951Z"
   },
   {
    "duration": 11,
    "start_time": "2023-12-02T22:00:26.956Z"
   },
   {
    "duration": 200,
    "start_time": "2023-12-02T22:00:26.968Z"
   },
   {
    "duration": 4,
    "start_time": "2023-12-02T22:00:27.169Z"
   },
   {
    "duration": 12,
    "start_time": "2023-12-02T22:00:27.174Z"
   },
   {
    "duration": 15,
    "start_time": "2023-12-02T22:00:27.187Z"
   },
   {
    "duration": 9,
    "start_time": "2023-12-02T22:00:27.214Z"
   },
   {
    "duration": 26,
    "start_time": "2023-12-02T22:00:27.224Z"
   },
   {
    "duration": 9,
    "start_time": "2023-12-02T22:00:27.251Z"
   },
   {
    "duration": 6,
    "start_time": "2023-12-02T22:00:27.261Z"
   },
   {
    "duration": 8,
    "start_time": "2023-12-02T22:00:27.269Z"
   },
   {
    "duration": 4,
    "start_time": "2023-12-02T22:00:27.278Z"
   },
   {
    "duration": 4,
    "start_time": "2023-12-02T22:00:27.284Z"
   },
   {
    "duration": 31,
    "start_time": "2023-12-02T22:00:27.289Z"
   },
   {
    "duration": 12,
    "start_time": "2023-12-02T22:00:27.322Z"
   },
   {
    "duration": 8,
    "start_time": "2023-12-02T22:00:27.336Z"
   },
   {
    "duration": 10,
    "start_time": "2023-12-02T22:00:27.345Z"
   },
   {
    "duration": 7,
    "start_time": "2023-12-02T22:00:27.356Z"
   },
   {
    "duration": 13,
    "start_time": "2023-12-02T22:00:27.364Z"
   },
   {
    "duration": 37,
    "start_time": "2023-12-02T22:00:27.379Z"
   },
   {
    "duration": 7,
    "start_time": "2023-12-02T22:00:27.418Z"
   },
   {
    "duration": 17,
    "start_time": "2023-12-02T22:00:27.426Z"
   },
   {
    "duration": 18,
    "start_time": "2023-12-02T22:00:27.445Z"
   },
   {
    "duration": 5,
    "start_time": "2023-12-02T22:00:27.464Z"
   },
   {
    "duration": 1168,
    "start_time": "2023-12-02T22:12:05.106Z"
   },
   {
    "duration": 28,
    "start_time": "2023-12-02T22:12:06.276Z"
   },
   {
    "duration": 12,
    "start_time": "2023-12-02T22:12:06.305Z"
   },
   {
    "duration": 3,
    "start_time": "2023-12-02T22:12:06.319Z"
   },
   {
    "duration": 15,
    "start_time": "2023-12-02T22:12:06.324Z"
   },
   {
    "duration": 11,
    "start_time": "2023-12-02T22:12:06.341Z"
   },
   {
    "duration": 52,
    "start_time": "2023-12-02T22:12:06.353Z"
   },
   {
    "duration": 10,
    "start_time": "2023-12-02T22:12:06.406Z"
   },
   {
    "duration": 14,
    "start_time": "2023-12-02T22:12:06.417Z"
   },
   {
    "duration": 10,
    "start_time": "2023-12-02T22:12:06.433Z"
   },
   {
    "duration": 7,
    "start_time": "2023-12-02T22:12:06.444Z"
   },
   {
    "duration": 5,
    "start_time": "2023-12-02T22:12:06.453Z"
   },
   {
    "duration": 6,
    "start_time": "2023-12-02T22:12:06.460Z"
   },
   {
    "duration": 11,
    "start_time": "2023-12-02T22:12:06.467Z"
   },
   {
    "duration": 6,
    "start_time": "2023-12-02T22:12:06.479Z"
   },
   {
    "duration": 5,
    "start_time": "2023-12-02T22:12:06.515Z"
   },
   {
    "duration": 4,
    "start_time": "2023-12-02T22:12:06.522Z"
   },
   {
    "duration": 29,
    "start_time": "2023-12-02T22:12:06.527Z"
   },
   {
    "duration": 253,
    "start_time": "2023-12-02T22:12:06.557Z"
   },
   {
    "duration": 4,
    "start_time": "2023-12-02T22:12:06.815Z"
   },
   {
    "duration": 36,
    "start_time": "2023-12-02T22:12:06.820Z"
   },
   {
    "duration": 273,
    "start_time": "2023-12-02T22:12:06.857Z"
   },
   {
    "duration": 171,
    "start_time": "2023-12-02T22:12:07.132Z"
   },
   {
    "duration": 176,
    "start_time": "2023-12-02T22:12:07.305Z"
   },
   {
    "duration": 292,
    "start_time": "2023-12-02T22:12:07.482Z"
   },
   {
    "duration": 192,
    "start_time": "2023-12-02T22:12:07.775Z"
   },
   {
    "duration": 297,
    "start_time": "2023-12-02T22:12:07.969Z"
   },
   {
    "duration": 9,
    "start_time": "2023-12-02T22:12:08.269Z"
   },
   {
    "duration": 120,
    "start_time": "2023-12-02T22:12:08.279Z"
   },
   {
    "duration": 16,
    "start_time": "2023-12-02T22:12:08.400Z"
   },
   {
    "duration": 7,
    "start_time": "2023-12-02T22:12:08.417Z"
   },
   {
    "duration": 204,
    "start_time": "2023-12-02T22:12:08.425Z"
   },
   {
    "duration": 4,
    "start_time": "2023-12-02T22:12:08.630Z"
   },
   {
    "duration": 12,
    "start_time": "2023-12-02T22:12:08.636Z"
   },
   {
    "duration": 9,
    "start_time": "2023-12-02T22:12:08.649Z"
   },
   {
    "duration": 8,
    "start_time": "2023-12-02T22:12:08.659Z"
   },
   {
    "duration": 11,
    "start_time": "2023-12-02T22:12:08.669Z"
   },
   {
    "duration": 37,
    "start_time": "2023-12-02T22:12:08.681Z"
   },
   {
    "duration": 14,
    "start_time": "2023-12-02T22:12:08.719Z"
   },
   {
    "duration": 8,
    "start_time": "2023-12-02T22:12:08.734Z"
   },
   {
    "duration": 4,
    "start_time": "2023-12-02T22:12:08.744Z"
   },
   {
    "duration": 4,
    "start_time": "2023-12-02T22:12:08.750Z"
   },
   {
    "duration": 9,
    "start_time": "2023-12-02T22:12:08.756Z"
   },
   {
    "duration": 17,
    "start_time": "2023-12-02T22:12:08.766Z"
   },
   {
    "duration": 37,
    "start_time": "2023-12-02T22:12:08.785Z"
   },
   {
    "duration": 10,
    "start_time": "2023-12-02T22:12:08.824Z"
   },
   {
    "duration": 7,
    "start_time": "2023-12-02T22:12:08.836Z"
   },
   {
    "duration": 15,
    "start_time": "2023-12-02T22:12:08.845Z"
   },
   {
    "duration": 14,
    "start_time": "2023-12-02T22:12:08.862Z"
   },
   {
    "duration": 35,
    "start_time": "2023-12-02T22:12:08.878Z"
   },
   {
    "duration": 1185,
    "start_time": "2023-12-02T22:14:10.278Z"
   },
   {
    "duration": 71,
    "start_time": "2023-12-02T22:14:11.464Z"
   },
   {
    "duration": 10,
    "start_time": "2023-12-02T22:14:11.537Z"
   },
   {
    "duration": 6,
    "start_time": "2023-12-02T22:14:11.549Z"
   },
   {
    "duration": 15,
    "start_time": "2023-12-02T22:14:11.556Z"
   },
   {
    "duration": 10,
    "start_time": "2023-12-02T22:14:11.572Z"
   },
   {
    "duration": 133,
    "start_time": "2023-12-02T22:14:11.583Z"
   },
   {
    "duration": 9,
    "start_time": "2023-12-02T22:14:11.718Z"
   },
   {
    "duration": 9,
    "start_time": "2023-12-02T22:14:11.729Z"
   },
   {
    "duration": 15,
    "start_time": "2023-12-02T22:14:11.740Z"
   },
   {
    "duration": 11,
    "start_time": "2023-12-02T22:14:11.757Z"
   },
   {
    "duration": 9,
    "start_time": "2023-12-02T22:14:11.770Z"
   },
   {
    "duration": 8,
    "start_time": "2023-12-02T22:14:11.780Z"
   },
   {
    "duration": 10,
    "start_time": "2023-12-02T22:14:11.789Z"
   },
   {
    "duration": 15,
    "start_time": "2023-12-02T22:14:11.801Z"
   },
   {
    "duration": 6,
    "start_time": "2023-12-02T22:14:11.817Z"
   },
   {
    "duration": 3,
    "start_time": "2023-12-02T22:14:11.824Z"
   },
   {
    "duration": 13,
    "start_time": "2023-12-02T22:14:11.829Z"
   },
   {
    "duration": 263,
    "start_time": "2023-12-02T22:14:11.843Z"
   },
   {
    "duration": 8,
    "start_time": "2023-12-02T22:14:12.107Z"
   },
   {
    "duration": 6,
    "start_time": "2023-12-02T22:14:12.116Z"
   },
   {
    "duration": 274,
    "start_time": "2023-12-02T22:14:12.123Z"
   },
   {
    "duration": 171,
    "start_time": "2023-12-02T22:14:12.398Z"
   },
   {
    "duration": 169,
    "start_time": "2023-12-02T22:14:12.570Z"
   },
   {
    "duration": 276,
    "start_time": "2023-12-02T22:14:12.740Z"
   },
   {
    "duration": 191,
    "start_time": "2023-12-02T22:14:13.018Z"
   },
   {
    "duration": 314,
    "start_time": "2023-12-02T22:14:13.214Z"
   },
   {
    "duration": 9,
    "start_time": "2023-12-02T22:14:13.531Z"
   },
   {
    "duration": 117,
    "start_time": "2023-12-02T22:14:13.541Z"
   },
   {
    "duration": 4,
    "start_time": "2023-12-02T22:14:13.660Z"
   },
   {
    "duration": 6,
    "start_time": "2023-12-02T22:14:13.666Z"
   },
   {
    "duration": 203,
    "start_time": "2023-12-02T22:14:13.674Z"
   },
   {
    "duration": 3,
    "start_time": "2023-12-02T22:14:13.879Z"
   },
   {
    "duration": 12,
    "start_time": "2023-12-02T22:14:13.884Z"
   },
   {
    "duration": 21,
    "start_time": "2023-12-02T22:14:13.897Z"
   },
   {
    "duration": 8,
    "start_time": "2023-12-02T22:14:13.919Z"
   },
   {
    "duration": 18,
    "start_time": "2023-12-02T22:14:13.928Z"
   },
   {
    "duration": 27,
    "start_time": "2023-12-02T22:14:13.947Z"
   },
   {
    "duration": 18,
    "start_time": "2023-12-02T22:14:13.976Z"
   },
   {
    "duration": 13,
    "start_time": "2023-12-02T22:14:13.996Z"
   },
   {
    "duration": 7,
    "start_time": "2023-12-02T22:14:14.011Z"
   },
   {
    "duration": 13,
    "start_time": "2023-12-02T22:14:14.020Z"
   },
   {
    "duration": 13,
    "start_time": "2023-12-02T22:14:14.035Z"
   },
   {
    "duration": 16,
    "start_time": "2023-12-02T22:14:14.050Z"
   },
   {
    "duration": 7,
    "start_time": "2023-12-02T22:14:14.068Z"
   },
   {
    "duration": 20,
    "start_time": "2023-12-02T22:14:14.077Z"
   },
   {
    "duration": 3,
    "start_time": "2023-12-02T22:14:14.099Z"
   },
   {
    "duration": 20,
    "start_time": "2023-12-02T22:14:14.103Z"
   },
   {
    "duration": 11,
    "start_time": "2023-12-02T22:14:14.125Z"
   },
   {
    "duration": 8,
    "start_time": "2023-12-02T22:14:14.137Z"
   },
   {
    "duration": 11,
    "start_time": "2023-12-02T22:14:14.146Z"
   },
   {
    "duration": 5,
    "start_time": "2023-12-02T22:14:14.158Z"
   },
   {
    "duration": 9,
    "start_time": "2023-12-02T22:14:14.164Z"
   },
   {
    "duration": 1117,
    "start_time": "2023-12-02T22:14:29.129Z"
   },
   {
    "duration": 28,
    "start_time": "2023-12-02T22:14:30.248Z"
   },
   {
    "duration": 21,
    "start_time": "2023-12-02T22:14:30.277Z"
   },
   {
    "duration": 18,
    "start_time": "2023-12-02T22:14:30.301Z"
   },
   {
    "duration": 48,
    "start_time": "2023-12-02T22:14:30.321Z"
   },
   {
    "duration": 49,
    "start_time": "2023-12-02T22:14:30.371Z"
   },
   {
    "duration": 102,
    "start_time": "2023-12-02T22:14:30.422Z"
   },
   {
    "duration": 11,
    "start_time": "2023-12-02T22:14:30.526Z"
   },
   {
    "duration": 73,
    "start_time": "2023-12-02T22:14:30.539Z"
   },
   {
    "duration": 37,
    "start_time": "2023-12-02T22:14:30.616Z"
   },
   {
    "duration": 31,
    "start_time": "2023-12-02T22:14:30.655Z"
   },
   {
    "duration": 27,
    "start_time": "2023-12-02T22:14:30.688Z"
   },
   {
    "duration": 36,
    "start_time": "2023-12-02T22:14:30.717Z"
   },
   {
    "duration": 37,
    "start_time": "2023-12-02T22:14:30.754Z"
   },
   {
    "duration": 19,
    "start_time": "2023-12-02T22:14:30.793Z"
   },
   {
    "duration": 28,
    "start_time": "2023-12-02T22:14:30.814Z"
   },
   {
    "duration": 44,
    "start_time": "2023-12-02T22:14:30.843Z"
   },
   {
    "duration": 36,
    "start_time": "2023-12-02T22:14:30.889Z"
   },
   {
    "duration": 279,
    "start_time": "2023-12-02T22:14:30.927Z"
   },
   {
    "duration": 4,
    "start_time": "2023-12-02T22:14:31.208Z"
   },
   {
    "duration": 32,
    "start_time": "2023-12-02T22:14:31.213Z"
   },
   {
    "duration": 297,
    "start_time": "2023-12-02T22:14:31.247Z"
   },
   {
    "duration": 176,
    "start_time": "2023-12-02T22:14:31.546Z"
   },
   {
    "duration": 179,
    "start_time": "2023-12-02T22:14:31.724Z"
   },
   {
    "duration": 284,
    "start_time": "2023-12-02T22:14:31.905Z"
   },
   {
    "duration": 185,
    "start_time": "2023-12-02T22:14:32.191Z"
   },
   {
    "duration": 303,
    "start_time": "2023-12-02T22:14:32.378Z"
   },
   {
    "duration": 8,
    "start_time": "2023-12-02T22:14:32.684Z"
   },
   {
    "duration": 113,
    "start_time": "2023-12-02T22:14:32.694Z"
   },
   {
    "duration": 4,
    "start_time": "2023-12-02T22:14:32.815Z"
   },
   {
    "duration": 8,
    "start_time": "2023-12-02T22:14:32.821Z"
   },
   {
    "duration": 218,
    "start_time": "2023-12-02T22:14:32.830Z"
   },
   {
    "duration": 4,
    "start_time": "2023-12-02T22:14:33.050Z"
   },
   {
    "duration": 16,
    "start_time": "2023-12-02T22:14:33.056Z"
   },
   {
    "duration": 16,
    "start_time": "2023-12-02T22:14:33.073Z"
   },
   {
    "duration": 12,
    "start_time": "2023-12-02T22:14:33.090Z"
   },
   {
    "duration": 20,
    "start_time": "2023-12-02T22:14:33.103Z"
   },
   {
    "duration": 10,
    "start_time": "2023-12-02T22:14:33.124Z"
   },
   {
    "duration": 20,
    "start_time": "2023-12-02T22:14:33.136Z"
   },
   {
    "duration": 16,
    "start_time": "2023-12-02T22:14:33.158Z"
   },
   {
    "duration": 6,
    "start_time": "2023-12-02T22:14:33.175Z"
   },
   {
    "duration": 19,
    "start_time": "2023-12-02T22:14:33.182Z"
   },
   {
    "duration": 17,
    "start_time": "2023-12-02T22:14:33.202Z"
   },
   {
    "duration": 18,
    "start_time": "2023-12-02T22:14:33.221Z"
   },
   {
    "duration": 7,
    "start_time": "2023-12-02T22:14:33.240Z"
   },
   {
    "duration": 11,
    "start_time": "2023-12-02T22:14:33.249Z"
   },
   {
    "duration": 13,
    "start_time": "2023-12-02T22:14:33.262Z"
   },
   {
    "duration": 17,
    "start_time": "2023-12-02T22:14:33.276Z"
   },
   {
    "duration": 22,
    "start_time": "2023-12-02T22:14:33.294Z"
   },
   {
    "duration": 5,
    "start_time": "2023-12-02T22:14:33.318Z"
   },
   {
    "duration": 1078,
    "start_time": "2023-12-02T22:16:35.168Z"
   },
   {
    "duration": 71,
    "start_time": "2023-12-02T22:16:36.248Z"
   },
   {
    "duration": 10,
    "start_time": "2023-12-02T22:16:36.321Z"
   },
   {
    "duration": 5,
    "start_time": "2023-12-02T22:16:36.332Z"
   },
   {
    "duration": 14,
    "start_time": "2023-12-02T22:16:36.339Z"
   },
   {
    "duration": 10,
    "start_time": "2023-12-02T22:16:36.354Z"
   },
   {
    "duration": 126,
    "start_time": "2023-12-02T22:16:36.365Z"
   },
   {
    "duration": 9,
    "start_time": "2023-12-02T22:16:36.493Z"
   },
   {
    "duration": 10,
    "start_time": "2023-12-02T22:16:36.504Z"
   },
   {
    "duration": 16,
    "start_time": "2023-12-02T22:16:36.517Z"
   },
   {
    "duration": 6,
    "start_time": "2023-12-02T22:16:36.535Z"
   },
   {
    "duration": 5,
    "start_time": "2023-12-02T22:16:36.542Z"
   },
   {
    "duration": 11,
    "start_time": "2023-12-02T22:16:36.548Z"
   },
   {
    "duration": 10,
    "start_time": "2023-12-02T22:16:36.560Z"
   },
   {
    "duration": 6,
    "start_time": "2023-12-02T22:16:36.571Z"
   },
   {
    "duration": 9,
    "start_time": "2023-12-02T22:16:36.578Z"
   },
   {
    "duration": 4,
    "start_time": "2023-12-02T22:16:36.589Z"
   },
   {
    "duration": 21,
    "start_time": "2023-12-02T22:16:36.594Z"
   },
   {
    "duration": 274,
    "start_time": "2023-12-02T22:16:36.617Z"
   },
   {
    "duration": 5,
    "start_time": "2023-12-02T22:16:36.892Z"
   },
   {
    "duration": 5,
    "start_time": "2023-12-02T22:16:36.898Z"
   },
   {
    "duration": 280,
    "start_time": "2023-12-02T22:16:36.904Z"
   },
   {
    "duration": 171,
    "start_time": "2023-12-02T22:16:37.186Z"
   },
   {
    "duration": 176,
    "start_time": "2023-12-02T22:16:37.358Z"
   },
   {
    "duration": 260,
    "start_time": "2023-12-02T22:16:37.535Z"
   },
   {
    "duration": 185,
    "start_time": "2023-12-02T22:16:37.797Z"
   },
   {
    "duration": 319,
    "start_time": "2023-12-02T22:16:37.983Z"
   },
   {
    "duration": 10,
    "start_time": "2023-12-02T22:16:38.314Z"
   },
   {
    "duration": 116,
    "start_time": "2023-12-02T22:16:38.325Z"
   },
   {
    "duration": 4,
    "start_time": "2023-12-02T22:16:38.442Z"
   },
   {
    "duration": 7,
    "start_time": "2023-12-02T22:16:38.448Z"
   },
   {
    "duration": 194,
    "start_time": "2023-12-02T22:16:38.456Z"
   },
   {
    "duration": 5,
    "start_time": "2023-12-02T22:16:38.651Z"
   },
   {
    "duration": 10,
    "start_time": "2023-12-02T22:16:38.658Z"
   },
   {
    "duration": 9,
    "start_time": "2023-12-02T22:16:38.669Z"
   },
   {
    "duration": 8,
    "start_time": "2023-12-02T22:16:38.679Z"
   },
   {
    "duration": 34,
    "start_time": "2023-12-02T22:16:38.689Z"
   },
   {
    "duration": 8,
    "start_time": "2023-12-02T22:16:38.725Z"
   },
   {
    "duration": 9,
    "start_time": "2023-12-02T22:16:38.735Z"
   },
   {
    "duration": 9,
    "start_time": "2023-12-02T22:16:38.746Z"
   },
   {
    "duration": 6,
    "start_time": "2023-12-02T22:16:38.757Z"
   },
   {
    "duration": 6,
    "start_time": "2023-12-02T22:16:38.764Z"
   },
   {
    "duration": 52,
    "start_time": "2023-12-02T22:16:38.771Z"
   },
   {
    "duration": 17,
    "start_time": "2023-12-02T22:16:38.825Z"
   },
   {
    "duration": 19,
    "start_time": "2023-12-02T22:16:38.844Z"
   },
   {
    "duration": 10,
    "start_time": "2023-12-02T22:16:38.865Z"
   },
   {
    "duration": 5,
    "start_time": "2023-12-02T22:16:38.876Z"
   },
   {
    "duration": 33,
    "start_time": "2023-12-02T22:16:38.882Z"
   },
   {
    "duration": 6,
    "start_time": "2023-12-02T22:16:38.917Z"
   },
   {
    "duration": 9,
    "start_time": "2023-12-02T22:16:38.924Z"
   },
   {
    "duration": 8,
    "start_time": "2023-12-02T22:16:38.934Z"
   },
   {
    "duration": 5,
    "start_time": "2023-12-02T22:16:38.943Z"
   },
   {
    "duration": 5,
    "start_time": "2023-12-02T22:16:38.949Z"
   },
   {
    "duration": 9,
    "start_time": "2023-12-02T22:17:42.742Z"
   },
   {
    "duration": 90,
    "start_time": "2023-12-03T17:13:24.905Z"
   },
   {
    "duration": 41,
    "start_time": "2023-12-03T17:18:57.566Z"
   },
   {
    "duration": 1307,
    "start_time": "2023-12-03T17:19:06.879Z"
   },
   {
    "duration": 59,
    "start_time": "2023-12-03T17:19:08.188Z"
   },
   {
    "duration": 10,
    "start_time": "2023-12-03T17:19:08.249Z"
   },
   {
    "duration": 7,
    "start_time": "2023-12-03T17:19:08.262Z"
   },
   {
    "duration": 16,
    "start_time": "2023-12-03T17:19:08.270Z"
   },
   {
    "duration": 10,
    "start_time": "2023-12-03T17:19:08.288Z"
   },
   {
    "duration": 124,
    "start_time": "2023-12-03T17:19:08.300Z"
   },
   {
    "duration": 10,
    "start_time": "2023-12-03T17:19:08.426Z"
   },
   {
    "duration": 9,
    "start_time": "2023-12-03T17:19:08.437Z"
   },
   {
    "duration": 8,
    "start_time": "2023-12-03T17:19:08.448Z"
   },
   {
    "duration": 8,
    "start_time": "2023-12-03T17:19:08.457Z"
   },
   {
    "duration": 6,
    "start_time": "2023-12-03T17:19:08.467Z"
   },
   {
    "duration": 8,
    "start_time": "2023-12-03T17:19:08.475Z"
   },
   {
    "duration": 10,
    "start_time": "2023-12-03T17:19:08.484Z"
   },
   {
    "duration": 14,
    "start_time": "2023-12-03T17:19:08.495Z"
   },
   {
    "duration": 7,
    "start_time": "2023-12-03T17:19:08.510Z"
   },
   {
    "duration": 3,
    "start_time": "2023-12-03T17:19:08.518Z"
   },
   {
    "duration": 11,
    "start_time": "2023-12-03T17:19:08.523Z"
   },
   {
    "duration": 250,
    "start_time": "2023-12-03T17:19:08.535Z"
   },
   {
    "duration": 3,
    "start_time": "2023-12-03T17:19:08.786Z"
   },
   {
    "duration": 6,
    "start_time": "2023-12-03T17:19:08.791Z"
   },
   {
    "duration": 266,
    "start_time": "2023-12-03T17:19:08.798Z"
   },
   {
    "duration": 178,
    "start_time": "2023-12-03T17:19:09.065Z"
   },
   {
    "duration": 182,
    "start_time": "2023-12-03T17:19:09.245Z"
   },
   {
    "duration": 338,
    "start_time": "2023-12-03T17:19:09.428Z"
   },
   {
    "duration": 191,
    "start_time": "2023-12-03T17:19:09.767Z"
   },
   {
    "duration": 332,
    "start_time": "2023-12-03T17:19:09.960Z"
   },
   {
    "duration": 8,
    "start_time": "2023-12-03T17:19:10.295Z"
   },
   {
    "duration": 129,
    "start_time": "2023-12-03T17:19:10.305Z"
   },
   {
    "duration": 4,
    "start_time": "2023-12-03T17:19:10.436Z"
   },
   {
    "duration": 8,
    "start_time": "2023-12-03T17:19:10.441Z"
   },
   {
    "duration": 192,
    "start_time": "2023-12-03T17:19:10.450Z"
   },
   {
    "duration": 4,
    "start_time": "2023-12-03T17:19:10.643Z"
   },
   {
    "duration": 12,
    "start_time": "2023-12-03T17:19:10.648Z"
   },
   {
    "duration": 26,
    "start_time": "2023-12-03T17:19:10.661Z"
   },
   {
    "duration": 7,
    "start_time": "2023-12-03T17:19:10.688Z"
   },
   {
    "duration": 10,
    "start_time": "2023-12-03T17:19:10.697Z"
   },
   {
    "duration": 11,
    "start_time": "2023-12-03T17:19:10.708Z"
   },
   {
    "duration": 13,
    "start_time": "2023-12-03T17:19:10.720Z"
   },
   {
    "duration": 9,
    "start_time": "2023-12-03T17:19:10.734Z"
   },
   {
    "duration": 4,
    "start_time": "2023-12-03T17:19:10.745Z"
   },
   {
    "duration": 38,
    "start_time": "2023-12-03T17:19:10.750Z"
   },
   {
    "duration": 12,
    "start_time": "2023-12-03T17:19:10.789Z"
   },
   {
    "duration": 11,
    "start_time": "2023-12-03T17:19:10.802Z"
   },
   {
    "duration": 7,
    "start_time": "2023-12-03T17:19:10.814Z"
   },
   {
    "duration": 10,
    "start_time": "2023-12-03T17:19:10.823Z"
   },
   {
    "duration": 3,
    "start_time": "2023-12-03T17:19:10.835Z"
   },
   {
    "duration": 46,
    "start_time": "2023-12-03T17:19:10.839Z"
   },
   {
    "duration": 7,
    "start_time": "2023-12-03T17:19:10.887Z"
   },
   {
    "duration": 4,
    "start_time": "2023-12-03T17:19:10.895Z"
   },
   {
    "duration": 7,
    "start_time": "2023-12-03T17:19:10.901Z"
   },
   {
    "duration": 4,
    "start_time": "2023-12-03T17:19:10.910Z"
   },
   {
    "duration": 5,
    "start_time": "2023-12-03T17:19:10.915Z"
   },
   {
    "duration": 11,
    "start_time": "2023-12-03T17:30:38.231Z"
   },
   {
    "duration": 10,
    "start_time": "2023-12-03T17:31:03.582Z"
   },
   {
    "duration": 9,
    "start_time": "2023-12-03T17:42:42.195Z"
   },
   {
    "duration": 4,
    "start_time": "2023-12-03T17:53:08.049Z"
   },
   {
    "duration": 16,
    "start_time": "2023-12-03T17:53:33.567Z"
   },
   {
    "duration": 7,
    "start_time": "2023-12-03T17:53:47.100Z"
   },
   {
    "duration": 5,
    "start_time": "2023-12-03T17:53:57.087Z"
   },
   {
    "duration": 1147,
    "start_time": "2023-12-03T17:54:09.251Z"
   },
   {
    "duration": 26,
    "start_time": "2023-12-03T17:54:10.400Z"
   },
   {
    "duration": 12,
    "start_time": "2023-12-03T17:54:10.428Z"
   },
   {
    "duration": 33,
    "start_time": "2023-12-03T17:54:10.442Z"
   },
   {
    "duration": 29,
    "start_time": "2023-12-03T17:54:10.476Z"
   },
   {
    "duration": 10,
    "start_time": "2023-12-03T17:54:10.506Z"
   },
   {
    "duration": 33,
    "start_time": "2023-12-03T17:54:10.517Z"
   },
   {
    "duration": 67,
    "start_time": "2023-12-03T17:54:10.551Z"
   },
   {
    "duration": 9,
    "start_time": "2023-12-03T17:54:10.619Z"
   },
   {
    "duration": 9,
    "start_time": "2023-12-03T17:54:10.630Z"
   },
   {
    "duration": 11,
    "start_time": "2023-12-03T17:54:10.640Z"
   },
   {
    "duration": 7,
    "start_time": "2023-12-03T17:54:10.652Z"
   },
   {
    "duration": 78,
    "start_time": "2023-12-03T17:54:10.660Z"
   },
   {
    "duration": 0,
    "start_time": "2023-12-03T17:54:10.740Z"
   },
   {
    "duration": 0,
    "start_time": "2023-12-03T17:54:10.741Z"
   },
   {
    "duration": 0,
    "start_time": "2023-12-03T17:54:10.742Z"
   },
   {
    "duration": 0,
    "start_time": "2023-12-03T17:54:10.743Z"
   },
   {
    "duration": 0,
    "start_time": "2023-12-03T17:54:10.744Z"
   },
   {
    "duration": 0,
    "start_time": "2023-12-03T17:54:10.745Z"
   },
   {
    "duration": 0,
    "start_time": "2023-12-03T17:54:10.746Z"
   },
   {
    "duration": 0,
    "start_time": "2023-12-03T17:54:10.747Z"
   },
   {
    "duration": 0,
    "start_time": "2023-12-03T17:54:10.748Z"
   },
   {
    "duration": 0,
    "start_time": "2023-12-03T17:54:10.749Z"
   },
   {
    "duration": 0,
    "start_time": "2023-12-03T17:54:10.750Z"
   },
   {
    "duration": 0,
    "start_time": "2023-12-03T17:54:10.751Z"
   },
   {
    "duration": 0,
    "start_time": "2023-12-03T17:54:10.752Z"
   },
   {
    "duration": 0,
    "start_time": "2023-12-03T17:54:10.753Z"
   },
   {
    "duration": 0,
    "start_time": "2023-12-03T17:54:10.754Z"
   },
   {
    "duration": 0,
    "start_time": "2023-12-03T17:54:10.755Z"
   },
   {
    "duration": 0,
    "start_time": "2023-12-03T17:54:10.756Z"
   },
   {
    "duration": 0,
    "start_time": "2023-12-03T17:54:10.757Z"
   },
   {
    "duration": 0,
    "start_time": "2023-12-03T17:54:10.758Z"
   },
   {
    "duration": 0,
    "start_time": "2023-12-03T17:54:10.759Z"
   },
   {
    "duration": 0,
    "start_time": "2023-12-03T17:54:10.760Z"
   },
   {
    "duration": 0,
    "start_time": "2023-12-03T17:54:10.761Z"
   },
   {
    "duration": 0,
    "start_time": "2023-12-03T17:54:10.762Z"
   },
   {
    "duration": 0,
    "start_time": "2023-12-03T17:54:10.763Z"
   },
   {
    "duration": 0,
    "start_time": "2023-12-03T17:54:10.763Z"
   },
   {
    "duration": 0,
    "start_time": "2023-12-03T17:54:10.764Z"
   },
   {
    "duration": 0,
    "start_time": "2023-12-03T17:54:10.765Z"
   },
   {
    "duration": 0,
    "start_time": "2023-12-03T17:54:10.766Z"
   },
   {
    "duration": 0,
    "start_time": "2023-12-03T17:54:10.767Z"
   },
   {
    "duration": 0,
    "start_time": "2023-12-03T17:54:10.768Z"
   },
   {
    "duration": 0,
    "start_time": "2023-12-03T17:54:10.768Z"
   },
   {
    "duration": 0,
    "start_time": "2023-12-03T17:54:10.769Z"
   },
   {
    "duration": 0,
    "start_time": "2023-12-03T17:54:10.770Z"
   },
   {
    "duration": 0,
    "start_time": "2023-12-03T17:54:10.771Z"
   },
   {
    "duration": 0,
    "start_time": "2023-12-03T17:54:10.771Z"
   },
   {
    "duration": 0,
    "start_time": "2023-12-03T17:54:10.772Z"
   },
   {
    "duration": 0,
    "start_time": "2023-12-03T17:54:10.773Z"
   },
   {
    "duration": 0,
    "start_time": "2023-12-03T17:54:10.774Z"
   },
   {
    "duration": 0,
    "start_time": "2023-12-03T17:54:10.775Z"
   },
   {
    "duration": 0,
    "start_time": "2023-12-03T17:54:10.776Z"
   },
   {
    "duration": 0,
    "start_time": "2023-12-03T17:54:10.782Z"
   },
   {
    "duration": 0,
    "start_time": "2023-12-03T17:54:10.783Z"
   },
   {
    "duration": 0,
    "start_time": "2023-12-03T17:54:10.784Z"
   },
   {
    "duration": 0,
    "start_time": "2023-12-03T17:54:10.784Z"
   },
   {
    "duration": 8,
    "start_time": "2023-12-03T17:54:56.725Z"
   },
   {
    "duration": 9,
    "start_time": "2023-12-03T17:54:59.044Z"
   },
   {
    "duration": 6,
    "start_time": "2023-12-03T17:55:04.928Z"
   },
   {
    "duration": 3,
    "start_time": "2023-12-03T17:55:34.563Z"
   },
   {
    "duration": 5,
    "start_time": "2023-12-03T17:55:35.230Z"
   },
   {
    "duration": 13,
    "start_time": "2023-12-03T17:55:37.547Z"
   },
   {
    "duration": 7,
    "start_time": "2023-12-03T17:55:41.661Z"
   },
   {
    "duration": 6,
    "start_time": "2023-12-03T17:55:42.901Z"
   },
   {
    "duration": 13,
    "start_time": "2023-12-03T17:56:01.067Z"
   },
   {
    "duration": 4,
    "start_time": "2023-12-03T18:05:45.565Z"
   },
   {
    "duration": 13,
    "start_time": "2023-12-03T18:05:46.590Z"
   },
   {
    "duration": 3,
    "start_time": "2023-12-03T18:06:56.730Z"
   },
   {
    "duration": 12,
    "start_time": "2023-12-03T18:06:58.140Z"
   },
   {
    "duration": 289,
    "start_time": "2023-12-03T18:07:00.892Z"
   },
   {
    "duration": 5,
    "start_time": "2023-12-03T18:16:23.236Z"
   },
   {
    "duration": 4,
    "start_time": "2023-12-03T18:16:24.503Z"
   },
   {
    "duration": 4,
    "start_time": "2023-12-03T18:18:19.466Z"
   },
   {
    "duration": 5,
    "start_time": "2023-12-03T18:18:29.884Z"
   },
   {
    "duration": 4,
    "start_time": "2023-12-03T18:18:35.204Z"
   },
   {
    "duration": 4,
    "start_time": "2023-12-03T18:18:41.486Z"
   },
   {
    "duration": 4,
    "start_time": "2023-12-03T18:18:59.759Z"
   },
   {
    "duration": 4,
    "start_time": "2023-12-03T18:19:13.129Z"
   },
   {
    "duration": 93,
    "start_time": "2023-12-03T18:24:36.208Z"
   },
   {
    "duration": 274,
    "start_time": "2023-12-03T18:25:20.980Z"
   },
   {
    "duration": 167,
    "start_time": "2023-12-03T18:25:22.779Z"
   },
   {
    "duration": 169,
    "start_time": "2023-12-03T18:26:32.561Z"
   },
   {
    "duration": 167,
    "start_time": "2023-12-03T18:26:52.574Z"
   },
   {
    "duration": 169,
    "start_time": "2023-12-03T18:27:22.295Z"
   },
   {
    "duration": 180,
    "start_time": "2023-12-03T18:28:09.151Z"
   },
   {
    "duration": 287,
    "start_time": "2023-12-03T18:29:46.226Z"
   },
   {
    "duration": 208,
    "start_time": "2023-12-03T18:29:59.775Z"
   },
   {
    "duration": 174,
    "start_time": "2023-12-03T18:30:14.781Z"
   },
   {
    "duration": 6,
    "start_time": "2023-12-03T18:43:11.182Z"
   },
   {
    "duration": 158,
    "start_time": "2023-12-03T18:45:54.273Z"
   },
   {
    "duration": 109,
    "start_time": "2023-12-03T18:47:52.714Z"
   },
   {
    "duration": 156,
    "start_time": "2023-12-03T18:48:48.553Z"
   },
   {
    "duration": 12,
    "start_time": "2023-12-03T18:50:05.680Z"
   },
   {
    "duration": 6,
    "start_time": "2023-12-03T18:51:51.774Z"
   },
   {
    "duration": 194,
    "start_time": "2023-12-03T18:54:25.874Z"
   },
   {
    "duration": 170,
    "start_time": "2023-12-03T18:54:32.308Z"
   },
   {
    "duration": 1080,
    "start_time": "2023-12-03T18:59:56.823Z"
   },
   {
    "duration": 26,
    "start_time": "2023-12-03T18:59:57.905Z"
   },
   {
    "duration": 10,
    "start_time": "2023-12-03T18:59:57.932Z"
   },
   {
    "duration": 4,
    "start_time": "2023-12-03T18:59:57.944Z"
   },
   {
    "duration": 14,
    "start_time": "2023-12-03T18:59:57.950Z"
   },
   {
    "duration": 10,
    "start_time": "2023-12-03T18:59:57.966Z"
   },
   {
    "duration": 9,
    "start_time": "2023-12-03T18:59:57.982Z"
   },
   {
    "duration": 60,
    "start_time": "2023-12-03T18:59:57.993Z"
   },
   {
    "duration": 9,
    "start_time": "2023-12-03T18:59:58.055Z"
   },
   {
    "duration": 9,
    "start_time": "2023-12-03T18:59:58.067Z"
   },
   {
    "duration": 8,
    "start_time": "2023-12-03T18:59:58.077Z"
   },
   {
    "duration": 14,
    "start_time": "2023-12-03T18:59:58.086Z"
   },
   {
    "duration": 9,
    "start_time": "2023-12-03T18:59:58.101Z"
   },
   {
    "duration": 8,
    "start_time": "2023-12-03T18:59:58.111Z"
   },
   {
    "duration": 17,
    "start_time": "2023-12-03T18:59:58.120Z"
   },
   {
    "duration": 18,
    "start_time": "2023-12-03T18:59:58.139Z"
   },
   {
    "duration": 11,
    "start_time": "2023-12-03T18:59:58.158Z"
   },
   {
    "duration": 9,
    "start_time": "2023-12-03T18:59:58.170Z"
   },
   {
    "duration": 11,
    "start_time": "2023-12-03T18:59:58.180Z"
   },
   {
    "duration": 5,
    "start_time": "2023-12-03T18:59:58.193Z"
   },
   {
    "duration": 7,
    "start_time": "2023-12-03T18:59:58.199Z"
   },
   {
    "duration": 15,
    "start_time": "2023-12-03T18:59:58.207Z"
   },
   {
    "duration": 275,
    "start_time": "2023-12-03T18:59:58.224Z"
   },
   {
    "duration": 4,
    "start_time": "2023-12-03T18:59:58.501Z"
   },
   {
    "duration": 8,
    "start_time": "2023-12-03T18:59:58.507Z"
   },
   {
    "duration": 7,
    "start_time": "2023-12-03T18:59:58.516Z"
   },
   {
    "duration": 5,
    "start_time": "2023-12-03T18:59:58.524Z"
   },
   {
    "duration": 4,
    "start_time": "2023-12-03T18:59:58.533Z"
   },
   {
    "duration": 5,
    "start_time": "2023-12-03T18:59:58.538Z"
   },
   {
    "duration": 14,
    "start_time": "2023-12-03T18:59:58.545Z"
   },
   {
    "duration": 185,
    "start_time": "2023-12-03T18:59:58.561Z"
   },
   {
    "duration": 119,
    "start_time": "2023-12-03T18:59:58.747Z"
   },
   {
    "duration": 17,
    "start_time": "2023-12-03T18:59:58.868Z"
   },
   {
    "duration": 8,
    "start_time": "2023-12-03T18:59:58.886Z"
   },
   {
    "duration": 201,
    "start_time": "2023-12-03T18:59:58.895Z"
   },
   {
    "duration": 169,
    "start_time": "2023-12-03T18:59:59.098Z"
   },
   {
    "duration": 288,
    "start_time": "2023-12-03T18:59:59.269Z"
   },
   {
    "duration": 190,
    "start_time": "2023-12-03T18:59:59.558Z"
   },
   {
    "duration": 307,
    "start_time": "2023-12-03T18:59:59.750Z"
   },
   {
    "duration": 8,
    "start_time": "2023-12-03T19:00:00.059Z"
   },
   {
    "duration": 120,
    "start_time": "2023-12-03T19:00:00.081Z"
   },
   {
    "duration": 5,
    "start_time": "2023-12-03T19:00:00.202Z"
   },
   {
    "duration": 34,
    "start_time": "2023-12-03T19:00:00.208Z"
   },
   {
    "duration": 163,
    "start_time": "2023-12-03T19:00:00.244Z"
   },
   {
    "duration": 5,
    "start_time": "2023-12-03T19:00:00.408Z"
   },
   {
    "duration": 129,
    "start_time": "2023-12-03T19:00:00.414Z"
   },
   {
    "duration": 93,
    "start_time": "2023-12-03T19:00:00.544Z"
   },
   {
    "duration": 46,
    "start_time": "2023-12-03T19:00:00.639Z"
   },
   {
    "duration": 54,
    "start_time": "2023-12-03T19:00:00.687Z"
   },
   {
    "duration": 55,
    "start_time": "2023-12-03T19:00:00.743Z"
   },
   {
    "duration": 72,
    "start_time": "2023-12-03T19:00:00.800Z"
   },
   {
    "duration": 26,
    "start_time": "2023-12-03T19:00:00.874Z"
   },
   {
    "duration": 49,
    "start_time": "2023-12-03T19:00:00.902Z"
   },
   {
    "duration": 56,
    "start_time": "2023-12-03T19:00:00.952Z"
   },
   {
    "duration": 76,
    "start_time": "2023-12-03T19:00:01.009Z"
   },
   {
    "duration": 62,
    "start_time": "2023-12-03T19:00:01.086Z"
   },
   {
    "duration": 61,
    "start_time": "2023-12-03T19:00:01.150Z"
   },
   {
    "duration": 43,
    "start_time": "2023-12-03T19:00:01.213Z"
   },
   {
    "duration": 96,
    "start_time": "2023-12-03T19:00:01.258Z"
   },
   {
    "duration": 46,
    "start_time": "2023-12-03T19:00:01.356Z"
   },
   {
    "duration": 37,
    "start_time": "2023-12-03T19:00:01.404Z"
   },
   {
    "duration": 88,
    "start_time": "2023-12-03T19:00:01.443Z"
   },
   {
    "duration": 80,
    "start_time": "2023-12-03T19:00:01.532Z"
   },
   {
    "duration": 40,
    "start_time": "2023-12-03T19:00:01.614Z"
   },
   {
    "duration": 52,
    "start_time": "2023-12-03T19:00:01.656Z"
   },
   {
    "duration": 198,
    "start_time": "2023-12-03T19:15:24.311Z"
   },
   {
    "duration": 8,
    "start_time": "2023-12-03T19:20:38.095Z"
   },
   {
    "duration": 286,
    "start_time": "2023-12-03T19:21:03.982Z"
   },
   {
    "duration": 83,
    "start_time": "2023-12-03T19:22:31.474Z"
   },
   {
    "duration": 335,
    "start_time": "2023-12-03T19:22:37.461Z"
   },
   {
    "duration": 298,
    "start_time": "2023-12-03T19:23:10.695Z"
   },
   {
    "duration": 264,
    "start_time": "2023-12-03T19:23:18.514Z"
   },
   {
    "duration": 4,
    "start_time": "2023-12-03T19:30:48.782Z"
   },
   {
    "duration": 4,
    "start_time": "2023-12-03T19:32:42.924Z"
   },
   {
    "duration": 201,
    "start_time": "2023-12-03T19:34:06.172Z"
   },
   {
    "duration": 7,
    "start_time": "2023-12-03T19:47:04.106Z"
   },
   {
    "duration": 328,
    "start_time": "2023-12-03T19:48:46.549Z"
   },
   {
    "duration": 269,
    "start_time": "2023-12-03T19:49:15.404Z"
   },
   {
    "duration": 12,
    "start_time": "2023-12-03T19:54:25.171Z"
   },
   {
    "duration": 12,
    "start_time": "2023-12-03T19:56:05.616Z"
   },
   {
    "duration": 143,
    "start_time": "2023-12-03T19:59:06.937Z"
   },
   {
    "duration": 124,
    "start_time": "2023-12-03T19:59:14.303Z"
   },
   {
    "duration": 73,
    "start_time": "2023-12-03T20:07:00.390Z"
   },
   {
    "duration": 5,
    "start_time": "2023-12-03T20:07:07.939Z"
   },
   {
    "duration": 4,
    "start_time": "2023-12-03T20:07:21.324Z"
   },
   {
    "duration": 7,
    "start_time": "2023-12-03T20:07:49.410Z"
   },
   {
    "duration": 125,
    "start_time": "2023-12-03T20:14:54.991Z"
   },
   {
    "duration": 6,
    "start_time": "2023-12-03T20:18:50.984Z"
   },
   {
    "duration": 65,
    "start_time": "2023-12-03T20:25:40.928Z"
   },
   {
    "duration": 70,
    "start_time": "2023-12-03T20:45:17.062Z"
   },
   {
    "duration": 68,
    "start_time": "2023-12-03T20:48:41.635Z"
   },
   {
    "duration": 84,
    "start_time": "2023-12-03T20:49:27.141Z"
   },
   {
    "duration": 1117,
    "start_time": "2023-12-03T21:27:30.113Z"
   },
   {
    "duration": 25,
    "start_time": "2023-12-03T21:27:31.232Z"
   },
   {
    "duration": 9,
    "start_time": "2023-12-03T21:27:31.259Z"
   },
   {
    "duration": 28,
    "start_time": "2023-12-03T21:27:31.270Z"
   },
   {
    "duration": 68,
    "start_time": "2023-12-03T21:27:31.299Z"
   },
   {
    "duration": 29,
    "start_time": "2023-12-03T21:27:31.368Z"
   },
   {
    "duration": 17,
    "start_time": "2023-12-03T21:27:31.398Z"
   },
   {
    "duration": 61,
    "start_time": "2023-12-03T21:27:31.416Z"
   },
   {
    "duration": 22,
    "start_time": "2023-12-03T21:27:31.479Z"
   },
   {
    "duration": 18,
    "start_time": "2023-12-03T21:27:31.503Z"
   },
   {
    "duration": 19,
    "start_time": "2023-12-03T21:27:31.522Z"
   },
   {
    "duration": 23,
    "start_time": "2023-12-03T21:27:31.542Z"
   },
   {
    "duration": 36,
    "start_time": "2023-12-03T21:27:31.566Z"
   },
   {
    "duration": 19,
    "start_time": "2023-12-03T21:27:31.603Z"
   },
   {
    "duration": 39,
    "start_time": "2023-12-03T21:27:31.623Z"
   },
   {
    "duration": 23,
    "start_time": "2023-12-03T21:27:31.663Z"
   },
   {
    "duration": 32,
    "start_time": "2023-12-03T21:27:31.688Z"
   },
   {
    "duration": 14,
    "start_time": "2023-12-03T21:27:31.721Z"
   },
   {
    "duration": 21,
    "start_time": "2023-12-03T21:27:31.736Z"
   },
   {
    "duration": 7,
    "start_time": "2023-12-03T21:27:31.758Z"
   },
   {
    "duration": 8,
    "start_time": "2023-12-03T21:27:31.766Z"
   },
   {
    "duration": 24,
    "start_time": "2023-12-03T21:27:31.775Z"
   },
   {
    "duration": 255,
    "start_time": "2023-12-03T21:27:31.801Z"
   },
   {
    "duration": 4,
    "start_time": "2023-12-03T21:27:32.057Z"
   },
   {
    "duration": 24,
    "start_time": "2023-12-03T21:27:32.062Z"
   },
   {
    "duration": 5,
    "start_time": "2023-12-03T21:27:32.092Z"
   },
   {
    "duration": 5,
    "start_time": "2023-12-03T21:27:32.098Z"
   },
   {
    "duration": 5,
    "start_time": "2023-12-03T21:27:32.106Z"
   },
   {
    "duration": 13,
    "start_time": "2023-12-03T21:27:32.112Z"
   },
   {
    "duration": 10,
    "start_time": "2023-12-03T21:27:32.127Z"
   },
   {
    "duration": 179,
    "start_time": "2023-12-03T21:27:32.138Z"
   },
   {
    "duration": 117,
    "start_time": "2023-12-03T21:27:32.318Z"
   },
   {
    "duration": 11,
    "start_time": "2023-12-03T21:27:32.436Z"
   },
   {
    "duration": 9,
    "start_time": "2023-12-03T21:27:32.448Z"
   },
   {
    "duration": 217,
    "start_time": "2023-12-03T21:27:32.459Z"
   },
   {
    "duration": 188,
    "start_time": "2023-12-03T21:27:32.677Z"
   },
   {
    "duration": 15,
    "start_time": "2023-12-03T21:27:32.867Z"
   },
   {
    "duration": 324,
    "start_time": "2023-12-03T21:27:32.884Z"
   },
   {
    "duration": 3,
    "start_time": "2023-12-03T21:27:33.209Z"
   },
   {
    "duration": 37,
    "start_time": "2023-12-03T21:27:33.214Z"
   },
   {
    "duration": 197,
    "start_time": "2023-12-03T21:27:33.253Z"
   },
   {
    "duration": 8,
    "start_time": "2023-12-03T21:27:33.452Z"
   },
   {
    "duration": 343,
    "start_time": "2023-12-03T21:27:33.461Z"
   },
   {
    "duration": 12,
    "start_time": "2023-12-03T21:27:33.806Z"
   },
   {
    "duration": 137,
    "start_time": "2023-12-03T21:27:33.820Z"
   },
   {
    "duration": 7,
    "start_time": "2023-12-03T21:27:33.959Z"
   },
   {
    "duration": 22,
    "start_time": "2023-12-03T21:27:33.968Z"
   },
   {
    "duration": 208,
    "start_time": "2023-12-03T21:27:33.992Z"
   },
   {
    "duration": 7,
    "start_time": "2023-12-03T21:27:34.201Z"
   },
   {
    "duration": 9,
    "start_time": "2023-12-03T21:27:34.210Z"
   },
   {
    "duration": 13,
    "start_time": "2023-12-03T21:27:34.221Z"
   },
   {
    "duration": 12,
    "start_time": "2023-12-03T21:27:34.235Z"
   },
   {
    "duration": 15,
    "start_time": "2023-12-03T21:27:34.248Z"
   },
   {
    "duration": 27,
    "start_time": "2023-12-03T21:27:34.264Z"
   },
   {
    "duration": 8,
    "start_time": "2023-12-03T21:27:34.293Z"
   },
   {
    "duration": 9,
    "start_time": "2023-12-03T21:27:34.302Z"
   },
   {
    "duration": 5,
    "start_time": "2023-12-03T21:27:34.313Z"
   },
   {
    "duration": 7,
    "start_time": "2023-12-03T21:27:34.319Z"
   },
   {
    "duration": 19,
    "start_time": "2023-12-03T21:27:34.327Z"
   },
   {
    "duration": 7,
    "start_time": "2023-12-03T21:27:34.347Z"
   },
   {
    "duration": 14,
    "start_time": "2023-12-03T21:27:34.382Z"
   },
   {
    "duration": 3,
    "start_time": "2023-12-03T21:27:34.398Z"
   },
   {
    "duration": 8,
    "start_time": "2023-12-03T21:27:34.403Z"
   },
   {
    "duration": 11,
    "start_time": "2023-12-03T21:27:34.413Z"
   },
   {
    "duration": 9,
    "start_time": "2023-12-03T21:27:34.426Z"
   },
   {
    "duration": 10,
    "start_time": "2023-12-03T21:27:34.436Z"
   },
   {
    "duration": 6,
    "start_time": "2023-12-03T21:27:34.447Z"
   },
   {
    "duration": 34,
    "start_time": "2023-12-03T21:27:34.454Z"
   },
   {
    "duration": 1132,
    "start_time": "2023-12-03T21:28:46.489Z"
   },
   {
    "duration": 26,
    "start_time": "2023-12-03T21:28:47.622Z"
   },
   {
    "duration": 9,
    "start_time": "2023-12-03T21:28:47.650Z"
   },
   {
    "duration": 3,
    "start_time": "2023-12-03T21:28:47.661Z"
   },
   {
    "duration": 12,
    "start_time": "2023-12-03T21:28:47.666Z"
   },
   {
    "duration": 13,
    "start_time": "2023-12-03T21:28:47.679Z"
   },
   {
    "duration": 9,
    "start_time": "2023-12-03T21:28:47.694Z"
   },
   {
    "duration": 54,
    "start_time": "2023-12-03T21:28:47.704Z"
   },
   {
    "duration": 9,
    "start_time": "2023-12-03T21:28:47.759Z"
   },
   {
    "duration": 9,
    "start_time": "2023-12-03T21:28:47.769Z"
   },
   {
    "duration": 11,
    "start_time": "2023-12-03T21:28:47.779Z"
   },
   {
    "duration": 22,
    "start_time": "2023-12-03T21:28:47.792Z"
   },
   {
    "duration": 8,
    "start_time": "2023-12-03T21:28:47.816Z"
   },
   {
    "duration": 20,
    "start_time": "2023-12-03T21:28:47.826Z"
   },
   {
    "duration": 6,
    "start_time": "2023-12-03T21:28:47.847Z"
   },
   {
    "duration": 17,
    "start_time": "2023-12-03T21:28:47.855Z"
   },
   {
    "duration": 31,
    "start_time": "2023-12-03T21:28:47.874Z"
   },
   {
    "duration": 9,
    "start_time": "2023-12-03T21:28:47.907Z"
   },
   {
    "duration": 6,
    "start_time": "2023-12-03T21:28:47.918Z"
   },
   {
    "duration": 5,
    "start_time": "2023-12-03T21:28:47.925Z"
   },
   {
    "duration": 4,
    "start_time": "2023-12-03T21:28:47.931Z"
   },
   {
    "duration": 21,
    "start_time": "2023-12-03T21:28:47.936Z"
   },
   {
    "duration": 268,
    "start_time": "2023-12-03T21:28:47.958Z"
   },
   {
    "duration": 3,
    "start_time": "2023-12-03T21:28:48.228Z"
   },
   {
    "duration": 20,
    "start_time": "2023-12-03T21:28:48.233Z"
   },
   {
    "duration": 24,
    "start_time": "2023-12-03T21:28:48.254Z"
   },
   {
    "duration": 7,
    "start_time": "2023-12-03T21:28:48.279Z"
   },
   {
    "duration": 8,
    "start_time": "2023-12-03T21:28:48.288Z"
   },
   {
    "duration": 11,
    "start_time": "2023-12-03T21:28:48.298Z"
   },
   {
    "duration": 5,
    "start_time": "2023-12-03T21:28:48.311Z"
   },
   {
    "duration": 168,
    "start_time": "2023-12-03T21:28:48.317Z"
   },
   {
    "duration": 126,
    "start_time": "2023-12-03T21:28:48.487Z"
   },
   {
    "duration": 12,
    "start_time": "2023-12-03T21:28:48.614Z"
   },
   {
    "duration": 5,
    "start_time": "2023-12-03T21:28:48.628Z"
   },
   {
    "duration": 200,
    "start_time": "2023-12-03T21:28:48.635Z"
   },
   {
    "duration": 185,
    "start_time": "2023-12-03T21:28:48.836Z"
   },
   {
    "duration": 5,
    "start_time": "2023-12-03T21:28:49.023Z"
   },
   {
    "duration": 285,
    "start_time": "2023-12-03T21:28:49.030Z"
   },
   {
    "duration": 4,
    "start_time": "2023-12-03T21:28:49.317Z"
   },
   {
    "duration": 7,
    "start_time": "2023-12-03T21:28:49.323Z"
   },
   {
    "duration": 210,
    "start_time": "2023-12-03T21:28:49.335Z"
   },
   {
    "duration": 8,
    "start_time": "2023-12-03T21:28:49.547Z"
   },
   {
    "duration": 329,
    "start_time": "2023-12-03T21:28:49.556Z"
   },
   {
    "duration": 13,
    "start_time": "2023-12-03T21:28:49.887Z"
   },
   {
    "duration": 127,
    "start_time": "2023-12-03T21:28:49.901Z"
   },
   {
    "duration": 6,
    "start_time": "2023-12-03T21:28:50.029Z"
   },
   {
    "duration": 7,
    "start_time": "2023-12-03T21:28:50.036Z"
   },
   {
    "duration": 151,
    "start_time": "2023-12-03T21:28:50.044Z"
   },
   {
    "duration": 6,
    "start_time": "2023-12-03T21:28:50.196Z"
   },
   {
    "duration": 17,
    "start_time": "2023-12-03T21:28:50.203Z"
   },
   {
    "duration": 23,
    "start_time": "2023-12-03T21:28:50.222Z"
   },
   {
    "duration": 48,
    "start_time": "2023-12-03T21:28:50.247Z"
   },
   {
    "duration": 35,
    "start_time": "2023-12-03T21:28:50.297Z"
   },
   {
    "duration": 31,
    "start_time": "2023-12-03T21:28:50.334Z"
   },
   {
    "duration": 83,
    "start_time": "2023-12-03T21:28:50.367Z"
   },
   {
    "duration": 38,
    "start_time": "2023-12-03T21:28:50.451Z"
   },
   {
    "duration": 24,
    "start_time": "2023-12-03T21:28:50.491Z"
   },
   {
    "duration": 10,
    "start_time": "2023-12-03T21:28:50.517Z"
   },
   {
    "duration": 34,
    "start_time": "2023-12-03T21:28:50.528Z"
   },
   {
    "duration": 18,
    "start_time": "2023-12-03T21:28:50.563Z"
   },
   {
    "duration": 28,
    "start_time": "2023-12-03T21:28:50.582Z"
   },
   {
    "duration": 28,
    "start_time": "2023-12-03T21:28:50.611Z"
   },
   {
    "duration": 30,
    "start_time": "2023-12-03T21:28:50.640Z"
   },
   {
    "duration": 30,
    "start_time": "2023-12-03T21:28:50.671Z"
   },
   {
    "duration": 21,
    "start_time": "2023-12-03T21:28:50.702Z"
   },
   {
    "duration": 29,
    "start_time": "2023-12-03T21:28:50.724Z"
   },
   {
    "duration": 9,
    "start_time": "2023-12-03T21:28:50.754Z"
   },
   {
    "duration": 6,
    "start_time": "2023-12-03T21:28:50.765Z"
   },
   {
    "duration": 8,
    "start_time": "2023-12-03T21:29:09.425Z"
   },
   {
    "duration": 1147,
    "start_time": "2023-12-03T21:29:54.049Z"
   },
   {
    "duration": 26,
    "start_time": "2023-12-03T21:29:55.197Z"
   },
   {
    "duration": 10,
    "start_time": "2023-12-03T21:29:55.224Z"
   },
   {
    "duration": 25,
    "start_time": "2023-12-03T21:29:55.236Z"
   },
   {
    "duration": 28,
    "start_time": "2023-12-03T21:29:55.262Z"
   },
   {
    "duration": 32,
    "start_time": "2023-12-03T21:29:55.292Z"
   },
   {
    "duration": 28,
    "start_time": "2023-12-03T21:29:55.325Z"
   },
   {
    "duration": 64,
    "start_time": "2023-12-03T21:29:55.355Z"
   },
   {
    "duration": 9,
    "start_time": "2023-12-03T21:29:55.421Z"
   },
   {
    "duration": 34,
    "start_time": "2023-12-03T21:29:55.432Z"
   },
   {
    "duration": 23,
    "start_time": "2023-12-03T21:29:55.467Z"
   },
   {
    "duration": 38,
    "start_time": "2023-12-03T21:29:55.492Z"
   },
   {
    "duration": 20,
    "start_time": "2023-12-03T21:29:55.532Z"
   },
   {
    "duration": 36,
    "start_time": "2023-12-03T21:29:55.553Z"
   },
   {
    "duration": 6,
    "start_time": "2023-12-03T21:29:55.591Z"
   },
   {
    "duration": 3,
    "start_time": "2023-12-03T21:29:55.598Z"
   },
   {
    "duration": 10,
    "start_time": "2023-12-03T21:29:55.602Z"
   },
   {
    "duration": 9,
    "start_time": "2023-12-03T21:29:55.614Z"
   },
   {
    "duration": 9,
    "start_time": "2023-12-03T21:29:55.624Z"
   },
   {
    "duration": 4,
    "start_time": "2023-12-03T21:29:55.634Z"
   },
   {
    "duration": 3,
    "start_time": "2023-12-03T21:29:55.640Z"
   },
   {
    "duration": 43,
    "start_time": "2023-12-03T21:29:55.644Z"
   },
   {
    "duration": 279,
    "start_time": "2023-12-03T21:29:55.688Z"
   },
   {
    "duration": 14,
    "start_time": "2023-12-03T21:29:55.968Z"
   },
   {
    "duration": 61,
    "start_time": "2023-12-03T21:29:55.984Z"
   },
   {
    "duration": 42,
    "start_time": "2023-12-03T21:29:56.046Z"
   },
   {
    "duration": 26,
    "start_time": "2023-12-03T21:29:56.090Z"
   },
   {
    "duration": 30,
    "start_time": "2023-12-03T21:29:56.120Z"
   },
   {
    "duration": 37,
    "start_time": "2023-12-03T21:29:56.151Z"
   },
   {
    "duration": 34,
    "start_time": "2023-12-03T21:29:56.189Z"
   },
   {
    "duration": 181,
    "start_time": "2023-12-03T21:29:56.224Z"
   },
   {
    "duration": 115,
    "start_time": "2023-12-03T21:29:56.406Z"
   },
   {
    "duration": 11,
    "start_time": "2023-12-03T21:29:56.522Z"
   },
   {
    "duration": 18,
    "start_time": "2023-12-03T21:29:56.534Z"
   },
   {
    "duration": 193,
    "start_time": "2023-12-03T21:29:56.553Z"
   },
   {
    "duration": 172,
    "start_time": "2023-12-03T21:29:56.747Z"
   },
   {
    "duration": 5,
    "start_time": "2023-12-03T21:29:56.921Z"
   },
   {
    "duration": 271,
    "start_time": "2023-12-03T21:29:56.927Z"
   },
   {
    "duration": 4,
    "start_time": "2023-12-03T21:29:57.199Z"
   },
   {
    "duration": 17,
    "start_time": "2023-12-03T21:29:57.204Z"
   },
   {
    "duration": 198,
    "start_time": "2023-12-03T21:29:57.222Z"
   },
   {
    "duration": 7,
    "start_time": "2023-12-03T21:29:57.422Z"
   },
   {
    "duration": 310,
    "start_time": "2023-12-03T21:29:57.431Z"
   },
   {
    "duration": 10,
    "start_time": "2023-12-03T21:29:57.743Z"
   },
   {
    "duration": 140,
    "start_time": "2023-12-03T21:29:57.754Z"
   },
   {
    "duration": 6,
    "start_time": "2023-12-03T21:29:57.895Z"
   },
   {
    "duration": 12,
    "start_time": "2023-12-03T21:29:57.902Z"
   },
   {
    "duration": 201,
    "start_time": "2023-12-03T21:29:57.915Z"
   },
   {
    "duration": 7,
    "start_time": "2023-12-03T21:29:58.117Z"
   },
   {
    "duration": 22,
    "start_time": "2023-12-03T21:29:58.125Z"
   },
   {
    "duration": 17,
    "start_time": "2023-12-03T21:29:58.149Z"
   },
   {
    "duration": 9,
    "start_time": "2023-12-03T21:29:58.167Z"
   },
   {
    "duration": 28,
    "start_time": "2023-12-03T21:29:58.178Z"
   },
   {
    "duration": 13,
    "start_time": "2023-12-03T21:29:58.207Z"
   },
   {
    "duration": 18,
    "start_time": "2023-12-03T21:29:58.221Z"
   },
   {
    "duration": 21,
    "start_time": "2023-12-03T21:29:58.240Z"
   },
   {
    "duration": 17,
    "start_time": "2023-12-03T21:29:58.262Z"
   },
   {
    "duration": 20,
    "start_time": "2023-12-03T21:29:58.281Z"
   },
   {
    "duration": 19,
    "start_time": "2023-12-03T21:29:58.302Z"
   },
   {
    "duration": 14,
    "start_time": "2023-12-03T21:29:58.322Z"
   },
   {
    "duration": 16,
    "start_time": "2023-12-03T21:29:58.338Z"
   },
   {
    "duration": 27,
    "start_time": "2023-12-03T21:29:58.355Z"
   },
   {
    "duration": 14,
    "start_time": "2023-12-03T21:29:58.383Z"
   },
   {
    "duration": 22,
    "start_time": "2023-12-03T21:29:58.398Z"
   },
   {
    "duration": 23,
    "start_time": "2023-12-03T21:29:58.421Z"
   },
   {
    "duration": 19,
    "start_time": "2023-12-03T21:29:58.445Z"
   },
   {
    "duration": 14,
    "start_time": "2023-12-03T21:29:58.466Z"
   },
   {
    "duration": 18,
    "start_time": "2023-12-03T21:29:58.481Z"
   },
   {
    "duration": 56,
    "start_time": "2023-12-04T19:58:14.648Z"
   },
   {
    "duration": 1378,
    "start_time": "2023-12-04T19:58:23.008Z"
   },
   {
    "duration": 70,
    "start_time": "2023-12-04T19:58:24.388Z"
   },
   {
    "duration": 12,
    "start_time": "2023-12-04T19:58:24.459Z"
   },
   {
    "duration": 4,
    "start_time": "2023-12-04T19:58:24.473Z"
   },
   {
    "duration": 18,
    "start_time": "2023-12-04T19:58:24.479Z"
   },
   {
    "duration": 10,
    "start_time": "2023-12-04T19:58:24.498Z"
   },
   {
    "duration": 12,
    "start_time": "2023-12-04T19:58:24.510Z"
   },
   {
    "duration": 123,
    "start_time": "2023-12-04T19:58:24.524Z"
   },
   {
    "duration": 11,
    "start_time": "2023-12-04T19:58:24.648Z"
   },
   {
    "duration": 10,
    "start_time": "2023-12-04T19:58:24.661Z"
   },
   {
    "duration": 8,
    "start_time": "2023-12-04T19:58:24.673Z"
   },
   {
    "duration": 11,
    "start_time": "2023-12-04T19:58:24.682Z"
   },
   {
    "duration": 13,
    "start_time": "2023-12-04T19:58:24.694Z"
   },
   {
    "duration": 7,
    "start_time": "2023-12-04T19:58:24.710Z"
   },
   {
    "duration": 5,
    "start_time": "2023-12-04T19:58:24.731Z"
   },
   {
    "duration": 6,
    "start_time": "2023-12-04T19:58:24.738Z"
   },
   {
    "duration": 17,
    "start_time": "2023-12-04T19:58:24.745Z"
   },
   {
    "duration": 12,
    "start_time": "2023-12-04T19:58:24.764Z"
   },
   {
    "duration": 11,
    "start_time": "2023-12-04T19:58:24.777Z"
   },
   {
    "duration": 13,
    "start_time": "2023-12-04T19:58:24.789Z"
   },
   {
    "duration": 13,
    "start_time": "2023-12-04T19:58:24.804Z"
   },
   {
    "duration": 11,
    "start_time": "2023-12-04T19:58:24.830Z"
   },
   {
    "duration": 248,
    "start_time": "2023-12-04T19:58:24.842Z"
   },
   {
    "duration": 4,
    "start_time": "2023-12-04T19:58:25.092Z"
   },
   {
    "duration": 7,
    "start_time": "2023-12-04T19:58:25.097Z"
   },
   {
    "duration": 5,
    "start_time": "2023-12-04T19:58:25.106Z"
   },
   {
    "duration": 21,
    "start_time": "2023-12-04T19:58:25.112Z"
   },
   {
    "duration": 27,
    "start_time": "2023-12-04T19:58:25.135Z"
   },
   {
    "duration": 14,
    "start_time": "2023-12-04T19:58:25.163Z"
   },
   {
    "duration": 10,
    "start_time": "2023-12-04T19:58:25.178Z"
   },
   {
    "duration": 170,
    "start_time": "2023-12-04T19:58:25.189Z"
   },
   {
    "duration": 111,
    "start_time": "2023-12-04T19:58:25.361Z"
   },
   {
    "duration": 11,
    "start_time": "2023-12-04T19:58:25.473Z"
   },
   {
    "duration": 23,
    "start_time": "2023-12-04T19:58:25.486Z"
   },
   {
    "duration": 219,
    "start_time": "2023-12-04T19:58:25.511Z"
   },
   {
    "duration": 184,
    "start_time": "2023-12-04T19:58:25.731Z"
   },
   {
    "duration": 14,
    "start_time": "2023-12-04T19:58:25.917Z"
   },
   {
    "duration": 338,
    "start_time": "2023-12-04T19:58:25.933Z"
   },
   {
    "duration": 5,
    "start_time": "2023-12-04T19:58:26.273Z"
   },
   {
    "duration": 27,
    "start_time": "2023-12-04T19:58:26.279Z"
   },
   {
    "duration": 187,
    "start_time": "2023-12-04T19:58:26.309Z"
   },
   {
    "duration": 8,
    "start_time": "2023-12-04T19:58:26.498Z"
   },
   {
    "duration": 313,
    "start_time": "2023-12-04T19:58:26.507Z"
   },
   {
    "duration": 16,
    "start_time": "2023-12-04T19:58:26.822Z"
   },
   {
    "duration": 205,
    "start_time": "2023-12-04T19:58:26.840Z"
   },
   {
    "duration": 6,
    "start_time": "2023-12-04T19:58:27.046Z"
   },
   {
    "duration": 10,
    "start_time": "2023-12-04T19:58:27.053Z"
   },
   {
    "duration": 285,
    "start_time": "2023-12-04T19:58:27.064Z"
   },
   {
    "duration": 6,
    "start_time": "2023-12-04T19:58:27.350Z"
   },
   {
    "duration": 13,
    "start_time": "2023-12-04T19:58:27.357Z"
   },
   {
    "duration": 61,
    "start_time": "2023-12-04T19:58:27.371Z"
   },
   {
    "duration": 10,
    "start_time": "2023-12-04T19:58:27.434Z"
   },
   {
    "duration": 38,
    "start_time": "2023-12-04T19:58:27.446Z"
   },
   {
    "duration": 52,
    "start_time": "2023-12-04T19:58:27.485Z"
   },
   {
    "duration": 136,
    "start_time": "2023-12-04T19:58:27.538Z"
   },
   {
    "duration": 57,
    "start_time": "2023-12-04T19:58:27.675Z"
   },
   {
    "duration": 9,
    "start_time": "2023-12-04T19:58:27.734Z"
   },
   {
    "duration": 44,
    "start_time": "2023-12-04T19:58:27.744Z"
   },
   {
    "duration": 50,
    "start_time": "2023-12-04T19:58:27.790Z"
   },
   {
    "duration": 17,
    "start_time": "2023-12-04T19:58:27.842Z"
   },
   {
    "duration": 21,
    "start_time": "2023-12-04T19:58:27.861Z"
   },
   {
    "duration": 48,
    "start_time": "2023-12-04T19:58:27.884Z"
   },
   {
    "duration": 9,
    "start_time": "2023-12-04T19:58:27.935Z"
   },
   {
    "duration": 46,
    "start_time": "2023-12-04T19:58:27.946Z"
   },
   {
    "duration": 38,
    "start_time": "2023-12-04T19:58:27.993Z"
   },
   {
    "duration": 10,
    "start_time": "2023-12-04T19:58:28.033Z"
   },
   {
    "duration": 12,
    "start_time": "2023-12-04T19:58:28.044Z"
   },
   {
    "duration": 75,
    "start_time": "2023-12-04T19:58:28.057Z"
   },
   {
    "duration": 73,
    "start_time": "2023-12-04T19:59:59.254Z"
   },
   {
    "duration": 79,
    "start_time": "2023-12-04T20:05:11.473Z"
   },
   {
    "duration": 11,
    "start_time": "2023-12-04T20:09:43.940Z"
   },
   {
    "duration": 11,
    "start_time": "2023-12-04T20:10:00.006Z"
   },
   {
    "duration": 11,
    "start_time": "2023-12-04T20:10:16.997Z"
   },
   {
    "duration": 11,
    "start_time": "2023-12-04T20:12:46.100Z"
   },
   {
    "duration": 160,
    "start_time": "2023-12-04T20:15:39.778Z"
   },
   {
    "duration": 13,
    "start_time": "2023-12-04T20:23:51.048Z"
   },
   {
    "duration": 7,
    "start_time": "2023-12-04T20:24:07.413Z"
   },
   {
    "duration": 5,
    "start_time": "2023-12-04T20:24:52.633Z"
   },
   {
    "duration": 98,
    "start_time": "2023-12-04T20:25:52.780Z"
   },
   {
    "duration": 12,
    "start_time": "2023-12-04T20:26:04.931Z"
   },
   {
    "duration": 13,
    "start_time": "2023-12-04T20:26:13.182Z"
   },
   {
    "duration": 4,
    "start_time": "2023-12-04T20:26:30.499Z"
   },
   {
    "duration": 4,
    "start_time": "2023-12-04T20:26:47.365Z"
   },
   {
    "duration": 4,
    "start_time": "2023-12-04T20:26:58.237Z"
   },
   {
    "duration": 1468,
    "start_time": "2023-12-04T20:27:10.970Z"
   },
   {
    "duration": 1467,
    "start_time": "2023-12-04T20:27:29.719Z"
   },
   {
    "duration": 8,
    "start_time": "2023-12-04T20:27:50.660Z"
   },
   {
    "duration": 21,
    "start_time": "2023-12-04T20:28:00.296Z"
   },
   {
    "duration": 11,
    "start_time": "2023-12-04T20:28:39.215Z"
   },
   {
    "duration": 18,
    "start_time": "2023-12-04T20:28:47.786Z"
   },
   {
    "duration": 15,
    "start_time": "2023-12-04T20:28:53.832Z"
   },
   {
    "duration": 17,
    "start_time": "2023-12-04T20:28:56.933Z"
   },
   {
    "duration": 16,
    "start_time": "2023-12-04T20:29:02.444Z"
   },
   {
    "duration": 14,
    "start_time": "2023-12-04T20:29:06.651Z"
   },
   {
    "duration": 12,
    "start_time": "2023-12-04T20:29:11.700Z"
   },
   {
    "duration": 15,
    "start_time": "2023-12-04T20:29:25.317Z"
   },
   {
    "duration": 10,
    "start_time": "2023-12-04T20:29:52.973Z"
   },
   {
    "duration": 16,
    "start_time": "2023-12-04T20:30:11.969Z"
   },
   {
    "duration": 10,
    "start_time": "2023-12-04T20:30:55.765Z"
   },
   {
    "duration": 22,
    "start_time": "2023-12-04T20:31:10.532Z"
   },
   {
    "duration": 22,
    "start_time": "2023-12-04T20:31:30.602Z"
   },
   {
    "duration": 11,
    "start_time": "2023-12-04T20:31:49.316Z"
   },
   {
    "duration": 17,
    "start_time": "2023-12-04T20:31:56.589Z"
   },
   {
    "duration": 16,
    "start_time": "2023-12-04T20:32:00.590Z"
   },
   {
    "duration": 10,
    "start_time": "2023-12-04T20:32:28.173Z"
   },
   {
    "duration": 1139,
    "start_time": "2023-12-04T20:36:06.192Z"
   },
   {
    "duration": 27,
    "start_time": "2023-12-04T20:36:07.332Z"
   },
   {
    "duration": 12,
    "start_time": "2023-12-04T20:36:07.361Z"
   },
   {
    "duration": 5,
    "start_time": "2023-12-04T20:36:07.376Z"
   },
   {
    "duration": 20,
    "start_time": "2023-12-04T20:36:07.382Z"
   },
   {
    "duration": 11,
    "start_time": "2023-12-04T20:36:07.404Z"
   },
   {
    "duration": 20,
    "start_time": "2023-12-04T20:36:07.416Z"
   },
   {
    "duration": 65,
    "start_time": "2023-12-04T20:36:07.438Z"
   },
   {
    "duration": 11,
    "start_time": "2023-12-04T20:36:07.505Z"
   },
   {
    "duration": 21,
    "start_time": "2023-12-04T20:36:07.519Z"
   },
   {
    "duration": 15,
    "start_time": "2023-12-04T20:36:07.541Z"
   },
   {
    "duration": 9,
    "start_time": "2023-12-04T20:36:07.558Z"
   },
   {
    "duration": 11,
    "start_time": "2023-12-04T20:36:07.569Z"
   },
   {
    "duration": 12,
    "start_time": "2023-12-04T20:36:07.582Z"
   },
   {
    "duration": 43,
    "start_time": "2023-12-04T20:36:07.596Z"
   },
   {
    "duration": 8,
    "start_time": "2023-12-04T20:36:07.641Z"
   },
   {
    "duration": 13,
    "start_time": "2023-12-04T20:36:07.651Z"
   },
   {
    "duration": 11,
    "start_time": "2023-12-04T20:36:07.666Z"
   },
   {
    "duration": 14,
    "start_time": "2023-12-04T20:36:07.679Z"
   },
   {
    "duration": 10,
    "start_time": "2023-12-04T20:36:07.694Z"
   },
   {
    "duration": 6,
    "start_time": "2023-12-04T20:36:07.706Z"
   },
   {
    "duration": 24,
    "start_time": "2023-12-04T20:36:07.713Z"
   },
   {
    "duration": 262,
    "start_time": "2023-12-04T20:36:07.739Z"
   },
   {
    "duration": 5,
    "start_time": "2023-12-04T20:36:08.003Z"
   },
   {
    "duration": 42,
    "start_time": "2023-12-04T20:36:08.009Z"
   },
   {
    "duration": 41,
    "start_time": "2023-12-04T20:36:08.052Z"
   },
   {
    "duration": 66,
    "start_time": "2023-12-04T20:36:08.095Z"
   },
   {
    "duration": 17,
    "start_time": "2023-12-04T20:36:08.164Z"
   },
   {
    "duration": 7,
    "start_time": "2023-12-04T20:36:08.183Z"
   },
   {
    "duration": 20,
    "start_time": "2023-12-04T20:36:08.192Z"
   },
   {
    "duration": 5,
    "start_time": "2023-12-04T20:36:08.214Z"
   },
   {
    "duration": 162,
    "start_time": "2023-12-04T20:36:08.221Z"
   },
   {
    "duration": 117,
    "start_time": "2023-12-04T20:36:08.385Z"
   },
   {
    "duration": 12,
    "start_time": "2023-12-04T20:36:08.504Z"
   },
   {
    "duration": 23,
    "start_time": "2023-12-04T20:36:08.518Z"
   },
   {
    "duration": 197,
    "start_time": "2023-12-04T20:36:08.543Z"
   },
   {
    "duration": 193,
    "start_time": "2023-12-04T20:36:08.742Z"
   },
   {
    "duration": 6,
    "start_time": "2023-12-04T20:36:08.937Z"
   },
   {
    "duration": 311,
    "start_time": "2023-12-04T20:36:08.944Z"
   },
   {
    "duration": 5,
    "start_time": "2023-12-04T20:36:09.257Z"
   },
   {
    "duration": 7,
    "start_time": "2023-12-04T20:36:09.263Z"
   },
   {
    "duration": 213,
    "start_time": "2023-12-04T20:36:09.272Z"
   },
   {
    "duration": 9,
    "start_time": "2023-12-04T20:36:09.486Z"
   },
   {
    "duration": 358,
    "start_time": "2023-12-04T20:36:09.496Z"
   },
   {
    "duration": 12,
    "start_time": "2023-12-04T20:36:09.856Z"
   },
   {
    "duration": 152,
    "start_time": "2023-12-04T20:36:09.870Z"
   },
   {
    "duration": 10,
    "start_time": "2023-12-04T20:36:10.024Z"
   },
   {
    "duration": 28,
    "start_time": "2023-12-04T20:36:10.036Z"
   },
   {
    "duration": 216,
    "start_time": "2023-12-04T20:36:10.066Z"
   },
   {
    "duration": 6,
    "start_time": "2023-12-04T20:36:10.283Z"
   },
   {
    "duration": 12,
    "start_time": "2023-12-04T20:36:10.291Z"
   },
   {
    "duration": 27,
    "start_time": "2023-12-04T20:36:10.304Z"
   },
   {
    "duration": 10,
    "start_time": "2023-12-04T20:36:10.333Z"
   },
   {
    "duration": 17,
    "start_time": "2023-12-04T20:36:10.344Z"
   },
   {
    "duration": 20,
    "start_time": "2023-12-04T20:36:10.363Z"
   },
   {
    "duration": 15,
    "start_time": "2023-12-04T20:36:10.385Z"
   },
   {
    "duration": 12,
    "start_time": "2023-12-04T20:36:10.402Z"
   },
   {
    "duration": 18,
    "start_time": "2023-12-04T20:36:10.415Z"
   },
   {
    "duration": 12,
    "start_time": "2023-12-04T20:36:10.435Z"
   },
   {
    "duration": 14,
    "start_time": "2023-12-04T20:36:10.449Z"
   },
   {
    "duration": 8,
    "start_time": "2023-12-04T20:36:10.465Z"
   },
   {
    "duration": 11,
    "start_time": "2023-12-04T20:36:10.475Z"
   },
   {
    "duration": 9,
    "start_time": "2023-12-04T20:36:10.488Z"
   },
   {
    "duration": 33,
    "start_time": "2023-12-04T20:36:10.499Z"
   },
   {
    "duration": 15,
    "start_time": "2023-12-04T20:36:10.534Z"
   },
   {
    "duration": 10,
    "start_time": "2023-12-04T20:36:10.551Z"
   },
   {
    "duration": 10,
    "start_time": "2023-12-04T20:36:10.562Z"
   },
   {
    "duration": 6,
    "start_time": "2023-12-04T20:36:10.573Z"
   },
   {
    "duration": 5,
    "start_time": "2023-12-04T20:36:10.581Z"
   },
   {
    "duration": 11,
    "start_time": "2023-12-04T20:39:03.168Z"
   },
   {
    "duration": 8,
    "start_time": "2023-12-04T20:41:41.351Z"
   },
   {
    "duration": 98,
    "start_time": "2023-12-04T20:41:59.239Z"
   },
   {
    "duration": 7,
    "start_time": "2023-12-04T20:42:03.704Z"
   },
   {
    "duration": 9,
    "start_time": "2023-12-04T20:42:15.975Z"
   },
   {
    "duration": 378,
    "start_time": "2023-12-04T20:42:27.092Z"
   },
   {
    "duration": 7,
    "start_time": "2023-12-04T20:42:37.775Z"
   },
   {
    "duration": 7,
    "start_time": "2023-12-04T20:42:45.693Z"
   },
   {
    "duration": 8,
    "start_time": "2023-12-04T20:42:49.542Z"
   },
   {
    "duration": 9,
    "start_time": "2023-12-04T20:43:17.379Z"
   },
   {
    "duration": 5,
    "start_time": "2023-12-04T20:43:19.916Z"
   },
   {
    "duration": 7,
    "start_time": "2023-12-04T20:43:33.565Z"
   },
   {
    "duration": 7,
    "start_time": "2023-12-04T20:44:58.557Z"
   },
   {
    "duration": 7,
    "start_time": "2023-12-04T20:45:51.564Z"
   },
   {
    "duration": 8,
    "start_time": "2023-12-04T20:46:15.567Z"
   },
   {
    "duration": 7,
    "start_time": "2023-12-04T20:46:39.052Z"
   },
   {
    "duration": 6,
    "start_time": "2023-12-04T20:46:39.705Z"
   },
   {
    "duration": 8,
    "start_time": "2023-12-04T20:46:40.351Z"
   },
   {
    "duration": 1210,
    "start_time": "2023-12-04T20:46:50.732Z"
   },
   {
    "duration": 27,
    "start_time": "2023-12-04T20:46:51.944Z"
   },
   {
    "duration": 11,
    "start_time": "2023-12-04T20:46:51.973Z"
   },
   {
    "duration": 10,
    "start_time": "2023-12-04T20:46:51.987Z"
   },
   {
    "duration": 23,
    "start_time": "2023-12-04T20:46:51.999Z"
   },
   {
    "duration": 13,
    "start_time": "2023-12-04T20:46:52.024Z"
   },
   {
    "duration": 11,
    "start_time": "2023-12-04T20:46:52.038Z"
   },
   {
    "duration": 59,
    "start_time": "2023-12-04T20:46:52.051Z"
   },
   {
    "duration": 10,
    "start_time": "2023-12-04T20:46:52.112Z"
   },
   {
    "duration": 28,
    "start_time": "2023-12-04T20:46:52.124Z"
   },
   {
    "duration": 11,
    "start_time": "2023-12-04T20:46:52.154Z"
   },
   {
    "duration": 10,
    "start_time": "2023-12-04T20:46:52.167Z"
   },
   {
    "duration": 13,
    "start_time": "2023-12-04T20:46:52.178Z"
   },
   {
    "duration": 11,
    "start_time": "2023-12-04T20:46:52.193Z"
   },
   {
    "duration": 15,
    "start_time": "2023-12-04T20:46:52.206Z"
   },
   {
    "duration": 5,
    "start_time": "2023-12-04T20:46:52.223Z"
   },
   {
    "duration": 15,
    "start_time": "2023-12-04T20:46:52.229Z"
   },
   {
    "duration": 18,
    "start_time": "2023-12-04T20:46:52.245Z"
   },
   {
    "duration": 7,
    "start_time": "2023-12-04T20:46:52.264Z"
   },
   {
    "duration": 5,
    "start_time": "2023-12-04T20:46:52.272Z"
   },
   {
    "duration": 7,
    "start_time": "2023-12-04T20:46:52.278Z"
   },
   {
    "duration": 13,
    "start_time": "2023-12-04T20:46:52.287Z"
   },
   {
    "duration": 263,
    "start_time": "2023-12-04T20:46:52.301Z"
   },
   {
    "duration": 4,
    "start_time": "2023-12-04T20:46:52.565Z"
   },
   {
    "duration": 27,
    "start_time": "2023-12-04T20:46:52.571Z"
   },
   {
    "duration": 24,
    "start_time": "2023-12-04T20:46:52.599Z"
   },
   {
    "duration": 29,
    "start_time": "2023-12-04T20:46:52.624Z"
   },
   {
    "duration": 32,
    "start_time": "2023-12-04T20:46:52.657Z"
   },
   {
    "duration": 14,
    "start_time": "2023-12-04T20:46:52.691Z"
   },
   {
    "duration": 49,
    "start_time": "2023-12-04T20:46:52.706Z"
   },
   {
    "duration": 16,
    "start_time": "2023-12-04T20:46:52.756Z"
   },
   {
    "duration": 33,
    "start_time": "2023-12-04T20:46:52.774Z"
   },
   {
    "duration": 23,
    "start_time": "2023-12-04T20:46:52.808Z"
   },
   {
    "duration": 177,
    "start_time": "2023-12-04T20:46:52.832Z"
   },
   {
    "duration": 112,
    "start_time": "2023-12-04T20:46:53.010Z"
   },
   {
    "duration": 15,
    "start_time": "2023-12-04T20:46:53.124Z"
   },
   {
    "duration": 36,
    "start_time": "2023-12-04T20:46:53.140Z"
   },
   {
    "duration": 199,
    "start_time": "2023-12-04T20:46:53.177Z"
   },
   {
    "duration": 189,
    "start_time": "2023-12-04T20:46:53.378Z"
   },
   {
    "duration": 6,
    "start_time": "2023-12-04T20:46:53.568Z"
   },
   {
    "duration": 281,
    "start_time": "2023-12-04T20:46:53.575Z"
   },
   {
    "duration": 4,
    "start_time": "2023-12-04T20:46:53.858Z"
   },
   {
    "duration": 15,
    "start_time": "2023-12-04T20:46:53.863Z"
   },
   {
    "duration": 203,
    "start_time": "2023-12-04T20:46:53.880Z"
   },
   {
    "duration": 10,
    "start_time": "2023-12-04T20:46:54.084Z"
   },
   {
    "duration": 315,
    "start_time": "2023-12-04T20:46:54.095Z"
   },
   {
    "duration": 19,
    "start_time": "2023-12-04T20:46:54.412Z"
   },
   {
    "duration": 132,
    "start_time": "2023-12-04T20:46:54.433Z"
   },
   {
    "duration": 6,
    "start_time": "2023-12-04T20:46:54.567Z"
   },
   {
    "duration": 6,
    "start_time": "2023-12-04T20:46:54.575Z"
   },
   {
    "duration": 225,
    "start_time": "2023-12-04T20:46:54.583Z"
   },
   {
    "duration": 6,
    "start_time": "2023-12-04T20:46:54.809Z"
   },
   {
    "duration": 18,
    "start_time": "2023-12-04T20:46:54.817Z"
   },
   {
    "duration": 12,
    "start_time": "2023-12-04T20:46:54.836Z"
   },
   {
    "duration": 16,
    "start_time": "2023-12-04T20:46:54.849Z"
   },
   {
    "duration": 10,
    "start_time": "2023-12-04T20:46:54.867Z"
   },
   {
    "duration": 13,
    "start_time": "2023-12-04T20:46:54.879Z"
   },
   {
    "duration": 8,
    "start_time": "2023-12-04T20:46:54.893Z"
   },
   {
    "duration": 29,
    "start_time": "2023-12-04T20:46:54.903Z"
   },
   {
    "duration": 5,
    "start_time": "2023-12-04T20:46:54.933Z"
   },
   {
    "duration": 9,
    "start_time": "2023-12-04T20:46:54.940Z"
   },
   {
    "duration": 18,
    "start_time": "2023-12-04T20:46:54.950Z"
   },
   {
    "duration": 10,
    "start_time": "2023-12-04T20:46:54.969Z"
   },
   {
    "duration": 60,
    "start_time": "2023-12-04T20:46:54.980Z"
   },
   {
    "duration": 5,
    "start_time": "2023-12-04T20:46:55.041Z"
   },
   {
    "duration": 21,
    "start_time": "2023-12-04T20:46:55.048Z"
   },
   {
    "duration": 7,
    "start_time": "2023-12-04T20:46:55.070Z"
   },
   {
    "duration": 53,
    "start_time": "2023-12-04T20:46:55.078Z"
   },
   {
    "duration": 16,
    "start_time": "2023-12-04T20:46:55.133Z"
   },
   {
    "duration": 6,
    "start_time": "2023-12-04T20:46:55.152Z"
   },
   {
    "duration": 6,
    "start_time": "2023-12-04T20:46:55.160Z"
   },
   {
    "duration": 11,
    "start_time": "2023-12-04T20:50:00.432Z"
   },
   {
    "duration": 153,
    "start_time": "2023-12-04T20:54:00.168Z"
   },
   {
    "duration": 102,
    "start_time": "2023-12-04T20:54:01.976Z"
   },
   {
    "duration": 1240,
    "start_time": "2023-12-04T20:54:12.840Z"
   },
   {
    "duration": 27,
    "start_time": "2023-12-04T20:54:14.082Z"
   },
   {
    "duration": 11,
    "start_time": "2023-12-04T20:54:14.111Z"
   },
   {
    "duration": 6,
    "start_time": "2023-12-04T20:54:14.125Z"
   },
   {
    "duration": 25,
    "start_time": "2023-12-04T20:54:14.133Z"
   },
   {
    "duration": 12,
    "start_time": "2023-12-04T20:54:14.159Z"
   },
   {
    "duration": 14,
    "start_time": "2023-12-04T20:54:14.172Z"
   },
   {
    "duration": 56,
    "start_time": "2023-12-04T20:54:14.187Z"
   },
   {
    "duration": 11,
    "start_time": "2023-12-04T20:54:14.245Z"
   },
   {
    "duration": 19,
    "start_time": "2023-12-04T20:54:14.259Z"
   },
   {
    "duration": 18,
    "start_time": "2023-12-04T20:54:14.280Z"
   },
   {
    "duration": 12,
    "start_time": "2023-12-04T20:54:14.300Z"
   },
   {
    "duration": 15,
    "start_time": "2023-12-04T20:54:14.314Z"
   },
   {
    "duration": 20,
    "start_time": "2023-12-04T20:54:14.330Z"
   },
   {
    "duration": 7,
    "start_time": "2023-12-04T20:54:14.352Z"
   },
   {
    "duration": 8,
    "start_time": "2023-12-04T20:54:14.360Z"
   },
   {
    "duration": 11,
    "start_time": "2023-12-04T20:54:14.370Z"
   },
   {
    "duration": 10,
    "start_time": "2023-12-04T20:54:14.383Z"
   },
   {
    "duration": 8,
    "start_time": "2023-12-04T20:54:14.394Z"
   },
   {
    "duration": 35,
    "start_time": "2023-12-04T20:54:14.403Z"
   },
   {
    "duration": 13,
    "start_time": "2023-12-04T20:54:14.439Z"
   },
   {
    "duration": 16,
    "start_time": "2023-12-04T20:54:14.454Z"
   },
   {
    "duration": 282,
    "start_time": "2023-12-04T20:54:14.472Z"
   },
   {
    "duration": 4,
    "start_time": "2023-12-04T20:54:14.756Z"
   },
   {
    "duration": 28,
    "start_time": "2023-12-04T20:54:14.761Z"
   },
   {
    "duration": 23,
    "start_time": "2023-12-04T20:54:14.790Z"
   },
   {
    "duration": 7,
    "start_time": "2023-12-04T20:54:14.814Z"
   },
   {
    "duration": 7,
    "start_time": "2023-12-04T20:54:14.825Z"
   },
   {
    "duration": 38,
    "start_time": "2023-12-04T20:54:14.834Z"
   },
   {
    "duration": 18,
    "start_time": "2023-12-04T20:54:14.873Z"
   },
   {
    "duration": 7,
    "start_time": "2023-12-04T20:54:14.892Z"
   },
   {
    "duration": 14,
    "start_time": "2023-12-04T20:54:14.901Z"
   },
   {
    "duration": 11,
    "start_time": "2023-12-04T20:54:14.917Z"
   },
   {
    "duration": 186,
    "start_time": "2023-12-04T20:54:14.929Z"
   },
   {
    "duration": 139,
    "start_time": "2023-12-04T20:54:15.118Z"
   },
   {
    "duration": 15,
    "start_time": "2023-12-04T20:54:15.259Z"
   },
   {
    "duration": 7,
    "start_time": "2023-12-04T20:54:15.276Z"
   },
   {
    "duration": 228,
    "start_time": "2023-12-04T20:54:15.285Z"
   },
   {
    "duration": 212,
    "start_time": "2023-12-04T20:54:15.515Z"
   },
   {
    "duration": 5,
    "start_time": "2023-12-04T20:54:15.730Z"
   },
   {
    "duration": 314,
    "start_time": "2023-12-04T20:54:15.737Z"
   },
   {
    "duration": 4,
    "start_time": "2023-12-04T20:54:16.053Z"
   },
   {
    "duration": 7,
    "start_time": "2023-12-04T20:54:16.058Z"
   },
   {
    "duration": 229,
    "start_time": "2023-12-04T20:54:16.067Z"
   },
   {
    "duration": 9,
    "start_time": "2023-12-04T20:54:16.298Z"
   },
   {
    "duration": 339,
    "start_time": "2023-12-04T20:54:16.309Z"
   },
   {
    "duration": 13,
    "start_time": "2023-12-04T20:54:16.650Z"
   },
   {
    "duration": 146,
    "start_time": "2023-12-04T20:54:16.666Z"
   },
   {
    "duration": 17,
    "start_time": "2023-12-04T20:54:16.814Z"
   },
   {
    "duration": 7,
    "start_time": "2023-12-04T20:54:16.833Z"
   },
   {
    "duration": 229,
    "start_time": "2023-12-04T20:54:16.841Z"
   },
   {
    "duration": 7,
    "start_time": "2023-12-04T20:54:17.071Z"
   },
   {
    "duration": 11,
    "start_time": "2023-12-04T20:54:17.079Z"
   },
   {
    "duration": 9,
    "start_time": "2023-12-04T20:54:17.091Z"
   },
   {
    "duration": 10,
    "start_time": "2023-12-04T20:54:17.130Z"
   },
   {
    "duration": 18,
    "start_time": "2023-12-04T20:54:17.142Z"
   },
   {
    "duration": 13,
    "start_time": "2023-12-04T20:54:17.162Z"
   },
   {
    "duration": 7,
    "start_time": "2023-12-04T20:54:17.177Z"
   },
   {
    "duration": 18,
    "start_time": "2023-12-04T20:54:17.185Z"
   },
   {
    "duration": 11,
    "start_time": "2023-12-04T20:54:17.205Z"
   },
   {
    "duration": 18,
    "start_time": "2023-12-04T20:54:17.217Z"
   },
   {
    "duration": 19,
    "start_time": "2023-12-04T20:54:17.236Z"
   },
   {
    "duration": 16,
    "start_time": "2023-12-04T20:54:17.256Z"
   },
   {
    "duration": 25,
    "start_time": "2023-12-04T20:54:17.274Z"
   },
   {
    "duration": 15,
    "start_time": "2023-12-04T20:54:17.301Z"
   },
   {
    "duration": 14,
    "start_time": "2023-12-04T20:54:17.317Z"
   },
   {
    "duration": 10,
    "start_time": "2023-12-04T20:54:17.333Z"
   },
   {
    "duration": 13,
    "start_time": "2023-12-04T20:54:17.345Z"
   },
   {
    "duration": 16,
    "start_time": "2023-12-04T20:54:17.360Z"
   },
   {
    "duration": 6,
    "start_time": "2023-12-04T20:54:17.378Z"
   },
   {
    "duration": 19,
    "start_time": "2023-12-04T20:54:17.385Z"
   },
   {
    "duration": 96,
    "start_time": "2023-12-04T20:56:22.302Z"
   },
   {
    "duration": 1193,
    "start_time": "2023-12-04T20:56:48.805Z"
   },
   {
    "duration": 27,
    "start_time": "2023-12-04T20:56:50.000Z"
   },
   {
    "duration": 11,
    "start_time": "2023-12-04T20:56:50.029Z"
   },
   {
    "duration": 5,
    "start_time": "2023-12-04T20:56:50.042Z"
   },
   {
    "duration": 22,
    "start_time": "2023-12-04T20:56:50.048Z"
   },
   {
    "duration": 10,
    "start_time": "2023-12-04T20:56:50.072Z"
   },
   {
    "duration": 11,
    "start_time": "2023-12-04T20:56:50.083Z"
   },
   {
    "duration": 52,
    "start_time": "2023-12-04T20:56:50.095Z"
   },
   {
    "duration": 10,
    "start_time": "2023-12-04T20:56:50.149Z"
   },
   {
    "duration": 11,
    "start_time": "2023-12-04T20:56:50.161Z"
   },
   {
    "duration": 24,
    "start_time": "2023-12-04T20:56:50.173Z"
   },
   {
    "duration": 8,
    "start_time": "2023-12-04T20:56:50.198Z"
   },
   {
    "duration": 8,
    "start_time": "2023-12-04T20:56:50.207Z"
   },
   {
    "duration": 22,
    "start_time": "2023-12-04T20:56:50.216Z"
   },
   {
    "duration": 7,
    "start_time": "2023-12-04T20:56:50.239Z"
   },
   {
    "duration": 11,
    "start_time": "2023-12-04T20:56:50.247Z"
   },
   {
    "duration": 31,
    "start_time": "2023-12-04T20:56:50.259Z"
   },
   {
    "duration": 10,
    "start_time": "2023-12-04T20:56:50.292Z"
   },
   {
    "duration": 6,
    "start_time": "2023-12-04T20:56:50.304Z"
   },
   {
    "duration": 5,
    "start_time": "2023-12-04T20:56:50.312Z"
   },
   {
    "duration": 5,
    "start_time": "2023-12-04T20:56:50.319Z"
   },
   {
    "duration": 22,
    "start_time": "2023-12-04T20:56:50.325Z"
   },
   {
    "duration": 262,
    "start_time": "2023-12-04T20:56:50.349Z"
   },
   {
    "duration": 5,
    "start_time": "2023-12-04T20:56:50.612Z"
   },
   {
    "duration": 15,
    "start_time": "2023-12-04T20:56:50.618Z"
   },
   {
    "duration": 16,
    "start_time": "2023-12-04T20:56:50.635Z"
   },
   {
    "duration": 17,
    "start_time": "2023-12-04T20:56:50.653Z"
   },
   {
    "duration": 11,
    "start_time": "2023-12-04T20:56:50.675Z"
   },
   {
    "duration": 6,
    "start_time": "2023-12-04T20:56:50.687Z"
   },
   {
    "duration": 104,
    "start_time": "2023-12-04T20:56:50.694Z"
   },
   {
    "duration": 0,
    "start_time": "2023-12-04T20:56:50.800Z"
   },
   {
    "duration": 0,
    "start_time": "2023-12-04T20:56:50.802Z"
   },
   {
    "duration": 0,
    "start_time": "2023-12-04T20:56:50.803Z"
   },
   {
    "duration": 0,
    "start_time": "2023-12-04T20:56:50.804Z"
   },
   {
    "duration": 0,
    "start_time": "2023-12-04T20:56:50.806Z"
   },
   {
    "duration": 0,
    "start_time": "2023-12-04T20:56:50.807Z"
   },
   {
    "duration": 0,
    "start_time": "2023-12-04T20:56:50.808Z"
   },
   {
    "duration": 0,
    "start_time": "2023-12-04T20:56:50.810Z"
   },
   {
    "duration": 0,
    "start_time": "2023-12-04T20:56:50.831Z"
   },
   {
    "duration": 0,
    "start_time": "2023-12-04T20:56:50.832Z"
   },
   {
    "duration": 0,
    "start_time": "2023-12-04T20:56:50.834Z"
   },
   {
    "duration": 0,
    "start_time": "2023-12-04T20:56:50.835Z"
   },
   {
    "duration": 0,
    "start_time": "2023-12-04T20:56:50.837Z"
   },
   {
    "duration": 0,
    "start_time": "2023-12-04T20:56:50.838Z"
   },
   {
    "duration": 0,
    "start_time": "2023-12-04T20:56:50.840Z"
   },
   {
    "duration": 0,
    "start_time": "2023-12-04T20:56:50.841Z"
   },
   {
    "duration": 0,
    "start_time": "2023-12-04T20:56:50.843Z"
   },
   {
    "duration": 0,
    "start_time": "2023-12-04T20:56:50.844Z"
   },
   {
    "duration": 0,
    "start_time": "2023-12-04T20:56:50.846Z"
   },
   {
    "duration": 0,
    "start_time": "2023-12-04T20:56:50.847Z"
   },
   {
    "duration": 0,
    "start_time": "2023-12-04T20:56:50.849Z"
   },
   {
    "duration": 0,
    "start_time": "2023-12-04T20:56:50.850Z"
   },
   {
    "duration": 0,
    "start_time": "2023-12-04T20:56:50.853Z"
   },
   {
    "duration": 0,
    "start_time": "2023-12-04T20:56:50.854Z"
   },
   {
    "duration": 0,
    "start_time": "2023-12-04T20:56:50.855Z"
   },
   {
    "duration": 0,
    "start_time": "2023-12-04T20:56:50.856Z"
   },
   {
    "duration": 0,
    "start_time": "2023-12-04T20:56:50.857Z"
   },
   {
    "duration": 0,
    "start_time": "2023-12-04T20:56:50.858Z"
   },
   {
    "duration": 0,
    "start_time": "2023-12-04T20:56:50.859Z"
   },
   {
    "duration": 0,
    "start_time": "2023-12-04T20:56:50.860Z"
   },
   {
    "duration": 0,
    "start_time": "2023-12-04T20:56:50.862Z"
   },
   {
    "duration": 0,
    "start_time": "2023-12-04T20:56:50.863Z"
   },
   {
    "duration": 0,
    "start_time": "2023-12-04T20:56:50.864Z"
   },
   {
    "duration": 0,
    "start_time": "2023-12-04T20:56:50.865Z"
   },
   {
    "duration": 0,
    "start_time": "2023-12-04T20:56:50.866Z"
   },
   {
    "duration": 0,
    "start_time": "2023-12-04T20:56:50.867Z"
   },
   {
    "duration": 0,
    "start_time": "2023-12-04T20:56:50.868Z"
   },
   {
    "duration": 0,
    "start_time": "2023-12-04T20:56:50.869Z"
   },
   {
    "duration": 0,
    "start_time": "2023-12-04T20:56:50.870Z"
   },
   {
    "duration": 0,
    "start_time": "2023-12-04T20:56:50.931Z"
   },
   {
    "duration": 0,
    "start_time": "2023-12-04T20:56:50.932Z"
   },
   {
    "duration": 9,
    "start_time": "2023-12-04T20:57:46.861Z"
   },
   {
    "duration": 1182,
    "start_time": "2023-12-04T20:57:53.945Z"
   },
   {
    "duration": 27,
    "start_time": "2023-12-04T20:57:55.130Z"
   },
   {
    "duration": 11,
    "start_time": "2023-12-04T20:57:55.158Z"
   },
   {
    "duration": 12,
    "start_time": "2023-12-04T20:57:55.171Z"
   },
   {
    "duration": 17,
    "start_time": "2023-12-04T20:57:55.185Z"
   },
   {
    "duration": 11,
    "start_time": "2023-12-04T20:57:55.203Z"
   },
   {
    "duration": 20,
    "start_time": "2023-12-04T20:57:55.215Z"
   },
   {
    "duration": 66,
    "start_time": "2023-12-04T20:57:55.236Z"
   },
   {
    "duration": 10,
    "start_time": "2023-12-04T20:57:55.304Z"
   },
   {
    "duration": 23,
    "start_time": "2023-12-04T20:57:55.316Z"
   },
   {
    "duration": 30,
    "start_time": "2023-12-04T20:57:55.340Z"
   },
   {
    "duration": 13,
    "start_time": "2023-12-04T20:57:55.372Z"
   },
   {
    "duration": 20,
    "start_time": "2023-12-04T20:57:55.386Z"
   },
   {
    "duration": 19,
    "start_time": "2023-12-04T20:57:55.408Z"
   },
   {
    "duration": 15,
    "start_time": "2023-12-04T20:57:55.429Z"
   },
   {
    "duration": 12,
    "start_time": "2023-12-04T20:57:55.446Z"
   },
   {
    "duration": 13,
    "start_time": "2023-12-04T20:57:55.460Z"
   },
   {
    "duration": 16,
    "start_time": "2023-12-04T20:57:55.475Z"
   },
   {
    "duration": 7,
    "start_time": "2023-12-04T20:57:55.493Z"
   },
   {
    "duration": 4,
    "start_time": "2023-12-04T20:57:55.502Z"
   },
   {
    "duration": 4,
    "start_time": "2023-12-04T20:57:55.508Z"
   },
   {
    "duration": 23,
    "start_time": "2023-12-04T20:57:55.513Z"
   },
   {
    "duration": 260,
    "start_time": "2023-12-04T20:57:55.537Z"
   },
   {
    "duration": 4,
    "start_time": "2023-12-04T20:57:55.798Z"
   },
   {
    "duration": 22,
    "start_time": "2023-12-04T20:57:55.804Z"
   },
   {
    "duration": 5,
    "start_time": "2023-12-04T20:57:55.827Z"
   },
   {
    "duration": 6,
    "start_time": "2023-12-04T20:57:55.834Z"
   },
   {
    "duration": 8,
    "start_time": "2023-12-04T20:57:55.844Z"
   },
   {
    "duration": 5,
    "start_time": "2023-12-04T20:57:55.853Z"
   },
   {
    "duration": 14,
    "start_time": "2023-12-04T20:57:55.860Z"
   },
   {
    "duration": 10,
    "start_time": "2023-12-04T20:57:55.876Z"
   },
   {
    "duration": 7,
    "start_time": "2023-12-04T20:57:55.887Z"
   },
   {
    "duration": 8,
    "start_time": "2023-12-04T20:57:55.895Z"
   },
   {
    "duration": 191,
    "start_time": "2023-12-04T20:57:55.904Z"
   },
   {
    "duration": 124,
    "start_time": "2023-12-04T20:57:56.097Z"
   },
   {
    "duration": 18,
    "start_time": "2023-12-04T20:57:56.222Z"
   },
   {
    "duration": 12,
    "start_time": "2023-12-04T20:57:56.241Z"
   },
   {
    "duration": 199,
    "start_time": "2023-12-04T20:57:56.254Z"
   },
   {
    "duration": 190,
    "start_time": "2023-12-04T20:57:56.454Z"
   },
   {
    "duration": 5,
    "start_time": "2023-12-04T20:57:56.646Z"
   },
   {
    "duration": 288,
    "start_time": "2023-12-04T20:57:56.653Z"
   },
   {
    "duration": 4,
    "start_time": "2023-12-04T20:57:56.942Z"
   },
   {
    "duration": 9,
    "start_time": "2023-12-04T20:57:56.948Z"
   },
   {
    "duration": 209,
    "start_time": "2023-12-04T20:57:56.958Z"
   },
   {
    "duration": 8,
    "start_time": "2023-12-04T20:57:57.169Z"
   },
   {
    "duration": 309,
    "start_time": "2023-12-04T20:57:57.178Z"
   },
   {
    "duration": 11,
    "start_time": "2023-12-04T20:57:57.489Z"
   },
   {
    "duration": 152,
    "start_time": "2023-12-04T20:57:57.501Z"
   },
   {
    "duration": 6,
    "start_time": "2023-12-04T20:57:57.654Z"
   },
   {
    "duration": 14,
    "start_time": "2023-12-04T20:57:57.661Z"
   },
   {
    "duration": 462,
    "start_time": "2023-12-04T20:57:57.676Z"
   },
   {
    "duration": 6,
    "start_time": "2023-12-04T20:57:58.140Z"
   },
   {
    "duration": 20,
    "start_time": "2023-12-04T20:57:58.147Z"
   },
   {
    "duration": 63,
    "start_time": "2023-12-04T20:57:58.169Z"
   },
   {
    "duration": 9,
    "start_time": "2023-12-04T20:57:58.233Z"
   },
   {
    "duration": 15,
    "start_time": "2023-12-04T20:57:58.244Z"
   },
   {
    "duration": 25,
    "start_time": "2023-12-04T20:57:58.261Z"
   },
   {
    "duration": 18,
    "start_time": "2023-12-04T20:57:58.330Z"
   },
   {
    "duration": 28,
    "start_time": "2023-12-04T20:57:58.350Z"
   },
   {
    "duration": 60,
    "start_time": "2023-12-04T20:57:58.379Z"
   },
   {
    "duration": 24,
    "start_time": "2023-12-04T20:57:58.441Z"
   },
   {
    "duration": 13,
    "start_time": "2023-12-04T20:57:58.467Z"
   },
   {
    "duration": 50,
    "start_time": "2023-12-04T20:57:58.482Z"
   },
   {
    "duration": 11,
    "start_time": "2023-12-04T20:57:58.533Z"
   },
   {
    "duration": 15,
    "start_time": "2023-12-04T20:57:58.545Z"
   },
   {
    "duration": 12,
    "start_time": "2023-12-04T20:57:58.562Z"
   },
   {
    "duration": 59,
    "start_time": "2023-12-04T20:57:58.575Z"
   },
   {
    "duration": 8,
    "start_time": "2023-12-04T20:57:58.635Z"
   },
   {
    "duration": 19,
    "start_time": "2023-12-04T20:57:58.644Z"
   },
   {
    "duration": 70,
    "start_time": "2023-12-04T20:57:58.664Z"
   },
   {
    "duration": 5,
    "start_time": "2023-12-04T20:57:58.736Z"
   },
   {
    "duration": 102,
    "start_time": "2023-12-04T20:58:27.086Z"
   },
   {
    "duration": 1465,
    "start_time": "2023-12-04T20:58:37.466Z"
   },
   {
    "duration": 12,
    "start_time": "2023-12-04T20:58:46.550Z"
   },
   {
    "duration": 170,
    "start_time": "2023-12-04T20:59:02.146Z"
   },
   {
    "duration": 12,
    "start_time": "2023-12-04T20:59:50.543Z"
   },
   {
    "duration": 8,
    "start_time": "2023-12-04T20:59:57.305Z"
   },
   {
    "duration": 12,
    "start_time": "2023-12-04T21:00:03.175Z"
   },
   {
    "duration": 9,
    "start_time": "2023-12-04T21:00:03.921Z"
   },
   {
    "duration": 3,
    "start_time": "2023-12-04T21:00:13.548Z"
   },
   {
    "duration": 40,
    "start_time": "2023-12-04T21:00:13.554Z"
   },
   {
    "duration": 12,
    "start_time": "2023-12-04T21:00:13.596Z"
   },
   {
    "duration": 43,
    "start_time": "2023-12-04T21:00:13.610Z"
   },
   {
    "duration": 33,
    "start_time": "2023-12-04T21:00:13.655Z"
   },
   {
    "duration": 18,
    "start_time": "2023-12-04T21:00:13.689Z"
   },
   {
    "duration": 20,
    "start_time": "2023-12-04T21:00:13.708Z"
   },
   {
    "duration": 53,
    "start_time": "2023-12-04T21:00:13.730Z"
   },
   {
    "duration": 12,
    "start_time": "2023-12-04T21:00:13.784Z"
   },
   {
    "duration": 37,
    "start_time": "2023-12-04T21:00:13.798Z"
   },
   {
    "duration": 13,
    "start_time": "2023-12-04T21:00:13.839Z"
   },
   {
    "duration": 25,
    "start_time": "2023-12-04T21:00:13.854Z"
   },
   {
    "duration": 34,
    "start_time": "2023-12-04T21:00:13.881Z"
   },
   {
    "duration": 33,
    "start_time": "2023-12-04T21:00:13.917Z"
   },
   {
    "duration": 31,
    "start_time": "2023-12-04T21:00:13.952Z"
   },
   {
    "duration": 31,
    "start_time": "2023-12-04T21:00:13.985Z"
   },
   {
    "duration": 49,
    "start_time": "2023-12-04T21:00:14.018Z"
   },
   {
    "duration": 41,
    "start_time": "2023-12-04T21:00:14.068Z"
   },
   {
    "duration": 53,
    "start_time": "2023-12-04T21:00:14.111Z"
   },
   {
    "duration": 77,
    "start_time": "2023-12-04T21:00:14.166Z"
   },
   {
    "duration": 32,
    "start_time": "2023-12-04T21:00:14.245Z"
   },
   {
    "duration": 37,
    "start_time": "2023-12-04T21:00:14.279Z"
   },
   {
    "duration": 196,
    "start_time": "2023-12-04T21:00:14.318Z"
   },
   {
    "duration": 4,
    "start_time": "2023-12-04T21:00:14.516Z"
   },
   {
    "duration": 38,
    "start_time": "2023-12-04T21:00:14.522Z"
   },
   {
    "duration": 24,
    "start_time": "2023-12-04T21:00:14.563Z"
   },
   {
    "duration": 40,
    "start_time": "2023-12-04T21:00:14.590Z"
   },
   {
    "duration": 32,
    "start_time": "2023-12-04T21:00:14.632Z"
   },
   {
    "duration": 37,
    "start_time": "2023-12-04T21:00:14.669Z"
   },
   {
    "duration": 46,
    "start_time": "2023-12-04T21:00:14.708Z"
   },
   {
    "duration": 30,
    "start_time": "2023-12-04T21:00:14.756Z"
   },
   {
    "duration": 0,
    "start_time": "2023-12-04T21:00:14.787Z"
   },
   {
    "duration": 0,
    "start_time": "2023-12-04T21:00:14.788Z"
   },
   {
    "duration": 0,
    "start_time": "2023-12-04T21:00:14.789Z"
   },
   {
    "duration": 0,
    "start_time": "2023-12-04T21:00:14.790Z"
   },
   {
    "duration": 0,
    "start_time": "2023-12-04T21:00:14.791Z"
   },
   {
    "duration": 0,
    "start_time": "2023-12-04T21:00:14.792Z"
   },
   {
    "duration": 0,
    "start_time": "2023-12-04T21:00:14.793Z"
   },
   {
    "duration": 0,
    "start_time": "2023-12-04T21:00:14.794Z"
   },
   {
    "duration": 0,
    "start_time": "2023-12-04T21:00:14.795Z"
   },
   {
    "duration": 0,
    "start_time": "2023-12-04T21:00:14.797Z"
   },
   {
    "duration": 0,
    "start_time": "2023-12-04T21:00:14.797Z"
   },
   {
    "duration": 0,
    "start_time": "2023-12-04T21:00:14.799Z"
   },
   {
    "duration": 0,
    "start_time": "2023-12-04T21:00:14.800Z"
   },
   {
    "duration": 0,
    "start_time": "2023-12-04T21:00:14.801Z"
   },
   {
    "duration": 0,
    "start_time": "2023-12-04T21:00:14.802Z"
   },
   {
    "duration": 0,
    "start_time": "2023-12-04T21:00:14.803Z"
   },
   {
    "duration": 0,
    "start_time": "2023-12-04T21:00:14.804Z"
   },
   {
    "duration": 0,
    "start_time": "2023-12-04T21:00:14.805Z"
   },
   {
    "duration": 0,
    "start_time": "2023-12-04T21:00:14.806Z"
   },
   {
    "duration": 0,
    "start_time": "2023-12-04T21:00:14.807Z"
   },
   {
    "duration": 0,
    "start_time": "2023-12-04T21:00:14.808Z"
   },
   {
    "duration": 0,
    "start_time": "2023-12-04T21:00:14.809Z"
   },
   {
    "duration": 0,
    "start_time": "2023-12-04T21:00:14.810Z"
   },
   {
    "duration": 0,
    "start_time": "2023-12-04T21:00:14.811Z"
   },
   {
    "duration": 0,
    "start_time": "2023-12-04T21:00:14.812Z"
   },
   {
    "duration": 0,
    "start_time": "2023-12-04T21:00:14.813Z"
   },
   {
    "duration": 0,
    "start_time": "2023-12-04T21:00:14.814Z"
   },
   {
    "duration": 0,
    "start_time": "2023-12-04T21:00:14.831Z"
   },
   {
    "duration": 0,
    "start_time": "2023-12-04T21:00:14.832Z"
   },
   {
    "duration": 0,
    "start_time": "2023-12-04T21:00:14.834Z"
   },
   {
    "duration": 0,
    "start_time": "2023-12-04T21:00:14.835Z"
   },
   {
    "duration": 0,
    "start_time": "2023-12-04T21:00:14.835Z"
   },
   {
    "duration": 0,
    "start_time": "2023-12-04T21:00:14.836Z"
   },
   {
    "duration": 0,
    "start_time": "2023-12-04T21:00:14.837Z"
   },
   {
    "duration": 0,
    "start_time": "2023-12-04T21:00:14.838Z"
   },
   {
    "duration": 0,
    "start_time": "2023-12-04T21:00:14.839Z"
   },
   {
    "duration": 0,
    "start_time": "2023-12-04T21:00:14.840Z"
   },
   {
    "duration": 0,
    "start_time": "2023-12-04T21:00:14.841Z"
   },
   {
    "duration": 0,
    "start_time": "2023-12-04T21:00:14.842Z"
   },
   {
    "duration": 0,
    "start_time": "2023-12-04T21:00:14.843Z"
   },
   {
    "duration": 0,
    "start_time": "2023-12-04T21:00:14.844Z"
   },
   {
    "duration": 8,
    "start_time": "2023-12-04T21:00:29.873Z"
   },
   {
    "duration": 10,
    "start_time": "2023-12-04T21:00:31.729Z"
   },
   {
    "duration": 17,
    "start_time": "2023-12-04T21:00:32.328Z"
   },
   {
    "duration": 82,
    "start_time": "2023-12-04T21:03:45.618Z"
   },
   {
    "duration": 10,
    "start_time": "2023-12-04T21:05:11.367Z"
   },
   {
    "duration": 10,
    "start_time": "2023-12-04T21:05:17.483Z"
   },
   {
    "duration": 7,
    "start_time": "2023-12-04T21:05:18.844Z"
   },
   {
    "duration": 8,
    "start_time": "2023-12-04T21:05:38.231Z"
   },
   {
    "duration": 12,
    "start_time": "2023-12-04T21:08:51.437Z"
   },
   {
    "duration": 6,
    "start_time": "2023-12-04T21:09:26.939Z"
   },
   {
    "duration": 6,
    "start_time": "2023-12-04T21:09:48.959Z"
   },
   {
    "duration": 74,
    "start_time": "2023-12-04T21:13:47.200Z"
   },
   {
    "duration": 7,
    "start_time": "2023-12-04T21:14:41.175Z"
   },
   {
    "duration": 12,
    "start_time": "2023-12-04T21:15:32.564Z"
   },
   {
    "duration": 7,
    "start_time": "2023-12-04T21:15:45.983Z"
   },
   {
    "duration": 13,
    "start_time": "2023-12-04T21:16:20.569Z"
   },
   {
    "duration": 9,
    "start_time": "2023-12-04T21:16:31.337Z"
   },
   {
    "duration": 78,
    "start_time": "2023-12-04T21:16:52.470Z"
   },
   {
    "duration": 1204,
    "start_time": "2023-12-04T21:20:34.017Z"
   },
   {
    "duration": 27,
    "start_time": "2023-12-04T21:20:35.222Z"
   },
   {
    "duration": 12,
    "start_time": "2023-12-04T21:20:35.251Z"
   },
   {
    "duration": 13,
    "start_time": "2023-12-04T21:20:35.265Z"
   },
   {
    "duration": 25,
    "start_time": "2023-12-04T21:20:35.280Z"
   },
   {
    "duration": 12,
    "start_time": "2023-12-04T21:20:35.307Z"
   },
   {
    "duration": 33,
    "start_time": "2023-12-04T21:20:35.322Z"
   },
   {
    "duration": 67,
    "start_time": "2023-12-04T21:20:35.357Z"
   },
   {
    "duration": 10,
    "start_time": "2023-12-04T21:20:35.426Z"
   },
   {
    "duration": 18,
    "start_time": "2023-12-04T21:20:35.439Z"
   },
   {
    "duration": 17,
    "start_time": "2023-12-04T21:20:35.459Z"
   },
   {
    "duration": 22,
    "start_time": "2023-12-04T21:20:35.478Z"
   },
   {
    "duration": 15,
    "start_time": "2023-12-04T21:20:35.502Z"
   },
   {
    "duration": 28,
    "start_time": "2023-12-04T21:20:35.518Z"
   },
   {
    "duration": 10,
    "start_time": "2023-12-04T21:20:35.548Z"
   },
   {
    "duration": 15,
    "start_time": "2023-12-04T21:20:35.559Z"
   },
   {
    "duration": 18,
    "start_time": "2023-12-04T21:20:35.575Z"
   },
   {
    "duration": 12,
    "start_time": "2023-12-04T21:20:35.595Z"
   },
   {
    "duration": 28,
    "start_time": "2023-12-04T21:20:35.609Z"
   },
   {
    "duration": 6,
    "start_time": "2023-12-04T21:20:35.639Z"
   },
   {
    "duration": 17,
    "start_time": "2023-12-04T21:20:35.647Z"
   },
   {
    "duration": 18,
    "start_time": "2023-12-04T21:20:35.666Z"
   },
   {
    "duration": 282,
    "start_time": "2023-12-04T21:20:35.685Z"
   },
   {
    "duration": 5,
    "start_time": "2023-12-04T21:20:35.968Z"
   },
   {
    "duration": 36,
    "start_time": "2023-12-04T21:20:35.974Z"
   },
   {
    "duration": 21,
    "start_time": "2023-12-04T21:20:36.012Z"
   },
   {
    "duration": 9,
    "start_time": "2023-12-04T21:20:36.035Z"
   },
   {
    "duration": 19,
    "start_time": "2023-12-04T21:20:36.049Z"
   },
   {
    "duration": 18,
    "start_time": "2023-12-04T21:20:36.070Z"
   },
   {
    "duration": 114,
    "start_time": "2023-12-04T21:20:36.090Z"
   },
   {
    "duration": 0,
    "start_time": "2023-12-04T21:20:36.206Z"
   },
   {
    "duration": 0,
    "start_time": "2023-12-04T21:20:36.207Z"
   },
   {
    "duration": 0,
    "start_time": "2023-12-04T21:20:36.208Z"
   },
   {
    "duration": 0,
    "start_time": "2023-12-04T21:20:36.209Z"
   },
   {
    "duration": 0,
    "start_time": "2023-12-04T21:20:36.211Z"
   },
   {
    "duration": 0,
    "start_time": "2023-12-04T21:20:36.212Z"
   },
   {
    "duration": 0,
    "start_time": "2023-12-04T21:20:36.213Z"
   },
   {
    "duration": 0,
    "start_time": "2023-12-04T21:20:36.214Z"
   },
   {
    "duration": 0,
    "start_time": "2023-12-04T21:20:36.231Z"
   },
   {
    "duration": 0,
    "start_time": "2023-12-04T21:20:36.232Z"
   },
   {
    "duration": 0,
    "start_time": "2023-12-04T21:20:36.233Z"
   },
   {
    "duration": 0,
    "start_time": "2023-12-04T21:20:36.234Z"
   },
   {
    "duration": 0,
    "start_time": "2023-12-04T21:20:36.235Z"
   },
   {
    "duration": 0,
    "start_time": "2023-12-04T21:20:36.236Z"
   },
   {
    "duration": 0,
    "start_time": "2023-12-04T21:20:36.237Z"
   },
   {
    "duration": 0,
    "start_time": "2023-12-04T21:20:36.238Z"
   },
   {
    "duration": 0,
    "start_time": "2023-12-04T21:20:36.239Z"
   },
   {
    "duration": 0,
    "start_time": "2023-12-04T21:20:36.240Z"
   },
   {
    "duration": 0,
    "start_time": "2023-12-04T21:20:36.241Z"
   },
   {
    "duration": 0,
    "start_time": "2023-12-04T21:20:36.242Z"
   },
   {
    "duration": 0,
    "start_time": "2023-12-04T21:20:36.243Z"
   },
   {
    "duration": 0,
    "start_time": "2023-12-04T21:20:36.244Z"
   },
   {
    "duration": 0,
    "start_time": "2023-12-04T21:20:36.245Z"
   },
   {
    "duration": 0,
    "start_time": "2023-12-04T21:20:36.246Z"
   },
   {
    "duration": 0,
    "start_time": "2023-12-04T21:20:36.247Z"
   },
   {
    "duration": 0,
    "start_time": "2023-12-04T21:20:36.247Z"
   },
   {
    "duration": 1,
    "start_time": "2023-12-04T21:20:36.248Z"
   },
   {
    "duration": 0,
    "start_time": "2023-12-04T21:20:36.249Z"
   },
   {
    "duration": 0,
    "start_time": "2023-12-04T21:20:36.250Z"
   },
   {
    "duration": 0,
    "start_time": "2023-12-04T21:20:36.251Z"
   },
   {
    "duration": 0,
    "start_time": "2023-12-04T21:20:36.252Z"
   },
   {
    "duration": 0,
    "start_time": "2023-12-04T21:20:36.253Z"
   },
   {
    "duration": 0,
    "start_time": "2023-12-04T21:20:36.254Z"
   },
   {
    "duration": 0,
    "start_time": "2023-12-04T21:20:36.255Z"
   },
   {
    "duration": 0,
    "start_time": "2023-12-04T21:20:36.256Z"
   },
   {
    "duration": 0,
    "start_time": "2023-12-04T21:20:36.257Z"
   },
   {
    "duration": 0,
    "start_time": "2023-12-04T21:20:36.258Z"
   },
   {
    "duration": 0,
    "start_time": "2023-12-04T21:20:36.259Z"
   },
   {
    "duration": 0,
    "start_time": "2023-12-04T21:20:36.260Z"
   },
   {
    "duration": 0,
    "start_time": "2023-12-04T21:20:36.261Z"
   },
   {
    "duration": 0,
    "start_time": "2023-12-04T21:20:36.262Z"
   },
   {
    "duration": 0,
    "start_time": "2023-12-04T21:20:36.263Z"
   },
   {
    "duration": 0,
    "start_time": "2023-12-04T21:20:36.264Z"
   },
   {
    "duration": 0,
    "start_time": "2023-12-04T21:20:36.265Z"
   },
   {
    "duration": 0,
    "start_time": "2023-12-04T21:20:36.266Z"
   },
   {
    "duration": 0,
    "start_time": "2023-12-04T21:20:36.267Z"
   },
   {
    "duration": 0,
    "start_time": "2023-12-04T21:20:36.268Z"
   },
   {
    "duration": 14,
    "start_time": "2023-12-04T21:21:32.720Z"
   },
   {
    "duration": 12,
    "start_time": "2023-12-04T21:21:43.188Z"
   },
   {
    "duration": 6,
    "start_time": "2023-12-04T21:21:45.305Z"
   },
   {
    "duration": 7,
    "start_time": "2023-12-04T21:21:47.372Z"
   },
   {
    "duration": 16,
    "start_time": "2023-12-04T21:21:50.621Z"
   },
   {
    "duration": 6,
    "start_time": "2023-12-04T21:21:56.855Z"
   },
   {
    "duration": 7,
    "start_time": "2023-12-04T21:21:58.023Z"
   },
   {
    "duration": 11,
    "start_time": "2023-12-04T21:22:02.129Z"
   },
   {
    "duration": 9,
    "start_time": "2023-12-04T21:22:17.177Z"
   },
   {
    "duration": 1193,
    "start_time": "2023-12-04T21:22:30.003Z"
   },
   {
    "duration": 28,
    "start_time": "2023-12-04T21:22:31.198Z"
   },
   {
    "duration": 22,
    "start_time": "2023-12-04T21:22:31.227Z"
   },
   {
    "duration": 15,
    "start_time": "2023-12-04T21:22:31.251Z"
   },
   {
    "duration": 44,
    "start_time": "2023-12-04T21:22:31.267Z"
   },
   {
    "duration": 41,
    "start_time": "2023-12-04T21:22:31.312Z"
   },
   {
    "duration": 22,
    "start_time": "2023-12-04T21:22:31.354Z"
   },
   {
    "duration": 65,
    "start_time": "2023-12-04T21:22:31.378Z"
   },
   {
    "duration": 10,
    "start_time": "2023-12-04T21:22:31.445Z"
   },
   {
    "duration": 43,
    "start_time": "2023-12-04T21:22:31.457Z"
   },
   {
    "duration": 25,
    "start_time": "2023-12-04T21:22:31.502Z"
   },
   {
    "duration": 31,
    "start_time": "2023-12-04T21:22:31.529Z"
   },
   {
    "duration": 32,
    "start_time": "2023-12-04T21:22:31.562Z"
   },
   {
    "duration": 25,
    "start_time": "2023-12-04T21:22:31.596Z"
   },
   {
    "duration": 33,
    "start_time": "2023-12-04T21:22:31.622Z"
   },
   {
    "duration": 37,
    "start_time": "2023-12-04T21:22:31.657Z"
   },
   {
    "duration": 34,
    "start_time": "2023-12-04T21:22:31.696Z"
   },
   {
    "duration": 46,
    "start_time": "2023-12-04T21:22:31.732Z"
   },
   {
    "duration": 35,
    "start_time": "2023-12-04T21:22:31.780Z"
   },
   {
    "duration": 37,
    "start_time": "2023-12-04T21:22:31.816Z"
   },
   {
    "duration": 20,
    "start_time": "2023-12-04T21:22:31.855Z"
   },
   {
    "duration": 37,
    "start_time": "2023-12-04T21:22:31.876Z"
   },
   {
    "duration": 263,
    "start_time": "2023-12-04T21:22:31.914Z"
   },
   {
    "duration": 5,
    "start_time": "2023-12-04T21:22:32.178Z"
   },
   {
    "duration": 17,
    "start_time": "2023-12-04T21:22:32.184Z"
   },
   {
    "duration": 10,
    "start_time": "2023-12-04T21:22:32.202Z"
   },
   {
    "duration": 20,
    "start_time": "2023-12-04T21:22:32.214Z"
   },
   {
    "duration": 11,
    "start_time": "2023-12-04T21:22:32.237Z"
   },
   {
    "duration": 8,
    "start_time": "2023-12-04T21:22:32.250Z"
   },
   {
    "duration": 16,
    "start_time": "2023-12-04T21:22:32.260Z"
   },
   {
    "duration": 26,
    "start_time": "2023-12-04T21:22:32.277Z"
   },
   {
    "duration": 14,
    "start_time": "2023-12-04T21:22:32.304Z"
   },
   {
    "duration": 22,
    "start_time": "2023-12-04T21:22:32.320Z"
   },
   {
    "duration": 13,
    "start_time": "2023-12-04T21:22:32.344Z"
   },
   {
    "duration": 19,
    "start_time": "2023-12-04T21:22:32.359Z"
   },
   {
    "duration": 11,
    "start_time": "2023-12-04T21:22:32.380Z"
   },
   {
    "duration": 16,
    "start_time": "2023-12-04T21:22:32.393Z"
   },
   {
    "duration": 11,
    "start_time": "2023-12-04T21:22:32.411Z"
   },
   {
    "duration": 18,
    "start_time": "2023-12-04T21:22:32.423Z"
   },
   {
    "duration": 154,
    "start_time": "2023-12-04T21:22:32.443Z"
   },
   {
    "duration": 106,
    "start_time": "2023-12-04T21:22:32.599Z"
   },
   {
    "duration": 12,
    "start_time": "2023-12-04T21:22:32.706Z"
   },
   {
    "duration": 7,
    "start_time": "2023-12-04T21:22:32.730Z"
   },
   {
    "duration": 186,
    "start_time": "2023-12-04T21:22:32.738Z"
   },
   {
    "duration": 178,
    "start_time": "2023-12-04T21:22:32.930Z"
   },
   {
    "duration": 6,
    "start_time": "2023-12-04T21:22:33.110Z"
   },
   {
    "duration": 304,
    "start_time": "2023-12-04T21:22:33.117Z"
   },
   {
    "duration": 9,
    "start_time": "2023-12-04T21:22:33.422Z"
   },
   {
    "duration": 7,
    "start_time": "2023-12-04T21:22:33.433Z"
   },
   {
    "duration": 211,
    "start_time": "2023-12-04T21:22:33.442Z"
   },
   {
    "duration": 9,
    "start_time": "2023-12-04T21:22:33.654Z"
   },
   {
    "duration": 289,
    "start_time": "2023-12-04T21:22:33.664Z"
   },
   {
    "duration": 11,
    "start_time": "2023-12-04T21:22:33.955Z"
   },
   {
    "duration": 134,
    "start_time": "2023-12-04T21:22:33.968Z"
   },
   {
    "duration": 7,
    "start_time": "2023-12-04T21:22:34.103Z"
   },
   {
    "duration": 19,
    "start_time": "2023-12-04T21:22:34.112Z"
   },
   {
    "duration": 210,
    "start_time": "2023-12-04T21:22:34.133Z"
   },
   {
    "duration": 6,
    "start_time": "2023-12-04T21:22:34.345Z"
   },
   {
    "duration": 10,
    "start_time": "2023-12-04T21:22:34.352Z"
   },
   {
    "duration": 10,
    "start_time": "2023-12-04T21:22:34.363Z"
   },
   {
    "duration": 15,
    "start_time": "2023-12-04T21:22:34.375Z"
   },
   {
    "duration": 12,
    "start_time": "2023-12-04T21:22:34.392Z"
   },
   {
    "duration": 31,
    "start_time": "2023-12-04T21:22:34.405Z"
   },
   {
    "duration": 7,
    "start_time": "2023-12-04T21:22:34.438Z"
   },
   {
    "duration": 10,
    "start_time": "2023-12-04T21:22:34.447Z"
   },
   {
    "duration": 6,
    "start_time": "2023-12-04T21:22:34.459Z"
   },
   {
    "duration": 7,
    "start_time": "2023-12-04T21:22:34.467Z"
   },
   {
    "duration": 30,
    "start_time": "2023-12-04T21:22:34.475Z"
   },
   {
    "duration": 25,
    "start_time": "2023-12-04T21:22:34.506Z"
   },
   {
    "duration": 10,
    "start_time": "2023-12-04T21:22:34.533Z"
   },
   {
    "duration": 6,
    "start_time": "2023-12-04T21:22:34.545Z"
   },
   {
    "duration": 18,
    "start_time": "2023-12-04T21:22:34.553Z"
   },
   {
    "duration": 11,
    "start_time": "2023-12-04T21:22:34.573Z"
   },
   {
    "duration": 7,
    "start_time": "2023-12-04T21:22:34.586Z"
   },
   {
    "duration": 12,
    "start_time": "2023-12-04T21:22:34.595Z"
   },
   {
    "duration": 5,
    "start_time": "2023-12-04T21:22:34.609Z"
   },
   {
    "duration": 5,
    "start_time": "2023-12-04T21:22:34.631Z"
   },
   {
    "duration": 1203,
    "start_time": "2023-12-04T21:24:22.056Z"
   },
   {
    "duration": 28,
    "start_time": "2023-12-04T21:24:23.261Z"
   },
   {
    "duration": 12,
    "start_time": "2023-12-04T21:24:23.291Z"
   },
   {
    "duration": 4,
    "start_time": "2023-12-04T21:24:23.306Z"
   },
   {
    "duration": 20,
    "start_time": "2023-12-04T21:24:23.312Z"
   },
   {
    "duration": 11,
    "start_time": "2023-12-04T21:24:23.334Z"
   },
   {
    "duration": 12,
    "start_time": "2023-12-04T21:24:23.347Z"
   },
   {
    "duration": 53,
    "start_time": "2023-12-04T21:24:23.361Z"
   },
   {
    "duration": 11,
    "start_time": "2023-12-04T21:24:23.415Z"
   },
   {
    "duration": 18,
    "start_time": "2023-12-04T21:24:23.430Z"
   },
   {
    "duration": 18,
    "start_time": "2023-12-04T21:24:23.451Z"
   },
   {
    "duration": 16,
    "start_time": "2023-12-04T21:24:23.471Z"
   },
   {
    "duration": 33,
    "start_time": "2023-12-04T21:24:23.488Z"
   },
   {
    "duration": 32,
    "start_time": "2023-12-04T21:24:23.523Z"
   },
   {
    "duration": 30,
    "start_time": "2023-12-04T21:24:23.557Z"
   },
   {
    "duration": 25,
    "start_time": "2023-12-04T21:24:23.590Z"
   },
   {
    "duration": 21,
    "start_time": "2023-12-04T21:24:23.618Z"
   },
   {
    "duration": 38,
    "start_time": "2023-12-04T21:24:23.641Z"
   },
   {
    "duration": 18,
    "start_time": "2023-12-04T21:24:23.680Z"
   },
   {
    "duration": 14,
    "start_time": "2023-12-04T21:24:23.700Z"
   },
   {
    "duration": 21,
    "start_time": "2023-12-04T21:24:23.715Z"
   },
   {
    "duration": 25,
    "start_time": "2023-12-04T21:24:23.738Z"
   },
   {
    "duration": 283,
    "start_time": "2023-12-04T21:24:23.764Z"
   },
   {
    "duration": 4,
    "start_time": "2023-12-04T21:24:24.049Z"
   },
   {
    "duration": 30,
    "start_time": "2023-12-04T21:24:24.055Z"
   },
   {
    "duration": 18,
    "start_time": "2023-12-04T21:24:24.086Z"
   },
   {
    "duration": 17,
    "start_time": "2023-12-04T21:24:24.106Z"
   },
   {
    "duration": 6,
    "start_time": "2023-12-04T21:24:24.127Z"
   },
   {
    "duration": 6,
    "start_time": "2023-12-04T21:24:24.135Z"
   },
   {
    "duration": 19,
    "start_time": "2023-12-04T21:24:24.143Z"
   },
   {
    "duration": 14,
    "start_time": "2023-12-04T21:24:24.164Z"
   },
   {
    "duration": 24,
    "start_time": "2023-12-04T21:24:24.180Z"
   },
   {
    "duration": 31,
    "start_time": "2023-12-04T21:24:24.205Z"
   },
   {
    "duration": 18,
    "start_time": "2023-12-04T21:24:24.238Z"
   },
   {
    "duration": 30,
    "start_time": "2023-12-04T21:24:24.257Z"
   },
   {
    "duration": 25,
    "start_time": "2023-12-04T21:24:24.288Z"
   },
   {
    "duration": 18,
    "start_time": "2023-12-04T21:24:24.315Z"
   },
   {
    "duration": 17,
    "start_time": "2023-12-04T21:24:24.334Z"
   },
   {
    "duration": 17,
    "start_time": "2023-12-04T21:24:24.353Z"
   },
   {
    "duration": 168,
    "start_time": "2023-12-04T21:24:24.372Z"
   },
   {
    "duration": 128,
    "start_time": "2023-12-04T21:24:24.542Z"
   },
   {
    "duration": 12,
    "start_time": "2023-12-04T21:24:24.672Z"
   },
   {
    "duration": 28,
    "start_time": "2023-12-04T21:24:24.686Z"
   },
   {
    "duration": 207,
    "start_time": "2023-12-04T21:24:24.716Z"
   },
   {
    "duration": 195,
    "start_time": "2023-12-04T21:24:24.925Z"
   },
   {
    "duration": 12,
    "start_time": "2023-12-04T21:24:25.122Z"
   },
   {
    "duration": 301,
    "start_time": "2023-12-04T21:24:25.136Z"
   },
   {
    "duration": 4,
    "start_time": "2023-12-04T21:24:25.438Z"
   },
   {
    "duration": 22,
    "start_time": "2023-12-04T21:24:25.444Z"
   },
   {
    "duration": 215,
    "start_time": "2023-12-04T21:24:25.467Z"
   },
   {
    "duration": 7,
    "start_time": "2023-12-04T21:24:25.683Z"
   },
   {
    "duration": 314,
    "start_time": "2023-12-04T21:24:25.692Z"
   },
   {
    "duration": 11,
    "start_time": "2023-12-04T21:24:26.008Z"
   },
   {
    "duration": 137,
    "start_time": "2023-12-04T21:24:26.021Z"
   },
   {
    "duration": 7,
    "start_time": "2023-12-04T21:24:26.159Z"
   },
   {
    "duration": 24,
    "start_time": "2023-12-04T21:24:26.168Z"
   },
   {
    "duration": 216,
    "start_time": "2023-12-04T21:24:26.194Z"
   },
   {
    "duration": 6,
    "start_time": "2023-12-04T21:24:26.412Z"
   },
   {
    "duration": 20,
    "start_time": "2023-12-04T21:24:26.419Z"
   },
   {
    "duration": 33,
    "start_time": "2023-12-04T21:24:26.440Z"
   },
   {
    "duration": 12,
    "start_time": "2023-12-04T21:24:26.474Z"
   },
   {
    "duration": 27,
    "start_time": "2023-12-04T21:24:26.487Z"
   },
   {
    "duration": 16,
    "start_time": "2023-12-04T21:24:26.516Z"
   },
   {
    "duration": 8,
    "start_time": "2023-12-04T21:24:26.534Z"
   },
   {
    "duration": 20,
    "start_time": "2023-12-04T21:24:26.544Z"
   },
   {
    "duration": 6,
    "start_time": "2023-12-04T21:24:26.565Z"
   },
   {
    "duration": 12,
    "start_time": "2023-12-04T21:24:26.573Z"
   },
   {
    "duration": 29,
    "start_time": "2023-12-04T21:24:26.586Z"
   },
   {
    "duration": 8,
    "start_time": "2023-12-04T21:24:26.617Z"
   },
   {
    "duration": 9,
    "start_time": "2023-12-04T21:24:26.631Z"
   },
   {
    "duration": 4,
    "start_time": "2023-12-04T21:24:26.642Z"
   },
   {
    "duration": 9,
    "start_time": "2023-12-04T21:24:26.647Z"
   },
   {
    "duration": 10,
    "start_time": "2023-12-04T21:24:26.657Z"
   },
   {
    "duration": 13,
    "start_time": "2023-12-04T21:24:26.669Z"
   },
   {
    "duration": 16,
    "start_time": "2023-12-04T21:24:26.683Z"
   },
   {
    "duration": 6,
    "start_time": "2023-12-04T21:24:26.701Z"
   },
   {
    "duration": 24,
    "start_time": "2023-12-04T21:24:26.708Z"
   }
  ],
  "kernelspec": {
   "display_name": "Python 3 (ipykernel)",
   "language": "python",
   "name": "python3"
  },
  "language_info": {
   "codemirror_mode": {
    "name": "ipython",
    "version": 3
   },
   "file_extension": ".py",
   "mimetype": "text/x-python",
   "name": "python",
   "nbconvert_exporter": "python",
   "pygments_lexer": "ipython3",
   "version": "3.11.5"
  },
  "toc": {
   "base_numbering": 1,
   "nav_menu": {},
   "number_sections": true,
   "sideBar": true,
   "skip_h1_title": true,
   "title_cell": "Table of Contents",
   "title_sidebar": "Contents",
   "toc_cell": false,
   "toc_position": {
    "height": "calc(100% - 180px)",
    "left": "10px",
    "top": "150px",
    "width": "165px"
   },
   "toc_section_display": true,
   "toc_window_display": true
  },
  "toc-autonumbering": true
 },
 "nbformat": 4,
 "nbformat_minor": 4
}
